{
 "cells": [
  {
   "cell_type": "code",
   "execution_count": 734,
   "outputs": [],
   "source": [
    "import numpy\n",
    "import numpy as np\n",
    "import pandas\n",
    "import pandas as pd\n",
    "import os\n",
    "import json\n",
    "import matplotlib as mpl\n",
    "import matplotlib.pyplot as plt\n",
    "import seaborn as sns\n",
    "import missingno as msno\n",
    "from scipy.spatial.distance import cityblock\n",
    "#from sklearn.decomposition import PCA\n",
    "#from sklearn.cluster import KMeans\n",
    "\n",
    "inline_rc = dict(mpl.rcParams)"
   ],
   "metadata": {
    "collapsed": false
   }
  },
  {
   "cell_type": "markdown",
   "source": [
    "CARGAMOS LOS DATOS DE yelp_academic_dataset_review.json"
   ],
   "metadata": {
    "collapsed": false
   }
  },
  {
   "cell_type": "code",
   "execution_count": 735,
   "outputs": [
    {
     "name": "stdout",
     "output_type": "stream",
     "text": [
      "                review_id                 user_id             business_id  \\\n",
      "0  KU_O5udG6zpxOg-VcAEodg  mh_-eMZ6K5RLWhZyISBhwA  XQfwVwDr-v0ZS3_CbbE5Xw   \n",
      "1  BiTunyQ73aT9WBnpR9DZGw  OyoGAe7OKpv6SyGZT5g77Q  7ATYjTIgM3jUlt4UM3IypQ   \n",
      "2  saUsX_uimxRlCVr67Z4Jig  8g_iMtfSiwikVnbP2etR0A  YjUWPpI6HXG530lwP-fb2A   \n",
      "3  AqPFMleE6RsU23_auESxiA  _7bHUi9Uuf5__HHc_Q8guQ  kxX2SOes4o-D3ZQBkiMRfA   \n",
      "4  Sx8TMOWLNuJBWer-0pcmoA  bcjbaE6dDog4jkNY91ncLQ  e4Vwtrqf-wpJfwesgvdgxQ   \n",
      "\n",
      "   stars  useful  funny  cool  \\\n",
      "0    3.0       0      0     0   \n",
      "1    5.0       1      0     1   \n",
      "2    3.0       0      0     0   \n",
      "3    5.0       1      0     1   \n",
      "4    4.0       1      0     1   \n",
      "\n",
      "                                                text                 date  \n",
      "0  If you decide to eat here, just be aware it is...  2018-07-07 22:09:11  \n",
      "1  I've taken a lot of spin classes over the year...  2012-01-03 15:28:18  \n",
      "2  Family diner. Had the buffet. Eclectic assortm...  2014-02-05 20:30:30  \n",
      "3  Wow!  Yummy, different,  delicious.   Our favo...  2015-01-04 00:01:03  \n",
      "4  Cute interior and owner (?) gave us tour of up...  2017-01-14 20:54:15  \n"
     ]
    },
    {
     "data": {
      "text/plain": "\"\\n\\ndf_review = pd.read_csv('data/yelp_reviews.csv')\\nprint(df_review)\\n\\n\""
     },
     "execution_count": 735,
     "metadata": {},
     "output_type": "execute_result"
    }
   ],
   "source": [
    "\n",
    "reviews = []\n",
    "with open('data/yelp_academic_dataset_review.json') as fl:\n",
    "    i=0\n",
    "    for review in fl:\n",
    "        reviews.append(json.loads(review))\n",
    "        i+=1\n",
    "        if i + 1 > 100:\n",
    "            break\n",
    "\n",
    "df_review = pd.DataFrame(reviews)\n",
    "print(df_review.head())\n",
    "\n",
    "\"\"\"\n",
    "\n",
    "df_review = pd.read_csv('data/yelp_reviews.csv')\n",
    "print(df_review)\n",
    "\n",
    "\"\"\""
   ],
   "metadata": {
    "collapsed": false
   }
  },
  {
   "cell_type": "markdown",
   "source": [
    "CARGAMOS LOS DATOS DE yelp_academic_dataset_business.json"
   ],
   "metadata": {
    "collapsed": false
   }
  },
  {
   "cell_type": "code",
   "execution_count": 736,
   "outputs": [
    {
     "data": {
      "text/plain": "\"business = []\\nwith open('data/yelp_academic_dataset_business.json') as fl:\\n    for i, line in enumerate(fl):\\n        business.append(json.loads(line))\\n\\ndf_business = pd.DataFrame(business)\\nprint(df_business.head())\\n\""
     },
     "execution_count": 736,
     "metadata": {},
     "output_type": "execute_result"
    }
   ],
   "source": [
    "'''business = []\n",
    "with open('data/yelp_academic_dataset_business.json') as fl:\n",
    "    for i, line in enumerate(fl):\n",
    "        business.append(json.loads(line))\n",
    "\n",
    "df_business = pd.DataFrame(business)\n",
    "print(df_business.head())\n",
    "'''\n"
   ],
   "metadata": {
    "collapsed": false
   }
  },
  {
   "cell_type": "markdown",
   "source": [
    "ELIMINAMOS LAS COLUMNAS INNECESARIAS"
   ],
   "metadata": {
    "collapsed": false
   }
  },
  {
   "cell_type": "markdown",
   "source": [
    "COMPROBAMOS"
   ],
   "metadata": {
    "collapsed": false
   }
  },
  {
   "cell_type": "code",
   "execution_count": 737,
   "outputs": [],
   "source": [
    "df_review = df_review.drop([\"review_id\", \"user_id\",\"business_id\", \"useful\", \"funny\", \"cool\", \"date\",\"stars\"], axis=1)\n",
    "#df_business = df_business.drop([\"name\", \"address\", \"city\", \"state\", \"postal_code\", \"latitude\", \"longitude\", \"stars\", \"review_count\", \"is_open\", \"attributes\", \"hours\"], axis=1)"
   ],
   "metadata": {
    "collapsed": false
   }
  },
  {
   "cell_type": "code",
   "execution_count": 738,
   "outputs": [
    {
     "name": "stdout",
     "output_type": "stream",
     "text": [
      "                                                text\n",
      "0  If you decide to eat here, just be aware it is...\n",
      "1  I've taken a lot of spin classes over the year...\n",
      "2  Family diner. Had the buffet. Eclectic assortm...\n",
      "3  Wow!  Yummy, different,  delicious.   Our favo...\n",
      "4  Cute interior and owner (?) gave us tour of up...\n",
      "                                                 text\n",
      "95  Had to wait until my third trip to NOLA to act...\n",
      "96  A GREAT EXPERIENCE!!!!!!!!!  I was a completel...\n",
      "97  Wow! I never thought my sons phone could be re...\n",
      "98  Service and management terrible... After messi...\n",
      "99  I have been to a number of dog friendly hotels...\n"
     ]
    }
   ],
   "source": [
    "print(df_review.head())\n",
    "print(df_review.tail())\n",
    "#print(df_business.head())"
   ],
   "metadata": {
    "collapsed": false
   }
  },
  {
   "cell_type": "code",
   "execution_count": 739,
   "outputs": [
    {
     "name": "stdout",
     "output_type": "stream",
     "text": [
      "  (0, 1139)\t0.19606453697664555\n",
      "  (0, 998)\t0.12150216086199521\n",
      "  (0, 1568)\t0.1595645184258279\n",
      "  (0, 1189)\t0.11081598872622064\n",
      "  (0, 411)\t0.16845333883963365\n",
      "  (0, 994)\t0.19606453697664555\n",
      "  (0, 1548)\t0.16845333883963365\n",
      "  (0, 1562)\t0.1281566832500192\n",
      "  (0, 1338)\t0.16845333883963365\n",
      "  (0, 1080)\t0.16845333883963365\n",
      "  (0, 1518)\t0.29232260423961864\n",
      "  (0, 1608)\t0.19606453697664555\n",
      "  (0, 1550)\t0.17991302146651175\n",
      "  (0, 291)\t0.13195332028881596\n",
      "  (0, 842)\t0.2723006156387319\n",
      "  (0, 625)\t0.08439396960287342\n",
      "  (0, 566)\t0.07574730518480213\n",
      "  (0, 505)\t0.23710020796559475\n",
      "  (0, 110)\t0.16845333883963365\n",
      "  (0, 962)\t0.19606453697664555\n",
      "  (0, 838)\t0.1281566832500192\n",
      "  (0, 818)\t0.0895410593113517\n",
      "  (0, 1556)\t0.1281566832500192\n",
      "  (0, 1460)\t0.17376887835582408\n",
      "  (0, 937)\t0.17991302146651175\n",
      "  :\t:\n",
      "  (99, 1485)\t0.172787011274669\n",
      "  (99, 682)\t0.0863935056373345\n",
      "  (99, 407)\t0.0863935056373345\n",
      "  (99, 626)\t0.059875934174642854\n",
      "  (99, 706)\t0.0863935056373345\n",
      "  (99, 335)\t0.07662223673291081\n",
      "  (99, 142)\t0.07662223673291081\n",
      "  (99, 428)\t0.38311118366455404\n",
      "  (99, 248)\t0.08089061236392271\n",
      "  (99, 959)\t0.06336345100156499\n",
      "  (99, 1262)\t0.04828153551151376\n",
      "  (99, 482)\t0.07313471990598867\n",
      "  (99, 269)\t0.14626943981197735\n",
      "  (99, 786)\t0.059875934174642854\n",
      "  (99, 1571)\t0.06336345100156499\n",
      "  (99, 1543)\t0.17453992248563588\n",
      "  (99, 406)\t0.05437304090123107\n",
      "  (99, 692)\t0.3509303322160677\n",
      "  (99, 587)\t0.15964016948891432\n",
      "  (99, 460)\t0.07313471990598867\n",
      "  (99, 957)\t0.05212004171670882\n",
      "  (99, 1518)\t0.07018606644321354\n",
      "  (99, 291)\t0.06336345100156499\n",
      "  (99, 818)\t0.08599450945053545\n",
      "  (99, 766)\t0.042997254725267726\n",
      "1614\n"
     ]
    },
    {
     "name": "stderr",
     "output_type": "stream",
     "text": [
      "/home/hugo/anaconda3/envs/env3.10/lib/python3.8/site-packages/sklearn/utils/deprecation.py:87: FutureWarning:\n",
      "\n",
      "Function get_feature_names is deprecated; get_feature_names is deprecated in 1.0 and will be removed in 1.2. Please use get_feature_names_out instead.\n",
      "\n"
     ]
    }
   ],
   "source": [
    "from sklearn.feature_extraction.text import TfidfVectorizer\n",
    "from nltk.tokenize import word_tokenize\n",
    "from nltk.stem import WordNetLemmatizer\n",
    "\n",
    "vectorizer = TfidfVectorizer(stop_words='english')\n",
    "lemma = WordNetLemmatizer()\n",
    "\n",
    "words = []\n",
    "for r in df_review[\"text\"]: #Por cada review\n",
    "    txt = word_tokenize(r.lower()) #Separa la review en palabras\n",
    "    newtxt = \"\"\n",
    "    for w in txt: #Por cada palabra en txt\n",
    "        l = lemma.lemmatize(w) #se hace lo de quitar mayusculas y quitar raice y eso\n",
    "        newtxt += l+\" \"\n",
    "    words.append(newtxt)\n",
    "\n",
    "X = vectorizer.fit_transform(words)\n",
    "bow = vectorizer.get_feature_names()\n",
    "\n",
    "print(X)\n",
    "print(len(bow))"
   ],
   "metadata": {
    "collapsed": false
   }
  },
  {
   "cell_type": "code",
   "execution_count": 740,
   "outputs": [],
   "source": [
    "X = X.toarray()\n",
    "X = pd.DataFrame(X)"
   ],
   "metadata": {
    "collapsed": false
   }
  },
  {
   "cell_type": "code",
   "execution_count": 741,
   "outputs": [],
   "source": [
    "from sklearn.decomposition import PCA\n",
    "from scipy.spatial.distance import cityblock\n",
    "from scipy.spatial import distance\n",
    "\n",
    "def createDistanceMatrix(samples, numAtributes, distanceType):\n",
    "\n",
    "    pca = PCA(n_components=numAtributes)\n",
    "    pca.fit(samples)\n",
    "    samples = pca.transform(samples)\n",
    "\n",
    "    distance_matrix = np.zeros((len(samples),len(samples)))\n",
    "    terminado = False\n",
    "    i = 0\n",
    "    j = 0\n",
    "    for i in range(distance_matrix.shape[0]):\n",
    "        for j in range(i,distance_matrix.shape[0]):\n",
    "            if i!=j:\n",
    "                if (distanceType == 'manhattan'):\n",
    "                    distancia = float(cityblock(samples[i],samples[j]))\n",
    "                elif(distanceType == 'euclidean'):\n",
    "                    distancia = float(distance.euclidean(samples[i],samples[j]))\n",
    "                else:\n",
    "                    distancia = float(distance.minkowski(samples[i],samples[j]))\n",
    "                distance_matrix[i,j] = distancia #Meto en la matriz la distancia do vece\n",
    "                distance_matrix[j,i] = distancia\n",
    "            elif i == j:\n",
    "                distance_matrix[i,j] = 10**4 #Pone un valor muy grande para que nunca salga como la distancia más pequeña entrela misma instancia\n",
    "    distance_matrix = pd.DataFrame(distance_matrix)\n",
    "    return distance_matrix\n",
    "\n",
    "def calculateMin(distance_matrix):\n",
    "    minimumValues=np.matrix(distance_matrix).argmin(axis = 1).tolist()\n",
    "    minn=distance_matrix.iloc[minimumValues[0][0],0]\n",
    "    y=0\n",
    "    x=minimumValues[0][0]\n",
    "\n",
    "    for i in range(1,len(minimumValues)-1):\n",
    "        if distance_matrix.iloc[minimumValues[i][0],i] < minn:\n",
    "            minn=distance_matrix.iloc[minimumValues[i][0],i]\n",
    "            x=minimumValues[i][0]\n",
    "            y=i\n",
    "\n",
    "    return x,y,minn\n",
    "\n",
    "def mergeClusters(distance_matrix,newValues,x,y):\n",
    "\n",
    "        if x>y:\n",
    "            label = str(distance_matrix.columns[y]) + '-' + str(distance_matrix.columns[x])\n",
    "            distance_matrix = distance_matrix.drop([distance_matrix.iloc[x].name], axis=1) #Quito las filas y columnas de las instancias que se han mergeado\n",
    "            distance_matrix = distance_matrix.drop([distance_matrix.iloc[x].name], axis=0)\n",
    "            distance_matrix = distance_matrix.rename({distance_matrix.iloc[y].name:  label}, axis='columns')\n",
    "            distance_matrix = distance_matrix.rename({distance_matrix.iloc[y].name:  label}, axis='rows')\n",
    "        else:\n",
    "            label = str(distance_matrix.columns[y]) + '-' + str(distance_matrix.columns[x])\n",
    "            distance_matrix = distance_matrix.drop([distance_matrix.iloc[y].name], axis=1) #Quito las filas y columnas de las instancias que se han mergeado\n",
    "            distance_matrix = distance_matrix.drop([distance_matrix.iloc[y].name], axis=0)\n",
    "            distance_matrix = distance_matrix.rename({distance_matrix.iloc[x].name:  label}, axis='columns')\n",
    "            distance_matrix = distance_matrix.rename({distance_matrix.iloc[x].name:  label}, axis='rows')\n",
    "\n",
    "        distance_matrix.loc[label]=newValues\n",
    "        distance_matrix.loc[:, label]=newValues\n",
    "\n",
    "        return distance_matrix"
   ],
   "metadata": {
    "collapsed": false
   }
  },
  {
   "cell_type": "code",
   "execution_count": 742,
   "outputs": [],
   "source": [
    "def completeLink(node1,node2,minn,lenMatrix):\n",
    "    deleted = False\n",
    "    newValues = []\n",
    "    for i in range(0,lenMatrix):\n",
    "        if((node1[i] == minn or node2[i] == minn) and not deleted):\n",
    "            newValues.append(float(10**4))\n",
    "            deleted = True\n",
    "        elif((node1[i] == minn or node2[i] == minn) and deleted):\n",
    "            pass\n",
    "        elif(node1[i]>=node2[i]):\n",
    "                newValues.append(float(node1[i]))\n",
    "        else:\n",
    "                newValues.append(float(node2[i]))\n",
    "\n",
    "    return newValues\n",
    "\n",
    "def singleLink(node1,node2,minn,lenMatrix):\n",
    "    deleted = False\n",
    "    newValues = []\n",
    "    for i in range(0,lenMatrix):\n",
    "        if((node1[i] == minn or node2[i] == minn) and not deleted):\n",
    "            newValues.append(float(10**4))\n",
    "            deleted = True\n",
    "        elif((node1[i] == minn or node2[i] == minn) and deleted):\n",
    "            pass\n",
    "        elif(node1[i]<=node2[i]):\n",
    "                newValues.append(float(node1[i]))\n",
    "        else:\n",
    "                newValues.append(float(node2[i]))\n",
    "\n",
    "    return newValues\n",
    "\n",
    "def averageLink(node1,node2,minn,lenMatrix):\n",
    "    deleted = False\n",
    "    newValues = []\n",
    "    for i in range(0,lenMatrix):\n",
    "        if((node1[i] == minn or node2[i] == minn) and not deleted):\n",
    "            newValues.append(float(10**4))\n",
    "            deleted = True\n",
    "        elif((node1[i] == minn or node2[i] == minn) and deleted):\n",
    "            pass\n",
    "\n",
    "        else:\n",
    "                newValues.append((node1[i]+node2[i])/2)\n",
    "\n",
    "    return newValues"
   ],
   "metadata": {
    "collapsed": false
   }
  },
  {
   "cell_type": "code",
   "execution_count": 743,
   "outputs": [],
   "source": [
    "def hierarchicalClustering(distance_matrix,linkType, nClusters):\n",
    "\n",
    "    print(distance_matrix)\n",
    "\n",
    "    for samples in range(1, len(distance_matrix)-nClusters+1):\n",
    "        print('-----------------------------')\n",
    "        print('iteración número:', samples)\n",
    "\n",
    "        x,y,minn = calculateMin(distance_matrix)\n",
    "\n",
    "        node1 = distance_matrix.iloc[y].array\n",
    "        node2 = distance_matrix.iloc[x].array\n",
    "\n",
    "        if linkType == 'single':\n",
    "            newValues = singleLink(node1,node2,minn,len(distance_matrix))\n",
    "        elif linkType == 'complete':\n",
    "            newValues = completeLink(node1,node2,minn,len(distance_matrix))\n",
    "        elif linkType == 'average':\n",
    "            newValues = averageLink(node1,node2,minn,len(distance_matrix))\n",
    "\n",
    "        distance_matrix = mergeClusters(distance_matrix,newValues,x,y)\n",
    "\n",
    "\n",
    "        #print('La matriz de distancias después de la iteración', samples)\n",
    "        #print(distance_matrix)\n",
    "        #print('-----------------------------')\n",
    "\n",
    "    return distance_matrix"
   ],
   "metadata": {
    "collapsed": false
   }
  },
  {
   "cell_type": "code",
   "execution_count": 744,
   "outputs": [
    {
     "name": "stdout",
     "output_type": "stream",
     "text": [
      "              0             1             2             3             4   \\\n",
      "0   10000.000000      0.318729      0.345428      0.378138      0.521251   \n",
      "1       0.318729  10000.000000      0.396860      0.171835      0.331632   \n",
      "2       0.345428      0.396860  10000.000000      0.509183      0.514498   \n",
      "3       0.378138      0.171835      0.509183  10000.000000      0.320630   \n",
      "4       0.521251      0.331632      0.514498      0.320630  10000.000000   \n",
      "..           ...           ...           ...           ...           ...   \n",
      "95      0.246741      0.136394      0.347570      0.171398      0.334920   \n",
      "96      0.277732      0.351521      0.486171      0.314512      0.538010   \n",
      "97      0.250804      0.200550      0.379792      0.279878      0.459200   \n",
      "98      0.293997      0.402029      0.515343      0.401289      0.566782   \n",
      "99      0.191984      0.263728      0.314677      0.282056      0.411479   \n",
      "\n",
      "          5         6         7         8         9   ...        90        91  \\\n",
      "0   0.203905  0.578432  0.460563  0.339363  0.339536  ...  0.699932  0.299492   \n",
      "1   0.344920  0.336284  0.310964  0.165875  0.541405  ...  0.732409  0.280930   \n",
      "2   0.433402  0.687687  0.355110  0.398423  0.531704  ...  0.669765  0.366074   \n",
      "3   0.355196  0.226214  0.392069  0.215910  0.498934  ...  0.662760  0.281756   \n",
      "4   0.592457  0.348556  0.231108  0.331129  0.597620  ...  0.747100  0.263725   \n",
      "..       ...       ...       ...       ...       ...  ...       ...       ...   \n",
      "95  0.274311  0.369503  0.311602  0.194149  0.414546  ...  0.619758  0.199982   \n",
      "96  0.242988  0.464837  0.512763  0.421752  0.310821  ...  0.586404  0.376861   \n",
      "97  0.294774  0.427657  0.374532  0.331738  0.465139  ...  0.718000  0.350966   \n",
      "98  0.354230  0.514595  0.510780  0.503421  0.341301  ...  0.719710  0.425759   \n",
      "99  0.245543  0.470549  0.360068  0.299051  0.302602  ...  0.561129  0.212925   \n",
      "\n",
      "          92        93        94            95            96            97  \\\n",
      "0   0.254360  0.166019  0.387038      0.246741      0.277732      0.250804   \n",
      "1   0.240708  0.370604  0.526557      0.136394      0.351521      0.200550   \n",
      "2   0.299680  0.284179  0.431993      0.347570      0.486171      0.379792   \n",
      "3   0.263154  0.471063  0.499248      0.171398      0.314512      0.279878   \n",
      "4   0.316322  0.610764  0.610669      0.334920      0.538010      0.459200   \n",
      "..       ...       ...       ...           ...           ...           ...   \n",
      "95  0.123783  0.326221  0.399115  10000.000000      0.253288      0.177414   \n",
      "96  0.287174  0.375810  0.365005      0.253288  10000.000000      0.229909   \n",
      "97  0.252594  0.301079  0.485212      0.177414      0.229909  10000.000000   \n",
      "98  0.342818  0.402180  0.478014      0.326100      0.171210      0.239936   \n",
      "99  0.105282  0.284872  0.301061      0.134482      0.199079      0.206597   \n",
      "\n",
      "              98            99  \n",
      "0       0.293997      0.191984  \n",
      "1       0.402029      0.263728  \n",
      "2       0.515343      0.314677  \n",
      "3       0.401289      0.282056  \n",
      "4       0.566782      0.411479  \n",
      "..           ...           ...  \n",
      "95      0.326100      0.134482  \n",
      "96      0.171210      0.199079  \n",
      "97      0.239936      0.206597  \n",
      "98  10000.000000      0.267849  \n",
      "99      0.267849  10000.000000  \n",
      "\n",
      "[100 rows x 100 columns]\n",
      "-----------------------------\n",
      "iteración número: 1\n",
      "-----------------------------\n",
      "iteración número: 2\n",
      "-----------------------------\n",
      "iteración número: 3\n",
      "-----------------------------\n",
      "iteración número: 4\n",
      "-----------------------------\n",
      "iteración número: 5\n",
      "-----------------------------\n",
      "iteración número: 6\n",
      "-----------------------------\n",
      "iteración número: 7\n",
      "-----------------------------\n",
      "iteración número: 8\n",
      "-----------------------------\n",
      "iteración número: 9\n",
      "-----------------------------\n",
      "iteración número: 10\n",
      "-----------------------------\n",
      "iteración número: 11\n",
      "-----------------------------\n",
      "iteración número: 12\n",
      "-----------------------------\n",
      "iteración número: 13\n",
      "-----------------------------\n",
      "iteración número: 14\n",
      "-----------------------------\n",
      "iteración número: 15\n",
      "-----------------------------\n",
      "iteración número: 16\n",
      "-----------------------------\n",
      "iteración número: 17\n",
      "-----------------------------\n",
      "iteración número: 18\n",
      "-----------------------------\n",
      "iteración número: 19\n",
      "-----------------------------\n",
      "iteración número: 20\n",
      "-----------------------------\n",
      "iteración número: 21\n",
      "-----------------------------\n",
      "iteración número: 22\n",
      "-----------------------------\n",
      "iteración número: 23\n",
      "-----------------------------\n",
      "iteración número: 24\n",
      "-----------------------------\n",
      "iteración número: 25\n",
      "-----------------------------\n",
      "iteración número: 26\n",
      "-----------------------------\n",
      "iteración número: 27\n",
      "-----------------------------\n",
      "iteración número: 28\n",
      "-----------------------------\n",
      "iteración número: 29\n",
      "-----------------------------\n",
      "iteración número: 30\n",
      "-----------------------------\n",
      "iteración número: 31\n",
      "-----------------------------\n",
      "iteración número: 32\n",
      "-----------------------------\n",
      "iteración número: 33\n",
      "-----------------------------\n",
      "iteración número: 34\n",
      "-----------------------------\n",
      "iteración número: 35\n",
      "-----------------------------\n",
      "iteración número: 36\n",
      "-----------------------------\n",
      "iteración número: 37\n",
      "-----------------------------\n",
      "iteración número: 38\n",
      "-----------------------------\n",
      "iteración número: 39\n",
      "-----------------------------\n",
      "iteración número: 40\n",
      "-----------------------------\n",
      "iteración número: 41\n",
      "-----------------------------\n",
      "iteración número: 42\n",
      "-----------------------------\n",
      "iteración número: 43\n",
      "-----------------------------\n",
      "iteración número: 44\n",
      "-----------------------------\n",
      "iteración número: 45\n",
      "-----------------------------\n",
      "iteración número: 46\n",
      "-----------------------------\n",
      "iteración número: 47\n",
      "-----------------------------\n",
      "iteración número: 48\n",
      "-----------------------------\n",
      "iteración número: 49\n",
      "-----------------------------\n",
      "iteración número: 50\n",
      "-----------------------------\n",
      "iteración número: 51\n",
      "-----------------------------\n",
      "iteración número: 52\n",
      "-----------------------------\n",
      "iteración número: 53\n",
      "-----------------------------\n",
      "iteración número: 54\n",
      "-----------------------------\n",
      "iteración número: 55\n",
      "-----------------------------\n",
      "iteración número: 56\n",
      "-----------------------------\n",
      "iteración número: 57\n",
      "-----------------------------\n",
      "iteración número: 58\n",
      "-----------------------------\n",
      "iteración número: 59\n",
      "-----------------------------\n",
      "iteración número: 60\n",
      "-----------------------------\n",
      "iteración número: 61\n",
      "-----------------------------\n",
      "iteración número: 62\n",
      "-----------------------------\n",
      "iteración número: 63\n",
      "-----------------------------\n",
      "iteración número: 64\n",
      "-----------------------------\n",
      "iteración número: 65\n",
      "-----------------------------\n",
      "iteración número: 66\n",
      "-----------------------------\n",
      "iteración número: 67\n",
      "-----------------------------\n",
      "iteración número: 68\n",
      "-----------------------------\n",
      "iteración número: 69\n",
      "-----------------------------\n",
      "iteración número: 70\n",
      "-----------------------------\n",
      "iteración número: 71\n",
      "-----------------------------\n",
      "iteración número: 72\n",
      "-----------------------------\n",
      "iteración número: 73\n",
      "-----------------------------\n",
      "iteración número: 74\n",
      "-----------------------------\n",
      "iteración número: 75\n",
      "-----------------------------\n",
      "iteración número: 76\n",
      "-----------------------------\n",
      "iteración número: 77\n",
      "-----------------------------\n",
      "iteración número: 78\n",
      "-----------------------------\n",
      "iteración número: 79\n",
      "-----------------------------\n",
      "iteración número: 80\n",
      "-----------------------------\n",
      "iteración número: 81\n",
      "-----------------------------\n",
      "iteración número: 82\n",
      "-----------------------------\n",
      "iteración número: 83\n",
      "-----------------------------\n",
      "iteración número: 84\n",
      "-----------------------------\n",
      "iteración número: 85\n",
      "-----------------------------\n",
      "iteración número: 86\n",
      "-----------------------------\n",
      "iteración número: 87\n",
      "-----------------------------\n",
      "iteración número: 88\n",
      "-----------------------------\n",
      "iteración número: 89\n",
      "-----------------------------\n",
      "iteración número: 90\n",
      "-----------------------------\n",
      "iteración número: 91\n",
      "-----------------------------\n",
      "iteración número: 92\n",
      "-----------------------------\n",
      "iteración número: 93\n",
      "-----------------------------\n",
      "iteración número: 94\n",
      "-----------------------------\n",
      "iteración número: 95\n",
      "-----------------------------\n",
      "iteración número: 96\n"
     ]
    },
    {
     "data": {
      "text/plain": "                                                    0-45-93-5-23-43-68-75-34-63-76-72-9-13-27-94-24-21-79-50-44-60-57-82-65  \\\n0-45-93-5-23-43-68-75-34-63-76-72-9-13-27-94-24...                                       10000.000000                         \n1-22-18-35-88-3-8-12-14-31-62-55-16-17-99-29-37...                                           0.533172                         \n26-58-90-51                                                                                  0.609146                         \n59-69                                                                                        0.623409                         \n\n                                                    1-22-18-35-88-3-8-12-14-31-62-55-16-17-99-29-37-20-95-86-46-53-83-77-38-40-61-92-84-78-91-4-66-2-15-30-56-67-32-36-7-71-28-41-48-6-70-10-73-42-98-25-85-47-49-81-33-96-80-87-11-39-64-89-97-54-74-19-52  \\\n0-45-93-5-23-43-68-75-34-63-76-72-9-13-27-94-24...                                           0.533172                                                                                                                                                         \n1-22-18-35-88-3-8-12-14-31-62-55-16-17-99-29-37...                                       10000.000000                                                                                                                                                         \n26-58-90-51                                                                                  0.597732                                                                                                                                                         \n59-69                                                                                        0.546122                                                                                                                                                         \n\n                                                     26-58-90-51         59-69  \n0-45-93-5-23-43-68-75-34-63-76-72-9-13-27-94-24...      0.609146      0.623409  \n1-22-18-35-88-3-8-12-14-31-62-55-16-17-99-29-37...      0.597732      0.546122  \n26-58-90-51                                         10000.000000      0.687058  \n59-69                                                   0.687058  10000.000000  ",
      "text/html": "<div>\n<style scoped>\n    .dataframe tbody tr th:only-of-type {\n        vertical-align: middle;\n    }\n\n    .dataframe tbody tr th {\n        vertical-align: top;\n    }\n\n    .dataframe thead th {\n        text-align: right;\n    }\n</style>\n<table border=\"1\" class=\"dataframe\">\n  <thead>\n    <tr style=\"text-align: right;\">\n      <th></th>\n      <th>0-45-93-5-23-43-68-75-34-63-76-72-9-13-27-94-24-21-79-50-44-60-57-82-65</th>\n      <th>1-22-18-35-88-3-8-12-14-31-62-55-16-17-99-29-37-20-95-86-46-53-83-77-38-40-61-92-84-78-91-4-66-2-15-30-56-67-32-36-7-71-28-41-48-6-70-10-73-42-98-25-85-47-49-81-33-96-80-87-11-39-64-89-97-54-74-19-52</th>\n      <th>26-58-90-51</th>\n      <th>59-69</th>\n    </tr>\n  </thead>\n  <tbody>\n    <tr>\n      <th>0-45-93-5-23-43-68-75-34-63-76-72-9-13-27-94-24-21-79-50-44-60-57-82-65</th>\n      <td>10000.000000</td>\n      <td>0.533172</td>\n      <td>0.609146</td>\n      <td>0.623409</td>\n    </tr>\n    <tr>\n      <th>1-22-18-35-88-3-8-12-14-31-62-55-16-17-99-29-37-20-95-86-46-53-83-77-38-40-61-92-84-78-91-4-66-2-15-30-56-67-32-36-7-71-28-41-48-6-70-10-73-42-98-25-85-47-49-81-33-96-80-87-11-39-64-89-97-54-74-19-52</th>\n      <td>0.533172</td>\n      <td>10000.000000</td>\n      <td>0.597732</td>\n      <td>0.546122</td>\n    </tr>\n    <tr>\n      <th>26-58-90-51</th>\n      <td>0.609146</td>\n      <td>0.597732</td>\n      <td>10000.000000</td>\n      <td>0.687058</td>\n    </tr>\n    <tr>\n      <th>59-69</th>\n      <td>0.623409</td>\n      <td>0.546122</td>\n      <td>0.687058</td>\n      <td>10000.000000</td>\n    </tr>\n  </tbody>\n</table>\n</div>"
     },
     "execution_count": 744,
     "metadata": {},
     "output_type": "execute_result"
    }
   ],
   "source": [
    "linkType = 'average'\n",
    "distanceType = 'euclidean'\n",
    "nClusters = 4\n",
    "distance_matrix = hierarchicalClustering(createDistanceMatrix(X, 5, distanceType), linkType, nClusters)\n",
    "distance_matrix"
   ],
   "metadata": {
    "collapsed": false
   }
  },
  {
   "cell_type": "code",
   "execution_count": 745,
   "outputs": [
    {
     "name": "stdout",
     "output_type": "stream",
     "text": [
      "        0             1             2         3             4     \\\n",
      "65  0.000000  1.026584e-05  0.000000e+00  0.000000  0.000000e+00   \n",
      "52  0.000011  1.122481e-15  2.236188e-07  0.000026  1.378930e-15   \n",
      "51  0.000000  0.000000e+00  0.000000e+00  0.000000  0.000000e+00   \n",
      "69  0.000000  0.000000e+00  0.000000e+00  0.000000  0.000000e+00   \n",
      "\n",
      "            5             6         7             8         9     ...  \\\n",
      "65  0.000000e+00  3.292618e-08  0.000000  0.000000e+00  0.000000  ...   \n",
      "52  1.933651e-17  0.000000e+00  0.003596  3.704923e-09  0.008284  ...   \n",
      "51  0.000000e+00  0.000000e+00  0.000000  0.000000e+00  0.000000  ...   \n",
      "69  0.000000e+00  0.000000e+00  0.000000  0.000000e+00  0.000000  ...   \n",
      "\n",
      "        1604      1605          1606      1607          1608          1609  \\\n",
      "65  0.000018  0.000000  2.812583e-07  0.000003  1.168636e-08  0.000000e+00   \n",
      "52  0.032974  0.000048  0.000000e+00  0.000000  0.000000e+00  1.089879e-10   \n",
      "51  0.000000  0.010651  0.000000e+00  0.000000  0.000000e+00  0.000000e+00   \n",
      "69  0.000000  0.000000  0.000000e+00  0.000000  0.000000e+00  0.000000e+00   \n",
      "\n",
      "        1610          1611          1612          1613  \n",
      "65  0.000283  0.000000e+00  0.000000e+00  0.000000e+00  \n",
      "52  0.000006  1.590158e-07  2.661563e-13  6.124772e-21  \n",
      "51  0.000000  0.000000e+00  0.000000e+00  0.000000e+00  \n",
      "69  0.000000  0.000000e+00  0.000000e+00  0.000000e+00  \n",
      "\n",
      "[4 rows x 1614 columns]\n"
     ]
    }
   ],
   "source": [
    "centroids = []\n",
    "for label in distance_matrix.columns:\n",
    "    label = str(label).split('-')\n",
    "    centroid = X.iloc[int(label.pop())]\n",
    "    for i in label:\n",
    "        newInstance = X.iloc[int(i)]\n",
    "        for atr in range(0, len(centroid)):\n",
    "            centroid[atr] = ((centroid[atr] + newInstance[atr])/2)\n",
    "\n",
    "    centroids.append(centroid)\n",
    "\n",
    "centroids = pd.DataFrame(centroids)\n",
    "\n",
    "print(centroids)\n"
   ],
   "metadata": {
    "collapsed": false
   }
  },
  {
   "cell_type": "code",
   "execution_count": 746,
   "outputs": [
    {
     "name": "stdout",
     "output_type": "stream",
     "text": [
      "Palabras relevantes del topico 65: \n",
      "['local', 'place', 'dedicated', 'dedicated', 'dedicated', 'dedicated', 'beer', 'bartender', 'saw', 'plate', 'chain', 'cold', 'looked', 'good']\n",
      "-----------------------------------------------------------------------------\n",
      "Palabras relevantes del topico 52: \n",
      "['level', 'perfect', 'soup', 'job', 'wash', 'thank', 'business', 'business', 'business', 'business', 'did', 'absolute', 'just', 'satisfied']\n",
      "-----------------------------------------------------------------------------\n",
      "Palabras relevantes del topico 51: \n",
      "['thai', 'wa', 'coconut', 'soup', 'pad', 'used', 'great', 'carp', 'carp', 'carp', 'carp', 'change', 'change', 'change']\n",
      "-----------------------------------------------------------------------------\n",
      "Palabras relevantes del topico 69: \n",
      "['breakfast', 'impeccable', 'impeccable', 'service', 'family', 'weekend', '295', '295', 'highly', 'food', 'diner', 'diner', 'recommend', 'lunch']\n",
      "-----------------------------------------------------------------------------\n"
     ]
    }
   ],
   "source": [
    "# Visualizacion de los clusters\n",
    "\n",
    "for n in range(0, nClusters):\n",
    "    cluster = centroids.iloc[n].to_list()\n",
    "    clusterSort = np.sort(cluster)\n",
    "    relWords = []\n",
    "    for i in range(1, 15):\n",
    "        value = clusterSort[len(cluster)-i]\n",
    "        relWords.append(bow[cluster.index(value)])\n",
    "\n",
    "    print('Palabras relevantes del topico ' + str(list(centroids.index.values)[n]) + ': ')\n",
    "    print(relWords)\n",
    "    print('-----------------------------------------------------------------------------')\n"
   ],
   "metadata": {
    "collapsed": false
   }
  },
  {
   "cell_type": "code",
   "execution_count": 747,
   "outputs": [],
   "source": [
    "from sklearn.decomposition import PCA\n",
    "pca = PCA(n_components=5)\n",
    "pca.fit(X)\n",
    "# Cambio de base a dos dimensiones PCA\n",
    "X = pca.transform(X)"
   ],
   "metadata": {
    "collapsed": false
   }
  },
  {
   "cell_type": "code",
   "execution_count": 748,
   "outputs": [
    {
     "data": {
      "text/plain": "<Figure size 600x384 with 1 Axes>",
      "image/png": "[encoded data removed]"
     },
     "metadata": {},
     "output_type": "display_data"
    }
   ],
   "source": [
    "from sklearn.cluster import AgglomerativeClustering\n",
    "from sklearn.metrics import silhouette_score\n",
    "\n",
    "# Método silhouette para identificar el número óptimo de clusters\n",
    "# ==============================================================================\n",
    "range_n_clusters = range(2, 15)\n",
    "valores_medios_silhouette = []\n",
    "\n",
    "for n_clusters in range_n_clusters:\n",
    "    modelo = AgglomerativeClustering(\n",
    "                    affinity   = 'euclidean',\n",
    "                    linkage    = 'ward',\n",
    "                    n_clusters = n_clusters\n",
    "             )\n",
    "\n",
    "    cluster_labels = modelo.fit_predict(X)\n",
    "    silhouette_avg = silhouette_score(X, cluster_labels)\n",
    "    valores_medios_silhouette.append(silhouette_avg)\n",
    "\n",
    "fig, ax = plt.subplots(1, 1, figsize=(6, 3.84))\n",
    "ax.plot(range_n_clusters, valores_medios_silhouette, marker='o')\n",
    "ax.set_title(\"Evolución de media de los índices silhouette\")\n",
    "ax.set_xlabel('Número clusters')\n",
    "ax.set_ylabel('Media índices silhouette');"
   ],
   "metadata": {
    "collapsed": false
   }
  },
  {
   "cell_type": "code",
   "execution_count": 749,
   "outputs": [
    {
     "data": {
      "application/vnd.plotly.v1+json": {
       "data": [
        {
         "hoverinfo": "text",
         "marker": {
          "color": "rgb(61,153,112)"
         },
         "mode": "lines",
         "x": [
          5.0,
          5.0,
          15.0,
          15.0
         ],
         "xaxis": "x",
         "y": [
          0.0,
          0.23330074709348247,
          0.23330074709348247,
          0.0
         ],
         "yaxis": "y",
         "type": "scatter"
        },
        {
         "hoverinfo": "text",
         "marker": {
          "color": "rgb(255,65,54)"
         },
         "mode": "lines",
         "x": [
          45.0,
          45.0,
          55.0,
          55.0
         ],
         "xaxis": "x",
         "y": [
          0.0,
          0.12024032393435674,
          0.12024032393435674,
          0.0
         ],
         "yaxis": "y",
         "type": "scatter"
        },
        {
         "hoverinfo": "text",
         "marker": {
          "color": "rgb(255,65,54)"
         },
         "mode": "lines",
         "x": [
          35.0,
          35.0,
          50.0,
          50.0
         ],
         "xaxis": "x",
         "y": [
          0.0,
          0.17581939107071332,
          0.17581939107071332,
          0.12024032393435674
         ],
         "yaxis": "y",
         "type": "scatter"
        },
        {
         "hoverinfo": "text",
         "marker": {
          "color": "rgb(255,65,54)"
         },
         "mode": "lines",
         "x": [
          25.0,
          25.0,
          42.5,
          42.5
         ],
         "xaxis": "x",
         "y": [
          0.0,
          0.41540972599389314,
          0.41540972599389314,
          0.17581939107071332
         ],
         "yaxis": "y",
         "type": "scatter"
        },
        {
         "hoverinfo": "text",
         "marker": {
          "color": "rgb(35,205,205)"
         },
         "mode": "lines",
         "x": [
          75.0,
          75.0,
          85.0,
          85.0
         ],
         "xaxis": "x",
         "y": [
          0.0,
          0.07734740185826904,
          0.07734740185826904,
          0.0
         ],
         "yaxis": "y",
         "type": "scatter"
        },
        {
         "hoverinfo": "text",
         "marker": {
          "color": "rgb(35,205,205)"
         },
         "mode": "lines",
         "x": [
          105.0,
          105.0,
          115.0,
          115.0
         ],
         "xaxis": "x",
         "y": [
          0.0,
          0.05905192404559527,
          0.05905192404559527,
          0.0
         ],
         "yaxis": "y",
         "type": "scatter"
        },
        {
         "hoverinfo": "text",
         "marker": {
          "color": "rgb(35,205,205)"
         },
         "mode": "lines",
         "x": [
          95.0,
          95.0,
          110.0,
          110.0
         ],
         "xaxis": "x",
         "y": [
          0.0,
          0.08279095038848572,
          0.08279095038848572,
          0.05905192404559527
         ],
         "yaxis": "y",
         "type": "scatter"
        },
        {
         "hoverinfo": "text",
         "marker": {
          "color": "rgb(35,205,205)"
         },
         "mode": "lines",
         "x": [
          125.0,
          125.0,
          135.0,
          135.0
         ],
         "xaxis": "x",
         "y": [
          0.0,
          0.09821384247736326,
          0.09821384247736326,
          0.0
         ],
         "yaxis": "y",
         "type": "scatter"
        },
        {
         "hoverinfo": "text",
         "marker": {
          "color": "rgb(35,205,205)"
         },
         "mode": "lines",
         "x": [
          102.5,
          102.5,
          130.0,
          130.0
         ],
         "xaxis": "x",
         "y": [
          0.08279095038848572,
          0.14645772703025034,
          0.14645772703025034,
          0.09821384247736326
         ],
         "yaxis": "y",
         "type": "scatter"
        },
        {
         "hoverinfo": "text",
         "marker": {
          "color": "rgb(35,205,205)"
         },
         "mode": "lines",
         "x": [
          155.0,
          155.0,
          165.0,
          165.0
         ],
         "xaxis": "x",
         "y": [
          0.0,
          0.06759488531250206,
          0.06759488531250206,
          0.0
         ],
         "yaxis": "y",
         "type": "scatter"
        },
        {
         "hoverinfo": "text",
         "marker": {
          "color": "rgb(35,205,205)"
         },
         "mode": "lines",
         "x": [
          145.0,
          145.0,
          160.0,
          160.0
         ],
         "xaxis": "x",
         "y": [
          0.0,
          0.15511015358443336,
          0.15511015358443336,
          0.06759488531250206
         ],
         "yaxis": "y",
         "type": "scatter"
        },
        {
         "hoverinfo": "text",
         "marker": {
          "color": "rgb(35,205,205)"
         },
         "mode": "lines",
         "x": [
          116.25,
          116.25,
          152.5,
          152.5
         ],
         "xaxis": "x",
         "y": [
          0.14645772703025034,
          0.19008917431183084,
          0.19008917431183084,
          0.15511015358443336
         ],
         "yaxis": "y",
         "type": "scatter"
        },
        {
         "hoverinfo": "text",
         "marker": {
          "color": "rgb(35,205,205)"
         },
         "mode": "lines",
         "x": [
          80.0,
          80.0,
          134.375,
          134.375
         ],
         "xaxis": "x",
         "y": [
          0.07734740185826904,
          0.208803761087362,
          0.208803761087362,
          0.19008917431183084
         ],
         "yaxis": "y",
         "type": "scatter"
        },
        {
         "hoverinfo": "text",
         "marker": {
          "color": "rgb(35,205,205)"
         },
         "mode": "lines",
         "x": [
          185.0,
          185.0,
          195.0,
          195.0
         ],
         "xaxis": "x",
         "y": [
          0.0,
          0.07827017193558881,
          0.07827017193558881,
          0.0
         ],
         "yaxis": "y",
         "type": "scatter"
        },
        {
         "hoverinfo": "text",
         "marker": {
          "color": "rgb(35,205,205)"
         },
         "mode": "lines",
         "x": [
          175.0,
          175.0,
          190.0,
          190.0
         ],
         "xaxis": "x",
         "y": [
          0.0,
          0.1315629816483889,
          0.1315629816483889,
          0.07827017193558881
         ],
         "yaxis": "y",
         "type": "scatter"
        },
        {
         "hoverinfo": "text",
         "marker": {
          "color": "rgb(35,205,205)"
         },
         "mode": "lines",
         "x": [
          215.0,
          215.0,
          225.0,
          225.0
         ],
         "xaxis": "x",
         "y": [
          0.0,
          0.07986660047419661,
          0.07986660047419661,
          0.0
         ],
         "yaxis": "y",
         "type": "scatter"
        },
        {
         "hoverinfo": "text",
         "marker": {
          "color": "rgb(35,205,205)"
         },
         "mode": "lines",
         "x": [
          205.0,
          205.0,
          220.0,
          220.0
         ],
         "xaxis": "x",
         "y": [
          0.0,
          0.09460514721865168,
          0.09460514721865168,
          0.07986660047419661
         ],
         "yaxis": "y",
         "type": "scatter"
        },
        {
         "hoverinfo": "text",
         "marker": {
          "color": "rgb(35,205,205)"
         },
         "mode": "lines",
         "x": [
          235.0,
          235.0,
          245.0,
          245.0
         ],
         "xaxis": "x",
         "y": [
          0.0,
          0.03798682275764208,
          0.03798682275764208,
          0.0
         ],
         "yaxis": "y",
         "type": "scatter"
        },
        {
         "hoverinfo": "text",
         "marker": {
          "color": "rgb(35,205,205)"
         },
         "mode": "lines",
         "x": [
          255.0,
          255.0,
          265.0,
          265.0
         ],
         "xaxis": "x",
         "y": [
          0.0,
          0.12205329108357442,
          0.12205329108357442,
          0.0
         ],
         "yaxis": "y",
         "type": "scatter"
        },
        {
         "hoverinfo": "text",
         "marker": {
          "color": "rgb(35,205,205)"
         },
         "mode": "lines",
         "x": [
          240.0,
          240.0,
          260.0,
          260.0
         ],
         "xaxis": "x",
         "y": [
          0.03798682275764208,
          0.1505016856428246,
          0.1505016856428246,
          0.12205329108357442
         ],
         "yaxis": "y",
         "type": "scatter"
        },
        {
         "hoverinfo": "text",
         "marker": {
          "color": "rgb(35,205,205)"
         },
         "mode": "lines",
         "x": [
          212.5,
          212.5,
          250.0,
          250.0
         ],
         "xaxis": "x",
         "y": [
          0.09460514721865168,
          0.24003513197104728,
          0.24003513197104728,
          0.1505016856428246
         ],
         "yaxis": "y",
         "type": "scatter"
        },
        {
         "hoverinfo": "text",
         "marker": {
          "color": "rgb(35,205,205)"
         },
         "mode": "lines",
         "x": [
          182.5,
          182.5,
          231.25,
          231.25
         ],
         "xaxis": "x",
         "y": [
          0.1315629816483889,
          0.2479173040195563,
          0.2479173040195563,
          0.24003513197104728
         ],
         "yaxis": "y",
         "type": "scatter"
        },
        {
         "hoverinfo": "text",
         "marker": {
          "color": "rgb(35,205,205)"
         },
         "mode": "lines",
         "x": [
          107.1875,
          107.1875,
          206.875,
          206.875
         ],
         "xaxis": "x",
         "y": [
          0.208803761087362,
          0.27365875788486466,
          0.27365875788486466,
          0.2479173040195563
         ],
         "yaxis": "y",
         "type": "scatter"
        },
        {
         "hoverinfo": "text",
         "marker": {
          "color": "rgb(35,205,205)"
         },
         "mode": "lines",
         "x": [
          275.0,
          275.0,
          285.0,
          285.0
         ],
         "xaxis": "x",
         "y": [
          0.0,
          0.14203246362693214,
          0.14203246362693214,
          0.0
         ],
         "yaxis": "y",
         "type": "scatter"
        },
        {
         "hoverinfo": "text",
         "marker": {
          "color": "rgb(35,205,205)"
         },
         "mode": "lines",
         "x": [
          295.0,
          295.0,
          305.0,
          305.0
         ],
         "xaxis": "x",
         "y": [
          0.0,
          0.17629368836905973,
          0.17629368836905973,
          0.0
         ],
         "yaxis": "y",
         "type": "scatter"
        },
        {
         "hoverinfo": "text",
         "marker": {
          "color": "rgb(35,205,205)"
         },
         "mode": "lines",
         "x": [
          325.0,
          325.0,
          335.0,
          335.0
         ],
         "xaxis": "x",
         "y": [
          0.0,
          0.14153093089878277,
          0.14153093089878277,
          0.0
         ],
         "yaxis": "y",
         "type": "scatter"
        },
        {
         "hoverinfo": "text",
         "marker": {
          "color": "rgb(35,205,205)"
         },
         "mode": "lines",
         "x": [
          315.0,
          315.0,
          330.0,
          330.0
         ],
         "xaxis": "x",
         "y": [
          0.0,
          0.20896690516151264,
          0.20896690516151264,
          0.14153093089878277
         ],
         "yaxis": "y",
         "type": "scatter"
        },
        {
         "hoverinfo": "text",
         "marker": {
          "color": "rgb(35,205,205)"
         },
         "mode": "lines",
         "x": [
          300.0,
          300.0,
          322.5,
          322.5
         ],
         "xaxis": "x",
         "y": [
          0.17629368836905973,
          0.28474062970599007,
          0.28474062970599007,
          0.20896690516151264
         ],
         "yaxis": "y",
         "type": "scatter"
        },
        {
         "hoverinfo": "text",
         "marker": {
          "color": "rgb(35,205,205)"
         },
         "mode": "lines",
         "x": [
          280.0,
          280.0,
          311.25,
          311.25
         ],
         "xaxis": "x",
         "y": [
          0.14203246362693214,
          0.35544369267967146,
          0.35544369267967146,
          0.28474062970599007
         ],
         "yaxis": "y",
         "type": "scatter"
        },
        {
         "hoverinfo": "text",
         "marker": {
          "color": "rgb(35,205,205)"
         },
         "mode": "lines",
         "x": [
          157.03125,
          157.03125,
          295.625,
          295.625
         ],
         "xaxis": "x",
         "y": [
          0.27365875788486466,
          0.4784769660811376,
          0.4784769660811376,
          0.35544369267967146
         ],
         "yaxis": "y",
         "type": "scatter"
        },
        {
         "hoverinfo": "text",
         "marker": {
          "color": "rgb(35,205,205)"
         },
         "mode": "lines",
         "x": [
          65.0,
          65.0,
          226.328125,
          226.328125
         ],
         "xaxis": "x",
         "y": [
          0.0,
          0.5626687397794653,
          0.5626687397794653,
          0.4784769660811376
         ],
         "yaxis": "y",
         "type": "scatter"
        },
        {
         "hoverinfo": "text",
         "marker": {
          "color": "rgb(133,20,75)"
         },
         "mode": "lines",
         "x": [
          345.0,
          345.0,
          355.0,
          355.0
         ],
         "xaxis": "x",
         "y": [
          0.0,
          0.15026244559847096,
          0.15026244559847096,
          0.0
         ],
         "yaxis": "y",
         "type": "scatter"
        },
        {
         "hoverinfo": "text",
         "marker": {
          "color": "rgb(133,20,75)"
         },
         "mode": "lines",
         "x": [
          365.0,
          365.0,
          375.0,
          375.0
         ],
         "xaxis": "x",
         "y": [
          0.0,
          0.1308240628892968,
          0.1308240628892968,
          0.0
         ],
         "yaxis": "y",
         "type": "scatter"
        },
        {
         "hoverinfo": "text",
         "marker": {
          "color": "rgb(133,20,75)"
         },
         "mode": "lines",
         "x": [
          385.0,
          385.0,
          395.0,
          395.0
         ],
         "xaxis": "x",
         "y": [
          0.0,
          0.15270813150961804,
          0.15270813150961804,
          0.0
         ],
         "yaxis": "y",
         "type": "scatter"
        },
        {
         "hoverinfo": "text",
         "marker": {
          "color": "rgb(133,20,75)"
         },
         "mode": "lines",
         "x": [
          370.0,
          370.0,
          390.0,
          390.0
         ],
         "xaxis": "x",
         "y": [
          0.1308240628892968,
          0.3042408607341012,
          0.3042408607341012,
          0.15270813150961804
         ],
         "yaxis": "y",
         "type": "scatter"
        },
        {
         "hoverinfo": "text",
         "marker": {
          "color": "rgb(133,20,75)"
         },
         "mode": "lines",
         "x": [
          350.0,
          350.0,
          380.0,
          380.0
         ],
         "xaxis": "x",
         "y": [
          0.15026244559847096,
          0.33563213864782765,
          0.33563213864782765,
          0.3042408607341012
         ],
         "yaxis": "y",
         "type": "scatter"
        },
        {
         "hoverinfo": "text",
         "marker": {
          "color": "rgb(133,20,75)"
         },
         "mode": "lines",
         "x": [
          415.0,
          415.0,
          425.0,
          425.0
         ],
         "xaxis": "x",
         "y": [
          0.0,
          0.18430010032584612,
          0.18430010032584612,
          0.0
         ],
         "yaxis": "y",
         "type": "scatter"
        },
        {
         "hoverinfo": "text",
         "marker": {
          "color": "rgb(133,20,75)"
         },
         "mode": "lines",
         "x": [
          405.0,
          405.0,
          420.0,
          420.0
         ],
         "xaxis": "x",
         "y": [
          0.0,
          0.27207881723260746,
          0.27207881723260746,
          0.18430010032584612
         ],
         "yaxis": "y",
         "type": "scatter"
        },
        {
         "hoverinfo": "text",
         "marker": {
          "color": "rgb(133,20,75)"
         },
         "mode": "lines",
         "x": [
          445.0,
          445.0,
          455.0,
          455.0
         ],
         "xaxis": "x",
         "y": [
          0.0,
          0.13478213866207647,
          0.13478213866207647,
          0.0
         ],
         "yaxis": "y",
         "type": "scatter"
        },
        {
         "hoverinfo": "text",
         "marker": {
          "color": "rgb(133,20,75)"
         },
         "mode": "lines",
         "x": [
          465.0,
          465.0,
          475.0,
          475.0
         ],
         "xaxis": "x",
         "y": [
          0.0,
          0.22712469873871577,
          0.22712469873871577,
          0.0
         ],
         "yaxis": "y",
         "type": "scatter"
        },
        {
         "hoverinfo": "text",
         "marker": {
          "color": "rgb(133,20,75)"
         },
         "mode": "lines",
         "x": [
          450.0,
          450.0,
          470.0,
          470.0
         ],
         "xaxis": "x",
         "y": [
          0.13478213866207647,
          0.24946111852890537,
          0.24946111852890537,
          0.22712469873871577
         ],
         "yaxis": "y",
         "type": "scatter"
        },
        {
         "hoverinfo": "text",
         "marker": {
          "color": "rgb(133,20,75)"
         },
         "mode": "lines",
         "x": [
          435.0,
          435.0,
          460.0,
          460.0
         ],
         "xaxis": "x",
         "y": [
          0.0,
          0.31821633964871116,
          0.31821633964871116,
          0.24946111852890537
         ],
         "yaxis": "y",
         "type": "scatter"
        },
        {
         "hoverinfo": "text",
         "marker": {
          "color": "rgb(133,20,75)"
         },
         "mode": "lines",
         "x": [
          412.5,
          412.5,
          447.5,
          447.5
         ],
         "xaxis": "x",
         "y": [
          0.27207881723260746,
          0.39995609233772533,
          0.39995609233772533,
          0.31821633964871116
         ],
         "yaxis": "y",
         "type": "scatter"
        },
        {
         "hoverinfo": "text",
         "marker": {
          "color": "rgb(133,20,75)"
         },
         "mode": "lines",
         "x": [
          365.0,
          365.0,
          430.0,
          430.0
         ],
         "xaxis": "x",
         "y": [
          0.33563213864782765,
          0.5064322142755652,
          0.5064322142755652,
          0.39995609233772533
         ],
         "yaxis": "y",
         "type": "scatter"
        },
        {
         "hoverinfo": "text",
         "marker": {
          "color": "rgb(133,20,75)"
         },
         "mode": "lines",
         "x": [
          505.0,
          505.0,
          515.0,
          515.0
         ],
         "xaxis": "x",
         "y": [
          0.0,
          0.14023515653310226,
          0.14023515653310226,
          0.0
         ],
         "yaxis": "y",
         "type": "scatter"
        },
        {
         "hoverinfo": "text",
         "marker": {
          "color": "rgb(133,20,75)"
         },
         "mode": "lines",
         "x": [
          495.0,
          495.0,
          510.0,
          510.0
         ],
         "xaxis": "x",
         "y": [
          0.0,
          0.16763547252866198,
          0.16763547252866198,
          0.14023515653310226
         ],
         "yaxis": "y",
         "type": "scatter"
        },
        {
         "hoverinfo": "text",
         "marker": {
          "color": "rgb(133,20,75)"
         },
         "mode": "lines",
         "x": [
          485.0,
          485.0,
          502.5,
          502.5
         ],
         "xaxis": "x",
         "y": [
          0.0,
          0.2436105681051531,
          0.2436105681051531,
          0.16763547252866198
         ],
         "yaxis": "y",
         "type": "scatter"
        },
        {
         "hoverinfo": "text",
         "marker": {
          "color": "rgb(133,20,75)"
         },
         "mode": "lines",
         "x": [
          545.0,
          545.0,
          555.0,
          555.0
         ],
         "xaxis": "x",
         "y": [
          0.0,
          0.10270706520059794,
          0.10270706520059794,
          0.0
         ],
         "yaxis": "y",
         "type": "scatter"
        },
        {
         "hoverinfo": "text",
         "marker": {
          "color": "rgb(133,20,75)"
         },
         "mode": "lines",
         "x": [
          535.0,
          535.0,
          550.0,
          550.0
         ],
         "xaxis": "x",
         "y": [
          0.0,
          0.14953415731306796,
          0.14953415731306796,
          0.10270706520059794
         ],
         "yaxis": "y",
         "type": "scatter"
        },
        {
         "hoverinfo": "text",
         "marker": {
          "color": "rgb(133,20,75)"
         },
         "mode": "lines",
         "x": [
          525.0,
          525.0,
          542.5,
          542.5
         ],
         "xaxis": "x",
         "y": [
          0.0,
          0.28825508208110556,
          0.28825508208110556,
          0.14953415731306796
         ],
         "yaxis": "y",
         "type": "scatter"
        },
        {
         "hoverinfo": "text",
         "marker": {
          "color": "rgb(133,20,75)"
         },
         "mode": "lines",
         "x": [
          493.75,
          493.75,
          533.75,
          533.75
         ],
         "xaxis": "x",
         "y": [
          0.2436105681051531,
          0.3594866803322054,
          0.3594866803322054,
          0.28825508208110556
         ],
         "yaxis": "y",
         "type": "scatter"
        },
        {
         "hoverinfo": "text",
         "marker": {
          "color": "rgb(133,20,75)"
         },
         "mode": "lines",
         "x": [
          575.0,
          575.0,
          585.0,
          585.0
         ],
         "xaxis": "x",
         "y": [
          0.0,
          0.13654568471578762,
          0.13654568471578762,
          0.0
         ],
         "yaxis": "y",
         "type": "scatter"
        },
        {
         "hoverinfo": "text",
         "marker": {
          "color": "rgb(133,20,75)"
         },
         "mode": "lines",
         "x": [
          565.0,
          565.0,
          580.0,
          580.0
         ],
         "xaxis": "x",
         "y": [
          0.0,
          0.15877618154905712,
          0.15877618154905712,
          0.13654568471578762
         ],
         "yaxis": "y",
         "type": "scatter"
        },
        {
         "hoverinfo": "text",
         "marker": {
          "color": "rgb(133,20,75)"
         },
         "mode": "lines",
         "x": [
          595.0,
          595.0,
          605.0,
          605.0
         ],
         "xaxis": "x",
         "y": [
          0.0,
          0.18037423469853,
          0.18037423469853,
          0.0
         ],
         "yaxis": "y",
         "type": "scatter"
        },
        {
         "hoverinfo": "text",
         "marker": {
          "color": "rgb(133,20,75)"
         },
         "mode": "lines",
         "x": [
          572.5,
          572.5,
          600.0,
          600.0
         ],
         "xaxis": "x",
         "y": [
          0.15877618154905712,
          0.24458627442350672,
          0.24458627442350672,
          0.18037423469853
         ],
         "yaxis": "y",
         "type": "scatter"
        },
        {
         "hoverinfo": "text",
         "marker": {
          "color": "rgb(133,20,75)"
         },
         "mode": "lines",
         "x": [
          615.0,
          615.0,
          625.0,
          625.0
         ],
         "xaxis": "x",
         "y": [
          0.0,
          0.06999026143243546,
          0.06999026143243546,
          0.0
         ],
         "yaxis": "y",
         "type": "scatter"
        },
        {
         "hoverinfo": "text",
         "marker": {
          "color": "rgb(133,20,75)"
         },
         "mode": "lines",
         "x": [
          635.0,
          635.0,
          645.0,
          645.0
         ],
         "xaxis": "x",
         "y": [
          0.0,
          0.0921257661416401,
          0.0921257661416401,
          0.0
         ],
         "yaxis": "y",
         "type": "scatter"
        },
        {
         "hoverinfo": "text",
         "marker": {
          "color": "rgb(133,20,75)"
         },
         "mode": "lines",
         "x": [
          620.0,
          620.0,
          640.0,
          640.0
         ],
         "xaxis": "x",
         "y": [
          0.06999026143243546,
          0.12155096048612841,
          0.12155096048612841,
          0.0921257661416401
         ],
         "yaxis": "y",
         "type": "scatter"
        },
        {
         "hoverinfo": "text",
         "marker": {
          "color": "rgb(133,20,75)"
         },
         "mode": "lines",
         "x": [
          665.0,
          665.0,
          675.0,
          675.0
         ],
         "xaxis": "x",
         "y": [
          0.0,
          0.09307681285485107,
          0.09307681285485107,
          0.0
         ],
         "yaxis": "y",
         "type": "scatter"
        },
        {
         "hoverinfo": "text",
         "marker": {
          "color": "rgb(133,20,75)"
         },
         "mode": "lines",
         "x": [
          655.0,
          655.0,
          670.0,
          670.0
         ],
         "xaxis": "x",
         "y": [
          0.0,
          0.11191398192944255,
          0.11191398192944255,
          0.09307681285485107
         ],
         "yaxis": "y",
         "type": "scatter"
        },
        {
         "hoverinfo": "text",
         "marker": {
          "color": "rgb(133,20,75)"
         },
         "mode": "lines",
         "x": [
          695.0,
          695.0,
          705.0,
          705.0
         ],
         "xaxis": "x",
         "y": [
          0.0,
          0.058035350566696925,
          0.058035350566696925,
          0.0
         ],
         "yaxis": "y",
         "type": "scatter"
        },
        {
         "hoverinfo": "text",
         "marker": {
          "color": "rgb(133,20,75)"
         },
         "mode": "lines",
         "x": [
          685.0,
          685.0,
          700.0,
          700.0
         ],
         "xaxis": "x",
         "y": [
          0.0,
          0.13507355796745452,
          0.13507355796745452,
          0.058035350566696925
         ],
         "yaxis": "y",
         "type": "scatter"
        },
        {
         "hoverinfo": "text",
         "marker": {
          "color": "rgb(133,20,75)"
         },
         "mode": "lines",
         "x": [
          662.5,
          662.5,
          692.5,
          692.5
         ],
         "xaxis": "x",
         "y": [
          0.11191398192944255,
          0.20971210372542634,
          0.20971210372542634,
          0.13507355796745452
         ],
         "yaxis": "y",
         "type": "scatter"
        },
        {
         "hoverinfo": "text",
         "marker": {
          "color": "rgb(133,20,75)"
         },
         "mode": "lines",
         "x": [
          630.0,
          630.0,
          677.5,
          677.5
         ],
         "xaxis": "x",
         "y": [
          0.12155096048612841,
          0.29806379623804485,
          0.29806379623804485,
          0.20971210372542634
         ],
         "yaxis": "y",
         "type": "scatter"
        },
        {
         "hoverinfo": "text",
         "marker": {
          "color": "rgb(133,20,75)"
         },
         "mode": "lines",
         "x": [
          586.25,
          586.25,
          653.75,
          653.75
         ],
         "xaxis": "x",
         "y": [
          0.24458627442350672,
          0.44450930414457984,
          0.44450930414457984,
          0.29806379623804485
         ],
         "yaxis": "y",
         "type": "scatter"
        },
        {
         "hoverinfo": "text",
         "marker": {
          "color": "rgb(133,20,75)"
         },
         "mode": "lines",
         "x": [
          715.0,
          715.0,
          725.0,
          725.0
         ],
         "xaxis": "x",
         "y": [
          0.0,
          0.08542443490990652,
          0.08542443490990652,
          0.0
         ],
         "yaxis": "y",
         "type": "scatter"
        },
        {
         "hoverinfo": "text",
         "marker": {
          "color": "rgb(133,20,75)"
         },
         "mode": "lines",
         "x": [
          745.0,
          745.0,
          755.0,
          755.0
         ],
         "xaxis": "x",
         "y": [
          0.0,
          0.08840724650727239,
          0.08840724650727239,
          0.0
         ],
         "yaxis": "y",
         "type": "scatter"
        },
        {
         "hoverinfo": "text",
         "marker": {
          "color": "rgb(133,20,75)"
         },
         "mode": "lines",
         "x": [
          735.0,
          735.0,
          750.0,
          750.0
         ],
         "xaxis": "x",
         "y": [
          0.0,
          0.16779070937826218,
          0.16779070937826218,
          0.08840724650727239
         ],
         "yaxis": "y",
         "type": "scatter"
        },
        {
         "hoverinfo": "text",
         "marker": {
          "color": "rgb(133,20,75)"
         },
         "mode": "lines",
         "x": [
          720.0,
          720.0,
          742.5,
          742.5
         ],
         "xaxis": "x",
         "y": [
          0.08542443490990652,
          0.24650916410207696,
          0.24650916410207696,
          0.16779070937826218
         ],
         "yaxis": "y",
         "type": "scatter"
        },
        {
         "hoverinfo": "text",
         "marker": {
          "color": "rgb(133,20,75)"
         },
         "mode": "lines",
         "x": [
          775.0,
          775.0,
          785.0,
          785.0
         ],
         "xaxis": "x",
         "y": [
          0.0,
          0.14604419333091206,
          0.14604419333091206,
          0.0
         ],
         "yaxis": "y",
         "type": "scatter"
        },
        {
         "hoverinfo": "text",
         "marker": {
          "color": "rgb(133,20,75)"
         },
         "mode": "lines",
         "x": [
          765.0,
          765.0,
          780.0,
          780.0
         ],
         "xaxis": "x",
         "y": [
          0.0,
          0.1605800311362276,
          0.1605800311362276,
          0.14604419333091206
         ],
         "yaxis": "y",
         "type": "scatter"
        },
        {
         "hoverinfo": "text",
         "marker": {
          "color": "rgb(133,20,75)"
         },
         "mode": "lines",
         "x": [
          815.0,
          815.0,
          825.0,
          825.0
         ],
         "xaxis": "x",
         "y": [
          0.0,
          0.05624633443363521,
          0.05624633443363521,
          0.0
         ],
         "yaxis": "y",
         "type": "scatter"
        },
        {
         "hoverinfo": "text",
         "marker": {
          "color": "rgb(133,20,75)"
         },
         "mode": "lines",
         "x": [
          805.0,
          805.0,
          820.0,
          820.0
         ],
         "xaxis": "x",
         "y": [
          0.0,
          0.09830334378800702,
          0.09830334378800702,
          0.05624633443363521
         ],
         "yaxis": "y",
         "type": "scatter"
        },
        {
         "hoverinfo": "text",
         "marker": {
          "color": "rgb(133,20,75)"
         },
         "mode": "lines",
         "x": [
          795.0,
          795.0,
          812.5,
          812.5
         ],
         "xaxis": "x",
         "y": [
          0.0,
          0.13737977448637484,
          0.13737977448637484,
          0.09830334378800702
         ],
         "yaxis": "y",
         "type": "scatter"
        },
        {
         "hoverinfo": "text",
         "marker": {
          "color": "rgb(133,20,75)"
         },
         "mode": "lines",
         "x": [
          845.0,
          845.0,
          855.0,
          855.0
         ],
         "xaxis": "x",
         "y": [
          0.0,
          0.04612493494306298,
          0.04612493494306298,
          0.0
         ],
         "yaxis": "y",
         "type": "scatter"
        },
        {
         "hoverinfo": "text",
         "marker": {
          "color": "rgb(133,20,75)"
         },
         "mode": "lines",
         "x": [
          865.0,
          865.0,
          875.0,
          875.0
         ],
         "xaxis": "x",
         "y": [
          0.0,
          0.06625831558346931,
          0.06625831558346931,
          0.0
         ],
         "yaxis": "y",
         "type": "scatter"
        },
        {
         "hoverinfo": "text",
         "marker": {
          "color": "rgb(133,20,75)"
         },
         "mode": "lines",
         "x": [
          850.0,
          850.0,
          870.0,
          870.0
         ],
         "xaxis": "x",
         "y": [
          0.04612493494306298,
          0.09646096382320336,
          0.09646096382320336,
          0.06625831558346931
         ],
         "yaxis": "y",
         "type": "scatter"
        },
        {
         "hoverinfo": "text",
         "marker": {
          "color": "rgb(133,20,75)"
         },
         "mode": "lines",
         "x": [
          835.0,
          835.0,
          860.0,
          860.0
         ],
         "xaxis": "x",
         "y": [
          0.0,
          0.17848604950355856,
          0.17848604950355856,
          0.09646096382320336
         ],
         "yaxis": "y",
         "type": "scatter"
        },
        {
         "hoverinfo": "text",
         "marker": {
          "color": "rgb(133,20,75)"
         },
         "mode": "lines",
         "x": [
          803.75,
          803.75,
          847.5,
          847.5
         ],
         "xaxis": "x",
         "y": [
          0.13737977448637484,
          0.2554818928850896,
          0.2554818928850896,
          0.17848604950355856
         ],
         "yaxis": "y",
         "type": "scatter"
        },
        {
         "hoverinfo": "text",
         "marker": {
          "color": "rgb(133,20,75)"
         },
         "mode": "lines",
         "x": [
          772.5,
          772.5,
          825.625,
          825.625
         ],
         "xaxis": "x",
         "y": [
          0.1605800311362276,
          0.3167882904166406,
          0.3167882904166406,
          0.2554818928850896
         ],
         "yaxis": "y",
         "type": "scatter"
        },
        {
         "hoverinfo": "text",
         "marker": {
          "color": "rgb(133,20,75)"
         },
         "mode": "lines",
         "x": [
          885.0,
          885.0,
          895.0,
          895.0
         ],
         "xaxis": "x",
         "y": [
          0.0,
          0.11939193055443167,
          0.11939193055443167,
          0.0
         ],
         "yaxis": "y",
         "type": "scatter"
        },
        {
         "hoverinfo": "text",
         "marker": {
          "color": "rgb(133,20,75)"
         },
         "mode": "lines",
         "x": [
          925.0,
          925.0,
          935.0,
          935.0
         ],
         "xaxis": "x",
         "y": [
          0.0,
          0.10006289647974914,
          0.10006289647974914,
          0.0
         ],
         "yaxis": "y",
         "type": "scatter"
        },
        {
         "hoverinfo": "text",
         "marker": {
          "color": "rgb(133,20,75)"
         },
         "mode": "lines",
         "x": [
          915.0,
          915.0,
          930.0,
          930.0
         ],
         "xaxis": "x",
         "y": [
          0.0,
          0.12966057687200042,
          0.12966057687200042,
          0.10006289647974914
         ],
         "yaxis": "y",
         "type": "scatter"
        },
        {
         "hoverinfo": "text",
         "marker": {
          "color": "rgb(133,20,75)"
         },
         "mode": "lines",
         "x": [
          905.0,
          905.0,
          922.5,
          922.5
         ],
         "xaxis": "x",
         "y": [
          0.0,
          0.20621814699721766,
          0.20621814699721766,
          0.12966057687200042
         ],
         "yaxis": "y",
         "type": "scatter"
        },
        {
         "hoverinfo": "text",
         "marker": {
          "color": "rgb(133,20,75)"
         },
         "mode": "lines",
         "x": [
          945.0,
          945.0,
          955.0,
          955.0
         ],
         "xaxis": "x",
         "y": [
          0.0,
          0.15608432151892945,
          0.15608432151892945,
          0.0
         ],
         "yaxis": "y",
         "type": "scatter"
        },
        {
         "hoverinfo": "text",
         "marker": {
          "color": "rgb(133,20,75)"
         },
         "mode": "lines",
         "x": [
          965.0,
          965.0,
          975.0,
          975.0
         ],
         "xaxis": "x",
         "y": [
          0.0,
          0.09567390805576961,
          0.09567390805576961,
          0.0
         ],
         "yaxis": "y",
         "type": "scatter"
        },
        {
         "hoverinfo": "text",
         "marker": {
          "color": "rgb(133,20,75)"
         },
         "mode": "lines",
         "x": [
          985.0,
          985.0,
          995.0,
          995.0
         ],
         "xaxis": "x",
         "y": [
          0.0,
          0.09867943865524792,
          0.09867943865524792,
          0.0
         ],
         "yaxis": "y",
         "type": "scatter"
        },
        {
         "hoverinfo": "text",
         "marker": {
          "color": "rgb(133,20,75)"
         },
         "mode": "lines",
         "x": [
          970.0,
          970.0,
          990.0,
          990.0
         ],
         "xaxis": "x",
         "y": [
          0.09567390805576961,
          0.18625549593813043,
          0.18625549593813043,
          0.09867943865524792
         ],
         "yaxis": "y",
         "type": "scatter"
        },
        {
         "hoverinfo": "text",
         "marker": {
          "color": "rgb(133,20,75)"
         },
         "mode": "lines",
         "x": [
          950.0,
          950.0,
          980.0,
          980.0
         ],
         "xaxis": "x",
         "y": [
          0.15608432151892945,
          0.2463329563706212,
          0.2463329563706212,
          0.18625549593813043
         ],
         "yaxis": "y",
         "type": "scatter"
        },
        {
         "hoverinfo": "text",
         "marker": {
          "color": "rgb(133,20,75)"
         },
         "mode": "lines",
         "x": [
          913.75,
          913.75,
          965.0,
          965.0
         ],
         "xaxis": "x",
         "y": [
          0.20621814699721766,
          0.284377535473008,
          0.284377535473008,
          0.2463329563706212
         ],
         "yaxis": "y",
         "type": "scatter"
        },
        {
         "hoverinfo": "text",
         "marker": {
          "color": "rgb(133,20,75)"
         },
         "mode": "lines",
         "x": [
          890.0,
          890.0,
          939.375,
          939.375
         ],
         "xaxis": "x",
         "y": [
          0.11939193055443167,
          0.39989874776470014,
          0.39989874776470014,
          0.284377535473008
         ],
         "yaxis": "y",
         "type": "scatter"
        },
        {
         "hoverinfo": "text",
         "marker": {
          "color": "rgb(133,20,75)"
         },
         "mode": "lines",
         "x": [
          799.0625,
          799.0625,
          914.6875,
          914.6875
         ],
         "xaxis": "x",
         "y": [
          0.3167882904166406,
          0.42053617494522244,
          0.42053617494522244,
          0.39989874776470014
         ],
         "yaxis": "y",
         "type": "scatter"
        },
        {
         "hoverinfo": "text",
         "marker": {
          "color": "rgb(133,20,75)"
         },
         "mode": "lines",
         "x": [
          731.25,
          731.25,
          856.875,
          856.875
         ],
         "xaxis": "x",
         "y": [
          0.24650916410207696,
          0.49080128922119626,
          0.49080128922119626,
          0.42053617494522244
         ],
         "yaxis": "y",
         "type": "scatter"
        },
        {
         "hoverinfo": "text",
         "marker": {
          "color": "rgb(133,20,75)"
         },
         "mode": "lines",
         "x": [
          620.0,
          620.0,
          794.0625,
          794.0625
         ],
         "xaxis": "x",
         "y": [
          0.44450930414457984,
          0.6113945842784374,
          0.6113945842784374,
          0.49080128922119626
         ],
         "yaxis": "y",
         "type": "scatter"
        },
        {
         "hoverinfo": "text",
         "marker": {
          "color": "rgb(133,20,75)"
         },
         "mode": "lines",
         "x": [
          513.75,
          513.75,
          707.03125,
          707.03125
         ],
         "xaxis": "x",
         "y": [
          0.3594866803322054,
          0.6722348053318804,
          0.6722348053318804,
          0.6113945842784374
         ],
         "yaxis": "y",
         "type": "scatter"
        },
        {
         "hoverinfo": "text",
         "marker": {
          "color": "rgb(133,20,75)"
         },
         "mode": "lines",
         "x": [
          397.5,
          397.5,
          610.390625,
          610.390625
         ],
         "xaxis": "x",
         "y": [
          0.5064322142755652,
          0.7575123828532979,
          0.7575123828532979,
          0.6722348053318804
         ],
         "yaxis": "y",
         "type": "scatter"
        },
        {
         "hoverinfo": "text",
         "marker": {
          "color": "rgb(0,116,217)"
         },
         "mode": "lines",
         "x": [
          145.6640625,
          145.6640625,
          503.9453125,
          503.9453125
         ],
         "xaxis": "x",
         "y": [
          0.5626687397794653,
          0.8608209470635374,
          0.8608209470635374,
          0.7575123828532979
         ],
         "yaxis": "y",
         "type": "scatter"
        },
        {
         "hoverinfo": "text",
         "marker": {
          "color": "rgb(0,116,217)"
         },
         "mode": "lines",
         "x": [
          33.75,
          33.75,
          324.8046875,
          324.8046875
         ],
         "xaxis": "x",
         "y": [
          0.41540972599389314,
          0.9722792926173569,
          0.9722792926173569,
          0.8608209470635374
         ],
         "yaxis": "y",
         "type": "scatter"
        },
        {
         "hoverinfo": "text",
         "marker": {
          "color": "rgb(0,116,217)"
         },
         "mode": "lines",
         "x": [
          10.0,
          10.0,
          179.27734375,
          179.27734375
         ],
         "xaxis": "x",
         "y": [
          0.23330074709348247,
          1.0866359656465427,
          1.0866359656465427,
          0.9722792926173569
         ],
         "yaxis": "y",
         "type": "scatter"
        }
       ],
       "layout": {
        "autosize": false,
        "height": 1000,
        "hovermode": "closest",
        "showlegend": false,
        "width": 1300,
        "xaxis": {
         "mirror": "allticks",
         "rangemode": "tozero",
         "showgrid": false,
         "showline": true,
         "showticklabels": true,
         "tickmode": "array",
         "ticks": "outside",
         "ticktext": [
          "59",
          "69",
          "26",
          "90",
          "51",
          "58",
          "19",
          "11",
          "22",
          "18",
          "35",
          "95",
          "14",
          "86",
          "31",
          "29",
          "37",
          "3",
          "1",
          "88",
          "62",
          "8",
          "12",
          "53",
          "83",
          "46",
          "55",
          "6",
          "70",
          "33",
          "80",
          "52",
          "54",
          "74",
          "7",
          "71",
          "56",
          "67",
          "4",
          "66",
          "38",
          "28",
          "30",
          "48",
          "2",
          "36",
          "15",
          "32",
          "34",
          "72",
          "63",
          "76",
          "24",
          "23",
          "68",
          "75",
          "0",
          "5",
          "43",
          "45",
          "93",
          "64",
          "97",
          "39",
          "89",
          "10",
          "96",
          "99",
          "42",
          "73",
          "98",
          "27",
          "94",
          "9",
          "13",
          "60",
          "40",
          "21",
          "79",
          "41",
          "16",
          "17",
          "92",
          "78",
          "20",
          "77",
          "61",
          "91",
          "65",
          "82",
          "57",
          "87",
          "44",
          "85",
          "47",
          "50",
          "81",
          "84",
          "25",
          "49"
         ],
         "tickvals": [
          5.0,
          15.0,
          25.0,
          35.0,
          45.0,
          55.0,
          65.0,
          75.0,
          85.0,
          95.0,
          105.0,
          115.0,
          125.0,
          135.0,
          145.0,
          155.0,
          165.0,
          175.0,
          185.0,
          195.0,
          205.0,
          215.0,
          225.0,
          235.0,
          245.0,
          255.0,
          265.0,
          275.0,
          285.0,
          295.0,
          305.0,
          315.0,
          325.0,
          335.0,
          345.0,
          355.0,
          365.0,
          375.0,
          385.0,
          395.0,
          405.0,
          415.0,
          425.0,
          435.0,
          445.0,
          455.0,
          465.0,
          475.0,
          485.0,
          495.0,
          505.0,
          515.0,
          525.0,
          535.0,
          545.0,
          555.0,
          565.0,
          575.0,
          585.0,
          595.0,
          605.0,
          615.0,
          625.0,
          635.0,
          645.0,
          655.0,
          665.0,
          675.0,
          685.0,
          695.0,
          705.0,
          715.0,
          725.0,
          735.0,
          745.0,
          755.0,
          765.0,
          775.0,
          785.0,
          795.0,
          805.0,
          815.0,
          825.0,
          835.0,
          845.0,
          855.0,
          865.0,
          875.0,
          885.0,
          895.0,
          905.0,
          915.0,
          925.0,
          935.0,
          945.0,
          955.0,
          965.0,
          975.0,
          985.0,
          995.0
         ],
         "type": "linear",
         "zeroline": false
        },
        "yaxis": {
         "mirror": "allticks",
         "rangemode": "tozero",
         "showgrid": false,
         "showline": true,
         "showticklabels": true,
         "ticks": "outside",
         "type": "linear",
         "zeroline": false
        },
        "template": {
         "data": {
          "histogram2dcontour": [
           {
            "type": "histogram2dcontour",
            "colorbar": {
             "outlinewidth": 0,
             "ticks": ""
            },
            "colorscale": [
             [
              0.0,
              "#0d0887"
             ],
             [
              0.1111111111111111,
              "#46039f"
             ],
             [
              0.2222222222222222,
              "#7201a8"
             ],
             [
              0.3333333333333333,
              "#9c179e"
             ],
             [
              0.4444444444444444,
              "#bd3786"
             ],
             [
              0.5555555555555556,
              "#d8576b"
             ],
             [
              0.6666666666666666,
              "#ed7953"
             ],
             [
              0.7777777777777778,
              "#fb9f3a"
             ],
             [
              0.8888888888888888,
              "#fdca26"
             ],
             [
              1.0,
              "#f0f921"
             ]
            ]
           }
          ],
          "choropleth": [
           {
            "type": "choropleth",
            "colorbar": {
             "outlinewidth": 0,
             "ticks": ""
            }
           }
          ],
          "histogram2d": [
           {
            "type": "histogram2d",
            "colorbar": {
             "outlinewidth": 0,
             "ticks": ""
            },
            "colorscale": [
             [
              0.0,
              "#0d0887"
             ],
             [
              0.1111111111111111,
              "#46039f"
             ],
             [
              0.2222222222222222,
              "#7201a8"
             ],
             [
              0.3333333333333333,
              "#9c179e"
             ],
             [
              0.4444444444444444,
              "#bd3786"
             ],
             [
              0.5555555555555556,
              "#d8576b"
             ],
             [
              0.6666666666666666,
              "#ed7953"
             ],
             [
              0.7777777777777778,
              "#fb9f3a"
             ],
             [
              0.8888888888888888,
              "#fdca26"
             ],
             [
              1.0,
              "#f0f921"
             ]
            ]
           }
          ],
          "heatmap": [
           {
            "type": "heatmap",
            "colorbar": {
             "outlinewidth": 0,
             "ticks": ""
            },
            "colorscale": [
             [
              0.0,
              "#0d0887"
             ],
             [
              0.1111111111111111,
              "#46039f"
             ],
             [
              0.2222222222222222,
              "#7201a8"
             ],
             [
              0.3333333333333333,
              "#9c179e"
             ],
             [
              0.4444444444444444,
              "#bd3786"
             ],
             [
              0.5555555555555556,
              "#d8576b"
             ],
             [
              0.6666666666666666,
              "#ed7953"
             ],
             [
              0.7777777777777778,
              "#fb9f3a"
             ],
             [
              0.8888888888888888,
              "#fdca26"
             ],
             [
              1.0,
              "#f0f921"
             ]
            ]
           }
          ],
          "heatmapgl": [
           {
            "type": "heatmapgl",
            "colorbar": {
             "outlinewidth": 0,
             "ticks": ""
            },
            "colorscale": [
             [
              0.0,
              "#0d0887"
             ],
             [
              0.1111111111111111,
              "#46039f"
             ],
             [
              0.2222222222222222,
              "#7201a8"
             ],
             [
              0.3333333333333333,
              "#9c179e"
             ],
             [
              0.4444444444444444,
              "#bd3786"
             ],
             [
              0.5555555555555556,
              "#d8576b"
             ],
             [
              0.6666666666666666,
              "#ed7953"
             ],
             [
              0.7777777777777778,
              "#fb9f3a"
             ],
             [
              0.8888888888888888,
              "#fdca26"
             ],
             [
              1.0,
              "#f0f921"
             ]
            ]
           }
          ],
          "contourcarpet": [
           {
            "type": "contourcarpet",
            "colorbar": {
             "outlinewidth": 0,
             "ticks": ""
            }
           }
          ],
          "contour": [
           {
            "type": "contour",
            "colorbar": {
             "outlinewidth": 0,
             "ticks": ""
            },
            "colorscale": [
             [
              0.0,
              "#0d0887"
             ],
             [
              0.1111111111111111,
              "#46039f"
             ],
             [
              0.2222222222222222,
              "#7201a8"
             ],
             [
              0.3333333333333333,
              "#9c179e"
             ],
             [
              0.4444444444444444,
              "#bd3786"
             ],
             [
              0.5555555555555556,
              "#d8576b"
             ],
             [
              0.6666666666666666,
              "#ed7953"
             ],
             [
              0.7777777777777778,
              "#fb9f3a"
             ],
             [
              0.8888888888888888,
              "#fdca26"
             ],
             [
              1.0,
              "#f0f921"
             ]
            ]
           }
          ],
          "surface": [
           {
            "type": "surface",
            "colorbar": {
             "outlinewidth": 0,
             "ticks": ""
            },
            "colorscale": [
             [
              0.0,
              "#0d0887"
             ],
             [
              0.1111111111111111,
              "#46039f"
             ],
             [
              0.2222222222222222,
              "#7201a8"
             ],
             [
              0.3333333333333333,
              "#9c179e"
             ],
             [
              0.4444444444444444,
              "#bd3786"
             ],
             [
              0.5555555555555556,
              "#d8576b"
             ],
             [
              0.6666666666666666,
              "#ed7953"
             ],
             [
              0.7777777777777778,
              "#fb9f3a"
             ],
             [
              0.8888888888888888,
              "#fdca26"
             ],
             [
              1.0,
              "#f0f921"
             ]
            ]
           }
          ],
          "mesh3d": [
           {
            "type": "mesh3d",
            "colorbar": {
             "outlinewidth": 0,
             "ticks": ""
            }
           }
          ],
          "scatter": [
           {
            "marker": {
             "line": {
              "color": "#283442"
             }
            },
            "type": "scatter"
           }
          ],
          "parcoords": [
           {
            "type": "parcoords",
            "line": {
             "colorbar": {
              "outlinewidth": 0,
              "ticks": ""
             }
            }
           }
          ],
          "scatterpolargl": [
           {
            "type": "scatterpolargl",
            "marker": {
             "colorbar": {
              "outlinewidth": 0,
              "ticks": ""
             }
            }
           }
          ],
          "bar": [
           {
            "error_x": {
             "color": "#f2f5fa"
            },
            "error_y": {
             "color": "#f2f5fa"
            },
            "marker": {
             "line": {
              "color": "rgb(17,17,17)",
              "width": 0.5
             },
             "pattern": {
              "fillmode": "overlay",
              "size": 10,
              "solidity": 0.2
             }
            },
            "type": "bar"
           }
          ],
          "scattergeo": [
           {
            "type": "scattergeo",
            "marker": {
             "colorbar": {
              "outlinewidth": 0,
              "ticks": ""
             }
            }
           }
          ],
          "scatterpolar": [
           {
            "type": "scatterpolar",
            "marker": {
             "colorbar": {
              "outlinewidth": 0,
              "ticks": ""
             }
            }
           }
          ],
          "histogram": [
           {
            "marker": {
             "pattern": {
              "fillmode": "overlay",
              "size": 10,
              "solidity": 0.2
             }
            },
            "type": "histogram"
           }
          ],
          "scattergl": [
           {
            "marker": {
             "line": {
              "color": "#283442"
             }
            },
            "type": "scattergl"
           }
          ],
          "scatter3d": [
           {
            "type": "scatter3d",
            "line": {
             "colorbar": {
              "outlinewidth": 0,
              "ticks": ""
             }
            },
            "marker": {
             "colorbar": {
              "outlinewidth": 0,
              "ticks": ""
             }
            }
           }
          ],
          "scattermapbox": [
           {
            "type": "scattermapbox",
            "marker": {
             "colorbar": {
              "outlinewidth": 0,
              "ticks": ""
             }
            }
           }
          ],
          "scatterternary": [
           {
            "type": "scatterternary",
            "marker": {
             "colorbar": {
              "outlinewidth": 0,
              "ticks": ""
             }
            }
           }
          ],
          "scattercarpet": [
           {
            "type": "scattercarpet",
            "marker": {
             "colorbar": {
              "outlinewidth": 0,
              "ticks": ""
             }
            }
           }
          ],
          "carpet": [
           {
            "aaxis": {
             "endlinecolor": "#A2B1C6",
             "gridcolor": "#506784",
             "linecolor": "#506784",
             "minorgridcolor": "#506784",
             "startlinecolor": "#A2B1C6"
            },
            "baxis": {
             "endlinecolor": "#A2B1C6",
             "gridcolor": "#506784",
             "linecolor": "#506784",
             "minorgridcolor": "#506784",
             "startlinecolor": "#A2B1C6"
            },
            "type": "carpet"
           }
          ],
          "table": [
           {
            "cells": {
             "fill": {
              "color": "#506784"
             },
             "line": {
              "color": "rgb(17,17,17)"
             }
            },
            "header": {
             "fill": {
              "color": "#2a3f5f"
             },
             "line": {
              "color": "rgb(17,17,17)"
             }
            },
            "type": "table"
           }
          ],
          "barpolar": [
           {
            "marker": {
             "line": {
              "color": "rgb(17,17,17)",
              "width": 0.5
             },
             "pattern": {
              "fillmode": "overlay",
              "size": 10,
              "solidity": 0.2
             }
            },
            "type": "barpolar"
           }
          ],
          "pie": [
           {
            "automargin": true,
            "type": "pie"
           }
          ]
         },
         "layout": {
          "autotypenumbers": "strict",
          "colorway": [
           "#636efa",
           "#EF553B",
           "#00cc96",
           "#ab63fa",
           "#FFA15A",
           "#19d3f3",
           "#FF6692",
           "#B6E880",
           "#FF97FF",
           "#FECB52"
          ],
          "font": {
           "color": "#f2f5fa"
          },
          "hovermode": "closest",
          "hoverlabel": {
           "align": "left"
          },
          "paper_bgcolor": "rgb(17,17,17)",
          "plot_bgcolor": "rgb(17,17,17)",
          "polar": {
           "bgcolor": "rgb(17,17,17)",
           "angularaxis": {
            "gridcolor": "#506784",
            "linecolor": "#506784",
            "ticks": ""
           },
           "radialaxis": {
            "gridcolor": "#506784",
            "linecolor": "#506784",
            "ticks": ""
           }
          },
          "ternary": {
           "bgcolor": "rgb(17,17,17)",
           "aaxis": {
            "gridcolor": "#506784",
            "linecolor": "#506784",
            "ticks": ""
           },
           "baxis": {
            "gridcolor": "#506784",
            "linecolor": "#506784",
            "ticks": ""
           },
           "caxis": {
            "gridcolor": "#506784",
            "linecolor": "#506784",
            "ticks": ""
           }
          },
          "coloraxis": {
           "colorbar": {
            "outlinewidth": 0,
            "ticks": ""
           }
          },
          "colorscale": {
           "sequential": [
            [
             0.0,
             "#0d0887"
            ],
            [
             0.1111111111111111,
             "#46039f"
            ],
            [
             0.2222222222222222,
             "#7201a8"
            ],
            [
             0.3333333333333333,
             "#9c179e"
            ],
            [
             0.4444444444444444,
             "#bd3786"
            ],
            [
             0.5555555555555556,
             "#d8576b"
            ],
            [
             0.6666666666666666,
             "#ed7953"
            ],
            [
             0.7777777777777778,
             "#fb9f3a"
            ],
            [
             0.8888888888888888,
             "#fdca26"
            ],
            [
             1.0,
             "#f0f921"
            ]
           ],
           "sequentialminus": [
            [
             0.0,
             "#0d0887"
            ],
            [
             0.1111111111111111,
             "#46039f"
            ],
            [
             0.2222222222222222,
             "#7201a8"
            ],
            [
             0.3333333333333333,
             "#9c179e"
            ],
            [
             0.4444444444444444,
             "#bd3786"
            ],
            [
             0.5555555555555556,
             "#d8576b"
            ],
            [
             0.6666666666666666,
             "#ed7953"
            ],
            [
             0.7777777777777778,
             "#fb9f3a"
            ],
            [
             0.8888888888888888,
             "#fdca26"
            ],
            [
             1.0,
             "#f0f921"
            ]
           ],
           "diverging": [
            [
             0,
             "#8e0152"
            ],
            [
             0.1,
             "#c51b7d"
            ],
            [
             0.2,
             "#de77ae"
            ],
            [
             0.3,
             "#f1b6da"
            ],
            [
             0.4,
             "#fde0ef"
            ],
            [
             0.5,
             "#f7f7f7"
            ],
            [
             0.6,
             "#e6f5d0"
            ],
            [
             0.7,
             "#b8e186"
            ],
            [
             0.8,
             "#7fbc41"
            ],
            [
             0.9,
             "#4d9221"
            ],
            [
             1,
             "#276419"
            ]
           ]
          },
          "xaxis": {
           "gridcolor": "#283442",
           "linecolor": "#506784",
           "ticks": "",
           "title": {
            "standoff": 15
           },
           "zerolinecolor": "#283442",
           "automargin": true,
           "zerolinewidth": 2
          },
          "yaxis": {
           "gridcolor": "#283442",
           "linecolor": "#506784",
           "ticks": "",
           "title": {
            "standoff": 15
           },
           "zerolinecolor": "#283442",
           "automargin": true,
           "zerolinewidth": 2
          },
          "scene": {
           "xaxis": {
            "backgroundcolor": "rgb(17,17,17)",
            "gridcolor": "#506784",
            "linecolor": "#506784",
            "showbackground": true,
            "ticks": "",
            "zerolinecolor": "#C8D4E3",
            "gridwidth": 2
           },
           "yaxis": {
            "backgroundcolor": "rgb(17,17,17)",
            "gridcolor": "#506784",
            "linecolor": "#506784",
            "showbackground": true,
            "ticks": "",
            "zerolinecolor": "#C8D4E3",
            "gridwidth": 2
           },
           "zaxis": {
            "backgroundcolor": "rgb(17,17,17)",
            "gridcolor": "#506784",
            "linecolor": "#506784",
            "showbackground": true,
            "ticks": "",
            "zerolinecolor": "#C8D4E3",
            "gridwidth": 2
           }
          },
          "shapedefaults": {
           "line": {
            "color": "#f2f5fa"
           }
          },
          "annotationdefaults": {
           "arrowcolor": "#f2f5fa",
           "arrowhead": 0,
           "arrowwidth": 1
          },
          "geo": {
           "bgcolor": "rgb(17,17,17)",
           "landcolor": "rgb(17,17,17)",
           "subunitcolor": "#506784",
           "showland": true,
           "showlakes": true,
           "lakecolor": "rgb(17,17,17)"
          },
          "title": {
           "x": 0.05
          },
          "updatemenudefaults": {
           "bgcolor": "#506784",
           "borderwidth": 0
          },
          "sliderdefaults": {
           "bgcolor": "#C8D4E3",
           "borderwidth": 1,
           "bordercolor": "rgb(17,17,17)",
           "tickwidth": 0
          },
          "mapbox": {
           "style": "dark"
          }
         }
        }
       },
       "config": {
        "plotlyServerURL": "https://plot.ly"
       }
      },
      "text/html": "<div>                            <div id=\"d3de8b5e-1db4-4dd1-8459-c22bc0f2b65a\" class=\"plotly-graph-div\" style=\"height:1000px; width:1300px;\"></div>            <script type=\"text/javascript\">                require([\"plotly\"], function(Plotly) {                    window.PLOTLYENV=window.PLOTLYENV || {};                                    if (document.getElementById(\"d3de8b5e-1db4-4dd1-8459-c22bc0f2b65a\")) {                    Plotly.newPlot(                        \"d3de8b5e-1db4-4dd1-8459-c22bc0f2b65a\",                        [{\"hoverinfo\":\"text\",\"marker\":{\"color\":\"rgb(61,153,112)\"},\"mode\":\"lines\",\"x\":[5.0,5.0,15.0,15.0],\"xaxis\":\"x\",\"y\":[0.0,0.23330074709348247,0.23330074709348247,0.0],\"yaxis\":\"y\",\"type\":\"scatter\"},{\"hoverinfo\":\"text\",\"marker\":{\"color\":\"rgb(255,65,54)\"},\"mode\":\"lines\",\"x\":[45.0,45.0,55.0,55.0],\"xaxis\":\"x\",\"y\":[0.0,0.12024032393435674,0.12024032393435674,0.0],\"yaxis\":\"y\",\"type\":\"scatter\"},{\"hoverinfo\":\"text\",\"marker\":{\"color\":\"rgb(255,65,54)\"},\"mode\":\"lines\",\"x\":[35.0,35.0,50.0,50.0],\"xaxis\":\"x\",\"y\":[0.0,0.17581939107071332,0.17581939107071332,0.12024032393435674],\"yaxis\":\"y\",\"type\":\"scatter\"},{\"hoverinfo\":\"text\",\"marker\":{\"color\":\"rgb(255,65,54)\"},\"mode\":\"lines\",\"x\":[25.0,25.0,42.5,42.5],\"xaxis\":\"x\",\"y\":[0.0,0.41540972599389314,0.41540972599389314,0.17581939107071332],\"yaxis\":\"y\",\"type\":\"scatter\"},{\"hoverinfo\":\"text\",\"marker\":{\"color\":\"rgb(35,205,205)\"},\"mode\":\"lines\",\"x\":[75.0,75.0,85.0,85.0],\"xaxis\":\"x\",\"y\":[0.0,0.07734740185826904,0.07734740185826904,0.0],\"yaxis\":\"y\",\"type\":\"scatter\"},{\"hoverinfo\":\"text\",\"marker\":{\"color\":\"rgb(35,205,205)\"},\"mode\":\"lines\",\"x\":[105.0,105.0,115.0,115.0],\"xaxis\":\"x\",\"y\":[0.0,0.05905192404559527,0.05905192404559527,0.0],\"yaxis\":\"y\",\"type\":\"scatter\"},{\"hoverinfo\":\"text\",\"marker\":{\"color\":\"rgb(35,205,205)\"},\"mode\":\"lines\",\"x\":[95.0,95.0,110.0,110.0],\"xaxis\":\"x\",\"y\":[0.0,0.08279095038848572,0.08279095038848572,0.05905192404559527],\"yaxis\":\"y\",\"type\":\"scatter\"},{\"hoverinfo\":\"text\",\"marker\":{\"color\":\"rgb(35,205,205)\"},\"mode\":\"lines\",\"x\":[125.0,125.0,135.0,135.0],\"xaxis\":\"x\",\"y\":[0.0,0.09821384247736326,0.09821384247736326,0.0],\"yaxis\":\"y\",\"type\":\"scatter\"},{\"hoverinfo\":\"text\",\"marker\":{\"color\":\"rgb(35,205,205)\"},\"mode\":\"lines\",\"x\":[102.5,102.5,130.0,130.0],\"xaxis\":\"x\",\"y\":[0.08279095038848572,0.14645772703025034,0.14645772703025034,0.09821384247736326],\"yaxis\":\"y\",\"type\":\"scatter\"},{\"hoverinfo\":\"text\",\"marker\":{\"color\":\"rgb(35,205,205)\"},\"mode\":\"lines\",\"x\":[155.0,155.0,165.0,165.0],\"xaxis\":\"x\",\"y\":[0.0,0.06759488531250206,0.06759488531250206,0.0],\"yaxis\":\"y\",\"type\":\"scatter\"},{\"hoverinfo\":\"text\",\"marker\":{\"color\":\"rgb(35,205,205)\"},\"mode\":\"lines\",\"x\":[145.0,145.0,160.0,160.0],\"xaxis\":\"x\",\"y\":[0.0,0.15511015358443336,0.15511015358443336,0.06759488531250206],\"yaxis\":\"y\",\"type\":\"scatter\"},{\"hoverinfo\":\"text\",\"marker\":{\"color\":\"rgb(35,205,205)\"},\"mode\":\"lines\",\"x\":[116.25,116.25,152.5,152.5],\"xaxis\":\"x\",\"y\":[0.14645772703025034,0.19008917431183084,0.19008917431183084,0.15511015358443336],\"yaxis\":\"y\",\"type\":\"scatter\"},{\"hoverinfo\":\"text\",\"marker\":{\"color\":\"rgb(35,205,205)\"},\"mode\":\"lines\",\"x\":[80.0,80.0,134.375,134.375],\"xaxis\":\"x\",\"y\":[0.07734740185826904,0.208803761087362,0.208803761087362,0.19008917431183084],\"yaxis\":\"y\",\"type\":\"scatter\"},{\"hoverinfo\":\"text\",\"marker\":{\"color\":\"rgb(35,205,205)\"},\"mode\":\"lines\",\"x\":[185.0,185.0,195.0,195.0],\"xaxis\":\"x\",\"y\":[0.0,0.07827017193558881,0.07827017193558881,0.0],\"yaxis\":\"y\",\"type\":\"scatter\"},{\"hoverinfo\":\"text\",\"marker\":{\"color\":\"rgb(35,205,205)\"},\"mode\":\"lines\",\"x\":[175.0,175.0,190.0,190.0],\"xaxis\":\"x\",\"y\":[0.0,0.1315629816483889,0.1315629816483889,0.07827017193558881],\"yaxis\":\"y\",\"type\":\"scatter\"},{\"hoverinfo\":\"text\",\"marker\":{\"color\":\"rgb(35,205,205)\"},\"mode\":\"lines\",\"x\":[215.0,215.0,225.0,225.0],\"xaxis\":\"x\",\"y\":[0.0,0.07986660047419661,0.07986660047419661,0.0],\"yaxis\":\"y\",\"type\":\"scatter\"},{\"hoverinfo\":\"text\",\"marker\":{\"color\":\"rgb(35,205,205)\"},\"mode\":\"lines\",\"x\":[205.0,205.0,220.0,220.0],\"xaxis\":\"x\",\"y\":[0.0,0.09460514721865168,0.09460514721865168,0.07986660047419661],\"yaxis\":\"y\",\"type\":\"scatter\"},{\"hoverinfo\":\"text\",\"marker\":{\"color\":\"rgb(35,205,205)\"},\"mode\":\"lines\",\"x\":[235.0,235.0,245.0,245.0],\"xaxis\":\"x\",\"y\":[0.0,0.03798682275764208,0.03798682275764208,0.0],\"yaxis\":\"y\",\"type\":\"scatter\"},{\"hoverinfo\":\"text\",\"marker\":{\"color\":\"rgb(35,205,205)\"},\"mode\":\"lines\",\"x\":[255.0,255.0,265.0,265.0],\"xaxis\":\"x\",\"y\":[0.0,0.12205329108357442,0.12205329108357442,0.0],\"yaxis\":\"y\",\"type\":\"scatter\"},{\"hoverinfo\":\"text\",\"marker\":{\"color\":\"rgb(35,205,205)\"},\"mode\":\"lines\",\"x\":[240.0,240.0,260.0,260.0],\"xaxis\":\"x\",\"y\":[0.03798682275764208,0.1505016856428246,0.1505016856428246,0.12205329108357442],\"yaxis\":\"y\",\"type\":\"scatter\"},{\"hoverinfo\":\"text\",\"marker\":{\"color\":\"rgb(35,205,205)\"},\"mode\":\"lines\",\"x\":[212.5,212.5,250.0,250.0],\"xaxis\":\"x\",\"y\":[0.09460514721865168,0.24003513197104728,0.24003513197104728,0.1505016856428246],\"yaxis\":\"y\",\"type\":\"scatter\"},{\"hoverinfo\":\"text\",\"marker\":{\"color\":\"rgb(35,205,205)\"},\"mode\":\"lines\",\"x\":[182.5,182.5,231.25,231.25],\"xaxis\":\"x\",\"y\":[0.1315629816483889,0.2479173040195563,0.2479173040195563,0.24003513197104728],\"yaxis\":\"y\",\"type\":\"scatter\"},{\"hoverinfo\":\"text\",\"marker\":{\"color\":\"rgb(35,205,205)\"},\"mode\":\"lines\",\"x\":[107.1875,107.1875,206.875,206.875],\"xaxis\":\"x\",\"y\":[0.208803761087362,0.27365875788486466,0.27365875788486466,0.2479173040195563],\"yaxis\":\"y\",\"type\":\"scatter\"},{\"hoverinfo\":\"text\",\"marker\":{\"color\":\"rgb(35,205,205)\"},\"mode\":\"lines\",\"x\":[275.0,275.0,285.0,285.0],\"xaxis\":\"x\",\"y\":[0.0,0.14203246362693214,0.14203246362693214,0.0],\"yaxis\":\"y\",\"type\":\"scatter\"},{\"hoverinfo\":\"text\",\"marker\":{\"color\":\"rgb(35,205,205)\"},\"mode\":\"lines\",\"x\":[295.0,295.0,305.0,305.0],\"xaxis\":\"x\",\"y\":[0.0,0.17629368836905973,0.17629368836905973,0.0],\"yaxis\":\"y\",\"type\":\"scatter\"},{\"hoverinfo\":\"text\",\"marker\":{\"color\":\"rgb(35,205,205)\"},\"mode\":\"lines\",\"x\":[325.0,325.0,335.0,335.0],\"xaxis\":\"x\",\"y\":[0.0,0.14153093089878277,0.14153093089878277,0.0],\"yaxis\":\"y\",\"type\":\"scatter\"},{\"hoverinfo\":\"text\",\"marker\":{\"color\":\"rgb(35,205,205)\"},\"mode\":\"lines\",\"x\":[315.0,315.0,330.0,330.0],\"xaxis\":\"x\",\"y\":[0.0,0.20896690516151264,0.20896690516151264,0.14153093089878277],\"yaxis\":\"y\",\"type\":\"scatter\"},{\"hoverinfo\":\"text\",\"marker\":{\"color\":\"rgb(35,205,205)\"},\"mode\":\"lines\",\"x\":[300.0,300.0,322.5,322.5],\"xaxis\":\"x\",\"y\":[0.17629368836905973,0.28474062970599007,0.28474062970599007,0.20896690516151264],\"yaxis\":\"y\",\"type\":\"scatter\"},{\"hoverinfo\":\"text\",\"marker\":{\"color\":\"rgb(35,205,205)\"},\"mode\":\"lines\",\"x\":[280.0,280.0,311.25,311.25],\"xaxis\":\"x\",\"y\":[0.14203246362693214,0.35544369267967146,0.35544369267967146,0.28474062970599007],\"yaxis\":\"y\",\"type\":\"scatter\"},{\"hoverinfo\":\"text\",\"marker\":{\"color\":\"rgb(35,205,205)\"},\"mode\":\"lines\",\"x\":[157.03125,157.03125,295.625,295.625],\"xaxis\":\"x\",\"y\":[0.27365875788486466,0.4784769660811376,0.4784769660811376,0.35544369267967146],\"yaxis\":\"y\",\"type\":\"scatter\"},{\"hoverinfo\":\"text\",\"marker\":{\"color\":\"rgb(35,205,205)\"},\"mode\":\"lines\",\"x\":[65.0,65.0,226.328125,226.328125],\"xaxis\":\"x\",\"y\":[0.0,0.5626687397794653,0.5626687397794653,0.4784769660811376],\"yaxis\":\"y\",\"type\":\"scatter\"},{\"hoverinfo\":\"text\",\"marker\":{\"color\":\"rgb(133,20,75)\"},\"mode\":\"lines\",\"x\":[345.0,345.0,355.0,355.0],\"xaxis\":\"x\",\"y\":[0.0,0.15026244559847096,0.15026244559847096,0.0],\"yaxis\":\"y\",\"type\":\"scatter\"},{\"hoverinfo\":\"text\",\"marker\":{\"color\":\"rgb(133,20,75)\"},\"mode\":\"lines\",\"x\":[365.0,365.0,375.0,375.0],\"xaxis\":\"x\",\"y\":[0.0,0.1308240628892968,0.1308240628892968,0.0],\"yaxis\":\"y\",\"type\":\"scatter\"},{\"hoverinfo\":\"text\",\"marker\":{\"color\":\"rgb(133,20,75)\"},\"mode\":\"lines\",\"x\":[385.0,385.0,395.0,395.0],\"xaxis\":\"x\",\"y\":[0.0,0.15270813150961804,0.15270813150961804,0.0],\"yaxis\":\"y\",\"type\":\"scatter\"},{\"hoverinfo\":\"text\",\"marker\":{\"color\":\"rgb(133,20,75)\"},\"mode\":\"lines\",\"x\":[370.0,370.0,390.0,390.0],\"xaxis\":\"x\",\"y\":[0.1308240628892968,0.3042408607341012,0.3042408607341012,0.15270813150961804],\"yaxis\":\"y\",\"type\":\"scatter\"},{\"hoverinfo\":\"text\",\"marker\":{\"color\":\"rgb(133,20,75)\"},\"mode\":\"lines\",\"x\":[350.0,350.0,380.0,380.0],\"xaxis\":\"x\",\"y\":[0.15026244559847096,0.33563213864782765,0.33563213864782765,0.3042408607341012],\"yaxis\":\"y\",\"type\":\"scatter\"},{\"hoverinfo\":\"text\",\"marker\":{\"color\":\"rgb(133,20,75)\"},\"mode\":\"lines\",\"x\":[415.0,415.0,425.0,425.0],\"xaxis\":\"x\",\"y\":[0.0,0.18430010032584612,0.18430010032584612,0.0],\"yaxis\":\"y\",\"type\":\"scatter\"},{\"hoverinfo\":\"text\",\"marker\":{\"color\":\"rgb(133,20,75)\"},\"mode\":\"lines\",\"x\":[405.0,405.0,420.0,420.0],\"xaxis\":\"x\",\"y\":[0.0,0.27207881723260746,0.27207881723260746,0.18430010032584612],\"yaxis\":\"y\",\"type\":\"scatter\"},{\"hoverinfo\":\"text\",\"marker\":{\"color\":\"rgb(133,20,75)\"},\"mode\":\"lines\",\"x\":[445.0,445.0,455.0,455.0],\"xaxis\":\"x\",\"y\":[0.0,0.13478213866207647,0.13478213866207647,0.0],\"yaxis\":\"y\",\"type\":\"scatter\"},{\"hoverinfo\":\"text\",\"marker\":{\"color\":\"rgb(133,20,75)\"},\"mode\":\"lines\",\"x\":[465.0,465.0,475.0,475.0],\"xaxis\":\"x\",\"y\":[0.0,0.22712469873871577,0.22712469873871577,0.0],\"yaxis\":\"y\",\"type\":\"scatter\"},{\"hoverinfo\":\"text\",\"marker\":{\"color\":\"rgb(133,20,75)\"},\"mode\":\"lines\",\"x\":[450.0,450.0,470.0,470.0],\"xaxis\":\"x\",\"y\":[0.13478213866207647,0.24946111852890537,0.24946111852890537,0.22712469873871577],\"yaxis\":\"y\",\"type\":\"scatter\"},{\"hoverinfo\":\"text\",\"marker\":{\"color\":\"rgb(133,20,75)\"},\"mode\":\"lines\",\"x\":[435.0,435.0,460.0,460.0],\"xaxis\":\"x\",\"y\":[0.0,0.31821633964871116,0.31821633964871116,0.24946111852890537],\"yaxis\":\"y\",\"type\":\"scatter\"},{\"hoverinfo\":\"text\",\"marker\":{\"color\":\"rgb(133,20,75)\"},\"mode\":\"lines\",\"x\":[412.5,412.5,447.5,447.5],\"xaxis\":\"x\",\"y\":[0.27207881723260746,0.39995609233772533,0.39995609233772533,0.31821633964871116],\"yaxis\":\"y\",\"type\":\"scatter\"},{\"hoverinfo\":\"text\",\"marker\":{\"color\":\"rgb(133,20,75)\"},\"mode\":\"lines\",\"x\":[365.0,365.0,430.0,430.0],\"xaxis\":\"x\",\"y\":[0.33563213864782765,0.5064322142755652,0.5064322142755652,0.39995609233772533],\"yaxis\":\"y\",\"type\":\"scatter\"},{\"hoverinfo\":\"text\",\"marker\":{\"color\":\"rgb(133,20,75)\"},\"mode\":\"lines\",\"x\":[505.0,505.0,515.0,515.0],\"xaxis\":\"x\",\"y\":[0.0,0.14023515653310226,0.14023515653310226,0.0],\"yaxis\":\"y\",\"type\":\"scatter\"},{\"hoverinfo\":\"text\",\"marker\":{\"color\":\"rgb(133,20,75)\"},\"mode\":\"lines\",\"x\":[495.0,495.0,510.0,510.0],\"xaxis\":\"x\",\"y\":[0.0,0.16763547252866198,0.16763547252866198,0.14023515653310226],\"yaxis\":\"y\",\"type\":\"scatter\"},{\"hoverinfo\":\"text\",\"marker\":{\"color\":\"rgb(133,20,75)\"},\"mode\":\"lines\",\"x\":[485.0,485.0,502.5,502.5],\"xaxis\":\"x\",\"y\":[0.0,0.2436105681051531,0.2436105681051531,0.16763547252866198],\"yaxis\":\"y\",\"type\":\"scatter\"},{\"hoverinfo\":\"text\",\"marker\":{\"color\":\"rgb(133,20,75)\"},\"mode\":\"lines\",\"x\":[545.0,545.0,555.0,555.0],\"xaxis\":\"x\",\"y\":[0.0,0.10270706520059794,0.10270706520059794,0.0],\"yaxis\":\"y\",\"type\":\"scatter\"},{\"hoverinfo\":\"text\",\"marker\":{\"color\":\"rgb(133,20,75)\"},\"mode\":\"lines\",\"x\":[535.0,535.0,550.0,550.0],\"xaxis\":\"x\",\"y\":[0.0,0.14953415731306796,0.14953415731306796,0.10270706520059794],\"yaxis\":\"y\",\"type\":\"scatter\"},{\"hoverinfo\":\"text\",\"marker\":{\"color\":\"rgb(133,20,75)\"},\"mode\":\"lines\",\"x\":[525.0,525.0,542.5,542.5],\"xaxis\":\"x\",\"y\":[0.0,0.28825508208110556,0.28825508208110556,0.14953415731306796],\"yaxis\":\"y\",\"type\":\"scatter\"},{\"hoverinfo\":\"text\",\"marker\":{\"color\":\"rgb(133,20,75)\"},\"mode\":\"lines\",\"x\":[493.75,493.75,533.75,533.75],\"xaxis\":\"x\",\"y\":[0.2436105681051531,0.3594866803322054,0.3594866803322054,0.28825508208110556],\"yaxis\":\"y\",\"type\":\"scatter\"},{\"hoverinfo\":\"text\",\"marker\":{\"color\":\"rgb(133,20,75)\"},\"mode\":\"lines\",\"x\":[575.0,575.0,585.0,585.0],\"xaxis\":\"x\",\"y\":[0.0,0.13654568471578762,0.13654568471578762,0.0],\"yaxis\":\"y\",\"type\":\"scatter\"},{\"hoverinfo\":\"text\",\"marker\":{\"color\":\"rgb(133,20,75)\"},\"mode\":\"lines\",\"x\":[565.0,565.0,580.0,580.0],\"xaxis\":\"x\",\"y\":[0.0,0.15877618154905712,0.15877618154905712,0.13654568471578762],\"yaxis\":\"y\",\"type\":\"scatter\"},{\"hoverinfo\":\"text\",\"marker\":{\"color\":\"rgb(133,20,75)\"},\"mode\":\"lines\",\"x\":[595.0,595.0,605.0,605.0],\"xaxis\":\"x\",\"y\":[0.0,0.18037423469853,0.18037423469853,0.0],\"yaxis\":\"y\",\"type\":\"scatter\"},{\"hoverinfo\":\"text\",\"marker\":{\"color\":\"rgb(133,20,75)\"},\"mode\":\"lines\",\"x\":[572.5,572.5,600.0,600.0],\"xaxis\":\"x\",\"y\":[0.15877618154905712,0.24458627442350672,0.24458627442350672,0.18037423469853],\"yaxis\":\"y\",\"type\":\"scatter\"},{\"hoverinfo\":\"text\",\"marker\":{\"color\":\"rgb(133,20,75)\"},\"mode\":\"lines\",\"x\":[615.0,615.0,625.0,625.0],\"xaxis\":\"x\",\"y\":[0.0,0.06999026143243546,0.06999026143243546,0.0],\"yaxis\":\"y\",\"type\":\"scatter\"},{\"hoverinfo\":\"text\",\"marker\":{\"color\":\"rgb(133,20,75)\"},\"mode\":\"lines\",\"x\":[635.0,635.0,645.0,645.0],\"xaxis\":\"x\",\"y\":[0.0,0.0921257661416401,0.0921257661416401,0.0],\"yaxis\":\"y\",\"type\":\"scatter\"},{\"hoverinfo\":\"text\",\"marker\":{\"color\":\"rgb(133,20,75)\"},\"mode\":\"lines\",\"x\":[620.0,620.0,640.0,640.0],\"xaxis\":\"x\",\"y\":[0.06999026143243546,0.12155096048612841,0.12155096048612841,0.0921257661416401],\"yaxis\":\"y\",\"type\":\"scatter\"},{\"hoverinfo\":\"text\",\"marker\":{\"color\":\"rgb(133,20,75)\"},\"mode\":\"lines\",\"x\":[665.0,665.0,675.0,675.0],\"xaxis\":\"x\",\"y\":[0.0,0.09307681285485107,0.09307681285485107,0.0],\"yaxis\":\"y\",\"type\":\"scatter\"},{\"hoverinfo\":\"text\",\"marker\":{\"color\":\"rgb(133,20,75)\"},\"mode\":\"lines\",\"x\":[655.0,655.0,670.0,670.0],\"xaxis\":\"x\",\"y\":[0.0,0.11191398192944255,0.11191398192944255,0.09307681285485107],\"yaxis\":\"y\",\"type\":\"scatter\"},{\"hoverinfo\":\"text\",\"marker\":{\"color\":\"rgb(133,20,75)\"},\"mode\":\"lines\",\"x\":[695.0,695.0,705.0,705.0],\"xaxis\":\"x\",\"y\":[0.0,0.058035350566696925,0.058035350566696925,0.0],\"yaxis\":\"y\",\"type\":\"scatter\"},{\"hoverinfo\":\"text\",\"marker\":{\"color\":\"rgb(133,20,75)\"},\"mode\":\"lines\",\"x\":[685.0,685.0,700.0,700.0],\"xaxis\":\"x\",\"y\":[0.0,0.13507355796745452,0.13507355796745452,0.058035350566696925],\"yaxis\":\"y\",\"type\":\"scatter\"},{\"hoverinfo\":\"text\",\"marker\":{\"color\":\"rgb(133,20,75)\"},\"mode\":\"lines\",\"x\":[662.5,662.5,692.5,692.5],\"xaxis\":\"x\",\"y\":[0.11191398192944255,0.20971210372542634,0.20971210372542634,0.13507355796745452],\"yaxis\":\"y\",\"type\":\"scatter\"},{\"hoverinfo\":\"text\",\"marker\":{\"color\":\"rgb(133,20,75)\"},\"mode\":\"lines\",\"x\":[630.0,630.0,677.5,677.5],\"xaxis\":\"x\",\"y\":[0.12155096048612841,0.29806379623804485,0.29806379623804485,0.20971210372542634],\"yaxis\":\"y\",\"type\":\"scatter\"},{\"hoverinfo\":\"text\",\"marker\":{\"color\":\"rgb(133,20,75)\"},\"mode\":\"lines\",\"x\":[586.25,586.25,653.75,653.75],\"xaxis\":\"x\",\"y\":[0.24458627442350672,0.44450930414457984,0.44450930414457984,0.29806379623804485],\"yaxis\":\"y\",\"type\":\"scatter\"},{\"hoverinfo\":\"text\",\"marker\":{\"color\":\"rgb(133,20,75)\"},\"mode\":\"lines\",\"x\":[715.0,715.0,725.0,725.0],\"xaxis\":\"x\",\"y\":[0.0,0.08542443490990652,0.08542443490990652,0.0],\"yaxis\":\"y\",\"type\":\"scatter\"},{\"hoverinfo\":\"text\",\"marker\":{\"color\":\"rgb(133,20,75)\"},\"mode\":\"lines\",\"x\":[745.0,745.0,755.0,755.0],\"xaxis\":\"x\",\"y\":[0.0,0.08840724650727239,0.08840724650727239,0.0],\"yaxis\":\"y\",\"type\":\"scatter\"},{\"hoverinfo\":\"text\",\"marker\":{\"color\":\"rgb(133,20,75)\"},\"mode\":\"lines\",\"x\":[735.0,735.0,750.0,750.0],\"xaxis\":\"x\",\"y\":[0.0,0.16779070937826218,0.16779070937826218,0.08840724650727239],\"yaxis\":\"y\",\"type\":\"scatter\"},{\"hoverinfo\":\"text\",\"marker\":{\"color\":\"rgb(133,20,75)\"},\"mode\":\"lines\",\"x\":[720.0,720.0,742.5,742.5],\"xaxis\":\"x\",\"y\":[0.08542443490990652,0.24650916410207696,0.24650916410207696,0.16779070937826218],\"yaxis\":\"y\",\"type\":\"scatter\"},{\"hoverinfo\":\"text\",\"marker\":{\"color\":\"rgb(133,20,75)\"},\"mode\":\"lines\",\"x\":[775.0,775.0,785.0,785.0],\"xaxis\":\"x\",\"y\":[0.0,0.14604419333091206,0.14604419333091206,0.0],\"yaxis\":\"y\",\"type\":\"scatter\"},{\"hoverinfo\":\"text\",\"marker\":{\"color\":\"rgb(133,20,75)\"},\"mode\":\"lines\",\"x\":[765.0,765.0,780.0,780.0],\"xaxis\":\"x\",\"y\":[0.0,0.1605800311362276,0.1605800311362276,0.14604419333091206],\"yaxis\":\"y\",\"type\":\"scatter\"},{\"hoverinfo\":\"text\",\"marker\":{\"color\":\"rgb(133,20,75)\"},\"mode\":\"lines\",\"x\":[815.0,815.0,825.0,825.0],\"xaxis\":\"x\",\"y\":[0.0,0.05624633443363521,0.05624633443363521,0.0],\"yaxis\":\"y\",\"type\":\"scatter\"},{\"hoverinfo\":\"text\",\"marker\":{\"color\":\"rgb(133,20,75)\"},\"mode\":\"lines\",\"x\":[805.0,805.0,820.0,820.0],\"xaxis\":\"x\",\"y\":[0.0,0.09830334378800702,0.09830334378800702,0.05624633443363521],\"yaxis\":\"y\",\"type\":\"scatter\"},{\"hoverinfo\":\"text\",\"marker\":{\"color\":\"rgb(133,20,75)\"},\"mode\":\"lines\",\"x\":[795.0,795.0,812.5,812.5],\"xaxis\":\"x\",\"y\":[0.0,0.13737977448637484,0.13737977448637484,0.09830334378800702],\"yaxis\":\"y\",\"type\":\"scatter\"},{\"hoverinfo\":\"text\",\"marker\":{\"color\":\"rgb(133,20,75)\"},\"mode\":\"lines\",\"x\":[845.0,845.0,855.0,855.0],\"xaxis\":\"x\",\"y\":[0.0,0.04612493494306298,0.04612493494306298,0.0],\"yaxis\":\"y\",\"type\":\"scatter\"},{\"hoverinfo\":\"text\",\"marker\":{\"color\":\"rgb(133,20,75)\"},\"mode\":\"lines\",\"x\":[865.0,865.0,875.0,875.0],\"xaxis\":\"x\",\"y\":[0.0,0.06625831558346931,0.06625831558346931,0.0],\"yaxis\":\"y\",\"type\":\"scatter\"},{\"hoverinfo\":\"text\",\"marker\":{\"color\":\"rgb(133,20,75)\"},\"mode\":\"lines\",\"x\":[850.0,850.0,870.0,870.0],\"xaxis\":\"x\",\"y\":[0.04612493494306298,0.09646096382320336,0.09646096382320336,0.06625831558346931],\"yaxis\":\"y\",\"type\":\"scatter\"},{\"hoverinfo\":\"text\",\"marker\":{\"color\":\"rgb(133,20,75)\"},\"mode\":\"lines\",\"x\":[835.0,835.0,860.0,860.0],\"xaxis\":\"x\",\"y\":[0.0,0.17848604950355856,0.17848604950355856,0.09646096382320336],\"yaxis\":\"y\",\"type\":\"scatter\"},{\"hoverinfo\":\"text\",\"marker\":{\"color\":\"rgb(133,20,75)\"},\"mode\":\"lines\",\"x\":[803.75,803.75,847.5,847.5],\"xaxis\":\"x\",\"y\":[0.13737977448637484,0.2554818928850896,0.2554818928850896,0.17848604950355856],\"yaxis\":\"y\",\"type\":\"scatter\"},{\"hoverinfo\":\"text\",\"marker\":{\"color\":\"rgb(133,20,75)\"},\"mode\":\"lines\",\"x\":[772.5,772.5,825.625,825.625],\"xaxis\":\"x\",\"y\":[0.1605800311362276,0.3167882904166406,0.3167882904166406,0.2554818928850896],\"yaxis\":\"y\",\"type\":\"scatter\"},{\"hoverinfo\":\"text\",\"marker\":{\"color\":\"rgb(133,20,75)\"},\"mode\":\"lines\",\"x\":[885.0,885.0,895.0,895.0],\"xaxis\":\"x\",\"y\":[0.0,0.11939193055443167,0.11939193055443167,0.0],\"yaxis\":\"y\",\"type\":\"scatter\"},{\"hoverinfo\":\"text\",\"marker\":{\"color\":\"rgb(133,20,75)\"},\"mode\":\"lines\",\"x\":[925.0,925.0,935.0,935.0],\"xaxis\":\"x\",\"y\":[0.0,0.10006289647974914,0.10006289647974914,0.0],\"yaxis\":\"y\",\"type\":\"scatter\"},{\"hoverinfo\":\"text\",\"marker\":{\"color\":\"rgb(133,20,75)\"},\"mode\":\"lines\",\"x\":[915.0,915.0,930.0,930.0],\"xaxis\":\"x\",\"y\":[0.0,0.12966057687200042,0.12966057687200042,0.10006289647974914],\"yaxis\":\"y\",\"type\":\"scatter\"},{\"hoverinfo\":\"text\",\"marker\":{\"color\":\"rgb(133,20,75)\"},\"mode\":\"lines\",\"x\":[905.0,905.0,922.5,922.5],\"xaxis\":\"x\",\"y\":[0.0,0.20621814699721766,0.20621814699721766,0.12966057687200042],\"yaxis\":\"y\",\"type\":\"scatter\"},{\"hoverinfo\":\"text\",\"marker\":{\"color\":\"rgb(133,20,75)\"},\"mode\":\"lines\",\"x\":[945.0,945.0,955.0,955.0],\"xaxis\":\"x\",\"y\":[0.0,0.15608432151892945,0.15608432151892945,0.0],\"yaxis\":\"y\",\"type\":\"scatter\"},{\"hoverinfo\":\"text\",\"marker\":{\"color\":\"rgb(133,20,75)\"},\"mode\":\"lines\",\"x\":[965.0,965.0,975.0,975.0],\"xaxis\":\"x\",\"y\":[0.0,0.09567390805576961,0.09567390805576961,0.0],\"yaxis\":\"y\",\"type\":\"scatter\"},{\"hoverinfo\":\"text\",\"marker\":{\"color\":\"rgb(133,20,75)\"},\"mode\":\"lines\",\"x\":[985.0,985.0,995.0,995.0],\"xaxis\":\"x\",\"y\":[0.0,0.09867943865524792,0.09867943865524792,0.0],\"yaxis\":\"y\",\"type\":\"scatter\"},{\"hoverinfo\":\"text\",\"marker\":{\"color\":\"rgb(133,20,75)\"},\"mode\":\"lines\",\"x\":[970.0,970.0,990.0,990.0],\"xaxis\":\"x\",\"y\":[0.09567390805576961,0.18625549593813043,0.18625549593813043,0.09867943865524792],\"yaxis\":\"y\",\"type\":\"scatter\"},{\"hoverinfo\":\"text\",\"marker\":{\"color\":\"rgb(133,20,75)\"},\"mode\":\"lines\",\"x\":[950.0,950.0,980.0,980.0],\"xaxis\":\"x\",\"y\":[0.15608432151892945,0.2463329563706212,0.2463329563706212,0.18625549593813043],\"yaxis\":\"y\",\"type\":\"scatter\"},{\"hoverinfo\":\"text\",\"marker\":{\"color\":\"rgb(133,20,75)\"},\"mode\":\"lines\",\"x\":[913.75,913.75,965.0,965.0],\"xaxis\":\"x\",\"y\":[0.20621814699721766,0.284377535473008,0.284377535473008,0.2463329563706212],\"yaxis\":\"y\",\"type\":\"scatter\"},{\"hoverinfo\":\"text\",\"marker\":{\"color\":\"rgb(133,20,75)\"},\"mode\":\"lines\",\"x\":[890.0,890.0,939.375,939.375],\"xaxis\":\"x\",\"y\":[0.11939193055443167,0.39989874776470014,0.39989874776470014,0.284377535473008],\"yaxis\":\"y\",\"type\":\"scatter\"},{\"hoverinfo\":\"text\",\"marker\":{\"color\":\"rgb(133,20,75)\"},\"mode\":\"lines\",\"x\":[799.0625,799.0625,914.6875,914.6875],\"xaxis\":\"x\",\"y\":[0.3167882904166406,0.42053617494522244,0.42053617494522244,0.39989874776470014],\"yaxis\":\"y\",\"type\":\"scatter\"},{\"hoverinfo\":\"text\",\"marker\":{\"color\":\"rgb(133,20,75)\"},\"mode\":\"lines\",\"x\":[731.25,731.25,856.875,856.875],\"xaxis\":\"x\",\"y\":[0.24650916410207696,0.49080128922119626,0.49080128922119626,0.42053617494522244],\"yaxis\":\"y\",\"type\":\"scatter\"},{\"hoverinfo\":\"text\",\"marker\":{\"color\":\"rgb(133,20,75)\"},\"mode\":\"lines\",\"x\":[620.0,620.0,794.0625,794.0625],\"xaxis\":\"x\",\"y\":[0.44450930414457984,0.6113945842784374,0.6113945842784374,0.49080128922119626],\"yaxis\":\"y\",\"type\":\"scatter\"},{\"hoverinfo\":\"text\",\"marker\":{\"color\":\"rgb(133,20,75)\"},\"mode\":\"lines\",\"x\":[513.75,513.75,707.03125,707.03125],\"xaxis\":\"x\",\"y\":[0.3594866803322054,0.6722348053318804,0.6722348053318804,0.6113945842784374],\"yaxis\":\"y\",\"type\":\"scatter\"},{\"hoverinfo\":\"text\",\"marker\":{\"color\":\"rgb(133,20,75)\"},\"mode\":\"lines\",\"x\":[397.5,397.5,610.390625,610.390625],\"xaxis\":\"x\",\"y\":[0.5064322142755652,0.7575123828532979,0.7575123828532979,0.6722348053318804],\"yaxis\":\"y\",\"type\":\"scatter\"},{\"hoverinfo\":\"text\",\"marker\":{\"color\":\"rgb(0,116,217)\"},\"mode\":\"lines\",\"x\":[145.6640625,145.6640625,503.9453125,503.9453125],\"xaxis\":\"x\",\"y\":[0.5626687397794653,0.8608209470635374,0.8608209470635374,0.7575123828532979],\"yaxis\":\"y\",\"type\":\"scatter\"},{\"hoverinfo\":\"text\",\"marker\":{\"color\":\"rgb(0,116,217)\"},\"mode\":\"lines\",\"x\":[33.75,33.75,324.8046875,324.8046875],\"xaxis\":\"x\",\"y\":[0.41540972599389314,0.9722792926173569,0.9722792926173569,0.8608209470635374],\"yaxis\":\"y\",\"type\":\"scatter\"},{\"hoverinfo\":\"text\",\"marker\":{\"color\":\"rgb(0,116,217)\"},\"mode\":\"lines\",\"x\":[10.0,10.0,179.27734375,179.27734375],\"xaxis\":\"x\",\"y\":[0.23330074709348247,1.0866359656465427,1.0866359656465427,0.9722792926173569],\"yaxis\":\"y\",\"type\":\"scatter\"}],                        {\"autosize\":false,\"height\":1000,\"hovermode\":\"closest\",\"showlegend\":false,\"width\":1300,\"xaxis\":{\"mirror\":\"allticks\",\"rangemode\":\"tozero\",\"showgrid\":false,\"showline\":true,\"showticklabels\":true,\"tickmode\":\"array\",\"ticks\":\"outside\",\"ticktext\":[\"59\",\"69\",\"26\",\"90\",\"51\",\"58\",\"19\",\"11\",\"22\",\"18\",\"35\",\"95\",\"14\",\"86\",\"31\",\"29\",\"37\",\"3\",\"1\",\"88\",\"62\",\"8\",\"12\",\"53\",\"83\",\"46\",\"55\",\"6\",\"70\",\"33\",\"80\",\"52\",\"54\",\"74\",\"7\",\"71\",\"56\",\"67\",\"4\",\"66\",\"38\",\"28\",\"30\",\"48\",\"2\",\"36\",\"15\",\"32\",\"34\",\"72\",\"63\",\"76\",\"24\",\"23\",\"68\",\"75\",\"0\",\"5\",\"43\",\"45\",\"93\",\"64\",\"97\",\"39\",\"89\",\"10\",\"96\",\"99\",\"42\",\"73\",\"98\",\"27\",\"94\",\"9\",\"13\",\"60\",\"40\",\"21\",\"79\",\"41\",\"16\",\"17\",\"92\",\"78\",\"20\",\"77\",\"61\",\"91\",\"65\",\"82\",\"57\",\"87\",\"44\",\"85\",\"47\",\"50\",\"81\",\"84\",\"25\",\"49\"],\"tickvals\":[5.0,15.0,25.0,35.0,45.0,55.0,65.0,75.0,85.0,95.0,105.0,115.0,125.0,135.0,145.0,155.0,165.0,175.0,185.0,195.0,205.0,215.0,225.0,235.0,245.0,255.0,265.0,275.0,285.0,295.0,305.0,315.0,325.0,335.0,345.0,355.0,365.0,375.0,385.0,395.0,405.0,415.0,425.0,435.0,445.0,455.0,465.0,475.0,485.0,495.0,505.0,515.0,525.0,535.0,545.0,555.0,565.0,575.0,585.0,595.0,605.0,615.0,625.0,635.0,645.0,655.0,665.0,675.0,685.0,695.0,705.0,715.0,725.0,735.0,745.0,755.0,765.0,775.0,785.0,795.0,805.0,815.0,825.0,835.0,845.0,855.0,865.0,875.0,885.0,895.0,905.0,915.0,925.0,935.0,945.0,955.0,965.0,975.0,985.0,995.0],\"type\":\"linear\",\"zeroline\":false},\"yaxis\":{\"mirror\":\"allticks\",\"rangemode\":\"tozero\",\"showgrid\":false,\"showline\":true,\"showticklabels\":true,\"ticks\":\"outside\",\"type\":\"linear\",\"zeroline\":false},\"template\":{\"data\":{\"histogram2dcontour\":[{\"type\":\"histogram2dcontour\",\"colorbar\":{\"outlinewidth\":0,\"ticks\":\"\"},\"colorscale\":[[0.0,\"#0d0887\"],[0.1111111111111111,\"#46039f\"],[0.2222222222222222,\"#7201a8\"],[0.3333333333333333,\"#9c179e\"],[0.4444444444444444,\"#bd3786\"],[0.5555555555555556,\"#d8576b\"],[0.6666666666666666,\"#ed7953\"],[0.7777777777777778,\"#fb9f3a\"],[0.8888888888888888,\"#fdca26\"],[1.0,\"#f0f921\"]]}],\"choropleth\":[{\"type\":\"choropleth\",\"colorbar\":{\"outlinewidth\":0,\"ticks\":\"\"}}],\"histogram2d\":[{\"type\":\"histogram2d\",\"colorbar\":{\"outlinewidth\":0,\"ticks\":\"\"},\"colorscale\":[[0.0,\"#0d0887\"],[0.1111111111111111,\"#46039f\"],[0.2222222222222222,\"#7201a8\"],[0.3333333333333333,\"#9c179e\"],[0.4444444444444444,\"#bd3786\"],[0.5555555555555556,\"#d8576b\"],[0.6666666666666666,\"#ed7953\"],[0.7777777777777778,\"#fb9f3a\"],[0.8888888888888888,\"#fdca26\"],[1.0,\"#f0f921\"]]}],\"heatmap\":[{\"type\":\"heatmap\",\"colorbar\":{\"outlinewidth\":0,\"ticks\":\"\"},\"colorscale\":[[0.0,\"#0d0887\"],[0.1111111111111111,\"#46039f\"],[0.2222222222222222,\"#7201a8\"],[0.3333333333333333,\"#9c179e\"],[0.4444444444444444,\"#bd3786\"],[0.5555555555555556,\"#d8576b\"],[0.6666666666666666,\"#ed7953\"],[0.7777777777777778,\"#fb9f3a\"],[0.8888888888888888,\"#fdca26\"],[1.0,\"#f0f921\"]]}],\"heatmapgl\":[{\"type\":\"heatmapgl\",\"colorbar\":{\"outlinewidth\":0,\"ticks\":\"\"},\"colorscale\":[[0.0,\"#0d0887\"],[0.1111111111111111,\"#46039f\"],[0.2222222222222222,\"#7201a8\"],[0.3333333333333333,\"#9c179e\"],[0.4444444444444444,\"#bd3786\"],[0.5555555555555556,\"#d8576b\"],[0.6666666666666666,\"#ed7953\"],[0.7777777777777778,\"#fb9f3a\"],[0.8888888888888888,\"#fdca26\"],[1.0,\"#f0f921\"]]}],\"contourcarpet\":[{\"type\":\"contourcarpet\",\"colorbar\":{\"outlinewidth\":0,\"ticks\":\"\"}}],\"contour\":[{\"type\":\"contour\",\"colorbar\":{\"outlinewidth\":0,\"ticks\":\"\"},\"colorscale\":[[0.0,\"#0d0887\"],[0.1111111111111111,\"#46039f\"],[0.2222222222222222,\"#7201a8\"],[0.3333333333333333,\"#9c179e\"],[0.4444444444444444,\"#bd3786\"],[0.5555555555555556,\"#d8576b\"],[0.6666666666666666,\"#ed7953\"],[0.7777777777777778,\"#fb9f3a\"],[0.8888888888888888,\"#fdca26\"],[1.0,\"#f0f921\"]]}],\"surface\":[{\"type\":\"surface\",\"colorbar\":{\"outlinewidth\":0,\"ticks\":\"\"},\"colorscale\":[[0.0,\"#0d0887\"],[0.1111111111111111,\"#46039f\"],[0.2222222222222222,\"#7201a8\"],[0.3333333333333333,\"#9c179e\"],[0.4444444444444444,\"#bd3786\"],[0.5555555555555556,\"#d8576b\"],[0.6666666666666666,\"#ed7953\"],[0.7777777777777778,\"#fb9f3a\"],[0.8888888888888888,\"#fdca26\"],[1.0,\"#f0f921\"]]}],\"mesh3d\":[{\"type\":\"mesh3d\",\"colorbar\":{\"outlinewidth\":0,\"ticks\":\"\"}}],\"scatter\":[{\"marker\":{\"line\":{\"color\":\"#283442\"}},\"type\":\"scatter\"}],\"parcoords\":[{\"type\":\"parcoords\",\"line\":{\"colorbar\":{\"outlinewidth\":0,\"ticks\":\"\"}}}],\"scatterpolargl\":[{\"type\":\"scatterpolargl\",\"marker\":{\"colorbar\":{\"outlinewidth\":0,\"ticks\":\"\"}}}],\"bar\":[{\"error_x\":{\"color\":\"#f2f5fa\"},\"error_y\":{\"color\":\"#f2f5fa\"},\"marker\":{\"line\":{\"color\":\"rgb(17,17,17)\",\"width\":0.5},\"pattern\":{\"fillmode\":\"overlay\",\"size\":10,\"solidity\":0.2}},\"type\":\"bar\"}],\"scattergeo\":[{\"type\":\"scattergeo\",\"marker\":{\"colorbar\":{\"outlinewidth\":0,\"ticks\":\"\"}}}],\"scatterpolar\":[{\"type\":\"scatterpolar\",\"marker\":{\"colorbar\":{\"outlinewidth\":0,\"ticks\":\"\"}}}],\"histogram\":[{\"marker\":{\"pattern\":{\"fillmode\":\"overlay\",\"size\":10,\"solidity\":0.2}},\"type\":\"histogram\"}],\"scattergl\":[{\"marker\":{\"line\":{\"color\":\"#283442\"}},\"type\":\"scattergl\"}],\"scatter3d\":[{\"type\":\"scatter3d\",\"line\":{\"colorbar\":{\"outlinewidth\":0,\"ticks\":\"\"}},\"marker\":{\"colorbar\":{\"outlinewidth\":0,\"ticks\":\"\"}}}],\"scattermapbox\":[{\"type\":\"scattermapbox\",\"marker\":{\"colorbar\":{\"outlinewidth\":0,\"ticks\":\"\"}}}],\"scatterternary\":[{\"type\":\"scatterternary\",\"marker\":{\"colorbar\":{\"outlinewidth\":0,\"ticks\":\"\"}}}],\"scattercarpet\":[{\"type\":\"scattercarpet\",\"marker\":{\"colorbar\":{\"outlinewidth\":0,\"ticks\":\"\"}}}],\"carpet\":[{\"aaxis\":{\"endlinecolor\":\"#A2B1C6\",\"gridcolor\":\"#506784\",\"linecolor\":\"#506784\",\"minorgridcolor\":\"#506784\",\"startlinecolor\":\"#A2B1C6\"},\"baxis\":{\"endlinecolor\":\"#A2B1C6\",\"gridcolor\":\"#506784\",\"linecolor\":\"#506784\",\"minorgridcolor\":\"#506784\",\"startlinecolor\":\"#A2B1C6\"},\"type\":\"carpet\"}],\"table\":[{\"cells\":{\"fill\":{\"color\":\"#506784\"},\"line\":{\"color\":\"rgb(17,17,17)\"}},\"header\":{\"fill\":{\"color\":\"#2a3f5f\"},\"line\":{\"color\":\"rgb(17,17,17)\"}},\"type\":\"table\"}],\"barpolar\":[{\"marker\":{\"line\":{\"color\":\"rgb(17,17,17)\",\"width\":0.5},\"pattern\":{\"fillmode\":\"overlay\",\"size\":10,\"solidity\":0.2}},\"type\":\"barpolar\"}],\"pie\":[{\"automargin\":true,\"type\":\"pie\"}]},\"layout\":{\"autotypenumbers\":\"strict\",\"colorway\":[\"#636efa\",\"#EF553B\",\"#00cc96\",\"#ab63fa\",\"#FFA15A\",\"#19d3f3\",\"#FF6692\",\"#B6E880\",\"#FF97FF\",\"#FECB52\"],\"font\":{\"color\":\"#f2f5fa\"},\"hovermode\":\"closest\",\"hoverlabel\":{\"align\":\"left\"},\"paper_bgcolor\":\"rgb(17,17,17)\",\"plot_bgcolor\":\"rgb(17,17,17)\",\"polar\":{\"bgcolor\":\"rgb(17,17,17)\",\"angularaxis\":{\"gridcolor\":\"#506784\",\"linecolor\":\"#506784\",\"ticks\":\"\"},\"radialaxis\":{\"gridcolor\":\"#506784\",\"linecolor\":\"#506784\",\"ticks\":\"\"}},\"ternary\":{\"bgcolor\":\"rgb(17,17,17)\",\"aaxis\":{\"gridcolor\":\"#506784\",\"linecolor\":\"#506784\",\"ticks\":\"\"},\"baxis\":{\"gridcolor\":\"#506784\",\"linecolor\":\"#506784\",\"ticks\":\"\"},\"caxis\":{\"gridcolor\":\"#506784\",\"linecolor\":\"#506784\",\"ticks\":\"\"}},\"coloraxis\":{\"colorbar\":{\"outlinewidth\":0,\"ticks\":\"\"}},\"colorscale\":{\"sequential\":[[0.0,\"#0d0887\"],[0.1111111111111111,\"#46039f\"],[0.2222222222222222,\"#7201a8\"],[0.3333333333333333,\"#9c179e\"],[0.4444444444444444,\"#bd3786\"],[0.5555555555555556,\"#d8576b\"],[0.6666666666666666,\"#ed7953\"],[0.7777777777777778,\"#fb9f3a\"],[0.8888888888888888,\"#fdca26\"],[1.0,\"#f0f921\"]],\"sequentialminus\":[[0.0,\"#0d0887\"],[0.1111111111111111,\"#46039f\"],[0.2222222222222222,\"#7201a8\"],[0.3333333333333333,\"#9c179e\"],[0.4444444444444444,\"#bd3786\"],[0.5555555555555556,\"#d8576b\"],[0.6666666666666666,\"#ed7953\"],[0.7777777777777778,\"#fb9f3a\"],[0.8888888888888888,\"#fdca26\"],[1.0,\"#f0f921\"]],\"diverging\":[[0,\"#8e0152\"],[0.1,\"#c51b7d\"],[0.2,\"#de77ae\"],[0.3,\"#f1b6da\"],[0.4,\"#fde0ef\"],[0.5,\"#f7f7f7\"],[0.6,\"#e6f5d0\"],[0.7,\"#b8e186\"],[0.8,\"#7fbc41\"],[0.9,\"#4d9221\"],[1,\"#276419\"]]},\"xaxis\":{\"gridcolor\":\"#283442\",\"linecolor\":\"#506784\",\"ticks\":\"\",\"title\":{\"standoff\":15},\"zerolinecolor\":\"#283442\",\"automargin\":true,\"zerolinewidth\":2},\"yaxis\":{\"gridcolor\":\"#283442\",\"linecolor\":\"#506784\",\"ticks\":\"\",\"title\":{\"standoff\":15},\"zerolinecolor\":\"#283442\",\"automargin\":true,\"zerolinewidth\":2},\"scene\":{\"xaxis\":{\"backgroundcolor\":\"rgb(17,17,17)\",\"gridcolor\":\"#506784\",\"linecolor\":\"#506784\",\"showbackground\":true,\"ticks\":\"\",\"zerolinecolor\":\"#C8D4E3\",\"gridwidth\":2},\"yaxis\":{\"backgroundcolor\":\"rgb(17,17,17)\",\"gridcolor\":\"#506784\",\"linecolor\":\"#506784\",\"showbackground\":true,\"ticks\":\"\",\"zerolinecolor\":\"#C8D4E3\",\"gridwidth\":2},\"zaxis\":{\"backgroundcolor\":\"rgb(17,17,17)\",\"gridcolor\":\"#506784\",\"linecolor\":\"#506784\",\"showbackground\":true,\"ticks\":\"\",\"zerolinecolor\":\"#C8D4E3\",\"gridwidth\":2}},\"shapedefaults\":{\"line\":{\"color\":\"#f2f5fa\"}},\"annotationdefaults\":{\"arrowcolor\":\"#f2f5fa\",\"arrowhead\":0,\"arrowwidth\":1},\"geo\":{\"bgcolor\":\"rgb(17,17,17)\",\"landcolor\":\"rgb(17,17,17)\",\"subunitcolor\":\"#506784\",\"showland\":true,\"showlakes\":true,\"lakecolor\":\"rgb(17,17,17)\"},\"title\":{\"x\":0.05},\"updatemenudefaults\":{\"bgcolor\":\"#506784\",\"borderwidth\":0},\"sliderdefaults\":{\"bgcolor\":\"#C8D4E3\",\"borderwidth\":1,\"bordercolor\":\"rgb(17,17,17)\",\"tickwidth\":0},\"mapbox\":{\"style\":\"dark\"}}}},                        {\"responsive\": true}                    ).then(function(){\n                            \nvar gd = document.getElementById('d3de8b5e-1db4-4dd1-8459-c22bc0f2b65a');\nvar x = new MutationObserver(function (mutations, observer) {{\n        var display = window.getComputedStyle(gd).display;\n        if (!display || display === 'none') {{\n            console.log([gd, 'removed!']);\n            Plotly.purge(gd);\n            observer.disconnect();\n        }}\n}});\n\n// Listen for the removal of the full notebook cells\nvar notebookContainer = gd.closest('#notebook-container');\nif (notebookContainer) {{\n    x.observe(notebookContainer, {childList: true});\n}}\n\n// Listen for the clearing of the current output cell\nvar outputEl = gd.closest('.output');\nif (outputEl) {{\n    x.observe(outputEl, {childList: true});\n}}\n\n                        })                };                });            </script>        </div>"
     },
     "metadata": {},
     "output_type": "display_data"
    }
   ],
   "source": [
    "import plotly.figure_factory as ff\n",
    "import numpy as np\n",
    "\n",
    "fig = ff.create_dendrogram(X)\n",
    "fig.update_layout(width=1300, height=1000)\n",
    "fig.show()"
   ],
   "metadata": {
    "collapsed": false
   }
  }
 ],
 "metadata": {
  "kernelspec": {
   "display_name": "Python 3",
   "language": "python",
   "name": "python3"
  },
  "language_info": {
   "codemirror_mode": {
    "name": "ipython",
    "version": 2
   },
   "file_extension": ".py",
   "mimetype": "text/x-python",
   "name": "python",
   "nbconvert_exporter": "python",
   "pygments_lexer": "ipython2",
   "version": "2.7.6"
  }
 },
 "nbformat": 4,
 "nbformat_minor": 0
}
