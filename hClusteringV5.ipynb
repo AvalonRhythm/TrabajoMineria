{
 "cells": [
  {
   "cell_type": "code",
   "execution_count": 31,
   "outputs": [],
   "source": [
    "import numpy\n",
    "import numpy as np\n",
    "import pandas\n",
    "import pandas as pd\n",
    "import os\n",
    "import json\n",
    "import matplotlib as mpl\n",
    "import matplotlib.pyplot as plt\n",
    "import seaborn as sns\n",
    "import missingno as msno\n",
    "from scipy.spatial.distance import cityblock\n",
    "#from sklearn.decomposition import PCA\n",
    "#from sklearn.cluster import KMeans\n",
    "\n",
    "inline_rc = dict(mpl.rcParams)"
   ],
   "metadata": {
    "collapsed": false
   }
  },
  {
   "cell_type": "markdown",
   "source": [
    "CARGAMOS LOS DATOS DE yelp_academic_dataset_review.json"
   ],
   "metadata": {
    "collapsed": false
   }
  },
  {
   "cell_type": "code",
   "execution_count": 32,
   "outputs": [
    {
     "name": "stdout",
     "output_type": "stream",
     "text": [
      "                review_id                 user_id             business_id  \\\n",
      "0  Q1sbwvVQXV2734tPgoKj4Q  hG7b0MtEbXx5QzbzE6C_VA  ujmEBvifdJM6h6RLv4wQIg   \n",
      "1  GJXCdrto3ASJOqKeVWPi6Q  yXQM5uF2jS6es16SJzNHfg  NZnhc2sEQy3RmzKTZnqtwQ   \n",
      "2  2TzJjDVDEuAW6MR5Vuc1ug  n6-Gk65cPZL6Uz8qRm3NYw  WTqjgwHlXbSFevF32_DJVw   \n",
      "3  yi0R0Ugj_xUx_Nek0-_Qig  dacAIZ6fTM6mqwW5uxkskg  ikCg8xy5JIg_NGPx-MSIDA   \n",
      "4  11a8sVPMUFtaC7_ABRkmtw  ssoyf2_x0EQMed6fgHeMyQ  b1b1eb3uo-w561D0ZfCEiQ   \n",
      "\n",
      "   stars  useful  funny  cool  \\\n",
      "0    1.0       6      1     0   \n",
      "1    5.0       0      0     0   \n",
      "2    5.0       3      0     0   \n",
      "3    5.0       0      0     0   \n",
      "4    1.0       7      0     0   \n",
      "\n",
      "                                                text                 date  \n",
      "0  Total bill for this horrible service? Over $8G...  2013-05-07 04:34:36  \n",
      "1  I *adore* Travis at the Hard Rock's new Kelly ...  2017-01-14 21:30:33  \n",
      "2  I have to say that this office really has it t...  2016-11-09 20:09:03  \n",
      "3  Went in for a lunch. Steak sandwich was delici...  2018-01-09 20:56:38  \n",
      "4  Today was my second out of three sessions I ha...  2018-01-30 23:07:38  \n"
     ]
    },
    {
     "data": {
      "text/plain": "\"\\n\\ndf_review = pd.read_csv('data/yelp_reviews.csv')\\nprint(df_review)\\n\\n\""
     },
     "execution_count": 32,
     "metadata": {},
     "output_type": "execute_result"
    }
   ],
   "source": [
    "\n",
    "reviews = []\n",
    "with open('data/yelp_academic_dataset_review.json') as fl:\n",
    "    i=0\n",
    "    for review in fl:\n",
    "        reviews.append(json.loads(review))\n",
    "        i+=1\n",
    "        if i + 1 > 1000:\n",
    "            break\n",
    "\n",
    "df_review = pd.DataFrame(reviews)\n",
    "print(df_review.head())\n",
    "\n",
    "\"\"\"\n",
    "\n",
    "df_review = pd.read_csv('data/yelp_reviews.csv')\n",
    "print(df_review)\n",
    "\n",
    "\"\"\""
   ],
   "metadata": {
    "collapsed": false
   }
  },
  {
   "cell_type": "markdown",
   "source": [
    "CARGAMOS LOS DATOS DE yelp_academic_dataset_business.json"
   ],
   "metadata": {
    "collapsed": false
   }
  },
  {
   "cell_type": "code",
   "execution_count": 33,
   "outputs": [
    {
     "data": {
      "text/plain": "\"business = []\\nwith open('data/yelp_academic_dataset_business.json') as fl:\\n    for i, line in enumerate(fl):\\n        business.append(json.loads(line))\\n\\ndf_business = pd.DataFrame(business)\\nprint(df_business.head())\\n\""
     },
     "execution_count": 33,
     "metadata": {},
     "output_type": "execute_result"
    }
   ],
   "source": [
    "'''business = []\n",
    "with open('data/yelp_academic_dataset_business.json') as fl:\n",
    "    for i, line in enumerate(fl):\n",
    "        business.append(json.loads(line))\n",
    "\n",
    "df_business = pd.DataFrame(business)\n",
    "print(df_business.head())\n",
    "'''\n"
   ],
   "metadata": {
    "collapsed": false
   }
  },
  {
   "cell_type": "markdown",
   "source": [
    "ELIMINAMOS LAS COLUMNAS INNECESARIAS"
   ],
   "metadata": {
    "collapsed": false
   }
  },
  {
   "cell_type": "markdown",
   "source": [
    "COMPROBAMOS"
   ],
   "metadata": {
    "collapsed": false
   }
  },
  {
   "cell_type": "code",
   "execution_count": 34,
   "outputs": [],
   "source": [
    "df_review = df_review.drop([\"review_id\", \"user_id\",\"business_id\", \"useful\", \"funny\", \"cool\", \"date\",\"stars\"], axis=1)\n",
    "#df_business = df_business.drop([\"name\", \"address\", \"city\", \"state\", \"postal_code\", \"latitude\", \"longitude\", \"stars\", \"review_count\", \"is_open\", \"attributes\", \"hours\"], axis=1)"
   ],
   "metadata": {
    "collapsed": false
   }
  },
  {
   "cell_type": "code",
   "execution_count": 35,
   "outputs": [
    {
     "name": "stdout",
     "output_type": "stream",
     "text": [
      "                                                text\n",
      "0  Total bill for this horrible service? Over $8G...\n",
      "1  I *adore* Travis at the Hard Rock's new Kelly ...\n",
      "2  I have to say that this office really has it t...\n",
      "3  Went in for a lunch. Steak sandwich was delici...\n",
      "4  Today was my second out of three sessions I ha...\n",
      "                                                  text\n",
      "995  We ate there yesterday for the first time. My ...\n",
      "996  I have never waited LESS THAN forty five minut...\n",
      "997  I am short. Pants are always waaaay too long. ...\n",
      "998  Great ambiance, great food, although their pol...\n",
      "999  Excellente place que vous passiez juste prendr...\n"
     ]
    }
   ],
   "source": [
    "print(df_review.head())\n",
    "print(df_review.tail())\n",
    "#print(df_business.head())"
   ],
   "metadata": {
    "collapsed": false
   }
  },
  {
   "cell_type": "code",
   "execution_count": 36,
   "outputs": [
    {
     "name": "stdout",
     "output_type": "stream",
     "text": [
      "  (0, 1785)\t0.17309064664008175\n",
      "  (0, 2511)\t0.26401038633445817\n",
      "  (0, 3480)\t0.24917490666463168\n",
      "  (0, 624)\t0.18792612630990824\n",
      "  (0, 1309)\t0.23864896632627483\n",
      "  (0, 38)\t0.24917490666463168\n",
      "  (0, 4862)\t0.1857079444578493\n",
      "  (0, 1377)\t0.17976157268303555\n",
      "  (0, 5211)\t0.49834981332926337\n",
      "  (0, 140)\t0.24917490666463168\n",
      "  (0, 1350)\t0.15928590540905854\n",
      "  (0, 4701)\t0.23048441269940215\n",
      "  (0, 240)\t0.1441036099209999\n",
      "  (0, 1877)\t0.26401038633445817\n",
      "  (0, 162)\t0.26401038633445817\n",
      "  (0, 6237)\t0.08007249212325494\n",
      "  (0, 3474)\t0.1746478516420403\n",
      "  (0, 7265)\t0.1762742880646082\n",
      "  (1, 750)\t0.08329759954699617\n",
      "  (1, 2717)\t0.040712855387830586\n",
      "  (1, 4270)\t0.03345614253756811\n",
      "  (1, 7569)\t0.04347064428346753\n",
      "  (1, 7192)\t0.024637427116908656\n",
      "  (1, 6390)\t0.06168935297471295\n",
      "  (1, 1984)\t0.03450266442250089\n",
      "  :\t:\n",
      "  (999, 2574)\t0.12798437836807078\n",
      "  (999, 4865)\t0.12079257932676514\n",
      "  (999, 613)\t0.12079257932676514\n",
      "  (999, 6536)\t0.12079257932676514\n",
      "  (999, 2371)\t0.111731984079949\n",
      "  (999, 7649)\t0.3470697501054846\n",
      "  (999, 7172)\t0.12079257932676514\n",
      "  (999, 4913)\t0.36237773798029543\n",
      "  (999, 5570)\t0.23137983340365637\n",
      "  (999, 1154)\t0.111731984079949\n",
      "  (999, 5403)\t0.11568991670182818\n",
      "  (999, 5368)\t0.11568991670182818\n",
      "  (999, 2537)\t0.335195952239847\n",
      "  (999, 4979)\t0.23137983340365637\n",
      "  (999, 2528)\t0.111731984079949\n",
      "  (999, 908)\t0.111731984079949\n",
      "  (999, 7372)\t0.11568991670182818\n",
      "  (999, 3212)\t0.09346946089529609\n",
      "  (999, 5163)\t0.11568991670182818\n",
      "  (999, 1041)\t0.11568991670182818\n",
      "  (999, 4446)\t0.09478392577138618\n",
      "  (999, 4293)\t0.12079257932676514\n",
      "  (999, 1386)\t0.06492260494093173\n",
      "  (999, 5244)\t0.03548623430572668\n",
      "  (999, 4031)\t0.14473923860890892\n"
     ]
    },
    {
     "name": "stderr",
     "output_type": "stream",
     "text": [
      "C:\\Users\\Aitor Arana\\.conda\\envs\\TrabajoMineria\\lib\\site-packages\\sklearn\\utils\\deprecation.py:87: FutureWarning:\n",
      "\n",
      "Function get_feature_names is deprecated; get_feature_names is deprecated in 1.0 and will be removed in 1.2. Please use get_feature_names_out instead.\n",
      "\n"
     ]
    }
   ],
   "source": [
    "from sklearn.feature_extraction.text import TfidfVectorizer\n",
    "from nltk.tokenize import word_tokenize\n",
    "from nltk.stem import WordNetLemmatizer\n",
    "from sklearn.feature_extraction import text\n",
    "\n",
    "\n",
    "vectorizer = TfidfVectorizer()\n",
    "lemma = WordNetLemmatizer()\n",
    "sw = [lemma.lemmatize(w) for w in text.ENGLISH_STOP_WORDS]\n",
    "\n",
    "X = []\n",
    "for r in df_review[\"text\"]: #Por cada review\n",
    "    txt = word_tokenize(r.lower()) #Separa la review en palabras\n",
    "    newtxt = \"\"\n",
    "    for w in txt: #Por cada palabra en txt\n",
    "        if w not in sw:\n",
    "            l = lemma.lemmatize(w) #se hace lo de quitar mayusculas y quitar raice y eso\n",
    "            newtxt += l+\" \"\n",
    "    X.append(newtxt)\n",
    "\n",
    "X = vectorizer.fit_transform(X)\n",
    "bow = vectorizer.get_feature_names()\n",
    "print(X)"
   ],
   "metadata": {
    "collapsed": false
   }
  },
  {
   "cell_type": "code",
   "execution_count": 37,
   "outputs": [],
   "source": [
    "X = X.toarray()\n",
    "X = pd.DataFrame(X)"
   ],
   "metadata": {
    "collapsed": false
   }
  },
  {
   "cell_type": "code",
   "execution_count": 38,
   "outputs": [],
   "source": [
    "from sklearn.decomposition import PCA\n",
    "from scipy.spatial.distance import cityblock\n",
    "from scipy.spatial import distance\n",
    "\n",
    "def createDistanceMatrix(samples, numAtributes, distanceType):\n",
    "\n",
    "    pca = PCA(n_components=numAtributes)\n",
    "    pca.fit(samples)\n",
    "    samples = pca.transform(samples)\n",
    "\n",
    "    distance_matrix = np.zeros((len(samples),len(samples)))\n",
    "    terminado = False\n",
    "    i = 0\n",
    "    j = 0\n",
    "    for i in range(distance_matrix.shape[0]):\n",
    "        for j in range(i,distance_matrix.shape[0]):\n",
    "            if i!=j:\n",
    "                if (distanceType == 'manhattan'):\n",
    "                    distancia = float(cityblock(samples[i],samples[j]))\n",
    "                elif(distanceType == 'euclidean'):\n",
    "                    distancia = float(distance.euclidean(samples[i],samples[j]))\n",
    "                else:\n",
    "                    distancia = float(distance.minkowski(samples[i],samples[j]))\n",
    "                distance_matrix[i,j] = distancia #Meto en la matriz la distancia do vece\n",
    "                distance_matrix[j,i] = distancia\n",
    "            elif i == j:\n",
    "                distance_matrix[i,j] = 10**4 #Pone un valor muy grande para que nunca salga como la distancia más pequeña entrela misma instancia\n",
    "    distance_matrix = pd.DataFrame(distance_matrix)\n",
    "    return distance_matrix\n",
    "\n",
    "def calculateMin(distance_matrix):\n",
    "    minimumValues=np.matrix(distance_matrix).argmin(axis = 1).tolist()\n",
    "    minn=distance_matrix.iloc[minimumValues[0][0],0]\n",
    "    y=0\n",
    "    x=minimumValues[0][0]\n",
    "\n",
    "    for i in range(1,len(minimumValues)-1):\n",
    "        if distance_matrix.iloc[minimumValues[i][0],i] < minn:\n",
    "            minn=distance_matrix.iloc[minimumValues[i][0],i]\n",
    "            x=minimumValues[i][0]\n",
    "            y=i\n",
    "\n",
    "    return x,y,minn\n",
    "\n",
    "def mergeClusters(distance_matrix,newValues,x,y):\n",
    "\n",
    "        if x>y:\n",
    "            label = str(distance_matrix.columns[y]) + '-' + str(distance_matrix.columns[x])\n",
    "            distance_matrix = distance_matrix.drop([distance_matrix.iloc[x].name], axis=1) #Quito las filas y columnas de las instancias que se han mergeado\n",
    "            distance_matrix = distance_matrix.drop([distance_matrix.iloc[x].name], axis=0)\n",
    "            distance_matrix = distance_matrix.rename({distance_matrix.iloc[y].name:  label}, axis='columns')\n",
    "            distance_matrix = distance_matrix.rename({distance_matrix.iloc[y].name:  label}, axis='rows')\n",
    "        else:\n",
    "            label = str(distance_matrix.columns[y]) + '-' + str(distance_matrix.columns[x])\n",
    "            distance_matrix = distance_matrix.drop([distance_matrix.iloc[y].name], axis=1) #Quito las filas y columnas de las instancias que se han mergeado\n",
    "            distance_matrix = distance_matrix.drop([distance_matrix.iloc[y].name], axis=0)\n",
    "            distance_matrix = distance_matrix.rename({distance_matrix.iloc[x].name:  label}, axis='columns')\n",
    "            distance_matrix = distance_matrix.rename({distance_matrix.iloc[x].name:  label}, axis='rows')\n",
    "\n",
    "        distance_matrix.loc[label]=newValues\n",
    "        distance_matrix.loc[:, label]=newValues\n",
    "\n",
    "        return distance_matrix"
   ],
   "metadata": {
    "collapsed": false
   }
  },
  {
   "cell_type": "code",
   "execution_count": 39,
   "outputs": [],
   "source": [
    "def completeLink(node1,node2,minn,lenMatrix):\n",
    "    deleted = False\n",
    "    newValues = []\n",
    "    for i in range(0,lenMatrix):\n",
    "        if((node1[i] == minn or node2[i] == minn) and not deleted):\n",
    "            newValues.append(float(10**4))\n",
    "            deleted = True\n",
    "        elif((node1[i] == minn or node2[i] == minn) and deleted):\n",
    "            pass\n",
    "        elif(node1[i]>=node2[i]):\n",
    "                newValues.append(float(node1[i]))\n",
    "        else:\n",
    "                newValues.append(float(node2[i]))\n",
    "\n",
    "    return newValues\n",
    "\n",
    "def singleLink(node1,node2,minn,lenMatrix):\n",
    "    deleted = False\n",
    "    newValues = []\n",
    "    for i in range(0,lenMatrix):\n",
    "        if((node1[i] == minn or node2[i] == minn) and not deleted):\n",
    "            newValues.append(float(10**4))\n",
    "            deleted = True\n",
    "        elif((node1[i] == minn or node2[i] == minn) and deleted):\n",
    "            pass\n",
    "        elif(node1[i]<=node2[i]):\n",
    "                newValues.append(float(node1[i]))\n",
    "        else:\n",
    "                newValues.append(float(node2[i]))\n",
    "\n",
    "    return newValues\n",
    "\n",
    "def averageLink(node1,node2,minn,lenMatrix):\n",
    "    deleted = False\n",
    "    newValues = []\n",
    "    for i in range(0,lenMatrix):\n",
    "        if((node1[i] == minn or node2[i] == minn) and not deleted):\n",
    "            newValues.append(float(10**4))\n",
    "            deleted = True\n",
    "        elif((node1[i] == minn or node2[i] == minn) and deleted):\n",
    "            pass\n",
    "\n",
    "        else:\n",
    "                newValues.append((node1[i]+node2[i])/2)\n",
    "\n",
    "    return newValues"
   ],
   "metadata": {
    "collapsed": false
   }
  },
  {
   "cell_type": "code",
   "execution_count": 40,
   "outputs": [],
   "source": [
    "def hierarchicalClustering(distance_matrix,linkType, nClusters):\n",
    "\n",
    "    print(distance_matrix)\n",
    "\n",
    "    for samples in range(1, len(distance_matrix)-nClusters+1):\n",
    "        print('-----------------------------')\n",
    "        print('iteración número:', samples)\n",
    "\n",
    "        x,y,minn = calculateMin(distance_matrix)\n",
    "\n",
    "        node1 = distance_matrix.iloc[y].array\n",
    "        node2 = distance_matrix.iloc[x].array\n",
    "\n",
    "        if linkType == 'single':\n",
    "            newValues = singleLink(node1,node2,minn,len(distance_matrix))\n",
    "        elif linkType == 'complete':\n",
    "            newValues = completeLink(node1,node2,minn,len(distance_matrix))\n",
    "        elif linkType == 'average':\n",
    "            newValues = averageLink(node1,node2,minn,len(distance_matrix))\n",
    "\n",
    "        distance_matrix = mergeClusters(distance_matrix,newValues,x,y)\n",
    "\n",
    "\n",
    "        #print('La matriz de distancias después de la iteración', samples)\n",
    "        #print(distance_matrix)\n",
    "        #print('-----------------------------')\n",
    "\n",
    "    return distance_matrix"
   ],
   "metadata": {
    "collapsed": false
   }
  },
  {
   "cell_type": "code",
   "execution_count": 41,
   "outputs": [
    {
     "name": "stdout",
     "output_type": "stream",
     "text": [
      "              0             1             2             3             4    \\\n",
      "0    10000.000000      0.081009      0.110676      0.292236      0.260895   \n",
      "1        0.081009  10000.000000      0.152116      0.257245      0.198006   \n",
      "2        0.110676      0.152116  10000.000000      0.346484      0.308056   \n",
      "3        0.292236      0.257245      0.346484  10000.000000      0.310179   \n",
      "4        0.260895      0.198006      0.308056      0.310179  10000.000000   \n",
      "..            ...           ...           ...           ...           ...   \n",
      "995      0.352443      0.298976      0.423110      0.187735      0.317324   \n",
      "996      0.075889      0.095520      0.152815      0.336846      0.247509   \n",
      "997      0.034867      0.104947      0.098966      0.315350      0.275189   \n",
      "998      0.228021      0.223576      0.296835      0.145550      0.351859   \n",
      "999      0.057703      0.121453      0.144403      0.300618      0.302668   \n",
      "\n",
      "          5         6         7         8         9    ...       990  \\\n",
      "0    0.370577  0.262801  0.189873  0.213558  0.092371  ...  0.081143   \n",
      "1    0.307646  0.223604  0.161836  0.149096  0.142169  ...  0.097099   \n",
      "2    0.444598  0.360881  0.269041  0.294836  0.182259  ...  0.079360   \n",
      "3    0.188575  0.307171  0.197879  0.205050  0.302170  ...  0.330997   \n",
      "4    0.278030  0.284195  0.254133  0.166706  0.322843  ...  0.266562   \n",
      "..        ...       ...       ...       ...       ...  ...       ...   \n",
      "995  0.147799  0.274944  0.286387  0.222751  0.354625  ...  0.384031   \n",
      "996  0.379769  0.232816  0.199498  0.209185  0.114916  ...  0.093431   \n",
      "997  0.395802  0.281572  0.201021  0.234770  0.102212  ...  0.079342   \n",
      "998  0.267763  0.255633  0.144635  0.213280  0.198575  ...  0.278279   \n",
      "999  0.384486  0.262570  0.208427  0.237966  0.057741  ...  0.123144   \n",
      "\n",
      "          991       992       993       994           995           996  \\\n",
      "0    0.209921  0.106532  0.252250  0.099480      0.352443      0.075889   \n",
      "1    0.166684  0.139868  0.226028  0.102121      0.298976      0.095520   \n",
      "2    0.292480  0.187963  0.346494  0.197794      0.423110      0.152815   \n",
      "3    0.150982  0.249872  0.347100  0.264774      0.187735      0.336846   \n",
      "4    0.226542  0.270697  0.305396  0.212910      0.317324      0.247509   \n",
      "..        ...       ...       ...       ...           ...           ...   \n",
      "995  0.155476  0.345183  0.336816  0.323358  10000.000000      0.375507   \n",
      "996  0.238121  0.147422  0.210005  0.107564      0.375507  10000.000000   \n",
      "997  0.240737  0.110925  0.263757  0.112123      0.384747      0.076041   \n",
      "998  0.170885  0.181199  0.275430  0.215153      0.256663      0.271593   \n",
      "999  0.213106  0.118209  0.252834  0.122515      0.351247      0.105698   \n",
      "\n",
      "              997           998           999  \n",
      "0        0.034867      0.228021      0.057703  \n",
      "1        0.104947      0.223576      0.121453  \n",
      "2        0.098966      0.296835      0.144403  \n",
      "3        0.315350      0.145550      0.300618  \n",
      "4        0.275189      0.351859      0.302668  \n",
      "..            ...           ...           ...  \n",
      "995      0.384747      0.256663      0.351247  \n",
      "996      0.076041      0.271593      0.105698  \n",
      "997  10000.000000      0.246438      0.076130  \n",
      "998      0.246438  10000.000000      0.218116  \n",
      "999      0.076130      0.218116  10000.000000  \n",
      "\n",
      "[1000 rows x 1000 columns]\n",
      "-----------------------------\n",
      "iteración número: 1\n",
      "-----------------------------\n",
      "iteración número: 2\n",
      "-----------------------------\n",
      "iteración número: 3\n",
      "-----------------------------\n",
      "iteración número: 4\n",
      "-----------------------------\n",
      "iteración número: 5\n",
      "-----------------------------\n",
      "iteración número: 6\n",
      "-----------------------------\n",
      "iteración número: 7\n",
      "-----------------------------\n",
      "iteración número: 8\n",
      "-----------------------------\n",
      "iteración número: 9\n",
      "-----------------------------\n",
      "iteración número: 10\n",
      "-----------------------------\n",
      "iteración número: 11\n",
      "-----------------------------\n",
      "iteración número: 12\n",
      "-----------------------------\n",
      "iteración número: 13\n",
      "-----------------------------\n",
      "iteración número: 14\n",
      "-----------------------------\n",
      "iteración número: 15\n",
      "-----------------------------\n",
      "iteración número: 16\n",
      "-----------------------------\n",
      "iteración número: 17\n",
      "-----------------------------\n",
      "iteración número: 18\n",
      "-----------------------------\n",
      "iteración número: 19\n",
      "-----------------------------\n",
      "iteración número: 20\n",
      "-----------------------------\n",
      "iteración número: 21\n",
      "-----------------------------\n",
      "iteración número: 22\n",
      "-----------------------------\n",
      "iteración número: 23\n",
      "-----------------------------\n",
      "iteración número: 24\n",
      "-----------------------------\n",
      "iteración número: 25\n",
      "-----------------------------\n",
      "iteración número: 26\n",
      "-----------------------------\n",
      "iteración número: 27\n",
      "-----------------------------\n",
      "iteración número: 28\n",
      "-----------------------------\n",
      "iteración número: 29\n",
      "-----------------------------\n",
      "iteración número: 30\n",
      "-----------------------------\n",
      "iteración número: 31\n",
      "-----------------------------\n",
      "iteración número: 32\n",
      "-----------------------------\n",
      "iteración número: 33\n",
      "-----------------------------\n",
      "iteración número: 34\n",
      "-----------------------------\n",
      "iteración número: 35\n",
      "-----------------------------\n",
      "iteración número: 36\n",
      "-----------------------------\n",
      "iteración número: 37\n",
      "-----------------------------\n",
      "iteración número: 38\n",
      "-----------------------------\n",
      "iteración número: 39\n",
      "-----------------------------\n",
      "iteración número: 40\n",
      "-----------------------------\n",
      "iteración número: 41\n",
      "-----------------------------\n",
      "iteración número: 42\n",
      "-----------------------------\n",
      "iteración número: 43\n",
      "-----------------------------\n",
      "iteración número: 44\n",
      "-----------------------------\n",
      "iteración número: 45\n",
      "-----------------------------\n",
      "iteración número: 46\n",
      "-----------------------------\n",
      "iteración número: 47\n",
      "-----------------------------\n",
      "iteración número: 48\n",
      "-----------------------------\n",
      "iteración número: 49\n",
      "-----------------------------\n",
      "iteración número: 50\n",
      "-----------------------------\n",
      "iteración número: 51\n",
      "-----------------------------\n",
      "iteración número: 52\n",
      "-----------------------------\n",
      "iteración número: 53\n",
      "-----------------------------\n",
      "iteración número: 54\n",
      "-----------------------------\n",
      "iteración número: 55\n",
      "-----------------------------\n",
      "iteración número: 56\n",
      "-----------------------------\n",
      "iteración número: 57\n",
      "-----------------------------\n",
      "iteración número: 58\n",
      "-----------------------------\n",
      "iteración número: 59\n",
      "-----------------------------\n",
      "iteración número: 60\n",
      "-----------------------------\n",
      "iteración número: 61\n",
      "-----------------------------\n",
      "iteración número: 62\n",
      "-----------------------------\n",
      "iteración número: 63\n",
      "-----------------------------\n",
      "iteración número: 64\n",
      "-----------------------------\n",
      "iteración número: 65\n",
      "-----------------------------\n",
      "iteración número: 66\n",
      "-----------------------------\n",
      "iteración número: 67\n",
      "-----------------------------\n",
      "iteración número: 68\n",
      "-----------------------------\n",
      "iteración número: 69\n",
      "-----------------------------\n",
      "iteración número: 70\n",
      "-----------------------------\n",
      "iteración número: 71\n",
      "-----------------------------\n",
      "iteración número: 72\n",
      "-----------------------------\n",
      "iteración número: 73\n",
      "-----------------------------\n",
      "iteración número: 74\n",
      "-----------------------------\n",
      "iteración número: 75\n",
      "-----------------------------\n",
      "iteración número: 76\n",
      "-----------------------------\n",
      "iteración número: 77\n",
      "-----------------------------\n",
      "iteración número: 78\n",
      "-----------------------------\n",
      "iteración número: 79\n",
      "-----------------------------\n",
      "iteración número: 80\n",
      "-----------------------------\n",
      "iteración número: 81\n",
      "-----------------------------\n",
      "iteración número: 82\n",
      "-----------------------------\n",
      "iteración número: 83\n",
      "-----------------------------\n",
      "iteración número: 84\n",
      "-----------------------------\n",
      "iteración número: 85\n",
      "-----------------------------\n",
      "iteración número: 86\n",
      "-----------------------------\n",
      "iteración número: 87\n",
      "-----------------------------\n",
      "iteración número: 88\n",
      "-----------------------------\n",
      "iteración número: 89\n",
      "-----------------------------\n",
      "iteración número: 90\n",
      "-----------------------------\n",
      "iteración número: 91\n",
      "-----------------------------\n",
      "iteración número: 92\n",
      "-----------------------------\n",
      "iteración número: 93\n",
      "-----------------------------\n",
      "iteración número: 94\n",
      "-----------------------------\n",
      "iteración número: 95\n",
      "-----------------------------\n",
      "iteración número: 96\n",
      "-----------------------------\n",
      "iteración número: 97\n",
      "-----------------------------\n",
      "iteración número: 98\n",
      "-----------------------------\n",
      "iteración número: 99\n",
      "-----------------------------\n",
      "iteración número: 100\n",
      "-----------------------------\n",
      "iteración número: 101\n",
      "-----------------------------\n",
      "iteración número: 102\n",
      "-----------------------------\n",
      "iteración número: 103\n",
      "-----------------------------\n",
      "iteración número: 104\n",
      "-----------------------------\n",
      "iteración número: 105\n",
      "-----------------------------\n",
      "iteración número: 106\n",
      "-----------------------------\n",
      "iteración número: 107\n",
      "-----------------------------\n",
      "iteración número: 108\n",
      "-----------------------------\n",
      "iteración número: 109\n",
      "-----------------------------\n",
      "iteración número: 110\n",
      "-----------------------------\n",
      "iteración número: 111\n",
      "-----------------------------\n",
      "iteración número: 112\n",
      "-----------------------------\n",
      "iteración número: 113\n",
      "-----------------------------\n",
      "iteración número: 114\n",
      "-----------------------------\n",
      "iteración número: 115\n",
      "-----------------------------\n",
      "iteración número: 116\n",
      "-----------------------------\n",
      "iteración número: 117\n",
      "-----------------------------\n",
      "iteración número: 118\n",
      "-----------------------------\n",
      "iteración número: 119\n",
      "-----------------------------\n",
      "iteración número: 120\n",
      "-----------------------------\n",
      "iteración número: 121\n",
      "-----------------------------\n",
      "iteración número: 122\n",
      "-----------------------------\n",
      "iteración número: 123\n",
      "-----------------------------\n",
      "iteración número: 124\n",
      "-----------------------------\n",
      "iteración número: 125\n",
      "-----------------------------\n",
      "iteración número: 126\n",
      "-----------------------------\n",
      "iteración número: 127\n",
      "-----------------------------\n",
      "iteración número: 128\n",
      "-----------------------------\n",
      "iteración número: 129\n",
      "-----------------------------\n",
      "iteración número: 130\n",
      "-----------------------------\n",
      "iteración número: 131\n",
      "-----------------------------\n",
      "iteración número: 132\n",
      "-----------------------------\n",
      "iteración número: 133\n",
      "-----------------------------\n",
      "iteración número: 134\n",
      "-----------------------------\n",
      "iteración número: 135\n",
      "-----------------------------\n",
      "iteración número: 136\n",
      "-----------------------------\n",
      "iteración número: 137\n",
      "-----------------------------\n",
      "iteración número: 138\n",
      "-----------------------------\n",
      "iteración número: 139\n",
      "-----------------------------\n",
      "iteración número: 140\n",
      "-----------------------------\n",
      "iteración número: 141\n",
      "-----------------------------\n",
      "iteración número: 142\n",
      "-----------------------------\n",
      "iteración número: 143\n",
      "-----------------------------\n",
      "iteración número: 144\n",
      "-----------------------------\n",
      "iteración número: 145\n",
      "-----------------------------\n",
      "iteración número: 146\n",
      "-----------------------------\n",
      "iteración número: 147\n",
      "-----------------------------\n",
      "iteración número: 148\n",
      "-----------------------------\n",
      "iteración número: 149\n",
      "-----------------------------\n",
      "iteración número: 150\n",
      "-----------------------------\n",
      "iteración número: 151\n",
      "-----------------------------\n",
      "iteración número: 152\n",
      "-----------------------------\n",
      "iteración número: 153\n",
      "-----------------------------\n",
      "iteración número: 154\n",
      "-----------------------------\n",
      "iteración número: 155\n",
      "-----------------------------\n",
      "iteración número: 156\n",
      "-----------------------------\n",
      "iteración número: 157\n",
      "-----------------------------\n",
      "iteración número: 158\n",
      "-----------------------------\n",
      "iteración número: 159\n",
      "-----------------------------\n",
      "iteración número: 160\n",
      "-----------------------------\n",
      "iteración número: 161\n",
      "-----------------------------\n",
      "iteración número: 162\n",
      "-----------------------------\n",
      "iteración número: 163\n",
      "-----------------------------\n",
      "iteración número: 164\n",
      "-----------------------------\n",
      "iteración número: 165\n",
      "-----------------------------\n",
      "iteración número: 166\n",
      "-----------------------------\n",
      "iteración número: 167\n",
      "-----------------------------\n",
      "iteración número: 168\n",
      "-----------------------------\n",
      "iteración número: 169\n",
      "-----------------------------\n",
      "iteración número: 170\n",
      "-----------------------------\n",
      "iteración número: 171\n",
      "-----------------------------\n",
      "iteración número: 172\n",
      "-----------------------------\n",
      "iteración número: 173\n",
      "-----------------------------\n",
      "iteración número: 174\n",
      "-----------------------------\n",
      "iteración número: 175\n",
      "-----------------------------\n",
      "iteración número: 176\n",
      "-----------------------------\n",
      "iteración número: 177\n",
      "-----------------------------\n",
      "iteración número: 178\n",
      "-----------------------------\n",
      "iteración número: 179\n",
      "-----------------------------\n",
      "iteración número: 180\n",
      "-----------------------------\n",
      "iteración número: 181\n",
      "-----------------------------\n",
      "iteración número: 182\n",
      "-----------------------------\n",
      "iteración número: 183\n",
      "-----------------------------\n",
      "iteración número: 184\n",
      "-----------------------------\n",
      "iteración número: 185\n",
      "-----------------------------\n",
      "iteración número: 186\n",
      "-----------------------------\n",
      "iteración número: 187\n",
      "-----------------------------\n",
      "iteración número: 188\n",
      "-----------------------------\n",
      "iteración número: 189\n",
      "-----------------------------\n",
      "iteración número: 190\n",
      "-----------------------------\n",
      "iteración número: 191\n",
      "-----------------------------\n",
      "iteración número: 192\n",
      "-----------------------------\n",
      "iteración número: 193\n",
      "-----------------------------\n",
      "iteración número: 194\n",
      "-----------------------------\n",
      "iteración número: 195\n",
      "-----------------------------\n",
      "iteración número: 196\n",
      "-----------------------------\n",
      "iteración número: 197\n",
      "-----------------------------\n",
      "iteración número: 198\n",
      "-----------------------------\n",
      "iteración número: 199\n",
      "-----------------------------\n",
      "iteración número: 200\n",
      "-----------------------------\n",
      "iteración número: 201\n",
      "-----------------------------\n",
      "iteración número: 202\n",
      "-----------------------------\n",
      "iteración número: 203\n",
      "-----------------------------\n",
      "iteración número: 204\n",
      "-----------------------------\n",
      "iteración número: 205\n",
      "-----------------------------\n",
      "iteración número: 206\n",
      "-----------------------------\n",
      "iteración número: 207\n",
      "-----------------------------\n",
      "iteración número: 208\n",
      "-----------------------------\n",
      "iteración número: 209\n",
      "-----------------------------\n",
      "iteración número: 210\n",
      "-----------------------------\n",
      "iteración número: 211\n",
      "-----------------------------\n",
      "iteración número: 212\n",
      "-----------------------------\n",
      "iteración número: 213\n",
      "-----------------------------\n",
      "iteración número: 214\n",
      "-----------------------------\n",
      "iteración número: 215\n",
      "-----------------------------\n",
      "iteración número: 216\n",
      "-----------------------------\n",
      "iteración número: 217\n",
      "-----------------------------\n",
      "iteración número: 218\n",
      "-----------------------------\n",
      "iteración número: 219\n",
      "-----------------------------\n",
      "iteración número: 220\n",
      "-----------------------------\n",
      "iteración número: 221\n",
      "-----------------------------\n",
      "iteración número: 222\n",
      "-----------------------------\n",
      "iteración número: 223\n",
      "-----------------------------\n",
      "iteración número: 224\n",
      "-----------------------------\n",
      "iteración número: 225\n",
      "-----------------------------\n",
      "iteración número: 226\n",
      "-----------------------------\n",
      "iteración número: 227\n",
      "-----------------------------\n",
      "iteración número: 228\n",
      "-----------------------------\n",
      "iteración número: 229\n",
      "-----------------------------\n",
      "iteración número: 230\n",
      "-----------------------------\n",
      "iteración número: 231\n",
      "-----------------------------\n",
      "iteración número: 232\n",
      "-----------------------------\n",
      "iteración número: 233\n",
      "-----------------------------\n",
      "iteración número: 234\n",
      "-----------------------------\n",
      "iteración número: 235\n",
      "-----------------------------\n",
      "iteración número: 236\n",
      "-----------------------------\n",
      "iteración número: 237\n",
      "-----------------------------\n",
      "iteración número: 238\n",
      "-----------------------------\n",
      "iteración número: 239\n",
      "-----------------------------\n",
      "iteración número: 240\n",
      "-----------------------------\n",
      "iteración número: 241\n",
      "-----------------------------\n",
      "iteración número: 242\n",
      "-----------------------------\n",
      "iteración número: 243\n",
      "-----------------------------\n",
      "iteración número: 244\n",
      "-----------------------------\n",
      "iteración número: 245\n",
      "-----------------------------\n",
      "iteración número: 246\n",
      "-----------------------------\n",
      "iteración número: 247\n",
      "-----------------------------\n",
      "iteración número: 248\n",
      "-----------------------------\n",
      "iteración número: 249\n",
      "-----------------------------\n",
      "iteración número: 250\n",
      "-----------------------------\n",
      "iteración número: 251\n",
      "-----------------------------\n",
      "iteración número: 252\n",
      "-----------------------------\n",
      "iteración número: 253\n",
      "-----------------------------\n",
      "iteración número: 254\n",
      "-----------------------------\n",
      "iteración número: 255\n",
      "-----------------------------\n",
      "iteración número: 256\n",
      "-----------------------------\n",
      "iteración número: 257\n",
      "-----------------------------\n",
      "iteración número: 258\n",
      "-----------------------------\n",
      "iteración número: 259\n",
      "-----------------------------\n",
      "iteración número: 260\n",
      "-----------------------------\n",
      "iteración número: 261\n",
      "-----------------------------\n",
      "iteración número: 262\n",
      "-----------------------------\n",
      "iteración número: 263\n",
      "-----------------------------\n",
      "iteración número: 264\n",
      "-----------------------------\n",
      "iteración número: 265\n",
      "-----------------------------\n",
      "iteración número: 266\n",
      "-----------------------------\n",
      "iteración número: 267\n",
      "-----------------------------\n",
      "iteración número: 268\n",
      "-----------------------------\n",
      "iteración número: 269\n",
      "-----------------------------\n",
      "iteración número: 270\n",
      "-----------------------------\n",
      "iteración número: 271\n",
      "-----------------------------\n",
      "iteración número: 272\n",
      "-----------------------------\n",
      "iteración número: 273\n",
      "-----------------------------\n",
      "iteración número: 274\n",
      "-----------------------------\n",
      "iteración número: 275\n",
      "-----------------------------\n",
      "iteración número: 276\n",
      "-----------------------------\n",
      "iteración número: 277\n",
      "-----------------------------\n",
      "iteración número: 278\n",
      "-----------------------------\n",
      "iteración número: 279\n",
      "-----------------------------\n",
      "iteración número: 280\n",
      "-----------------------------\n",
      "iteración número: 281\n",
      "-----------------------------\n",
      "iteración número: 282\n",
      "-----------------------------\n",
      "iteración número: 283\n",
      "-----------------------------\n",
      "iteración número: 284\n",
      "-----------------------------\n",
      "iteración número: 285\n",
      "-----------------------------\n",
      "iteración número: 286\n",
      "-----------------------------\n",
      "iteración número: 287\n",
      "-----------------------------\n",
      "iteración número: 288\n",
      "-----------------------------\n",
      "iteración número: 289\n",
      "-----------------------------\n",
      "iteración número: 290\n",
      "-----------------------------\n",
      "iteración número: 291\n",
      "-----------------------------\n",
      "iteración número: 292\n",
      "-----------------------------\n",
      "iteración número: 293\n",
      "-----------------------------\n",
      "iteración número: 294\n",
      "-----------------------------\n",
      "iteración número: 295\n",
      "-----------------------------\n",
      "iteración número: 296\n",
      "-----------------------------\n",
      "iteración número: 297\n",
      "-----------------------------\n",
      "iteración número: 298\n",
      "-----------------------------\n",
      "iteración número: 299\n",
      "-----------------------------\n",
      "iteración número: 300\n",
      "-----------------------------\n",
      "iteración número: 301\n",
      "-----------------------------\n",
      "iteración número: 302\n",
      "-----------------------------\n",
      "iteración número: 303\n",
      "-----------------------------\n",
      "iteración número: 304\n",
      "-----------------------------\n",
      "iteración número: 305\n",
      "-----------------------------\n",
      "iteración número: 306\n",
      "-----------------------------\n",
      "iteración número: 307\n",
      "-----------------------------\n",
      "iteración número: 308\n",
      "-----------------------------\n",
      "iteración número: 309\n",
      "-----------------------------\n",
      "iteración número: 310\n",
      "-----------------------------\n",
      "iteración número: 311\n",
      "-----------------------------\n",
      "iteración número: 312\n",
      "-----------------------------\n",
      "iteración número: 313\n",
      "-----------------------------\n",
      "iteración número: 314\n",
      "-----------------------------\n",
      "iteración número: 315\n",
      "-----------------------------\n",
      "iteración número: 316\n",
      "-----------------------------\n",
      "iteración número: 317\n",
      "-----------------------------\n",
      "iteración número: 318\n",
      "-----------------------------\n",
      "iteración número: 319\n",
      "-----------------------------\n",
      "iteración número: 320\n",
      "-----------------------------\n",
      "iteración número: 321\n",
      "-----------------------------\n",
      "iteración número: 322\n",
      "-----------------------------\n",
      "iteración número: 323\n",
      "-----------------------------\n",
      "iteración número: 324\n",
      "-----------------------------\n",
      "iteración número: 325\n",
      "-----------------------------\n",
      "iteración número: 326\n",
      "-----------------------------\n",
      "iteración número: 327\n",
      "-----------------------------\n",
      "iteración número: 328\n",
      "-----------------------------\n",
      "iteración número: 329\n",
      "-----------------------------\n",
      "iteración número: 330\n",
      "-----------------------------\n",
      "iteración número: 331\n",
      "-----------------------------\n",
      "iteración número: 332\n",
      "-----------------------------\n",
      "iteración número: 333\n",
      "-----------------------------\n",
      "iteración número: 334\n",
      "-----------------------------\n",
      "iteración número: 335\n",
      "-----------------------------\n",
      "iteración número: 336\n",
      "-----------------------------\n",
      "iteración número: 337\n",
      "-----------------------------\n",
      "iteración número: 338\n",
      "-----------------------------\n",
      "iteración número: 339\n",
      "-----------------------------\n",
      "iteración número: 340\n",
      "-----------------------------\n",
      "iteración número: 341\n",
      "-----------------------------\n",
      "iteración número: 342\n",
      "-----------------------------\n",
      "iteración número: 343\n",
      "-----------------------------\n",
      "iteración número: 344\n",
      "-----------------------------\n",
      "iteración número: 345\n",
      "-----------------------------\n",
      "iteración número: 346\n",
      "-----------------------------\n",
      "iteración número: 347\n",
      "-----------------------------\n",
      "iteración número: 348\n",
      "-----------------------------\n",
      "iteración número: 349\n",
      "-----------------------------\n",
      "iteración número: 350\n",
      "-----------------------------\n",
      "iteración número: 351\n",
      "-----------------------------\n",
      "iteración número: 352\n",
      "-----------------------------\n",
      "iteración número: 353\n",
      "-----------------------------\n",
      "iteración número: 354\n",
      "-----------------------------\n",
      "iteración número: 355\n",
      "-----------------------------\n",
      "iteración número: 356\n",
      "-----------------------------\n",
      "iteración número: 357\n",
      "-----------------------------\n",
      "iteración número: 358\n",
      "-----------------------------\n",
      "iteración número: 359\n",
      "-----------------------------\n",
      "iteración número: 360\n",
      "-----------------------------\n",
      "iteración número: 361\n",
      "-----------------------------\n",
      "iteración número: 362\n",
      "-----------------------------\n",
      "iteración número: 363\n",
      "-----------------------------\n",
      "iteración número: 364\n",
      "-----------------------------\n",
      "iteración número: 365\n",
      "-----------------------------\n",
      "iteración número: 366\n",
      "-----------------------------\n",
      "iteración número: 367\n",
      "-----------------------------\n",
      "iteración número: 368\n",
      "-----------------------------\n",
      "iteración número: 369\n",
      "-----------------------------\n",
      "iteración número: 370\n",
      "-----------------------------\n",
      "iteración número: 371\n",
      "-----------------------------\n",
      "iteración número: 372\n",
      "-----------------------------\n",
      "iteración número: 373\n",
      "-----------------------------\n",
      "iteración número: 374\n",
      "-----------------------------\n",
      "iteración número: 375\n",
      "-----------------------------\n",
      "iteración número: 376\n",
      "-----------------------------\n",
      "iteración número: 377\n",
      "-----------------------------\n",
      "iteración número: 378\n",
      "-----------------------------\n",
      "iteración número: 379\n",
      "-----------------------------\n",
      "iteración número: 380\n",
      "-----------------------------\n",
      "iteración número: 381\n",
      "-----------------------------\n",
      "iteración número: 382\n",
      "-----------------------------\n",
      "iteración número: 383\n",
      "-----------------------------\n",
      "iteración número: 384\n",
      "-----------------------------\n",
      "iteración número: 385\n",
      "-----------------------------\n",
      "iteración número: 386\n",
      "-----------------------------\n",
      "iteración número: 387\n",
      "-----------------------------\n",
      "iteración número: 388\n",
      "-----------------------------\n",
      "iteración número: 389\n",
      "-----------------------------\n",
      "iteración número: 390\n",
      "-----------------------------\n",
      "iteración número: 391\n",
      "-----------------------------\n",
      "iteración número: 392\n",
      "-----------------------------\n",
      "iteración número: 393\n",
      "-----------------------------\n",
      "iteración número: 394\n",
      "-----------------------------\n",
      "iteración número: 395\n",
      "-----------------------------\n",
      "iteración número: 396\n",
      "-----------------------------\n",
      "iteración número: 397\n",
      "-----------------------------\n",
      "iteración número: 398\n",
      "-----------------------------\n",
      "iteración número: 399\n",
      "-----------------------------\n",
      "iteración número: 400\n",
      "-----------------------------\n",
      "iteración número: 401\n",
      "-----------------------------\n",
      "iteración número: 402\n",
      "-----------------------------\n",
      "iteración número: 403\n",
      "-----------------------------\n",
      "iteración número: 404\n",
      "-----------------------------\n",
      "iteración número: 405\n",
      "-----------------------------\n",
      "iteración número: 406\n",
      "-----------------------------\n",
      "iteración número: 407\n",
      "-----------------------------\n",
      "iteración número: 408\n",
      "-----------------------------\n",
      "iteración número: 409\n",
      "-----------------------------\n",
      "iteración número: 410\n",
      "-----------------------------\n",
      "iteración número: 411\n",
      "-----------------------------\n",
      "iteración número: 412\n",
      "-----------------------------\n",
      "iteración número: 413\n",
      "-----------------------------\n",
      "iteración número: 414\n",
      "-----------------------------\n",
      "iteración número: 415\n",
      "-----------------------------\n",
      "iteración número: 416\n",
      "-----------------------------\n",
      "iteración número: 417\n",
      "-----------------------------\n",
      "iteración número: 418\n",
      "-----------------------------\n",
      "iteración número: 419\n",
      "-----------------------------\n",
      "iteración número: 420\n",
      "-----------------------------\n",
      "iteración número: 421\n",
      "-----------------------------\n",
      "iteración número: 422\n",
      "-----------------------------\n",
      "iteración número: 423\n",
      "-----------------------------\n",
      "iteración número: 424\n",
      "-----------------------------\n",
      "iteración número: 425\n",
      "-----------------------------\n",
      "iteración número: 426\n",
      "-----------------------------\n",
      "iteración número: 427\n",
      "-----------------------------\n",
      "iteración número: 428\n",
      "-----------------------------\n",
      "iteración número: 429\n",
      "-----------------------------\n",
      "iteración número: 430\n",
      "-----------------------------\n",
      "iteración número: 431\n",
      "-----------------------------\n",
      "iteración número: 432\n",
      "-----------------------------\n",
      "iteración número: 433\n",
      "-----------------------------\n",
      "iteración número: 434\n",
      "-----------------------------\n",
      "iteración número: 435\n",
      "-----------------------------\n",
      "iteración número: 436\n",
      "-----------------------------\n",
      "iteración número: 437\n",
      "-----------------------------\n",
      "iteración número: 438\n",
      "-----------------------------\n",
      "iteración número: 439\n",
      "-----------------------------\n",
      "iteración número: 440\n",
      "-----------------------------\n",
      "iteración número: 441\n",
      "-----------------------------\n",
      "iteración número: 442\n",
      "-----------------------------\n",
      "iteración número: 443\n",
      "-----------------------------\n",
      "iteración número: 444\n",
      "-----------------------------\n",
      "iteración número: 445\n",
      "-----------------------------\n",
      "iteración número: 446\n",
      "-----------------------------\n",
      "iteración número: 447\n",
      "-----------------------------\n",
      "iteración número: 448\n",
      "-----------------------------\n",
      "iteración número: 449\n",
      "-----------------------------\n",
      "iteración número: 450\n",
      "-----------------------------\n",
      "iteración número: 451\n",
      "-----------------------------\n",
      "iteración número: 452\n",
      "-----------------------------\n",
      "iteración número: 453\n",
      "-----------------------------\n",
      "iteración número: 454\n",
      "-----------------------------\n",
      "iteración número: 455\n",
      "-----------------------------\n",
      "iteración número: 456\n",
      "-----------------------------\n",
      "iteración número: 457\n",
      "-----------------------------\n",
      "iteración número: 458\n",
      "-----------------------------\n",
      "iteración número: 459\n",
      "-----------------------------\n",
      "iteración número: 460\n",
      "-----------------------------\n",
      "iteración número: 461\n",
      "-----------------------------\n",
      "iteración número: 462\n",
      "-----------------------------\n",
      "iteración número: 463\n",
      "-----------------------------\n",
      "iteración número: 464\n",
      "-----------------------------\n",
      "iteración número: 465\n",
      "-----------------------------\n",
      "iteración número: 466\n",
      "-----------------------------\n",
      "iteración número: 467\n",
      "-----------------------------\n",
      "iteración número: 468\n",
      "-----------------------------\n",
      "iteración número: 469\n",
      "-----------------------------\n",
      "iteración número: 470\n",
      "-----------------------------\n",
      "iteración número: 471\n",
      "-----------------------------\n",
      "iteración número: 472\n",
      "-----------------------------\n",
      "iteración número: 473\n",
      "-----------------------------\n",
      "iteración número: 474\n",
      "-----------------------------\n",
      "iteración número: 475\n",
      "-----------------------------\n",
      "iteración número: 476\n",
      "-----------------------------\n",
      "iteración número: 477\n",
      "-----------------------------\n",
      "iteración número: 478\n",
      "-----------------------------\n",
      "iteración número: 479\n",
      "-----------------------------\n",
      "iteración número: 480\n",
      "-----------------------------\n",
      "iteración número: 481\n",
      "-----------------------------\n",
      "iteración número: 482\n",
      "-----------------------------\n",
      "iteración número: 483\n",
      "-----------------------------\n",
      "iteración número: 484\n",
      "-----------------------------\n",
      "iteración número: 485\n",
      "-----------------------------\n",
      "iteración número: 486\n",
      "-----------------------------\n",
      "iteración número: 487\n",
      "-----------------------------\n",
      "iteración número: 488\n",
      "-----------------------------\n",
      "iteración número: 489\n",
      "-----------------------------\n",
      "iteración número: 490\n",
      "-----------------------------\n",
      "iteración número: 491\n",
      "-----------------------------\n",
      "iteración número: 492\n",
      "-----------------------------\n",
      "iteración número: 493\n",
      "-----------------------------\n",
      "iteración número: 494\n",
      "-----------------------------\n",
      "iteración número: 495\n",
      "-----------------------------\n",
      "iteración número: 496\n",
      "-----------------------------\n",
      "iteración número: 497\n",
      "-----------------------------\n",
      "iteración número: 498\n",
      "-----------------------------\n",
      "iteración número: 499\n",
      "-----------------------------\n",
      "iteración número: 500\n",
      "-----------------------------\n",
      "iteración número: 501\n",
      "-----------------------------\n",
      "iteración número: 502\n",
      "-----------------------------\n",
      "iteración número: 503\n",
      "-----------------------------\n",
      "iteración número: 504\n",
      "-----------------------------\n",
      "iteración número: 505\n",
      "-----------------------------\n",
      "iteración número: 506\n",
      "-----------------------------\n",
      "iteración número: 507\n",
      "-----------------------------\n",
      "iteración número: 508\n",
      "-----------------------------\n",
      "iteración número: 509\n",
      "-----------------------------\n",
      "iteración número: 510\n",
      "-----------------------------\n",
      "iteración número: 511\n",
      "-----------------------------\n",
      "iteración número: 512\n",
      "-----------------------------\n",
      "iteración número: 513\n",
      "-----------------------------\n",
      "iteración número: 514\n",
      "-----------------------------\n",
      "iteración número: 515\n",
      "-----------------------------\n",
      "iteración número: 516\n",
      "-----------------------------\n",
      "iteración número: 517\n",
      "-----------------------------\n",
      "iteración número: 518\n",
      "-----------------------------\n",
      "iteración número: 519\n",
      "-----------------------------\n",
      "iteración número: 520\n",
      "-----------------------------\n",
      "iteración número: 521\n",
      "-----------------------------\n",
      "iteración número: 522\n",
      "-----------------------------\n",
      "iteración número: 523\n",
      "-----------------------------\n",
      "iteración número: 524\n",
      "-----------------------------\n",
      "iteración número: 525\n",
      "-----------------------------\n",
      "iteración número: 526\n",
      "-----------------------------\n",
      "iteración número: 527\n",
      "-----------------------------\n",
      "iteración número: 528\n",
      "-----------------------------\n",
      "iteración número: 529\n",
      "-----------------------------\n",
      "iteración número: 530\n",
      "-----------------------------\n",
      "iteración número: 531\n",
      "-----------------------------\n",
      "iteración número: 532\n",
      "-----------------------------\n",
      "iteración número: 533\n",
      "-----------------------------\n",
      "iteración número: 534\n",
      "-----------------------------\n",
      "iteración número: 535\n",
      "-----------------------------\n",
      "iteración número: 536\n",
      "-----------------------------\n",
      "iteración número: 537\n",
      "-----------------------------\n",
      "iteración número: 538\n",
      "-----------------------------\n",
      "iteración número: 539\n",
      "-----------------------------\n",
      "iteración número: 540\n",
      "-----------------------------\n",
      "iteración número: 541\n",
      "-----------------------------\n",
      "iteración número: 542\n",
      "-----------------------------\n",
      "iteración número: 543\n",
      "-----------------------------\n",
      "iteración número: 544\n",
      "-----------------------------\n",
      "iteración número: 545\n",
      "-----------------------------\n",
      "iteración número: 546\n",
      "-----------------------------\n",
      "iteración número: 547\n",
      "-----------------------------\n",
      "iteración número: 548\n",
      "-----------------------------\n",
      "iteración número: 549\n",
      "-----------------------------\n",
      "iteración número: 550\n",
      "-----------------------------\n",
      "iteración número: 551\n",
      "-----------------------------\n",
      "iteración número: 552\n",
      "-----------------------------\n",
      "iteración número: 553\n",
      "-----------------------------\n",
      "iteración número: 554\n",
      "-----------------------------\n",
      "iteración número: 555\n",
      "-----------------------------\n",
      "iteración número: 556\n",
      "-----------------------------\n",
      "iteración número: 557\n",
      "-----------------------------\n",
      "iteración número: 558\n",
      "-----------------------------\n",
      "iteración número: 559\n",
      "-----------------------------\n",
      "iteración número: 560\n",
      "-----------------------------\n",
      "iteración número: 561\n",
      "-----------------------------\n",
      "iteración número: 562\n",
      "-----------------------------\n",
      "iteración número: 563\n",
      "-----------------------------\n",
      "iteración número: 564\n",
      "-----------------------------\n",
      "iteración número: 565\n",
      "-----------------------------\n",
      "iteración número: 566\n",
      "-----------------------------\n",
      "iteración número: 567\n",
      "-----------------------------\n",
      "iteración número: 568\n",
      "-----------------------------\n",
      "iteración número: 569\n",
      "-----------------------------\n",
      "iteración número: 570\n",
      "-----------------------------\n",
      "iteración número: 571\n",
      "-----------------------------\n",
      "iteración número: 572\n",
      "-----------------------------\n",
      "iteración número: 573\n",
      "-----------------------------\n",
      "iteración número: 574\n",
      "-----------------------------\n",
      "iteración número: 575\n",
      "-----------------------------\n",
      "iteración número: 576\n",
      "-----------------------------\n",
      "iteración número: 577\n",
      "-----------------------------\n",
      "iteración número: 578\n",
      "-----------------------------\n",
      "iteración número: 579\n",
      "-----------------------------\n",
      "iteración número: 580\n",
      "-----------------------------\n",
      "iteración número: 581\n",
      "-----------------------------\n",
      "iteración número: 582\n",
      "-----------------------------\n",
      "iteración número: 583\n",
      "-----------------------------\n",
      "iteración número: 584\n",
      "-----------------------------\n",
      "iteración número: 585\n",
      "-----------------------------\n",
      "iteración número: 586\n",
      "-----------------------------\n",
      "iteración número: 587\n",
      "-----------------------------\n",
      "iteración número: 588\n",
      "-----------------------------\n",
      "iteración número: 589\n",
      "-----------------------------\n",
      "iteración número: 590\n",
      "-----------------------------\n",
      "iteración número: 591\n",
      "-----------------------------\n",
      "iteración número: 592\n",
      "-----------------------------\n",
      "iteración número: 593\n",
      "-----------------------------\n",
      "iteración número: 594\n",
      "-----------------------------\n",
      "iteración número: 595\n",
      "-----------------------------\n",
      "iteración número: 596\n",
      "-----------------------------\n",
      "iteración número: 597\n",
      "-----------------------------\n",
      "iteración número: 598\n",
      "-----------------------------\n",
      "iteración número: 599\n",
      "-----------------------------\n",
      "iteración número: 600\n",
      "-----------------------------\n",
      "iteración número: 601\n",
      "-----------------------------\n",
      "iteración número: 602\n",
      "-----------------------------\n",
      "iteración número: 603\n",
      "-----------------------------\n",
      "iteración número: 604\n",
      "-----------------------------\n",
      "iteración número: 605\n",
      "-----------------------------\n",
      "iteración número: 606\n",
      "-----------------------------\n",
      "iteración número: 607\n",
      "-----------------------------\n",
      "iteración número: 608\n",
      "-----------------------------\n",
      "iteración número: 609\n",
      "-----------------------------\n",
      "iteración número: 610\n",
      "-----------------------------\n",
      "iteración número: 611\n",
      "-----------------------------\n",
      "iteración número: 612\n",
      "-----------------------------\n",
      "iteración número: 613\n",
      "-----------------------------\n",
      "iteración número: 614\n",
      "-----------------------------\n",
      "iteración número: 615\n",
      "-----------------------------\n",
      "iteración número: 616\n",
      "-----------------------------\n",
      "iteración número: 617\n",
      "-----------------------------\n",
      "iteración número: 618\n",
      "-----------------------------\n",
      "iteración número: 619\n",
      "-----------------------------\n",
      "iteración número: 620\n",
      "-----------------------------\n",
      "iteración número: 621\n",
      "-----------------------------\n",
      "iteración número: 622\n",
      "-----------------------------\n",
      "iteración número: 623\n",
      "-----------------------------\n",
      "iteración número: 624\n",
      "-----------------------------\n",
      "iteración número: 625\n",
      "-----------------------------\n",
      "iteración número: 626\n",
      "-----------------------------\n",
      "iteración número: 627\n",
      "-----------------------------\n",
      "iteración número: 628\n",
      "-----------------------------\n",
      "iteración número: 629\n",
      "-----------------------------\n",
      "iteración número: 630\n",
      "-----------------------------\n",
      "iteración número: 631\n",
      "-----------------------------\n",
      "iteración número: 632\n",
      "-----------------------------\n",
      "iteración número: 633\n",
      "-----------------------------\n",
      "iteración número: 634\n",
      "-----------------------------\n",
      "iteración número: 635\n",
      "-----------------------------\n",
      "iteración número: 636\n",
      "-----------------------------\n",
      "iteración número: 637\n",
      "-----------------------------\n",
      "iteración número: 638\n",
      "-----------------------------\n",
      "iteración número: 639\n",
      "-----------------------------\n",
      "iteración número: 640\n",
      "-----------------------------\n",
      "iteración número: 641\n",
      "-----------------------------\n",
      "iteración número: 642\n",
      "-----------------------------\n",
      "iteración número: 643\n",
      "-----------------------------\n",
      "iteración número: 644\n",
      "-----------------------------\n",
      "iteración número: 645\n",
      "-----------------------------\n",
      "iteración número: 646\n",
      "-----------------------------\n",
      "iteración número: 647\n",
      "-----------------------------\n",
      "iteración número: 648\n",
      "-----------------------------\n",
      "iteración número: 649\n",
      "-----------------------------\n",
      "iteración número: 650\n",
      "-----------------------------\n",
      "iteración número: 651\n",
      "-----------------------------\n",
      "iteración número: 652\n",
      "-----------------------------\n",
      "iteración número: 653\n",
      "-----------------------------\n",
      "iteración número: 654\n",
      "-----------------------------\n",
      "iteración número: 655\n",
      "-----------------------------\n",
      "iteración número: 656\n",
      "-----------------------------\n",
      "iteración número: 657\n",
      "-----------------------------\n",
      "iteración número: 658\n",
      "-----------------------------\n",
      "iteración número: 659\n",
      "-----------------------------\n",
      "iteración número: 660\n",
      "-----------------------------\n",
      "iteración número: 661\n",
      "-----------------------------\n",
      "iteración número: 662\n",
      "-----------------------------\n",
      "iteración número: 663\n",
      "-----------------------------\n",
      "iteración número: 664\n",
      "-----------------------------\n",
      "iteración número: 665\n",
      "-----------------------------\n",
      "iteración número: 666\n",
      "-----------------------------\n",
      "iteración número: 667\n",
      "-----------------------------\n",
      "iteración número: 668\n",
      "-----------------------------\n",
      "iteración número: 669\n",
      "-----------------------------\n",
      "iteración número: 670\n",
      "-----------------------------\n",
      "iteración número: 671\n",
      "-----------------------------\n",
      "iteración número: 672\n",
      "-----------------------------\n",
      "iteración número: 673\n",
      "-----------------------------\n",
      "iteración número: 674\n",
      "-----------------------------\n",
      "iteración número: 675\n",
      "-----------------------------\n",
      "iteración número: 676\n",
      "-----------------------------\n",
      "iteración número: 677\n",
      "-----------------------------\n",
      "iteración número: 678\n",
      "-----------------------------\n",
      "iteración número: 679\n",
      "-----------------------------\n",
      "iteración número: 680\n",
      "-----------------------------\n",
      "iteración número: 681\n",
      "-----------------------------\n",
      "iteración número: 682\n",
      "-----------------------------\n",
      "iteración número: 683\n",
      "-----------------------------\n",
      "iteración número: 684\n",
      "-----------------------------\n",
      "iteración número: 685\n",
      "-----------------------------\n",
      "iteración número: 686\n",
      "-----------------------------\n",
      "iteración número: 687\n",
      "-----------------------------\n",
      "iteración número: 688\n",
      "-----------------------------\n",
      "iteración número: 689\n",
      "-----------------------------\n",
      "iteración número: 690\n",
      "-----------------------------\n",
      "iteración número: 691\n",
      "-----------------------------\n",
      "iteración número: 692\n",
      "-----------------------------\n",
      "iteración número: 693\n",
      "-----------------------------\n",
      "iteración número: 694\n",
      "-----------------------------\n",
      "iteración número: 695\n",
      "-----------------------------\n",
      "iteración número: 696\n",
      "-----------------------------\n",
      "iteración número: 697\n",
      "-----------------------------\n",
      "iteración número: 698\n",
      "-----------------------------\n",
      "iteración número: 699\n",
      "-----------------------------\n",
      "iteración número: 700\n",
      "-----------------------------\n",
      "iteración número: 701\n",
      "-----------------------------\n",
      "iteración número: 702\n",
      "-----------------------------\n",
      "iteración número: 703\n",
      "-----------------------------\n",
      "iteración número: 704\n",
      "-----------------------------\n",
      "iteración número: 705\n",
      "-----------------------------\n",
      "iteración número: 706\n",
      "-----------------------------\n",
      "iteración número: 707\n",
      "-----------------------------\n",
      "iteración número: 708\n",
      "-----------------------------\n",
      "iteración número: 709\n",
      "-----------------------------\n",
      "iteración número: 710\n",
      "-----------------------------\n",
      "iteración número: 711\n",
      "-----------------------------\n",
      "iteración número: 712\n",
      "-----------------------------\n",
      "iteración número: 713\n",
      "-----------------------------\n",
      "iteración número: 714\n",
      "-----------------------------\n",
      "iteración número: 715\n",
      "-----------------------------\n",
      "iteración número: 716\n",
      "-----------------------------\n",
      "iteración número: 717\n",
      "-----------------------------\n",
      "iteración número: 718\n",
      "-----------------------------\n",
      "iteración número: 719\n",
      "-----------------------------\n",
      "iteración número: 720\n",
      "-----------------------------\n",
      "iteración número: 721\n",
      "-----------------------------\n",
      "iteración número: 722\n",
      "-----------------------------\n",
      "iteración número: 723\n",
      "-----------------------------\n",
      "iteración número: 724\n",
      "-----------------------------\n",
      "iteración número: 725\n",
      "-----------------------------\n",
      "iteración número: 726\n",
      "-----------------------------\n",
      "iteración número: 727\n",
      "-----------------------------\n",
      "iteración número: 728\n",
      "-----------------------------\n",
      "iteración número: 729\n",
      "-----------------------------\n",
      "iteración número: 730\n",
      "-----------------------------\n",
      "iteración número: 731\n",
      "-----------------------------\n",
      "iteración número: 732\n",
      "-----------------------------\n",
      "iteración número: 733\n",
      "-----------------------------\n",
      "iteración número: 734\n",
      "-----------------------------\n",
      "iteración número: 735\n",
      "-----------------------------\n",
      "iteración número: 736\n",
      "-----------------------------\n",
      "iteración número: 737\n",
      "-----------------------------\n",
      "iteración número: 738\n",
      "-----------------------------\n",
      "iteración número: 739\n",
      "-----------------------------\n",
      "iteración número: 740\n",
      "-----------------------------\n",
      "iteración número: 741\n",
      "-----------------------------\n",
      "iteración número: 742\n",
      "-----------------------------\n",
      "iteración número: 743\n",
      "-----------------------------\n",
      "iteración número: 744\n",
      "-----------------------------\n",
      "iteración número: 745\n",
      "-----------------------------\n",
      "iteración número: 746\n",
      "-----------------------------\n",
      "iteración número: 747\n",
      "-----------------------------\n",
      "iteración número: 748\n",
      "-----------------------------\n",
      "iteración número: 749\n",
      "-----------------------------\n",
      "iteración número: 750\n",
      "-----------------------------\n",
      "iteración número: 751\n",
      "-----------------------------\n",
      "iteración número: 752\n",
      "-----------------------------\n",
      "iteración número: 753\n",
      "-----------------------------\n",
      "iteración número: 754\n",
      "-----------------------------\n",
      "iteración número: 755\n",
      "-----------------------------\n",
      "iteración número: 756\n",
      "-----------------------------\n",
      "iteración número: 757\n",
      "-----------------------------\n",
      "iteración número: 758\n",
      "-----------------------------\n",
      "iteración número: 759\n",
      "-----------------------------\n",
      "iteración número: 760\n",
      "-----------------------------\n",
      "iteración número: 761\n",
      "-----------------------------\n",
      "iteración número: 762\n",
      "-----------------------------\n",
      "iteración número: 763\n",
      "-----------------------------\n",
      "iteración número: 764\n",
      "-----------------------------\n",
      "iteración número: 765\n",
      "-----------------------------\n",
      "iteración número: 766\n",
      "-----------------------------\n",
      "iteración número: 767\n",
      "-----------------------------\n",
      "iteración número: 768\n",
      "-----------------------------\n",
      "iteración número: 769\n",
      "-----------------------------\n",
      "iteración número: 770\n",
      "-----------------------------\n",
      "iteración número: 771\n",
      "-----------------------------\n",
      "iteración número: 772\n",
      "-----------------------------\n",
      "iteración número: 773\n",
      "-----------------------------\n",
      "iteración número: 774\n",
      "-----------------------------\n",
      "iteración número: 775\n",
      "-----------------------------\n",
      "iteración número: 776\n",
      "-----------------------------\n",
      "iteración número: 777\n",
      "-----------------------------\n",
      "iteración número: 778\n",
      "-----------------------------\n",
      "iteración número: 779\n",
      "-----------------------------\n",
      "iteración número: 780\n",
      "-----------------------------\n",
      "iteración número: 781\n",
      "-----------------------------\n",
      "iteración número: 782\n",
      "-----------------------------\n",
      "iteración número: 783\n",
      "-----------------------------\n",
      "iteración número: 784\n",
      "-----------------------------\n",
      "iteración número: 785\n",
      "-----------------------------\n",
      "iteración número: 786\n",
      "-----------------------------\n",
      "iteración número: 787\n",
      "-----------------------------\n",
      "iteración número: 788\n",
      "-----------------------------\n",
      "iteración número: 789\n",
      "-----------------------------\n",
      "iteración número: 790\n",
      "-----------------------------\n",
      "iteración número: 791\n",
      "-----------------------------\n",
      "iteración número: 792\n",
      "-----------------------------\n",
      "iteración número: 793\n",
      "-----------------------------\n",
      "iteración número: 794\n",
      "-----------------------------\n",
      "iteración número: 795\n",
      "-----------------------------\n",
      "iteración número: 796\n",
      "-----------------------------\n",
      "iteración número: 797\n",
      "-----------------------------\n",
      "iteración número: 798\n",
      "-----------------------------\n",
      "iteración número: 799\n",
      "-----------------------------\n",
      "iteración número: 800\n",
      "-----------------------------\n",
      "iteración número: 801\n",
      "-----------------------------\n",
      "iteración número: 802\n",
      "-----------------------------\n",
      "iteración número: 803\n",
      "-----------------------------\n",
      "iteración número: 804\n",
      "-----------------------------\n",
      "iteración número: 805\n",
      "-----------------------------\n",
      "iteración número: 806\n",
      "-----------------------------\n",
      "iteración número: 807\n",
      "-----------------------------\n",
      "iteración número: 808\n",
      "-----------------------------\n",
      "iteración número: 809\n",
      "-----------------------------\n",
      "iteración número: 810\n",
      "-----------------------------\n",
      "iteración número: 811\n",
      "-----------------------------\n",
      "iteración número: 812\n",
      "-----------------------------\n",
      "iteración número: 813\n",
      "-----------------------------\n",
      "iteración número: 814\n",
      "-----------------------------\n",
      "iteración número: 815\n",
      "-----------------------------\n",
      "iteración número: 816\n",
      "-----------------------------\n",
      "iteración número: 817\n",
      "-----------------------------\n",
      "iteración número: 818\n",
      "-----------------------------\n",
      "iteración número: 819\n",
      "-----------------------------\n",
      "iteración número: 820\n",
      "-----------------------------\n",
      "iteración número: 821\n",
      "-----------------------------\n",
      "iteración número: 822\n",
      "-----------------------------\n",
      "iteración número: 823\n",
      "-----------------------------\n",
      "iteración número: 824\n",
      "-----------------------------\n",
      "iteración número: 825\n",
      "-----------------------------\n",
      "iteración número: 826\n",
      "-----------------------------\n",
      "iteración número: 827\n",
      "-----------------------------\n",
      "iteración número: 828\n",
      "-----------------------------\n",
      "iteración número: 829\n",
      "-----------------------------\n",
      "iteración número: 830\n",
      "-----------------------------\n",
      "iteración número: 831\n",
      "-----------------------------\n",
      "iteración número: 832\n",
      "-----------------------------\n",
      "iteración número: 833\n",
      "-----------------------------\n",
      "iteración número: 834\n",
      "-----------------------------\n",
      "iteración número: 835\n",
      "-----------------------------\n",
      "iteración número: 836\n",
      "-----------------------------\n",
      "iteración número: 837\n",
      "-----------------------------\n",
      "iteración número: 838\n",
      "-----------------------------\n",
      "iteración número: 839\n",
      "-----------------------------\n",
      "iteración número: 840\n",
      "-----------------------------\n",
      "iteración número: 841\n",
      "-----------------------------\n",
      "iteración número: 842\n",
      "-----------------------------\n",
      "iteración número: 843\n",
      "-----------------------------\n",
      "iteración número: 844\n",
      "-----------------------------\n",
      "iteración número: 845\n",
      "-----------------------------\n",
      "iteración número: 846\n",
      "-----------------------------\n",
      "iteración número: 847\n",
      "-----------------------------\n",
      "iteración número: 848\n",
      "-----------------------------\n",
      "iteración número: 849\n",
      "-----------------------------\n",
      "iteración número: 850\n",
      "-----------------------------\n",
      "iteración número: 851\n",
      "-----------------------------\n",
      "iteración número: 852\n",
      "-----------------------------\n",
      "iteración número: 853\n",
      "-----------------------------\n",
      "iteración número: 854\n",
      "-----------------------------\n",
      "iteración número: 855\n",
      "-----------------------------\n",
      "iteración número: 856\n",
      "-----------------------------\n",
      "iteración número: 857\n",
      "-----------------------------\n",
      "iteración número: 858\n",
      "-----------------------------\n",
      "iteración número: 859\n",
      "-----------------------------\n",
      "iteración número: 860\n",
      "-----------------------------\n",
      "iteración número: 861\n",
      "-----------------------------\n",
      "iteración número: 862\n",
      "-----------------------------\n",
      "iteración número: 863\n",
      "-----------------------------\n",
      "iteración número: 864\n",
      "-----------------------------\n",
      "iteración número: 865\n",
      "-----------------------------\n",
      "iteración número: 866\n",
      "-----------------------------\n",
      "iteración número: 867\n",
      "-----------------------------\n",
      "iteración número: 868\n",
      "-----------------------------\n",
      "iteración número: 869\n",
      "-----------------------------\n",
      "iteración número: 870\n",
      "-----------------------------\n",
      "iteración número: 871\n",
      "-----------------------------\n",
      "iteración número: 872\n",
      "-----------------------------\n",
      "iteración número: 873\n",
      "-----------------------------\n",
      "iteración número: 874\n",
      "-----------------------------\n",
      "iteración número: 875\n",
      "-----------------------------\n",
      "iteración número: 876\n",
      "-----------------------------\n",
      "iteración número: 877\n",
      "-----------------------------\n",
      "iteración número: 878\n",
      "-----------------------------\n",
      "iteración número: 879\n",
      "-----------------------------\n",
      "iteración número: 880\n",
      "-----------------------------\n",
      "iteración número: 881\n",
      "-----------------------------\n",
      "iteración número: 882\n",
      "-----------------------------\n",
      "iteración número: 883\n",
      "-----------------------------\n",
      "iteración número: 884\n",
      "-----------------------------\n",
      "iteración número: 885\n",
      "-----------------------------\n",
      "iteración número: 886\n",
      "-----------------------------\n",
      "iteración número: 887\n",
      "-----------------------------\n",
      "iteración número: 888\n",
      "-----------------------------\n",
      "iteración número: 889\n",
      "-----------------------------\n",
      "iteración número: 890\n",
      "-----------------------------\n",
      "iteración número: 891\n",
      "-----------------------------\n",
      "iteración número: 892\n",
      "-----------------------------\n",
      "iteración número: 893\n",
      "-----------------------------\n",
      "iteración número: 894\n",
      "-----------------------------\n",
      "iteración número: 895\n",
      "-----------------------------\n",
      "iteración número: 896\n",
      "-----------------------------\n",
      "iteración número: 897\n",
      "-----------------------------\n",
      "iteración número: 898\n",
      "-----------------------------\n",
      "iteración número: 899\n",
      "-----------------------------\n",
      "iteración número: 900\n",
      "-----------------------------\n",
      "iteración número: 901\n",
      "-----------------------------\n",
      "iteración número: 902\n",
      "-----------------------------\n",
      "iteración número: 903\n",
      "-----------------------------\n",
      "iteración número: 904\n",
      "-----------------------------\n",
      "iteración número: 905\n",
      "-----------------------------\n",
      "iteración número: 906\n",
      "-----------------------------\n",
      "iteración número: 907\n",
      "-----------------------------\n",
      "iteración número: 908\n",
      "-----------------------------\n",
      "iteración número: 909\n",
      "-----------------------------\n",
      "iteración número: 910\n",
      "-----------------------------\n",
      "iteración número: 911\n",
      "-----------------------------\n",
      "iteración número: 912\n",
      "-----------------------------\n",
      "iteración número: 913\n",
      "-----------------------------\n",
      "iteración número: 914\n",
      "-----------------------------\n",
      "iteración número: 915\n",
      "-----------------------------\n",
      "iteración número: 916\n",
      "-----------------------------\n",
      "iteración número: 917\n",
      "-----------------------------\n",
      "iteración número: 918\n",
      "-----------------------------\n",
      "iteración número: 919\n",
      "-----------------------------\n",
      "iteración número: 920\n",
      "-----------------------------\n",
      "iteración número: 921\n",
      "-----------------------------\n",
      "iteración número: 922\n",
      "-----------------------------\n",
      "iteración número: 923\n",
      "-----------------------------\n",
      "iteración número: 924\n",
      "-----------------------------\n",
      "iteración número: 925\n",
      "-----------------------------\n",
      "iteración número: 926\n",
      "-----------------------------\n",
      "iteración número: 927\n",
      "-----------------------------\n",
      "iteración número: 928\n",
      "-----------------------------\n",
      "iteración número: 929\n",
      "-----------------------------\n",
      "iteración número: 930\n",
      "-----------------------------\n",
      "iteración número: 931\n",
      "-----------------------------\n",
      "iteración número: 932\n",
      "-----------------------------\n",
      "iteración número: 933\n",
      "-----------------------------\n",
      "iteración número: 934\n",
      "-----------------------------\n",
      "iteración número: 935\n",
      "-----------------------------\n",
      "iteración número: 936\n",
      "-----------------------------\n",
      "iteración número: 937\n",
      "-----------------------------\n",
      "iteración número: 938\n",
      "-----------------------------\n",
      "iteración número: 939\n",
      "-----------------------------\n",
      "iteración número: 940\n",
      "-----------------------------\n",
      "iteración número: 941\n",
      "-----------------------------\n",
      "iteración número: 942\n",
      "-----------------------------\n",
      "iteración número: 943\n",
      "-----------------------------\n",
      "iteración número: 944\n",
      "-----------------------------\n",
      "iteración número: 945\n",
      "-----------------------------\n",
      "iteración número: 946\n",
      "-----------------------------\n",
      "iteración número: 947\n",
      "-----------------------------\n",
      "iteración número: 948\n",
      "-----------------------------\n",
      "iteración número: 949\n",
      "-----------------------------\n",
      "iteración número: 950\n",
      "-----------------------------\n",
      "iteración número: 951\n",
      "-----------------------------\n",
      "iteración número: 952\n",
      "-----------------------------\n",
      "iteración número: 953\n",
      "-----------------------------\n",
      "iteración número: 954\n",
      "-----------------------------\n",
      "iteración número: 955\n",
      "-----------------------------\n",
      "iteración número: 956\n",
      "-----------------------------\n",
      "iteración número: 957\n",
      "-----------------------------\n",
      "iteración número: 958\n",
      "-----------------------------\n",
      "iteración número: 959\n",
      "-----------------------------\n",
      "iteración número: 960\n",
      "-----------------------------\n",
      "iteración número: 961\n",
      "-----------------------------\n",
      "iteración número: 962\n",
      "-----------------------------\n",
      "iteración número: 963\n",
      "-----------------------------\n",
      "iteración número: 964\n",
      "-----------------------------\n",
      "iteración número: 965\n",
      "-----------------------------\n",
      "iteración número: 966\n",
      "-----------------------------\n",
      "iteración número: 967\n",
      "-----------------------------\n",
      "iteración número: 968\n",
      "-----------------------------\n",
      "iteración número: 969\n",
      "-----------------------------\n",
      "iteración número: 970\n",
      "-----------------------------\n",
      "iteración número: 971\n",
      "-----------------------------\n",
      "iteración número: 972\n",
      "-----------------------------\n",
      "iteración número: 973\n",
      "-----------------------------\n",
      "iteración número: 974\n",
      "-----------------------------\n",
      "iteración número: 975\n",
      "-----------------------------\n",
      "iteración número: 976\n",
      "-----------------------------\n",
      "iteración número: 977\n",
      "-----------------------------\n",
      "iteración número: 978\n",
      "-----------------------------\n",
      "iteración número: 979\n",
      "-----------------------------\n",
      "iteración número: 980\n",
      "-----------------------------\n",
      "iteración número: 981\n",
      "-----------------------------\n",
      "iteración número: 982\n",
      "-----------------------------\n",
      "iteración número: 983\n",
      "-----------------------------\n",
      "iteración número: 984\n",
      "-----------------------------\n",
      "iteración número: 985\n",
      "-----------------------------\n",
      "iteración número: 986\n",
      "-----------------------------\n",
      "iteración número: 987\n",
      "-----------------------------\n",
      "iteración número: 988\n",
      "-----------------------------\n",
      "iteración número: 989\n",
      "-----------------------------\n",
      "iteración número: 990\n",
      "-----------------------------\n",
      "iteración número: 991\n",
      "-----------------------------\n",
      "iteración número: 992\n",
      "-----------------------------\n",
      "iteración número: 993\n",
      "-----------------------------\n",
      "iteración número: 994\n",
      "-----------------------------\n",
      "iteración número: 995\n",
      "-----------------------------\n",
      "iteración número: 996\n"
     ]
    },
    {
     "data": {
      "text/plain": "                                                    0-81-272-895-997-288-737-614-786-657-767-133-435-794-885-179-890-666-873-807-740-328-310-319-380-948-996-561-735-668-971-393-182-869-559-428-455-958-681-620-387-89-119-739-367-632-601-990-158-2-560-577-205-281-396-616-107-143-842-702-784-358-1-210-164-456-299-673-738-134-382-819-691-907-327-395-693-793-130-925-548-884-900-485-216-622-361-888-946-42-935-344-670-963-25-105-933-805-581-685-189-397-674-734-983-13-92-287-565-399-732-825-302-447-633-178-274-934-801-110-956-113-180-301-815-151-152-348-736-694-154-839-939-49-386-540-724-848-363-404-497-437-642-915-564-587-960-77-212-118-775-471-511-543-170-172-994-713-473-892-913-949-106-438-533-410-804-930-973-568-149-893-424-675-858-938-108-761-822-992-297-433-569-414-707-422-845-165-544-292-980-330-563-729-235-466-778-464-250-638-371-672-336-407-928-440-18-23-76-823-859-970-536-592-468-836-475-21-525-676-384-731-538-117-195-901-220-244-887-366-820-83-663-141-710-723-766-41-599-326-627-986-155-296-463-368-711-918-341-512-372-712-157-796-232-241-499-394-181-61-80-878-33-755-356-303-532-762-651-131-999-293-608-800-139-756-458-142-515-576-876-862-959-477-54-243-99-264-750-831-342-555-36-945-665-211-338-972-262-334-860-720-558-942-47-443-494-135-595-67-245-228-967-349-253-645-476-300-725-132-643-662-146-260-185-671-234-537-402-802-66-369-771-188-230-329-409-121-321-526-160-193-227-423-843-462-73-611-984-516-714-753-864-852-541-653-231-378-851-161-16-795-129-359-493-200-882-98-145-780-747-454-824-483-730-954-492-506-97-728-846-550-579-582-208-291-388-542-392-498-478-490-218-785-998-221-546-20-24-251-507-373-451-68-943-432-236-530-529-294-337-43-909-591-524-51-187-350-625-45-623-86-660-838-128-276-857-345-346-459-259-304-513-254-379-647-203-50-911-53-240-629-306-722-897-263-314-377-495-752-74-91-166-517-419-818-3-196-690-27-403-718-937-870-30-37-947-64-594-646-103-252-265-745-879-246-865-659-964-347-441-669-658-323-826-902-932-924-12-460-635-290-706-504-699-886-417-472-837-896-617-35-183-976-390-401-406-664-62-743-968-268-593-549-224-518-744-17-85-982-192-981-944-217-995-271-619-689-434-370-929-19-184-781-621-746-748-353-692-450-457-920-991-727-684-55-385-269-776-519-147-522-609-654-237-59-233-339-351-551-829-144-322-777-214-411-239-573-827-360-630-640-479-6-993-469-880-22-8-39-508-256-465-266-375-439-14-194-215-661-696-652-289-503-480-412-682-704-789-523-552-96-127-225-578-318-683-636-749-835-40-413-436-957-985-277-308-606-7-311-56-810-138-700-400-566-109-238-717-453-953-486-162-335-574-863-10-759-950-111-847-275-534-198-482-177-955-688-719-903-72-936-875-912-931-116-787-273-698-352-415-849-364-28-567-871-908-71-78-320-122-877-168-191-309-791-421-650-634-965-828-974-355-641-9-488-798-190-721-910-590-213-528-261-612-58-514-656-60-123-150-680-697-305-365-906-520-812-975-270-866-899-951-340-556-615-779-84-307-969-605-814-531-602-853-431-695-904-677-171-219-557-797-362-914-201-32-75-502-94-765-312-966-357-381-90-206-816-821-830-115-626-452-202-283-449-426-921-988-248-535-760-772-596-989-125-758-813-583-589-420-176-716-331-505-774-575-637-470-648-15-496-295-489-703-867-941-840-919-204-258-474-120-799-856-598-811-4-31-257-570-709-70-527-136-242-374-26-114-153-405-792-38-87-809-102-868-881-940-952-770-872-52-547-63-467-391-173-977-69-159-398-917-140-167-279-317-889-644-325-603-883-444-554-979-961-773-333-446-11-29-742-57-586-923-332-639-487-186-649-572-588-223-286-343-987-808-855-79-430-610-631-806-894-65-169-833-93-389-927-584-803-112-628-509-733-891-100-313-562-207-282-501-418-905-916-316-850-280-788-687-553-597-667-962-922-5-571-624-708-425-521-104-354-741-445-817-148-209-763-34-175-764-82-604-124-484-790-461-284-726-229-408-782-324-715-427-926  \\\n0-81-272-895-997-288-737-614-786-657-767-133-43...                                       10000.000000                                                                                                                                                                                                                                                                                                                                                                                                                                                                                                                                                                                                                                                                                                                                                                                                                                                                                                                                                                                                                                                                                                                                                                                                                                                                                                                                                                                                                                                                                                                                                                                                                                                                                                                                                                                                                                                                                                                                                                                                                                                                                                                                                                                                                                                                                                                                                                                                                                                                                                                                                                                                                                                                                                                                                                                                                                                                                                                                                                                                                                                                                                                                                                                                                                                                                                                                                                                                                                                                                                                                                                                                                                                                                                                                                \n44                                                                                           0.414547                                                                                                                                                                                                                                                                                                                                                                                                                                                                                                                                                                                                                                                                                                                                                                                                                                                                                                                                                                                                                                                                                                                                                                                                                                                                                                                                                                                                                                                                                                                                                                                                                                                                                                                                                                                                                                                                                                                                                                                                                                                                                                                                                                                                                                                                                                                                                                                                                                                                                                                                                                                                                                                                                                                                                                                                                                                                                                                                                                                                                                                                                                                                                                                                                                                                                                                                                                                                                                                                                                                                                                                                                                                                                                                                                \n46-156-376-701-199-783-539-545-163-298-174-249-...                                           0.437103                                                                                                                                                                                                                                                                                                                                                                                                                                                                                                                                                                                                                                                                                                                                                                                                                                                                                                                                                                                                                                                                                                                                                                                                                                                                                                                                                                                                                                                                                                                                                                                                                                                                                                                                                                                                                                                                                                                                                                                                                                                                                                                                                                                                                                                                                                                                                                                                                                                                                                                                                                                                                                                                                                                                                                                                                                                                                                                                                                                                                                                                                                                                                                                                                                                                                                                                                                                                                                                                                                                                                                                                                                                                                                                                                \n48-101-226-88-383-768-618-705-416-491-600-834-1...                                           0.425074                                                                                                                                                                                                                                                                                                                                                                                                                                                                                                                                                                                                                                                                                                                                                                                                                                                                                                                                                                                                                                                                                                                                                                                                                                                                                                                                                                                                                                                                                                                                                                                                                                                                                                                                                                                                                                                                                                                                                                                                                                                                                                                                                                                                                                                                                                                                                                                                                                                                                                                                                                                                                                                                                                                                                                                                                                                                                                                                                                                                                                                                                                                                                                                                                                                                                                                                                                                                                                                                                                                                                                                                                                                                                                                                                \n\n                                                              44  \\\n0-81-272-895-997-288-737-614-786-657-767-133-43...      0.414547   \n44                                                  10000.000000   \n46-156-376-701-199-783-539-545-163-298-174-249-...      0.585393   \n48-101-226-88-383-768-618-705-416-491-600-834-1...      0.556983   \n\n                                                    46-156-376-701-199-783-539-545-163-298-174-249-874-255-898-580-607-978-197-222-481-500-678-285-448-613-769-510  \\\n0-81-272-895-997-288-737-614-786-657-767-133-43...                                           0.437103                                                                \n44                                                                                           0.585393                                                                \n46-156-376-701-199-783-539-545-163-298-174-249-...                                       10000.000000                                                                \n48-101-226-88-383-768-618-705-416-491-600-834-1...                                           0.493694                                                                \n\n                                                    48-101-226-88-383-768-618-705-416-491-600-834-137-278-429-754-854-247-861-679-686-95-655-315-844-832-126-841-442-757-751-267-585  \n0-81-272-895-997-288-737-614-786-657-767-133-43...                                           0.425074                                                                                 \n44                                                                                           0.556983                                                                                 \n46-156-376-701-199-783-539-545-163-298-174-249-...                                           0.493694                                                                                 \n48-101-226-88-383-768-618-705-416-491-600-834-1...                                       10000.000000                                                                                 ",
      "text/html": "<div>\n<style scoped>\n    .dataframe tbody tr th:only-of-type {\n        vertical-align: middle;\n    }\n\n    .dataframe tbody tr th {\n        vertical-align: top;\n    }\n\n    .dataframe thead th {\n        text-align: right;\n    }\n</style>\n<table border=\"1\" class=\"dataframe\">\n  <thead>\n    <tr style=\"text-align: right;\">\n      <th></th>\n      <th>0-81-272-895-997-288-737-614-786-657-767-133-435-794-885-179-890-666-873-807-740-328-310-319-380-948-996-561-735-668-971-393-182-869-559-428-455-958-681-620-387-89-119-739-367-632-601-990-158-2-560-577-205-281-396-616-107-143-842-702-784-358-1-210-164-456-299-673-738-134-382-819-691-907-327-395-693-793-130-925-548-884-900-485-216-622-361-888-946-42-935-344-670-963-25-105-933-805-581-685-189-397-674-734-983-13-92-287-565-399-732-825-302-447-633-178-274-934-801-110-956-113-180-301-815-151-152-348-736-694-154-839-939-49-386-540-724-848-363-404-497-437-642-915-564-587-960-77-212-118-775-471-511-543-170-172-994-713-473-892-913-949-106-438-533-410-804-930-973-568-149-893-424-675-858-938-108-761-822-992-297-433-569-414-707-422-845-165-544-292-980-330-563-729-235-466-778-464-250-638-371-672-336-407-928-440-18-23-76-823-859-970-536-592-468-836-475-21-525-676-384-731-538-117-195-901-220-244-887-366-820-83-663-141-710-723-766-41-599-326-627-986-155-296-463-368-711-918-341-512-372-712-157-796-232-241-499-394-181-61-80-878-33-755-356-303-532-762-651-131-999-293-608-800-139-756-458-142-515-576-876-862-959-477-54-243-99-264-750-831-342-555-36-945-665-211-338-972-262-334-860-720-558-942-47-443-494-135-595-67-245-228-967-349-253-645-476-300-725-132-643-662-146-260-185-671-234-537-402-802-66-369-771-188-230-329-409-121-321-526-160-193-227-423-843-462-73-611-984-516-714-753-864-852-541-653-231-378-851-161-16-795-129-359-493-200-882-98-145-780-747-454-824-483-730-954-492-506-97-728-846-550-579-582-208-291-388-542-392-498-478-490-218-785-998-221-546-20-24-251-507-373-451-68-943-432-236-530-529-294-337-43-909-591-524-51-187-350-625-45-623-86-660-838-128-276-857-345-346-459-259-304-513-254-379-647-203-50-911-53-240-629-306-722-897-263-314-377-495-752-74-91-166-517-419-818-3-196-690-27-403-718-937-870-30-37-947-64-594-646-103-252-265-745-879-246-865-659-964-347-441-669-658-323-826-902-932-924-12-460-635-290-706-504-699-886-417-472-837-896-617-35-183-976-390-401-406-664-62-743-968-268-593-549-224-518-744-17-85-982-192-981-944-217-995-271-619-689-434-370-929-19-184-781-621-746-748-353-692-450-457-920-991-727-684-55-385-269-776-519-147-522-609-654-237-59-233-339-351-551-829-144-322-777-214-411-239-573-827-360-630-640-479-6-993-469-880-22-8-39-508-256-465-266-375-439-14-194-215-661-696-652-289-503-480-412-682-704-789-523-552-96-127-225-578-318-683-636-749-835-40-413-436-957-985-277-308-606-7-311-56-810-138-700-400-566-109-238-717-453-953-486-162-335-574-863-10-759-950-111-847-275-534-198-482-177-955-688-719-903-72-936-875-912-931-116-787-273-698-352-415-849-364-28-567-871-908-71-78-320-122-877-168-191-309-791-421-650-634-965-828-974-355-641-9-488-798-190-721-910-590-213-528-261-612-58-514-656-60-123-150-680-697-305-365-906-520-812-975-270-866-899-951-340-556-615-779-84-307-969-605-814-531-602-853-431-695-904-677-171-219-557-797-362-914-201-32-75-502-94-765-312-966-357-381-90-206-816-821-830-115-626-452-202-283-449-426-921-988-248-535-760-772-596-989-125-758-813-583-589-420-176-716-331-505-774-575-637-470-648-15-496-295-489-703-867-941-840-919-204-258-474-120-799-856-598-811-4-31-257-570-709-70-527-136-242-374-26-114-153-405-792-38-87-809-102-868-881-940-952-770-872-52-547-63-467-391-173-977-69-159-398-917-140-167-279-317-889-644-325-603-883-444-554-979-961-773-333-446-11-29-742-57-586-923-332-639-487-186-649-572-588-223-286-343-987-808-855-79-430-610-631-806-894-65-169-833-93-389-927-584-803-112-628-509-733-891-100-313-562-207-282-501-418-905-916-316-850-280-788-687-553-597-667-962-922-5-571-624-708-425-521-104-354-741-445-817-148-209-763-34-175-764-82-604-124-484-790-461-284-726-229-408-782-324-715-427-926</th>\n      <th>44</th>\n      <th>46-156-376-701-199-783-539-545-163-298-174-249-874-255-898-580-607-978-197-222-481-500-678-285-448-613-769-510</th>\n      <th>48-101-226-88-383-768-618-705-416-491-600-834-137-278-429-754-854-247-861-679-686-95-655-315-844-832-126-841-442-757-751-267-585</th>\n    </tr>\n  </thead>\n  <tbody>\n    <tr>\n      <th>0-81-272-895-997-288-737-614-786-657-767-133-435-794-885-179-890-666-873-807-740-328-310-319-380-948-996-561-735-668-971-393-182-869-559-428-455-958-681-620-387-89-119-739-367-632-601-990-158-2-560-577-205-281-396-616-107-143-842-702-784-358-1-210-164-456-299-673-738-134-382-819-691-907-327-395-693-793-130-925-548-884-900-485-216-622-361-888-946-42-935-344-670-963-25-105-933-805-581-685-189-397-674-734-983-13-92-287-565-399-732-825-302-447-633-178-274-934-801-110-956-113-180-301-815-151-152-348-736-694-154-839-939-49-386-540-724-848-363-404-497-437-642-915-564-587-960-77-212-118-775-471-511-543-170-172-994-713-473-892-913-949-106-438-533-410-804-930-973-568-149-893-424-675-858-938-108-761-822-992-297-433-569-414-707-422-845-165-544-292-980-330-563-729-235-466-778-464-250-638-371-672-336-407-928-440-18-23-76-823-859-970-536-592-468-836-475-21-525-676-384-731-538-117-195-901-220-244-887-366-820-83-663-141-710-723-766-41-599-326-627-986-155-296-463-368-711-918-341-512-372-712-157-796-232-241-499-394-181-61-80-878-33-755-356-303-532-762-651-131-999-293-608-800-139-756-458-142-515-576-876-862-959-477-54-243-99-264-750-831-342-555-36-945-665-211-338-972-262-334-860-720-558-942-47-443-494-135-595-67-245-228-967-349-253-645-476-300-725-132-643-662-146-260-185-671-234-537-402-802-66-369-771-188-230-329-409-121-321-526-160-193-227-423-843-462-73-611-984-516-714-753-864-852-541-653-231-378-851-161-16-795-129-359-493-200-882-98-145-780-747-454-824-483-730-954-492-506-97-728-846-550-579-582-208-291-388-542-392-498-478-490-218-785-998-221-546-20-24-251-507-373-451-68-943-432-236-530-529-294-337-43-909-591-524-51-187-350-625-45-623-86-660-838-128-276-857-345-346-459-259-304-513-254-379-647-203-50-911-53-240-629-306-722-897-263-314-377-495-752-74-91-166-517-419-818-3-196-690-27-403-718-937-870-30-37-947-64-594-646-103-252-265-745-879-246-865-659-964-347-441-669-658-323-826-902-932-924-12-460-635-290-706-504-699-886-417-472-837-896-617-35-183-976-390-401-406-664-62-743-968-268-593-549-224-518-744-17-85-982-192-981-944-217-995-271-619-689-434-370-929-19-184-781-621-746-748-353-692-450-457-920-991-727-684-55-385-269-776-519-147-522-609-654-237-59-233-339-351-551-829-144-322-777-214-411-239-573-827-360-630-640-479-6-993-469-880-22-8-39-508-256-465-266-375-439-14-194-215-661-696-652-289-503-480-412-682-704-789-523-552-96-127-225-578-318-683-636-749-835-40-413-436-957-985-277-308-606-7-311-56-810-138-700-400-566-109-238-717-453-953-486-162-335-574-863-10-759-950-111-847-275-534-198-482-177-955-688-719-903-72-936-875-912-931-116-787-273-698-352-415-849-364-28-567-871-908-71-78-320-122-877-168-191-309-791-421-650-634-965-828-974-355-641-9-488-798-190-721-910-590-213-528-261-612-58-514-656-60-123-150-680-697-305-365-906-520-812-975-270-866-899-951-340-556-615-779-84-307-969-605-814-531-602-853-431-695-904-677-171-219-557-797-362-914-201-32-75-502-94-765-312-966-357-381-90-206-816-821-830-115-626-452-202-283-449-426-921-988-248-535-760-772-596-989-125-758-813-583-589-420-176-716-331-505-774-575-637-470-648-15-496-295-489-703-867-941-840-919-204-258-474-120-799-856-598-811-4-31-257-570-709-70-527-136-242-374-26-114-153-405-792-38-87-809-102-868-881-940-952-770-872-52-547-63-467-391-173-977-69-159-398-917-140-167-279-317-889-644-325-603-883-444-554-979-961-773-333-446-11-29-742-57-586-923-332-639-487-186-649-572-588-223-286-343-987-808-855-79-430-610-631-806-894-65-169-833-93-389-927-584-803-112-628-509-733-891-100-313-562-207-282-501-418-905-916-316-850-280-788-687-553-597-667-962-922-5-571-624-708-425-521-104-354-741-445-817-148-209-763-34-175-764-82-604-124-484-790-461-284-726-229-408-782-324-715-427-926</th>\n      <td>10000.000000</td>\n      <td>0.414547</td>\n      <td>0.437103</td>\n      <td>0.425074</td>\n    </tr>\n    <tr>\n      <th>44</th>\n      <td>0.414547</td>\n      <td>10000.000000</td>\n      <td>0.585393</td>\n      <td>0.556983</td>\n    </tr>\n    <tr>\n      <th>46-156-376-701-199-783-539-545-163-298-174-249-874-255-898-580-607-978-197-222-481-500-678-285-448-613-769-510</th>\n      <td>0.437103</td>\n      <td>0.585393</td>\n      <td>10000.000000</td>\n      <td>0.493694</td>\n    </tr>\n    <tr>\n      <th>48-101-226-88-383-768-618-705-416-491-600-834-137-278-429-754-854-247-861-679-686-95-655-315-844-832-126-841-442-757-751-267-585</th>\n      <td>0.425074</td>\n      <td>0.556983</td>\n      <td>0.493694</td>\n      <td>10000.000000</td>\n    </tr>\n  </tbody>\n</table>\n</div>"
     },
     "execution_count": 41,
     "metadata": {},
     "output_type": "execute_result"
    }
   ],
   "source": [
    "linkType = 'average'\n",
    "distanceType = 'euclidean'\n",
    "nClusters = 4\n",
    "distance_matrix = hierarchicalClustering(createDistanceMatrix(X, 5, distanceType), linkType, nClusters)\n",
    "distance_matrix"
   ],
   "metadata": {
    "collapsed": false
   }
  },
  {
   "cell_type": "code",
   "execution_count": 42,
   "outputs": [
    {
     "name": "stdout",
     "output_type": "stream",
     "text": [
      "         0             1             2             3             4     \\\n",
      "926  0.000751  8.925471e-21  9.120716e-27  1.267647e-88  7.455561e-39   \n",
      "44   0.000000  0.000000e+00  0.000000e+00  0.000000e+00  0.000000e+00   \n",
      "510  0.000008  0.000000e+00  0.000000e+00  0.000000e+00  0.000000e+00   \n",
      "585  0.000000  1.293401e-07  0.000000e+00  0.000000e+00  0.000000e+00   \n",
      "\n",
      "             5             6             7             8         9     ...  \\\n",
      "926  4.197037e-28  5.689715e-15  3.705325e-28  1.515705e-02  0.003061  ...   \n",
      "44   0.000000e+00  0.000000e+00  0.000000e+00  0.000000e+00  0.000000  ...   \n",
      "510  0.000000e+00  0.000000e+00  0.000000e+00  2.469543e-06  0.000000  ...   \n",
      "585  0.000000e+00  0.000000e+00  0.000000e+00  1.212694e-08  0.000000  ...   \n",
      "\n",
      "         7947           7948      7949          7950           7951  \\\n",
      "926  0.000002  7.338299e-128  0.000000  3.390156e-59  5.633448e-173   \n",
      "44   0.000000   0.000000e+00  0.000000  0.000000e+00   0.000000e+00   \n",
      "510  0.000000   0.000000e+00  0.000000  0.000000e+00   0.000000e+00   \n",
      "585  0.000000   0.000000e+00  0.000009  0.000000e+00   0.000000e+00   \n",
      "\n",
      "              7952           7953          7954          7955           7956  \n",
      "926  1.181224e-129  2.929673e-101  1.122231e-44  5.218159e-11  6.626350e-202  \n",
      "44    0.000000e+00   0.000000e+00  0.000000e+00  0.000000e+00   0.000000e+00  \n",
      "510   0.000000e+00   0.000000e+00  0.000000e+00  0.000000e+00   0.000000e+00  \n",
      "585   0.000000e+00   0.000000e+00  0.000000e+00  0.000000e+00   0.000000e+00  \n",
      "\n",
      "[4 rows x 7957 columns]\n"
     ]
    }
   ],
   "source": [
    "centroids = []\n",
    "for label in distance_matrix.columns:\n",
    "    label = str(label).split('-')\n",
    "    centroid = X.iloc[int(label.pop())]\n",
    "    for i in label:\n",
    "        newInstance = X.iloc[int(i)]\n",
    "        for atr in range(0, len(centroid)):\n",
    "            centroid[atr] = ((centroid[atr] + newInstance[atr])/2)\n",
    "\n",
    "    centroids.append(centroid)\n",
    "\n",
    "centroids = pd.DataFrame(centroids)\n",
    "\n",
    "print(centroids)\n"
   ],
   "metadata": {
    "collapsed": false
   }
  },
  {
   "cell_type": "code",
   "execution_count": 43,
   "outputs": [
    {
     "name": "stdout",
     "output_type": "stream",
     "text": [
      "Palabras relevantes del topico 926: \n",
      "['drive', 'minute', 'line', 'order', 'table', 'said', 'speaker', 'waited', 'wa', 'inside', 'got', 'shut', 'went', 'seated']\n",
      "-----------------------------------------------------------------------------\n",
      "Palabras relevantes del topico 44: \n",
      "['wa', 'buffet', 'cold', 'food', 'end', 'server', 'did', 'chief', 'bellagio', 'bellagio', 'bellagio', 'suppose', 'freshly', 'forgot']\n",
      "-----------------------------------------------------------------------------\n",
      "Palabras relevantes del topico 510: \n",
      "['great', 'wonderful', 'yoli', 'food', 'snack', 'leaf', 'receive', 'neighborhood', 'breakfast', 'nice', 'price', 'finish', 'size', 'center']\n",
      "-----------------------------------------------------------------------------\n",
      "Palabras relevantes del topico 585: \n",
      "['pizza', 'cheesy', 'drool', 'mentor', 'leftover', 'goodness', 'smell', 'soft', 'hand', 'bread', 'delicious', 'order', 'onion', 'manager']\n",
      "-----------------------------------------------------------------------------\n"
     ]
    }
   ],
   "source": [
    "# Visualizacion de los clusters\n",
    "\n",
    "for n in range(0, nClusters):\n",
    "    cluster = centroids.iloc[n].to_list()\n",
    "    clusterSort = np.sort(cluster)\n",
    "    relWords = []\n",
    "    for i in range(1, 15):\n",
    "        value = clusterSort[len(cluster)-i]\n",
    "        relWords.append(bow[cluster.index(value)])\n",
    "\n",
    "    print('Palabras relevantes del topico ' + str(list(centroids.index.values)[n]) + ': ')\n",
    "    print(relWords)\n",
    "    print('-----------------------------------------------------------------------------')\n"
   ],
   "metadata": {
    "collapsed": false
   }
  },
  {
   "cell_type": "code",
   "execution_count": 44,
   "outputs": [],
   "source": [
    "from sklearn.decomposition import PCA\n",
    "pca = PCA(n_components=5)\n",
    "pca.fit(X)\n",
    "# Cambio de base a dos dimensiones PCA\n",
    "X = pca.transform(X)"
   ],
   "metadata": {
    "collapsed": false
   }
  },
  {
   "cell_type": "code",
   "execution_count": 45,
   "outputs": [
    {
     "data": {
      "text/plain": "<Figure size 600x384 with 1 Axes>",
      "image/png": "[encoded data removed]"
     },
     "metadata": {},
     "output_type": "display_data"
    }
   ],
   "source": [
    "from sklearn.cluster import AgglomerativeClustering\n",
    "from sklearn.metrics import silhouette_score\n",
    "\n",
    "# Método silhouette para identificar el número óptimo de clusters\n",
    "# ==============================================================================\n",
    "range_n_clusters = range(2, 15)\n",
    "valores_medios_silhouette = []\n",
    "\n",
    "for n_clusters in range_n_clusters:\n",
    "    modelo = AgglomerativeClustering(\n",
    "                    affinity   = 'euclidean',\n",
    "                    linkage    = 'ward',\n",
    "                    n_clusters = n_clusters\n",
    "             )\n",
    "\n",
    "    cluster_labels = modelo.fit_predict(X)\n",
    "    silhouette_avg = silhouette_score(X, cluster_labels)\n",
    "    valores_medios_silhouette.append(silhouette_avg)\n",
    "\n",
    "fig, ax = plt.subplots(1, 1, figsize=(6, 3.84))\n",
    "ax.plot(range_n_clusters, valores_medios_silhouette, marker='o')\n",
    "ax.set_title(\"Evolución de media de los índices silhouette\")\n",
    "ax.set_xlabel('Número clusters')\n",
    "ax.set_ylabel('Media índices silhouette');"
   ],
   "metadata": {
    "collapsed": false
   }
  },
  {
   "cell_type": "code",
   "execution_count": 46,
   "outputs": [
    {
     "data": {
      "application/vnd.plotly.v1+json": {
       "data": [
        {
         "hoverinfo": "text",
         "marker": {
          "color": "rgb(61,153,112)"
         },
         "mode": "lines",
         "x": [
          15.0,
          15.0,
          25.0,
          25.0
         ],
         "xaxis": "x",
         "y": [
          0.0,
          0.07672417625887493,
          0.07672417625887493,
          0.0
         ],
         "yaxis": "y",
         "type": "scatter"
        },
        {
         "hoverinfo": "text",
         "marker": {
          "color": "rgb(61,153,112)"
         },
         "mode": "lines",
         "x": [
          5.0,
          5.0,
          20.0,
          20.0
         ],
         "xaxis": "x",
         "y": [
          0.0,
          0.11992691869606338,
          0.11992691869606338,
          0.07672417625887493
         ],
         "yaxis": "y",
         "type": "scatter"
        },
        {
         "hoverinfo": "text",
         "marker": {
          "color": "rgb(61,153,112)"
         },
         "mode": "lines",
         "x": [
          35.0,
          35.0,
          45.0,
          45.0
         ],
         "xaxis": "x",
         "y": [
          0.0,
          0.13598032516307357,
          0.13598032516307357,
          0.0
         ],
         "yaxis": "y",
         "type": "scatter"
        },
        {
         "hoverinfo": "text",
         "marker": {
          "color": "rgb(61,153,112)"
         },
         "mode": "lines",
         "x": [
          12.5,
          12.5,
          40.0,
          40.0
         ],
         "xaxis": "x",
         "y": [
          0.11992691869606338,
          0.1786003950354516,
          0.1786003950354516,
          0.13598032516307357
         ],
         "yaxis": "y",
         "type": "scatter"
        },
        {
         "hoverinfo": "text",
         "marker": {
          "color": "rgb(61,153,112)"
         },
         "mode": "lines",
         "x": [
          65.0,
          65.0,
          75.0,
          75.0
         ],
         "xaxis": "x",
         "y": [
          0.0,
          0.09326940249184486,
          0.09326940249184486,
          0.0
         ],
         "yaxis": "y",
         "type": "scatter"
        },
        {
         "hoverinfo": "text",
         "marker": {
          "color": "rgb(61,153,112)"
         },
         "mode": "lines",
         "x": [
          105.0,
          105.0,
          115.0,
          115.0
         ],
         "xaxis": "x",
         "y": [
          0.0,
          0.053859227508787993,
          0.053859227508787993,
          0.0
         ],
         "yaxis": "y",
         "type": "scatter"
        },
        {
         "hoverinfo": "text",
         "marker": {
          "color": "rgb(61,153,112)"
         },
         "mode": "lines",
         "x": [
          95.0,
          95.0,
          110.0,
          110.0
         ],
         "xaxis": "x",
         "y": [
          0.0,
          0.07583240485937998,
          0.07583240485937998,
          0.053859227508787993
         ],
         "yaxis": "y",
         "type": "scatter"
        },
        {
         "hoverinfo": "text",
         "marker": {
          "color": "rgb(61,153,112)"
         },
         "mode": "lines",
         "x": [
          85.0,
          85.0,
          102.5,
          102.5
         ],
         "xaxis": "x",
         "y": [
          0.0,
          0.12596201374895313,
          0.12596201374895313,
          0.07583240485937998
         ],
         "yaxis": "y",
         "type": "scatter"
        },
        {
         "hoverinfo": "text",
         "marker": {
          "color": "rgb(61,153,112)"
         },
         "mode": "lines",
         "x": [
          70.0,
          70.0,
          93.75,
          93.75
         ],
         "xaxis": "x",
         "y": [
          0.09326940249184486,
          0.17396412286160973,
          0.17396412286160973,
          0.12596201374895313
         ],
         "yaxis": "y",
         "type": "scatter"
        },
        {
         "hoverinfo": "text",
         "marker": {
          "color": "rgb(61,153,112)"
         },
         "mode": "lines",
         "x": [
          55.0,
          55.0,
          81.875,
          81.875
         ],
         "xaxis": "x",
         "y": [
          0.0,
          0.19275460753617038,
          0.19275460753617038,
          0.17396412286160973
         ],
         "yaxis": "y",
         "type": "scatter"
        },
        {
         "hoverinfo": "text",
         "marker": {
          "color": "rgb(61,153,112)"
         },
         "mode": "lines",
         "x": [
          26.25,
          26.25,
          68.4375,
          68.4375
         ],
         "xaxis": "x",
         "y": [
          0.1786003950354516,
          0.29542185439691643,
          0.29542185439691643,
          0.19275460753617038
         ],
         "yaxis": "y",
         "type": "scatter"
        },
        {
         "hoverinfo": "text",
         "marker": {
          "color": "rgb(255,65,54)"
         },
         "mode": "lines",
         "x": [
          155.0,
          155.0,
          165.0,
          165.0
         ],
         "xaxis": "x",
         "y": [
          0.0,
          0.0433276819310413,
          0.0433276819310413,
          0.0
         ],
         "yaxis": "y",
         "type": "scatter"
        },
        {
         "hoverinfo": "text",
         "marker": {
          "color": "rgb(255,65,54)"
         },
         "mode": "lines",
         "x": [
          145.0,
          145.0,
          160.0,
          160.0
         ],
         "xaxis": "x",
         "y": [
          0.0,
          0.11163858370556974,
          0.11163858370556974,
          0.0433276819310413
         ],
         "yaxis": "y",
         "type": "scatter"
        },
        {
         "hoverinfo": "text",
         "marker": {
          "color": "rgb(255,65,54)"
         },
         "mode": "lines",
         "x": [
          135.0,
          135.0,
          152.5,
          152.5
         ],
         "xaxis": "x",
         "y": [
          0.0,
          0.1474131325320998,
          0.1474131325320998,
          0.11163858370556974
         ],
         "yaxis": "y",
         "type": "scatter"
        },
        {
         "hoverinfo": "text",
         "marker": {
          "color": "rgb(255,65,54)"
         },
         "mode": "lines",
         "x": [
          125.0,
          125.0,
          143.75,
          143.75
         ],
         "xaxis": "x",
         "y": [
          0.0,
          0.15964272937943716,
          0.15964272937943716,
          0.1474131325320998
         ],
         "yaxis": "y",
         "type": "scatter"
        },
        {
         "hoverinfo": "text",
         "marker": {
          "color": "rgb(255,65,54)"
         },
         "mode": "lines",
         "x": [
          195.0,
          195.0,
          205.0,
          205.0
         ],
         "xaxis": "x",
         "y": [
          0.0,
          0.08560035423940217,
          0.08560035423940217,
          0.0
         ],
         "yaxis": "y",
         "type": "scatter"
        },
        {
         "hoverinfo": "text",
         "marker": {
          "color": "rgb(255,65,54)"
         },
         "mode": "lines",
         "x": [
          185.0,
          185.0,
          200.0,
          200.0
         ],
         "xaxis": "x",
         "y": [
          0.0,
          0.15132287430908992,
          0.15132287430908992,
          0.08560035423940217
         ],
         "yaxis": "y",
         "type": "scatter"
        },
        {
         "hoverinfo": "text",
         "marker": {
          "color": "rgb(255,65,54)"
         },
         "mode": "lines",
         "x": [
          175.0,
          175.0,
          192.5,
          192.5
         ],
         "xaxis": "x",
         "y": [
          0.0,
          0.19756607732016612,
          0.19756607732016612,
          0.15132287430908992
         ],
         "yaxis": "y",
         "type": "scatter"
        },
        {
         "hoverinfo": "text",
         "marker": {
          "color": "rgb(255,65,54)"
         },
         "mode": "lines",
         "x": [
          134.375,
          134.375,
          183.75,
          183.75
         ],
         "xaxis": "x",
         "y": [
          0.15964272937943716,
          0.33872411775734945,
          0.33872411775734945,
          0.19756607732016612
         ],
         "yaxis": "y",
         "type": "scatter"
        },
        {
         "hoverinfo": "text",
         "marker": {
          "color": "rgb(35,205,205)"
         },
         "mode": "lines",
         "x": [
          235.0,
          235.0,
          245.0,
          245.0
         ],
         "xaxis": "x",
         "y": [
          0.0,
          0.01638756250174031,
          0.01638756250174031,
          0.0
         ],
         "yaxis": "y",
         "type": "scatter"
        },
        {
         "hoverinfo": "text",
         "marker": {
          "color": "rgb(35,205,205)"
         },
         "mode": "lines",
         "x": [
          225.0,
          225.0,
          240.0,
          240.0
         ],
         "xaxis": "x",
         "y": [
          0.0,
          0.05219467130006164,
          0.05219467130006164,
          0.01638756250174031
         ],
         "yaxis": "y",
         "type": "scatter"
        },
        {
         "hoverinfo": "text",
         "marker": {
          "color": "rgb(35,205,205)"
         },
         "mode": "lines",
         "x": [
          215.0,
          215.0,
          232.5,
          232.5
         ],
         "xaxis": "x",
         "y": [
          0.0,
          0.10356424692881659,
          0.10356424692881659,
          0.05219467130006164
         ],
         "yaxis": "y",
         "type": "scatter"
        },
        {
         "hoverinfo": "text",
         "marker": {
          "color": "rgb(35,205,205)"
         },
         "mode": "lines",
         "x": [
          255.0,
          255.0,
          265.0,
          265.0
         ],
         "xaxis": "x",
         "y": [
          0.0,
          0.04010808110937198,
          0.04010808110937198,
          0.0
         ],
         "yaxis": "y",
         "type": "scatter"
        },
        {
         "hoverinfo": "text",
         "marker": {
          "color": "rgb(35,205,205)"
         },
         "mode": "lines",
         "x": [
          295.0,
          295.0,
          305.0,
          305.0
         ],
         "xaxis": "x",
         "y": [
          0.0,
          0.03445767827812844,
          0.03445767827812844,
          0.0
         ],
         "yaxis": "y",
         "type": "scatter"
        },
        {
         "hoverinfo": "text",
         "marker": {
          "color": "rgb(35,205,205)"
         },
         "mode": "lines",
         "x": [
          285.0,
          285.0,
          300.0,
          300.0
         ],
         "xaxis": "x",
         "y": [
          0.0,
          0.04435245946654982,
          0.04435245946654982,
          0.03445767827812844
         ],
         "yaxis": "y",
         "type": "scatter"
        },
        {
         "hoverinfo": "text",
         "marker": {
          "color": "rgb(35,205,205)"
         },
         "mode": "lines",
         "x": [
          275.0,
          275.0,
          292.5,
          292.5
         ],
         "xaxis": "x",
         "y": [
          0.0,
          0.051379049239629264,
          0.051379049239629264,
          0.04435245946654982
         ],
         "yaxis": "y",
         "type": "scatter"
        },
        {
         "hoverinfo": "text",
         "marker": {
          "color": "rgb(35,205,205)"
         },
         "mode": "lines",
         "x": [
          260.0,
          260.0,
          283.75,
          283.75
         ],
         "xaxis": "x",
         "y": [
          0.04010808110937198,
          0.05928626789246661,
          0.05928626789246661,
          0.051379049239629264
         ],
         "yaxis": "y",
         "type": "scatter"
        },
        {
         "hoverinfo": "text",
         "marker": {
          "color": "rgb(35,205,205)"
         },
         "mode": "lines",
         "x": [
          315.0,
          315.0,
          325.0,
          325.0
         ],
         "xaxis": "x",
         "y": [
          0.0,
          0.02305349632809474,
          0.02305349632809474,
          0.0
         ],
         "yaxis": "y",
         "type": "scatter"
        },
        {
         "hoverinfo": "text",
         "marker": {
          "color": "rgb(35,205,205)"
         },
         "mode": "lines",
         "x": [
          335.0,
          335.0,
          345.0,
          345.0
         ],
         "xaxis": "x",
         "y": [
          0.0,
          0.030997925941316926,
          0.030997925941316926,
          0.0
         ],
         "yaxis": "y",
         "type": "scatter"
        },
        {
         "hoverinfo": "text",
         "marker": {
          "color": "rgb(35,205,205)"
         },
         "mode": "lines",
         "x": [
          320.0,
          320.0,
          340.0,
          340.0
         ],
         "xaxis": "x",
         "y": [
          0.02305349632809474,
          0.04430791953636304,
          0.04430791953636304,
          0.030997925941316926
         ],
         "yaxis": "y",
         "type": "scatter"
        },
        {
         "hoverinfo": "text",
         "marker": {
          "color": "rgb(35,205,205)"
         },
         "mode": "lines",
         "x": [
          355.0,
          355.0,
          365.0,
          365.0
         ],
         "xaxis": "x",
         "y": [
          0.0,
          0.07957262308625651,
          0.07957262308625651,
          0.0
         ],
         "yaxis": "y",
         "type": "scatter"
        },
        {
         "hoverinfo": "text",
         "marker": {
          "color": "rgb(35,205,205)"
         },
         "mode": "lines",
         "x": [
          330.0,
          330.0,
          360.0,
          360.0
         ],
         "xaxis": "x",
         "y": [
          0.04430791953636304,
          0.09464835597827866,
          0.09464835597827866,
          0.07957262308625651
         ],
         "yaxis": "y",
         "type": "scatter"
        },
        {
         "hoverinfo": "text",
         "marker": {
          "color": "rgb(35,205,205)"
         },
         "mode": "lines",
         "x": [
          271.875,
          271.875,
          345.0,
          345.0
         ],
         "xaxis": "x",
         "y": [
          0.05928626789246661,
          0.11849814743490755,
          0.11849814743490755,
          0.09464835597827866
         ],
         "yaxis": "y",
         "type": "scatter"
        },
        {
         "hoverinfo": "text",
         "marker": {
          "color": "rgb(35,205,205)"
         },
         "mode": "lines",
         "x": [
          375.0,
          375.0,
          385.0,
          385.0
         ],
         "xaxis": "x",
         "y": [
          0.0,
          0.06449216970352757,
          0.06449216970352757,
          0.0
         ],
         "yaxis": "y",
         "type": "scatter"
        },
        {
         "hoverinfo": "text",
         "marker": {
          "color": "rgb(35,205,205)"
         },
         "mode": "lines",
         "x": [
          405.0,
          405.0,
          415.0,
          415.0
         ],
         "xaxis": "x",
         "y": [
          0.0,
          0.04838475323064951,
          0.04838475323064951,
          0.0
         ],
         "yaxis": "y",
         "type": "scatter"
        },
        {
         "hoverinfo": "text",
         "marker": {
          "color": "rgb(35,205,205)"
         },
         "mode": "lines",
         "x": [
          395.0,
          395.0,
          410.0,
          410.0
         ],
         "xaxis": "x",
         "y": [
          0.0,
          0.07461950989948471,
          0.07461950989948471,
          0.04838475323064951
         ],
         "yaxis": "y",
         "type": "scatter"
        },
        {
         "hoverinfo": "text",
         "marker": {
          "color": "rgb(35,205,205)"
         },
         "mode": "lines",
         "x": [
          380.0,
          380.0,
          402.5,
          402.5
         ],
         "xaxis": "x",
         "y": [
          0.06449216970352757,
          0.12547425684680652,
          0.12547425684680652,
          0.07461950989948471
         ],
         "yaxis": "y",
         "type": "scatter"
        },
        {
         "hoverinfo": "text",
         "marker": {
          "color": "rgb(35,205,205)"
         },
         "mode": "lines",
         "x": [
          308.4375,
          308.4375,
          391.25,
          391.25
         ],
         "xaxis": "x",
         "y": [
          0.11849814743490755,
          0.15280023625476455,
          0.15280023625476455,
          0.12547425684680652
         ],
         "yaxis": "y",
         "type": "scatter"
        },
        {
         "hoverinfo": "text",
         "marker": {
          "color": "rgb(35,205,205)"
         },
         "mode": "lines",
         "x": [
          435.0,
          435.0,
          445.0,
          445.0
         ],
         "xaxis": "x",
         "y": [
          0.0,
          0.10974102561424268,
          0.10974102561424268,
          0.0
         ],
         "yaxis": "y",
         "type": "scatter"
        },
        {
         "hoverinfo": "text",
         "marker": {
          "color": "rgb(35,205,205)"
         },
         "mode": "lines",
         "x": [
          425.0,
          425.0,
          440.0,
          440.0
         ],
         "xaxis": "x",
         "y": [
          0.0,
          0.20204069132681898,
          0.20204069132681898,
          0.10974102561424268
         ],
         "yaxis": "y",
         "type": "scatter"
        },
        {
         "hoverinfo": "text",
         "marker": {
          "color": "rgb(35,205,205)"
         },
         "mode": "lines",
         "x": [
          455.0,
          455.0,
          465.0,
          465.0
         ],
         "xaxis": "x",
         "y": [
          0.0,
          0.07981646600052826,
          0.07981646600052826,
          0.0
         ],
         "yaxis": "y",
         "type": "scatter"
        },
        {
         "hoverinfo": "text",
         "marker": {
          "color": "rgb(35,205,205)"
         },
         "mode": "lines",
         "x": [
          475.0,
          475.0,
          485.0,
          485.0
         ],
         "xaxis": "x",
         "y": [
          0.0,
          0.0884118758225893,
          0.0884118758225893,
          0.0
         ],
         "yaxis": "y",
         "type": "scatter"
        },
        {
         "hoverinfo": "text",
         "marker": {
          "color": "rgb(35,205,205)"
         },
         "mode": "lines",
         "x": [
          525.0,
          525.0,
          535.0,
          535.0
         ],
         "xaxis": "x",
         "y": [
          0.0,
          0.02834207931892073,
          0.02834207931892073,
          0.0
         ],
         "yaxis": "y",
         "type": "scatter"
        },
        {
         "hoverinfo": "text",
         "marker": {
          "color": "rgb(35,205,205)"
         },
         "mode": "lines",
         "x": [
          515.0,
          515.0,
          530.0,
          530.0
         ],
         "xaxis": "x",
         "y": [
          0.0,
          0.04094234950249601,
          0.04094234950249601,
          0.02834207931892073
         ],
         "yaxis": "y",
         "type": "scatter"
        },
        {
         "hoverinfo": "text",
         "marker": {
          "color": "rgb(35,205,205)"
         },
         "mode": "lines",
         "x": [
          505.0,
          505.0,
          522.5,
          522.5
         ],
         "xaxis": "x",
         "y": [
          0.0,
          0.059357994985597906,
          0.059357994985597906,
          0.04094234950249601
         ],
         "yaxis": "y",
         "type": "scatter"
        },
        {
         "hoverinfo": "text",
         "marker": {
          "color": "rgb(35,205,205)"
         },
         "mode": "lines",
         "x": [
          495.0,
          495.0,
          513.75,
          513.75
         ],
         "xaxis": "x",
         "y": [
          0.0,
          0.09263162061857705,
          0.09263162061857705,
          0.059357994985597906
         ],
         "yaxis": "y",
         "type": "scatter"
        },
        {
         "hoverinfo": "text",
         "marker": {
          "color": "rgb(35,205,205)"
         },
         "mode": "lines",
         "x": [
          480.0,
          480.0,
          504.375,
          504.375
         ],
         "xaxis": "x",
         "y": [
          0.0884118758225893,
          0.14008835594740449,
          0.14008835594740449,
          0.09263162061857705
         ],
         "yaxis": "y",
         "type": "scatter"
        },
        {
         "hoverinfo": "text",
         "marker": {
          "color": "rgb(35,205,205)"
         },
         "mode": "lines",
         "x": [
          460.0,
          460.0,
          492.1875,
          492.1875
         ],
         "xaxis": "x",
         "y": [
          0.07981646600052826,
          0.15873789918544678,
          0.15873789918544678,
          0.14008835594740449
         ],
         "yaxis": "y",
         "type": "scatter"
        },
        {
         "hoverinfo": "text",
         "marker": {
          "color": "rgb(35,205,205)"
         },
         "mode": "lines",
         "x": [
          555.0,
          555.0,
          565.0,
          565.0
         ],
         "xaxis": "x",
         "y": [
          0.0,
          0.04407799869745014,
          0.04407799869745014,
          0.0
         ],
         "yaxis": "y",
         "type": "scatter"
        },
        {
         "hoverinfo": "text",
         "marker": {
          "color": "rgb(35,205,205)"
         },
         "mode": "lines",
         "x": [
          545.0,
          545.0,
          560.0,
          560.0
         ],
         "xaxis": "x",
         "y": [
          0.0,
          0.06107681185117954,
          0.06107681185117954,
          0.04407799869745014
         ],
         "yaxis": "y",
         "type": "scatter"
        },
        {
         "hoverinfo": "text",
         "marker": {
          "color": "rgb(35,205,205)"
         },
         "mode": "lines",
         "x": [
          575.0,
          575.0,
          585.0,
          585.0
         ],
         "xaxis": "x",
         "y": [
          0.0,
          0.06788955602339669,
          0.06788955602339669,
          0.0
         ],
         "yaxis": "y",
         "type": "scatter"
        },
        {
         "hoverinfo": "text",
         "marker": {
          "color": "rgb(35,205,205)"
         },
         "mode": "lines",
         "x": [
          552.5,
          552.5,
          580.0,
          580.0
         ],
         "xaxis": "x",
         "y": [
          0.06107681185117954,
          0.09611600230344022,
          0.09611600230344022,
          0.06788955602339669
         ],
         "yaxis": "y",
         "type": "scatter"
        },
        {
         "hoverinfo": "text",
         "marker": {
          "color": "rgb(35,205,205)"
         },
         "mode": "lines",
         "x": [
          595.0,
          595.0,
          605.0,
          605.0
         ],
         "xaxis": "x",
         "y": [
          0.0,
          0.06350275030490027,
          0.06350275030490027,
          0.0
         ],
         "yaxis": "y",
         "type": "scatter"
        },
        {
         "hoverinfo": "text",
         "marker": {
          "color": "rgb(35,205,205)"
         },
         "mode": "lines",
         "x": [
          635.0,
          635.0,
          645.0,
          645.0
         ],
         "xaxis": "x",
         "y": [
          0.0,
          0.03288421732473454,
          0.03288421732473454,
          0.0
         ],
         "yaxis": "y",
         "type": "scatter"
        },
        {
         "hoverinfo": "text",
         "marker": {
          "color": "rgb(35,205,205)"
         },
         "mode": "lines",
         "x": [
          625.0,
          625.0,
          640.0,
          640.0
         ],
         "xaxis": "x",
         "y": [
          0.0,
          0.039428695462444346,
          0.039428695462444346,
          0.03288421732473454
         ],
         "yaxis": "y",
         "type": "scatter"
        },
        {
         "hoverinfo": "text",
         "marker": {
          "color": "rgb(35,205,205)"
         },
         "mode": "lines",
         "x": [
          615.0,
          615.0,
          632.5,
          632.5
         ],
         "xaxis": "x",
         "y": [
          0.0,
          0.05582493935535799,
          0.05582493935535799,
          0.039428695462444346
         ],
         "yaxis": "y",
         "type": "scatter"
        },
        {
         "hoverinfo": "text",
         "marker": {
          "color": "rgb(35,205,205)"
         },
         "mode": "lines",
         "x": [
          665.0,
          665.0,
          675.0,
          675.0
         ],
         "xaxis": "x",
         "y": [
          0.0,
          0.048380747717166606,
          0.048380747717166606,
          0.0
         ],
         "yaxis": "y",
         "type": "scatter"
        },
        {
         "hoverinfo": "text",
         "marker": {
          "color": "rgb(35,205,205)"
         },
         "mode": "lines",
         "x": [
          655.0,
          655.0,
          670.0,
          670.0
         ],
         "xaxis": "x",
         "y": [
          0.0,
          0.0644519413353425,
          0.0644519413353425,
          0.048380747717166606
         ],
         "yaxis": "y",
         "type": "scatter"
        },
        {
         "hoverinfo": "text",
         "marker": {
          "color": "rgb(35,205,205)"
         },
         "mode": "lines",
         "x": [
          623.75,
          623.75,
          662.5,
          662.5
         ],
         "xaxis": "x",
         "y": [
          0.05582493935535799,
          0.08585066933139347,
          0.08585066933139347,
          0.0644519413353425
         ],
         "yaxis": "y",
         "type": "scatter"
        },
        {
         "hoverinfo": "text",
         "marker": {
          "color": "rgb(35,205,205)"
         },
         "mode": "lines",
         "x": [
          600.0,
          600.0,
          643.125,
          643.125
         ],
         "xaxis": "x",
         "y": [
          0.06350275030490027,
          0.11750277449527362,
          0.11750277449527362,
          0.08585066933139347
         ],
         "yaxis": "y",
         "type": "scatter"
        },
        {
         "hoverinfo": "text",
         "marker": {
          "color": "rgb(35,205,205)"
         },
         "mode": "lines",
         "x": [
          566.25,
          566.25,
          621.5625,
          621.5625
         ],
         "xaxis": "x",
         "y": [
          0.09611600230344022,
          0.1423164291896911,
          0.1423164291896911,
          0.11750277449527362
         ],
         "yaxis": "y",
         "type": "scatter"
        },
        {
         "hoverinfo": "text",
         "marker": {
          "color": "rgb(35,205,205)"
         },
         "mode": "lines",
         "x": [
          695.0,
          695.0,
          705.0,
          705.0
         ],
         "xaxis": "x",
         "y": [
          0.0,
          0.05896540861833708,
          0.05896540861833708,
          0.0
         ],
         "yaxis": "y",
         "type": "scatter"
        },
        {
         "hoverinfo": "text",
         "marker": {
          "color": "rgb(35,205,205)"
         },
         "mode": "lines",
         "x": [
          685.0,
          685.0,
          700.0,
          700.0
         ],
         "xaxis": "x",
         "y": [
          0.0,
          0.11970302417077774,
          0.11970302417077774,
          0.05896540861833708
         ],
         "yaxis": "y",
         "type": "scatter"
        },
        {
         "hoverinfo": "text",
         "marker": {
          "color": "rgb(35,205,205)"
         },
         "mode": "lines",
         "x": [
          715.0,
          715.0,
          725.0,
          725.0
         ],
         "xaxis": "x",
         "y": [
          0.0,
          0.025114788883012027,
          0.025114788883012027,
          0.0
         ],
         "yaxis": "y",
         "type": "scatter"
        },
        {
         "hoverinfo": "text",
         "marker": {
          "color": "rgb(35,205,205)"
         },
         "mode": "lines",
         "x": [
          735.0,
          735.0,
          745.0,
          745.0
         ],
         "xaxis": "x",
         "y": [
          0.0,
          0.03136593061222077,
          0.03136593061222077,
          0.0
         ],
         "yaxis": "y",
         "type": "scatter"
        },
        {
         "hoverinfo": "text",
         "marker": {
          "color": "rgb(35,205,205)"
         },
         "mode": "lines",
         "x": [
          720.0,
          720.0,
          740.0,
          740.0
         ],
         "xaxis": "x",
         "y": [
          0.025114788883012027,
          0.054925401478761675,
          0.054925401478761675,
          0.03136593061222077
         ],
         "yaxis": "y",
         "type": "scatter"
        },
        {
         "hoverinfo": "text",
         "marker": {
          "color": "rgb(35,205,205)"
         },
         "mode": "lines",
         "x": [
          765.0,
          765.0,
          775.0,
          775.0
         ],
         "xaxis": "x",
         "y": [
          0.0,
          0.046105841578734416,
          0.046105841578734416,
          0.0
         ],
         "yaxis": "y",
         "type": "scatter"
        },
        {
         "hoverinfo": "text",
         "marker": {
          "color": "rgb(35,205,205)"
         },
         "mode": "lines",
         "x": [
          755.0,
          755.0,
          770.0,
          770.0
         ],
         "xaxis": "x",
         "y": [
          0.0,
          0.06951693995040802,
          0.06951693995040802,
          0.046105841578734416
         ],
         "yaxis": "y",
         "type": "scatter"
        },
        {
         "hoverinfo": "text",
         "marker": {
          "color": "rgb(35,205,205)"
         },
         "mode": "lines",
         "x": [
          730.0,
          730.0,
          762.5,
          762.5
         ],
         "xaxis": "x",
         "y": [
          0.054925401478761675,
          0.09002267815812193,
          0.09002267815812193,
          0.06951693995040802
         ],
         "yaxis": "y",
         "type": "scatter"
        },
        {
         "hoverinfo": "text",
         "marker": {
          "color": "rgb(35,205,205)"
         },
         "mode": "lines",
         "x": [
          785.0,
          785.0,
          795.0,
          795.0
         ],
         "xaxis": "x",
         "y": [
          0.0,
          0.05089705773165364,
          0.05089705773165364,
          0.0
         ],
         "yaxis": "y",
         "type": "scatter"
        },
        {
         "hoverinfo": "text",
         "marker": {
          "color": "rgb(35,205,205)"
         },
         "mode": "lines",
         "x": [
          815.0,
          815.0,
          825.0,
          825.0
         ],
         "xaxis": "x",
         "y": [
          0.0,
          0.05688270799581541,
          0.05688270799581541,
          0.0
         ],
         "yaxis": "y",
         "type": "scatter"
        },
        {
         "hoverinfo": "text",
         "marker": {
          "color": "rgb(35,205,205)"
         },
         "mode": "lines",
         "x": [
          805.0,
          805.0,
          820.0,
          820.0
         ],
         "xaxis": "x",
         "y": [
          0.0,
          0.08466663059098051,
          0.08466663059098051,
          0.05688270799581541
         ],
         "yaxis": "y",
         "type": "scatter"
        },
        {
         "hoverinfo": "text",
         "marker": {
          "color": "rgb(35,205,205)"
         },
         "mode": "lines",
         "x": [
          790.0,
          790.0,
          812.5,
          812.5
         ],
         "xaxis": "x",
         "y": [
          0.05089705773165364,
          0.0929846246709228,
          0.0929846246709228,
          0.08466663059098051
         ],
         "yaxis": "y",
         "type": "scatter"
        },
        {
         "hoverinfo": "text",
         "marker": {
          "color": "rgb(35,205,205)"
         },
         "mode": "lines",
         "x": [
          746.25,
          746.25,
          801.25,
          801.25
         ],
         "xaxis": "x",
         "y": [
          0.09002267815812193,
          0.12501655010912532,
          0.12501655010912532,
          0.0929846246709228
         ],
         "yaxis": "y",
         "type": "scatter"
        },
        {
         "hoverinfo": "text",
         "marker": {
          "color": "rgb(35,205,205)"
         },
         "mode": "lines",
         "x": [
          692.5,
          692.5,
          773.75,
          773.75
         ],
         "xaxis": "x",
         "y": [
          0.11970302417077774,
          0.16329097853905603,
          0.16329097853905603,
          0.12501655010912532
         ],
         "yaxis": "y",
         "type": "scatter"
        },
        {
         "hoverinfo": "text",
         "marker": {
          "color": "rgb(35,205,205)"
         },
         "mode": "lines",
         "x": [
          593.90625,
          593.90625,
          733.125,
          733.125
         ],
         "xaxis": "x",
         "y": [
          0.1423164291896911,
          0.21181481112261819,
          0.21181481112261819,
          0.16329097853905603
         ],
         "yaxis": "y",
         "type": "scatter"
        },
        {
         "hoverinfo": "text",
         "marker": {
          "color": "rgb(35,205,205)"
         },
         "mode": "lines",
         "x": [
          476.09375,
          476.09375,
          663.515625,
          663.515625
         ],
         "xaxis": "x",
         "y": [
          0.15873789918544678,
          0.2393226382049589,
          0.2393226382049589,
          0.21181481112261819
         ],
         "yaxis": "y",
         "type": "scatter"
        },
        {
         "hoverinfo": "text",
         "marker": {
          "color": "rgb(35,205,205)"
         },
         "mode": "lines",
         "x": [
          432.5,
          432.5,
          569.8046875,
          569.8046875
         ],
         "xaxis": "x",
         "y": [
          0.20204069132681898,
          0.2954073023456671,
          0.2954073023456671,
          0.2393226382049589
         ],
         "yaxis": "y",
         "type": "scatter"
        },
        {
         "hoverinfo": "text",
         "marker": {
          "color": "rgb(35,205,205)"
         },
         "mode": "lines",
         "x": [
          349.84375,
          349.84375,
          501.15234375,
          501.15234375
         ],
         "xaxis": "x",
         "y": [
          0.15280023625476455,
          0.30767037944128073,
          0.30767037944128073,
          0.2954073023456671
         ],
         "yaxis": "y",
         "type": "scatter"
        },
        {
         "hoverinfo": "text",
         "marker": {
          "color": "rgb(35,205,205)"
         },
         "mode": "lines",
         "x": [
          223.75,
          223.75,
          425.498046875,
          425.498046875
         ],
         "xaxis": "x",
         "y": [
          0.10356424692881659,
          0.36682261545040745,
          0.36682261545040745,
          0.30767037944128073
         ],
         "yaxis": "y",
         "type": "scatter"
        },
        {
         "hoverinfo": "text",
         "marker": {
          "color": "rgb(35,205,205)"
         },
         "mode": "lines",
         "x": [
          865.0,
          865.0,
          875.0,
          875.0
         ],
         "xaxis": "x",
         "y": [
          0.0,
          0.048934932219036595,
          0.048934932219036595,
          0.0
         ],
         "yaxis": "y",
         "type": "scatter"
        },
        {
         "hoverinfo": "text",
         "marker": {
          "color": "rgb(35,205,205)"
         },
         "mode": "lines",
         "x": [
          855.0,
          855.0,
          870.0,
          870.0
         ],
         "xaxis": "x",
         "y": [
          0.0,
          0.06732324664260993,
          0.06732324664260993,
          0.048934932219036595
         ],
         "yaxis": "y",
         "type": "scatter"
        },
        {
         "hoverinfo": "text",
         "marker": {
          "color": "rgb(35,205,205)"
         },
         "mode": "lines",
         "x": [
          845.0,
          845.0,
          862.5,
          862.5
         ],
         "xaxis": "x",
         "y": [
          0.0,
          0.11216735765118951,
          0.11216735765118951,
          0.06732324664260993
         ],
         "yaxis": "y",
         "type": "scatter"
        },
        {
         "hoverinfo": "text",
         "marker": {
          "color": "rgb(35,205,205)"
         },
         "mode": "lines",
         "x": [
          885.0,
          885.0,
          895.0,
          895.0
         ],
         "xaxis": "x",
         "y": [
          0.0,
          0.07274689780567982,
          0.07274689780567982,
          0.0
         ],
         "yaxis": "y",
         "type": "scatter"
        },
        {
         "hoverinfo": "text",
         "marker": {
          "color": "rgb(35,205,205)"
         },
         "mode": "lines",
         "x": [
          905.0,
          905.0,
          915.0,
          915.0
         ],
         "xaxis": "x",
         "y": [
          0.0,
          0.056282748042347494,
          0.056282748042347494,
          0.0
         ],
         "yaxis": "y",
         "type": "scatter"
        },
        {
         "hoverinfo": "text",
         "marker": {
          "color": "rgb(35,205,205)"
         },
         "mode": "lines",
         "x": [
          925.0,
          925.0,
          935.0,
          935.0
         ],
         "xaxis": "x",
         "y": [
          0.0,
          0.05716260633484025,
          0.05716260633484025,
          0.0
         ],
         "yaxis": "y",
         "type": "scatter"
        },
        {
         "hoverinfo": "text",
         "marker": {
          "color": "rgb(35,205,205)"
         },
         "mode": "lines",
         "x": [
          910.0,
          910.0,
          930.0,
          930.0
         ],
         "xaxis": "x",
         "y": [
          0.056282748042347494,
          0.09851488112322868,
          0.09851488112322868,
          0.05716260633484025
         ],
         "yaxis": "y",
         "type": "scatter"
        },
        {
         "hoverinfo": "text",
         "marker": {
          "color": "rgb(35,205,205)"
         },
         "mode": "lines",
         "x": [
          890.0,
          890.0,
          920.0,
          920.0
         ],
         "xaxis": "x",
         "y": [
          0.07274689780567982,
          0.14127075543939713,
          0.14127075543939713,
          0.09851488112322868
         ],
         "yaxis": "y",
         "type": "scatter"
        },
        {
         "hoverinfo": "text",
         "marker": {
          "color": "rgb(35,205,205)"
         },
         "mode": "lines",
         "x": [
          853.75,
          853.75,
          905.0,
          905.0
         ],
         "xaxis": "x",
         "y": [
          0.11216735765118951,
          0.1782090695584878,
          0.1782090695584878,
          0.14127075543939713
         ],
         "yaxis": "y",
         "type": "scatter"
        },
        {
         "hoverinfo": "text",
         "marker": {
          "color": "rgb(35,205,205)"
         },
         "mode": "lines",
         "x": [
          945.0,
          945.0,
          955.0,
          955.0
         ],
         "xaxis": "x",
         "y": [
          0.0,
          0.06332248828007825,
          0.06332248828007825,
          0.0
         ],
         "yaxis": "y",
         "type": "scatter"
        },
        {
         "hoverinfo": "text",
         "marker": {
          "color": "rgb(35,205,205)"
         },
         "mode": "lines",
         "x": [
          975.0,
          975.0,
          985.0,
          985.0
         ],
         "xaxis": "x",
         "y": [
          0.0,
          0.08228693496191072,
          0.08228693496191072,
          0.0
         ],
         "yaxis": "y",
         "type": "scatter"
        },
        {
         "hoverinfo": "text",
         "marker": {
          "color": "rgb(35,205,205)"
         },
         "mode": "lines",
         "x": [
          965.0,
          965.0,
          980.0,
          980.0
         ],
         "xaxis": "x",
         "y": [
          0.0,
          0.1121758925971125,
          0.1121758925971125,
          0.08228693496191072
         ],
         "yaxis": "y",
         "type": "scatter"
        },
        {
         "hoverinfo": "text",
         "marker": {
          "color": "rgb(35,205,205)"
         },
         "mode": "lines",
         "x": [
          950.0,
          950.0,
          972.5,
          972.5
         ],
         "xaxis": "x",
         "y": [
          0.06332248828007825,
          0.1840078405529206,
          0.1840078405529206,
          0.1121758925971125
         ],
         "yaxis": "y",
         "type": "scatter"
        },
        {
         "hoverinfo": "text",
         "marker": {
          "color": "rgb(35,205,205)"
         },
         "mode": "lines",
         "x": [
          879.375,
          879.375,
          961.25,
          961.25
         ],
         "xaxis": "x",
         "y": [
          0.1782090695584878,
          0.26150544675951937,
          0.26150544675951937,
          0.1840078405529206
         ],
         "yaxis": "y",
         "type": "scatter"
        },
        {
         "hoverinfo": "text",
         "marker": {
          "color": "rgb(35,205,205)"
         },
         "mode": "lines",
         "x": [
          835.0,
          835.0,
          920.3125,
          920.3125
         ],
         "xaxis": "x",
         "y": [
          0.0,
          0.3866755465326482,
          0.3866755465326482,
          0.26150544675951937
         ],
         "yaxis": "y",
         "type": "scatter"
        },
        {
         "hoverinfo": "text",
         "marker": {
          "color": "rgb(35,205,205)"
         },
         "mode": "lines",
         "x": [
          324.6240234375,
          324.6240234375,
          877.65625,
          877.65625
         ],
         "xaxis": "x",
         "y": [
          0.36682261545040745,
          0.5522461454992915,
          0.5522461454992915,
          0.3866755465326482
         ],
         "yaxis": "y",
         "type": "scatter"
        },
        {
         "hoverinfo": "text",
         "marker": {
          "color": "rgb(133,20,75)"
         },
         "mode": "lines",
         "x": [
          1005.0,
          1005.0,
          1015.0,
          1015.0
         ],
         "xaxis": "x",
         "y": [
          0.0,
          0.035561774681298494,
          0.035561774681298494,
          0.0
         ],
         "yaxis": "y",
         "type": "scatter"
        },
        {
         "hoverinfo": "text",
         "marker": {
          "color": "rgb(133,20,75)"
         },
         "mode": "lines",
         "x": [
          995.0,
          995.0,
          1010.0,
          1010.0
         ],
         "xaxis": "x",
         "y": [
          0.0,
          0.08492893056924908,
          0.08492893056924908,
          0.035561774681298494
         ],
         "yaxis": "y",
         "type": "scatter"
        },
        {
         "hoverinfo": "text",
         "marker": {
          "color": "rgb(133,20,75)"
         },
         "mode": "lines",
         "x": [
          1025.0,
          1025.0,
          1035.0,
          1035.0
         ],
         "xaxis": "x",
         "y": [
          0.0,
          0.04646414504457551,
          0.04646414504457551,
          0.0
         ],
         "yaxis": "y",
         "type": "scatter"
        },
        {
         "hoverinfo": "text",
         "marker": {
          "color": "rgb(133,20,75)"
         },
         "mode": "lines",
         "x": [
          1045.0,
          1045.0,
          1055.0,
          1055.0
         ],
         "xaxis": "x",
         "y": [
          0.0,
          0.0694702482699189,
          0.0694702482699189,
          0.0
         ],
         "yaxis": "y",
         "type": "scatter"
        },
        {
         "hoverinfo": "text",
         "marker": {
          "color": "rgb(133,20,75)"
         },
         "mode": "lines",
         "x": [
          1030.0,
          1030.0,
          1050.0,
          1050.0
         ],
         "xaxis": "x",
         "y": [
          0.04646414504457551,
          0.10091808498412468,
          0.10091808498412468,
          0.0694702482699189
         ],
         "yaxis": "y",
         "type": "scatter"
        },
        {
         "hoverinfo": "text",
         "marker": {
          "color": "rgb(133,20,75)"
         },
         "mode": "lines",
         "x": [
          1002.5,
          1002.5,
          1040.0,
          1040.0
         ],
         "xaxis": "x",
         "y": [
          0.08492893056924908,
          0.1528743597119366,
          0.1528743597119366,
          0.10091808498412468
         ],
         "yaxis": "y",
         "type": "scatter"
        },
        {
         "hoverinfo": "text",
         "marker": {
          "color": "rgb(133,20,75)"
         },
         "mode": "lines",
         "x": [
          1075.0,
          1075.0,
          1085.0,
          1085.0
         ],
         "xaxis": "x",
         "y": [
          0.0,
          0.08899607809800028,
          0.08899607809800028,
          0.0
         ],
         "yaxis": "y",
         "type": "scatter"
        },
        {
         "hoverinfo": "text",
         "marker": {
          "color": "rgb(133,20,75)"
         },
         "mode": "lines",
         "x": [
          1065.0,
          1065.0,
          1080.0,
          1080.0
         ],
         "xaxis": "x",
         "y": [
          0.0,
          0.11064634086742635,
          0.11064634086742635,
          0.08899607809800028
         ],
         "yaxis": "y",
         "type": "scatter"
        },
        {
         "hoverinfo": "text",
         "marker": {
          "color": "rgb(133,20,75)"
         },
         "mode": "lines",
         "x": [
          1105.0,
          1105.0,
          1115.0,
          1115.0
         ],
         "xaxis": "x",
         "y": [
          0.0,
          0.06312129244899176,
          0.06312129244899176,
          0.0
         ],
         "yaxis": "y",
         "type": "scatter"
        },
        {
         "hoverinfo": "text",
         "marker": {
          "color": "rgb(133,20,75)"
         },
         "mode": "lines",
         "x": [
          1095.0,
          1095.0,
          1110.0,
          1110.0
         ],
         "xaxis": "x",
         "y": [
          0.0,
          0.08539391557221186,
          0.08539391557221186,
          0.06312129244899176
         ],
         "yaxis": "y",
         "type": "scatter"
        },
        {
         "hoverinfo": "text",
         "marker": {
          "color": "rgb(133,20,75)"
         },
         "mode": "lines",
         "x": [
          1125.0,
          1125.0,
          1135.0,
          1135.0
         ],
         "xaxis": "x",
         "y": [
          0.0,
          0.03697598090930918,
          0.03697598090930918,
          0.0
         ],
         "yaxis": "y",
         "type": "scatter"
        },
        {
         "hoverinfo": "text",
         "marker": {
          "color": "rgb(133,20,75)"
         },
         "mode": "lines",
         "x": [
          1145.0,
          1145.0,
          1155.0,
          1155.0
         ],
         "xaxis": "x",
         "y": [
          0.0,
          0.019386797269748242,
          0.019386797269748242,
          0.0
         ],
         "yaxis": "y",
         "type": "scatter"
        },
        {
         "hoverinfo": "text",
         "marker": {
          "color": "rgb(133,20,75)"
         },
         "mode": "lines",
         "x": [
          1165.0,
          1165.0,
          1175.0,
          1175.0
         ],
         "xaxis": "x",
         "y": [
          0.0,
          0.032287280660020394,
          0.032287280660020394,
          0.0
         ],
         "yaxis": "y",
         "type": "scatter"
        },
        {
         "hoverinfo": "text",
         "marker": {
          "color": "rgb(133,20,75)"
         },
         "mode": "lines",
         "x": [
          1150.0,
          1150.0,
          1170.0,
          1170.0
         ],
         "xaxis": "x",
         "y": [
          0.019386797269748242,
          0.044152821604617386,
          0.044152821604617386,
          0.032287280660020394
         ],
         "yaxis": "y",
         "type": "scatter"
        },
        {
         "hoverinfo": "text",
         "marker": {
          "color": "rgb(133,20,75)"
         },
         "mode": "lines",
         "x": [
          1130.0,
          1130.0,
          1160.0,
          1160.0
         ],
         "xaxis": "x",
         "y": [
          0.03697598090930918,
          0.06433724323905744,
          0.06433724323905744,
          0.044152821604617386
         ],
         "yaxis": "y",
         "type": "scatter"
        },
        {
         "hoverinfo": "text",
         "marker": {
          "color": "rgb(133,20,75)"
         },
         "mode": "lines",
         "x": [
          1195.0,
          1195.0,
          1205.0,
          1205.0
         ],
         "xaxis": "x",
         "y": [
          0.0,
          0.05315422880001925,
          0.05315422880001925,
          0.0
         ],
         "yaxis": "y",
         "type": "scatter"
        },
        {
         "hoverinfo": "text",
         "marker": {
          "color": "rgb(133,20,75)"
         },
         "mode": "lines",
         "x": [
          1185.0,
          1185.0,
          1200.0,
          1200.0
         ],
         "xaxis": "x",
         "y": [
          0.0,
          0.07713238226544379,
          0.07713238226544379,
          0.05315422880001925
         ],
         "yaxis": "y",
         "type": "scatter"
        },
        {
         "hoverinfo": "text",
         "marker": {
          "color": "rgb(133,20,75)"
         },
         "mode": "lines",
         "x": [
          1145.0,
          1145.0,
          1192.5,
          1192.5
         ],
         "xaxis": "x",
         "y": [
          0.06433724323905744,
          0.09388192924121212,
          0.09388192924121212,
          0.07713238226544379
         ],
         "yaxis": "y",
         "type": "scatter"
        },
        {
         "hoverinfo": "text",
         "marker": {
          "color": "rgb(133,20,75)"
         },
         "mode": "lines",
         "x": [
          1102.5,
          1102.5,
          1168.75,
          1168.75
         ],
         "xaxis": "x",
         "y": [
          0.08539391557221186,
          0.13386847262072774,
          0.13386847262072774,
          0.09388192924121212
         ],
         "yaxis": "y",
         "type": "scatter"
        },
        {
         "hoverinfo": "text",
         "marker": {
          "color": "rgb(133,20,75)"
         },
         "mode": "lines",
         "x": [
          1072.5,
          1072.5,
          1135.625,
          1135.625
         ],
         "xaxis": "x",
         "y": [
          0.11064634086742635,
          0.18819679641517992,
          0.18819679641517992,
          0.13386847262072774
         ],
         "yaxis": "y",
         "type": "scatter"
        },
        {
         "hoverinfo": "text",
         "marker": {
          "color": "rgb(133,20,75)"
         },
         "mode": "lines",
         "x": [
          1021.25,
          1021.25,
          1104.0625,
          1104.0625
         ],
         "xaxis": "x",
         "y": [
          0.1528743597119366,
          0.22554993524745973,
          0.22554993524745973,
          0.18819679641517992
         ],
         "yaxis": "y",
         "type": "scatter"
        },
        {
         "hoverinfo": "text",
         "marker": {
          "color": "rgb(133,20,75)"
         },
         "mode": "lines",
         "x": [
          1225.0,
          1225.0,
          1235.0,
          1235.0
         ],
         "xaxis": "x",
         "y": [
          0.0,
          0.04483490796105635,
          0.04483490796105635,
          0.0
         ],
         "yaxis": "y",
         "type": "scatter"
        },
        {
         "hoverinfo": "text",
         "marker": {
          "color": "rgb(133,20,75)"
         },
         "mode": "lines",
         "x": [
          1215.0,
          1215.0,
          1230.0,
          1230.0
         ],
         "xaxis": "x",
         "y": [
          0.0,
          0.05225732741626854,
          0.05225732741626854,
          0.04483490796105635
         ],
         "yaxis": "y",
         "type": "scatter"
        },
        {
         "hoverinfo": "text",
         "marker": {
          "color": "rgb(133,20,75)"
         },
         "mode": "lines",
         "x": [
          1255.0,
          1255.0,
          1265.0,
          1265.0
         ],
         "xaxis": "x",
         "y": [
          0.0,
          0.039553854784885836,
          0.039553854784885836,
          0.0
         ],
         "yaxis": "y",
         "type": "scatter"
        },
        {
         "hoverinfo": "text",
         "marker": {
          "color": "rgb(133,20,75)"
         },
         "mode": "lines",
         "x": [
          1245.0,
          1245.0,
          1260.0,
          1260.0
         ],
         "xaxis": "x",
         "y": [
          0.0,
          0.056342004343044386,
          0.056342004343044386,
          0.039553854784885836
         ],
         "yaxis": "y",
         "type": "scatter"
        },
        {
         "hoverinfo": "text",
         "marker": {
          "color": "rgb(133,20,75)"
         },
         "mode": "lines",
         "x": [
          1222.5,
          1222.5,
          1252.5,
          1252.5
         ],
         "xaxis": "x",
         "y": [
          0.05225732741626854,
          0.10166115697043446,
          0.10166115697043446,
          0.056342004343044386
         ],
         "yaxis": "y",
         "type": "scatter"
        },
        {
         "hoverinfo": "text",
         "marker": {
          "color": "rgb(133,20,75)"
         },
         "mode": "lines",
         "x": [
          1305.0,
          1305.0,
          1315.0,
          1315.0
         ],
         "xaxis": "x",
         "y": [
          0.0,
          0.016019808330267418,
          0.016019808330267418,
          0.0
         ],
         "yaxis": "y",
         "type": "scatter"
        },
        {
         "hoverinfo": "text",
         "marker": {
          "color": "rgb(133,20,75)"
         },
         "mode": "lines",
         "x": [
          1295.0,
          1295.0,
          1310.0,
          1310.0
         ],
         "xaxis": "x",
         "y": [
          0.0,
          0.02773678424274321,
          0.02773678424274321,
          0.016019808330267418
         ],
         "yaxis": "y",
         "type": "scatter"
        },
        {
         "hoverinfo": "text",
         "marker": {
          "color": "rgb(133,20,75)"
         },
         "mode": "lines",
         "x": [
          1285.0,
          1285.0,
          1302.5,
          1302.5
         ],
         "xaxis": "x",
         "y": [
          0.0,
          0.05355993726486076,
          0.05355993726486076,
          0.02773678424274321
         ],
         "yaxis": "y",
         "type": "scatter"
        },
        {
         "hoverinfo": "text",
         "marker": {
          "color": "rgb(133,20,75)"
         },
         "mode": "lines",
         "x": [
          1275.0,
          1275.0,
          1293.75,
          1293.75
         ],
         "xaxis": "x",
         "y": [
          0.0,
          0.07059422055787996,
          0.07059422055787996,
          0.05355993726486076
         ],
         "yaxis": "y",
         "type": "scatter"
        },
        {
         "hoverinfo": "text",
         "marker": {
          "color": "rgb(133,20,75)"
         },
         "mode": "lines",
         "x": [
          1335.0,
          1335.0,
          1345.0,
          1345.0
         ],
         "xaxis": "x",
         "y": [
          0.0,
          0.02606364994463133,
          0.02606364994463133,
          0.0
         ],
         "yaxis": "y",
         "type": "scatter"
        },
        {
         "hoverinfo": "text",
         "marker": {
          "color": "rgb(133,20,75)"
         },
         "mode": "lines",
         "x": [
          1325.0,
          1325.0,
          1340.0,
          1340.0
         ],
         "xaxis": "x",
         "y": [
          0.0,
          0.0464282317381073,
          0.0464282317381073,
          0.02606364994463133
         ],
         "yaxis": "y",
         "type": "scatter"
        },
        {
         "hoverinfo": "text",
         "marker": {
          "color": "rgb(133,20,75)"
         },
         "mode": "lines",
         "x": [
          1365.0,
          1365.0,
          1375.0,
          1375.0
         ],
         "xaxis": "x",
         "y": [
          0.0,
          0.02366931548849709,
          0.02366931548849709,
          0.0
         ],
         "yaxis": "y",
         "type": "scatter"
        },
        {
         "hoverinfo": "text",
         "marker": {
          "color": "rgb(133,20,75)"
         },
         "mode": "lines",
         "x": [
          1395.0,
          1395.0,
          1405.0,
          1405.0
         ],
         "xaxis": "x",
         "y": [
          0.0,
          0.011002884839449686,
          0.011002884839449686,
          0.0
         ],
         "yaxis": "y",
         "type": "scatter"
        },
        {
         "hoverinfo": "text",
         "marker": {
          "color": "rgb(133,20,75)"
         },
         "mode": "lines",
         "x": [
          1385.0,
          1385.0,
          1400.0,
          1400.0
         ],
         "xaxis": "x",
         "y": [
          0.0,
          0.03544360975836191,
          0.03544360975836191,
          0.011002884839449686
         ],
         "yaxis": "y",
         "type": "scatter"
        },
        {
         "hoverinfo": "text",
         "marker": {
          "color": "rgb(133,20,75)"
         },
         "mode": "lines",
         "x": [
          1370.0,
          1370.0,
          1392.5,
          1392.5
         ],
         "xaxis": "x",
         "y": [
          0.02366931548849709,
          0.049173694908593205,
          0.049173694908593205,
          0.03544360975836191
         ],
         "yaxis": "y",
         "type": "scatter"
        },
        {
         "hoverinfo": "text",
         "marker": {
          "color": "rgb(133,20,75)"
         },
         "mode": "lines",
         "x": [
          1355.0,
          1355.0,
          1381.25,
          1381.25
         ],
         "xaxis": "x",
         "y": [
          0.0,
          0.051826984635283464,
          0.051826984635283464,
          0.049173694908593205
         ],
         "yaxis": "y",
         "type": "scatter"
        },
        {
         "hoverinfo": "text",
         "marker": {
          "color": "rgb(133,20,75)"
         },
         "mode": "lines",
         "x": [
          1332.5,
          1332.5,
          1368.125,
          1368.125
         ],
         "xaxis": "x",
         "y": [
          0.0464282317381073,
          0.07593584352552502,
          0.07593584352552502,
          0.051826984635283464
         ],
         "yaxis": "y",
         "type": "scatter"
        },
        {
         "hoverinfo": "text",
         "marker": {
          "color": "rgb(133,20,75)"
         },
         "mode": "lines",
         "x": [
          1284.375,
          1284.375,
          1350.3125,
          1350.3125
         ],
         "xaxis": "x",
         "y": [
          0.07059422055787996,
          0.10807703732372351,
          0.10807703732372351,
          0.07593584352552502
         ],
         "yaxis": "y",
         "type": "scatter"
        },
        {
         "hoverinfo": "text",
         "marker": {
          "color": "rgb(133,20,75)"
         },
         "mode": "lines",
         "x": [
          1415.0,
          1415.0,
          1425.0,
          1425.0
         ],
         "xaxis": "x",
         "y": [
          0.0,
          0.04350763186554314,
          0.04350763186554314,
          0.0
         ],
         "yaxis": "y",
         "type": "scatter"
        },
        {
         "hoverinfo": "text",
         "marker": {
          "color": "rgb(133,20,75)"
         },
         "mode": "lines",
         "x": [
          1445.0,
          1445.0,
          1455.0,
          1455.0
         ],
         "xaxis": "x",
         "y": [
          0.0,
          0.0400413354434172,
          0.0400413354434172,
          0.0
         ],
         "yaxis": "y",
         "type": "scatter"
        },
        {
         "hoverinfo": "text",
         "marker": {
          "color": "rgb(133,20,75)"
         },
         "mode": "lines",
         "x": [
          1435.0,
          1435.0,
          1450.0,
          1450.0
         ],
         "xaxis": "x",
         "y": [
          0.0,
          0.06701641508506949,
          0.06701641508506949,
          0.0400413354434172
         ],
         "yaxis": "y",
         "type": "scatter"
        },
        {
         "hoverinfo": "text",
         "marker": {
          "color": "rgb(133,20,75)"
         },
         "mode": "lines",
         "x": [
          1420.0,
          1420.0,
          1442.5,
          1442.5
         ],
         "xaxis": "x",
         "y": [
          0.04350763186554314,
          0.08865528816617971,
          0.08865528816617971,
          0.06701641508506949
         ],
         "yaxis": "y",
         "type": "scatter"
        },
        {
         "hoverinfo": "text",
         "marker": {
          "color": "rgb(133,20,75)"
         },
         "mode": "lines",
         "x": [
          1475.0,
          1475.0,
          1485.0,
          1485.0
         ],
         "xaxis": "x",
         "y": [
          0.0,
          0.039856543300074904,
          0.039856543300074904,
          0.0
         ],
         "yaxis": "y",
         "type": "scatter"
        },
        {
         "hoverinfo": "text",
         "marker": {
          "color": "rgb(133,20,75)"
         },
         "mode": "lines",
         "x": [
          1465.0,
          1465.0,
          1480.0,
          1480.0
         ],
         "xaxis": "x",
         "y": [
          0.0,
          0.06698097625569065,
          0.06698097625569065,
          0.039856543300074904
         ],
         "yaxis": "y",
         "type": "scatter"
        },
        {
         "hoverinfo": "text",
         "marker": {
          "color": "rgb(133,20,75)"
         },
         "mode": "lines",
         "x": [
          1495.0,
          1495.0,
          1505.0,
          1505.0
         ],
         "xaxis": "x",
         "y": [
          0.0,
          0.03398486060375777,
          0.03398486060375777,
          0.0
         ],
         "yaxis": "y",
         "type": "scatter"
        },
        {
         "hoverinfo": "text",
         "marker": {
          "color": "rgb(133,20,75)"
         },
         "mode": "lines",
         "x": [
          1515.0,
          1515.0,
          1525.0,
          1525.0
         ],
         "xaxis": "x",
         "y": [
          0.0,
          0.04880281673904757,
          0.04880281673904757,
          0.0
         ],
         "yaxis": "y",
         "type": "scatter"
        },
        {
         "hoverinfo": "text",
         "marker": {
          "color": "rgb(133,20,75)"
         },
         "mode": "lines",
         "x": [
          1500.0,
          1500.0,
          1520.0,
          1520.0
         ],
         "xaxis": "x",
         "y": [
          0.03398486060375777,
          0.07797216859707955,
          0.07797216859707955,
          0.04880281673904757
         ],
         "yaxis": "y",
         "type": "scatter"
        },
        {
         "hoverinfo": "text",
         "marker": {
          "color": "rgb(133,20,75)"
         },
         "mode": "lines",
         "x": [
          1472.5,
          1472.5,
          1510.0,
          1510.0
         ],
         "xaxis": "x",
         "y": [
          0.06698097625569065,
          0.11629523483960517,
          0.11629523483960517,
          0.07797216859707955
         ],
         "yaxis": "y",
         "type": "scatter"
        },
        {
         "hoverinfo": "text",
         "marker": {
          "color": "rgb(133,20,75)"
         },
         "mode": "lines",
         "x": [
          1431.25,
          1431.25,
          1491.25,
          1491.25
         ],
         "xaxis": "x",
         "y": [
          0.08865528816617971,
          0.1426903379223022,
          0.1426903379223022,
          0.11629523483960517
         ],
         "yaxis": "y",
         "type": "scatter"
        },
        {
         "hoverinfo": "text",
         "marker": {
          "color": "rgb(133,20,75)"
         },
         "mode": "lines",
         "x": [
          1317.34375,
          1317.34375,
          1461.25,
          1461.25
         ],
         "xaxis": "x",
         "y": [
          0.10807703732372351,
          0.16272359007412024,
          0.16272359007412024,
          0.1426903379223022
         ],
         "yaxis": "y",
         "type": "scatter"
        },
        {
         "hoverinfo": "text",
         "marker": {
          "color": "rgb(133,20,75)"
         },
         "mode": "lines",
         "x": [
          1237.5,
          1237.5,
          1389.296875,
          1389.296875
         ],
         "xaxis": "x",
         "y": [
          0.10166115697043446,
          0.1671262008626486,
          0.1671262008626486,
          0.16272359007412024
         ],
         "yaxis": "y",
         "type": "scatter"
        },
        {
         "hoverinfo": "text",
         "marker": {
          "color": "rgb(133,20,75)"
         },
         "mode": "lines",
         "x": [
          1535.0,
          1535.0,
          1545.0,
          1545.0
         ],
         "xaxis": "x",
         "y": [
          0.0,
          0.03544022506663203,
          0.03544022506663203,
          0.0
         ],
         "yaxis": "y",
         "type": "scatter"
        },
        {
         "hoverinfo": "text",
         "marker": {
          "color": "rgb(133,20,75)"
         },
         "mode": "lines",
         "x": [
          1555.0,
          1555.0,
          1565.0,
          1565.0
         ],
         "xaxis": "x",
         "y": [
          0.0,
          0.02404809749070122,
          0.02404809749070122,
          0.0
         ],
         "yaxis": "y",
         "type": "scatter"
        },
        {
         "hoverinfo": "text",
         "marker": {
          "color": "rgb(133,20,75)"
         },
         "mode": "lines",
         "x": [
          1585.0,
          1585.0,
          1595.0,
          1595.0
         ],
         "xaxis": "x",
         "y": [
          0.0,
          0.027012969765773425,
          0.027012969765773425,
          0.0
         ],
         "yaxis": "y",
         "type": "scatter"
        },
        {
         "hoverinfo": "text",
         "marker": {
          "color": "rgb(133,20,75)"
         },
         "mode": "lines",
         "x": [
          1575.0,
          1575.0,
          1590.0,
          1590.0
         ],
         "xaxis": "x",
         "y": [
          0.0,
          0.03008131896920426,
          0.03008131896920426,
          0.027012969765773425
         ],
         "yaxis": "y",
         "type": "scatter"
        },
        {
         "hoverinfo": "text",
         "marker": {
          "color": "rgb(133,20,75)"
         },
         "mode": "lines",
         "x": [
          1560.0,
          1560.0,
          1582.5,
          1582.5
         ],
         "xaxis": "x",
         "y": [
          0.02404809749070122,
          0.04643645161504038,
          0.04643645161504038,
          0.03008131896920426
         ],
         "yaxis": "y",
         "type": "scatter"
        },
        {
         "hoverinfo": "text",
         "marker": {
          "color": "rgb(133,20,75)"
         },
         "mode": "lines",
         "x": [
          1540.0,
          1540.0,
          1571.25,
          1571.25
         ],
         "xaxis": "x",
         "y": [
          0.03544022506663203,
          0.058542675309092476,
          0.058542675309092476,
          0.04643645161504038
         ],
         "yaxis": "y",
         "type": "scatter"
        },
        {
         "hoverinfo": "text",
         "marker": {
          "color": "rgb(133,20,75)"
         },
         "mode": "lines",
         "x": [
          1605.0,
          1605.0,
          1615.0,
          1615.0
         ],
         "xaxis": "x",
         "y": [
          0.0,
          0.03218324055311528,
          0.03218324055311528,
          0.0
         ],
         "yaxis": "y",
         "type": "scatter"
        },
        {
         "hoverinfo": "text",
         "marker": {
          "color": "rgb(133,20,75)"
         },
         "mode": "lines",
         "x": [
          1625.0,
          1625.0,
          1635.0,
          1635.0
         ],
         "xaxis": "x",
         "y": [
          0.0,
          0.03364097370799692,
          0.03364097370799692,
          0.0
         ],
         "yaxis": "y",
         "type": "scatter"
        },
        {
         "hoverinfo": "text",
         "marker": {
          "color": "rgb(133,20,75)"
         },
         "mode": "lines",
         "x": [
          1610.0,
          1610.0,
          1630.0,
          1630.0
         ],
         "xaxis": "x",
         "y": [
          0.03218324055311528,
          0.05145923943917383,
          0.05145923943917383,
          0.03364097370799692
         ],
         "yaxis": "y",
         "type": "scatter"
        },
        {
         "hoverinfo": "text",
         "marker": {
          "color": "rgb(133,20,75)"
         },
         "mode": "lines",
         "x": [
          1665.0,
          1665.0,
          1675.0,
          1675.0
         ],
         "xaxis": "x",
         "y": [
          0.0,
          0.01729633981624932,
          0.01729633981624932,
          0.0
         ],
         "yaxis": "y",
         "type": "scatter"
        },
        {
         "hoverinfo": "text",
         "marker": {
          "color": "rgb(133,20,75)"
         },
         "mode": "lines",
         "x": [
          1655.0,
          1655.0,
          1670.0,
          1670.0
         ],
         "xaxis": "x",
         "y": [
          0.0,
          0.045667552088816434,
          0.045667552088816434,
          0.01729633981624932
         ],
         "yaxis": "y",
         "type": "scatter"
        },
        {
         "hoverinfo": "text",
         "marker": {
          "color": "rgb(133,20,75)"
         },
         "mode": "lines",
         "x": [
          1645.0,
          1645.0,
          1662.5,
          1662.5
         ],
         "xaxis": "x",
         "y": [
          0.0,
          0.06251994814461011,
          0.06251994814461011,
          0.045667552088816434
         ],
         "yaxis": "y",
         "type": "scatter"
        },
        {
         "hoverinfo": "text",
         "marker": {
          "color": "rgb(133,20,75)"
         },
         "mode": "lines",
         "x": [
          1620.0,
          1620.0,
          1653.75,
          1653.75
         ],
         "xaxis": "x",
         "y": [
          0.05145923943917383,
          0.08294105311510298,
          0.08294105311510298,
          0.06251994814461011
         ],
         "yaxis": "y",
         "type": "scatter"
        },
        {
         "hoverinfo": "text",
         "marker": {
          "color": "rgb(133,20,75)"
         },
         "mode": "lines",
         "x": [
          1555.625,
          1555.625,
          1636.875,
          1636.875
         ],
         "xaxis": "x",
         "y": [
          0.058542675309092476,
          0.10966662067097678,
          0.10966662067097678,
          0.08294105311510298
         ],
         "yaxis": "y",
         "type": "scatter"
        },
        {
         "hoverinfo": "text",
         "marker": {
          "color": "rgb(133,20,75)"
         },
         "mode": "lines",
         "x": [
          1685.0,
          1685.0,
          1695.0,
          1695.0
         ],
         "xaxis": "x",
         "y": [
          0.0,
          0.027672181728474392,
          0.027672181728474392,
          0.0
         ],
         "yaxis": "y",
         "type": "scatter"
        },
        {
         "hoverinfo": "text",
         "marker": {
          "color": "rgb(133,20,75)"
         },
         "mode": "lines",
         "x": [
          1715.0,
          1715.0,
          1725.0,
          1725.0
         ],
         "xaxis": "x",
         "y": [
          0.0,
          0.008640277216794546,
          0.008640277216794546,
          0.0
         ],
         "yaxis": "y",
         "type": "scatter"
        },
        {
         "hoverinfo": "text",
         "marker": {
          "color": "rgb(133,20,75)"
         },
         "mode": "lines",
         "x": [
          1705.0,
          1705.0,
          1720.0,
          1720.0
         ],
         "xaxis": "x",
         "y": [
          0.0,
          0.020745395857556272,
          0.020745395857556272,
          0.008640277216794546
         ],
         "yaxis": "y",
         "type": "scatter"
        },
        {
         "hoverinfo": "text",
         "marker": {
          "color": "rgb(133,20,75)"
         },
         "mode": "lines",
         "x": [
          1735.0,
          1735.0,
          1745.0,
          1745.0
         ],
         "xaxis": "x",
         "y": [
          0.0,
          0.03202988298867384,
          0.03202988298867384,
          0.0
         ],
         "yaxis": "y",
         "type": "scatter"
        },
        {
         "hoverinfo": "text",
         "marker": {
          "color": "rgb(133,20,75)"
         },
         "mode": "lines",
         "x": [
          1712.5,
          1712.5,
          1740.0,
          1740.0
         ],
         "xaxis": "x",
         "y": [
          0.020745395857556272,
          0.0406612976907508,
          0.0406612976907508,
          0.03202988298867384
         ],
         "yaxis": "y",
         "type": "scatter"
        },
        {
         "hoverinfo": "text",
         "marker": {
          "color": "rgb(133,20,75)"
         },
         "mode": "lines",
         "x": [
          1690.0,
          1690.0,
          1726.25,
          1726.25
         ],
         "xaxis": "x",
         "y": [
          0.027672181728474392,
          0.0596402238411477,
          0.0596402238411477,
          0.0406612976907508
         ],
         "yaxis": "y",
         "type": "scatter"
        },
        {
         "hoverinfo": "text",
         "marker": {
          "color": "rgb(133,20,75)"
         },
         "mode": "lines",
         "x": [
          1755.0,
          1755.0,
          1765.0,
          1765.0
         ],
         "xaxis": "x",
         "y": [
          0.0,
          0.0214827112229618,
          0.0214827112229618,
          0.0
         ],
         "yaxis": "y",
         "type": "scatter"
        },
        {
         "hoverinfo": "text",
         "marker": {
          "color": "rgb(133,20,75)"
         },
         "mode": "lines",
         "x": [
          1785.0,
          1785.0,
          1795.0,
          1795.0
         ],
         "xaxis": "x",
         "y": [
          0.0,
          0.02954343270770655,
          0.02954343270770655,
          0.0
         ],
         "yaxis": "y",
         "type": "scatter"
        },
        {
         "hoverinfo": "text",
         "marker": {
          "color": "rgb(133,20,75)"
         },
         "mode": "lines",
         "x": [
          1775.0,
          1775.0,
          1790.0,
          1790.0
         ],
         "xaxis": "x",
         "y": [
          0.0,
          0.04906289082783585,
          0.04906289082783585,
          0.02954343270770655
         ],
         "yaxis": "y",
         "type": "scatter"
        },
        {
         "hoverinfo": "text",
         "marker": {
          "color": "rgb(133,20,75)"
         },
         "mode": "lines",
         "x": [
          1760.0,
          1760.0,
          1782.5,
          1782.5
         ],
         "xaxis": "x",
         "y": [
          0.0214827112229618,
          0.05017547878915383,
          0.05017547878915383,
          0.04906289082783585
         ],
         "yaxis": "y",
         "type": "scatter"
        },
        {
         "hoverinfo": "text",
         "marker": {
          "color": "rgb(133,20,75)"
         },
         "mode": "lines",
         "x": [
          1805.0,
          1805.0,
          1815.0,
          1815.0
         ],
         "xaxis": "x",
         "y": [
          0.0,
          0.0538995077818376,
          0.0538995077818376,
          0.0
         ],
         "yaxis": "y",
         "type": "scatter"
        },
        {
         "hoverinfo": "text",
         "marker": {
          "color": "rgb(133,20,75)"
         },
         "mode": "lines",
         "x": [
          1771.25,
          1771.25,
          1810.0,
          1810.0
         ],
         "xaxis": "x",
         "y": [
          0.05017547878915383,
          0.08074074645444357,
          0.08074074645444357,
          0.0538995077818376
         ],
         "yaxis": "y",
         "type": "scatter"
        },
        {
         "hoverinfo": "text",
         "marker": {
          "color": "rgb(133,20,75)"
         },
         "mode": "lines",
         "x": [
          1708.125,
          1708.125,
          1790.625,
          1790.625
         ],
         "xaxis": "x",
         "y": [
          0.0596402238411477,
          0.09157922016678284,
          0.09157922016678284,
          0.08074074645444357
         ],
         "yaxis": "y",
         "type": "scatter"
        },
        {
         "hoverinfo": "text",
         "marker": {
          "color": "rgb(133,20,75)"
         },
         "mode": "lines",
         "x": [
          1825.0,
          1825.0,
          1835.0,
          1835.0
         ],
         "xaxis": "x",
         "y": [
          0.0,
          0.035753513735530325,
          0.035753513735530325,
          0.0
         ],
         "yaxis": "y",
         "type": "scatter"
        },
        {
         "hoverinfo": "text",
         "marker": {
          "color": "rgb(133,20,75)"
         },
         "mode": "lines",
         "x": [
          1845.0,
          1845.0,
          1855.0,
          1855.0
         ],
         "xaxis": "x",
         "y": [
          0.0,
          0.029027319901967004,
          0.029027319901967004,
          0.0
         ],
         "yaxis": "y",
         "type": "scatter"
        },
        {
         "hoverinfo": "text",
         "marker": {
          "color": "rgb(133,20,75)"
         },
         "mode": "lines",
         "x": [
          1865.0,
          1865.0,
          1875.0,
          1875.0
         ],
         "xaxis": "x",
         "y": [
          0.0,
          0.04202657174719163,
          0.04202657174719163,
          0.0
         ],
         "yaxis": "y",
         "type": "scatter"
        },
        {
         "hoverinfo": "text",
         "marker": {
          "color": "rgb(133,20,75)"
         },
         "mode": "lines",
         "x": [
          1850.0,
          1850.0,
          1870.0,
          1870.0
         ],
         "xaxis": "x",
         "y": [
          0.029027319901967004,
          0.0545578116339114,
          0.0545578116339114,
          0.04202657174719163
         ],
         "yaxis": "y",
         "type": "scatter"
        },
        {
         "hoverinfo": "text",
         "marker": {
          "color": "rgb(133,20,75)"
         },
         "mode": "lines",
         "x": [
          1830.0,
          1830.0,
          1860.0,
          1860.0
         ],
         "xaxis": "x",
         "y": [
          0.035753513735530325,
          0.06862614983182326,
          0.06862614983182326,
          0.0545578116339114
         ],
         "yaxis": "y",
         "type": "scatter"
        },
        {
         "hoverinfo": "text",
         "marker": {
          "color": "rgb(133,20,75)"
         },
         "mode": "lines",
         "x": [
          1885.0,
          1885.0,
          1895.0,
          1895.0
         ],
         "xaxis": "x",
         "y": [
          0.0,
          0.03517487299036683,
          0.03517487299036683,
          0.0
         ],
         "yaxis": "y",
         "type": "scatter"
        },
        {
         "hoverinfo": "text",
         "marker": {
          "color": "rgb(133,20,75)"
         },
         "mode": "lines",
         "x": [
          1915.0,
          1915.0,
          1925.0,
          1925.0
         ],
         "xaxis": "x",
         "y": [
          0.0,
          0.02116402612584456,
          0.02116402612584456,
          0.0
         ],
         "yaxis": "y",
         "type": "scatter"
        },
        {
         "hoverinfo": "text",
         "marker": {
          "color": "rgb(133,20,75)"
         },
         "mode": "lines",
         "x": [
          1905.0,
          1905.0,
          1920.0,
          1920.0
         ],
         "xaxis": "x",
         "y": [
          0.0,
          0.042492724527310996,
          0.042492724527310996,
          0.02116402612584456
         ],
         "yaxis": "y",
         "type": "scatter"
        },
        {
         "hoverinfo": "text",
         "marker": {
          "color": "rgb(133,20,75)"
         },
         "mode": "lines",
         "x": [
          1890.0,
          1890.0,
          1912.5,
          1912.5
         ],
         "xaxis": "x",
         "y": [
          0.03517487299036683,
          0.04742115770763812,
          0.04742115770763812,
          0.042492724527310996
         ],
         "yaxis": "y",
         "type": "scatter"
        },
        {
         "hoverinfo": "text",
         "marker": {
          "color": "rgb(133,20,75)"
         },
         "mode": "lines",
         "x": [
          1945.0,
          1945.0,
          1955.0,
          1955.0
         ],
         "xaxis": "x",
         "y": [
          0.0,
          0.034725990396826036,
          0.034725990396826036,
          0.0
         ],
         "yaxis": "y",
         "type": "scatter"
        },
        {
         "hoverinfo": "text",
         "marker": {
          "color": "rgb(133,20,75)"
         },
         "mode": "lines",
         "x": [
          1935.0,
          1935.0,
          1950.0,
          1950.0
         ],
         "xaxis": "x",
         "y": [
          0.0,
          0.06295758411815464,
          0.06295758411815464,
          0.034725990396826036
         ],
         "yaxis": "y",
         "type": "scatter"
        },
        {
         "hoverinfo": "text",
         "marker": {
          "color": "rgb(133,20,75)"
         },
         "mode": "lines",
         "x": [
          1901.25,
          1901.25,
          1942.5,
          1942.5
         ],
         "xaxis": "x",
         "y": [
          0.04742115770763812,
          0.09244659836660836,
          0.09244659836660836,
          0.06295758411815464
         ],
         "yaxis": "y",
         "type": "scatter"
        },
        {
         "hoverinfo": "text",
         "marker": {
          "color": "rgb(133,20,75)"
         },
         "mode": "lines",
         "x": [
          1845.0,
          1845.0,
          1921.875,
          1921.875
         ],
         "xaxis": "x",
         "y": [
          0.06862614983182326,
          0.09945417303623778,
          0.09945417303623778,
          0.09244659836660836
         ],
         "yaxis": "y",
         "type": "scatter"
        },
        {
         "hoverinfo": "text",
         "marker": {
          "color": "rgb(133,20,75)"
         },
         "mode": "lines",
         "x": [
          1749.375,
          1749.375,
          1883.4375,
          1883.4375
         ],
         "xaxis": "x",
         "y": [
          0.09157922016678284,
          0.14020485648341155,
          0.14020485648341155,
          0.09945417303623778
         ],
         "yaxis": "y",
         "type": "scatter"
        },
        {
         "hoverinfo": "text",
         "marker": {
          "color": "rgb(133,20,75)"
         },
         "mode": "lines",
         "x": [
          1596.25,
          1596.25,
          1816.40625,
          1816.40625
         ],
         "xaxis": "x",
         "y": [
          0.10966662067097678,
          0.16109706869400378,
          0.16109706869400378,
          0.14020485648341155
         ],
         "yaxis": "y",
         "type": "scatter"
        },
        {
         "hoverinfo": "text",
         "marker": {
          "color": "rgb(133,20,75)"
         },
         "mode": "lines",
         "x": [
          1975.0,
          1975.0,
          1985.0,
          1985.0
         ],
         "xaxis": "x",
         "y": [
          0.0,
          0.025299162001727476,
          0.025299162001727476,
          0.0
         ],
         "yaxis": "y",
         "type": "scatter"
        },
        {
         "hoverinfo": "text",
         "marker": {
          "color": "rgb(133,20,75)"
         },
         "mode": "lines",
         "x": [
          1965.0,
          1965.0,
          1980.0,
          1980.0
         ],
         "xaxis": "x",
         "y": [
          0.0,
          0.04796817701604533,
          0.04796817701604533,
          0.025299162001727476
         ],
         "yaxis": "y",
         "type": "scatter"
        },
        {
         "hoverinfo": "text",
         "marker": {
          "color": "rgb(133,20,75)"
         },
         "mode": "lines",
         "x": [
          2005.0,
          2005.0,
          2015.0,
          2015.0
         ],
         "xaxis": "x",
         "y": [
          0.0,
          0.023768412030588562,
          0.023768412030588562,
          0.0
         ],
         "yaxis": "y",
         "type": "scatter"
        },
        {
         "hoverinfo": "text",
         "marker": {
          "color": "rgb(133,20,75)"
         },
         "mode": "lines",
         "x": [
          1995.0,
          1995.0,
          2010.0,
          2010.0
         ],
         "xaxis": "x",
         "y": [
          0.0,
          0.03651065272159669,
          0.03651065272159669,
          0.023768412030588562
         ],
         "yaxis": "y",
         "type": "scatter"
        },
        {
         "hoverinfo": "text",
         "marker": {
          "color": "rgb(133,20,75)"
         },
         "mode": "lines",
         "x": [
          2035.0,
          2035.0,
          2045.0,
          2045.0
         ],
         "xaxis": "x",
         "y": [
          0.0,
          0.024105440325501798,
          0.024105440325501798,
          0.0
         ],
         "yaxis": "y",
         "type": "scatter"
        },
        {
         "hoverinfo": "text",
         "marker": {
          "color": "rgb(133,20,75)"
         },
         "mode": "lines",
         "x": [
          2025.0,
          2025.0,
          2040.0,
          2040.0
         ],
         "xaxis": "x",
         "y": [
          0.0,
          0.04559713368261437,
          0.04559713368261437,
          0.024105440325501798
         ],
         "yaxis": "y",
         "type": "scatter"
        },
        {
         "hoverinfo": "text",
         "marker": {
          "color": "rgb(133,20,75)"
         },
         "mode": "lines",
         "x": [
          2002.5,
          2002.5,
          2032.5,
          2032.5
         ],
         "xaxis": "x",
         "y": [
          0.03651065272159669,
          0.060539804643536234,
          0.060539804643536234,
          0.04559713368261437
         ],
         "yaxis": "y",
         "type": "scatter"
        },
        {
         "hoverinfo": "text",
         "marker": {
          "color": "rgb(133,20,75)"
         },
         "mode": "lines",
         "x": [
          1972.5,
          1972.5,
          2017.5,
          2017.5
         ],
         "xaxis": "x",
         "y": [
          0.04796817701604533,
          0.09129493136697374,
          0.09129493136697374,
          0.060539804643536234
         ],
         "yaxis": "y",
         "type": "scatter"
        },
        {
         "hoverinfo": "text",
         "marker": {
          "color": "rgb(133,20,75)"
         },
         "mode": "lines",
         "x": [
          2055.0,
          2055.0,
          2065.0,
          2065.0
         ],
         "xaxis": "x",
         "y": [
          0.0,
          0.019195602751612754,
          0.019195602751612754,
          0.0
         ],
         "yaxis": "y",
         "type": "scatter"
        },
        {
         "hoverinfo": "text",
         "marker": {
          "color": "rgb(133,20,75)"
         },
         "mode": "lines",
         "x": [
          2075.0,
          2075.0,
          2085.0,
          2085.0
         ],
         "xaxis": "x",
         "y": [
          0.0,
          0.013005108022247754,
          0.013005108022247754,
          0.0
         ],
         "yaxis": "y",
         "type": "scatter"
        },
        {
         "hoverinfo": "text",
         "marker": {
          "color": "rgb(133,20,75)"
         },
         "mode": "lines",
         "x": [
          2095.0,
          2095.0,
          2105.0,
          2105.0
         ],
         "xaxis": "x",
         "y": [
          0.0,
          0.013196321049843435,
          0.013196321049843435,
          0.0
         ],
         "yaxis": "y",
         "type": "scatter"
        },
        {
         "hoverinfo": "text",
         "marker": {
          "color": "rgb(133,20,75)"
         },
         "mode": "lines",
         "x": [
          2080.0,
          2080.0,
          2100.0,
          2100.0
         ],
         "xaxis": "x",
         "y": [
          0.013005108022247754,
          0.02070782223177838,
          0.02070782223177838,
          0.013196321049843435
         ],
         "yaxis": "y",
         "type": "scatter"
        },
        {
         "hoverinfo": "text",
         "marker": {
          "color": "rgb(133,20,75)"
         },
         "mode": "lines",
         "x": [
          2060.0,
          2060.0,
          2090.0,
          2090.0
         ],
         "xaxis": "x",
         "y": [
          0.019195602751612754,
          0.034700846918175605,
          0.034700846918175605,
          0.02070782223177838
         ],
         "yaxis": "y",
         "type": "scatter"
        },
        {
         "hoverinfo": "text",
         "marker": {
          "color": "rgb(133,20,75)"
         },
         "mode": "lines",
         "x": [
          2115.0,
          2115.0,
          2125.0,
          2125.0
         ],
         "xaxis": "x",
         "y": [
          0.0,
          0.018271717309018543,
          0.018271717309018543,
          0.0
         ],
         "yaxis": "y",
         "type": "scatter"
        },
        {
         "hoverinfo": "text",
         "marker": {
          "color": "rgb(133,20,75)"
         },
         "mode": "lines",
         "x": [
          2145.0,
          2145.0,
          2155.0,
          2155.0
         ],
         "xaxis": "x",
         "y": [
          0.0,
          0.020064866801373604,
          0.020064866801373604,
          0.0
         ],
         "yaxis": "y",
         "type": "scatter"
        },
        {
         "hoverinfo": "text",
         "marker": {
          "color": "rgb(133,20,75)"
         },
         "mode": "lines",
         "x": [
          2135.0,
          2135.0,
          2150.0,
          2150.0
         ],
         "xaxis": "x",
         "y": [
          0.0,
          0.027229940565347128,
          0.027229940565347128,
          0.020064866801373604
         ],
         "yaxis": "y",
         "type": "scatter"
        },
        {
         "hoverinfo": "text",
         "marker": {
          "color": "rgb(133,20,75)"
         },
         "mode": "lines",
         "x": [
          2120.0,
          2120.0,
          2142.5,
          2142.5
         ],
         "xaxis": "x",
         "y": [
          0.018271717309018543,
          0.04836477362017991,
          0.04836477362017991,
          0.027229940565347128
         ],
         "yaxis": "y",
         "type": "scatter"
        },
        {
         "hoverinfo": "text",
         "marker": {
          "color": "rgb(133,20,75)"
         },
         "mode": "lines",
         "x": [
          2075.0,
          2075.0,
          2131.25,
          2131.25
         ],
         "xaxis": "x",
         "y": [
          0.034700846918175605,
          0.053890668934264925,
          0.053890668934264925,
          0.04836477362017991
         ],
         "yaxis": "y",
         "type": "scatter"
        },
        {
         "hoverinfo": "text",
         "marker": {
          "color": "rgb(133,20,75)"
         },
         "mode": "lines",
         "x": [
          2175.0,
          2175.0,
          2185.0,
          2185.0
         ],
         "xaxis": "x",
         "y": [
          0.0,
          0.04502708047771026,
          0.04502708047771026,
          0.0
         ],
         "yaxis": "y",
         "type": "scatter"
        },
        {
         "hoverinfo": "text",
         "marker": {
          "color": "rgb(133,20,75)"
         },
         "mode": "lines",
         "x": [
          2165.0,
          2165.0,
          2180.0,
          2180.0
         ],
         "xaxis": "x",
         "y": [
          0.0,
          0.058101008921068904,
          0.058101008921068904,
          0.04502708047771026
         ],
         "yaxis": "y",
         "type": "scatter"
        },
        {
         "hoverinfo": "text",
         "marker": {
          "color": "rgb(133,20,75)"
         },
         "mode": "lines",
         "x": [
          2103.125,
          2103.125,
          2172.5,
          2172.5
         ],
         "xaxis": "x",
         "y": [
          0.053890668934264925,
          0.098786415419829,
          0.098786415419829,
          0.058101008921068904
         ],
         "yaxis": "y",
         "type": "scatter"
        },
        {
         "hoverinfo": "text",
         "marker": {
          "color": "rgb(133,20,75)"
         },
         "mode": "lines",
         "x": [
          1995.0,
          1995.0,
          2137.8125,
          2137.8125
         ],
         "xaxis": "x",
         "y": [
          0.09129493136697374,
          0.1333188480882661,
          0.1333188480882661,
          0.098786415419829
         ],
         "yaxis": "y",
         "type": "scatter"
        },
        {
         "hoverinfo": "text",
         "marker": {
          "color": "rgb(133,20,75)"
         },
         "mode": "lines",
         "x": [
          2195.0,
          2195.0,
          2205.0,
          2205.0
         ],
         "xaxis": "x",
         "y": [
          0.0,
          0.046898699966399254,
          0.046898699966399254,
          0.0
         ],
         "yaxis": "y",
         "type": "scatter"
        },
        {
         "hoverinfo": "text",
         "marker": {
          "color": "rgb(133,20,75)"
         },
         "mode": "lines",
         "x": [
          2225.0,
          2225.0,
          2235.0,
          2235.0
         ],
         "xaxis": "x",
         "y": [
          0.0,
          0.01787625590520693,
          0.01787625590520693,
          0.0
         ],
         "yaxis": "y",
         "type": "scatter"
        },
        {
         "hoverinfo": "text",
         "marker": {
          "color": "rgb(133,20,75)"
         },
         "mode": "lines",
         "x": [
          2215.0,
          2215.0,
          2230.0,
          2230.0
         ],
         "xaxis": "x",
         "y": [
          0.0,
          0.03199323957186198,
          0.03199323957186198,
          0.01787625590520693
         ],
         "yaxis": "y",
         "type": "scatter"
        },
        {
         "hoverinfo": "text",
         "marker": {
          "color": "rgb(133,20,75)"
         },
         "mode": "lines",
         "x": [
          2265.0,
          2265.0,
          2275.0,
          2275.0
         ],
         "xaxis": "x",
         "y": [
          0.0,
          0.030314748734050614,
          0.030314748734050614,
          0.0
         ],
         "yaxis": "y",
         "type": "scatter"
        },
        {
         "hoverinfo": "text",
         "marker": {
          "color": "rgb(133,20,75)"
         },
         "mode": "lines",
         "x": [
          2255.0,
          2255.0,
          2270.0,
          2270.0
         ],
         "xaxis": "x",
         "y": [
          0.0,
          0.03386889425273244,
          0.03386889425273244,
          0.030314748734050614
         ],
         "yaxis": "y",
         "type": "scatter"
        },
        {
         "hoverinfo": "text",
         "marker": {
          "color": "rgb(133,20,75)"
         },
         "mode": "lines",
         "x": [
          2245.0,
          2245.0,
          2262.5,
          2262.5
         ],
         "xaxis": "x",
         "y": [
          0.0,
          0.046490821391411044,
          0.046490821391411044,
          0.03386889425273244
         ],
         "yaxis": "y",
         "type": "scatter"
        },
        {
         "hoverinfo": "text",
         "marker": {
          "color": "rgb(133,20,75)"
         },
         "mode": "lines",
         "x": [
          2222.5,
          2222.5,
          2253.75,
          2253.75
         ],
         "xaxis": "x",
         "y": [
          0.03199323957186198,
          0.058641487854644354,
          0.058641487854644354,
          0.046490821391411044
         ],
         "yaxis": "y",
         "type": "scatter"
        },
        {
         "hoverinfo": "text",
         "marker": {
          "color": "rgb(133,20,75)"
         },
         "mode": "lines",
         "x": [
          2200.0,
          2200.0,
          2238.125,
          2238.125
         ],
         "xaxis": "x",
         "y": [
          0.046898699966399254,
          0.06641577025416308,
          0.06641577025416308,
          0.058641487854644354
         ],
         "yaxis": "y",
         "type": "scatter"
        },
        {
         "hoverinfo": "text",
         "marker": {
          "color": "rgb(133,20,75)"
         },
         "mode": "lines",
         "x": [
          2285.0,
          2285.0,
          2295.0,
          2295.0
         ],
         "xaxis": "x",
         "y": [
          0.0,
          0.03293275882297875,
          0.03293275882297875,
          0.0
         ],
         "yaxis": "y",
         "type": "scatter"
        },
        {
         "hoverinfo": "text",
         "marker": {
          "color": "rgb(133,20,75)"
         },
         "mode": "lines",
         "x": [
          2315.0,
          2315.0,
          2325.0,
          2325.0
         ],
         "xaxis": "x",
         "y": [
          0.0,
          0.020155302723690878,
          0.020155302723690878,
          0.0
         ],
         "yaxis": "y",
         "type": "scatter"
        },
        {
         "hoverinfo": "text",
         "marker": {
          "color": "rgb(133,20,75)"
         },
         "mode": "lines",
         "x": [
          2305.0,
          2305.0,
          2320.0,
          2320.0
         ],
         "xaxis": "x",
         "y": [
          0.0,
          0.03310527832158159,
          0.03310527832158159,
          0.020155302723690878
         ],
         "yaxis": "y",
         "type": "scatter"
        },
        {
         "hoverinfo": "text",
         "marker": {
          "color": "rgb(133,20,75)"
         },
         "mode": "lines",
         "x": [
          2290.0,
          2290.0,
          2312.5,
          2312.5
         ],
         "xaxis": "x",
         "y": [
          0.03293275882297875,
          0.04945632515445541,
          0.04945632515445541,
          0.03310527832158159
         ],
         "yaxis": "y",
         "type": "scatter"
        },
        {
         "hoverinfo": "text",
         "marker": {
          "color": "rgb(133,20,75)"
         },
         "mode": "lines",
         "x": [
          2355.0,
          2355.0,
          2365.0,
          2365.0
         ],
         "xaxis": "x",
         "y": [
          0.0,
          0.027025892872522755,
          0.027025892872522755,
          0.0
         ],
         "yaxis": "y",
         "type": "scatter"
        },
        {
         "hoverinfo": "text",
         "marker": {
          "color": "rgb(133,20,75)"
         },
         "mode": "lines",
         "x": [
          2345.0,
          2345.0,
          2360.0,
          2360.0
         ],
         "xaxis": "x",
         "y": [
          0.0,
          0.04366310882089464,
          0.04366310882089464,
          0.027025892872522755
         ],
         "yaxis": "y",
         "type": "scatter"
        },
        {
         "hoverinfo": "text",
         "marker": {
          "color": "rgb(133,20,75)"
         },
         "mode": "lines",
         "x": [
          2335.0,
          2335.0,
          2352.5,
          2352.5
         ],
         "xaxis": "x",
         "y": [
          0.0,
          0.056516842443160756,
          0.056516842443160756,
          0.04366310882089464
         ],
         "yaxis": "y",
         "type": "scatter"
        },
        {
         "hoverinfo": "text",
         "marker": {
          "color": "rgb(133,20,75)"
         },
         "mode": "lines",
         "x": [
          2385.0,
          2385.0,
          2395.0,
          2395.0
         ],
         "xaxis": "x",
         "y": [
          0.0,
          0.02780906202189447,
          0.02780906202189447,
          0.0
         ],
         "yaxis": "y",
         "type": "scatter"
        },
        {
         "hoverinfo": "text",
         "marker": {
          "color": "rgb(133,20,75)"
         },
         "mode": "lines",
         "x": [
          2375.0,
          2375.0,
          2390.0,
          2390.0
         ],
         "xaxis": "x",
         "y": [
          0.0,
          0.03991172948514618,
          0.03991172948514618,
          0.02780906202189447
         ],
         "yaxis": "y",
         "type": "scatter"
        },
        {
         "hoverinfo": "text",
         "marker": {
          "color": "rgb(133,20,75)"
         },
         "mode": "lines",
         "x": [
          2425.0,
          2425.0,
          2435.0,
          2435.0
         ],
         "xaxis": "x",
         "y": [
          0.0,
          0.017929461261432796,
          0.017929461261432796,
          0.0
         ],
         "yaxis": "y",
         "type": "scatter"
        },
        {
         "hoverinfo": "text",
         "marker": {
          "color": "rgb(133,20,75)"
         },
         "mode": "lines",
         "x": [
          2415.0,
          2415.0,
          2430.0,
          2430.0
         ],
         "xaxis": "x",
         "y": [
          0.0,
          0.026725093803270736,
          0.026725093803270736,
          0.017929461261432796
         ],
         "yaxis": "y",
         "type": "scatter"
        },
        {
         "hoverinfo": "text",
         "marker": {
          "color": "rgb(133,20,75)"
         },
         "mode": "lines",
         "x": [
          2405.0,
          2405.0,
          2422.5,
          2422.5
         ],
         "xaxis": "x",
         "y": [
          0.0,
          0.04412014640575472,
          0.04412014640575472,
          0.026725093803270736
         ],
         "yaxis": "y",
         "type": "scatter"
        },
        {
         "hoverinfo": "text",
         "marker": {
          "color": "rgb(133,20,75)"
         },
         "mode": "lines",
         "x": [
          2382.5,
          2382.5,
          2413.75,
          2413.75
         ],
         "xaxis": "x",
         "y": [
          0.03991172948514618,
          0.06733139294907609,
          0.06733139294907609,
          0.04412014640575472
         ],
         "yaxis": "y",
         "type": "scatter"
        },
        {
         "hoverinfo": "text",
         "marker": {
          "color": "rgb(133,20,75)"
         },
         "mode": "lines",
         "x": [
          2343.75,
          2343.75,
          2398.125,
          2398.125
         ],
         "xaxis": "x",
         "y": [
          0.056516842443160756,
          0.0849359417987392,
          0.0849359417987392,
          0.06733139294907609
         ],
         "yaxis": "y",
         "type": "scatter"
        },
        {
         "hoverinfo": "text",
         "marker": {
          "color": "rgb(133,20,75)"
         },
         "mode": "lines",
         "x": [
          2301.25,
          2301.25,
          2370.9375,
          2370.9375
         ],
         "xaxis": "x",
         "y": [
          0.04945632515445541,
          0.09871530819244638,
          0.09871530819244638,
          0.0849359417987392
         ],
         "yaxis": "y",
         "type": "scatter"
        },
        {
         "hoverinfo": "text",
         "marker": {
          "color": "rgb(133,20,75)"
         },
         "mode": "lines",
         "x": [
          2219.0625,
          2219.0625,
          2336.09375,
          2336.09375
         ],
         "xaxis": "x",
         "y": [
          0.06641577025416308,
          0.10644154764401192,
          0.10644154764401192,
          0.09871530819244638
         ],
         "yaxis": "y",
         "type": "scatter"
        },
        {
         "hoverinfo": "text",
         "marker": {
          "color": "rgb(133,20,75)"
         },
         "mode": "lines",
         "x": [
          2455.0,
          2455.0,
          2465.0,
          2465.0
         ],
         "xaxis": "x",
         "y": [
          0.0,
          0.022923869901563483,
          0.022923869901563483,
          0.0
         ],
         "yaxis": "y",
         "type": "scatter"
        },
        {
         "hoverinfo": "text",
         "marker": {
          "color": "rgb(133,20,75)"
         },
         "mode": "lines",
         "x": [
          2445.0,
          2445.0,
          2460.0,
          2460.0
         ],
         "xaxis": "x",
         "y": [
          0.0,
          0.04458303339303365,
          0.04458303339303365,
          0.022923869901563483
         ],
         "yaxis": "y",
         "type": "scatter"
        },
        {
         "hoverinfo": "text",
         "marker": {
          "color": "rgb(133,20,75)"
         },
         "mode": "lines",
         "x": [
          2475.0,
          2475.0,
          2485.0,
          2485.0
         ],
         "xaxis": "x",
         "y": [
          0.0,
          0.05371129148625256,
          0.05371129148625256,
          0.0
         ],
         "yaxis": "y",
         "type": "scatter"
        },
        {
         "hoverinfo": "text",
         "marker": {
          "color": "rgb(133,20,75)"
         },
         "mode": "lines",
         "x": [
          2452.5,
          2452.5,
          2480.0,
          2480.0
         ],
         "xaxis": "x",
         "y": [
          0.04458303339303365,
          0.06819953105394744,
          0.06819953105394744,
          0.05371129148625256
         ],
         "yaxis": "y",
         "type": "scatter"
        },
        {
         "hoverinfo": "text",
         "marker": {
          "color": "rgb(133,20,75)"
         },
         "mode": "lines",
         "x": [
          2505.0,
          2505.0,
          2515.0,
          2515.0
         ],
         "xaxis": "x",
         "y": [
          0.0,
          0.02235749145776996,
          0.02235749145776996,
          0.0
         ],
         "yaxis": "y",
         "type": "scatter"
        },
        {
         "hoverinfo": "text",
         "marker": {
          "color": "rgb(133,20,75)"
         },
         "mode": "lines",
         "x": [
          2495.0,
          2495.0,
          2510.0,
          2510.0
         ],
         "xaxis": "x",
         "y": [
          0.0,
          0.04834888027207711,
          0.04834888027207711,
          0.02235749145776996
         ],
         "yaxis": "y",
         "type": "scatter"
        },
        {
         "hoverinfo": "text",
         "marker": {
          "color": "rgb(133,20,75)"
         },
         "mode": "lines",
         "x": [
          2535.0,
          2535.0,
          2545.0,
          2545.0
         ],
         "xaxis": "x",
         "y": [
          0.0,
          0.032658599288989926,
          0.032658599288989926,
          0.0
         ],
         "yaxis": "y",
         "type": "scatter"
        },
        {
         "hoverinfo": "text",
         "marker": {
          "color": "rgb(133,20,75)"
         },
         "mode": "lines",
         "x": [
          2525.0,
          2525.0,
          2540.0,
          2540.0
         ],
         "xaxis": "x",
         "y": [
          0.0,
          0.057094189965489164,
          0.057094189965489164,
          0.032658599288989926
         ],
         "yaxis": "y",
         "type": "scatter"
        },
        {
         "hoverinfo": "text",
         "marker": {
          "color": "rgb(133,20,75)"
         },
         "mode": "lines",
         "x": [
          2502.5,
          2502.5,
          2532.5,
          2532.5
         ],
         "xaxis": "x",
         "y": [
          0.04834888027207711,
          0.08300880322910573,
          0.08300880322910573,
          0.057094189965489164
         ],
         "yaxis": "y",
         "type": "scatter"
        },
        {
         "hoverinfo": "text",
         "marker": {
          "color": "rgb(133,20,75)"
         },
         "mode": "lines",
         "x": [
          2466.25,
          2466.25,
          2517.5,
          2517.5
         ],
         "xaxis": "x",
         "y": [
          0.06819953105394744,
          0.1090218644977955,
          0.1090218644977955,
          0.08300880322910573
         ],
         "yaxis": "y",
         "type": "scatter"
        },
        {
         "hoverinfo": "text",
         "marker": {
          "color": "rgb(133,20,75)"
         },
         "mode": "lines",
         "x": [
          2277.578125,
          2277.578125,
          2491.875,
          2491.875
         ],
         "xaxis": "x",
         "y": [
          0.10644154764401192,
          0.1337999020434764,
          0.1337999020434764,
          0.1090218644977955
         ],
         "yaxis": "y",
         "type": "scatter"
        },
        {
         "hoverinfo": "text",
         "marker": {
          "color": "rgb(133,20,75)"
         },
         "mode": "lines",
         "x": [
          2066.40625,
          2066.40625,
          2384.7265625,
          2384.7265625
         ],
         "xaxis": "x",
         "y": [
          0.1333188480882661,
          0.16192495172950244,
          0.16192495172950244,
          0.1337999020434764
         ],
         "yaxis": "y",
         "type": "scatter"
        },
        {
         "hoverinfo": "text",
         "marker": {
          "color": "rgb(133,20,75)"
         },
         "mode": "lines",
         "x": [
          1706.328125,
          1706.328125,
          2225.56640625,
          2225.56640625
         ],
         "xaxis": "x",
         "y": [
          0.16109706869400378,
          0.19078070934389413,
          0.19078070934389413,
          0.16192495172950244
         ],
         "yaxis": "y",
         "type": "scatter"
        },
        {
         "hoverinfo": "text",
         "marker": {
          "color": "rgb(133,20,75)"
         },
         "mode": "lines",
         "x": [
          2565.0,
          2565.0,
          2575.0,
          2575.0
         ],
         "xaxis": "x",
         "y": [
          0.0,
          0.02406712549385463,
          0.02406712549385463,
          0.0
         ],
         "yaxis": "y",
         "type": "scatter"
        },
        {
         "hoverinfo": "text",
         "marker": {
          "color": "rgb(133,20,75)"
         },
         "mode": "lines",
         "x": [
          2555.0,
          2555.0,
          2570.0,
          2570.0
         ],
         "xaxis": "x",
         "y": [
          0.0,
          0.055857215755099957,
          0.055857215755099957,
          0.02406712549385463
         ],
         "yaxis": "y",
         "type": "scatter"
        },
        {
         "hoverinfo": "text",
         "marker": {
          "color": "rgb(133,20,75)"
         },
         "mode": "lines",
         "x": [
          2585.0,
          2585.0,
          2595.0,
          2595.0
         ],
         "xaxis": "x",
         "y": [
          0.0,
          0.036157069491220634,
          0.036157069491220634,
          0.0
         ],
         "yaxis": "y",
         "type": "scatter"
        },
        {
         "hoverinfo": "text",
         "marker": {
          "color": "rgb(133,20,75)"
         },
         "mode": "lines",
         "x": [
          2625.0,
          2625.0,
          2635.0,
          2635.0
         ],
         "xaxis": "x",
         "y": [
          0.0,
          0.01929678428400643,
          0.01929678428400643,
          0.0
         ],
         "yaxis": "y",
         "type": "scatter"
        },
        {
         "hoverinfo": "text",
         "marker": {
          "color": "rgb(133,20,75)"
         },
         "mode": "lines",
         "x": [
          2615.0,
          2615.0,
          2630.0,
          2630.0
         ],
         "xaxis": "x",
         "y": [
          0.0,
          0.036747883195874784,
          0.036747883195874784,
          0.01929678428400643
         ],
         "yaxis": "y",
         "type": "scatter"
        },
        {
         "hoverinfo": "text",
         "marker": {
          "color": "rgb(133,20,75)"
         },
         "mode": "lines",
         "x": [
          2605.0,
          2605.0,
          2622.5,
          2622.5
         ],
         "xaxis": "x",
         "y": [
          0.0,
          0.051383456864044615,
          0.051383456864044615,
          0.036747883195874784
         ],
         "yaxis": "y",
         "type": "scatter"
        },
        {
         "hoverinfo": "text",
         "marker": {
          "color": "rgb(133,20,75)"
         },
         "mode": "lines",
         "x": [
          2590.0,
          2590.0,
          2613.75,
          2613.75
         ],
         "xaxis": "x",
         "y": [
          0.036157069491220634,
          0.07073439423915208,
          0.07073439423915208,
          0.051383456864044615
         ],
         "yaxis": "y",
         "type": "scatter"
        },
        {
         "hoverinfo": "text",
         "marker": {
          "color": "rgb(133,20,75)"
         },
         "mode": "lines",
         "x": [
          2562.5,
          2562.5,
          2601.875,
          2601.875
         ],
         "xaxis": "x",
         "y": [
          0.055857215755099957,
          0.07448028402185723,
          0.07448028402185723,
          0.07073439423915208
         ],
         "yaxis": "y",
         "type": "scatter"
        },
        {
         "hoverinfo": "text",
         "marker": {
          "color": "rgb(133,20,75)"
         },
         "mode": "lines",
         "x": [
          2655.0,
          2655.0,
          2665.0,
          2665.0
         ],
         "xaxis": "x",
         "y": [
          0.0,
          0.0357894436204849,
          0.0357894436204849,
          0.0
         ],
         "yaxis": "y",
         "type": "scatter"
        },
        {
         "hoverinfo": "text",
         "marker": {
          "color": "rgb(133,20,75)"
         },
         "mode": "lines",
         "x": [
          2645.0,
          2645.0,
          2660.0,
          2660.0
         ],
         "xaxis": "x",
         "y": [
          0.0,
          0.04184958997890312,
          0.04184958997890312,
          0.0357894436204849
         ],
         "yaxis": "y",
         "type": "scatter"
        },
        {
         "hoverinfo": "text",
         "marker": {
          "color": "rgb(133,20,75)"
         },
         "mode": "lines",
         "x": [
          2675.0,
          2675.0,
          2685.0,
          2685.0
         ],
         "xaxis": "x",
         "y": [
          0.0,
          0.028374000294816883,
          0.028374000294816883,
          0.0
         ],
         "yaxis": "y",
         "type": "scatter"
        },
        {
         "hoverinfo": "text",
         "marker": {
          "color": "rgb(133,20,75)"
         },
         "mode": "lines",
         "x": [
          2695.0,
          2695.0,
          2705.0,
          2705.0
         ],
         "xaxis": "x",
         "y": [
          0.0,
          0.04058867907207826,
          0.04058867907207826,
          0.0
         ],
         "yaxis": "y",
         "type": "scatter"
        },
        {
         "hoverinfo": "text",
         "marker": {
          "color": "rgb(133,20,75)"
         },
         "mode": "lines",
         "x": [
          2680.0,
          2680.0,
          2700.0,
          2700.0
         ],
         "xaxis": "x",
         "y": [
          0.028374000294816883,
          0.058129898638080824,
          0.058129898638080824,
          0.04058867907207826
         ],
         "yaxis": "y",
         "type": "scatter"
        },
        {
         "hoverinfo": "text",
         "marker": {
          "color": "rgb(133,20,75)"
         },
         "mode": "lines",
         "x": [
          2725.0,
          2725.0,
          2735.0,
          2735.0
         ],
         "xaxis": "x",
         "y": [
          0.0,
          0.016238680077755436,
          0.016238680077755436,
          0.0
         ],
         "yaxis": "y",
         "type": "scatter"
        },
        {
         "hoverinfo": "text",
         "marker": {
          "color": "rgb(133,20,75)"
         },
         "mode": "lines",
         "x": [
          2715.0,
          2715.0,
          2730.0,
          2730.0
         ],
         "xaxis": "x",
         "y": [
          0.0,
          0.036428855892480544,
          0.036428855892480544,
          0.016238680077755436
         ],
         "yaxis": "y",
         "type": "scatter"
        },
        {
         "hoverinfo": "text",
         "marker": {
          "color": "rgb(133,20,75)"
         },
         "mode": "lines",
         "x": [
          2755.0,
          2755.0,
          2765.0,
          2765.0
         ],
         "xaxis": "x",
         "y": [
          0.0,
          0.026945802574403405,
          0.026945802574403405,
          0.0
         ],
         "yaxis": "y",
         "type": "scatter"
        },
        {
         "hoverinfo": "text",
         "marker": {
          "color": "rgb(133,20,75)"
         },
         "mode": "lines",
         "x": [
          2745.0,
          2745.0,
          2760.0,
          2760.0
         ],
         "xaxis": "x",
         "y": [
          0.0,
          0.05023859598480024,
          0.05023859598480024,
          0.026945802574403405
         ],
         "yaxis": "y",
         "type": "scatter"
        },
        {
         "hoverinfo": "text",
         "marker": {
          "color": "rgb(133,20,75)"
         },
         "mode": "lines",
         "x": [
          2722.5,
          2722.5,
          2752.5,
          2752.5
         ],
         "xaxis": "x",
         "y": [
          0.036428855892480544,
          0.06699035304211733,
          0.06699035304211733,
          0.05023859598480024
         ],
         "yaxis": "y",
         "type": "scatter"
        },
        {
         "hoverinfo": "text",
         "marker": {
          "color": "rgb(133,20,75)"
         },
         "mode": "lines",
         "x": [
          2690.0,
          2690.0,
          2737.5,
          2737.5
         ],
         "xaxis": "x",
         "y": [
          0.058129898638080824,
          0.08110746056841373,
          0.08110746056841373,
          0.06699035304211733
         ],
         "yaxis": "y",
         "type": "scatter"
        },
        {
         "hoverinfo": "text",
         "marker": {
          "color": "rgb(133,20,75)"
         },
         "mode": "lines",
         "x": [
          2652.5,
          2652.5,
          2713.75,
          2713.75
         ],
         "xaxis": "x",
         "y": [
          0.04184958997890312,
          0.08482132594373218,
          0.08482132594373218,
          0.08110746056841373
         ],
         "yaxis": "y",
         "type": "scatter"
        },
        {
         "hoverinfo": "text",
         "marker": {
          "color": "rgb(133,20,75)"
         },
         "mode": "lines",
         "x": [
          2775.0,
          2775.0,
          2785.0,
          2785.0
         ],
         "xaxis": "x",
         "y": [
          0.0,
          0.044230568717681565,
          0.044230568717681565,
          0.0
         ],
         "yaxis": "y",
         "type": "scatter"
        },
        {
         "hoverinfo": "text",
         "marker": {
          "color": "rgb(133,20,75)"
         },
         "mode": "lines",
         "x": [
          2795.0,
          2795.0,
          2805.0,
          2805.0
         ],
         "xaxis": "x",
         "y": [
          0.0,
          0.04432811493077896,
          0.04432811493077896,
          0.0
         ],
         "yaxis": "y",
         "type": "scatter"
        },
        {
         "hoverinfo": "text",
         "marker": {
          "color": "rgb(133,20,75)"
         },
         "mode": "lines",
         "x": [
          2780.0,
          2780.0,
          2800.0,
          2800.0
         ],
         "xaxis": "x",
         "y": [
          0.044230568717681565,
          0.08649092879532881,
          0.08649092879532881,
          0.04432811493077896
         ],
         "yaxis": "y",
         "type": "scatter"
        },
        {
         "hoverinfo": "text",
         "marker": {
          "color": "rgb(133,20,75)"
         },
         "mode": "lines",
         "x": [
          2683.125,
          2683.125,
          2790.0,
          2790.0
         ],
         "xaxis": "x",
         "y": [
          0.08482132594373218,
          0.10633720595682143,
          0.10633720595682143,
          0.08649092879532881
         ],
         "yaxis": "y",
         "type": "scatter"
        },
        {
         "hoverinfo": "text",
         "marker": {
          "color": "rgb(133,20,75)"
         },
         "mode": "lines",
         "x": [
          2582.1875,
          2582.1875,
          2736.5625,
          2736.5625
         ],
         "xaxis": "x",
         "y": [
          0.07448028402185723,
          0.1333862176185833,
          0.1333862176185833,
          0.10633720595682143
         ],
         "yaxis": "y",
         "type": "scatter"
        },
        {
         "hoverinfo": "text",
         "marker": {
          "color": "rgb(133,20,75)"
         },
         "mode": "lines",
         "x": [
          2815.0,
          2815.0,
          2825.0,
          2825.0
         ],
         "xaxis": "x",
         "y": [
          0.0,
          0.034544440837691544,
          0.034544440837691544,
          0.0
         ],
         "yaxis": "y",
         "type": "scatter"
        },
        {
         "hoverinfo": "text",
         "marker": {
          "color": "rgb(133,20,75)"
         },
         "mode": "lines",
         "x": [
          2855.0,
          2855.0,
          2865.0,
          2865.0
         ],
         "xaxis": "x",
         "y": [
          0.0,
          0.016468041296645555,
          0.016468041296645555,
          0.0
         ],
         "yaxis": "y",
         "type": "scatter"
        },
        {
         "hoverinfo": "text",
         "marker": {
          "color": "rgb(133,20,75)"
         },
         "mode": "lines",
         "x": [
          2845.0,
          2845.0,
          2860.0,
          2860.0
         ],
         "xaxis": "x",
         "y": [
          0.0,
          0.024869505018602512,
          0.024869505018602512,
          0.016468041296645555
         ],
         "yaxis": "y",
         "type": "scatter"
        },
        {
         "hoverinfo": "text",
         "marker": {
          "color": "rgb(133,20,75)"
         },
         "mode": "lines",
         "x": [
          2835.0,
          2835.0,
          2852.5,
          2852.5
         ],
         "xaxis": "x",
         "y": [
          0.0,
          0.042851145684132445,
          0.042851145684132445,
          0.024869505018602512
         ],
         "yaxis": "y",
         "type": "scatter"
        },
        {
         "hoverinfo": "text",
         "marker": {
          "color": "rgb(133,20,75)"
         },
         "mode": "lines",
         "x": [
          2820.0,
          2820.0,
          2843.75,
          2843.75
         ],
         "xaxis": "x",
         "y": [
          0.034544440837691544,
          0.05136979175696549,
          0.05136979175696549,
          0.042851145684132445
         ],
         "yaxis": "y",
         "type": "scatter"
        },
        {
         "hoverinfo": "text",
         "marker": {
          "color": "rgb(133,20,75)"
         },
         "mode": "lines",
         "x": [
          2885.0,
          2885.0,
          2895.0,
          2895.0
         ],
         "xaxis": "x",
         "y": [
          0.0,
          0.024259040089885,
          0.024259040089885,
          0.0
         ],
         "yaxis": "y",
         "type": "scatter"
        },
        {
         "hoverinfo": "text",
         "marker": {
          "color": "rgb(133,20,75)"
         },
         "mode": "lines",
         "x": [
          2915.0,
          2915.0,
          2925.0,
          2925.0
         ],
         "xaxis": "x",
         "y": [
          0.0,
          0.026599328286370516,
          0.026599328286370516,
          0.0
         ],
         "yaxis": "y",
         "type": "scatter"
        },
        {
         "hoverinfo": "text",
         "marker": {
          "color": "rgb(133,20,75)"
         },
         "mode": "lines",
         "x": [
          2905.0,
          2905.0,
          2920.0,
          2920.0
         ],
         "xaxis": "x",
         "y": [
          0.0,
          0.03422690975742278,
          0.03422690975742278,
          0.026599328286370516
         ],
         "yaxis": "y",
         "type": "scatter"
        },
        {
         "hoverinfo": "text",
         "marker": {
          "color": "rgb(133,20,75)"
         },
         "mode": "lines",
         "x": [
          2890.0,
          2890.0,
          2912.5,
          2912.5
         ],
         "xaxis": "x",
         "y": [
          0.024259040089885,
          0.043162762986707064,
          0.043162762986707064,
          0.03422690975742278
         ],
         "yaxis": "y",
         "type": "scatter"
        },
        {
         "hoverinfo": "text",
         "marker": {
          "color": "rgb(133,20,75)"
         },
         "mode": "lines",
         "x": [
          2875.0,
          2875.0,
          2901.25,
          2901.25
         ],
         "xaxis": "x",
         "y": [
          0.0,
          0.05761509059030773,
          0.05761509059030773,
          0.043162762986707064
         ],
         "yaxis": "y",
         "type": "scatter"
        },
        {
         "hoverinfo": "text",
         "marker": {
          "color": "rgb(133,20,75)"
         },
         "mode": "lines",
         "x": [
          2831.875,
          2831.875,
          2888.125,
          2888.125
         ],
         "xaxis": "x",
         "y": [
          0.05136979175696549,
          0.08195929350481712,
          0.08195929350481712,
          0.05761509059030773
         ],
         "yaxis": "y",
         "type": "scatter"
        },
        {
         "hoverinfo": "text",
         "marker": {
          "color": "rgb(133,20,75)"
         },
         "mode": "lines",
         "x": [
          2945.0,
          2945.0,
          2955.0,
          2955.0
         ],
         "xaxis": "x",
         "y": [
          0.0,
          0.04298122700818469,
          0.04298122700818469,
          0.0
         ],
         "yaxis": "y",
         "type": "scatter"
        },
        {
         "hoverinfo": "text",
         "marker": {
          "color": "rgb(133,20,75)"
         },
         "mode": "lines",
         "x": [
          2935.0,
          2935.0,
          2950.0,
          2950.0
         ],
         "xaxis": "x",
         "y": [
          0.0,
          0.04495676565149058,
          0.04495676565149058,
          0.04298122700818469
         ],
         "yaxis": "y",
         "type": "scatter"
        },
        {
         "hoverinfo": "text",
         "marker": {
          "color": "rgb(133,20,75)"
         },
         "mode": "lines",
         "x": [
          2975.0,
          2975.0,
          2985.0,
          2985.0
         ],
         "xaxis": "x",
         "y": [
          0.0,
          0.028334153070645574,
          0.028334153070645574,
          0.0
         ],
         "yaxis": "y",
         "type": "scatter"
        },
        {
         "hoverinfo": "text",
         "marker": {
          "color": "rgb(133,20,75)"
         },
         "mode": "lines",
         "x": [
          2995.0,
          2995.0,
          3005.0,
          3005.0
         ],
         "xaxis": "x",
         "y": [
          0.0,
          0.029060455736607406,
          0.029060455736607406,
          0.0
         ],
         "yaxis": "y",
         "type": "scatter"
        },
        {
         "hoverinfo": "text",
         "marker": {
          "color": "rgb(133,20,75)"
         },
         "mode": "lines",
         "x": [
          2980.0,
          2980.0,
          3000.0,
          3000.0
         ],
         "xaxis": "x",
         "y": [
          0.028334153070645574,
          0.05360781113436121,
          0.05360781113436121,
          0.029060455736607406
         ],
         "yaxis": "y",
         "type": "scatter"
        },
        {
         "hoverinfo": "text",
         "marker": {
          "color": "rgb(133,20,75)"
         },
         "mode": "lines",
         "x": [
          2965.0,
          2965.0,
          2990.0,
          2990.0
         ],
         "xaxis": "x",
         "y": [
          0.0,
          0.06786409231129216,
          0.06786409231129216,
          0.05360781113436121
         ],
         "yaxis": "y",
         "type": "scatter"
        },
        {
         "hoverinfo": "text",
         "marker": {
          "color": "rgb(133,20,75)"
         },
         "mode": "lines",
         "x": [
          2942.5,
          2942.5,
          2977.5,
          2977.5
         ],
         "xaxis": "x",
         "y": [
          0.04495676565149058,
          0.09085908685491377,
          0.09085908685491377,
          0.06786409231129216
         ],
         "yaxis": "y",
         "type": "scatter"
        },
        {
         "hoverinfo": "text",
         "marker": {
          "color": "rgb(133,20,75)"
         },
         "mode": "lines",
         "x": [
          3015.0,
          3015.0,
          3025.0,
          3025.0
         ],
         "xaxis": "x",
         "y": [
          0.0,
          0.024032709419137904,
          0.024032709419137904,
          0.0
         ],
         "yaxis": "y",
         "type": "scatter"
        },
        {
         "hoverinfo": "text",
         "marker": {
          "color": "rgb(133,20,75)"
         },
         "mode": "lines",
         "x": [
          3035.0,
          3035.0,
          3045.0,
          3045.0
         ],
         "xaxis": "x",
         "y": [
          0.0,
          0.030941881034395817,
          0.030941881034395817,
          0.0
         ],
         "yaxis": "y",
         "type": "scatter"
        },
        {
         "hoverinfo": "text",
         "marker": {
          "color": "rgb(133,20,75)"
         },
         "mode": "lines",
         "x": [
          3020.0,
          3020.0,
          3040.0,
          3040.0
         ],
         "xaxis": "x",
         "y": [
          0.024032709419137904,
          0.05109212207253904,
          0.05109212207253904,
          0.030941881034395817
         ],
         "yaxis": "y",
         "type": "scatter"
        },
        {
         "hoverinfo": "text",
         "marker": {
          "color": "rgb(133,20,75)"
         },
         "mode": "lines",
         "x": [
          3065.0,
          3065.0,
          3075.0,
          3075.0
         ],
         "xaxis": "x",
         "y": [
          0.0,
          0.013061360354721345,
          0.013061360354721345,
          0.0
         ],
         "yaxis": "y",
         "type": "scatter"
        },
        {
         "hoverinfo": "text",
         "marker": {
          "color": "rgb(133,20,75)"
         },
         "mode": "lines",
         "x": [
          3055.0,
          3055.0,
          3070.0,
          3070.0
         ],
         "xaxis": "x",
         "y": [
          0.0,
          0.03623975919925986,
          0.03623975919925986,
          0.013061360354721345
         ],
         "yaxis": "y",
         "type": "scatter"
        },
        {
         "hoverinfo": "text",
         "marker": {
          "color": "rgb(133,20,75)"
         },
         "mode": "lines",
         "x": [
          3085.0,
          3085.0,
          3095.0,
          3095.0
         ],
         "xaxis": "x",
         "y": [
          0.0,
          0.033077410824108075,
          0.033077410824108075,
          0.0
         ],
         "yaxis": "y",
         "type": "scatter"
        },
        {
         "hoverinfo": "text",
         "marker": {
          "color": "rgb(133,20,75)"
         },
         "mode": "lines",
         "x": [
          3115.0,
          3115.0,
          3125.0,
          3125.0
         ],
         "xaxis": "x",
         "y": [
          0.0,
          0.02898247768078894,
          0.02898247768078894,
          0.0
         ],
         "yaxis": "y",
         "type": "scatter"
        },
        {
         "hoverinfo": "text",
         "marker": {
          "color": "rgb(133,20,75)"
         },
         "mode": "lines",
         "x": [
          3105.0,
          3105.0,
          3120.0,
          3120.0
         ],
         "xaxis": "x",
         "y": [
          0.0,
          0.043603781548559505,
          0.043603781548559505,
          0.02898247768078894
         ],
         "yaxis": "y",
         "type": "scatter"
        },
        {
         "hoverinfo": "text",
         "marker": {
          "color": "rgb(133,20,75)"
         },
         "mode": "lines",
         "x": [
          3090.0,
          3090.0,
          3112.5,
          3112.5
         ],
         "xaxis": "x",
         "y": [
          0.033077410824108075,
          0.058740762683174415,
          0.058740762683174415,
          0.043603781548559505
         ],
         "yaxis": "y",
         "type": "scatter"
        },
        {
         "hoverinfo": "text",
         "marker": {
          "color": "rgb(133,20,75)"
         },
         "mode": "lines",
         "x": [
          3062.5,
          3062.5,
          3101.25,
          3101.25
         ],
         "xaxis": "x",
         "y": [
          0.03623975919925986,
          0.07674750615962689,
          0.07674750615962689,
          0.058740762683174415
         ],
         "yaxis": "y",
         "type": "scatter"
        },
        {
         "hoverinfo": "text",
         "marker": {
          "color": "rgb(133,20,75)"
         },
         "mode": "lines",
         "x": [
          3030.0,
          3030.0,
          3081.875,
          3081.875
         ],
         "xaxis": "x",
         "y": [
          0.05109212207253904,
          0.10127696600516142,
          0.10127696600516142,
          0.07674750615962689
         ],
         "yaxis": "y",
         "type": "scatter"
        },
        {
         "hoverinfo": "text",
         "marker": {
          "color": "rgb(133,20,75)"
         },
         "mode": "lines",
         "x": [
          2960.0,
          2960.0,
          3055.9375,
          3055.9375
         ],
         "xaxis": "x",
         "y": [
          0.09085908685491377,
          0.10737559550425005,
          0.10737559550425005,
          0.10127696600516142
         ],
         "yaxis": "y",
         "type": "scatter"
        },
        {
         "hoverinfo": "text",
         "marker": {
          "color": "rgb(133,20,75)"
         },
         "mode": "lines",
         "x": [
          2860.0,
          2860.0,
          3007.96875,
          3007.96875
         ],
         "xaxis": "x",
         "y": [
          0.08195929350481712,
          0.13768612913507103,
          0.13768612913507103,
          0.10737559550425005
         ],
         "yaxis": "y",
         "type": "scatter"
        },
        {
         "hoverinfo": "text",
         "marker": {
          "color": "rgb(133,20,75)"
         },
         "mode": "lines",
         "x": [
          2659.375,
          2659.375,
          2933.984375,
          2933.984375
         ],
         "xaxis": "x",
         "y": [
          0.1333862176185833,
          0.1926091138823866,
          0.1926091138823866,
          0.13768612913507103
         ],
         "yaxis": "y",
         "type": "scatter"
        },
        {
         "hoverinfo": "text",
         "marker": {
          "color": "rgb(133,20,75)"
         },
         "mode": "lines",
         "x": [
          1965.947265625,
          1965.947265625,
          2796.6796875,
          2796.6796875
         ],
         "xaxis": "x",
         "y": [
          0.19078070934389413,
          0.24225209740951317,
          0.24225209740951317,
          0.1926091138823866
         ],
         "yaxis": "y",
         "type": "scatter"
        },
        {
         "hoverinfo": "text",
         "marker": {
          "color": "rgb(133,20,75)"
         },
         "mode": "lines",
         "x": [
          1313.3984375,
          1313.3984375,
          2381.3134765625,
          2381.3134765625
         ],
         "xaxis": "x",
         "y": [
          0.1671262008626486,
          0.26554255349930356,
          0.26554255349930356,
          0.24225209740951317
         ],
         "yaxis": "y",
         "type": "scatter"
        },
        {
         "hoverinfo": "text",
         "marker": {
          "color": "rgb(133,20,75)"
         },
         "mode": "lines",
         "x": [
          1062.65625,
          1062.65625,
          1847.35595703125,
          1847.35595703125
         ],
         "xaxis": "x",
         "y": [
          0.22554993524745973,
          0.3385040161446434,
          0.3385040161446434,
          0.26554255349930356
         ],
         "yaxis": "y",
         "type": "scatter"
        },
        {
         "hoverinfo": "text",
         "marker": {
          "color": "rgb(133,20,75)"
         },
         "mode": "lines",
         "x": [
          3145.0,
          3145.0,
          3155.0,
          3155.0
         ],
         "xaxis": "x",
         "y": [
          0.0,
          0.04431951098586958,
          0.04431951098586958,
          0.0
         ],
         "yaxis": "y",
         "type": "scatter"
        },
        {
         "hoverinfo": "text",
         "marker": {
          "color": "rgb(133,20,75)"
         },
         "mode": "lines",
         "x": [
          3165.0,
          3165.0,
          3175.0,
          3175.0
         ],
         "xaxis": "x",
         "y": [
          0.0,
          0.04517589388270189,
          0.04517589388270189,
          0.0
         ],
         "yaxis": "y",
         "type": "scatter"
        },
        {
         "hoverinfo": "text",
         "marker": {
          "color": "rgb(133,20,75)"
         },
         "mode": "lines",
         "x": [
          3150.0,
          3150.0,
          3170.0,
          3170.0
         ],
         "xaxis": "x",
         "y": [
          0.04431951098586958,
          0.07103678962864007,
          0.07103678962864007,
          0.04517589388270189
         ],
         "yaxis": "y",
         "type": "scatter"
        },
        {
         "hoverinfo": "text",
         "marker": {
          "color": "rgb(133,20,75)"
         },
         "mode": "lines",
         "x": [
          3135.0,
          3135.0,
          3160.0,
          3160.0
         ],
         "xaxis": "x",
         "y": [
          0.0,
          0.09517846683567922,
          0.09517846683567922,
          0.07103678962864007
         ],
         "yaxis": "y",
         "type": "scatter"
        },
        {
         "hoverinfo": "text",
         "marker": {
          "color": "rgb(133,20,75)"
         },
         "mode": "lines",
         "x": [
          3195.0,
          3195.0,
          3205.0,
          3205.0
         ],
         "xaxis": "x",
         "y": [
          0.0,
          0.026084327317477816,
          0.026084327317477816,
          0.0
         ],
         "yaxis": "y",
         "type": "scatter"
        },
        {
         "hoverinfo": "text",
         "marker": {
          "color": "rgb(133,20,75)"
         },
         "mode": "lines",
         "x": [
          3185.0,
          3185.0,
          3200.0,
          3200.0
         ],
         "xaxis": "x",
         "y": [
          0.0,
          0.04297951559565529,
          0.04297951559565529,
          0.026084327317477816
         ],
         "yaxis": "y",
         "type": "scatter"
        },
        {
         "hoverinfo": "text",
         "marker": {
          "color": "rgb(133,20,75)"
         },
         "mode": "lines",
         "x": [
          3215.0,
          3215.0,
          3225.0,
          3225.0
         ],
         "xaxis": "x",
         "y": [
          0.0,
          0.053204396358213675,
          0.053204396358213675,
          0.0
         ],
         "yaxis": "y",
         "type": "scatter"
        },
        {
         "hoverinfo": "text",
         "marker": {
          "color": "rgb(133,20,75)"
         },
         "mode": "lines",
         "x": [
          3235.0,
          3235.0,
          3245.0,
          3245.0
         ],
         "xaxis": "x",
         "y": [
          0.0,
          0.04337005864287401,
          0.04337005864287401,
          0.0
         ],
         "yaxis": "y",
         "type": "scatter"
        },
        {
         "hoverinfo": "text",
         "marker": {
          "color": "rgb(133,20,75)"
         },
         "mode": "lines",
         "x": [
          3255.0,
          3255.0,
          3265.0,
          3265.0
         ],
         "xaxis": "x",
         "y": [
          0.0,
          0.046770104790376674,
          0.046770104790376674,
          0.0
         ],
         "yaxis": "y",
         "type": "scatter"
        },
        {
         "hoverinfo": "text",
         "marker": {
          "color": "rgb(133,20,75)"
         },
         "mode": "lines",
         "x": [
          3240.0,
          3240.0,
          3260.0,
          3260.0
         ],
         "xaxis": "x",
         "y": [
          0.04337005864287401,
          0.06470944944726668,
          0.06470944944726668,
          0.046770104790376674
         ],
         "yaxis": "y",
         "type": "scatter"
        },
        {
         "hoverinfo": "text",
         "marker": {
          "color": "rgb(133,20,75)"
         },
         "mode": "lines",
         "x": [
          3220.0,
          3220.0,
          3250.0,
          3250.0
         ],
         "xaxis": "x",
         "y": [
          0.053204396358213675,
          0.08978286862413899,
          0.08978286862413899,
          0.06470944944726668
         ],
         "yaxis": "y",
         "type": "scatter"
        },
        {
         "hoverinfo": "text",
         "marker": {
          "color": "rgb(133,20,75)"
         },
         "mode": "lines",
         "x": [
          3192.5,
          3192.5,
          3235.0,
          3235.0
         ],
         "xaxis": "x",
         "y": [
          0.04297951559565529,
          0.11001388549065237,
          0.11001388549065237,
          0.08978286862413899
         ],
         "yaxis": "y",
         "type": "scatter"
        },
        {
         "hoverinfo": "text",
         "marker": {
          "color": "rgb(133,20,75)"
         },
         "mode": "lines",
         "x": [
          3147.5,
          3147.5,
          3213.75,
          3213.75
         ],
         "xaxis": "x",
         "y": [
          0.09517846683567922,
          0.1462820871710155,
          0.1462820871710155,
          0.11001388549065237
         ],
         "yaxis": "y",
         "type": "scatter"
        },
        {
         "hoverinfo": "text",
         "marker": {
          "color": "rgb(133,20,75)"
         },
         "mode": "lines",
         "x": [
          3295.0,
          3295.0,
          3305.0,
          3305.0
         ],
         "xaxis": "x",
         "y": [
          0.0,
          0.03756293233366231,
          0.03756293233366231,
          0.0
         ],
         "yaxis": "y",
         "type": "scatter"
        },
        {
         "hoverinfo": "text",
         "marker": {
          "color": "rgb(133,20,75)"
         },
         "mode": "lines",
         "x": [
          3285.0,
          3285.0,
          3300.0,
          3300.0
         ],
         "xaxis": "x",
         "y": [
          0.0,
          0.051160626233933616,
          0.051160626233933616,
          0.03756293233366231
         ],
         "yaxis": "y",
         "type": "scatter"
        },
        {
         "hoverinfo": "text",
         "marker": {
          "color": "rgb(133,20,75)"
         },
         "mode": "lines",
         "x": [
          3275.0,
          3275.0,
          3292.5,
          3292.5
         ],
         "xaxis": "x",
         "y": [
          0.0,
          0.05805377310636529,
          0.05805377310636529,
          0.051160626233933616
         ],
         "yaxis": "y",
         "type": "scatter"
        },
        {
         "hoverinfo": "text",
         "marker": {
          "color": "rgb(133,20,75)"
         },
         "mode": "lines",
         "x": [
          3335.0,
          3335.0,
          3345.0,
          3345.0
         ],
         "xaxis": "x",
         "y": [
          0.0,
          0.02499908949179196,
          0.02499908949179196,
          0.0
         ],
         "yaxis": "y",
         "type": "scatter"
        },
        {
         "hoverinfo": "text",
         "marker": {
          "color": "rgb(133,20,75)"
         },
         "mode": "lines",
         "x": [
          3325.0,
          3325.0,
          3340.0,
          3340.0
         ],
         "xaxis": "x",
         "y": [
          0.0,
          0.037761967076635726,
          0.037761967076635726,
          0.02499908949179196
         ],
         "yaxis": "y",
         "type": "scatter"
        },
        {
         "hoverinfo": "text",
         "marker": {
          "color": "rgb(133,20,75)"
         },
         "mode": "lines",
         "x": [
          3315.0,
          3315.0,
          3332.5,
          3332.5
         ],
         "xaxis": "x",
         "y": [
          0.0,
          0.04063754571178126,
          0.04063754571178126,
          0.037761967076635726
         ],
         "yaxis": "y",
         "type": "scatter"
        },
        {
         "hoverinfo": "text",
         "marker": {
          "color": "rgb(133,20,75)"
         },
         "mode": "lines",
         "x": [
          3355.0,
          3355.0,
          3365.0,
          3365.0
         ],
         "xaxis": "x",
         "y": [
          0.0,
          0.05418488593009143,
          0.05418488593009143,
          0.0
         ],
         "yaxis": "y",
         "type": "scatter"
        },
        {
         "hoverinfo": "text",
         "marker": {
          "color": "rgb(133,20,75)"
         },
         "mode": "lines",
         "x": [
          3323.75,
          3323.75,
          3360.0,
          3360.0
         ],
         "xaxis": "x",
         "y": [
          0.04063754571178126,
          0.06725365116733187,
          0.06725365116733187,
          0.05418488593009143
         ],
         "yaxis": "y",
         "type": "scatter"
        },
        {
         "hoverinfo": "text",
         "marker": {
          "color": "rgb(133,20,75)"
         },
         "mode": "lines",
         "x": [
          3375.0,
          3375.0,
          3385.0,
          3385.0
         ],
         "xaxis": "x",
         "y": [
          0.0,
          0.024895892818478274,
          0.024895892818478274,
          0.0
         ],
         "yaxis": "y",
         "type": "scatter"
        },
        {
         "hoverinfo": "text",
         "marker": {
          "color": "rgb(133,20,75)"
         },
         "mode": "lines",
         "x": [
          3395.0,
          3395.0,
          3405.0,
          3405.0
         ],
         "xaxis": "x",
         "y": [
          0.0,
          0.02984283560872167,
          0.02984283560872167,
          0.0
         ],
         "yaxis": "y",
         "type": "scatter"
        },
        {
         "hoverinfo": "text",
         "marker": {
          "color": "rgb(133,20,75)"
         },
         "mode": "lines",
         "x": [
          3380.0,
          3380.0,
          3400.0,
          3400.0
         ],
         "xaxis": "x",
         "y": [
          0.024895892818478274,
          0.047325636635536766,
          0.047325636635536766,
          0.02984283560872167
         ],
         "yaxis": "y",
         "type": "scatter"
        },
        {
         "hoverinfo": "text",
         "marker": {
          "color": "rgb(133,20,75)"
         },
         "mode": "lines",
         "x": [
          3415.0,
          3415.0,
          3425.0,
          3425.0
         ],
         "xaxis": "x",
         "y": [
          0.0,
          0.025120113077680993,
          0.025120113077680993,
          0.0
         ],
         "yaxis": "y",
         "type": "scatter"
        },
        {
         "hoverinfo": "text",
         "marker": {
          "color": "rgb(133,20,75)"
         },
         "mode": "lines",
         "x": [
          3435.0,
          3435.0,
          3445.0,
          3445.0
         ],
         "xaxis": "x",
         "y": [
          0.0,
          0.04232635679563515,
          0.04232635679563515,
          0.0
         ],
         "yaxis": "y",
         "type": "scatter"
        },
        {
         "hoverinfo": "text",
         "marker": {
          "color": "rgb(133,20,75)"
         },
         "mode": "lines",
         "x": [
          3420.0,
          3420.0,
          3440.0,
          3440.0
         ],
         "xaxis": "x",
         "y": [
          0.025120113077680993,
          0.06471247717572663,
          0.06471247717572663,
          0.04232635679563515
         ],
         "yaxis": "y",
         "type": "scatter"
        },
        {
         "hoverinfo": "text",
         "marker": {
          "color": "rgb(133,20,75)"
         },
         "mode": "lines",
         "x": [
          3390.0,
          3390.0,
          3430.0,
          3430.0
         ],
         "xaxis": "x",
         "y": [
          0.047325636635536766,
          0.08273562163961447,
          0.08273562163961447,
          0.06471247717572663
         ],
         "yaxis": "y",
         "type": "scatter"
        },
        {
         "hoverinfo": "text",
         "marker": {
          "color": "rgb(133,20,75)"
         },
         "mode": "lines",
         "x": [
          3341.875,
          3341.875,
          3410.0,
          3410.0
         ],
         "xaxis": "x",
         "y": [
          0.06725365116733187,
          0.09026652746661837,
          0.09026652746661837,
          0.08273562163961447
         ],
         "yaxis": "y",
         "type": "scatter"
        },
        {
         "hoverinfo": "text",
         "marker": {
          "color": "rgb(133,20,75)"
         },
         "mode": "lines",
         "x": [
          3283.75,
          3283.75,
          3375.9375,
          3375.9375
         ],
         "xaxis": "x",
         "y": [
          0.05805377310636529,
          0.12350486481111385,
          0.12350486481111385,
          0.09026652746661837
         ],
         "yaxis": "y",
         "type": "scatter"
        },
        {
         "hoverinfo": "text",
         "marker": {
          "color": "rgb(133,20,75)"
         },
         "mode": "lines",
         "x": [
          3475.0,
          3475.0,
          3485.0,
          3485.0
         ],
         "xaxis": "x",
         "y": [
          0.0,
          0.04625861417513959,
          0.04625861417513959,
          0.0
         ],
         "yaxis": "y",
         "type": "scatter"
        },
        {
         "hoverinfo": "text",
         "marker": {
          "color": "rgb(133,20,75)"
         },
         "mode": "lines",
         "x": [
          3465.0,
          3465.0,
          3480.0,
          3480.0
         ],
         "xaxis": "x",
         "y": [
          0.0,
          0.050877253347742006,
          0.050877253347742006,
          0.04625861417513959
         ],
         "yaxis": "y",
         "type": "scatter"
        },
        {
         "hoverinfo": "text",
         "marker": {
          "color": "rgb(133,20,75)"
         },
         "mode": "lines",
         "x": [
          3455.0,
          3455.0,
          3472.5,
          3472.5
         ],
         "xaxis": "x",
         "y": [
          0.0,
          0.08131989096590324,
          0.08131989096590324,
          0.050877253347742006
         ],
         "yaxis": "y",
         "type": "scatter"
        },
        {
         "hoverinfo": "text",
         "marker": {
          "color": "rgb(133,20,75)"
         },
         "mode": "lines",
         "x": [
          3505.0,
          3505.0,
          3515.0,
          3515.0
         ],
         "xaxis": "x",
         "y": [
          0.0,
          0.026642615984801506,
          0.026642615984801506,
          0.0
         ],
         "yaxis": "y",
         "type": "scatter"
        },
        {
         "hoverinfo": "text",
         "marker": {
          "color": "rgb(133,20,75)"
         },
         "mode": "lines",
         "x": [
          3495.0,
          3495.0,
          3510.0,
          3510.0
         ],
         "xaxis": "x",
         "y": [
          0.0,
          0.04450348132759616,
          0.04450348132759616,
          0.026642615984801506
         ],
         "yaxis": "y",
         "type": "scatter"
        },
        {
         "hoverinfo": "text",
         "marker": {
          "color": "rgb(133,20,75)"
         },
         "mode": "lines",
         "x": [
          3525.0,
          3525.0,
          3535.0,
          3535.0
         ],
         "xaxis": "x",
         "y": [
          0.0,
          0.06972165168182443,
          0.06972165168182443,
          0.0
         ],
         "yaxis": "y",
         "type": "scatter"
        },
        {
         "hoverinfo": "text",
         "marker": {
          "color": "rgb(133,20,75)"
         },
         "mode": "lines",
         "x": [
          3502.5,
          3502.5,
          3530.0,
          3530.0
         ],
         "xaxis": "x",
         "y": [
          0.04450348132759616,
          0.07475238058362738,
          0.07475238058362738,
          0.06972165168182443
         ],
         "yaxis": "y",
         "type": "scatter"
        },
        {
         "hoverinfo": "text",
         "marker": {
          "color": "rgb(133,20,75)"
         },
         "mode": "lines",
         "x": [
          3545.0,
          3545.0,
          3555.0,
          3555.0
         ],
         "xaxis": "x",
         "y": [
          0.0,
          0.03171602170789482,
          0.03171602170789482,
          0.0
         ],
         "yaxis": "y",
         "type": "scatter"
        },
        {
         "hoverinfo": "text",
         "marker": {
          "color": "rgb(133,20,75)"
         },
         "mode": "lines",
         "x": [
          3565.0,
          3565.0,
          3575.0,
          3575.0
         ],
         "xaxis": "x",
         "y": [
          0.0,
          0.057191787601493016,
          0.057191787601493016,
          0.0
         ],
         "yaxis": "y",
         "type": "scatter"
        },
        {
         "hoverinfo": "text",
         "marker": {
          "color": "rgb(133,20,75)"
         },
         "mode": "lines",
         "x": [
          3550.0,
          3550.0,
          3570.0,
          3570.0
         ],
         "xaxis": "x",
         "y": [
          0.03171602170789482,
          0.07599317443843487,
          0.07599317443843487,
          0.057191787601493016
         ],
         "yaxis": "y",
         "type": "scatter"
        },
        {
         "hoverinfo": "text",
         "marker": {
          "color": "rgb(133,20,75)"
         },
         "mode": "lines",
         "x": [
          3516.25,
          3516.25,
          3560.0,
          3560.0
         ],
         "xaxis": "x",
         "y": [
          0.07475238058362738,
          0.11053849865600374,
          0.11053849865600374,
          0.07599317443843487
         ],
         "yaxis": "y",
         "type": "scatter"
        },
        {
         "hoverinfo": "text",
         "marker": {
          "color": "rgb(133,20,75)"
         },
         "mode": "lines",
         "x": [
          3463.75,
          3463.75,
          3538.125,
          3538.125
         ],
         "xaxis": "x",
         "y": [
          0.08131989096590324,
          0.13296979187659286,
          0.13296979187659286,
          0.11053849865600374
         ],
         "yaxis": "y",
         "type": "scatter"
        },
        {
         "hoverinfo": "text",
         "marker": {
          "color": "rgb(133,20,75)"
         },
         "mode": "lines",
         "x": [
          3329.84375,
          3329.84375,
          3500.9375,
          3500.9375
         ],
         "xaxis": "x",
         "y": [
          0.12350486481111385,
          0.15670265914221848,
          0.15670265914221848,
          0.13296979187659286
         ],
         "yaxis": "y",
         "type": "scatter"
        },
        {
         "hoverinfo": "text",
         "marker": {
          "color": "rgb(133,20,75)"
         },
         "mode": "lines",
         "x": [
          3180.625,
          3180.625,
          3415.390625,
          3415.390625
         ],
         "xaxis": "x",
         "y": [
          0.1462820871710155,
          0.1759767621117148,
          0.1759767621117148,
          0.15670265914221848
         ],
         "yaxis": "y",
         "type": "scatter"
        },
        {
         "hoverinfo": "text",
         "marker": {
          "color": "rgb(133,20,75)"
         },
         "mode": "lines",
         "x": [
          3585.0,
          3585.0,
          3595.0,
          3595.0
         ],
         "xaxis": "x",
         "y": [
          0.0,
          0.04028856475470823,
          0.04028856475470823,
          0.0
         ],
         "yaxis": "y",
         "type": "scatter"
        },
        {
         "hoverinfo": "text",
         "marker": {
          "color": "rgb(133,20,75)"
         },
         "mode": "lines",
         "x": [
          3605.0,
          3605.0,
          3615.0,
          3615.0
         ],
         "xaxis": "x",
         "y": [
          0.0,
          0.05444427306776434,
          0.05444427306776434,
          0.0
         ],
         "yaxis": "y",
         "type": "scatter"
        },
        {
         "hoverinfo": "text",
         "marker": {
          "color": "rgb(133,20,75)"
         },
         "mode": "lines",
         "x": [
          3590.0,
          3590.0,
          3610.0,
          3610.0
         ],
         "xaxis": "x",
         "y": [
          0.04028856475470823,
          0.08663643591004873,
          0.08663643591004873,
          0.05444427306776434
         ],
         "yaxis": "y",
         "type": "scatter"
        },
        {
         "hoverinfo": "text",
         "marker": {
          "color": "rgb(133,20,75)"
         },
         "mode": "lines",
         "x": [
          3625.0,
          3625.0,
          3635.0,
          3635.0
         ],
         "xaxis": "x",
         "y": [
          0.0,
          0.022809015329036685,
          0.022809015329036685,
          0.0
         ],
         "yaxis": "y",
         "type": "scatter"
        },
        {
         "hoverinfo": "text",
         "marker": {
          "color": "rgb(133,20,75)"
         },
         "mode": "lines",
         "x": [
          3645.0,
          3645.0,
          3655.0,
          3655.0
         ],
         "xaxis": "x",
         "y": [
          0.0,
          0.051746531159907315,
          0.051746531159907315,
          0.0
         ],
         "yaxis": "y",
         "type": "scatter"
        },
        {
         "hoverinfo": "text",
         "marker": {
          "color": "rgb(133,20,75)"
         },
         "mode": "lines",
         "x": [
          3630.0,
          3630.0,
          3650.0,
          3650.0
         ],
         "xaxis": "x",
         "y": [
          0.022809015329036685,
          0.08985101560125225,
          0.08985101560125225,
          0.051746531159907315
         ],
         "yaxis": "y",
         "type": "scatter"
        },
        {
         "hoverinfo": "text",
         "marker": {
          "color": "rgb(133,20,75)"
         },
         "mode": "lines",
         "x": [
          3600.0,
          3600.0,
          3640.0,
          3640.0
         ],
         "xaxis": "x",
         "y": [
          0.08663643591004873,
          0.11841582518633911,
          0.11841582518633911,
          0.08985101560125225
         ],
         "yaxis": "y",
         "type": "scatter"
        },
        {
         "hoverinfo": "text",
         "marker": {
          "color": "rgb(133,20,75)"
         },
         "mode": "lines",
         "x": [
          3675.0,
          3675.0,
          3685.0,
          3685.0
         ],
         "xaxis": "x",
         "y": [
          0.0,
          0.05288621515344356,
          0.05288621515344356,
          0.0
         ],
         "yaxis": "y",
         "type": "scatter"
        },
        {
         "hoverinfo": "text",
         "marker": {
          "color": "rgb(133,20,75)"
         },
         "mode": "lines",
         "x": [
          3665.0,
          3665.0,
          3680.0,
          3680.0
         ],
         "xaxis": "x",
         "y": [
          0.0,
          0.07679693266297626,
          0.07679693266297626,
          0.05288621515344356
         ],
         "yaxis": "y",
         "type": "scatter"
        },
        {
         "hoverinfo": "text",
         "marker": {
          "color": "rgb(133,20,75)"
         },
         "mode": "lines",
         "x": [
          3695.0,
          3695.0,
          3705.0,
          3705.0
         ],
         "xaxis": "x",
         "y": [
          0.0,
          0.04030292335237414,
          0.04030292335237414,
          0.0
         ],
         "yaxis": "y",
         "type": "scatter"
        },
        {
         "hoverinfo": "text",
         "marker": {
          "color": "rgb(133,20,75)"
         },
         "mode": "lines",
         "x": [
          3715.0,
          3715.0,
          3725.0,
          3725.0
         ],
         "xaxis": "x",
         "y": [
          0.0,
          0.05111451435646057,
          0.05111451435646057,
          0.0
         ],
         "yaxis": "y",
         "type": "scatter"
        },
        {
         "hoverinfo": "text",
         "marker": {
          "color": "rgb(133,20,75)"
         },
         "mode": "lines",
         "x": [
          3700.0,
          3700.0,
          3720.0,
          3720.0
         ],
         "xaxis": "x",
         "y": [
          0.04030292335237414,
          0.07453041082970699,
          0.07453041082970699,
          0.05111451435646057
         ],
         "yaxis": "y",
         "type": "scatter"
        },
        {
         "hoverinfo": "text",
         "marker": {
          "color": "rgb(133,20,75)"
         },
         "mode": "lines",
         "x": [
          3735.0,
          3735.0,
          3745.0,
          3745.0
         ],
         "xaxis": "x",
         "y": [
          0.0,
          0.054863072637747375,
          0.054863072637747375,
          0.0
         ],
         "yaxis": "y",
         "type": "scatter"
        },
        {
         "hoverinfo": "text",
         "marker": {
          "color": "rgb(133,20,75)"
         },
         "mode": "lines",
         "x": [
          3765.0,
          3765.0,
          3775.0,
          3775.0
         ],
         "xaxis": "x",
         "y": [
          0.0,
          0.036434987020590184,
          0.036434987020590184,
          0.0
         ],
         "yaxis": "y",
         "type": "scatter"
        },
        {
         "hoverinfo": "text",
         "marker": {
          "color": "rgb(133,20,75)"
         },
         "mode": "lines",
         "x": [
          3755.0,
          3755.0,
          3770.0,
          3770.0
         ],
         "xaxis": "x",
         "y": [
          0.0,
          0.060307290093085275,
          0.060307290093085275,
          0.036434987020590184
         ],
         "yaxis": "y",
         "type": "scatter"
        },
        {
         "hoverinfo": "text",
         "marker": {
          "color": "rgb(133,20,75)"
         },
         "mode": "lines",
         "x": [
          3740.0,
          3740.0,
          3762.5,
          3762.5
         ],
         "xaxis": "x",
         "y": [
          0.054863072637747375,
          0.09325304575606243,
          0.09325304575606243,
          0.060307290093085275
         ],
         "yaxis": "y",
         "type": "scatter"
        },
        {
         "hoverinfo": "text",
         "marker": {
          "color": "rgb(133,20,75)"
         },
         "mode": "lines",
         "x": [
          3710.0,
          3710.0,
          3751.25,
          3751.25
         ],
         "xaxis": "x",
         "y": [
          0.07453041082970699,
          0.11427498419237428,
          0.11427498419237428,
          0.09325304575606243
         ],
         "yaxis": "y",
         "type": "scatter"
        },
        {
         "hoverinfo": "text",
         "marker": {
          "color": "rgb(133,20,75)"
         },
         "mode": "lines",
         "x": [
          3672.5,
          3672.5,
          3730.625,
          3730.625
         ],
         "xaxis": "x",
         "y": [
          0.07679693266297626,
          0.1553166182822459,
          0.1553166182822459,
          0.11427498419237428
         ],
         "yaxis": "y",
         "type": "scatter"
        },
        {
         "hoverinfo": "text",
         "marker": {
          "color": "rgb(133,20,75)"
         },
         "mode": "lines",
         "x": [
          3620.0,
          3620.0,
          3701.5625,
          3701.5625
         ],
         "xaxis": "x",
         "y": [
          0.11841582518633911,
          0.2010630981473478,
          0.2010630981473478,
          0.1553166182822459
         ],
         "yaxis": "y",
         "type": "scatter"
        },
        {
         "hoverinfo": "text",
         "marker": {
          "color": "rgb(133,20,75)"
         },
         "mode": "lines",
         "x": [
          3298.0078125,
          3298.0078125,
          3660.78125,
          3660.78125
         ],
         "xaxis": "x",
         "y": [
          0.1759767621117148,
          0.23968867566004215,
          0.23968867566004215,
          0.2010630981473478
         ],
         "yaxis": "y",
         "type": "scatter"
        },
        {
         "hoverinfo": "text",
         "marker": {
          "color": "rgb(133,20,75)"
         },
         "mode": "lines",
         "x": [
          3805.0,
          3805.0,
          3815.0,
          3815.0
         ],
         "xaxis": "x",
         "y": [
          0.0,
          0.06924481061567177,
          0.06924481061567177,
          0.0
         ],
         "yaxis": "y",
         "type": "scatter"
        },
        {
         "hoverinfo": "text",
         "marker": {
          "color": "rgb(133,20,75)"
         },
         "mode": "lines",
         "x": [
          3795.0,
          3795.0,
          3810.0,
          3810.0
         ],
         "xaxis": "x",
         "y": [
          0.0,
          0.0986052195018458,
          0.0986052195018458,
          0.06924481061567177
         ],
         "yaxis": "y",
         "type": "scatter"
        },
        {
         "hoverinfo": "text",
         "marker": {
          "color": "rgb(133,20,75)"
         },
         "mode": "lines",
         "x": [
          3785.0,
          3785.0,
          3802.5,
          3802.5
         ],
         "xaxis": "x",
         "y": [
          0.0,
          0.10189226328087103,
          0.10189226328087103,
          0.0986052195018458
         ],
         "yaxis": "y",
         "type": "scatter"
        },
        {
         "hoverinfo": "text",
         "marker": {
          "color": "rgb(133,20,75)"
         },
         "mode": "lines",
         "x": [
          3835.0,
          3835.0,
          3845.0,
          3845.0
         ],
         "xaxis": "x",
         "y": [
          0.0,
          0.024642291698602322,
          0.024642291698602322,
          0.0
         ],
         "yaxis": "y",
         "type": "scatter"
        },
        {
         "hoverinfo": "text",
         "marker": {
          "color": "rgb(133,20,75)"
         },
         "mode": "lines",
         "x": [
          3825.0,
          3825.0,
          3840.0,
          3840.0
         ],
         "xaxis": "x",
         "y": [
          0.0,
          0.0490981824971884,
          0.0490981824971884,
          0.024642291698602322
         ],
         "yaxis": "y",
         "type": "scatter"
        },
        {
         "hoverinfo": "text",
         "marker": {
          "color": "rgb(133,20,75)"
         },
         "mode": "lines",
         "x": [
          3865.0,
          3865.0,
          3875.0,
          3875.0
         ],
         "xaxis": "x",
         "y": [
          0.0,
          0.029738031498513496,
          0.029738031498513496,
          0.0
         ],
         "yaxis": "y",
         "type": "scatter"
        },
        {
         "hoverinfo": "text",
         "marker": {
          "color": "rgb(133,20,75)"
         },
         "mode": "lines",
         "x": [
          3855.0,
          3855.0,
          3870.0,
          3870.0
         ],
         "xaxis": "x",
         "y": [
          0.0,
          0.05355908711171857,
          0.05355908711171857,
          0.029738031498513496
         ],
         "yaxis": "y",
         "type": "scatter"
        },
        {
         "hoverinfo": "text",
         "marker": {
          "color": "rgb(133,20,75)"
         },
         "mode": "lines",
         "x": [
          3832.5,
          3832.5,
          3862.5,
          3862.5
         ],
         "xaxis": "x",
         "y": [
          0.0490981824971884,
          0.10966698339277224,
          0.10966698339277224,
          0.05355908711171857
         ],
         "yaxis": "y",
         "type": "scatter"
        },
        {
         "hoverinfo": "text",
         "marker": {
          "color": "rgb(133,20,75)"
         },
         "mode": "lines",
         "x": [
          3793.75,
          3793.75,
          3847.5,
          3847.5
         ],
         "xaxis": "x",
         "y": [
          0.10189226328087103,
          0.16480259327330785,
          0.16480259327330785,
          0.10966698339277224
         ],
         "yaxis": "y",
         "type": "scatter"
        },
        {
         "hoverinfo": "text",
         "marker": {
          "color": "rgb(133,20,75)"
         },
         "mode": "lines",
         "x": [
          3885.0,
          3885.0,
          3895.0,
          3895.0
         ],
         "xaxis": "x",
         "y": [
          0.0,
          0.05522966771213958,
          0.05522966771213958,
          0.0
         ],
         "yaxis": "y",
         "type": "scatter"
        },
        {
         "hoverinfo": "text",
         "marker": {
          "color": "rgb(133,20,75)"
         },
         "mode": "lines",
         "x": [
          3905.0,
          3905.0,
          3915.0,
          3915.0
         ],
         "xaxis": "x",
         "y": [
          0.0,
          0.06615907371390951,
          0.06615907371390951,
          0.0
         ],
         "yaxis": "y",
         "type": "scatter"
        },
        {
         "hoverinfo": "text",
         "marker": {
          "color": "rgb(133,20,75)"
         },
         "mode": "lines",
         "x": [
          3935.0,
          3935.0,
          3945.0,
          3945.0
         ],
         "xaxis": "x",
         "y": [
          0.0,
          0.0496900096640047,
          0.0496900096640047,
          0.0
         ],
         "yaxis": "y",
         "type": "scatter"
        },
        {
         "hoverinfo": "text",
         "marker": {
          "color": "rgb(133,20,75)"
         },
         "mode": "lines",
         "x": [
          3925.0,
          3925.0,
          3940.0,
          3940.0
         ],
         "xaxis": "x",
         "y": [
          0.0,
          0.07848686854874082,
          0.07848686854874082,
          0.0496900096640047
         ],
         "yaxis": "y",
         "type": "scatter"
        },
        {
         "hoverinfo": "text",
         "marker": {
          "color": "rgb(133,20,75)"
         },
         "mode": "lines",
         "x": [
          3910.0,
          3910.0,
          3932.5,
          3932.5
         ],
         "xaxis": "x",
         "y": [
          0.06615907371390951,
          0.0886511189441191,
          0.0886511189441191,
          0.07848686854874082
         ],
         "yaxis": "y",
         "type": "scatter"
        },
        {
         "hoverinfo": "text",
         "marker": {
          "color": "rgb(133,20,75)"
         },
         "mode": "lines",
         "x": [
          3890.0,
          3890.0,
          3921.25,
          3921.25
         ],
         "xaxis": "x",
         "y": [
          0.05522966771213958,
          0.11089058883272615,
          0.11089058883272615,
          0.0886511189441191
         ],
         "yaxis": "y",
         "type": "scatter"
        },
        {
         "hoverinfo": "text",
         "marker": {
          "color": "rgb(133,20,75)"
         },
         "mode": "lines",
         "x": [
          3955.0,
          3955.0,
          3965.0,
          3965.0
         ],
         "xaxis": "x",
         "y": [
          0.0,
          0.06487019704472424,
          0.06487019704472424,
          0.0
         ],
         "yaxis": "y",
         "type": "scatter"
        },
        {
         "hoverinfo": "text",
         "marker": {
          "color": "rgb(133,20,75)"
         },
         "mode": "lines",
         "x": [
          3985.0,
          3985.0,
          3995.0,
          3995.0
         ],
         "xaxis": "x",
         "y": [
          0.0,
          0.03377321160081952,
          0.03377321160081952,
          0.0
         ],
         "yaxis": "y",
         "type": "scatter"
        },
        {
         "hoverinfo": "text",
         "marker": {
          "color": "rgb(133,20,75)"
         },
         "mode": "lines",
         "x": [
          3975.0,
          3975.0,
          3990.0,
          3990.0
         ],
         "xaxis": "x",
         "y": [
          0.0,
          0.06710849664585444,
          0.06710849664585444,
          0.03377321160081952
         ],
         "yaxis": "y",
         "type": "scatter"
        },
        {
         "hoverinfo": "text",
         "marker": {
          "color": "rgb(133,20,75)"
         },
         "mode": "lines",
         "x": [
          3960.0,
          3960.0,
          3982.5,
          3982.5
         ],
         "xaxis": "x",
         "y": [
          0.06487019704472424,
          0.09149372362144827,
          0.09149372362144827,
          0.06710849664585444
         ],
         "yaxis": "y",
         "type": "scatter"
        },
        {
         "hoverinfo": "text",
         "marker": {
          "color": "rgb(133,20,75)"
         },
         "mode": "lines",
         "x": [
          4005.0,
          4005.0,
          4015.0,
          4015.0
         ],
         "xaxis": "x",
         "y": [
          0.0,
          0.02791852976303928,
          0.02791852976303928,
          0.0
         ],
         "yaxis": "y",
         "type": "scatter"
        },
        {
         "hoverinfo": "text",
         "marker": {
          "color": "rgb(133,20,75)"
         },
         "mode": "lines",
         "x": [
          4035.0,
          4035.0,
          4045.0,
          4045.0
         ],
         "xaxis": "x",
         "y": [
          0.0,
          0.017954745687900644,
          0.017954745687900644,
          0.0
         ],
         "yaxis": "y",
         "type": "scatter"
        },
        {
         "hoverinfo": "text",
         "marker": {
          "color": "rgb(133,20,75)"
         },
         "mode": "lines",
         "x": [
          4025.0,
          4025.0,
          4040.0,
          4040.0
         ],
         "xaxis": "x",
         "y": [
          0.0,
          0.04167009708780413,
          0.04167009708780413,
          0.017954745687900644
         ],
         "yaxis": "y",
         "type": "scatter"
        },
        {
         "hoverinfo": "text",
         "marker": {
          "color": "rgb(133,20,75)"
         },
         "mode": "lines",
         "x": [
          4010.0,
          4010.0,
          4032.5,
          4032.5
         ],
         "xaxis": "x",
         "y": [
          0.02791852976303928,
          0.04900430892782929,
          0.04900430892782929,
          0.04167009708780413
         ],
         "yaxis": "y",
         "type": "scatter"
        },
        {
         "hoverinfo": "text",
         "marker": {
          "color": "rgb(133,20,75)"
         },
         "mode": "lines",
         "x": [
          4065.0,
          4065.0,
          4075.0,
          4075.0
         ],
         "xaxis": "x",
         "y": [
          0.0,
          0.04100671584478586,
          0.04100671584478586,
          0.0
         ],
         "yaxis": "y",
         "type": "scatter"
        },
        {
         "hoverinfo": "text",
         "marker": {
          "color": "rgb(133,20,75)"
         },
         "mode": "lines",
         "x": [
          4055.0,
          4055.0,
          4070.0,
          4070.0
         ],
         "xaxis": "x",
         "y": [
          0.0,
          0.06343389366616793,
          0.06343389366616793,
          0.04100671584478586
         ],
         "yaxis": "y",
         "type": "scatter"
        },
        {
         "hoverinfo": "text",
         "marker": {
          "color": "rgb(133,20,75)"
         },
         "mode": "lines",
         "x": [
          4021.25,
          4021.25,
          4062.5,
          4062.5
         ],
         "xaxis": "x",
         "y": [
          0.04900430892782929,
          0.09681811165940374,
          0.09681811165940374,
          0.06343389366616793
         ],
         "yaxis": "y",
         "type": "scatter"
        },
        {
         "hoverinfo": "text",
         "marker": {
          "color": "rgb(133,20,75)"
         },
         "mode": "lines",
         "x": [
          3971.25,
          3971.25,
          4041.875,
          4041.875
         ],
         "xaxis": "x",
         "y": [
          0.09149372362144827,
          0.1486474997223408,
          0.1486474997223408,
          0.09681811165940374
         ],
         "yaxis": "y",
         "type": "scatter"
        },
        {
         "hoverinfo": "text",
         "marker": {
          "color": "rgb(133,20,75)"
         },
         "mode": "lines",
         "x": [
          3905.625,
          3905.625,
          4006.5625,
          4006.5625
         ],
         "xaxis": "x",
         "y": [
          0.11089058883272615,
          0.1690309455457857,
          0.1690309455457857,
          0.1486474997223408
         ],
         "yaxis": "y",
         "type": "scatter"
        },
        {
         "hoverinfo": "text",
         "marker": {
          "color": "rgb(133,20,75)"
         },
         "mode": "lines",
         "x": [
          4095.0,
          4095.0,
          4105.0,
          4105.0
         ],
         "xaxis": "x",
         "y": [
          0.0,
          0.034507847923718284,
          0.034507847923718284,
          0.0
         ],
         "yaxis": "y",
         "type": "scatter"
        },
        {
         "hoverinfo": "text",
         "marker": {
          "color": "rgb(133,20,75)"
         },
         "mode": "lines",
         "x": [
          4085.0,
          4085.0,
          4100.0,
          4100.0
         ],
         "xaxis": "x",
         "y": [
          0.0,
          0.05147844399442472,
          0.05147844399442472,
          0.034507847923718284
         ],
         "yaxis": "y",
         "type": "scatter"
        },
        {
         "hoverinfo": "text",
         "marker": {
          "color": "rgb(133,20,75)"
         },
         "mode": "lines",
         "x": [
          4125.0,
          4125.0,
          4135.0,
          4135.0
         ],
         "xaxis": "x",
         "y": [
          0.0,
          0.03905829823340096,
          0.03905829823340096,
          0.0
         ],
         "yaxis": "y",
         "type": "scatter"
        },
        {
         "hoverinfo": "text",
         "marker": {
          "color": "rgb(133,20,75)"
         },
         "mode": "lines",
         "x": [
          4115.0,
          4115.0,
          4130.0,
          4130.0
         ],
         "xaxis": "x",
         "y": [
          0.0,
          0.05351193484063017,
          0.05351193484063017,
          0.03905829823340096
         ],
         "yaxis": "y",
         "type": "scatter"
        },
        {
         "hoverinfo": "text",
         "marker": {
          "color": "rgb(133,20,75)"
         },
         "mode": "lines",
         "x": [
          4092.5,
          4092.5,
          4122.5,
          4122.5
         ],
         "xaxis": "x",
         "y": [
          0.05147844399442472,
          0.0930730131896616,
          0.0930730131896616,
          0.05351193484063017
         ],
         "yaxis": "y",
         "type": "scatter"
        },
        {
         "hoverinfo": "text",
         "marker": {
          "color": "rgb(133,20,75)"
         },
         "mode": "lines",
         "x": [
          4145.0,
          4145.0,
          4155.0,
          4155.0
         ],
         "xaxis": "x",
         "y": [
          0.0,
          0.04216167725671791,
          0.04216167725671791,
          0.0
         ],
         "yaxis": "y",
         "type": "scatter"
        },
        {
         "hoverinfo": "text",
         "marker": {
          "color": "rgb(133,20,75)"
         },
         "mode": "lines",
         "x": [
          4165.0,
          4165.0,
          4175.0,
          4175.0
         ],
         "xaxis": "x",
         "y": [
          0.0,
          0.03052513156779177,
          0.03052513156779177,
          0.0
         ],
         "yaxis": "y",
         "type": "scatter"
        },
        {
         "hoverinfo": "text",
         "marker": {
          "color": "rgb(133,20,75)"
         },
         "mode": "lines",
         "x": [
          4205.0,
          4205.0,
          4215.0,
          4215.0
         ],
         "xaxis": "x",
         "y": [
          0.0,
          0.023837535524869703,
          0.023837535524869703,
          0.0
         ],
         "yaxis": "y",
         "type": "scatter"
        },
        {
         "hoverinfo": "text",
         "marker": {
          "color": "rgb(133,20,75)"
         },
         "mode": "lines",
         "x": [
          4195.0,
          4195.0,
          4210.0,
          4210.0
         ],
         "xaxis": "x",
         "y": [
          0.0,
          0.043084385191546545,
          0.043084385191546545,
          0.023837535524869703
         ],
         "yaxis": "y",
         "type": "scatter"
        },
        {
         "hoverinfo": "text",
         "marker": {
          "color": "rgb(133,20,75)"
         },
         "mode": "lines",
         "x": [
          4185.0,
          4185.0,
          4202.5,
          4202.5
         ],
         "xaxis": "x",
         "y": [
          0.0,
          0.06579502029181684,
          0.06579502029181684,
          0.043084385191546545
         ],
         "yaxis": "y",
         "type": "scatter"
        },
        {
         "hoverinfo": "text",
         "marker": {
          "color": "rgb(133,20,75)"
         },
         "mode": "lines",
         "x": [
          4170.0,
          4170.0,
          4193.75,
          4193.75
         ],
         "xaxis": "x",
         "y": [
          0.03052513156779177,
          0.07818791089156135,
          0.07818791089156135,
          0.06579502029181684
         ],
         "yaxis": "y",
         "type": "scatter"
        },
        {
         "hoverinfo": "text",
         "marker": {
          "color": "rgb(133,20,75)"
         },
         "mode": "lines",
         "x": [
          4150.0,
          4150.0,
          4181.875,
          4181.875
         ],
         "xaxis": "x",
         "y": [
          0.04216167725671791,
          0.10523057179048619,
          0.10523057179048619,
          0.07818791089156135
         ],
         "yaxis": "y",
         "type": "scatter"
        },
        {
         "hoverinfo": "text",
         "marker": {
          "color": "rgb(133,20,75)"
         },
         "mode": "lines",
         "x": [
          4107.5,
          4107.5,
          4165.9375,
          4165.9375
         ],
         "xaxis": "x",
         "y": [
          0.0930730131896616,
          0.12715528318999378,
          0.12715528318999378,
          0.10523057179048619
         ],
         "yaxis": "y",
         "type": "scatter"
        },
        {
         "hoverinfo": "text",
         "marker": {
          "color": "rgb(133,20,75)"
         },
         "mode": "lines",
         "x": [
          4235.0,
          4235.0,
          4245.0,
          4245.0
         ],
         "xaxis": "x",
         "y": [
          0.0,
          0.05539760853915678,
          0.05539760853915678,
          0.0
         ],
         "yaxis": "y",
         "type": "scatter"
        },
        {
         "hoverinfo": "text",
         "marker": {
          "color": "rgb(133,20,75)"
         },
         "mode": "lines",
         "x": [
          4225.0,
          4225.0,
          4240.0,
          4240.0
         ],
         "xaxis": "x",
         "y": [
          0.0,
          0.07777243241567373,
          0.07777243241567373,
          0.05539760853915678
         ],
         "yaxis": "y",
         "type": "scatter"
        },
        {
         "hoverinfo": "text",
         "marker": {
          "color": "rgb(133,20,75)"
         },
         "mode": "lines",
         "x": [
          4255.0,
          4255.0,
          4265.0,
          4265.0
         ],
         "xaxis": "x",
         "y": [
          0.0,
          0.05426064602905877,
          0.05426064602905877,
          0.0
         ],
         "yaxis": "y",
         "type": "scatter"
        },
        {
         "hoverinfo": "text",
         "marker": {
          "color": "rgb(133,20,75)"
         },
         "mode": "lines",
         "x": [
          4295.0,
          4295.0,
          4305.0,
          4305.0
         ],
         "xaxis": "x",
         "y": [
          0.0,
          0.04991260283904663,
          0.04991260283904663,
          0.0
         ],
         "yaxis": "y",
         "type": "scatter"
        },
        {
         "hoverinfo": "text",
         "marker": {
          "color": "rgb(133,20,75)"
         },
         "mode": "lines",
         "x": [
          4285.0,
          4285.0,
          4300.0,
          4300.0
         ],
         "xaxis": "x",
         "y": [
          0.0,
          0.058612431159297526,
          0.058612431159297526,
          0.04991260283904663
         ],
         "yaxis": "y",
         "type": "scatter"
        },
        {
         "hoverinfo": "text",
         "marker": {
          "color": "rgb(133,20,75)"
         },
         "mode": "lines",
         "x": [
          4275.0,
          4275.0,
          4292.5,
          4292.5
         ],
         "xaxis": "x",
         "y": [
          0.0,
          0.06563336487066555,
          0.06563336487066555,
          0.058612431159297526
         ],
         "yaxis": "y",
         "type": "scatter"
        },
        {
         "hoverinfo": "text",
         "marker": {
          "color": "rgb(133,20,75)"
         },
         "mode": "lines",
         "x": [
          4260.0,
          4260.0,
          4283.75,
          4283.75
         ],
         "xaxis": "x",
         "y": [
          0.05426064602905877,
          0.08828168346538073,
          0.08828168346538073,
          0.06563336487066555
         ],
         "yaxis": "y",
         "type": "scatter"
        },
        {
         "hoverinfo": "text",
         "marker": {
          "color": "rgb(133,20,75)"
         },
         "mode": "lines",
         "x": [
          4232.5,
          4232.5,
          4271.875,
          4271.875
         ],
         "xaxis": "x",
         "y": [
          0.07777243241567373,
          0.13391797695443888,
          0.13391797695443888,
          0.08828168346538073
         ],
         "yaxis": "y",
         "type": "scatter"
        },
        {
         "hoverinfo": "text",
         "marker": {
          "color": "rgb(133,20,75)"
         },
         "mode": "lines",
         "x": [
          4136.71875,
          4136.71875,
          4252.1875,
          4252.1875
         ],
         "xaxis": "x",
         "y": [
          0.12715528318999378,
          0.1933001387980728,
          0.1933001387980728,
          0.13391797695443888
         ],
         "yaxis": "y",
         "type": "scatter"
        },
        {
         "hoverinfo": "text",
         "marker": {
          "color": "rgb(133,20,75)"
         },
         "mode": "lines",
         "x": [
          3956.09375,
          3956.09375,
          4194.453125,
          4194.453125
         ],
         "xaxis": "x",
         "y": [
          0.1690309455457857,
          0.2628172825816437,
          0.2628172825816437,
          0.1933001387980728
         ],
         "yaxis": "y",
         "type": "scatter"
        },
        {
         "hoverinfo": "text",
         "marker": {
          "color": "rgb(133,20,75)"
         },
         "mode": "lines",
         "x": [
          3820.625,
          3820.625,
          4075.2734375,
          4075.2734375
         ],
         "xaxis": "x",
         "y": [
          0.16480259327330785,
          0.2779424786146083,
          0.2779424786146083,
          0.2628172825816437
         ],
         "yaxis": "y",
         "type": "scatter"
        },
        {
         "hoverinfo": "text",
         "marker": {
          "color": "rgb(133,20,75)"
         },
         "mode": "lines",
         "x": [
          3479.39453125,
          3479.39453125,
          3947.94921875,
          3947.94921875
         ],
         "xaxis": "x",
         "y": [
          0.23968867566004215,
          0.29382403464906126,
          0.29382403464906126,
          0.2779424786146083
         ],
         "yaxis": "y",
         "type": "scatter"
        },
        {
         "hoverinfo": "text",
         "marker": {
          "color": "rgb(133,20,75)"
         },
         "mode": "lines",
         "x": [
          4325.0,
          4325.0,
          4335.0,
          4335.0
         ],
         "xaxis": "x",
         "y": [
          0.0,
          0.04039112404277814,
          0.04039112404277814,
          0.0
         ],
         "yaxis": "y",
         "type": "scatter"
        },
        {
         "hoverinfo": "text",
         "marker": {
          "color": "rgb(133,20,75)"
         },
         "mode": "lines",
         "x": [
          4345.0,
          4345.0,
          4355.0,
          4355.0
         ],
         "xaxis": "x",
         "y": [
          0.0,
          0.04743606423282445,
          0.04743606423282445,
          0.0
         ],
         "yaxis": "y",
         "type": "scatter"
        },
        {
         "hoverinfo": "text",
         "marker": {
          "color": "rgb(133,20,75)"
         },
         "mode": "lines",
         "x": [
          4330.0,
          4330.0,
          4350.0,
          4350.0
         ],
         "xaxis": "x",
         "y": [
          0.04039112404277814,
          0.09268774835926628,
          0.09268774835926628,
          0.04743606423282445
         ],
         "yaxis": "y",
         "type": "scatter"
        },
        {
         "hoverinfo": "text",
         "marker": {
          "color": "rgb(133,20,75)"
         },
         "mode": "lines",
         "x": [
          4385.0,
          4385.0,
          4395.0,
          4395.0
         ],
         "xaxis": "x",
         "y": [
          0.0,
          0.042736196664054094,
          0.042736196664054094,
          0.0
         ],
         "yaxis": "y",
         "type": "scatter"
        },
        {
         "hoverinfo": "text",
         "marker": {
          "color": "rgb(133,20,75)"
         },
         "mode": "lines",
         "x": [
          4375.0,
          4375.0,
          4390.0,
          4390.0
         ],
         "xaxis": "x",
         "y": [
          0.0,
          0.06893349143301887,
          0.06893349143301887,
          0.042736196664054094
         ],
         "yaxis": "y",
         "type": "scatter"
        },
        {
         "hoverinfo": "text",
         "marker": {
          "color": "rgb(133,20,75)"
         },
         "mode": "lines",
         "x": [
          4365.0,
          4365.0,
          4382.5,
          4382.5
         ],
         "xaxis": "x",
         "y": [
          0.0,
          0.11289891679073771,
          0.11289891679073771,
          0.06893349143301887
         ],
         "yaxis": "y",
         "type": "scatter"
        },
        {
         "hoverinfo": "text",
         "marker": {
          "color": "rgb(133,20,75)"
         },
         "mode": "lines",
         "x": [
          4340.0,
          4340.0,
          4373.75,
          4373.75
         ],
         "xaxis": "x",
         "y": [
          0.09268774835926628,
          0.15954485279971825,
          0.15954485279971825,
          0.11289891679073771
         ],
         "yaxis": "y",
         "type": "scatter"
        },
        {
         "hoverinfo": "text",
         "marker": {
          "color": "rgb(133,20,75)"
         },
         "mode": "lines",
         "x": [
          4315.0,
          4315.0,
          4356.875,
          4356.875
         ],
         "xaxis": "x",
         "y": [
          0.0,
          0.2270169206109126,
          0.2270169206109126,
          0.15954485279971825
         ],
         "yaxis": "y",
         "type": "scatter"
        },
        {
         "hoverinfo": "text",
         "marker": {
          "color": "rgb(133,20,75)"
         },
         "mode": "lines",
         "x": [
          4425.0,
          4425.0,
          4435.0,
          4435.0
         ],
         "xaxis": "x",
         "y": [
          0.0,
          0.02543527962276616,
          0.02543527962276616,
          0.0
         ],
         "yaxis": "y",
         "type": "scatter"
        },
        {
         "hoverinfo": "text",
         "marker": {
          "color": "rgb(133,20,75)"
         },
         "mode": "lines",
         "x": [
          4415.0,
          4415.0,
          4430.0,
          4430.0
         ],
         "xaxis": "x",
         "y": [
          0.0,
          0.050189175741264455,
          0.050189175741264455,
          0.02543527962276616
         ],
         "yaxis": "y",
         "type": "scatter"
        },
        {
         "hoverinfo": "text",
         "marker": {
          "color": "rgb(133,20,75)"
         },
         "mode": "lines",
         "x": [
          4445.0,
          4445.0,
          4455.0,
          4455.0
         ],
         "xaxis": "x",
         "y": [
          0.0,
          0.07916045100788717,
          0.07916045100788717,
          0.0
         ],
         "yaxis": "y",
         "type": "scatter"
        },
        {
         "hoverinfo": "text",
         "marker": {
          "color": "rgb(133,20,75)"
         },
         "mode": "lines",
         "x": [
          4422.5,
          4422.5,
          4450.0,
          4450.0
         ],
         "xaxis": "x",
         "y": [
          0.050189175741264455,
          0.11345708234762764,
          0.11345708234762764,
          0.07916045100788717
         ],
         "yaxis": "y",
         "type": "scatter"
        },
        {
         "hoverinfo": "text",
         "marker": {
          "color": "rgb(133,20,75)"
         },
         "mode": "lines",
         "x": [
          4405.0,
          4405.0,
          4436.25,
          4436.25
         ],
         "xaxis": "x",
         "y": [
          0.0,
          0.18634540683996298,
          0.18634540683996298,
          0.11345708234762764
         ],
         "yaxis": "y",
         "type": "scatter"
        },
        {
         "hoverinfo": "text",
         "marker": {
          "color": "rgb(133,20,75)"
         },
         "mode": "lines",
         "x": [
          4475.0,
          4475.0,
          4485.0,
          4485.0
         ],
         "xaxis": "x",
         "y": [
          0.0,
          0.024531314215313262,
          0.024531314215313262,
          0.0
         ],
         "yaxis": "y",
         "type": "scatter"
        },
        {
         "hoverinfo": "text",
         "marker": {
          "color": "rgb(133,20,75)"
         },
         "mode": "lines",
         "x": [
          4465.0,
          4465.0,
          4480.0,
          4480.0
         ],
         "xaxis": "x",
         "y": [
          0.0,
          0.04212276341355457,
          0.04212276341355457,
          0.024531314215313262
         ],
         "yaxis": "y",
         "type": "scatter"
        },
        {
         "hoverinfo": "text",
         "marker": {
          "color": "rgb(133,20,75)"
         },
         "mode": "lines",
         "x": [
          4495.0,
          4495.0,
          4505.0,
          4505.0
         ],
         "xaxis": "x",
         "y": [
          0.0,
          0.04242100857710571,
          0.04242100857710571,
          0.0
         ],
         "yaxis": "y",
         "type": "scatter"
        },
        {
         "hoverinfo": "text",
         "marker": {
          "color": "rgb(133,20,75)"
         },
         "mode": "lines",
         "x": [
          4472.5,
          4472.5,
          4500.0,
          4500.0
         ],
         "xaxis": "x",
         "y": [
          0.04212276341355457,
          0.06507965390289751,
          0.06507965390289751,
          0.04242100857710571
         ],
         "yaxis": "y",
         "type": "scatter"
        },
        {
         "hoverinfo": "text",
         "marker": {
          "color": "rgb(133,20,75)"
         },
         "mode": "lines",
         "x": [
          4515.0,
          4515.0,
          4525.0,
          4525.0
         ],
         "xaxis": "x",
         "y": [
          0.0,
          0.07079788778314218,
          0.07079788778314218,
          0.0
         ],
         "yaxis": "y",
         "type": "scatter"
        },
        {
         "hoverinfo": "text",
         "marker": {
          "color": "rgb(133,20,75)"
         },
         "mode": "lines",
         "x": [
          4486.25,
          4486.25,
          4520.0,
          4520.0
         ],
         "xaxis": "x",
         "y": [
          0.06507965390289751,
          0.09513685348734562,
          0.09513685348734562,
          0.07079788778314218
         ],
         "yaxis": "y",
         "type": "scatter"
        },
        {
         "hoverinfo": "text",
         "marker": {
          "color": "rgb(133,20,75)"
         },
         "mode": "lines",
         "x": [
          4545.0,
          4545.0,
          4555.0,
          4555.0
         ],
         "xaxis": "x",
         "y": [
          0.0,
          0.055054532710688026,
          0.055054532710688026,
          0.0
         ],
         "yaxis": "y",
         "type": "scatter"
        },
        {
         "hoverinfo": "text",
         "marker": {
          "color": "rgb(133,20,75)"
         },
         "mode": "lines",
         "x": [
          4535.0,
          4535.0,
          4550.0,
          4550.0
         ],
         "xaxis": "x",
         "y": [
          0.0,
          0.12313617577656494,
          0.12313617577656494,
          0.055054532710688026
         ],
         "yaxis": "y",
         "type": "scatter"
        },
        {
         "hoverinfo": "text",
         "marker": {
          "color": "rgb(133,20,75)"
         },
         "mode": "lines",
         "x": [
          4503.125,
          4503.125,
          4542.5,
          4542.5
         ],
         "xaxis": "x",
         "y": [
          0.09513685348734562,
          0.14968478624083242,
          0.14968478624083242,
          0.12313617577656494
         ],
         "yaxis": "y",
         "type": "scatter"
        },
        {
         "hoverinfo": "text",
         "marker": {
          "color": "rgb(133,20,75)"
         },
         "mode": "lines",
         "x": [
          4565.0,
          4565.0,
          4575.0,
          4575.0
         ],
         "xaxis": "x",
         "y": [
          0.0,
          0.044467098571295036,
          0.044467098571295036,
          0.0
         ],
         "yaxis": "y",
         "type": "scatter"
        },
        {
         "hoverinfo": "text",
         "marker": {
          "color": "rgb(133,20,75)"
         },
         "mode": "lines",
         "x": [
          4585.0,
          4585.0,
          4595.0,
          4595.0
         ],
         "xaxis": "x",
         "y": [
          0.0,
          0.056721193785370744,
          0.056721193785370744,
          0.0
         ],
         "yaxis": "y",
         "type": "scatter"
        },
        {
         "hoverinfo": "text",
         "marker": {
          "color": "rgb(133,20,75)"
         },
         "mode": "lines",
         "x": [
          4570.0,
          4570.0,
          4590.0,
          4590.0
         ],
         "xaxis": "x",
         "y": [
          0.044467098571295036,
          0.08724083740739068,
          0.08724083740739068,
          0.056721193785370744
         ],
         "yaxis": "y",
         "type": "scatter"
        },
        {
         "hoverinfo": "text",
         "marker": {
          "color": "rgb(133,20,75)"
         },
         "mode": "lines",
         "x": [
          4615.0,
          4615.0,
          4625.0,
          4625.0
         ],
         "xaxis": "x",
         "y": [
          0.0,
          0.052623599274949466,
          0.052623599274949466,
          0.0
         ],
         "yaxis": "y",
         "type": "scatter"
        },
        {
         "hoverinfo": "text",
         "marker": {
          "color": "rgb(133,20,75)"
         },
         "mode": "lines",
         "x": [
          4655.0,
          4655.0,
          4665.0,
          4665.0
         ],
         "xaxis": "x",
         "y": [
          0.0,
          0.034432278404977736,
          0.034432278404977736,
          0.0
         ],
         "yaxis": "y",
         "type": "scatter"
        },
        {
         "hoverinfo": "text",
         "marker": {
          "color": "rgb(133,20,75)"
         },
         "mode": "lines",
         "x": [
          4645.0,
          4645.0,
          4660.0,
          4660.0
         ],
         "xaxis": "x",
         "y": [
          0.0,
          0.051741286384588275,
          0.051741286384588275,
          0.034432278404977736
         ],
         "yaxis": "y",
         "type": "scatter"
        },
        {
         "hoverinfo": "text",
         "marker": {
          "color": "rgb(133,20,75)"
         },
         "mode": "lines",
         "x": [
          4635.0,
          4635.0,
          4652.5,
          4652.5
         ],
         "xaxis": "x",
         "y": [
          0.0,
          0.058701106173582235,
          0.058701106173582235,
          0.051741286384588275
         ],
         "yaxis": "y",
         "type": "scatter"
        },
        {
         "hoverinfo": "text",
         "marker": {
          "color": "rgb(133,20,75)"
         },
         "mode": "lines",
         "x": [
          4620.0,
          4620.0,
          4643.75,
          4643.75
         ],
         "xaxis": "x",
         "y": [
          0.052623599274949466,
          0.07572949496086097,
          0.07572949496086097,
          0.058701106173582235
         ],
         "yaxis": "y",
         "type": "scatter"
        },
        {
         "hoverinfo": "text",
         "marker": {
          "color": "rgb(133,20,75)"
         },
         "mode": "lines",
         "x": [
          4605.0,
          4605.0,
          4631.875,
          4631.875
         ],
         "xaxis": "x",
         "y": [
          0.0,
          0.10581041362635389,
          0.10581041362635389,
          0.07572949496086097
         ],
         "yaxis": "y",
         "type": "scatter"
        },
        {
         "hoverinfo": "text",
         "marker": {
          "color": "rgb(133,20,75)"
         },
         "mode": "lines",
         "x": [
          4580.0,
          4580.0,
          4618.4375,
          4618.4375
         ],
         "xaxis": "x",
         "y": [
          0.08724083740739068,
          0.13310903959375361,
          0.13310903959375361,
          0.10581041362635389
         ],
         "yaxis": "y",
         "type": "scatter"
        },
        {
         "hoverinfo": "text",
         "marker": {
          "color": "rgb(133,20,75)"
         },
         "mode": "lines",
         "x": [
          4675.0,
          4675.0,
          4685.0,
          4685.0
         ],
         "xaxis": "x",
         "y": [
          0.0,
          0.04778280895941214,
          0.04778280895941214,
          0.0
         ],
         "yaxis": "y",
         "type": "scatter"
        },
        {
         "hoverinfo": "text",
         "marker": {
          "color": "rgb(133,20,75)"
         },
         "mode": "lines",
         "x": [
          4705.0,
          4705.0,
          4715.0,
          4715.0
         ],
         "xaxis": "x",
         "y": [
          0.0,
          0.03542673412462689,
          0.03542673412462689,
          0.0
         ],
         "yaxis": "y",
         "type": "scatter"
        },
        {
         "hoverinfo": "text",
         "marker": {
          "color": "rgb(133,20,75)"
         },
         "mode": "lines",
         "x": [
          4735.0,
          4735.0,
          4745.0,
          4745.0
         ],
         "xaxis": "x",
         "y": [
          0.0,
          0.030102170462417397,
          0.030102170462417397,
          0.0
         ],
         "yaxis": "y",
         "type": "scatter"
        },
        {
         "hoverinfo": "text",
         "marker": {
          "color": "rgb(133,20,75)"
         },
         "mode": "lines",
         "x": [
          4725.0,
          4725.0,
          4740.0,
          4740.0
         ],
         "xaxis": "x",
         "y": [
          0.0,
          0.04140236808245863,
          0.04140236808245863,
          0.030102170462417397
         ],
         "yaxis": "y",
         "type": "scatter"
        },
        {
         "hoverinfo": "text",
         "marker": {
          "color": "rgb(133,20,75)"
         },
         "mode": "lines",
         "x": [
          4710.0,
          4710.0,
          4732.5,
          4732.5
         ],
         "xaxis": "x",
         "y": [
          0.03542673412462689,
          0.0746415647029822,
          0.0746415647029822,
          0.04140236808245863
         ],
         "yaxis": "y",
         "type": "scatter"
        },
        {
         "hoverinfo": "text",
         "marker": {
          "color": "rgb(133,20,75)"
         },
         "mode": "lines",
         "x": [
          4695.0,
          4695.0,
          4721.25,
          4721.25
         ],
         "xaxis": "x",
         "y": [
          0.0,
          0.10403355536861769,
          0.10403355536861769,
          0.0746415647029822
         ],
         "yaxis": "y",
         "type": "scatter"
        },
        {
         "hoverinfo": "text",
         "marker": {
          "color": "rgb(133,20,75)"
         },
         "mode": "lines",
         "x": [
          4680.0,
          4680.0,
          4708.125,
          4708.125
         ],
         "xaxis": "x",
         "y": [
          0.04778280895941214,
          0.13312730348983906,
          0.13312730348983906,
          0.10403355536861769
         ],
         "yaxis": "y",
         "type": "scatter"
        },
        {
         "hoverinfo": "text",
         "marker": {
          "color": "rgb(133,20,75)"
         },
         "mode": "lines",
         "x": [
          4599.21875,
          4599.21875,
          4694.0625,
          4694.0625
         ],
         "xaxis": "x",
         "y": [
          0.13310903959375361,
          0.1702528239021675,
          0.1702528239021675,
          0.13312730348983906
         ],
         "yaxis": "y",
         "type": "scatter"
        },
        {
         "hoverinfo": "text",
         "marker": {
          "color": "rgb(133,20,75)"
         },
         "mode": "lines",
         "x": [
          4522.8125,
          4522.8125,
          4646.640625,
          4646.640625
         ],
         "xaxis": "x",
         "y": [
          0.14968478624083242,
          0.22351460382559896,
          0.22351460382559896,
          0.1702528239021675
         ],
         "yaxis": "y",
         "type": "scatter"
        },
        {
         "hoverinfo": "text",
         "marker": {
          "color": "rgb(133,20,75)"
         },
         "mode": "lines",
         "x": [
          4420.625,
          4420.625,
          4584.7265625,
          4584.7265625
         ],
         "xaxis": "x",
         "y": [
          0.18634540683996298,
          0.2429716628984343,
          0.2429716628984343,
          0.22351460382559896
         ],
         "yaxis": "y",
         "type": "scatter"
        },
        {
         "hoverinfo": "text",
         "marker": {
          "color": "rgb(133,20,75)"
         },
         "mode": "lines",
         "x": [
          4335.9375,
          4335.9375,
          4502.67578125,
          4502.67578125
         ],
         "xaxis": "x",
         "y": [
          0.2270169206109126,
          0.31991133561742824,
          0.31991133561742824,
          0.2429716628984343
         ],
         "yaxis": "y",
         "type": "scatter"
        },
        {
         "hoverinfo": "text",
         "marker": {
          "color": "rgb(133,20,75)"
         },
         "mode": "lines",
         "x": [
          3713.671875,
          3713.671875,
          4419.306640625,
          4419.306640625
         ],
         "xaxis": "x",
         "y": [
          0.29382403464906126,
          0.3809812075108759,
          0.3809812075108759,
          0.31991133561742824
         ],
         "yaxis": "y",
         "type": "scatter"
        },
        {
         "hoverinfo": "text",
         "marker": {
          "color": "rgb(133,20,75)"
         },
         "mode": "lines",
         "x": [
          1455.006103515625,
          1455.006103515625,
          4066.4892578125,
          4066.4892578125
         ],
         "xaxis": "x",
         "y": [
          0.3385040161446434,
          0.4460362702389032,
          0.4460362702389032,
          0.3809812075108759
         ],
         "yaxis": "y",
         "type": "scatter"
        },
        {
         "hoverinfo": "text",
         "marker": {
          "color": "rgb(133,20,75)"
         },
         "mode": "lines",
         "x": [
          4755.0,
          4755.0,
          4765.0,
          4765.0
         ],
         "xaxis": "x",
         "y": [
          0.0,
          0.10513103987509075,
          0.10513103987509075,
          0.0
         ],
         "yaxis": "y",
         "type": "scatter"
        },
        {
         "hoverinfo": "text",
         "marker": {
          "color": "rgb(133,20,75)"
         },
         "mode": "lines",
         "x": [
          4775.0,
          4775.0,
          4785.0,
          4785.0
         ],
         "xaxis": "x",
         "y": [
          0.0,
          0.048972456796412045,
          0.048972456796412045,
          0.0
         ],
         "yaxis": "y",
         "type": "scatter"
        },
        {
         "hoverinfo": "text",
         "marker": {
          "color": "rgb(133,20,75)"
         },
         "mode": "lines",
         "x": [
          4795.0,
          4795.0,
          4805.0,
          4805.0
         ],
         "xaxis": "x",
         "y": [
          0.0,
          0.04937483804739133,
          0.04937483804739133,
          0.0
         ],
         "yaxis": "y",
         "type": "scatter"
        },
        {
         "hoverinfo": "text",
         "marker": {
          "color": "rgb(133,20,75)"
         },
         "mode": "lines",
         "x": [
          4780.0,
          4780.0,
          4800.0,
          4800.0
         ],
         "xaxis": "x",
         "y": [
          0.048972456796412045,
          0.07345819440522275,
          0.07345819440522275,
          0.04937483804739133
         ],
         "yaxis": "y",
         "type": "scatter"
        },
        {
         "hoverinfo": "text",
         "marker": {
          "color": "rgb(133,20,75)"
         },
         "mode": "lines",
         "x": [
          4825.0,
          4825.0,
          4835.0,
          4835.0
         ],
         "xaxis": "x",
         "y": [
          0.0,
          0.019479272163827745,
          0.019479272163827745,
          0.0
         ],
         "yaxis": "y",
         "type": "scatter"
        },
        {
         "hoverinfo": "text",
         "marker": {
          "color": "rgb(133,20,75)"
         },
         "mode": "lines",
         "x": [
          4815.0,
          4815.0,
          4830.0,
          4830.0
         ],
         "xaxis": "x",
         "y": [
          0.0,
          0.05350494576240056,
          0.05350494576240056,
          0.019479272163827745
         ],
         "yaxis": "y",
         "type": "scatter"
        },
        {
         "hoverinfo": "text",
         "marker": {
          "color": "rgb(133,20,75)"
         },
         "mode": "lines",
         "x": [
          4855.0,
          4855.0,
          4865.0,
          4865.0
         ],
         "xaxis": "x",
         "y": [
          0.0,
          0.027075078545989523,
          0.027075078545989523,
          0.0
         ],
         "yaxis": "y",
         "type": "scatter"
        },
        {
         "hoverinfo": "text",
         "marker": {
          "color": "rgb(133,20,75)"
         },
         "mode": "lines",
         "x": [
          4845.0,
          4845.0,
          4860.0,
          4860.0
         ],
         "xaxis": "x",
         "y": [
          0.0,
          0.06929529322150577,
          0.06929529322150577,
          0.027075078545989523
         ],
         "yaxis": "y",
         "type": "scatter"
        },
        {
         "hoverinfo": "text",
         "marker": {
          "color": "rgb(133,20,75)"
         },
         "mode": "lines",
         "x": [
          4822.5,
          4822.5,
          4852.5,
          4852.5
         ],
         "xaxis": "x",
         "y": [
          0.05350494576240056,
          0.08436431057576958,
          0.08436431057576958,
          0.06929529322150577
         ],
         "yaxis": "y",
         "type": "scatter"
        },
        {
         "hoverinfo": "text",
         "marker": {
          "color": "rgb(133,20,75)"
         },
         "mode": "lines",
         "x": [
          4790.0,
          4790.0,
          4837.5,
          4837.5
         ],
         "xaxis": "x",
         "y": [
          0.07345819440522275,
          0.12314039433991439,
          0.12314039433991439,
          0.08436431057576958
         ],
         "yaxis": "y",
         "type": "scatter"
        },
        {
         "hoverinfo": "text",
         "marker": {
          "color": "rgb(133,20,75)"
         },
         "mode": "lines",
         "x": [
          4875.0,
          4875.0,
          4885.0,
          4885.0
         ],
         "xaxis": "x",
         "y": [
          0.0,
          0.0588024312139251,
          0.0588024312139251,
          0.0
         ],
         "yaxis": "y",
         "type": "scatter"
        },
        {
         "hoverinfo": "text",
         "marker": {
          "color": "rgb(133,20,75)"
         },
         "mode": "lines",
         "x": [
          4905.0,
          4905.0,
          4915.0,
          4915.0
         ],
         "xaxis": "x",
         "y": [
          0.0,
          0.025866935716078954,
          0.025866935716078954,
          0.0
         ],
         "yaxis": "y",
         "type": "scatter"
        },
        {
         "hoverinfo": "text",
         "marker": {
          "color": "rgb(133,20,75)"
         },
         "mode": "lines",
         "x": [
          4925.0,
          4925.0,
          4935.0,
          4935.0
         ],
         "xaxis": "x",
         "y": [
          0.0,
          0.03621193383337414,
          0.03621193383337414,
          0.0
         ],
         "yaxis": "y",
         "type": "scatter"
        },
        {
         "hoverinfo": "text",
         "marker": {
          "color": "rgb(133,20,75)"
         },
         "mode": "lines",
         "x": [
          4910.0,
          4910.0,
          4930.0,
          4930.0
         ],
         "xaxis": "x",
         "y": [
          0.025866935716078954,
          0.0535196209946214,
          0.0535196209946214,
          0.03621193383337414
         ],
         "yaxis": "y",
         "type": "scatter"
        },
        {
         "hoverinfo": "text",
         "marker": {
          "color": "rgb(133,20,75)"
         },
         "mode": "lines",
         "x": [
          4895.0,
          4895.0,
          4920.0,
          4920.0
         ],
         "xaxis": "x",
         "y": [
          0.0,
          0.07402950144103465,
          0.07402950144103465,
          0.0535196209946214
         ],
         "yaxis": "y",
         "type": "scatter"
        },
        {
         "hoverinfo": "text",
         "marker": {
          "color": "rgb(133,20,75)"
         },
         "mode": "lines",
         "x": [
          4880.0,
          4880.0,
          4907.5,
          4907.5
         ],
         "xaxis": "x",
         "y": [
          0.0588024312139251,
          0.08294196349832912,
          0.08294196349832912,
          0.07402950144103465
         ],
         "yaxis": "y",
         "type": "scatter"
        },
        {
         "hoverinfo": "text",
         "marker": {
          "color": "rgb(133,20,75)"
         },
         "mode": "lines",
         "x": [
          4955.0,
          4955.0,
          4965.0,
          4965.0
         ],
         "xaxis": "x",
         "y": [
          0.0,
          0.050940574896532864,
          0.050940574896532864,
          0.0
         ],
         "yaxis": "y",
         "type": "scatter"
        },
        {
         "hoverinfo": "text",
         "marker": {
          "color": "rgb(133,20,75)"
         },
         "mode": "lines",
         "x": [
          4945.0,
          4945.0,
          4960.0,
          4960.0
         ],
         "xaxis": "x",
         "y": [
          0.0,
          0.09804131750286027,
          0.09804131750286027,
          0.050940574896532864
         ],
         "yaxis": "y",
         "type": "scatter"
        },
        {
         "hoverinfo": "text",
         "marker": {
          "color": "rgb(133,20,75)"
         },
         "mode": "lines",
         "x": [
          4893.75,
          4893.75,
          4952.5,
          4952.5
         ],
         "xaxis": "x",
         "y": [
          0.08294196349832912,
          0.12649078458061758,
          0.12649078458061758,
          0.09804131750286027
         ],
         "yaxis": "y",
         "type": "scatter"
        },
        {
         "hoverinfo": "text",
         "marker": {
          "color": "rgb(133,20,75)"
         },
         "mode": "lines",
         "x": [
          4813.75,
          4813.75,
          4923.125,
          4923.125
         ],
         "xaxis": "x",
         "y": [
          0.12314039433991439,
          0.16359841706978295,
          0.16359841706978295,
          0.12649078458061758
         ],
         "yaxis": "y",
         "type": "scatter"
        },
        {
         "hoverinfo": "text",
         "marker": {
          "color": "rgb(133,20,75)"
         },
         "mode": "lines",
         "x": [
          4760.0,
          4760.0,
          4868.4375,
          4868.4375
         ],
         "xaxis": "x",
         "y": [
          0.10513103987509075,
          0.22945553094149787,
          0.22945553094149787,
          0.16359841706978295
         ],
         "yaxis": "y",
         "type": "scatter"
        },
        {
         "hoverinfo": "text",
         "marker": {
          "color": "rgb(133,20,75)"
         },
         "mode": "lines",
         "x": [
          4975.0,
          4975.0,
          4985.0,
          4985.0
         ],
         "xaxis": "x",
         "y": [
          0.0,
          0.04469010410257991,
          0.04469010410257991,
          0.0
         ],
         "yaxis": "y",
         "type": "scatter"
        },
        {
         "hoverinfo": "text",
         "marker": {
          "color": "rgb(133,20,75)"
         },
         "mode": "lines",
         "x": [
          5005.0,
          5005.0,
          5015.0,
          5015.0
         ],
         "xaxis": "x",
         "y": [
          0.0,
          0.025993195591046292,
          0.025993195591046292,
          0.0
         ],
         "yaxis": "y",
         "type": "scatter"
        },
        {
         "hoverinfo": "text",
         "marker": {
          "color": "rgb(133,20,75)"
         },
         "mode": "lines",
         "x": [
          4995.0,
          4995.0,
          5010.0,
          5010.0
         ],
         "xaxis": "x",
         "y": [
          0.0,
          0.046492684062191765,
          0.046492684062191765,
          0.025993195591046292
         ],
         "yaxis": "y",
         "type": "scatter"
        },
        {
         "hoverinfo": "text",
         "marker": {
          "color": "rgb(133,20,75)"
         },
         "mode": "lines",
         "x": [
          4980.0,
          4980.0,
          5002.5,
          5002.5
         ],
         "xaxis": "x",
         "y": [
          0.04469010410257991,
          0.07234105028415115,
          0.07234105028415115,
          0.046492684062191765
         ],
         "yaxis": "y",
         "type": "scatter"
        },
        {
         "hoverinfo": "text",
         "marker": {
          "color": "rgb(133,20,75)"
         },
         "mode": "lines",
         "x": [
          5035.0,
          5035.0,
          5045.0,
          5045.0
         ],
         "xaxis": "x",
         "y": [
          0.0,
          0.03518135376200034,
          0.03518135376200034,
          0.0
         ],
         "yaxis": "y",
         "type": "scatter"
        },
        {
         "hoverinfo": "text",
         "marker": {
          "color": "rgb(133,20,75)"
         },
         "mode": "lines",
         "x": [
          5025.0,
          5025.0,
          5040.0,
          5040.0
         ],
         "xaxis": "x",
         "y": [
          0.0,
          0.05950934243094012,
          0.05950934243094012,
          0.03518135376200034
         ],
         "yaxis": "y",
         "type": "scatter"
        },
        {
         "hoverinfo": "text",
         "marker": {
          "color": "rgb(133,20,75)"
         },
         "mode": "lines",
         "x": [
          5065.0,
          5065.0,
          5075.0,
          5075.0
         ],
         "xaxis": "x",
         "y": [
          0.0,
          0.03481363361738689,
          0.03481363361738689,
          0.0
         ],
         "yaxis": "y",
         "type": "scatter"
        },
        {
         "hoverinfo": "text",
         "marker": {
          "color": "rgb(133,20,75)"
         },
         "mode": "lines",
         "x": [
          5055.0,
          5055.0,
          5070.0,
          5070.0
         ],
         "xaxis": "x",
         "y": [
          0.0,
          0.05623197251814546,
          0.05623197251814546,
          0.03481363361738689
         ],
         "yaxis": "y",
         "type": "scatter"
        },
        {
         "hoverinfo": "text",
         "marker": {
          "color": "rgb(133,20,75)"
         },
         "mode": "lines",
         "x": [
          5095.0,
          5095.0,
          5105.0,
          5105.0
         ],
         "xaxis": "x",
         "y": [
          0.0,
          0.05429983840615783,
          0.05429983840615783,
          0.0
         ],
         "yaxis": "y",
         "type": "scatter"
        },
        {
         "hoverinfo": "text",
         "marker": {
          "color": "rgb(133,20,75)"
         },
         "mode": "lines",
         "x": [
          5085.0,
          5085.0,
          5100.0,
          5100.0
         ],
         "xaxis": "x",
         "y": [
          0.0,
          0.07161828325760805,
          0.07161828325760805,
          0.05429983840615783
         ],
         "yaxis": "y",
         "type": "scatter"
        },
        {
         "hoverinfo": "text",
         "marker": {
          "color": "rgb(133,20,75)"
         },
         "mode": "lines",
         "x": [
          5062.5,
          5062.5,
          5092.5,
          5092.5
         ],
         "xaxis": "x",
         "y": [
          0.05623197251814546,
          0.0935176281136181,
          0.0935176281136181,
          0.07161828325760805
         ],
         "yaxis": "y",
         "type": "scatter"
        },
        {
         "hoverinfo": "text",
         "marker": {
          "color": "rgb(133,20,75)"
         },
         "mode": "lines",
         "x": [
          5032.5,
          5032.5,
          5077.5,
          5077.5
         ],
         "xaxis": "x",
         "y": [
          0.05950934243094012,
          0.11045690968701513,
          0.11045690968701513,
          0.0935176281136181
         ],
         "yaxis": "y",
         "type": "scatter"
        },
        {
         "hoverinfo": "text",
         "marker": {
          "color": "rgb(133,20,75)"
         },
         "mode": "lines",
         "x": [
          4991.25,
          4991.25,
          5055.0,
          5055.0
         ],
         "xaxis": "x",
         "y": [
          0.07234105028415115,
          0.11746159207216937,
          0.11746159207216937,
          0.11045690968701513
         ],
         "yaxis": "y",
         "type": "scatter"
        },
        {
         "hoverinfo": "text",
         "marker": {
          "color": "rgb(133,20,75)"
         },
         "mode": "lines",
         "x": [
          5115.0,
          5115.0,
          5125.0,
          5125.0
         ],
         "xaxis": "x",
         "y": [
          0.0,
          0.058161034504212734,
          0.058161034504212734,
          0.0
         ],
         "yaxis": "y",
         "type": "scatter"
        },
        {
         "hoverinfo": "text",
         "marker": {
          "color": "rgb(133,20,75)"
         },
         "mode": "lines",
         "x": [
          5135.0,
          5135.0,
          5145.0,
          5145.0
         ],
         "xaxis": "x",
         "y": [
          0.0,
          0.08547942388173593,
          0.08547942388173593,
          0.0
         ],
         "yaxis": "y",
         "type": "scatter"
        },
        {
         "hoverinfo": "text",
         "marker": {
          "color": "rgb(133,20,75)"
         },
         "mode": "lines",
         "x": [
          5120.0,
          5120.0,
          5140.0,
          5140.0
         ],
         "xaxis": "x",
         "y": [
          0.058161034504212734,
          0.10409827694441354,
          0.10409827694441354,
          0.08547942388173593
         ],
         "yaxis": "y",
         "type": "scatter"
        },
        {
         "hoverinfo": "text",
         "marker": {
          "color": "rgb(133,20,75)"
         },
         "mode": "lines",
         "x": [
          5155.0,
          5155.0,
          5165.0,
          5165.0
         ],
         "xaxis": "x",
         "y": [
          0.0,
          0.08560500694336748,
          0.08560500694336748,
          0.0
         ],
         "yaxis": "y",
         "type": "scatter"
        },
        {
         "hoverinfo": "text",
         "marker": {
          "color": "rgb(133,20,75)"
         },
         "mode": "lines",
         "x": [
          5195.0,
          5195.0,
          5205.0,
          5205.0
         ],
         "xaxis": "x",
         "y": [
          0.0,
          0.03292251557378208,
          0.03292251557378208,
          0.0
         ],
         "yaxis": "y",
         "type": "scatter"
        },
        {
         "hoverinfo": "text",
         "marker": {
          "color": "rgb(133,20,75)"
         },
         "mode": "lines",
         "x": [
          5185.0,
          5185.0,
          5200.0,
          5200.0
         ],
         "xaxis": "x",
         "y": [
          0.0,
          0.04574471197079866,
          0.04574471197079866,
          0.03292251557378208
         ],
         "yaxis": "y",
         "type": "scatter"
        },
        {
         "hoverinfo": "text",
         "marker": {
          "color": "rgb(133,20,75)"
         },
         "mode": "lines",
         "x": [
          5215.0,
          5215.0,
          5225.0,
          5225.0
         ],
         "xaxis": "x",
         "y": [
          0.0,
          0.047422407128669485,
          0.047422407128669485,
          0.0
         ],
         "yaxis": "y",
         "type": "scatter"
        },
        {
         "hoverinfo": "text",
         "marker": {
          "color": "rgb(133,20,75)"
         },
         "mode": "lines",
         "x": [
          5192.5,
          5192.5,
          5220.0,
          5220.0
         ],
         "xaxis": "x",
         "y": [
          0.04574471197079866,
          0.07465257230545333,
          0.07465257230545333,
          0.047422407128669485
         ],
         "yaxis": "y",
         "type": "scatter"
        },
        {
         "hoverinfo": "text",
         "marker": {
          "color": "rgb(133,20,75)"
         },
         "mode": "lines",
         "x": [
          5175.0,
          5175.0,
          5206.25,
          5206.25
         ],
         "xaxis": "x",
         "y": [
          0.0,
          0.11683836784338511,
          0.11683836784338511,
          0.07465257230545333
         ],
         "yaxis": "y",
         "type": "scatter"
        },
        {
         "hoverinfo": "text",
         "marker": {
          "color": "rgb(133,20,75)"
         },
         "mode": "lines",
         "x": [
          5160.0,
          5160.0,
          5190.625,
          5190.625
         ],
         "xaxis": "x",
         "y": [
          0.08560500694336748,
          0.13732820085119424,
          0.13732820085119424,
          0.11683836784338511
         ],
         "yaxis": "y",
         "type": "scatter"
        },
        {
         "hoverinfo": "text",
         "marker": {
          "color": "rgb(133,20,75)"
         },
         "mode": "lines",
         "x": [
          5130.0,
          5130.0,
          5175.3125,
          5175.3125
         ],
         "xaxis": "x",
         "y": [
          0.10409827694441354,
          0.1824620215755418,
          0.1824620215755418,
          0.13732820085119424
         ],
         "yaxis": "y",
         "type": "scatter"
        },
        {
         "hoverinfo": "text",
         "marker": {
          "color": "rgb(133,20,75)"
         },
         "mode": "lines",
         "x": [
          5023.125,
          5023.125,
          5152.65625,
          5152.65625
         ],
         "xaxis": "x",
         "y": [
          0.11746159207216937,
          0.1990315037572265,
          0.1990315037572265,
          0.1824620215755418
         ],
         "yaxis": "y",
         "type": "scatter"
        },
        {
         "hoverinfo": "text",
         "marker": {
          "color": "rgb(133,20,75)"
         },
         "mode": "lines",
         "x": [
          5255.0,
          5255.0,
          5265.0,
          5265.0
         ],
         "xaxis": "x",
         "y": [
          0.0,
          0.037580899399713374,
          0.037580899399713374,
          0.0
         ],
         "yaxis": "y",
         "type": "scatter"
        },
        {
         "hoverinfo": "text",
         "marker": {
          "color": "rgb(133,20,75)"
         },
         "mode": "lines",
         "x": [
          5245.0,
          5245.0,
          5260.0,
          5260.0
         ],
         "xaxis": "x",
         "y": [
          0.0,
          0.09979880256142484,
          0.09979880256142484,
          0.037580899399713374
         ],
         "yaxis": "y",
         "type": "scatter"
        },
        {
         "hoverinfo": "text",
         "marker": {
          "color": "rgb(133,20,75)"
         },
         "mode": "lines",
         "x": [
          5235.0,
          5235.0,
          5252.5,
          5252.5
         ],
         "xaxis": "x",
         "y": [
          0.0,
          0.1322280233404168,
          0.1322280233404168,
          0.09979880256142484
         ],
         "yaxis": "y",
         "type": "scatter"
        },
        {
         "hoverinfo": "text",
         "marker": {
          "color": "rgb(133,20,75)"
         },
         "mode": "lines",
         "x": [
          5285.0,
          5285.0,
          5295.0,
          5295.0
         ],
         "xaxis": "x",
         "y": [
          0.0,
          0.03835917307102057,
          0.03835917307102057,
          0.0
         ],
         "yaxis": "y",
         "type": "scatter"
        },
        {
         "hoverinfo": "text",
         "marker": {
          "color": "rgb(133,20,75)"
         },
         "mode": "lines",
         "x": [
          5275.0,
          5275.0,
          5290.0,
          5290.0
         ],
         "xaxis": "x",
         "y": [
          0.0,
          0.09232507082447683,
          0.09232507082447683,
          0.03835917307102057
         ],
         "yaxis": "y",
         "type": "scatter"
        },
        {
         "hoverinfo": "text",
         "marker": {
          "color": "rgb(133,20,75)"
         },
         "mode": "lines",
         "x": [
          5305.0,
          5305.0,
          5315.0,
          5315.0
         ],
         "xaxis": "x",
         "y": [
          0.0,
          0.09241389296264385,
          0.09241389296264385,
          0.0
         ],
         "yaxis": "y",
         "type": "scatter"
        },
        {
         "hoverinfo": "text",
         "marker": {
          "color": "rgb(133,20,75)"
         },
         "mode": "lines",
         "x": [
          5282.5,
          5282.5,
          5310.0,
          5310.0
         ],
         "xaxis": "x",
         "y": [
          0.09232507082447683,
          0.14884185511066012,
          0.14884185511066012,
          0.09241389296264385
         ],
         "yaxis": "y",
         "type": "scatter"
        },
        {
         "hoverinfo": "text",
         "marker": {
          "color": "rgb(133,20,75)"
         },
         "mode": "lines",
         "x": [
          5243.75,
          5243.75,
          5296.25,
          5296.25
         ],
         "xaxis": "x",
         "y": [
          0.1322280233404168,
          0.23546608024543217,
          0.23546608024543217,
          0.14884185511066012
         ],
         "yaxis": "y",
         "type": "scatter"
        },
        {
         "hoverinfo": "text",
         "marker": {
          "color": "rgb(133,20,75)"
         },
         "mode": "lines",
         "x": [
          5087.890625,
          5087.890625,
          5270.0,
          5270.0
         ],
         "xaxis": "x",
         "y": [
          0.1990315037572265,
          0.2934993851453256,
          0.2934993851453256,
          0.23546608024543217
         ],
         "yaxis": "y",
         "type": "scatter"
        },
        {
         "hoverinfo": "text",
         "marker": {
          "color": "rgb(133,20,75)"
         },
         "mode": "lines",
         "x": [
          4814.21875,
          4814.21875,
          5178.9453125,
          5178.9453125
         ],
         "xaxis": "x",
         "y": [
          0.22945553094149787,
          0.32002401760709026,
          0.32002401760709026,
          0.2934993851453256
         ],
         "yaxis": "y",
         "type": "scatter"
        },
        {
         "hoverinfo": "text",
         "marker": {
          "color": "rgb(133,20,75)"
         },
         "mode": "lines",
         "x": [
          5335.0,
          5335.0,
          5345.0,
          5345.0
         ],
         "xaxis": "x",
         "y": [
          0.0,
          0.04636504343742105,
          0.04636504343742105,
          0.0
         ],
         "yaxis": "y",
         "type": "scatter"
        },
        {
         "hoverinfo": "text",
         "marker": {
          "color": "rgb(133,20,75)"
         },
         "mode": "lines",
         "x": [
          5325.0,
          5325.0,
          5340.0,
          5340.0
         ],
         "xaxis": "x",
         "y": [
          0.0,
          0.05575483840481121,
          0.05575483840481121,
          0.04636504343742105
         ],
         "yaxis": "y",
         "type": "scatter"
        },
        {
         "hoverinfo": "text",
         "marker": {
          "color": "rgb(133,20,75)"
         },
         "mode": "lines",
         "x": [
          5365.0,
          5365.0,
          5375.0,
          5375.0
         ],
         "xaxis": "x",
         "y": [
          0.0,
          0.0420290530922459,
          0.0420290530922459,
          0.0
         ],
         "yaxis": "y",
         "type": "scatter"
        },
        {
         "hoverinfo": "text",
         "marker": {
          "color": "rgb(133,20,75)"
         },
         "mode": "lines",
         "x": [
          5355.0,
          5355.0,
          5370.0,
          5370.0
         ],
         "xaxis": "x",
         "y": [
          0.0,
          0.07472411893082216,
          0.07472411893082216,
          0.0420290530922459
         ],
         "yaxis": "y",
         "type": "scatter"
        },
        {
         "hoverinfo": "text",
         "marker": {
          "color": "rgb(133,20,75)"
         },
         "mode": "lines",
         "x": [
          5405.0,
          5405.0,
          5415.0,
          5415.0
         ],
         "xaxis": "x",
         "y": [
          0.0,
          0.04928891132850521,
          0.04928891132850521,
          0.0
         ],
         "yaxis": "y",
         "type": "scatter"
        },
        {
         "hoverinfo": "text",
         "marker": {
          "color": "rgb(133,20,75)"
         },
         "mode": "lines",
         "x": [
          5395.0,
          5395.0,
          5410.0,
          5410.0
         ],
         "xaxis": "x",
         "y": [
          0.0,
          0.05409249009343312,
          0.05409249009343312,
          0.04928891132850521
         ],
         "yaxis": "y",
         "type": "scatter"
        },
        {
         "hoverinfo": "text",
         "marker": {
          "color": "rgb(133,20,75)"
         },
         "mode": "lines",
         "x": [
          5385.0,
          5385.0,
          5402.5,
          5402.5
         ],
         "xaxis": "x",
         "y": [
          0.0,
          0.09150474314687074,
          0.09150474314687074,
          0.05409249009343312
         ],
         "yaxis": "y",
         "type": "scatter"
        },
        {
         "hoverinfo": "text",
         "marker": {
          "color": "rgb(133,20,75)"
         },
         "mode": "lines",
         "x": [
          5362.5,
          5362.5,
          5393.75,
          5393.75
         ],
         "xaxis": "x",
         "y": [
          0.07472411893082216,
          0.11250277003047415,
          0.11250277003047415,
          0.09150474314687074
         ],
         "yaxis": "y",
         "type": "scatter"
        },
        {
         "hoverinfo": "text",
         "marker": {
          "color": "rgb(133,20,75)"
         },
         "mode": "lines",
         "x": [
          5332.5,
          5332.5,
          5378.125,
          5378.125
         ],
         "xaxis": "x",
         "y": [
          0.05575483840481121,
          0.13389187907852923,
          0.13389187907852923,
          0.11250277003047415
         ],
         "yaxis": "y",
         "type": "scatter"
        },
        {
         "hoverinfo": "text",
         "marker": {
          "color": "rgb(133,20,75)"
         },
         "mode": "lines",
         "x": [
          5445.0,
          5445.0,
          5455.0,
          5455.0
         ],
         "xaxis": "x",
         "y": [
          0.0,
          0.03768864529542353,
          0.03768864529542353,
          0.0
         ],
         "yaxis": "y",
         "type": "scatter"
        },
        {
         "hoverinfo": "text",
         "marker": {
          "color": "rgb(133,20,75)"
         },
         "mode": "lines",
         "x": [
          5435.0,
          5435.0,
          5450.0,
          5450.0
         ],
         "xaxis": "x",
         "y": [
          0.0,
          0.0498823803800244,
          0.0498823803800244,
          0.03768864529542353
         ],
         "yaxis": "y",
         "type": "scatter"
        },
        {
         "hoverinfo": "text",
         "marker": {
          "color": "rgb(133,20,75)"
         },
         "mode": "lines",
         "x": [
          5425.0,
          5425.0,
          5442.5,
          5442.5
         ],
         "xaxis": "x",
         "y": [
          0.0,
          0.06144884734664066,
          0.06144884734664066,
          0.0498823803800244
         ],
         "yaxis": "y",
         "type": "scatter"
        },
        {
         "hoverinfo": "text",
         "marker": {
          "color": "rgb(133,20,75)"
         },
         "mode": "lines",
         "x": [
          5485.0,
          5485.0,
          5495.0,
          5495.0
         ],
         "xaxis": "x",
         "y": [
          0.0,
          0.041231207214466624,
          0.041231207214466624,
          0.0
         ],
         "yaxis": "y",
         "type": "scatter"
        },
        {
         "hoverinfo": "text",
         "marker": {
          "color": "rgb(133,20,75)"
         },
         "mode": "lines",
         "x": [
          5475.0,
          5475.0,
          5490.0,
          5490.0
         ],
         "xaxis": "x",
         "y": [
          0.0,
          0.06330254702417061,
          0.06330254702417061,
          0.041231207214466624
         ],
         "yaxis": "y",
         "type": "scatter"
        },
        {
         "hoverinfo": "text",
         "marker": {
          "color": "rgb(133,20,75)"
         },
         "mode": "lines",
         "x": [
          5465.0,
          5465.0,
          5482.5,
          5482.5
         ],
         "xaxis": "x",
         "y": [
          0.0,
          0.076884281981261,
          0.076884281981261,
          0.06330254702417061
         ],
         "yaxis": "y",
         "type": "scatter"
        },
        {
         "hoverinfo": "text",
         "marker": {
          "color": "rgb(133,20,75)"
         },
         "mode": "lines",
         "x": [
          5433.75,
          5433.75,
          5473.75,
          5473.75
         ],
         "xaxis": "x",
         "y": [
          0.06144884734664066,
          0.10481580178944429,
          0.10481580178944429,
          0.076884281981261
         ],
         "yaxis": "y",
         "type": "scatter"
        },
        {
         "hoverinfo": "text",
         "marker": {
          "color": "rgb(133,20,75)"
         },
         "mode": "lines",
         "x": [
          5505.0,
          5505.0,
          5515.0,
          5515.0
         ],
         "xaxis": "x",
         "y": [
          0.0,
          0.03470179573554812,
          0.03470179573554812,
          0.0
         ],
         "yaxis": "y",
         "type": "scatter"
        },
        {
         "hoverinfo": "text",
         "marker": {
          "color": "rgb(133,20,75)"
         },
         "mode": "lines",
         "x": [
          5525.0,
          5525.0,
          5535.0,
          5535.0
         ],
         "xaxis": "x",
         "y": [
          0.0,
          0.03955492290912382,
          0.03955492290912382,
          0.0
         ],
         "yaxis": "y",
         "type": "scatter"
        },
        {
         "hoverinfo": "text",
         "marker": {
          "color": "rgb(133,20,75)"
         },
         "mode": "lines",
         "x": [
          5510.0,
          5510.0,
          5530.0,
          5530.0
         ],
         "xaxis": "x",
         "y": [
          0.03470179573554812,
          0.06544603646309308,
          0.06544603646309308,
          0.03955492290912382
         ],
         "yaxis": "y",
         "type": "scatter"
        },
        {
         "hoverinfo": "text",
         "marker": {
          "color": "rgb(133,20,75)"
         },
         "mode": "lines",
         "x": [
          5545.0,
          5545.0,
          5555.0,
          5555.0
         ],
         "xaxis": "x",
         "y": [
          0.0,
          0.0433239355821394,
          0.0433239355821394,
          0.0
         ],
         "yaxis": "y",
         "type": "scatter"
        },
        {
         "hoverinfo": "text",
         "marker": {
          "color": "rgb(133,20,75)"
         },
         "mode": "lines",
         "x": [
          5575.0,
          5575.0,
          5585.0,
          5585.0
         ],
         "xaxis": "x",
         "y": [
          0.0,
          0.01738840677262245,
          0.01738840677262245,
          0.0
         ],
         "yaxis": "y",
         "type": "scatter"
        },
        {
         "hoverinfo": "text",
         "marker": {
          "color": "rgb(133,20,75)"
         },
         "mode": "lines",
         "x": [
          5565.0,
          5565.0,
          5580.0,
          5580.0
         ],
         "xaxis": "x",
         "y": [
          0.0,
          0.05434222453096868,
          0.05434222453096868,
          0.01738840677262245
         ],
         "yaxis": "y",
         "type": "scatter"
        },
        {
         "hoverinfo": "text",
         "marker": {
          "color": "rgb(133,20,75)"
         },
         "mode": "lines",
         "x": [
          5550.0,
          5550.0,
          5572.5,
          5572.5
         ],
         "xaxis": "x",
         "y": [
          0.0433239355821394,
          0.0669190169939152,
          0.0669190169939152,
          0.05434222453096868
         ],
         "yaxis": "y",
         "type": "scatter"
        },
        {
         "hoverinfo": "text",
         "marker": {
          "color": "rgb(133,20,75)"
         },
         "mode": "lines",
         "x": [
          5520.0,
          5520.0,
          5561.25,
          5561.25
         ],
         "xaxis": "x",
         "y": [
          0.06544603646309308,
          0.12568717588573763,
          0.12568717588573763,
          0.0669190169939152
         ],
         "yaxis": "y",
         "type": "scatter"
        },
        {
         "hoverinfo": "text",
         "marker": {
          "color": "rgb(133,20,75)"
         },
         "mode": "lines",
         "x": [
          5453.75,
          5453.75,
          5540.625,
          5540.625
         ],
         "xaxis": "x",
         "y": [
          0.10481580178944429,
          0.1394924959743769,
          0.1394924959743769,
          0.12568717588573763
         ],
         "yaxis": "y",
         "type": "scatter"
        },
        {
         "hoverinfo": "text",
         "marker": {
          "color": "rgb(133,20,75)"
         },
         "mode": "lines",
         "x": [
          5355.3125,
          5355.3125,
          5497.1875,
          5497.1875
         ],
         "xaxis": "x",
         "y": [
          0.13389187907852923,
          0.22786203162155746,
          0.22786203162155746,
          0.1394924959743769
         ],
         "yaxis": "y",
         "type": "scatter"
        },
        {
         "hoverinfo": "text",
         "marker": {
          "color": "rgb(133,20,75)"
         },
         "mode": "lines",
         "x": [
          5595.0,
          5595.0,
          5605.0,
          5605.0
         ],
         "xaxis": "x",
         "y": [
          0.0,
          0.03784764691349181,
          0.03784764691349181,
          0.0
         ],
         "yaxis": "y",
         "type": "scatter"
        },
        {
         "hoverinfo": "text",
         "marker": {
          "color": "rgb(133,20,75)"
         },
         "mode": "lines",
         "x": [
          5635.0,
          5635.0,
          5645.0,
          5645.0
         ],
         "xaxis": "x",
         "y": [
          0.0,
          0.02573798781315375,
          0.02573798781315375,
          0.0
         ],
         "yaxis": "y",
         "type": "scatter"
        },
        {
         "hoverinfo": "text",
         "marker": {
          "color": "rgb(133,20,75)"
         },
         "mode": "lines",
         "x": [
          5625.0,
          5625.0,
          5640.0,
          5640.0
         ],
         "xaxis": "x",
         "y": [
          0.0,
          0.04778172748559854,
          0.04778172748559854,
          0.02573798781315375
         ],
         "yaxis": "y",
         "type": "scatter"
        },
        {
         "hoverinfo": "text",
         "marker": {
          "color": "rgb(133,20,75)"
         },
         "mode": "lines",
         "x": [
          5615.0,
          5615.0,
          5632.5,
          5632.5
         ],
         "xaxis": "x",
         "y": [
          0.0,
          0.07424942711396271,
          0.07424942711396271,
          0.04778172748559854
         ],
         "yaxis": "y",
         "type": "scatter"
        },
        {
         "hoverinfo": "text",
         "marker": {
          "color": "rgb(133,20,75)"
         },
         "mode": "lines",
         "x": [
          5600.0,
          5600.0,
          5623.75,
          5623.75
         ],
         "xaxis": "x",
         "y": [
          0.03784764691349181,
          0.08774595549857245,
          0.08774595549857245,
          0.07424942711396271
         ],
         "yaxis": "y",
         "type": "scatter"
        },
        {
         "hoverinfo": "text",
         "marker": {
          "color": "rgb(133,20,75)"
         },
         "mode": "lines",
         "x": [
          5655.0,
          5655.0,
          5665.0,
          5665.0
         ],
         "xaxis": "x",
         "y": [
          0.0,
          0.029619330406377927,
          0.029619330406377927,
          0.0
         ],
         "yaxis": "y",
         "type": "scatter"
        },
        {
         "hoverinfo": "text",
         "marker": {
          "color": "rgb(133,20,75)"
         },
         "mode": "lines",
         "x": [
          5675.0,
          5675.0,
          5685.0,
          5685.0
         ],
         "xaxis": "x",
         "y": [
          0.0,
          0.03716377570852823,
          0.03716377570852823,
          0.0
         ],
         "yaxis": "y",
         "type": "scatter"
        },
        {
         "hoverinfo": "text",
         "marker": {
          "color": "rgb(133,20,75)"
         },
         "mode": "lines",
         "x": [
          5660.0,
          5660.0,
          5680.0,
          5680.0
         ],
         "xaxis": "x",
         "y": [
          0.029619330406377927,
          0.060489573328313645,
          0.060489573328313645,
          0.03716377570852823
         ],
         "yaxis": "y",
         "type": "scatter"
        },
        {
         "hoverinfo": "text",
         "marker": {
          "color": "rgb(133,20,75)"
         },
         "mode": "lines",
         "x": [
          5705.0,
          5705.0,
          5715.0,
          5715.0
         ],
         "xaxis": "x",
         "y": [
          0.0,
          0.03387636352316738,
          0.03387636352316738,
          0.0
         ],
         "yaxis": "y",
         "type": "scatter"
        },
        {
         "hoverinfo": "text",
         "marker": {
          "color": "rgb(133,20,75)"
         },
         "mode": "lines",
         "x": [
          5695.0,
          5695.0,
          5710.0,
          5710.0
         ],
         "xaxis": "x",
         "y": [
          0.0,
          0.0400689286499926,
          0.0400689286499926,
          0.03387636352316738
         ],
         "yaxis": "y",
         "type": "scatter"
        },
        {
         "hoverinfo": "text",
         "marker": {
          "color": "rgb(133,20,75)"
         },
         "mode": "lines",
         "x": [
          5745.0,
          5745.0,
          5755.0,
          5755.0
         ],
         "xaxis": "x",
         "y": [
          0.0,
          0.029539990254004424,
          0.029539990254004424,
          0.0
         ],
         "yaxis": "y",
         "type": "scatter"
        },
        {
         "hoverinfo": "text",
         "marker": {
          "color": "rgb(133,20,75)"
         },
         "mode": "lines",
         "x": [
          5735.0,
          5735.0,
          5750.0,
          5750.0
         ],
         "xaxis": "x",
         "y": [
          0.0,
          0.03927699378217868,
          0.03927699378217868,
          0.029539990254004424
         ],
         "yaxis": "y",
         "type": "scatter"
        },
        {
         "hoverinfo": "text",
         "marker": {
          "color": "rgb(133,20,75)"
         },
         "mode": "lines",
         "x": [
          5725.0,
          5725.0,
          5742.5,
          5742.5
         ],
         "xaxis": "x",
         "y": [
          0.0,
          0.046693250466786,
          0.046693250466786,
          0.03927699378217868
         ],
         "yaxis": "y",
         "type": "scatter"
        },
        {
         "hoverinfo": "text",
         "marker": {
          "color": "rgb(133,20,75)"
         },
         "mode": "lines",
         "x": [
          5702.5,
          5702.5,
          5733.75,
          5733.75
         ],
         "xaxis": "x",
         "y": [
          0.0400689286499926,
          0.0742695045698228,
          0.0742695045698228,
          0.046693250466786
         ],
         "yaxis": "y",
         "type": "scatter"
        },
        {
         "hoverinfo": "text",
         "marker": {
          "color": "rgb(133,20,75)"
         },
         "mode": "lines",
         "x": [
          5670.0,
          5670.0,
          5718.125,
          5718.125
         ],
         "xaxis": "x",
         "y": [
          0.060489573328313645,
          0.09033158155168784,
          0.09033158155168784,
          0.0742695045698228
         ],
         "yaxis": "y",
         "type": "scatter"
        },
        {
         "hoverinfo": "text",
         "marker": {
          "color": "rgb(133,20,75)"
         },
         "mode": "lines",
         "x": [
          5611.875,
          5611.875,
          5694.0625,
          5694.0625
         ],
         "xaxis": "x",
         "y": [
          0.08774595549857245,
          0.1058403009651608,
          0.1058403009651608,
          0.09033158155168784
         ],
         "yaxis": "y",
         "type": "scatter"
        },
        {
         "hoverinfo": "text",
         "marker": {
          "color": "rgb(133,20,75)"
         },
         "mode": "lines",
         "x": [
          5775.0,
          5775.0,
          5785.0,
          5785.0
         ],
         "xaxis": "x",
         "y": [
          0.0,
          0.03406178272249591,
          0.03406178272249591,
          0.0
         ],
         "yaxis": "y",
         "type": "scatter"
        },
        {
         "hoverinfo": "text",
         "marker": {
          "color": "rgb(133,20,75)"
         },
         "mode": "lines",
         "x": [
          5795.0,
          5795.0,
          5805.0,
          5805.0
         ],
         "xaxis": "x",
         "y": [
          0.0,
          0.037860235095195,
          0.037860235095195,
          0.0
         ],
         "yaxis": "y",
         "type": "scatter"
        },
        {
         "hoverinfo": "text",
         "marker": {
          "color": "rgb(133,20,75)"
         },
         "mode": "lines",
         "x": [
          5780.0,
          5780.0,
          5800.0,
          5800.0
         ],
         "xaxis": "x",
         "y": [
          0.03406178272249591,
          0.05978510164538397,
          0.05978510164538397,
          0.037860235095195
         ],
         "yaxis": "y",
         "type": "scatter"
        },
        {
         "hoverinfo": "text",
         "marker": {
          "color": "rgb(133,20,75)"
         },
         "mode": "lines",
         "x": [
          5765.0,
          5765.0,
          5790.0,
          5790.0
         ],
         "xaxis": "x",
         "y": [
          0.0,
          0.07965473039112249,
          0.07965473039112249,
          0.05978510164538397
         ],
         "yaxis": "y",
         "type": "scatter"
        },
        {
         "hoverinfo": "text",
         "marker": {
          "color": "rgb(133,20,75)"
         },
         "mode": "lines",
         "x": [
          5815.0,
          5815.0,
          5825.0,
          5825.0
         ],
         "xaxis": "x",
         "y": [
          0.0,
          0.051574062085616414,
          0.051574062085616414,
          0.0
         ],
         "yaxis": "y",
         "type": "scatter"
        },
        {
         "hoverinfo": "text",
         "marker": {
          "color": "rgb(133,20,75)"
         },
         "mode": "lines",
         "x": [
          5855.0,
          5855.0,
          5865.0,
          5865.0
         ],
         "xaxis": "x",
         "y": [
          0.0,
          0.02688477836597151,
          0.02688477836597151,
          0.0
         ],
         "yaxis": "y",
         "type": "scatter"
        },
        {
         "hoverinfo": "text",
         "marker": {
          "color": "rgb(133,20,75)"
         },
         "mode": "lines",
         "x": [
          5845.0,
          5845.0,
          5860.0,
          5860.0
         ],
         "xaxis": "x",
         "y": [
          0.0,
          0.04181711914973713,
          0.04181711914973713,
          0.02688477836597151
         ],
         "yaxis": "y",
         "type": "scatter"
        },
        {
         "hoverinfo": "text",
         "marker": {
          "color": "rgb(133,20,75)"
         },
         "mode": "lines",
         "x": [
          5835.0,
          5835.0,
          5852.5,
          5852.5
         ],
         "xaxis": "x",
         "y": [
          0.0,
          0.0691490912539393,
          0.0691490912539393,
          0.04181711914973713
         ],
         "yaxis": "y",
         "type": "scatter"
        },
        {
         "hoverinfo": "text",
         "marker": {
          "color": "rgb(133,20,75)"
         },
         "mode": "lines",
         "x": [
          5820.0,
          5820.0,
          5843.75,
          5843.75
         ],
         "xaxis": "x",
         "y": [
          0.051574062085616414,
          0.08231784212963243,
          0.08231784212963243,
          0.0691490912539393
         ],
         "yaxis": "y",
         "type": "scatter"
        },
        {
         "hoverinfo": "text",
         "marker": {
          "color": "rgb(133,20,75)"
         },
         "mode": "lines",
         "x": [
          5875.0,
          5875.0,
          5885.0,
          5885.0
         ],
         "xaxis": "x",
         "y": [
          0.0,
          0.02811127866713976,
          0.02811127866713976,
          0.0
         ],
         "yaxis": "y",
         "type": "scatter"
        },
        {
         "hoverinfo": "text",
         "marker": {
          "color": "rgb(133,20,75)"
         },
         "mode": "lines",
         "x": [
          5895.0,
          5895.0,
          5905.0,
          5905.0
         ],
         "xaxis": "x",
         "y": [
          0.0,
          0.038038726060495825,
          0.038038726060495825,
          0.0
         ],
         "yaxis": "y",
         "type": "scatter"
        },
        {
         "hoverinfo": "text",
         "marker": {
          "color": "rgb(133,20,75)"
         },
         "mode": "lines",
         "x": [
          5880.0,
          5880.0,
          5900.0,
          5900.0
         ],
         "xaxis": "x",
         "y": [
          0.02811127866713976,
          0.05707961939516894,
          0.05707961939516894,
          0.038038726060495825
         ],
         "yaxis": "y",
         "type": "scatter"
        },
        {
         "hoverinfo": "text",
         "marker": {
          "color": "rgb(133,20,75)"
         },
         "mode": "lines",
         "x": [
          5915.0,
          5915.0,
          5925.0,
          5925.0
         ],
         "xaxis": "x",
         "y": [
          0.0,
          0.02462439943480422,
          0.02462439943480422,
          0.0
         ],
         "yaxis": "y",
         "type": "scatter"
        },
        {
         "hoverinfo": "text",
         "marker": {
          "color": "rgb(133,20,75)"
         },
         "mode": "lines",
         "x": [
          5945.0,
          5945.0,
          5955.0,
          5955.0
         ],
         "xaxis": "x",
         "y": [
          0.0,
          0.027659719477077807,
          0.027659719477077807,
          0.0
         ],
         "yaxis": "y",
         "type": "scatter"
        },
        {
         "hoverinfo": "text",
         "marker": {
          "color": "rgb(133,20,75)"
         },
         "mode": "lines",
         "x": [
          5935.0,
          5935.0,
          5950.0,
          5950.0
         ],
         "xaxis": "x",
         "y": [
          0.0,
          0.03603068529590724,
          0.03603068529590724,
          0.027659719477077807
         ],
         "yaxis": "y",
         "type": "scatter"
        },
        {
         "hoverinfo": "text",
         "marker": {
          "color": "rgb(133,20,75)"
         },
         "mode": "lines",
         "x": [
          5920.0,
          5920.0,
          5942.5,
          5942.5
         ],
         "xaxis": "x",
         "y": [
          0.02462439943480422,
          0.05736881408015995,
          0.05736881408015995,
          0.03603068529590724
         ],
         "yaxis": "y",
         "type": "scatter"
        },
        {
         "hoverinfo": "text",
         "marker": {
          "color": "rgb(133,20,75)"
         },
         "mode": "lines",
         "x": [
          5890.0,
          5890.0,
          5931.25,
          5931.25
         ],
         "xaxis": "x",
         "y": [
          0.05707961939516894,
          0.08463698339591502,
          0.08463698339591502,
          0.05736881408015995
         ],
         "yaxis": "y",
         "type": "scatter"
        },
        {
         "hoverinfo": "text",
         "marker": {
          "color": "rgb(133,20,75)"
         },
         "mode": "lines",
         "x": [
          5831.875,
          5831.875,
          5910.625,
          5910.625
         ],
         "xaxis": "x",
         "y": [
          0.08231784212963243,
          0.10490470109042667,
          0.10490470109042667,
          0.08463698339591502
         ],
         "yaxis": "y",
         "type": "scatter"
        },
        {
         "hoverinfo": "text",
         "marker": {
          "color": "rgb(133,20,75)"
         },
         "mode": "lines",
         "x": [
          5777.5,
          5777.5,
          5871.25,
          5871.25
         ],
         "xaxis": "x",
         "y": [
          0.07965473039112249,
          0.12480127305206742,
          0.12480127305206742,
          0.10490470109042667
         ],
         "yaxis": "y",
         "type": "scatter"
        },
        {
         "hoverinfo": "text",
         "marker": {
          "color": "rgb(133,20,75)"
         },
         "mode": "lines",
         "x": [
          5652.96875,
          5652.96875,
          5824.375,
          5824.375
         ],
         "xaxis": "x",
         "y": [
          0.1058403009651608,
          0.18230483536802689,
          0.18230483536802689,
          0.12480127305206742
         ],
         "yaxis": "y",
         "type": "scatter"
        },
        {
         "hoverinfo": "text",
         "marker": {
          "color": "rgb(133,20,75)"
         },
         "mode": "lines",
         "x": [
          5965.0,
          5965.0,
          5975.0,
          5975.0
         ],
         "xaxis": "x",
         "y": [
          0.0,
          0.05139871274357689,
          0.05139871274357689,
          0.0
         ],
         "yaxis": "y",
         "type": "scatter"
        },
        {
         "hoverinfo": "text",
         "marker": {
          "color": "rgb(133,20,75)"
         },
         "mode": "lines",
         "x": [
          5985.0,
          5985.0,
          5995.0,
          5995.0
         ],
         "xaxis": "x",
         "y": [
          0.0,
          0.0702846785472726,
          0.0702846785472726,
          0.0
         ],
         "yaxis": "y",
         "type": "scatter"
        },
        {
         "hoverinfo": "text",
         "marker": {
          "color": "rgb(133,20,75)"
         },
         "mode": "lines",
         "x": [
          5970.0,
          5970.0,
          5990.0,
          5990.0
         ],
         "xaxis": "x",
         "y": [
          0.05139871274357689,
          0.09467035883049131,
          0.09467035883049131,
          0.0702846785472726
         ],
         "yaxis": "y",
         "type": "scatter"
        },
        {
         "hoverinfo": "text",
         "marker": {
          "color": "rgb(133,20,75)"
         },
         "mode": "lines",
         "x": [
          6015.0,
          6015.0,
          6025.0,
          6025.0
         ],
         "xaxis": "x",
         "y": [
          0.0,
          0.041115322123065276,
          0.041115322123065276,
          0.0
         ],
         "yaxis": "y",
         "type": "scatter"
        },
        {
         "hoverinfo": "text",
         "marker": {
          "color": "rgb(133,20,75)"
         },
         "mode": "lines",
         "x": [
          6035.0,
          6035.0,
          6045.0,
          6045.0
         ],
         "xaxis": "x",
         "y": [
          0.0,
          0.02690199459814671,
          0.02690199459814671,
          0.0
         ],
         "yaxis": "y",
         "type": "scatter"
        },
        {
         "hoverinfo": "text",
         "marker": {
          "color": "rgb(133,20,75)"
         },
         "mode": "lines",
         "x": [
          6055.0,
          6055.0,
          6065.0,
          6065.0
         ],
         "xaxis": "x",
         "y": [
          0.0,
          0.04269711728855385,
          0.04269711728855385,
          0.0
         ],
         "yaxis": "y",
         "type": "scatter"
        },
        {
         "hoverinfo": "text",
         "marker": {
          "color": "rgb(133,20,75)"
         },
         "mode": "lines",
         "x": [
          6040.0,
          6040.0,
          6060.0,
          6060.0
         ],
         "xaxis": "x",
         "y": [
          0.02690199459814671,
          0.057901618025322454,
          0.057901618025322454,
          0.04269711728855385
         ],
         "yaxis": "y",
         "type": "scatter"
        },
        {
         "hoverinfo": "text",
         "marker": {
          "color": "rgb(133,20,75)"
         },
         "mode": "lines",
         "x": [
          6020.0,
          6020.0,
          6050.0,
          6050.0
         ],
         "xaxis": "x",
         "y": [
          0.041115322123065276,
          0.08792473029221644,
          0.08792473029221644,
          0.057901618025322454
         ],
         "yaxis": "y",
         "type": "scatter"
        },
        {
         "hoverinfo": "text",
         "marker": {
          "color": "rgb(133,20,75)"
         },
         "mode": "lines",
         "x": [
          6005.0,
          6005.0,
          6035.0,
          6035.0
         ],
         "xaxis": "x",
         "y": [
          0.0,
          0.1126644098539801,
          0.1126644098539801,
          0.08792473029221644
         ],
         "yaxis": "y",
         "type": "scatter"
        },
        {
         "hoverinfo": "text",
         "marker": {
          "color": "rgb(133,20,75)"
         },
         "mode": "lines",
         "x": [
          5980.0,
          5980.0,
          6020.0,
          6020.0
         ],
         "xaxis": "x",
         "y": [
          0.09467035883049131,
          0.14429909264079094,
          0.14429909264079094,
          0.1126644098539801
         ],
         "yaxis": "y",
         "type": "scatter"
        },
        {
         "hoverinfo": "text",
         "marker": {
          "color": "rgb(133,20,75)"
         },
         "mode": "lines",
         "x": [
          6085.0,
          6085.0,
          6095.0,
          6095.0
         ],
         "xaxis": "x",
         "y": [
          0.0,
          0.053337446093669326,
          0.053337446093669326,
          0.0
         ],
         "yaxis": "y",
         "type": "scatter"
        },
        {
         "hoverinfo": "text",
         "marker": {
          "color": "rgb(133,20,75)"
         },
         "mode": "lines",
         "x": [
          6075.0,
          6075.0,
          6090.0,
          6090.0
         ],
         "xaxis": "x",
         "y": [
          0.0,
          0.07261699025863005,
          0.07261699025863005,
          0.053337446093669326
         ],
         "yaxis": "y",
         "type": "scatter"
        },
        {
         "hoverinfo": "text",
         "marker": {
          "color": "rgb(133,20,75)"
         },
         "mode": "lines",
         "x": [
          6115.0,
          6115.0,
          6125.0,
          6125.0
         ],
         "xaxis": "x",
         "y": [
          0.0,
          0.05830005650631393,
          0.05830005650631393,
          0.0
         ],
         "yaxis": "y",
         "type": "scatter"
        },
        {
         "hoverinfo": "text",
         "marker": {
          "color": "rgb(133,20,75)"
         },
         "mode": "lines",
         "x": [
          6105.0,
          6105.0,
          6120.0,
          6120.0
         ],
         "xaxis": "x",
         "y": [
          0.0,
          0.07867844281176943,
          0.07867844281176943,
          0.05830005650631393
         ],
         "yaxis": "y",
         "type": "scatter"
        },
        {
         "hoverinfo": "text",
         "marker": {
          "color": "rgb(133,20,75)"
         },
         "mode": "lines",
         "x": [
          6082.5,
          6082.5,
          6112.5,
          6112.5
         ],
         "xaxis": "x",
         "y": [
          0.07261699025863005,
          0.15942177044183248,
          0.15942177044183248,
          0.07867844281176943
         ],
         "yaxis": "y",
         "type": "scatter"
        },
        {
         "hoverinfo": "text",
         "marker": {
          "color": "rgb(133,20,75)"
         },
         "mode": "lines",
         "x": [
          6000.0,
          6000.0,
          6097.5,
          6097.5
         ],
         "xaxis": "x",
         "y": [
          0.14429909264079094,
          0.1899279171362838,
          0.1899279171362838,
          0.15942177044183248
         ],
         "yaxis": "y",
         "type": "scatter"
        },
        {
         "hoverinfo": "text",
         "marker": {
          "color": "rgb(133,20,75)"
         },
         "mode": "lines",
         "x": [
          5738.671875,
          5738.671875,
          6048.75,
          6048.75
         ],
         "xaxis": "x",
         "y": [
          0.18230483536802689,
          0.2327151062993942,
          0.2327151062993942,
          0.1899279171362838
         ],
         "yaxis": "y",
         "type": "scatter"
        },
        {
         "hoverinfo": "text",
         "marker": {
          "color": "rgb(133,20,75)"
         },
         "mode": "lines",
         "x": [
          5426.25,
          5426.25,
          5893.7109375,
          5893.7109375
         ],
         "xaxis": "x",
         "y": [
          0.22786203162155746,
          0.2854886163630816,
          0.2854886163630816,
          0.2327151062993942
         ],
         "yaxis": "y",
         "type": "scatter"
        },
        {
         "hoverinfo": "text",
         "marker": {
          "color": "rgb(133,20,75)"
         },
         "mode": "lines",
         "x": [
          6135.0,
          6135.0,
          6145.0,
          6145.0
         ],
         "xaxis": "x",
         "y": [
          0.0,
          0.10629227469675251,
          0.10629227469675251,
          0.0
         ],
         "yaxis": "y",
         "type": "scatter"
        },
        {
         "hoverinfo": "text",
         "marker": {
          "color": "rgb(133,20,75)"
         },
         "mode": "lines",
         "x": [
          6155.0,
          6155.0,
          6165.0,
          6165.0
         ],
         "xaxis": "x",
         "y": [
          0.0,
          0.05219328428474951,
          0.05219328428474951,
          0.0
         ],
         "yaxis": "y",
         "type": "scatter"
        },
        {
         "hoverinfo": "text",
         "marker": {
          "color": "rgb(133,20,75)"
         },
         "mode": "lines",
         "x": [
          6175.0,
          6175.0,
          6185.0,
          6185.0
         ],
         "xaxis": "x",
         "y": [
          0.0,
          0.04543942885226186,
          0.04543942885226186,
          0.0
         ],
         "yaxis": "y",
         "type": "scatter"
        },
        {
         "hoverinfo": "text",
         "marker": {
          "color": "rgb(133,20,75)"
         },
         "mode": "lines",
         "x": [
          6205.0,
          6205.0,
          6215.0,
          6215.0
         ],
         "xaxis": "x",
         "y": [
          0.0,
          0.03256029567318221,
          0.03256029567318221,
          0.0
         ],
         "yaxis": "y",
         "type": "scatter"
        },
        {
         "hoverinfo": "text",
         "marker": {
          "color": "rgb(133,20,75)"
         },
         "mode": "lines",
         "x": [
          6195.0,
          6195.0,
          6210.0,
          6210.0
         ],
         "xaxis": "x",
         "y": [
          0.0,
          0.05274959800281737,
          0.05274959800281737,
          0.03256029567318221
         ],
         "yaxis": "y",
         "type": "scatter"
        },
        {
         "hoverinfo": "text",
         "marker": {
          "color": "rgb(133,20,75)"
         },
         "mode": "lines",
         "x": [
          6180.0,
          6180.0,
          6202.5,
          6202.5
         ],
         "xaxis": "x",
         "y": [
          0.04543942885226186,
          0.08458810650222454,
          0.08458810650222454,
          0.05274959800281737
         ],
         "yaxis": "y",
         "type": "scatter"
        },
        {
         "hoverinfo": "text",
         "marker": {
          "color": "rgb(133,20,75)"
         },
         "mode": "lines",
         "x": [
          6160.0,
          6160.0,
          6191.25,
          6191.25
         ],
         "xaxis": "x",
         "y": [
          0.05219328428474951,
          0.11134233155636025,
          0.11134233155636025,
          0.08458810650222454
         ],
         "yaxis": "y",
         "type": "scatter"
        },
        {
         "hoverinfo": "text",
         "marker": {
          "color": "rgb(133,20,75)"
         },
         "mode": "lines",
         "x": [
          6235.0,
          6235.0,
          6245.0,
          6245.0
         ],
         "xaxis": "x",
         "y": [
          0.0,
          0.04544228332993926,
          0.04544228332993926,
          0.0
         ],
         "yaxis": "y",
         "type": "scatter"
        },
        {
         "hoverinfo": "text",
         "marker": {
          "color": "rgb(133,20,75)"
         },
         "mode": "lines",
         "x": [
          6225.0,
          6225.0,
          6240.0,
          6240.0
         ],
         "xaxis": "x",
         "y": [
          0.0,
          0.06918931339845617,
          0.06918931339845617,
          0.04544228332993926
         ],
         "yaxis": "y",
         "type": "scatter"
        },
        {
         "hoverinfo": "text",
         "marker": {
          "color": "rgb(133,20,75)"
         },
         "mode": "lines",
         "x": [
          6255.0,
          6255.0,
          6265.0,
          6265.0
         ],
         "xaxis": "x",
         "y": [
          0.0,
          0.06250845716559832,
          0.06250845716559832,
          0.0
         ],
         "yaxis": "y",
         "type": "scatter"
        },
        {
         "hoverinfo": "text",
         "marker": {
          "color": "rgb(133,20,75)"
         },
         "mode": "lines",
         "x": [
          6275.0,
          6275.0,
          6285.0,
          6285.0
         ],
         "xaxis": "x",
         "y": [
          0.0,
          0.03232859226091154,
          0.03232859226091154,
          0.0
         ],
         "yaxis": "y",
         "type": "scatter"
        },
        {
         "hoverinfo": "text",
         "marker": {
          "color": "rgb(133,20,75)"
         },
         "mode": "lines",
         "x": [
          6305.0,
          6305.0,
          6315.0,
          6315.0
         ],
         "xaxis": "x",
         "y": [
          0.0,
          0.02665001505552441,
          0.02665001505552441,
          0.0
         ],
         "yaxis": "y",
         "type": "scatter"
        },
        {
         "hoverinfo": "text",
         "marker": {
          "color": "rgb(133,20,75)"
         },
         "mode": "lines",
         "x": [
          6295.0,
          6295.0,
          6310.0,
          6310.0
         ],
         "xaxis": "x",
         "y": [
          0.0,
          0.044580147384310286,
          0.044580147384310286,
          0.02665001505552441
         ],
         "yaxis": "y",
         "type": "scatter"
        },
        {
         "hoverinfo": "text",
         "marker": {
          "color": "rgb(133,20,75)"
         },
         "mode": "lines",
         "x": [
          6280.0,
          6280.0,
          6302.5,
          6302.5
         ],
         "xaxis": "x",
         "y": [
          0.03232859226091154,
          0.0665114268376216,
          0.0665114268376216,
          0.044580147384310286
         ],
         "yaxis": "y",
         "type": "scatter"
        },
        {
         "hoverinfo": "text",
         "marker": {
          "color": "rgb(133,20,75)"
         },
         "mode": "lines",
         "x": [
          6260.0,
          6260.0,
          6291.25,
          6291.25
         ],
         "xaxis": "x",
         "y": [
          0.06250845716559832,
          0.10511483294958225,
          0.10511483294958225,
          0.0665114268376216
         ],
         "yaxis": "y",
         "type": "scatter"
        },
        {
         "hoverinfo": "text",
         "marker": {
          "color": "rgb(133,20,75)"
         },
         "mode": "lines",
         "x": [
          6232.5,
          6232.5,
          6275.625,
          6275.625
         ],
         "xaxis": "x",
         "y": [
          0.06918931339845617,
          0.12281118475863903,
          0.12281118475863903,
          0.10511483294958225
         ],
         "yaxis": "y",
         "type": "scatter"
        },
        {
         "hoverinfo": "text",
         "marker": {
          "color": "rgb(133,20,75)"
         },
         "mode": "lines",
         "x": [
          6175.625,
          6175.625,
          6254.0625,
          6254.0625
         ],
         "xaxis": "x",
         "y": [
          0.11134233155636025,
          0.15790538763375275,
          0.15790538763375275,
          0.12281118475863903
         ],
         "yaxis": "y",
         "type": "scatter"
        },
        {
         "hoverinfo": "text",
         "marker": {
          "color": "rgb(133,20,75)"
         },
         "mode": "lines",
         "x": [
          6140.0,
          6140.0,
          6214.84375,
          6214.84375
         ],
         "xaxis": "x",
         "y": [
          0.10629227469675251,
          0.20430623047748134,
          0.20430623047748134,
          0.15790538763375275
         ],
         "yaxis": "y",
         "type": "scatter"
        },
        {
         "hoverinfo": "text",
         "marker": {
          "color": "rgb(133,20,75)"
         },
         "mode": "lines",
         "x": [
          6325.0,
          6325.0,
          6335.0,
          6335.0
         ],
         "xaxis": "x",
         "y": [
          0.0,
          0.09183844822571703,
          0.09183844822571703,
          0.0
         ],
         "yaxis": "y",
         "type": "scatter"
        },
        {
         "hoverinfo": "text",
         "marker": {
          "color": "rgb(133,20,75)"
         },
         "mode": "lines",
         "x": [
          6385.0,
          6385.0,
          6395.0,
          6395.0
         ],
         "xaxis": "x",
         "y": [
          0.0,
          0.025092133533812445,
          0.025092133533812445,
          0.0
         ],
         "yaxis": "y",
         "type": "scatter"
        },
        {
         "hoverinfo": "text",
         "marker": {
          "color": "rgb(133,20,75)"
         },
         "mode": "lines",
         "x": [
          6375.0,
          6375.0,
          6390.0,
          6390.0
         ],
         "xaxis": "x",
         "y": [
          0.0,
          0.05092085394746064,
          0.05092085394746064,
          0.025092133533812445
         ],
         "yaxis": "y",
         "type": "scatter"
        },
        {
         "hoverinfo": "text",
         "marker": {
          "color": "rgb(133,20,75)"
         },
         "mode": "lines",
         "x": [
          6365.0,
          6365.0,
          6382.5,
          6382.5
         ],
         "xaxis": "x",
         "y": [
          0.0,
          0.05198940723848005,
          0.05198940723848005,
          0.05092085394746064
         ],
         "yaxis": "y",
         "type": "scatter"
        },
        {
         "hoverinfo": "text",
         "marker": {
          "color": "rgb(133,20,75)"
         },
         "mode": "lines",
         "x": [
          6355.0,
          6355.0,
          6373.75,
          6373.75
         ],
         "xaxis": "x",
         "y": [
          0.0,
          0.07059586720824829,
          0.07059586720824829,
          0.05198940723848005
         ],
         "yaxis": "y",
         "type": "scatter"
        },
        {
         "hoverinfo": "text",
         "marker": {
          "color": "rgb(133,20,75)"
         },
         "mode": "lines",
         "x": [
          6345.0,
          6345.0,
          6364.375,
          6364.375
         ],
         "xaxis": "x",
         "y": [
          0.0,
          0.09761900900713232,
          0.09761900900713232,
          0.07059586720824829
         ],
         "yaxis": "y",
         "type": "scatter"
        },
        {
         "hoverinfo": "text",
         "marker": {
          "color": "rgb(133,20,75)"
         },
         "mode": "lines",
         "x": [
          6330.0,
          6330.0,
          6354.6875,
          6354.6875
         ],
         "xaxis": "x",
         "y": [
          0.09183844822571703,
          0.16059324195993116,
          0.16059324195993116,
          0.09761900900713232
         ],
         "yaxis": "y",
         "type": "scatter"
        },
        {
         "hoverinfo": "text",
         "marker": {
          "color": "rgb(133,20,75)"
         },
         "mode": "lines",
         "x": [
          6405.0,
          6405.0,
          6415.0,
          6415.0
         ],
         "xaxis": "x",
         "y": [
          0.0,
          0.04632798266609277,
          0.04632798266609277,
          0.0
         ],
         "yaxis": "y",
         "type": "scatter"
        },
        {
         "hoverinfo": "text",
         "marker": {
          "color": "rgb(133,20,75)"
         },
         "mode": "lines",
         "x": [
          6435.0,
          6435.0,
          6445.0,
          6445.0
         ],
         "xaxis": "x",
         "y": [
          0.0,
          0.06485946378591698,
          0.06485946378591698,
          0.0
         ],
         "yaxis": "y",
         "type": "scatter"
        },
        {
         "hoverinfo": "text",
         "marker": {
          "color": "rgb(133,20,75)"
         },
         "mode": "lines",
         "x": [
          6425.0,
          6425.0,
          6440.0,
          6440.0
         ],
         "xaxis": "x",
         "y": [
          0.0,
          0.08778182635915335,
          0.08778182635915335,
          0.06485946378591698
         ],
         "yaxis": "y",
         "type": "scatter"
        },
        {
         "hoverinfo": "text",
         "marker": {
          "color": "rgb(133,20,75)"
         },
         "mode": "lines",
         "x": [
          6410.0,
          6410.0,
          6432.5,
          6432.5
         ],
         "xaxis": "x",
         "y": [
          0.04632798266609277,
          0.09688398737906051,
          0.09688398737906051,
          0.08778182635915335
         ],
         "yaxis": "y",
         "type": "scatter"
        },
        {
         "hoverinfo": "text",
         "marker": {
          "color": "rgb(133,20,75)"
         },
         "mode": "lines",
         "x": [
          6475.0,
          6475.0,
          6485.0,
          6485.0
         ],
         "xaxis": "x",
         "y": [
          0.0,
          0.05454199462462004,
          0.05454199462462004,
          0.0
         ],
         "yaxis": "y",
         "type": "scatter"
        },
        {
         "hoverinfo": "text",
         "marker": {
          "color": "rgb(133,20,75)"
         },
         "mode": "lines",
         "x": [
          6465.0,
          6465.0,
          6480.0,
          6480.0
         ],
         "xaxis": "x",
         "y": [
          0.0,
          0.0752712014417961,
          0.0752712014417961,
          0.05454199462462004
         ],
         "yaxis": "y",
         "type": "scatter"
        },
        {
         "hoverinfo": "text",
         "marker": {
          "color": "rgb(133,20,75)"
         },
         "mode": "lines",
         "x": [
          6505.0,
          6505.0,
          6515.0,
          6515.0
         ],
         "xaxis": "x",
         "y": [
          0.0,
          0.05577298640377585,
          0.05577298640377585,
          0.0
         ],
         "yaxis": "y",
         "type": "scatter"
        },
        {
         "hoverinfo": "text",
         "marker": {
          "color": "rgb(133,20,75)"
         },
         "mode": "lines",
         "x": [
          6495.0,
          6495.0,
          6510.0,
          6510.0
         ],
         "xaxis": "x",
         "y": [
          0.0,
          0.08673526467360829,
          0.08673526467360829,
          0.05577298640377585
         ],
         "yaxis": "y",
         "type": "scatter"
        },
        {
         "hoverinfo": "text",
         "marker": {
          "color": "rgb(133,20,75)"
         },
         "mode": "lines",
         "x": [
          6472.5,
          6472.5,
          6502.5,
          6502.5
         ],
         "xaxis": "x",
         "y": [
          0.0752712014417961,
          0.13406031223418402,
          0.13406031223418402,
          0.08673526467360829
         ],
         "yaxis": "y",
         "type": "scatter"
        },
        {
         "hoverinfo": "text",
         "marker": {
          "color": "rgb(133,20,75)"
         },
         "mode": "lines",
         "x": [
          6455.0,
          6455.0,
          6487.5,
          6487.5
         ],
         "xaxis": "x",
         "y": [
          0.0,
          0.14670668913124635,
          0.14670668913124635,
          0.13406031223418402
         ],
         "yaxis": "y",
         "type": "scatter"
        },
        {
         "hoverinfo": "text",
         "marker": {
          "color": "rgb(133,20,75)"
         },
         "mode": "lines",
         "x": [
          6421.25,
          6421.25,
          6471.25,
          6471.25
         ],
         "xaxis": "x",
         "y": [
          0.09688398737906051,
          0.18785453108197087,
          0.18785453108197087,
          0.14670668913124635
         ],
         "yaxis": "y",
         "type": "scatter"
        },
        {
         "hoverinfo": "text",
         "marker": {
          "color": "rgb(133,20,75)"
         },
         "mode": "lines",
         "x": [
          6342.34375,
          6342.34375,
          6446.25,
          6446.25
         ],
         "xaxis": "x",
         "y": [
          0.16059324195993116,
          0.22029946487532467,
          0.22029946487532467,
          0.18785453108197087
         ],
         "yaxis": "y",
         "type": "scatter"
        },
        {
         "hoverinfo": "text",
         "marker": {
          "color": "rgb(133,20,75)"
         },
         "mode": "lines",
         "x": [
          6177.421875,
          6177.421875,
          6394.296875,
          6394.296875
         ],
         "xaxis": "x",
         "y": [
          0.20430623047748134,
          0.2552301716861515,
          0.2552301716861515,
          0.22029946487532467
         ],
         "yaxis": "y",
         "type": "scatter"
        },
        {
         "hoverinfo": "text",
         "marker": {
          "color": "rgb(133,20,75)"
         },
         "mode": "lines",
         "x": [
          6525.0,
          6525.0,
          6535.0,
          6535.0
         ],
         "xaxis": "x",
         "y": [
          0.0,
          0.14269610698621688,
          0.14269610698621688,
          0.0
         ],
         "yaxis": "y",
         "type": "scatter"
        },
        {
         "hoverinfo": "text",
         "marker": {
          "color": "rgb(133,20,75)"
         },
         "mode": "lines",
         "x": [
          6555.0,
          6555.0,
          6565.0,
          6565.0
         ],
         "xaxis": "x",
         "y": [
          0.0,
          0.04703853949532594,
          0.04703853949532594,
          0.0
         ],
         "yaxis": "y",
         "type": "scatter"
        },
        {
         "hoverinfo": "text",
         "marker": {
          "color": "rgb(133,20,75)"
         },
         "mode": "lines",
         "x": [
          6545.0,
          6545.0,
          6560.0,
          6560.0
         ],
         "xaxis": "x",
         "y": [
          0.0,
          0.06900030995939331,
          0.06900030995939331,
          0.04703853949532594
         ],
         "yaxis": "y",
         "type": "scatter"
        },
        {
         "hoverinfo": "text",
         "marker": {
          "color": "rgb(133,20,75)"
         },
         "mode": "lines",
         "x": [
          6595.0,
          6595.0,
          6605.0,
          6605.0
         ],
         "xaxis": "x",
         "y": [
          0.0,
          0.03840425393602896,
          0.03840425393602896,
          0.0
         ],
         "yaxis": "y",
         "type": "scatter"
        },
        {
         "hoverinfo": "text",
         "marker": {
          "color": "rgb(133,20,75)"
         },
         "mode": "lines",
         "x": [
          6585.0,
          6585.0,
          6600.0,
          6600.0
         ],
         "xaxis": "x",
         "y": [
          0.0,
          0.04430560510928503,
          0.04430560510928503,
          0.03840425393602896
         ],
         "yaxis": "y",
         "type": "scatter"
        },
        {
         "hoverinfo": "text",
         "marker": {
          "color": "rgb(133,20,75)"
         },
         "mode": "lines",
         "x": [
          6575.0,
          6575.0,
          6592.5,
          6592.5
         ],
         "xaxis": "x",
         "y": [
          0.0,
          0.06372816341583992,
          0.06372816341583992,
          0.04430560510928503
         ],
         "yaxis": "y",
         "type": "scatter"
        },
        {
         "hoverinfo": "text",
         "marker": {
          "color": "rgb(133,20,75)"
         },
         "mode": "lines",
         "x": [
          6635.0,
          6635.0,
          6645.0,
          6645.0
         ],
         "xaxis": "x",
         "y": [
          0.0,
          0.03186917868742627,
          0.03186917868742627,
          0.0
         ],
         "yaxis": "y",
         "type": "scatter"
        },
        {
         "hoverinfo": "text",
         "marker": {
          "color": "rgb(133,20,75)"
         },
         "mode": "lines",
         "x": [
          6625.0,
          6625.0,
          6640.0,
          6640.0
         ],
         "xaxis": "x",
         "y": [
          0.0,
          0.05080145555024062,
          0.05080145555024062,
          0.03186917868742627
         ],
         "yaxis": "y",
         "type": "scatter"
        },
        {
         "hoverinfo": "text",
         "marker": {
          "color": "rgb(133,20,75)"
         },
         "mode": "lines",
         "x": [
          6615.0,
          6615.0,
          6632.5,
          6632.5
         ],
         "xaxis": "x",
         "y": [
          0.0,
          0.0722712600703384,
          0.0722712600703384,
          0.05080145555024062
         ],
         "yaxis": "y",
         "type": "scatter"
        },
        {
         "hoverinfo": "text",
         "marker": {
          "color": "rgb(133,20,75)"
         },
         "mode": "lines",
         "x": [
          6583.75,
          6583.75,
          6623.75,
          6623.75
         ],
         "xaxis": "x",
         "y": [
          0.06372816341583992,
          0.08942838033263058,
          0.08942838033263058,
          0.0722712600703384
         ],
         "yaxis": "y",
         "type": "scatter"
        },
        {
         "hoverinfo": "text",
         "marker": {
          "color": "rgb(133,20,75)"
         },
         "mode": "lines",
         "x": [
          6552.5,
          6552.5,
          6603.75,
          6603.75
         ],
         "xaxis": "x",
         "y": [
          0.06900030995939331,
          0.1294710023964535,
          0.1294710023964535,
          0.08942838033263058
         ],
         "yaxis": "y",
         "type": "scatter"
        },
        {
         "hoverinfo": "text",
         "marker": {
          "color": "rgb(133,20,75)"
         },
         "mode": "lines",
         "x": [
          6665.0,
          6665.0,
          6675.0,
          6675.0
         ],
         "xaxis": "x",
         "y": [
          0.0,
          0.03331883187389795,
          0.03331883187389795,
          0.0
         ],
         "yaxis": "y",
         "type": "scatter"
        },
        {
         "hoverinfo": "text",
         "marker": {
          "color": "rgb(133,20,75)"
         },
         "mode": "lines",
         "x": [
          6655.0,
          6655.0,
          6670.0,
          6670.0
         ],
         "xaxis": "x",
         "y": [
          0.0,
          0.08707909691323083,
          0.08707909691323083,
          0.03331883187389795
         ],
         "yaxis": "y",
         "type": "scatter"
        },
        {
         "hoverinfo": "text",
         "marker": {
          "color": "rgb(133,20,75)"
         },
         "mode": "lines",
         "x": [
          6685.0,
          6685.0,
          6695.0,
          6695.0
         ],
         "xaxis": "x",
         "y": [
          0.0,
          0.06502726233811837,
          0.06502726233811837,
          0.0
         ],
         "yaxis": "y",
         "type": "scatter"
        },
        {
         "hoverinfo": "text",
         "marker": {
          "color": "rgb(133,20,75)"
         },
         "mode": "lines",
         "x": [
          6705.0,
          6705.0,
          6715.0,
          6715.0
         ],
         "xaxis": "x",
         "y": [
          0.0,
          0.023287374830824013,
          0.023287374830824013,
          0.0
         ],
         "yaxis": "y",
         "type": "scatter"
        },
        {
         "hoverinfo": "text",
         "marker": {
          "color": "rgb(133,20,75)"
         },
         "mode": "lines",
         "x": [
          6725.0,
          6725.0,
          6735.0,
          6735.0
         ],
         "xaxis": "x",
         "y": [
          0.0,
          0.03997386440826058,
          0.03997386440826058,
          0.0
         ],
         "yaxis": "y",
         "type": "scatter"
        },
        {
         "hoverinfo": "text",
         "marker": {
          "color": "rgb(133,20,75)"
         },
         "mode": "lines",
         "x": [
          6710.0,
          6710.0,
          6730.0,
          6730.0
         ],
         "xaxis": "x",
         "y": [
          0.023287374830824013,
          0.0757980752718071,
          0.0757980752718071,
          0.03997386440826058
         ],
         "yaxis": "y",
         "type": "scatter"
        },
        {
         "hoverinfo": "text",
         "marker": {
          "color": "rgb(133,20,75)"
         },
         "mode": "lines",
         "x": [
          6690.0,
          6690.0,
          6720.0,
          6720.0
         ],
         "xaxis": "x",
         "y": [
          0.06502726233811837,
          0.10766794471644836,
          0.10766794471644836,
          0.0757980752718071
         ],
         "yaxis": "y",
         "type": "scatter"
        },
        {
         "hoverinfo": "text",
         "marker": {
          "color": "rgb(133,20,75)"
         },
         "mode": "lines",
         "x": [
          6662.5,
          6662.5,
          6705.0,
          6705.0
         ],
         "xaxis": "x",
         "y": [
          0.08707909691323083,
          0.14328428391436332,
          0.14328428391436332,
          0.10766794471644836
         ],
         "yaxis": "y",
         "type": "scatter"
        },
        {
         "hoverinfo": "text",
         "marker": {
          "color": "rgb(133,20,75)"
         },
         "mode": "lines",
         "x": [
          6578.125,
          6578.125,
          6683.75,
          6683.75
         ],
         "xaxis": "x",
         "y": [
          0.1294710023964535,
          0.20955802931027143,
          0.20955802931027143,
          0.14328428391436332
         ],
         "yaxis": "y",
         "type": "scatter"
        },
        {
         "hoverinfo": "text",
         "marker": {
          "color": "rgb(133,20,75)"
         },
         "mode": "lines",
         "x": [
          6530.0,
          6530.0,
          6630.9375,
          6630.9375
         ],
         "xaxis": "x",
         "y": [
          0.14269610698621688,
          0.2975380319051827,
          0.2975380319051827,
          0.20955802931027143
         ],
         "yaxis": "y",
         "type": "scatter"
        },
        {
         "hoverinfo": "text",
         "marker": {
          "color": "rgb(133,20,75)"
         },
         "mode": "lines",
         "x": [
          6285.859375,
          6285.859375,
          6580.46875,
          6580.46875
         ],
         "xaxis": "x",
         "y": [
          0.2552301716861515,
          0.33541024643309786,
          0.33541024643309786,
          0.2975380319051827
         ],
         "yaxis": "y",
         "type": "scatter"
        },
        {
         "hoverinfo": "text",
         "marker": {
          "color": "rgb(133,20,75)"
         },
         "mode": "lines",
         "x": [
          5659.98046875,
          5659.98046875,
          6433.1640625,
          6433.1640625
         ],
         "xaxis": "x",
         "y": [
          0.2854886163630816,
          0.4241720060833323,
          0.4241720060833323,
          0.33541024643309786
         ],
         "yaxis": "y",
         "type": "scatter"
        },
        {
         "hoverinfo": "text",
         "marker": {
          "color": "rgb(133,20,75)"
         },
         "mode": "lines",
         "x": [
          4996.58203125,
          4996.58203125,
          6046.572265625,
          6046.572265625
         ],
         "xaxis": "x",
         "y": [
          0.32002401760709026,
          0.47194138310411754,
          0.47194138310411754,
          0.4241720060833323
         ],
         "yaxis": "y",
         "type": "scatter"
        },
        {
         "hoverinfo": "text",
         "marker": {
          "color": "rgb(133,20,75)"
         },
         "mode": "lines",
         "x": [
          6755.0,
          6755.0,
          6765.0,
          6765.0
         ],
         "xaxis": "x",
         "y": [
          0.0,
          0.08727380325969591,
          0.08727380325969591,
          0.0
         ],
         "yaxis": "y",
         "type": "scatter"
        },
        {
         "hoverinfo": "text",
         "marker": {
          "color": "rgb(133,20,75)"
         },
         "mode": "lines",
         "x": [
          6745.0,
          6745.0,
          6760.0,
          6760.0
         ],
         "xaxis": "x",
         "y": [
          0.0,
          0.09596302600513462,
          0.09596302600513462,
          0.08727380325969591
         ],
         "yaxis": "y",
         "type": "scatter"
        },
        {
         "hoverinfo": "text",
         "marker": {
          "color": "rgb(133,20,75)"
         },
         "mode": "lines",
         "x": [
          6775.0,
          6775.0,
          6785.0,
          6785.0
         ],
         "xaxis": "x",
         "y": [
          0.0,
          0.12762184199876211,
          0.12762184199876211,
          0.0
         ],
         "yaxis": "y",
         "type": "scatter"
        },
        {
         "hoverinfo": "text",
         "marker": {
          "color": "rgb(133,20,75)"
         },
         "mode": "lines",
         "x": [
          6795.0,
          6795.0,
          6805.0,
          6805.0
         ],
         "xaxis": "x",
         "y": [
          0.0,
          0.057205248615401445,
          0.057205248615401445,
          0.0
         ],
         "yaxis": "y",
         "type": "scatter"
        },
        {
         "hoverinfo": "text",
         "marker": {
          "color": "rgb(133,20,75)"
         },
         "mode": "lines",
         "x": [
          6815.0,
          6815.0,
          6825.0,
          6825.0
         ],
         "xaxis": "x",
         "y": [
          0.0,
          0.09363214663423625,
          0.09363214663423625,
          0.0
         ],
         "yaxis": "y",
         "type": "scatter"
        },
        {
         "hoverinfo": "text",
         "marker": {
          "color": "rgb(133,20,75)"
         },
         "mode": "lines",
         "x": [
          6800.0,
          6800.0,
          6820.0,
          6820.0
         ],
         "xaxis": "x",
         "y": [
          0.057205248615401445,
          0.1097472487259645,
          0.1097472487259645,
          0.09363214663423625
         ],
         "yaxis": "y",
         "type": "scatter"
        },
        {
         "hoverinfo": "text",
         "marker": {
          "color": "rgb(133,20,75)"
         },
         "mode": "lines",
         "x": [
          6835.0,
          6835.0,
          6845.0,
          6845.0
         ],
         "xaxis": "x",
         "y": [
          0.0,
          0.08438228941370315,
          0.08438228941370315,
          0.0
         ],
         "yaxis": "y",
         "type": "scatter"
        },
        {
         "hoverinfo": "text",
         "marker": {
          "color": "rgb(133,20,75)"
         },
         "mode": "lines",
         "x": [
          6865.0,
          6865.0,
          6875.0,
          6875.0
         ],
         "xaxis": "x",
         "y": [
          0.0,
          0.0690256357386213,
          0.0690256357386213,
          0.0
         ],
         "yaxis": "y",
         "type": "scatter"
        },
        {
         "hoverinfo": "text",
         "marker": {
          "color": "rgb(133,20,75)"
         },
         "mode": "lines",
         "x": [
          6855.0,
          6855.0,
          6870.0,
          6870.0
         ],
         "xaxis": "x",
         "y": [
          0.0,
          0.10462584411555541,
          0.10462584411555541,
          0.0690256357386213
         ],
         "yaxis": "y",
         "type": "scatter"
        },
        {
         "hoverinfo": "text",
         "marker": {
          "color": "rgb(133,20,75)"
         },
         "mode": "lines",
         "x": [
          6840.0,
          6840.0,
          6862.5,
          6862.5
         ],
         "xaxis": "x",
         "y": [
          0.08438228941370315,
          0.12637778832861302,
          0.12637778832861302,
          0.10462584411555541
         ],
         "yaxis": "y",
         "type": "scatter"
        },
        {
         "hoverinfo": "text",
         "marker": {
          "color": "rgb(133,20,75)"
         },
         "mode": "lines",
         "x": [
          6810.0,
          6810.0,
          6851.25,
          6851.25
         ],
         "xaxis": "x",
         "y": [
          0.1097472487259645,
          0.18542282314852146,
          0.18542282314852146,
          0.12637778832861302
         ],
         "yaxis": "y",
         "type": "scatter"
        },
        {
         "hoverinfo": "text",
         "marker": {
          "color": "rgb(133,20,75)"
         },
         "mode": "lines",
         "x": [
          6780.0,
          6780.0,
          6830.625,
          6830.625
         ],
         "xaxis": "x",
         "y": [
          0.12762184199876211,
          0.20541444186560534,
          0.20541444186560534,
          0.18542282314852146
         ],
         "yaxis": "y",
         "type": "scatter"
        },
        {
         "hoverinfo": "text",
         "marker": {
          "color": "rgb(133,20,75)"
         },
         "mode": "lines",
         "x": [
          6752.5,
          6752.5,
          6805.3125,
          6805.3125
         ],
         "xaxis": "x",
         "y": [
          0.09596302600513462,
          0.23328287132454997,
          0.23328287132454997,
          0.20541444186560534
         ],
         "yaxis": "y",
         "type": "scatter"
        },
        {
         "hoverinfo": "text",
         "marker": {
          "color": "rgb(133,20,75)"
         },
         "mode": "lines",
         "x": [
          6895.0,
          6895.0,
          6905.0,
          6905.0
         ],
         "xaxis": "x",
         "y": [
          0.0,
          0.0856382402277149,
          0.0856382402277149,
          0.0
         ],
         "yaxis": "y",
         "type": "scatter"
        },
        {
         "hoverinfo": "text",
         "marker": {
          "color": "rgb(133,20,75)"
         },
         "mode": "lines",
         "x": [
          6915.0,
          6915.0,
          6925.0,
          6925.0
         ],
         "xaxis": "x",
         "y": [
          0.0,
          0.09548550719043711,
          0.09548550719043711,
          0.0
         ],
         "yaxis": "y",
         "type": "scatter"
        },
        {
         "hoverinfo": "text",
         "marker": {
          "color": "rgb(133,20,75)"
         },
         "mode": "lines",
         "x": [
          6900.0,
          6900.0,
          6920.0,
          6920.0
         ],
         "xaxis": "x",
         "y": [
          0.0856382402277149,
          0.14063195009870522,
          0.14063195009870522,
          0.09548550719043711
         ],
         "yaxis": "y",
         "type": "scatter"
        },
        {
         "hoverinfo": "text",
         "marker": {
          "color": "rgb(133,20,75)"
         },
         "mode": "lines",
         "x": [
          6945.0,
          6945.0,
          6955.0,
          6955.0
         ],
         "xaxis": "x",
         "y": [
          0.0,
          0.08411209404201776,
          0.08411209404201776,
          0.0
         ],
         "yaxis": "y",
         "type": "scatter"
        },
        {
         "hoverinfo": "text",
         "marker": {
          "color": "rgb(133,20,75)"
         },
         "mode": "lines",
         "x": [
          6935.0,
          6935.0,
          6950.0,
          6950.0
         ],
         "xaxis": "x",
         "y": [
          0.0,
          0.15031379883832757,
          0.15031379883832757,
          0.08411209404201776
         ],
         "yaxis": "y",
         "type": "scatter"
        },
        {
         "hoverinfo": "text",
         "marker": {
          "color": "rgb(133,20,75)"
         },
         "mode": "lines",
         "x": [
          6910.0,
          6910.0,
          6942.5,
          6942.5
         ],
         "xaxis": "x",
         "y": [
          0.14063195009870522,
          0.20767706953128576,
          0.20767706953128576,
          0.15031379883832757
         ],
         "yaxis": "y",
         "type": "scatter"
        },
        {
         "hoverinfo": "text",
         "marker": {
          "color": "rgb(133,20,75)"
         },
         "mode": "lines",
         "x": [
          6885.0,
          6885.0,
          6926.25,
          6926.25
         ],
         "xaxis": "x",
         "y": [
          0.0,
          0.2585929594824229,
          0.2585929594824229,
          0.20767706953128576
         ],
         "yaxis": "y",
         "type": "scatter"
        },
        {
         "hoverinfo": "text",
         "marker": {
          "color": "rgb(133,20,75)"
         },
         "mode": "lines",
         "x": [
          6778.90625,
          6778.90625,
          6905.625,
          6905.625
         ],
         "xaxis": "x",
         "y": [
          0.23328287132454997,
          0.33453556644494686,
          0.33453556644494686,
          0.2585929594824229
         ],
         "yaxis": "y",
         "type": "scatter"
        },
        {
         "hoverinfo": "text",
         "marker": {
          "color": "rgb(133,20,75)"
         },
         "mode": "lines",
         "x": [
          6975.0,
          6975.0,
          6985.0,
          6985.0
         ],
         "xaxis": "x",
         "y": [
          0.0,
          0.04142339536968152,
          0.04142339536968152,
          0.0
         ],
         "yaxis": "y",
         "type": "scatter"
        },
        {
         "hoverinfo": "text",
         "marker": {
          "color": "rgb(133,20,75)"
         },
         "mode": "lines",
         "x": [
          6965.0,
          6965.0,
          6980.0,
          6980.0
         ],
         "xaxis": "x",
         "y": [
          0.0,
          0.056820534656433185,
          0.056820534656433185,
          0.04142339536968152
         ],
         "yaxis": "y",
         "type": "scatter"
        },
        {
         "hoverinfo": "text",
         "marker": {
          "color": "rgb(133,20,75)"
         },
         "mode": "lines",
         "x": [
          7005.0,
          7005.0,
          7015.0,
          7015.0
         ],
         "xaxis": "x",
         "y": [
          0.0,
          0.01935536477935799,
          0.01935536477935799,
          0.0
         ],
         "yaxis": "y",
         "type": "scatter"
        },
        {
         "hoverinfo": "text",
         "marker": {
          "color": "rgb(133,20,75)"
         },
         "mode": "lines",
         "x": [
          6995.0,
          6995.0,
          7010.0,
          7010.0
         ],
         "xaxis": "x",
         "y": [
          0.0,
          0.05588143668475025,
          0.05588143668475025,
          0.01935536477935799
         ],
         "yaxis": "y",
         "type": "scatter"
        },
        {
         "hoverinfo": "text",
         "marker": {
          "color": "rgb(133,20,75)"
         },
         "mode": "lines",
         "x": [
          7025.0,
          7025.0,
          7035.0,
          7035.0
         ],
         "xaxis": "x",
         "y": [
          0.0,
          0.059118688545379036,
          0.059118688545379036,
          0.0
         ],
         "yaxis": "y",
         "type": "scatter"
        },
        {
         "hoverinfo": "text",
         "marker": {
          "color": "rgb(133,20,75)"
         },
         "mode": "lines",
         "x": [
          7002.5,
          7002.5,
          7030.0,
          7030.0
         ],
         "xaxis": "x",
         "y": [
          0.05588143668475025,
          0.08882960781606652,
          0.08882960781606652,
          0.059118688545379036
         ],
         "yaxis": "y",
         "type": "scatter"
        },
        {
         "hoverinfo": "text",
         "marker": {
          "color": "rgb(133,20,75)"
         },
         "mode": "lines",
         "x": [
          6972.5,
          6972.5,
          7016.25,
          7016.25
         ],
         "xaxis": "x",
         "y": [
          0.056820534656433185,
          0.11718542629790364,
          0.11718542629790364,
          0.08882960781606652
         ],
         "yaxis": "y",
         "type": "scatter"
        },
        {
         "hoverinfo": "text",
         "marker": {
          "color": "rgb(133,20,75)"
         },
         "mode": "lines",
         "x": [
          7055.0,
          7055.0,
          7065.0,
          7065.0
         ],
         "xaxis": "x",
         "y": [
          0.0,
          0.03517352660410945,
          0.03517352660410945,
          0.0
         ],
         "yaxis": "y",
         "type": "scatter"
        },
        {
         "hoverinfo": "text",
         "marker": {
          "color": "rgb(133,20,75)"
         },
         "mode": "lines",
         "x": [
          7045.0,
          7045.0,
          7060.0,
          7060.0
         ],
         "xaxis": "x",
         "y": [
          0.0,
          0.047231823057831815,
          0.047231823057831815,
          0.03517352660410945
         ],
         "yaxis": "y",
         "type": "scatter"
        },
        {
         "hoverinfo": "text",
         "marker": {
          "color": "rgb(133,20,75)"
         },
         "mode": "lines",
         "x": [
          7075.0,
          7075.0,
          7085.0,
          7085.0
         ],
         "xaxis": "x",
         "y": [
          0.0,
          0.03997506020649344,
          0.03997506020649344,
          0.0
         ],
         "yaxis": "y",
         "type": "scatter"
        },
        {
         "hoverinfo": "text",
         "marker": {
          "color": "rgb(133,20,75)"
         },
         "mode": "lines",
         "x": [
          7095.0,
          7095.0,
          7105.0,
          7105.0
         ],
         "xaxis": "x",
         "y": [
          0.0,
          0.022894664831506605,
          0.022894664831506605,
          0.0
         ],
         "yaxis": "y",
         "type": "scatter"
        },
        {
         "hoverinfo": "text",
         "marker": {
          "color": "rgb(133,20,75)"
         },
         "mode": "lines",
         "x": [
          7115.0,
          7115.0,
          7125.0,
          7125.0
         ],
         "xaxis": "x",
         "y": [
          0.0,
          0.025301173426181912,
          0.025301173426181912,
          0.0
         ],
         "yaxis": "y",
         "type": "scatter"
        },
        {
         "hoverinfo": "text",
         "marker": {
          "color": "rgb(133,20,75)"
         },
         "mode": "lines",
         "x": [
          7100.0,
          7100.0,
          7120.0,
          7120.0
         ],
         "xaxis": "x",
         "y": [
          0.022894664831506605,
          0.04680027861797822,
          0.04680027861797822,
          0.025301173426181912
         ],
         "yaxis": "y",
         "type": "scatter"
        },
        {
         "hoverinfo": "text",
         "marker": {
          "color": "rgb(133,20,75)"
         },
         "mode": "lines",
         "x": [
          7080.0,
          7080.0,
          7110.0,
          7110.0
         ],
         "xaxis": "x",
         "y": [
          0.03997506020649344,
          0.06758464659195115,
          0.06758464659195115,
          0.04680027861797822
         ],
         "yaxis": "y",
         "type": "scatter"
        },
        {
         "hoverinfo": "text",
         "marker": {
          "color": "rgb(133,20,75)"
         },
         "mode": "lines",
         "x": [
          7052.5,
          7052.5,
          7095.0,
          7095.0
         ],
         "xaxis": "x",
         "y": [
          0.047231823057831815,
          0.09570956999680848,
          0.09570956999680848,
          0.06758464659195115
         ],
         "yaxis": "y",
         "type": "scatter"
        },
        {
         "hoverinfo": "text",
         "marker": {
          "color": "rgb(133,20,75)"
         },
         "mode": "lines",
         "x": [
          7135.0,
          7135.0,
          7145.0,
          7145.0
         ],
         "xaxis": "x",
         "y": [
          0.0,
          0.03835045285457828,
          0.03835045285457828,
          0.0
         ],
         "yaxis": "y",
         "type": "scatter"
        },
        {
         "hoverinfo": "text",
         "marker": {
          "color": "rgb(133,20,75)"
         },
         "mode": "lines",
         "x": [
          7165.0,
          7165.0,
          7175.0,
          7175.0
         ],
         "xaxis": "x",
         "y": [
          0.0,
          0.024766006780250236,
          0.024766006780250236,
          0.0
         ],
         "yaxis": "y",
         "type": "scatter"
        },
        {
         "hoverinfo": "text",
         "marker": {
          "color": "rgb(133,20,75)"
         },
         "mode": "lines",
         "x": [
          7155.0,
          7155.0,
          7170.0,
          7170.0
         ],
         "xaxis": "x",
         "y": [
          0.0,
          0.04722111680261379,
          0.04722111680261379,
          0.024766006780250236
         ],
         "yaxis": "y",
         "type": "scatter"
        },
        {
         "hoverinfo": "text",
         "marker": {
          "color": "rgb(133,20,75)"
         },
         "mode": "lines",
         "x": [
          7140.0,
          7140.0,
          7162.5,
          7162.5
         ],
         "xaxis": "x",
         "y": [
          0.03835045285457828,
          0.06485564617568923,
          0.06485564617568923,
          0.04722111680261379
         ],
         "yaxis": "y",
         "type": "scatter"
        },
        {
         "hoverinfo": "text",
         "marker": {
          "color": "rgb(133,20,75)"
         },
         "mode": "lines",
         "x": [
          7185.0,
          7185.0,
          7195.0,
          7195.0
         ],
         "xaxis": "x",
         "y": [
          0.0,
          0.07021317247908027,
          0.07021317247908027,
          0.0
         ],
         "yaxis": "y",
         "type": "scatter"
        },
        {
         "hoverinfo": "text",
         "marker": {
          "color": "rgb(133,20,75)"
         },
         "mode": "lines",
         "x": [
          7151.25,
          7151.25,
          7190.0,
          7190.0
         ],
         "xaxis": "x",
         "y": [
          0.06485564617568923,
          0.10119555658377176,
          0.10119555658377176,
          0.07021317247908027
         ],
         "yaxis": "y",
         "type": "scatter"
        },
        {
         "hoverinfo": "text",
         "marker": {
          "color": "rgb(133,20,75)"
         },
         "mode": "lines",
         "x": [
          7073.75,
          7073.75,
          7170.625,
          7170.625
         ],
         "xaxis": "x",
         "y": [
          0.09570956999680848,
          0.13198611559371212,
          0.13198611559371212,
          0.10119555658377176
         ],
         "yaxis": "y",
         "type": "scatter"
        },
        {
         "hoverinfo": "text",
         "marker": {
          "color": "rgb(133,20,75)"
         },
         "mode": "lines",
         "x": [
          6994.375,
          6994.375,
          7122.1875,
          7122.1875
         ],
         "xaxis": "x",
         "y": [
          0.11718542629790364,
          0.160733738350864,
          0.160733738350864,
          0.13198611559371212
         ],
         "yaxis": "y",
         "type": "scatter"
        },
        {
         "hoverinfo": "text",
         "marker": {
          "color": "rgb(133,20,75)"
         },
         "mode": "lines",
         "x": [
          7215.0,
          7215.0,
          7225.0,
          7225.0
         ],
         "xaxis": "x",
         "y": [
          0.0,
          0.01601978263449176,
          0.01601978263449176,
          0.0
         ],
         "yaxis": "y",
         "type": "scatter"
        },
        {
         "hoverinfo": "text",
         "marker": {
          "color": "rgb(133,20,75)"
         },
         "mode": "lines",
         "x": [
          7205.0,
          7205.0,
          7220.0,
          7220.0
         ],
         "xaxis": "x",
         "y": [
          0.0,
          0.0472809115821386,
          0.0472809115821386,
          0.01601978263449176
         ],
         "yaxis": "y",
         "type": "scatter"
        },
        {
         "hoverinfo": "text",
         "marker": {
          "color": "rgb(133,20,75)"
         },
         "mode": "lines",
         "x": [
          7255.0,
          7255.0,
          7265.0,
          7265.0
         ],
         "xaxis": "x",
         "y": [
          0.0,
          0.010582021185262303,
          0.010582021185262303,
          0.0
         ],
         "yaxis": "y",
         "type": "scatter"
        },
        {
         "hoverinfo": "text",
         "marker": {
          "color": "rgb(133,20,75)"
         },
         "mode": "lines",
         "x": [
          7245.0,
          7245.0,
          7260.0,
          7260.0
         ],
         "xaxis": "x",
         "y": [
          0.0,
          0.029439881353429093,
          0.029439881353429093,
          0.010582021185262303
         ],
         "yaxis": "y",
         "type": "scatter"
        },
        {
         "hoverinfo": "text",
         "marker": {
          "color": "rgb(133,20,75)"
         },
         "mode": "lines",
         "x": [
          7275.0,
          7275.0,
          7285.0,
          7285.0
         ],
         "xaxis": "x",
         "y": [
          0.0,
          0.04120533723301949,
          0.04120533723301949,
          0.0
         ],
         "yaxis": "y",
         "type": "scatter"
        },
        {
         "hoverinfo": "text",
         "marker": {
          "color": "rgb(133,20,75)"
         },
         "mode": "lines",
         "x": [
          7252.5,
          7252.5,
          7280.0,
          7280.0
         ],
         "xaxis": "x",
         "y": [
          0.029439881353429093,
          0.04262296885562854,
          0.04262296885562854,
          0.04120533723301949
         ],
         "yaxis": "y",
         "type": "scatter"
        },
        {
         "hoverinfo": "text",
         "marker": {
          "color": "rgb(133,20,75)"
         },
         "mode": "lines",
         "x": [
          7235.0,
          7235.0,
          7266.25,
          7266.25
         ],
         "xaxis": "x",
         "y": [
          0.0,
          0.05857001466163956,
          0.05857001466163956,
          0.04262296885562854
         ],
         "yaxis": "y",
         "type": "scatter"
        },
        {
         "hoverinfo": "text",
         "marker": {
          "color": "rgb(133,20,75)"
         },
         "mode": "lines",
         "x": [
          7212.5,
          7212.5,
          7250.625,
          7250.625
         ],
         "xaxis": "x",
         "y": [
          0.0472809115821386,
          0.07826079811882793,
          0.07826079811882793,
          0.05857001466163956
         ],
         "yaxis": "y",
         "type": "scatter"
        },
        {
         "hoverinfo": "text",
         "marker": {
          "color": "rgb(133,20,75)"
         },
         "mode": "lines",
         "x": [
          7315.0,
          7315.0,
          7325.0,
          7325.0
         ],
         "xaxis": "x",
         "y": [
          0.0,
          0.028292606331547718,
          0.028292606331547718,
          0.0
         ],
         "yaxis": "y",
         "type": "scatter"
        },
        {
         "hoverinfo": "text",
         "marker": {
          "color": "rgb(133,20,75)"
         },
         "mode": "lines",
         "x": [
          7305.0,
          7305.0,
          7320.0,
          7320.0
         ],
         "xaxis": "x",
         "y": [
          0.0,
          0.03349233935487091,
          0.03349233935487091,
          0.028292606331547718
         ],
         "yaxis": "y",
         "type": "scatter"
        },
        {
         "hoverinfo": "text",
         "marker": {
          "color": "rgb(133,20,75)"
         },
         "mode": "lines",
         "x": [
          7295.0,
          7295.0,
          7312.5,
          7312.5
         ],
         "xaxis": "x",
         "y": [
          0.0,
          0.06287678694971076,
          0.06287678694971076,
          0.03349233935487091
         ],
         "yaxis": "y",
         "type": "scatter"
        },
        {
         "hoverinfo": "text",
         "marker": {
          "color": "rgb(133,20,75)"
         },
         "mode": "lines",
         "x": [
          7345.0,
          7345.0,
          7355.0,
          7355.0
         ],
         "xaxis": "x",
         "y": [
          0.0,
          0.02205244183944299,
          0.02205244183944299,
          0.0
         ],
         "yaxis": "y",
         "type": "scatter"
        },
        {
         "hoverinfo": "text",
         "marker": {
          "color": "rgb(133,20,75)"
         },
         "mode": "lines",
         "x": [
          7335.0,
          7335.0,
          7350.0,
          7350.0
         ],
         "xaxis": "x",
         "y": [
          0.0,
          0.03402671457547211,
          0.03402671457547211,
          0.02205244183944299
         ],
         "yaxis": "y",
         "type": "scatter"
        },
        {
         "hoverinfo": "text",
         "marker": {
          "color": "rgb(133,20,75)"
         },
         "mode": "lines",
         "x": [
          7365.0,
          7365.0,
          7375.0,
          7375.0
         ],
         "xaxis": "x",
         "y": [
          0.0,
          0.03849268675824511,
          0.03849268675824511,
          0.0
         ],
         "yaxis": "y",
         "type": "scatter"
        },
        {
         "hoverinfo": "text",
         "marker": {
          "color": "rgb(133,20,75)"
         },
         "mode": "lines",
         "x": [
          7342.5,
          7342.5,
          7370.0,
          7370.0
         ],
         "xaxis": "x",
         "y": [
          0.03402671457547211,
          0.06683329580566341,
          0.06683329580566341,
          0.03849268675824511
         ],
         "yaxis": "y",
         "type": "scatter"
        },
        {
         "hoverinfo": "text",
         "marker": {
          "color": "rgb(133,20,75)"
         },
         "mode": "lines",
         "x": [
          7303.75,
          7303.75,
          7356.25,
          7356.25
         ],
         "xaxis": "x",
         "y": [
          0.06287678694971076,
          0.09458742108920692,
          0.09458742108920692,
          0.06683329580566341
         ],
         "yaxis": "y",
         "type": "scatter"
        },
        {
         "hoverinfo": "text",
         "marker": {
          "color": "rgb(133,20,75)"
         },
         "mode": "lines",
         "x": [
          7395.0,
          7395.0,
          7405.0,
          7405.0
         ],
         "xaxis": "x",
         "y": [
          0.0,
          0.019112834103817047,
          0.019112834103817047,
          0.0
         ],
         "yaxis": "y",
         "type": "scatter"
        },
        {
         "hoverinfo": "text",
         "marker": {
          "color": "rgb(133,20,75)"
         },
         "mode": "lines",
         "x": [
          7385.0,
          7385.0,
          7400.0,
          7400.0
         ],
         "xaxis": "x",
         "y": [
          0.0,
          0.04035815163246044,
          0.04035815163246044,
          0.019112834103817047
         ],
         "yaxis": "y",
         "type": "scatter"
        },
        {
         "hoverinfo": "text",
         "marker": {
          "color": "rgb(133,20,75)"
         },
         "mode": "lines",
         "x": [
          7415.0,
          7415.0,
          7425.0,
          7425.0
         ],
         "xaxis": "x",
         "y": [
          0.0,
          0.01639225696502083,
          0.01639225696502083,
          0.0
         ],
         "yaxis": "y",
         "type": "scatter"
        },
        {
         "hoverinfo": "text",
         "marker": {
          "color": "rgb(133,20,75)"
         },
         "mode": "lines",
         "x": [
          7435.0,
          7435.0,
          7445.0,
          7445.0
         ],
         "xaxis": "x",
         "y": [
          0.0,
          0.016931571385494015,
          0.016931571385494015,
          0.0
         ],
         "yaxis": "y",
         "type": "scatter"
        },
        {
         "hoverinfo": "text",
         "marker": {
          "color": "rgb(133,20,75)"
         },
         "mode": "lines",
         "x": [
          7420.0,
          7420.0,
          7440.0,
          7440.0
         ],
         "xaxis": "x",
         "y": [
          0.01639225696502083,
          0.03881877450256271,
          0.03881877450256271,
          0.016931571385494015
         ],
         "yaxis": "y",
         "type": "scatter"
        },
        {
         "hoverinfo": "text",
         "marker": {
          "color": "rgb(133,20,75)"
         },
         "mode": "lines",
         "x": [
          7465.0,
          7465.0,
          7475.0,
          7475.0
         ],
         "xaxis": "x",
         "y": [
          0.0,
          0.03327452773315352,
          0.03327452773315352,
          0.0
         ],
         "yaxis": "y",
         "type": "scatter"
        },
        {
         "hoverinfo": "text",
         "marker": {
          "color": "rgb(133,20,75)"
         },
         "mode": "lines",
         "x": [
          7455.0,
          7455.0,
          7470.0,
          7470.0
         ],
         "xaxis": "x",
         "y": [
          0.0,
          0.05033479905412794,
          0.05033479905412794,
          0.03327452773315352
         ],
         "yaxis": "y",
         "type": "scatter"
        },
        {
         "hoverinfo": "text",
         "marker": {
          "color": "rgb(133,20,75)"
         },
         "mode": "lines",
         "x": [
          7430.0,
          7430.0,
          7462.5,
          7462.5
         ],
         "xaxis": "x",
         "y": [
          0.03881877450256271,
          0.05935617135444162,
          0.05935617135444162,
          0.05033479905412794
         ],
         "yaxis": "y",
         "type": "scatter"
        },
        {
         "hoverinfo": "text",
         "marker": {
          "color": "rgb(133,20,75)"
         },
         "mode": "lines",
         "x": [
          7392.5,
          7392.5,
          7446.25,
          7446.25
         ],
         "xaxis": "x",
         "y": [
          0.04035815163246044,
          0.09678133748033581,
          0.09678133748033581,
          0.05935617135444162
         ],
         "yaxis": "y",
         "type": "scatter"
        },
        {
         "hoverinfo": "text",
         "marker": {
          "color": "rgb(133,20,75)"
         },
         "mode": "lines",
         "x": [
          7330.0,
          7330.0,
          7419.375,
          7419.375
         ],
         "xaxis": "x",
         "y": [
          0.09458742108920692,
          0.11188941010673824,
          0.11188941010673824,
          0.09678133748033581
         ],
         "yaxis": "y",
         "type": "scatter"
        },
        {
         "hoverinfo": "text",
         "marker": {
          "color": "rgb(133,20,75)"
         },
         "mode": "lines",
         "x": [
          7231.5625,
          7231.5625,
          7374.6875,
          7374.6875
         ],
         "xaxis": "x",
         "y": [
          0.07826079811882793,
          0.13299772771582022,
          0.13299772771582022,
          0.11188941010673824
         ],
         "yaxis": "y",
         "type": "scatter"
        },
        {
         "hoverinfo": "text",
         "marker": {
          "color": "rgb(133,20,75)"
         },
         "mode": "lines",
         "x": [
          7485.0,
          7485.0,
          7495.0,
          7495.0
         ],
         "xaxis": "x",
         "y": [
          0.0,
          0.04765988880581852,
          0.04765988880581852,
          0.0
         ],
         "yaxis": "y",
         "type": "scatter"
        },
        {
         "hoverinfo": "text",
         "marker": {
          "color": "rgb(133,20,75)"
         },
         "mode": "lines",
         "x": [
          7515.0,
          7515.0,
          7525.0,
          7525.0
         ],
         "xaxis": "x",
         "y": [
          0.0,
          0.00941149075442628,
          0.00941149075442628,
          0.0
         ],
         "yaxis": "y",
         "type": "scatter"
        },
        {
         "hoverinfo": "text",
         "marker": {
          "color": "rgb(133,20,75)"
         },
         "mode": "lines",
         "x": [
          7505.0,
          7505.0,
          7520.0,
          7520.0
         ],
         "xaxis": "x",
         "y": [
          0.0,
          0.023465171762109126,
          0.023465171762109126,
          0.00941149075442628
         ],
         "yaxis": "y",
         "type": "scatter"
        },
        {
         "hoverinfo": "text",
         "marker": {
          "color": "rgb(133,20,75)"
         },
         "mode": "lines",
         "x": [
          7545.0,
          7545.0,
          7555.0,
          7555.0
         ],
         "xaxis": "x",
         "y": [
          0.0,
          0.01800966919790458,
          0.01800966919790458,
          0.0
         ],
         "yaxis": "y",
         "type": "scatter"
        },
        {
         "hoverinfo": "text",
         "marker": {
          "color": "rgb(133,20,75)"
         },
         "mode": "lines",
         "x": [
          7535.0,
          7535.0,
          7550.0,
          7550.0
         ],
         "xaxis": "x",
         "y": [
          0.0,
          0.028820906456622865,
          0.028820906456622865,
          0.01800966919790458
         ],
         "yaxis": "y",
         "type": "scatter"
        },
        {
         "hoverinfo": "text",
         "marker": {
          "color": "rgb(133,20,75)"
         },
         "mode": "lines",
         "x": [
          7512.5,
          7512.5,
          7542.5,
          7542.5
         ],
         "xaxis": "x",
         "y": [
          0.023465171762109126,
          0.05211256679303334,
          0.05211256679303334,
          0.028820906456622865
         ],
         "yaxis": "y",
         "type": "scatter"
        },
        {
         "hoverinfo": "text",
         "marker": {
          "color": "rgb(133,20,75)"
         },
         "mode": "lines",
         "x": [
          7490.0,
          7490.0,
          7527.5,
          7527.5
         ],
         "xaxis": "x",
         "y": [
          0.04765988880581852,
          0.08188147928142767,
          0.08188147928142767,
          0.05211256679303334
         ],
         "yaxis": "y",
         "type": "scatter"
        },
        {
         "hoverinfo": "text",
         "marker": {
          "color": "rgb(133,20,75)"
         },
         "mode": "lines",
         "x": [
          7565.0,
          7565.0,
          7575.0,
          7575.0
         ],
         "xaxis": "x",
         "y": [
          0.0,
          0.0306599154812825,
          0.0306599154812825,
          0.0
         ],
         "yaxis": "y",
         "type": "scatter"
        },
        {
         "hoverinfo": "text",
         "marker": {
          "color": "rgb(133,20,75)"
         },
         "mode": "lines",
         "x": [
          7595.0,
          7595.0,
          7605.0,
          7605.0
         ],
         "xaxis": "x",
         "y": [
          0.0,
          0.03348915487133211,
          0.03348915487133211,
          0.0
         ],
         "yaxis": "y",
         "type": "scatter"
        },
        {
         "hoverinfo": "text",
         "marker": {
          "color": "rgb(133,20,75)"
         },
         "mode": "lines",
         "x": [
          7585.0,
          7585.0,
          7600.0,
          7600.0
         ],
         "xaxis": "x",
         "y": [
          0.0,
          0.04476504485911221,
          0.04476504485911221,
          0.03348915487133211
         ],
         "yaxis": "y",
         "type": "scatter"
        },
        {
         "hoverinfo": "text",
         "marker": {
          "color": "rgb(133,20,75)"
         },
         "mode": "lines",
         "x": [
          7570.0,
          7570.0,
          7592.5,
          7592.5
         ],
         "xaxis": "x",
         "y": [
          0.0306599154812825,
          0.05464004467096721,
          0.05464004467096721,
          0.04476504485911221
         ],
         "yaxis": "y",
         "type": "scatter"
        },
        {
         "hoverinfo": "text",
         "marker": {
          "color": "rgb(133,20,75)"
         },
         "mode": "lines",
         "x": [
          7615.0,
          7615.0,
          7625.0,
          7625.0
         ],
         "xaxis": "x",
         "y": [
          0.0,
          0.02347440097727709,
          0.02347440097727709,
          0.0
         ],
         "yaxis": "y",
         "type": "scatter"
        },
        {
         "hoverinfo": "text",
         "marker": {
          "color": "rgb(133,20,75)"
         },
         "mode": "lines",
         "x": [
          7645.0,
          7645.0,
          7655.0,
          7655.0
         ],
         "xaxis": "x",
         "y": [
          0.0,
          0.02437164482468046,
          0.02437164482468046,
          0.0
         ],
         "yaxis": "y",
         "type": "scatter"
        },
        {
         "hoverinfo": "text",
         "marker": {
          "color": "rgb(133,20,75)"
         },
         "mode": "lines",
         "x": [
          7635.0,
          7635.0,
          7650.0,
          7650.0
         ],
         "xaxis": "x",
         "y": [
          0.0,
          0.026171342270598613,
          0.026171342270598613,
          0.02437164482468046
         ],
         "yaxis": "y",
         "type": "scatter"
        },
        {
         "hoverinfo": "text",
         "marker": {
          "color": "rgb(133,20,75)"
         },
         "mode": "lines",
         "x": [
          7620.0,
          7620.0,
          7642.5,
          7642.5
         ],
         "xaxis": "x",
         "y": [
          0.02347440097727709,
          0.03970807271937946,
          0.03970807271937946,
          0.026171342270598613
         ],
         "yaxis": "y",
         "type": "scatter"
        },
        {
         "hoverinfo": "text",
         "marker": {
          "color": "rgb(133,20,75)"
         },
         "mode": "lines",
         "x": [
          7675.0,
          7675.0,
          7685.0,
          7685.0
         ],
         "xaxis": "x",
         "y": [
          0.0,
          0.017508005947785208,
          0.017508005947785208,
          0.0
         ],
         "yaxis": "y",
         "type": "scatter"
        },
        {
         "hoverinfo": "text",
         "marker": {
          "color": "rgb(133,20,75)"
         },
         "mode": "lines",
         "x": [
          7665.0,
          7665.0,
          7680.0,
          7680.0
         ],
         "xaxis": "x",
         "y": [
          0.0,
          0.024840320685992148,
          0.024840320685992148,
          0.017508005947785208
         ],
         "yaxis": "y",
         "type": "scatter"
        },
        {
         "hoverinfo": "text",
         "marker": {
          "color": "rgb(133,20,75)"
         },
         "mode": "lines",
         "x": [
          7705.0,
          7705.0,
          7715.0,
          7715.0
         ],
         "xaxis": "x",
         "y": [
          0.0,
          0.025763454958107463,
          0.025763454958107463,
          0.0
         ],
         "yaxis": "y",
         "type": "scatter"
        },
        {
         "hoverinfo": "text",
         "marker": {
          "color": "rgb(133,20,75)"
         },
         "mode": "lines",
         "x": [
          7695.0,
          7695.0,
          7710.0,
          7710.0
         ],
         "xaxis": "x",
         "y": [
          0.0,
          0.03940667054388198,
          0.03940667054388198,
          0.025763454958107463
         ],
         "yaxis": "y",
         "type": "scatter"
        },
        {
         "hoverinfo": "text",
         "marker": {
          "color": "rgb(133,20,75)"
         },
         "mode": "lines",
         "x": [
          7672.5,
          7672.5,
          7702.5,
          7702.5
         ],
         "xaxis": "x",
         "y": [
          0.024840320685992148,
          0.054102080048369715,
          0.054102080048369715,
          0.03940667054388198
         ],
         "yaxis": "y",
         "type": "scatter"
        },
        {
         "hoverinfo": "text",
         "marker": {
          "color": "rgb(133,20,75)"
         },
         "mode": "lines",
         "x": [
          7631.25,
          7631.25,
          7687.5,
          7687.5
         ],
         "xaxis": "x",
         "y": [
          0.03970807271937946,
          0.07240908007577787,
          0.07240908007577787,
          0.054102080048369715
         ],
         "yaxis": "y",
         "type": "scatter"
        },
        {
         "hoverinfo": "text",
         "marker": {
          "color": "rgb(133,20,75)"
         },
         "mode": "lines",
         "x": [
          7581.25,
          7581.25,
          7659.375,
          7659.375
         ],
         "xaxis": "x",
         "y": [
          0.05464004467096721,
          0.09039539753874538,
          0.09039539753874538,
          0.07240908007577787
         ],
         "yaxis": "y",
         "type": "scatter"
        },
        {
         "hoverinfo": "text",
         "marker": {
          "color": "rgb(133,20,75)"
         },
         "mode": "lines",
         "x": [
          7508.75,
          7508.75,
          7620.3125,
          7620.3125
         ],
         "xaxis": "x",
         "y": [
          0.08188147928142767,
          0.09745140174080728,
          0.09745140174080728,
          0.09039539753874538
         ],
         "yaxis": "y",
         "type": "scatter"
        },
        {
         "hoverinfo": "text",
         "marker": {
          "color": "rgb(133,20,75)"
         },
         "mode": "lines",
         "x": [
          7725.0,
          7725.0,
          7735.0,
          7735.0
         ],
         "xaxis": "x",
         "y": [
          0.0,
          0.0249749293143883,
          0.0249749293143883,
          0.0
         ],
         "yaxis": "y",
         "type": "scatter"
        },
        {
         "hoverinfo": "text",
         "marker": {
          "color": "rgb(133,20,75)"
         },
         "mode": "lines",
         "x": [
          7755.0,
          7755.0,
          7765.0,
          7765.0
         ],
         "xaxis": "x",
         "y": [
          0.0,
          0.019810524178214522,
          0.019810524178214522,
          0.0
         ],
         "yaxis": "y",
         "type": "scatter"
        },
        {
         "hoverinfo": "text",
         "marker": {
          "color": "rgb(133,20,75)"
         },
         "mode": "lines",
         "x": [
          7745.0,
          7745.0,
          7760.0,
          7760.0
         ],
         "xaxis": "x",
         "y": [
          0.0,
          0.049443386450391945,
          0.049443386450391945,
          0.019810524178214522
         ],
         "yaxis": "y",
         "type": "scatter"
        },
        {
         "hoverinfo": "text",
         "marker": {
          "color": "rgb(133,20,75)"
         },
         "mode": "lines",
         "x": [
          7730.0,
          7730.0,
          7752.5,
          7752.5
         ],
         "xaxis": "x",
         "y": [
          0.0249749293143883,
          0.06898489141691407,
          0.06898489141691407,
          0.049443386450391945
         ],
         "yaxis": "y",
         "type": "scatter"
        },
        {
         "hoverinfo": "text",
         "marker": {
          "color": "rgb(133,20,75)"
         },
         "mode": "lines",
         "x": [
          7775.0,
          7775.0,
          7785.0,
          7785.0
         ],
         "xaxis": "x",
         "y": [
          0.0,
          0.04264706650863801,
          0.04264706650863801,
          0.0
         ],
         "yaxis": "y",
         "type": "scatter"
        },
        {
         "hoverinfo": "text",
         "marker": {
          "color": "rgb(133,20,75)"
         },
         "mode": "lines",
         "x": [
          7805.0,
          7805.0,
          7815.0,
          7815.0
         ],
         "xaxis": "x",
         "y": [
          0.0,
          0.022700944518074005,
          0.022700944518074005,
          0.0
         ],
         "yaxis": "y",
         "type": "scatter"
        },
        {
         "hoverinfo": "text",
         "marker": {
          "color": "rgb(133,20,75)"
         },
         "mode": "lines",
         "x": [
          7795.0,
          7795.0,
          7810.0,
          7810.0
         ],
         "xaxis": "x",
         "y": [
          0.0,
          0.052153083529045435,
          0.052153083529045435,
          0.022700944518074005
         ],
         "yaxis": "y",
         "type": "scatter"
        },
        {
         "hoverinfo": "text",
         "marker": {
          "color": "rgb(133,20,75)"
         },
         "mode": "lines",
         "x": [
          7780.0,
          7780.0,
          7802.5,
          7802.5
         ],
         "xaxis": "x",
         "y": [
          0.04264706650863801,
          0.07976679122704779,
          0.07976679122704779,
          0.052153083529045435
         ],
         "yaxis": "y",
         "type": "scatter"
        },
        {
         "hoverinfo": "text",
         "marker": {
          "color": "rgb(133,20,75)"
         },
         "mode": "lines",
         "x": [
          7741.25,
          7741.25,
          7791.25,
          7791.25
         ],
         "xaxis": "x",
         "y": [
          0.06898489141691407,
          0.09985198961917266,
          0.09985198961917266,
          0.07976679122704779
         ],
         "yaxis": "y",
         "type": "scatter"
        },
        {
         "hoverinfo": "text",
         "marker": {
          "color": "rgb(133,20,75)"
         },
         "mode": "lines",
         "x": [
          7564.53125,
          7564.53125,
          7766.25,
          7766.25
         ],
         "xaxis": "x",
         "y": [
          0.09745140174080728,
          0.15843632691041776,
          0.15843632691041776,
          0.09985198961917266
         ],
         "yaxis": "y",
         "type": "scatter"
        },
        {
         "hoverinfo": "text",
         "marker": {
          "color": "rgb(133,20,75)"
         },
         "mode": "lines",
         "x": [
          7303.125,
          7303.125,
          7665.390625,
          7665.390625
         ],
         "xaxis": "x",
         "y": [
          0.13299772771582022,
          0.1908014001317677,
          0.1908014001317677,
          0.15843632691041776
         ],
         "yaxis": "y",
         "type": "scatter"
        },
        {
         "hoverinfo": "text",
         "marker": {
          "color": "rgb(133,20,75)"
         },
         "mode": "lines",
         "x": [
          7058.28125,
          7058.28125,
          7484.2578125,
          7484.2578125
         ],
         "xaxis": "x",
         "y": [
          0.160733738350864,
          0.22447603413462783,
          0.22447603413462783,
          0.1908014001317677
         ],
         "yaxis": "y",
         "type": "scatter"
        },
        {
         "hoverinfo": "text",
         "marker": {
          "color": "rgb(133,20,75)"
         },
         "mode": "lines",
         "x": [
          7825.0,
          7825.0,
          7835.0,
          7835.0
         ],
         "xaxis": "x",
         "y": [
          0.0,
          0.03473927409007552,
          0.03473927409007552,
          0.0
         ],
         "yaxis": "y",
         "type": "scatter"
        },
        {
         "hoverinfo": "text",
         "marker": {
          "color": "rgb(133,20,75)"
         },
         "mode": "lines",
         "x": [
          7855.0,
          7855.0,
          7865.0,
          7865.0
         ],
         "xaxis": "x",
         "y": [
          0.0,
          0.03785259628925675,
          0.03785259628925675,
          0.0
         ],
         "yaxis": "y",
         "type": "scatter"
        },
        {
         "hoverinfo": "text",
         "marker": {
          "color": "rgb(133,20,75)"
         },
         "mode": "lines",
         "x": [
          7845.0,
          7845.0,
          7860.0,
          7860.0
         ],
         "xaxis": "x",
         "y": [
          0.0,
          0.04256083596211739,
          0.04256083596211739,
          0.03785259628925675
         ],
         "yaxis": "y",
         "type": "scatter"
        },
        {
         "hoverinfo": "text",
         "marker": {
          "color": "rgb(133,20,75)"
         },
         "mode": "lines",
         "x": [
          7830.0,
          7830.0,
          7852.5,
          7852.5
         ],
         "xaxis": "x",
         "y": [
          0.03473927409007552,
          0.08760708852171009,
          0.08760708852171009,
          0.04256083596211739
         ],
         "yaxis": "y",
         "type": "scatter"
        },
        {
         "hoverinfo": "text",
         "marker": {
          "color": "rgb(133,20,75)"
         },
         "mode": "lines",
         "x": [
          7875.0,
          7875.0,
          7885.0,
          7885.0
         ],
         "xaxis": "x",
         "y": [
          0.0,
          0.06283649666018962,
          0.06283649666018962,
          0.0
         ],
         "yaxis": "y",
         "type": "scatter"
        },
        {
         "hoverinfo": "text",
         "marker": {
          "color": "rgb(133,20,75)"
         },
         "mode": "lines",
         "x": [
          7915.0,
          7915.0,
          7925.0,
          7925.0
         ],
         "xaxis": "x",
         "y": [
          0.0,
          0.024560098878661504,
          0.024560098878661504,
          0.0
         ],
         "yaxis": "y",
         "type": "scatter"
        },
        {
         "hoverinfo": "text",
         "marker": {
          "color": "rgb(133,20,75)"
         },
         "mode": "lines",
         "x": [
          7905.0,
          7905.0,
          7920.0,
          7920.0
         ],
         "xaxis": "x",
         "y": [
          0.0,
          0.054011283055510985,
          0.054011283055510985,
          0.024560098878661504
         ],
         "yaxis": "y",
         "type": "scatter"
        },
        {
         "hoverinfo": "text",
         "marker": {
          "color": "rgb(133,20,75)"
         },
         "mode": "lines",
         "x": [
          7895.0,
          7895.0,
          7912.5,
          7912.5
         ],
         "xaxis": "x",
         "y": [
          0.0,
          0.09581497136735219,
          0.09581497136735219,
          0.054011283055510985
         ],
         "yaxis": "y",
         "type": "scatter"
        },
        {
         "hoverinfo": "text",
         "marker": {
          "color": "rgb(133,20,75)"
         },
         "mode": "lines",
         "x": [
          7955.0,
          7955.0,
          7965.0,
          7965.0
         ],
         "xaxis": "x",
         "y": [
          0.0,
          0.04142108772475294,
          0.04142108772475294,
          0.0
         ],
         "yaxis": "y",
         "type": "scatter"
        },
        {
         "hoverinfo": "text",
         "marker": {
          "color": "rgb(133,20,75)"
         },
         "mode": "lines",
         "x": [
          7945.0,
          7945.0,
          7960.0,
          7960.0
         ],
         "xaxis": "x",
         "y": [
          0.0,
          0.06272142346674114,
          0.06272142346674114,
          0.04142108772475294
         ],
         "yaxis": "y",
         "type": "scatter"
        },
        {
         "hoverinfo": "text",
         "marker": {
          "color": "rgb(133,20,75)"
         },
         "mode": "lines",
         "x": [
          7935.0,
          7935.0,
          7952.5,
          7952.5
         ],
         "xaxis": "x",
         "y": [
          0.0,
          0.08296529471861859,
          0.08296529471861859,
          0.06272142346674114
         ],
         "yaxis": "y",
         "type": "scatter"
        },
        {
         "hoverinfo": "text",
         "marker": {
          "color": "rgb(133,20,75)"
         },
         "mode": "lines",
         "x": [
          7975.0,
          7975.0,
          7985.0,
          7985.0
         ],
         "xaxis": "x",
         "y": [
          0.0,
          0.016264658844564968,
          0.016264658844564968,
          0.0
         ],
         "yaxis": "y",
         "type": "scatter"
        },
        {
         "hoverinfo": "text",
         "marker": {
          "color": "rgb(133,20,75)"
         },
         "mode": "lines",
         "x": [
          7995.0,
          7995.0,
          8005.0,
          8005.0
         ],
         "xaxis": "x",
         "y": [
          0.0,
          0.030367990998101835,
          0.030367990998101835,
          0.0
         ],
         "yaxis": "y",
         "type": "scatter"
        },
        {
         "hoverinfo": "text",
         "marker": {
          "color": "rgb(133,20,75)"
         },
         "mode": "lines",
         "x": [
          7980.0,
          7980.0,
          8000.0,
          8000.0
         ],
         "xaxis": "x",
         "y": [
          0.016264658844564968,
          0.044555596191533396,
          0.044555596191533396,
          0.030367990998101835
         ],
         "yaxis": "y",
         "type": "scatter"
        },
        {
         "hoverinfo": "text",
         "marker": {
          "color": "rgb(133,20,75)"
         },
         "mode": "lines",
         "x": [
          8025.0,
          8025.0,
          8035.0,
          8035.0
         ],
         "xaxis": "x",
         "y": [
          0.0,
          0.029761470484351297,
          0.029761470484351297,
          0.0
         ],
         "yaxis": "y",
         "type": "scatter"
        },
        {
         "hoverinfo": "text",
         "marker": {
          "color": "rgb(133,20,75)"
         },
         "mode": "lines",
         "x": [
          8045.0,
          8045.0,
          8055.0,
          8055.0
         ],
         "xaxis": "x",
         "y": [
          0.0,
          0.033457394262553286,
          0.033457394262553286,
          0.0
         ],
         "yaxis": "y",
         "type": "scatter"
        },
        {
         "hoverinfo": "text",
         "marker": {
          "color": "rgb(133,20,75)"
         },
         "mode": "lines",
         "x": [
          8030.0,
          8030.0,
          8050.0,
          8050.0
         ],
         "xaxis": "x",
         "y": [
          0.029761470484351297,
          0.03926930443441322,
          0.03926930443441322,
          0.033457394262553286
         ],
         "yaxis": "y",
         "type": "scatter"
        },
        {
         "hoverinfo": "text",
         "marker": {
          "color": "rgb(133,20,75)"
         },
         "mode": "lines",
         "x": [
          8015.0,
          8015.0,
          8040.0,
          8040.0
         ],
         "xaxis": "x",
         "y": [
          0.0,
          0.06214902804455525,
          0.06214902804455525,
          0.03926930443441322
         ],
         "yaxis": "y",
         "type": "scatter"
        },
        {
         "hoverinfo": "text",
         "marker": {
          "color": "rgb(133,20,75)"
         },
         "mode": "lines",
         "x": [
          7990.0,
          7990.0,
          8027.5,
          8027.5
         ],
         "xaxis": "x",
         "y": [
          0.044555596191533396,
          0.06675116437929161,
          0.06675116437929161,
          0.06214902804455525
         ],
         "yaxis": "y",
         "type": "scatter"
        },
        {
         "hoverinfo": "text",
         "marker": {
          "color": "rgb(133,20,75)"
         },
         "mode": "lines",
         "x": [
          8075.0,
          8075.0,
          8085.0,
          8085.0
         ],
         "xaxis": "x",
         "y": [
          0.0,
          0.020901734963260827,
          0.020901734963260827,
          0.0
         ],
         "yaxis": "y",
         "type": "scatter"
        },
        {
         "hoverinfo": "text",
         "marker": {
          "color": "rgb(133,20,75)"
         },
         "mode": "lines",
         "x": [
          8105.0,
          8105.0,
          8115.0,
          8115.0
         ],
         "xaxis": "x",
         "y": [
          0.0,
          0.02424777859389546,
          0.02424777859389546,
          0.0
         ],
         "yaxis": "y",
         "type": "scatter"
        },
        {
         "hoverinfo": "text",
         "marker": {
          "color": "rgb(133,20,75)"
         },
         "mode": "lines",
         "x": [
          8095.0,
          8095.0,
          8110.0,
          8110.0
         ],
         "xaxis": "x",
         "y": [
          0.0,
          0.05002723052916527,
          0.05002723052916527,
          0.02424777859389546
         ],
         "yaxis": "y",
         "type": "scatter"
        },
        {
         "hoverinfo": "text",
         "marker": {
          "color": "rgb(133,20,75)"
         },
         "mode": "lines",
         "x": [
          8080.0,
          8080.0,
          8102.5,
          8102.5
         ],
         "xaxis": "x",
         "y": [
          0.020901734963260827,
          0.05270619064922704,
          0.05270619064922704,
          0.05002723052916527
         ],
         "yaxis": "y",
         "type": "scatter"
        },
        {
         "hoverinfo": "text",
         "marker": {
          "color": "rgb(133,20,75)"
         },
         "mode": "lines",
         "x": [
          8065.0,
          8065.0,
          8091.25,
          8091.25
         ],
         "xaxis": "x",
         "y": [
          0.0,
          0.0815671346689442,
          0.0815671346689442,
          0.05270619064922704
         ],
         "yaxis": "y",
         "type": "scatter"
        },
        {
         "hoverinfo": "text",
         "marker": {
          "color": "rgb(133,20,75)"
         },
         "mode": "lines",
         "x": [
          8008.75,
          8008.75,
          8078.125,
          8078.125
         ],
         "xaxis": "x",
         "y": [
          0.06675116437929161,
          0.11224861120789878,
          0.11224861120789878,
          0.0815671346689442
         ],
         "yaxis": "y",
         "type": "scatter"
        },
        {
         "hoverinfo": "text",
         "marker": {
          "color": "rgb(133,20,75)"
         },
         "mode": "lines",
         "x": [
          7943.75,
          7943.75,
          8043.4375,
          8043.4375
         ],
         "xaxis": "x",
         "y": [
          0.08296529471861859,
          0.12674373510347026,
          0.12674373510347026,
          0.11224861120789878
         ],
         "yaxis": "y",
         "type": "scatter"
        },
        {
         "hoverinfo": "text",
         "marker": {
          "color": "rgb(133,20,75)"
         },
         "mode": "lines",
         "x": [
          7903.75,
          7903.75,
          7993.59375,
          7993.59375
         ],
         "xaxis": "x",
         "y": [
          0.09581497136735219,
          0.13966432929832984,
          0.13966432929832984,
          0.12674373510347026
         ],
         "yaxis": "y",
         "type": "scatter"
        },
        {
         "hoverinfo": "text",
         "marker": {
          "color": "rgb(133,20,75)"
         },
         "mode": "lines",
         "x": [
          7880.0,
          7880.0,
          7948.671875,
          7948.671875
         ],
         "xaxis": "x",
         "y": [
          0.06283649666018962,
          0.15503361267327606,
          0.15503361267327606,
          0.13966432929832984
         ],
         "yaxis": "y",
         "type": "scatter"
        },
        {
         "hoverinfo": "text",
         "marker": {
          "color": "rgb(133,20,75)"
         },
         "mode": "lines",
         "x": [
          7841.25,
          7841.25,
          7914.3359375,
          7914.3359375
         ],
         "xaxis": "x",
         "y": [
          0.08760708852171009,
          0.19349988827815837,
          0.19349988827815837,
          0.15503361267327606
         ],
         "yaxis": "y",
         "type": "scatter"
        },
        {
         "hoverinfo": "text",
         "marker": {
          "color": "rgb(133,20,75)"
         },
         "mode": "lines",
         "x": [
          8135.0,
          8135.0,
          8145.0,
          8145.0
         ],
         "xaxis": "x",
         "y": [
          0.0,
          0.07330659806131314,
          0.07330659806131314,
          0.0
         ],
         "yaxis": "y",
         "type": "scatter"
        },
        {
         "hoverinfo": "text",
         "marker": {
          "color": "rgb(133,20,75)"
         },
         "mode": "lines",
         "x": [
          8165.0,
          8165.0,
          8175.0,
          8175.0
         ],
         "xaxis": "x",
         "y": [
          0.0,
          0.026321082584516545,
          0.026321082584516545,
          0.0
         ],
         "yaxis": "y",
         "type": "scatter"
        },
        {
         "hoverinfo": "text",
         "marker": {
          "color": "rgb(133,20,75)"
         },
         "mode": "lines",
         "x": [
          8155.0,
          8155.0,
          8170.0,
          8170.0
         ],
         "xaxis": "x",
         "y": [
          0.0,
          0.05959424457728386,
          0.05959424457728386,
          0.026321082584516545
         ],
         "yaxis": "y",
         "type": "scatter"
        },
        {
         "hoverinfo": "text",
         "marker": {
          "color": "rgb(133,20,75)"
         },
         "mode": "lines",
         "x": [
          8195.0,
          8195.0,
          8205.0,
          8205.0
         ],
         "xaxis": "x",
         "y": [
          0.0,
          0.027399281237581872,
          0.027399281237581872,
          0.0
         ],
         "yaxis": "y",
         "type": "scatter"
        },
        {
         "hoverinfo": "text",
         "marker": {
          "color": "rgb(133,20,75)"
         },
         "mode": "lines",
         "x": [
          8185.0,
          8185.0,
          8200.0,
          8200.0
         ],
         "xaxis": "x",
         "y": [
          0.0,
          0.03637384192977273,
          0.03637384192977273,
          0.027399281237581872
         ],
         "yaxis": "y",
         "type": "scatter"
        },
        {
         "hoverinfo": "text",
         "marker": {
          "color": "rgb(133,20,75)"
         },
         "mode": "lines",
         "x": [
          8225.0,
          8225.0,
          8235.0,
          8235.0
         ],
         "xaxis": "x",
         "y": [
          0.0,
          0.027782645889641442,
          0.027782645889641442,
          0.0
         ],
         "yaxis": "y",
         "type": "scatter"
        },
        {
         "hoverinfo": "text",
         "marker": {
          "color": "rgb(133,20,75)"
         },
         "mode": "lines",
         "x": [
          8215.0,
          8215.0,
          8230.0,
          8230.0
         ],
         "xaxis": "x",
         "y": [
          0.0,
          0.048378745522158234,
          0.048378745522158234,
          0.027782645889641442
         ],
         "yaxis": "y",
         "type": "scatter"
        },
        {
         "hoverinfo": "text",
         "marker": {
          "color": "rgb(133,20,75)"
         },
         "mode": "lines",
         "x": [
          8192.5,
          8192.5,
          8222.5,
          8222.5
         ],
         "xaxis": "x",
         "y": [
          0.03637384192977273,
          0.07457154808330949,
          0.07457154808330949,
          0.048378745522158234
         ],
         "yaxis": "y",
         "type": "scatter"
        },
        {
         "hoverinfo": "text",
         "marker": {
          "color": "rgb(133,20,75)"
         },
         "mode": "lines",
         "x": [
          8162.5,
          8162.5,
          8207.5,
          8207.5
         ],
         "xaxis": "x",
         "y": [
          0.05959424457728386,
          0.09565018755613602,
          0.09565018755613602,
          0.07457154808330949
         ],
         "yaxis": "y",
         "type": "scatter"
        },
        {
         "hoverinfo": "text",
         "marker": {
          "color": "rgb(133,20,75)"
         },
         "mode": "lines",
         "x": [
          8140.0,
          8140.0,
          8185.0,
          8185.0
         ],
         "xaxis": "x",
         "y": [
          0.07330659806131314,
          0.12645144429220526,
          0.12645144429220526,
          0.09565018755613602
         ],
         "yaxis": "y",
         "type": "scatter"
        },
        {
         "hoverinfo": "text",
         "marker": {
          "color": "rgb(133,20,75)"
         },
         "mode": "lines",
         "x": [
          8125.0,
          8125.0,
          8162.5,
          8162.5
         ],
         "xaxis": "x",
         "y": [
          0.0,
          0.193954713368914,
          0.193954713368914,
          0.12645144429220526
         ],
         "yaxis": "y",
         "type": "scatter"
        },
        {
         "hoverinfo": "text",
         "marker": {
          "color": "rgb(133,20,75)"
         },
         "mode": "lines",
         "x": [
          7877.79296875,
          7877.79296875,
          8143.75,
          8143.75
         ],
         "xaxis": "x",
         "y": [
          0.19349988827815837,
          0.22914620163959798,
          0.22914620163959798,
          0.193954713368914
         ],
         "yaxis": "y",
         "type": "scatter"
        },
        {
         "hoverinfo": "text",
         "marker": {
          "color": "rgb(133,20,75)"
         },
         "mode": "lines",
         "x": [
          7271.26953125,
          7271.26953125,
          8010.771484375,
          8010.771484375
         ],
         "xaxis": "x",
         "y": [
          0.22447603413462783,
          0.28540280596375667,
          0.28540280596375667,
          0.22914620163959798
         ],
         "yaxis": "y",
         "type": "scatter"
        },
        {
         "hoverinfo": "text",
         "marker": {
          "color": "rgb(133,20,75)"
         },
         "mode": "lines",
         "x": [
          8255.0,
          8255.0,
          8265.0,
          8265.0
         ],
         "xaxis": "x",
         "y": [
          0.0,
          0.05511076420982714,
          0.05511076420982714,
          0.0
         ],
         "yaxis": "y",
         "type": "scatter"
        },
        {
         "hoverinfo": "text",
         "marker": {
          "color": "rgb(133,20,75)"
         },
         "mode": "lines",
         "x": [
          8245.0,
          8245.0,
          8260.0,
          8260.0
         ],
         "xaxis": "x",
         "y": [
          0.0,
          0.08977583622192825,
          0.08977583622192825,
          0.05511076420982714
         ],
         "yaxis": "y",
         "type": "scatter"
        },
        {
         "hoverinfo": "text",
         "marker": {
          "color": "rgb(133,20,75)"
         },
         "mode": "lines",
         "x": [
          8275.0,
          8275.0,
          8285.0,
          8285.0
         ],
         "xaxis": "x",
         "y": [
          0.0,
          0.04670456301299933,
          0.04670456301299933,
          0.0
         ],
         "yaxis": "y",
         "type": "scatter"
        },
        {
         "hoverinfo": "text",
         "marker": {
          "color": "rgb(133,20,75)"
         },
         "mode": "lines",
         "x": [
          8295.0,
          8295.0,
          8305.0,
          8305.0
         ],
         "xaxis": "x",
         "y": [
          0.0,
          0.03351312737077685,
          0.03351312737077685,
          0.0
         ],
         "yaxis": "y",
         "type": "scatter"
        },
        {
         "hoverinfo": "text",
         "marker": {
          "color": "rgb(133,20,75)"
         },
         "mode": "lines",
         "x": [
          8315.0,
          8315.0,
          8325.0,
          8325.0
         ],
         "xaxis": "x",
         "y": [
          0.0,
          0.04197278047989868,
          0.04197278047989868,
          0.0
         ],
         "yaxis": "y",
         "type": "scatter"
        },
        {
         "hoverinfo": "text",
         "marker": {
          "color": "rgb(133,20,75)"
         },
         "mode": "lines",
         "x": [
          8300.0,
          8300.0,
          8320.0,
          8320.0
         ],
         "xaxis": "x",
         "y": [
          0.03351312737077685,
          0.0697744496549748,
          0.0697744496549748,
          0.04197278047989868
         ],
         "yaxis": "y",
         "type": "scatter"
        },
        {
         "hoverinfo": "text",
         "marker": {
          "color": "rgb(133,20,75)"
         },
         "mode": "lines",
         "x": [
          8280.0,
          8280.0,
          8310.0,
          8310.0
         ],
         "xaxis": "x",
         "y": [
          0.04670456301299933,
          0.07711661120693022,
          0.07711661120693022,
          0.0697744496549748
         ],
         "yaxis": "y",
         "type": "scatter"
        },
        {
         "hoverinfo": "text",
         "marker": {
          "color": "rgb(133,20,75)"
         },
         "mode": "lines",
         "x": [
          8345.0,
          8345.0,
          8355.0,
          8355.0
         ],
         "xaxis": "x",
         "y": [
          0.0,
          0.04060191014922041,
          0.04060191014922041,
          0.0
         ],
         "yaxis": "y",
         "type": "scatter"
        },
        {
         "hoverinfo": "text",
         "marker": {
          "color": "rgb(133,20,75)"
         },
         "mode": "lines",
         "x": [
          8335.0,
          8335.0,
          8350.0,
          8350.0
         ],
         "xaxis": "x",
         "y": [
          0.0,
          0.0542816539506426,
          0.0542816539506426,
          0.04060191014922041
         ],
         "yaxis": "y",
         "type": "scatter"
        },
        {
         "hoverinfo": "text",
         "marker": {
          "color": "rgb(133,20,75)"
         },
         "mode": "lines",
         "x": [
          8365.0,
          8365.0,
          8375.0,
          8375.0
         ],
         "xaxis": "x",
         "y": [
          0.0,
          0.027877921752604666,
          0.027877921752604666,
          0.0
         ],
         "yaxis": "y",
         "type": "scatter"
        },
        {
         "hoverinfo": "text",
         "marker": {
          "color": "rgb(133,20,75)"
         },
         "mode": "lines",
         "x": [
          8395.0,
          8395.0,
          8405.0,
          8405.0
         ],
         "xaxis": "x",
         "y": [
          0.0,
          0.017928310435030383,
          0.017928310435030383,
          0.0
         ],
         "yaxis": "y",
         "type": "scatter"
        },
        {
         "hoverinfo": "text",
         "marker": {
          "color": "rgb(133,20,75)"
         },
         "mode": "lines",
         "x": [
          8385.0,
          8385.0,
          8400.0,
          8400.0
         ],
         "xaxis": "x",
         "y": [
          0.0,
          0.030417194100323255,
          0.030417194100323255,
          0.017928310435030383
         ],
         "yaxis": "y",
         "type": "scatter"
        },
        {
         "hoverinfo": "text",
         "marker": {
          "color": "rgb(133,20,75)"
         },
         "mode": "lines",
         "x": [
          8370.0,
          8370.0,
          8392.5,
          8392.5
         ],
         "xaxis": "x",
         "y": [
          0.027877921752604666,
          0.03673841405548058,
          0.03673841405548058,
          0.030417194100323255
         ],
         "yaxis": "y",
         "type": "scatter"
        },
        {
         "hoverinfo": "text",
         "marker": {
          "color": "rgb(133,20,75)"
         },
         "mode": "lines",
         "x": [
          8425.0,
          8425.0,
          8435.0,
          8435.0
         ],
         "xaxis": "x",
         "y": [
          0.0,
          0.025030148445982885,
          0.025030148445982885,
          0.0
         ],
         "yaxis": "y",
         "type": "scatter"
        },
        {
         "hoverinfo": "text",
         "marker": {
          "color": "rgb(133,20,75)"
         },
         "mode": "lines",
         "x": [
          8415.0,
          8415.0,
          8430.0,
          8430.0
         ],
         "xaxis": "x",
         "y": [
          0.0,
          0.04819193052057567,
          0.04819193052057567,
          0.025030148445982885
         ],
         "yaxis": "y",
         "type": "scatter"
        },
        {
         "hoverinfo": "text",
         "marker": {
          "color": "rgb(133,20,75)"
         },
         "mode": "lines",
         "x": [
          8381.25,
          8381.25,
          8422.5,
          8422.5
         ],
         "xaxis": "x",
         "y": [
          0.03673841405548058,
          0.0589896968289868,
          0.0589896968289868,
          0.04819193052057567
         ],
         "yaxis": "y",
         "type": "scatter"
        },
        {
         "hoverinfo": "text",
         "marker": {
          "color": "rgb(133,20,75)"
         },
         "mode": "lines",
         "x": [
          8342.5,
          8342.5,
          8401.875,
          8401.875
         ],
         "xaxis": "x",
         "y": [
          0.0542816539506426,
          0.10094248893961086,
          0.10094248893961086,
          0.0589896968289868
         ],
         "yaxis": "y",
         "type": "scatter"
        },
        {
         "hoverinfo": "text",
         "marker": {
          "color": "rgb(133,20,75)"
         },
         "mode": "lines",
         "x": [
          8295.0,
          8295.0,
          8372.1875,
          8372.1875
         ],
         "xaxis": "x",
         "y": [
          0.07711661120693022,
          0.1354593540506247,
          0.1354593540506247,
          0.10094248893961086
         ],
         "yaxis": "y",
         "type": "scatter"
        },
        {
         "hoverinfo": "text",
         "marker": {
          "color": "rgb(133,20,75)"
         },
         "mode": "lines",
         "x": [
          8252.5,
          8252.5,
          8333.59375,
          8333.59375
         ],
         "xaxis": "x",
         "y": [
          0.08977583622192825,
          0.1465287647021828,
          0.1465287647021828,
          0.1354593540506247
         ],
         "yaxis": "y",
         "type": "scatter"
        },
        {
         "hoverinfo": "text",
         "marker": {
          "color": "rgb(133,20,75)"
         },
         "mode": "lines",
         "x": [
          8455.0,
          8455.0,
          8465.0,
          8465.0
         ],
         "xaxis": "x",
         "y": [
          0.0,
          0.04163498890071682,
          0.04163498890071682,
          0.0
         ],
         "yaxis": "y",
         "type": "scatter"
        },
        {
         "hoverinfo": "text",
         "marker": {
          "color": "rgb(133,20,75)"
         },
         "mode": "lines",
         "x": [
          8445.0,
          8445.0,
          8460.0,
          8460.0
         ],
         "xaxis": "x",
         "y": [
          0.0,
          0.0490101706433508,
          0.0490101706433508,
          0.04163498890071682
         ],
         "yaxis": "y",
         "type": "scatter"
        },
        {
         "hoverinfo": "text",
         "marker": {
          "color": "rgb(133,20,75)"
         },
         "mode": "lines",
         "x": [
          8495.0,
          8495.0,
          8505.0,
          8505.0
         ],
         "xaxis": "x",
         "y": [
          0.0,
          0.04967321969075695,
          0.04967321969075695,
          0.0
         ],
         "yaxis": "y",
         "type": "scatter"
        },
        {
         "hoverinfo": "text",
         "marker": {
          "color": "rgb(133,20,75)"
         },
         "mode": "lines",
         "x": [
          8485.0,
          8485.0,
          8500.0,
          8500.0
         ],
         "xaxis": "x",
         "y": [
          0.0,
          0.05778383434109361,
          0.05778383434109361,
          0.04967321969075695
         ],
         "yaxis": "y",
         "type": "scatter"
        },
        {
         "hoverinfo": "text",
         "marker": {
          "color": "rgb(133,20,75)"
         },
         "mode": "lines",
         "x": [
          8475.0,
          8475.0,
          8492.5,
          8492.5
         ],
         "xaxis": "x",
         "y": [
          0.0,
          0.09362002703183091,
          0.09362002703183091,
          0.05778383434109361
         ],
         "yaxis": "y",
         "type": "scatter"
        },
        {
         "hoverinfo": "text",
         "marker": {
          "color": "rgb(133,20,75)"
         },
         "mode": "lines",
         "x": [
          8452.5,
          8452.5,
          8483.75,
          8483.75
         ],
         "xaxis": "x",
         "y": [
          0.0490101706433508,
          0.1213680962098177,
          0.1213680962098177,
          0.09362002703183091
         ],
         "yaxis": "y",
         "type": "scatter"
        },
        {
         "hoverinfo": "text",
         "marker": {
          "color": "rgb(133,20,75)"
         },
         "mode": "lines",
         "x": [
          8515.0,
          8515.0,
          8525.0,
          8525.0
         ],
         "xaxis": "x",
         "y": [
          0.0,
          0.04396697066999357,
          0.04396697066999357,
          0.0
         ],
         "yaxis": "y",
         "type": "scatter"
        },
        {
         "hoverinfo": "text",
         "marker": {
          "color": "rgb(133,20,75)"
         },
         "mode": "lines",
         "x": [
          8555.0,
          8555.0,
          8565.0,
          8565.0
         ],
         "xaxis": "x",
         "y": [
          0.0,
          0.04735502795607899,
          0.04735502795607899,
          0.0
         ],
         "yaxis": "y",
         "type": "scatter"
        },
        {
         "hoverinfo": "text",
         "marker": {
          "color": "rgb(133,20,75)"
         },
         "mode": "lines",
         "x": [
          8545.0,
          8545.0,
          8560.0,
          8560.0
         ],
         "xaxis": "x",
         "y": [
          0.0,
          0.06231666969522365,
          0.06231666969522365,
          0.04735502795607899
         ],
         "yaxis": "y",
         "type": "scatter"
        },
        {
         "hoverinfo": "text",
         "marker": {
          "color": "rgb(133,20,75)"
         },
         "mode": "lines",
         "x": [
          8535.0,
          8535.0,
          8552.5,
          8552.5
         ],
         "xaxis": "x",
         "y": [
          0.0,
          0.09108721787980428,
          0.09108721787980428,
          0.06231666969522365
         ],
         "yaxis": "y",
         "type": "scatter"
        },
        {
         "hoverinfo": "text",
         "marker": {
          "color": "rgb(133,20,75)"
         },
         "mode": "lines",
         "x": [
          8520.0,
          8520.0,
          8543.75,
          8543.75
         ],
         "xaxis": "x",
         "y": [
          0.04396697066999357,
          0.1028040503967632,
          0.1028040503967632,
          0.09108721787980428
         ],
         "yaxis": "y",
         "type": "scatter"
        },
        {
         "hoverinfo": "text",
         "marker": {
          "color": "rgb(133,20,75)"
         },
         "mode": "lines",
         "x": [
          8585.0,
          8585.0,
          8595.0,
          8595.0
         ],
         "xaxis": "x",
         "y": [
          0.0,
          0.024430954653020587,
          0.024430954653020587,
          0.0
         ],
         "yaxis": "y",
         "type": "scatter"
        },
        {
         "hoverinfo": "text",
         "marker": {
          "color": "rgb(133,20,75)"
         },
         "mode": "lines",
         "x": [
          8605.0,
          8605.0,
          8615.0,
          8615.0
         ],
         "xaxis": "x",
         "y": [
          0.0,
          0.035095207555889324,
          0.035095207555889324,
          0.0
         ],
         "yaxis": "y",
         "type": "scatter"
        },
        {
         "hoverinfo": "text",
         "marker": {
          "color": "rgb(133,20,75)"
         },
         "mode": "lines",
         "x": [
          8590.0,
          8590.0,
          8610.0,
          8610.0
         ],
         "xaxis": "x",
         "y": [
          0.024430954653020587,
          0.04966572925843397,
          0.04966572925843397,
          0.035095207555889324
         ],
         "yaxis": "y",
         "type": "scatter"
        },
        {
         "hoverinfo": "text",
         "marker": {
          "color": "rgb(133,20,75)"
         },
         "mode": "lines",
         "x": [
          8575.0,
          8575.0,
          8600.0,
          8600.0
         ],
         "xaxis": "x",
         "y": [
          0.0,
          0.06194212052825672,
          0.06194212052825672,
          0.04966572925843397
         ],
         "yaxis": "y",
         "type": "scatter"
        },
        {
         "hoverinfo": "text",
         "marker": {
          "color": "rgb(133,20,75)"
         },
         "mode": "lines",
         "x": [
          8625.0,
          8625.0,
          8635.0,
          8635.0
         ],
         "xaxis": "x",
         "y": [
          0.0,
          0.03879420976819777,
          0.03879420976819777,
          0.0
         ],
         "yaxis": "y",
         "type": "scatter"
        },
        {
         "hoverinfo": "text",
         "marker": {
          "color": "rgb(133,20,75)"
         },
         "mode": "lines",
         "x": [
          8645.0,
          8645.0,
          8655.0,
          8655.0
         ],
         "xaxis": "x",
         "y": [
          0.0,
          0.04209006709205136,
          0.04209006709205136,
          0.0
         ],
         "yaxis": "y",
         "type": "scatter"
        },
        {
         "hoverinfo": "text",
         "marker": {
          "color": "rgb(133,20,75)"
         },
         "mode": "lines",
         "x": [
          8630.0,
          8630.0,
          8650.0,
          8650.0
         ],
         "xaxis": "x",
         "y": [
          0.03879420976819777,
          0.07050817361899701,
          0.07050817361899701,
          0.04209006709205136
         ],
         "yaxis": "y",
         "type": "scatter"
        },
        {
         "hoverinfo": "text",
         "marker": {
          "color": "rgb(133,20,75)"
         },
         "mode": "lines",
         "x": [
          8587.5,
          8587.5,
          8640.0,
          8640.0
         ],
         "xaxis": "x",
         "y": [
          0.06194212052825672,
          0.10291676188762172,
          0.10291676188762172,
          0.07050817361899701
         ],
         "yaxis": "y",
         "type": "scatter"
        },
        {
         "hoverinfo": "text",
         "marker": {
          "color": "rgb(133,20,75)"
         },
         "mode": "lines",
         "x": [
          8531.875,
          8531.875,
          8613.75,
          8613.75
         ],
         "xaxis": "x",
         "y": [
          0.1028040503967632,
          0.1599746757501113,
          0.1599746757501113,
          0.10291676188762172
         ],
         "yaxis": "y",
         "type": "scatter"
        },
        {
         "hoverinfo": "text",
         "marker": {
          "color": "rgb(133,20,75)"
         },
         "mode": "lines",
         "x": [
          8468.125,
          8468.125,
          8572.8125,
          8572.8125
         ],
         "xaxis": "x",
         "y": [
          0.1213680962098177,
          0.19012100058407064,
          0.19012100058407064,
          0.1599746757501113
         ],
         "yaxis": "y",
         "type": "scatter"
        },
        {
         "hoverinfo": "text",
         "marker": {
          "color": "rgb(133,20,75)"
         },
         "mode": "lines",
         "x": [
          8293.046875,
          8293.046875,
          8520.46875,
          8520.46875
         ],
         "xaxis": "x",
         "y": [
          0.1465287647021828,
          0.2054560719718031,
          0.2054560719718031,
          0.19012100058407064
         ],
         "yaxis": "y",
         "type": "scatter"
        },
        {
         "hoverinfo": "text",
         "marker": {
          "color": "rgb(133,20,75)"
         },
         "mode": "lines",
         "x": [
          8695.0,
          8695.0,
          8705.0,
          8705.0
         ],
         "xaxis": "x",
         "y": [
          0.0,
          0.0220796164048498,
          0.0220796164048498,
          0.0
         ],
         "yaxis": "y",
         "type": "scatter"
        },
        {
         "hoverinfo": "text",
         "marker": {
          "color": "rgb(133,20,75)"
         },
         "mode": "lines",
         "x": [
          8685.0,
          8685.0,
          8700.0,
          8700.0
         ],
         "xaxis": "x",
         "y": [
          0.0,
          0.02374689495206667,
          0.02374689495206667,
          0.0220796164048498
         ],
         "yaxis": "y",
         "type": "scatter"
        },
        {
         "hoverinfo": "text",
         "marker": {
          "color": "rgb(133,20,75)"
         },
         "mode": "lines",
         "x": [
          8675.0,
          8675.0,
          8692.5,
          8692.5
         ],
         "xaxis": "x",
         "y": [
          0.0,
          0.04452495186087804,
          0.04452495186087804,
          0.02374689495206667
         ],
         "yaxis": "y",
         "type": "scatter"
        },
        {
         "hoverinfo": "text",
         "marker": {
          "color": "rgb(133,20,75)"
         },
         "mode": "lines",
         "x": [
          8665.0,
          8665.0,
          8683.75,
          8683.75
         ],
         "xaxis": "x",
         "y": [
          0.0,
          0.05217529050577154,
          0.05217529050577154,
          0.04452495186087804
         ],
         "yaxis": "y",
         "type": "scatter"
        },
        {
         "hoverinfo": "text",
         "marker": {
          "color": "rgb(133,20,75)"
         },
         "mode": "lines",
         "x": [
          8715.0,
          8715.0,
          8725.0,
          8725.0
         ],
         "xaxis": "x",
         "y": [
          0.0,
          0.03330811309183194,
          0.03330811309183194,
          0.0
         ],
         "yaxis": "y",
         "type": "scatter"
        },
        {
         "hoverinfo": "text",
         "marker": {
          "color": "rgb(133,20,75)"
         },
         "mode": "lines",
         "x": [
          8755.0,
          8755.0,
          8765.0,
          8765.0
         ],
         "xaxis": "x",
         "y": [
          0.0,
          0.026903163852164624,
          0.026903163852164624,
          0.0
         ],
         "yaxis": "y",
         "type": "scatter"
        },
        {
         "hoverinfo": "text",
         "marker": {
          "color": "rgb(133,20,75)"
         },
         "mode": "lines",
         "x": [
          8745.0,
          8745.0,
          8760.0,
          8760.0
         ],
         "xaxis": "x",
         "y": [
          0.0,
          0.03614688549883619,
          0.03614688549883619,
          0.026903163852164624
         ],
         "yaxis": "y",
         "type": "scatter"
        },
        {
         "hoverinfo": "text",
         "marker": {
          "color": "rgb(133,20,75)"
         },
         "mode": "lines",
         "x": [
          8735.0,
          8735.0,
          8752.5,
          8752.5
         ],
         "xaxis": "x",
         "y": [
          0.0,
          0.05178330927948462,
          0.05178330927948462,
          0.03614688549883619
         ],
         "yaxis": "y",
         "type": "scatter"
        },
        {
         "hoverinfo": "text",
         "marker": {
          "color": "rgb(133,20,75)"
         },
         "mode": "lines",
         "x": [
          8720.0,
          8720.0,
          8743.75,
          8743.75
         ],
         "xaxis": "x",
         "y": [
          0.03330811309183194,
          0.06379038643747502,
          0.06379038643747502,
          0.05178330927948462
         ],
         "yaxis": "y",
         "type": "scatter"
        },
        {
         "hoverinfo": "text",
         "marker": {
          "color": "rgb(133,20,75)"
         },
         "mode": "lines",
         "x": [
          8674.375,
          8674.375,
          8731.875,
          8731.875
         ],
         "xaxis": "x",
         "y": [
          0.05217529050577154,
          0.06959379318140473,
          0.06959379318140473,
          0.06379038643747502
         ],
         "yaxis": "y",
         "type": "scatter"
        },
        {
         "hoverinfo": "text",
         "marker": {
          "color": "rgb(133,20,75)"
         },
         "mode": "lines",
         "x": [
          8775.0,
          8775.0,
          8785.0,
          8785.0
         ],
         "xaxis": "x",
         "y": [
          0.0,
          0.02410412395758461,
          0.02410412395758461,
          0.0
         ],
         "yaxis": "y",
         "type": "scatter"
        },
        {
         "hoverinfo": "text",
         "marker": {
          "color": "rgb(133,20,75)"
         },
         "mode": "lines",
         "x": [
          8795.0,
          8795.0,
          8805.0,
          8805.0
         ],
         "xaxis": "x",
         "y": [
          0.0,
          0.016622810460796555,
          0.016622810460796555,
          0.0
         ],
         "yaxis": "y",
         "type": "scatter"
        },
        {
         "hoverinfo": "text",
         "marker": {
          "color": "rgb(133,20,75)"
         },
         "mode": "lines",
         "x": [
          8815.0,
          8815.0,
          8825.0,
          8825.0
         ],
         "xaxis": "x",
         "y": [
          0.0,
          0.027684021129594078,
          0.027684021129594078,
          0.0
         ],
         "yaxis": "y",
         "type": "scatter"
        },
        {
         "hoverinfo": "text",
         "marker": {
          "color": "rgb(133,20,75)"
         },
         "mode": "lines",
         "x": [
          8800.0,
          8800.0,
          8820.0,
          8820.0
         ],
         "xaxis": "x",
         "y": [
          0.016622810460796555,
          0.044142452665961986,
          0.044142452665961986,
          0.027684021129594078
         ],
         "yaxis": "y",
         "type": "scatter"
        },
        {
         "hoverinfo": "text",
         "marker": {
          "color": "rgb(133,20,75)"
         },
         "mode": "lines",
         "x": [
          8780.0,
          8780.0,
          8810.0,
          8810.0
         ],
         "xaxis": "x",
         "y": [
          0.02410412395758461,
          0.05750093268889234,
          0.05750093268889234,
          0.044142452665961986
         ],
         "yaxis": "y",
         "type": "scatter"
        },
        {
         "hoverinfo": "text",
         "marker": {
          "color": "rgb(133,20,75)"
         },
         "mode": "lines",
         "x": [
          8835.0,
          8835.0,
          8845.0,
          8845.0
         ],
         "xaxis": "x",
         "y": [
          0.0,
          0.023334892902109283,
          0.023334892902109283,
          0.0
         ],
         "yaxis": "y",
         "type": "scatter"
        },
        {
         "hoverinfo": "text",
         "marker": {
          "color": "rgb(133,20,75)"
         },
         "mode": "lines",
         "x": [
          8855.0,
          8855.0,
          8865.0,
          8865.0
         ],
         "xaxis": "x",
         "y": [
          0.0,
          0.011864514820600141,
          0.011864514820600141,
          0.0
         ],
         "yaxis": "y",
         "type": "scatter"
        },
        {
         "hoverinfo": "text",
         "marker": {
          "color": "rgb(133,20,75)"
         },
         "mode": "lines",
         "x": [
          8875.0,
          8875.0,
          8885.0,
          8885.0
         ],
         "xaxis": "x",
         "y": [
          0.0,
          0.026852379818709415,
          0.026852379818709415,
          0.0
         ],
         "yaxis": "y",
         "type": "scatter"
        },
        {
         "hoverinfo": "text",
         "marker": {
          "color": "rgb(133,20,75)"
         },
         "mode": "lines",
         "x": [
          8860.0,
          8860.0,
          8880.0,
          8880.0
         ],
         "xaxis": "x",
         "y": [
          0.011864514820600141,
          0.030636660504434157,
          0.030636660504434157,
          0.026852379818709415
         ],
         "yaxis": "y",
         "type": "scatter"
        },
        {
         "hoverinfo": "text",
         "marker": {
          "color": "rgb(133,20,75)"
         },
         "mode": "lines",
         "x": [
          8905.0,
          8905.0,
          8915.0,
          8915.0
         ],
         "xaxis": "x",
         "y": [
          0.0,
          0.01853974594985143,
          0.01853974594985143,
          0.0
         ],
         "yaxis": "y",
         "type": "scatter"
        },
        {
         "hoverinfo": "text",
         "marker": {
          "color": "rgb(133,20,75)"
         },
         "mode": "lines",
         "x": [
          8895.0,
          8895.0,
          8910.0,
          8910.0
         ],
         "xaxis": "x",
         "y": [
          0.0,
          0.022304983952241335,
          0.022304983952241335,
          0.01853974594985143
         ],
         "yaxis": "y",
         "type": "scatter"
        },
        {
         "hoverinfo": "text",
         "marker": {
          "color": "rgb(133,20,75)"
         },
         "mode": "lines",
         "x": [
          8925.0,
          8925.0,
          8935.0,
          8935.0
         ],
         "xaxis": "x",
         "y": [
          0.0,
          0.022783045440592786,
          0.022783045440592786,
          0.0
         ],
         "yaxis": "y",
         "type": "scatter"
        },
        {
         "hoverinfo": "text",
         "marker": {
          "color": "rgb(133,20,75)"
         },
         "mode": "lines",
         "x": [
          8902.5,
          8902.5,
          8930.0,
          8930.0
         ],
         "xaxis": "x",
         "y": [
          0.022304983952241335,
          0.038240043197291684,
          0.038240043197291684,
          0.022783045440592786
         ],
         "yaxis": "y",
         "type": "scatter"
        },
        {
         "hoverinfo": "text",
         "marker": {
          "color": "rgb(133,20,75)"
         },
         "mode": "lines",
         "x": [
          8870.0,
          8870.0,
          8916.25,
          8916.25
         ],
         "xaxis": "x",
         "y": [
          0.030636660504434157,
          0.05344238872213493,
          0.05344238872213493,
          0.038240043197291684
         ],
         "yaxis": "y",
         "type": "scatter"
        },
        {
         "hoverinfo": "text",
         "marker": {
          "color": "rgb(133,20,75)"
         },
         "mode": "lines",
         "x": [
          8945.0,
          8945.0,
          8955.0,
          8955.0
         ],
         "xaxis": "x",
         "y": [
          0.0,
          0.021485443014773217,
          0.021485443014773217,
          0.0
         ],
         "yaxis": "y",
         "type": "scatter"
        },
        {
         "hoverinfo": "text",
         "marker": {
          "color": "rgb(133,20,75)"
         },
         "mode": "lines",
         "x": [
          8965.0,
          8965.0,
          8975.0,
          8975.0
         ],
         "xaxis": "x",
         "y": [
          0.0,
          0.014786792922793376,
          0.014786792922793376,
          0.0
         ],
         "yaxis": "y",
         "type": "scatter"
        },
        {
         "hoverinfo": "text",
         "marker": {
          "color": "rgb(133,20,75)"
         },
         "mode": "lines",
         "x": [
          8995.0,
          8995.0,
          9005.0,
          9005.0
         ],
         "xaxis": "x",
         "y": [
          0.0,
          0.01715276132669189,
          0.01715276132669189,
          0.0
         ],
         "yaxis": "y",
         "type": "scatter"
        },
        {
         "hoverinfo": "text",
         "marker": {
          "color": "rgb(133,20,75)"
         },
         "mode": "lines",
         "x": [
          8985.0,
          8985.0,
          9000.0,
          9000.0
         ],
         "xaxis": "x",
         "y": [
          0.0,
          0.02685953068132702,
          0.02685953068132702,
          0.01715276132669189
         ],
         "yaxis": "y",
         "type": "scatter"
        },
        {
         "hoverinfo": "text",
         "marker": {
          "color": "rgb(133,20,75)"
         },
         "mode": "lines",
         "x": [
          8970.0,
          8970.0,
          8992.5,
          8992.5
         ],
         "xaxis": "x",
         "y": [
          0.014786792922793376,
          0.029467871456065556,
          0.029467871456065556,
          0.02685953068132702
         ],
         "yaxis": "y",
         "type": "scatter"
        },
        {
         "hoverinfo": "text",
         "marker": {
          "color": "rgb(133,20,75)"
         },
         "mode": "lines",
         "x": [
          8950.0,
          8950.0,
          8981.25,
          8981.25
         ],
         "xaxis": "x",
         "y": [
          0.021485443014773217,
          0.04007089258479691,
          0.04007089258479691,
          0.029467871456065556
         ],
         "yaxis": "y",
         "type": "scatter"
        },
        {
         "hoverinfo": "text",
         "marker": {
          "color": "rgb(133,20,75)"
         },
         "mode": "lines",
         "x": [
          9025.0,
          9025.0,
          9035.0,
          9035.0
         ],
         "xaxis": "x",
         "y": [
          0.0,
          0.024140228439763406,
          0.024140228439763406,
          0.0
         ],
         "yaxis": "y",
         "type": "scatter"
        },
        {
         "hoverinfo": "text",
         "marker": {
          "color": "rgb(133,20,75)"
         },
         "mode": "lines",
         "x": [
          9015.0,
          9015.0,
          9030.0,
          9030.0
         ],
         "xaxis": "x",
         "y": [
          0.0,
          0.030026909157515963,
          0.030026909157515963,
          0.024140228439763406
         ],
         "yaxis": "y",
         "type": "scatter"
        },
        {
         "hoverinfo": "text",
         "marker": {
          "color": "rgb(133,20,75)"
         },
         "mode": "lines",
         "x": [
          9055.0,
          9055.0,
          9065.0,
          9065.0
         ],
         "xaxis": "x",
         "y": [
          0.0,
          0.01502780408511395,
          0.01502780408511395,
          0.0
         ],
         "yaxis": "y",
         "type": "scatter"
        },
        {
         "hoverinfo": "text",
         "marker": {
          "color": "rgb(133,20,75)"
         },
         "mode": "lines",
         "x": [
          9045.0,
          9045.0,
          9060.0,
          9060.0
         ],
         "xaxis": "x",
         "y": [
          0.0,
          0.02144539451634041,
          0.02144539451634041,
          0.01502780408511395
         ],
         "yaxis": "y",
         "type": "scatter"
        },
        {
         "hoverinfo": "text",
         "marker": {
          "color": "rgb(133,20,75)"
         },
         "mode": "lines",
         "x": [
          9075.0,
          9075.0,
          9085.0,
          9085.0
         ],
         "xaxis": "x",
         "y": [
          0.0,
          0.026385942155671027,
          0.026385942155671027,
          0.0
         ],
         "yaxis": "y",
         "type": "scatter"
        },
        {
         "hoverinfo": "text",
         "marker": {
          "color": "rgb(133,20,75)"
         },
         "mode": "lines",
         "x": [
          9052.5,
          9052.5,
          9080.0,
          9080.0
         ],
         "xaxis": "x",
         "y": [
          0.02144539451634041,
          0.04182745073645812,
          0.04182745073645812,
          0.026385942155671027
         ],
         "yaxis": "y",
         "type": "scatter"
        },
        {
         "hoverinfo": "text",
         "marker": {
          "color": "rgb(133,20,75)"
         },
         "mode": "lines",
         "x": [
          9022.5,
          9022.5,
          9066.25,
          9066.25
         ],
         "xaxis": "x",
         "y": [
          0.030026909157515963,
          0.04888401712897197,
          0.04888401712897197,
          0.04182745073645812
         ],
         "yaxis": "y",
         "type": "scatter"
        },
        {
         "hoverinfo": "text",
         "marker": {
          "color": "rgb(133,20,75)"
         },
         "mode": "lines",
         "x": [
          8965.625,
          8965.625,
          9044.375,
          9044.375
         ],
         "xaxis": "x",
         "y": [
          0.04007089258479691,
          0.06494720832472588,
          0.06494720832472588,
          0.04888401712897197
         ],
         "yaxis": "y",
         "type": "scatter"
        },
        {
         "hoverinfo": "text",
         "marker": {
          "color": "rgb(133,20,75)"
         },
         "mode": "lines",
         "x": [
          8893.125,
          8893.125,
          9005.0,
          9005.0
         ],
         "xaxis": "x",
         "y": [
          0.05344238872213493,
          0.07354097867688633,
          0.07354097867688633,
          0.06494720832472588
         ],
         "yaxis": "y",
         "type": "scatter"
        },
        {
         "hoverinfo": "text",
         "marker": {
          "color": "rgb(133,20,75)"
         },
         "mode": "lines",
         "x": [
          8840.0,
          8840.0,
          8949.0625,
          8949.0625
         ],
         "xaxis": "x",
         "y": [
          0.023334892902109283,
          0.07603300469928707,
          0.07603300469928707,
          0.07354097867688633
         ],
         "yaxis": "y",
         "type": "scatter"
        },
        {
         "hoverinfo": "text",
         "marker": {
          "color": "rgb(133,20,75)"
         },
         "mode": "lines",
         "x": [
          8795.0,
          8795.0,
          8894.53125,
          8894.53125
         ],
         "xaxis": "x",
         "y": [
          0.05750093268889234,
          0.08780737564974084,
          0.08780737564974084,
          0.07603300469928707
         ],
         "yaxis": "y",
         "type": "scatter"
        },
        {
         "hoverinfo": "text",
         "marker": {
          "color": "rgb(133,20,75)"
         },
         "mode": "lines",
         "x": [
          8703.125,
          8703.125,
          8844.765625,
          8844.765625
         ],
         "xaxis": "x",
         "y": [
          0.06959379318140473,
          0.13445283584617557,
          0.13445283584617557,
          0.08780737564974084
         ],
         "yaxis": "y",
         "type": "scatter"
        },
        {
         "hoverinfo": "text",
         "marker": {
          "color": "rgb(133,20,75)"
         },
         "mode": "lines",
         "x": [
          9095.0,
          9095.0,
          9105.0,
          9105.0
         ],
         "xaxis": "x",
         "y": [
          0.0,
          0.027055907840554366,
          0.027055907840554366,
          0.0
         ],
         "yaxis": "y",
         "type": "scatter"
        },
        {
         "hoverinfo": "text",
         "marker": {
          "color": "rgb(133,20,75)"
         },
         "mode": "lines",
         "x": [
          9115.0,
          9115.0,
          9125.0,
          9125.0
         ],
         "xaxis": "x",
         "y": [
          0.0,
          0.02941975273797909,
          0.02941975273797909,
          0.0
         ],
         "yaxis": "y",
         "type": "scatter"
        },
        {
         "hoverinfo": "text",
         "marker": {
          "color": "rgb(133,20,75)"
         },
         "mode": "lines",
         "x": [
          9100.0,
          9100.0,
          9120.0,
          9120.0
         ],
         "xaxis": "x",
         "y": [
          0.027055907840554366,
          0.04851186258286777,
          0.04851186258286777,
          0.02941975273797909
         ],
         "yaxis": "y",
         "type": "scatter"
        },
        {
         "hoverinfo": "text",
         "marker": {
          "color": "rgb(133,20,75)"
         },
         "mode": "lines",
         "x": [
          9155.0,
          9155.0,
          9165.0,
          9165.0
         ],
         "xaxis": "x",
         "y": [
          0.0,
          0.024603193411465538,
          0.024603193411465538,
          0.0
         ],
         "yaxis": "y",
         "type": "scatter"
        },
        {
         "hoverinfo": "text",
         "marker": {
          "color": "rgb(133,20,75)"
         },
         "mode": "lines",
         "x": [
          9145.0,
          9145.0,
          9160.0,
          9160.0
         ],
         "xaxis": "x",
         "y": [
          0.0,
          0.04157313225897736,
          0.04157313225897736,
          0.024603193411465538
         ],
         "yaxis": "y",
         "type": "scatter"
        },
        {
         "hoverinfo": "text",
         "marker": {
          "color": "rgb(133,20,75)"
         },
         "mode": "lines",
         "x": [
          9135.0,
          9135.0,
          9152.5,
          9152.5
         ],
         "xaxis": "x",
         "y": [
          0.0,
          0.053794349499939796,
          0.053794349499939796,
          0.04157313225897736
         ],
         "yaxis": "y",
         "type": "scatter"
        },
        {
         "hoverinfo": "text",
         "marker": {
          "color": "rgb(133,20,75)"
         },
         "mode": "lines",
         "x": [
          9195.0,
          9195.0,
          9205.0,
          9205.0
         ],
         "xaxis": "x",
         "y": [
          0.0,
          0.017637386654294727,
          0.017637386654294727,
          0.0
         ],
         "yaxis": "y",
         "type": "scatter"
        },
        {
         "hoverinfo": "text",
         "marker": {
          "color": "rgb(133,20,75)"
         },
         "mode": "lines",
         "x": [
          9185.0,
          9185.0,
          9200.0,
          9200.0
         ],
         "xaxis": "x",
         "y": [
          0.0,
          0.04085748751821955,
          0.04085748751821955,
          0.017637386654294727
         ],
         "yaxis": "y",
         "type": "scatter"
        },
        {
         "hoverinfo": "text",
         "marker": {
          "color": "rgb(133,20,75)"
         },
         "mode": "lines",
         "x": [
          9175.0,
          9175.0,
          9192.5,
          9192.5
         ],
         "xaxis": "x",
         "y": [
          0.0,
          0.05921986614803623,
          0.05921986614803623,
          0.04085748751821955
         ],
         "yaxis": "y",
         "type": "scatter"
        },
        {
         "hoverinfo": "text",
         "marker": {
          "color": "rgb(133,20,75)"
         },
         "mode": "lines",
         "x": [
          9143.75,
          9143.75,
          9183.75,
          9183.75
         ],
         "xaxis": "x",
         "y": [
          0.053794349499939796,
          0.09396784513552639,
          0.09396784513552639,
          0.05921986614803623
         ],
         "yaxis": "y",
         "type": "scatter"
        },
        {
         "hoverinfo": "text",
         "marker": {
          "color": "rgb(133,20,75)"
         },
         "mode": "lines",
         "x": [
          9110.0,
          9110.0,
          9163.75,
          9163.75
         ],
         "xaxis": "x",
         "y": [
          0.04851186258286777,
          0.0979338668384723,
          0.0979338668384723,
          0.09396784513552639
         ],
         "yaxis": "y",
         "type": "scatter"
        },
        {
         "hoverinfo": "text",
         "marker": {
          "color": "rgb(133,20,75)"
         },
         "mode": "lines",
         "x": [
          9225.0,
          9225.0,
          9235.0,
          9235.0
         ],
         "xaxis": "x",
         "y": [
          0.0,
          0.026423563306175443,
          0.026423563306175443,
          0.0
         ],
         "yaxis": "y",
         "type": "scatter"
        },
        {
         "hoverinfo": "text",
         "marker": {
          "color": "rgb(133,20,75)"
         },
         "mode": "lines",
         "x": [
          9215.0,
          9215.0,
          9230.0,
          9230.0
         ],
         "xaxis": "x",
         "y": [
          0.0,
          0.03429739337795289,
          0.03429739337795289,
          0.026423563306175443
         ],
         "yaxis": "y",
         "type": "scatter"
        },
        {
         "hoverinfo": "text",
         "marker": {
          "color": "rgb(133,20,75)"
         },
         "mode": "lines",
         "x": [
          9245.0,
          9245.0,
          9255.0,
          9255.0
         ],
         "xaxis": "x",
         "y": [
          0.0,
          0.05255742424414285,
          0.05255742424414285,
          0.0
         ],
         "yaxis": "y",
         "type": "scatter"
        },
        {
         "hoverinfo": "text",
         "marker": {
          "color": "rgb(133,20,75)"
         },
         "mode": "lines",
         "x": [
          9222.5,
          9222.5,
          9250.0,
          9250.0
         ],
         "xaxis": "x",
         "y": [
          0.03429739337795289,
          0.08166326219704903,
          0.08166326219704903,
          0.05255742424414285
         ],
         "yaxis": "y",
         "type": "scatter"
        },
        {
         "hoverinfo": "text",
         "marker": {
          "color": "rgb(133,20,75)"
         },
         "mode": "lines",
         "x": [
          9265.0,
          9265.0,
          9275.0,
          9275.0
         ],
         "xaxis": "x",
         "y": [
          0.0,
          0.03720815772618688,
          0.03720815772618688,
          0.0
         ],
         "yaxis": "y",
         "type": "scatter"
        },
        {
         "hoverinfo": "text",
         "marker": {
          "color": "rgb(133,20,75)"
         },
         "mode": "lines",
         "x": [
          9285.0,
          9285.0,
          9295.0,
          9295.0
         ],
         "xaxis": "x",
         "y": [
          0.0,
          0.03070543680984386,
          0.03070543680984386,
          0.0
         ],
         "yaxis": "y",
         "type": "scatter"
        },
        {
         "hoverinfo": "text",
         "marker": {
          "color": "rgb(133,20,75)"
         },
         "mode": "lines",
         "x": [
          9305.0,
          9305.0,
          9315.0,
          9315.0
         ],
         "xaxis": "x",
         "y": [
          0.0,
          0.019585855599208123,
          0.019585855599208123,
          0.0
         ],
         "yaxis": "y",
         "type": "scatter"
        },
        {
         "hoverinfo": "text",
         "marker": {
          "color": "rgb(133,20,75)"
         },
         "mode": "lines",
         "x": [
          9325.0,
          9325.0,
          9335.0,
          9335.0
         ],
         "xaxis": "x",
         "y": [
          0.0,
          0.04346819882576171,
          0.04346819882576171,
          0.0
         ],
         "yaxis": "y",
         "type": "scatter"
        },
        {
         "hoverinfo": "text",
         "marker": {
          "color": "rgb(133,20,75)"
         },
         "mode": "lines",
         "x": [
          9310.0,
          9310.0,
          9330.0,
          9330.0
         ],
         "xaxis": "x",
         "y": [
          0.019585855599208123,
          0.04658064896031322,
          0.04658064896031322,
          0.04346819882576171
         ],
         "yaxis": "y",
         "type": "scatter"
        },
        {
         "hoverinfo": "text",
         "marker": {
          "color": "rgb(133,20,75)"
         },
         "mode": "lines",
         "x": [
          9290.0,
          9290.0,
          9320.0,
          9320.0
         ],
         "xaxis": "x",
         "y": [
          0.03070543680984386,
          0.06457095052086508,
          0.06457095052086508,
          0.04658064896031322
         ],
         "yaxis": "y",
         "type": "scatter"
        },
        {
         "hoverinfo": "text",
         "marker": {
          "color": "rgb(133,20,75)"
         },
         "mode": "lines",
         "x": [
          9270.0,
          9270.0,
          9305.0,
          9305.0
         ],
         "xaxis": "x",
         "y": [
          0.03720815772618688,
          0.08766454203578822,
          0.08766454203578822,
          0.06457095052086508
         ],
         "yaxis": "y",
         "type": "scatter"
        },
        {
         "hoverinfo": "text",
         "marker": {
          "color": "rgb(133,20,75)"
         },
         "mode": "lines",
         "x": [
          9236.25,
          9236.25,
          9287.5,
          9287.5
         ],
         "xaxis": "x",
         "y": [
          0.08166326219704903,
          0.11894031522832518,
          0.11894031522832518,
          0.08766454203578822
         ],
         "yaxis": "y",
         "type": "scatter"
        },
        {
         "hoverinfo": "text",
         "marker": {
          "color": "rgb(133,20,75)"
         },
         "mode": "lines",
         "x": [
          9136.875,
          9136.875,
          9261.875,
          9261.875
         ],
         "xaxis": "x",
         "y": [
          0.0979338668384723,
          0.1497304865289994,
          0.1497304865289994,
          0.11894031522832518
         ],
         "yaxis": "y",
         "type": "scatter"
        },
        {
         "hoverinfo": "text",
         "marker": {
          "color": "rgb(133,20,75)"
         },
         "mode": "lines",
         "x": [
          8773.9453125,
          8773.9453125,
          9199.375,
          9199.375
         ],
         "xaxis": "x",
         "y": [
          0.13445283584617557,
          0.18167289132156755,
          0.18167289132156755,
          0.1497304865289994
         ],
         "yaxis": "y",
         "type": "scatter"
        },
        {
         "hoverinfo": "text",
         "marker": {
          "color": "rgb(133,20,75)"
         },
         "mode": "lines",
         "x": [
          9355.0,
          9355.0,
          9365.0,
          9365.0
         ],
         "xaxis": "x",
         "y": [
          0.0,
          0.027944587126500723,
          0.027944587126500723,
          0.0
         ],
         "yaxis": "y",
         "type": "scatter"
        },
        {
         "hoverinfo": "text",
         "marker": {
          "color": "rgb(133,20,75)"
         },
         "mode": "lines",
         "x": [
          9345.0,
          9345.0,
          9360.0,
          9360.0
         ],
         "xaxis": "x",
         "y": [
          0.0,
          0.04837030240339327,
          0.04837030240339327,
          0.027944587126500723
         ],
         "yaxis": "y",
         "type": "scatter"
        },
        {
         "hoverinfo": "text",
         "marker": {
          "color": "rgb(133,20,75)"
         },
         "mode": "lines",
         "x": [
          9375.0,
          9375.0,
          9385.0,
          9385.0
         ],
         "xaxis": "x",
         "y": [
          0.0,
          0.05043377878373612,
          0.05043377878373612,
          0.0
         ],
         "yaxis": "y",
         "type": "scatter"
        },
        {
         "hoverinfo": "text",
         "marker": {
          "color": "rgb(133,20,75)"
         },
         "mode": "lines",
         "x": [
          9352.5,
          9352.5,
          9380.0,
          9380.0
         ],
         "xaxis": "x",
         "y": [
          0.04837030240339327,
          0.07335476722304332,
          0.07335476722304332,
          0.05043377878373612
         ],
         "yaxis": "y",
         "type": "scatter"
        },
        {
         "hoverinfo": "text",
         "marker": {
          "color": "rgb(133,20,75)"
         },
         "mode": "lines",
         "x": [
          9395.0,
          9395.0,
          9405.0,
          9405.0
         ],
         "xaxis": "x",
         "y": [
          0.0,
          0.048770178785123894,
          0.048770178785123894,
          0.0
         ],
         "yaxis": "y",
         "type": "scatter"
        },
        {
         "hoverinfo": "text",
         "marker": {
          "color": "rgb(133,20,75)"
         },
         "mode": "lines",
         "x": [
          9415.0,
          9415.0,
          9425.0,
          9425.0
         ],
         "xaxis": "x",
         "y": [
          0.0,
          0.03761584736573041,
          0.03761584736573041,
          0.0
         ],
         "yaxis": "y",
         "type": "scatter"
        },
        {
         "hoverinfo": "text",
         "marker": {
          "color": "rgb(133,20,75)"
         },
         "mode": "lines",
         "x": [
          9435.0,
          9435.0,
          9445.0,
          9445.0
         ],
         "xaxis": "x",
         "y": [
          0.0,
          0.019970323513956903,
          0.019970323513956903,
          0.0
         ],
         "yaxis": "y",
         "type": "scatter"
        },
        {
         "hoverinfo": "text",
         "marker": {
          "color": "rgb(133,20,75)"
         },
         "mode": "lines",
         "x": [
          9455.0,
          9455.0,
          9465.0,
          9465.0
         ],
         "xaxis": "x",
         "y": [
          0.0,
          0.028787696590373408,
          0.028787696590373408,
          0.0
         ],
         "yaxis": "y",
         "type": "scatter"
        },
        {
         "hoverinfo": "text",
         "marker": {
          "color": "rgb(133,20,75)"
         },
         "mode": "lines",
         "x": [
          9440.0,
          9440.0,
          9460.0,
          9460.0
         ],
         "xaxis": "x",
         "y": [
          0.019970323513956903,
          0.042474830674695756,
          0.042474830674695756,
          0.028787696590373408
         ],
         "yaxis": "y",
         "type": "scatter"
        },
        {
         "hoverinfo": "text",
         "marker": {
          "color": "rgb(133,20,75)"
         },
         "mode": "lines",
         "x": [
          9420.0,
          9420.0,
          9450.0,
          9450.0
         ],
         "xaxis": "x",
         "y": [
          0.03761584736573041,
          0.050108925510148845,
          0.050108925510148845,
          0.042474830674695756
         ],
         "yaxis": "y",
         "type": "scatter"
        },
        {
         "hoverinfo": "text",
         "marker": {
          "color": "rgb(133,20,75)"
         },
         "mode": "lines",
         "x": [
          9400.0,
          9400.0,
          9435.0,
          9435.0
         ],
         "xaxis": "x",
         "y": [
          0.048770178785123894,
          0.07617418140156769,
          0.07617418140156769,
          0.050108925510148845
         ],
         "yaxis": "y",
         "type": "scatter"
        },
        {
         "hoverinfo": "text",
         "marker": {
          "color": "rgb(133,20,75)"
         },
         "mode": "lines",
         "x": [
          9366.25,
          9366.25,
          9417.5,
          9417.5
         ],
         "xaxis": "x",
         "y": [
          0.07335476722304332,
          0.1232677638472069,
          0.1232677638472069,
          0.07617418140156769
         ],
         "yaxis": "y",
         "type": "scatter"
        },
        {
         "hoverinfo": "text",
         "marker": {
          "color": "rgb(133,20,75)"
         },
         "mode": "lines",
         "x": [
          9475.0,
          9475.0,
          9485.0,
          9485.0
         ],
         "xaxis": "x",
         "y": [
          0.0,
          0.02739549947569662,
          0.02739549947569662,
          0.0
         ],
         "yaxis": "y",
         "type": "scatter"
        },
        {
         "hoverinfo": "text",
         "marker": {
          "color": "rgb(133,20,75)"
         },
         "mode": "lines",
         "x": [
          9505.0,
          9505.0,
          9515.0,
          9515.0
         ],
         "xaxis": "x",
         "y": [
          0.0,
          0.013491568041131264,
          0.013491568041131264,
          0.0
         ],
         "yaxis": "y",
         "type": "scatter"
        },
        {
         "hoverinfo": "text",
         "marker": {
          "color": "rgb(133,20,75)"
         },
         "mode": "lines",
         "x": [
          9495.0,
          9495.0,
          9510.0,
          9510.0
         ],
         "xaxis": "x",
         "y": [
          0.0,
          0.03745424276983597,
          0.03745424276983597,
          0.013491568041131264
         ],
         "yaxis": "y",
         "type": "scatter"
        },
        {
         "hoverinfo": "text",
         "marker": {
          "color": "rgb(133,20,75)"
         },
         "mode": "lines",
         "x": [
          9525.0,
          9525.0,
          9535.0,
          9535.0
         ],
         "xaxis": "x",
         "y": [
          0.0,
          0.020034210685945845,
          0.020034210685945845,
          0.0
         ],
         "yaxis": "y",
         "type": "scatter"
        },
        {
         "hoverinfo": "text",
         "marker": {
          "color": "rgb(133,20,75)"
         },
         "mode": "lines",
         "x": [
          9555.0,
          9555.0,
          9565.0,
          9565.0
         ],
         "xaxis": "x",
         "y": [
          0.0,
          0.024244566763577887,
          0.024244566763577887,
          0.0
         ],
         "yaxis": "y",
         "type": "scatter"
        },
        {
         "hoverinfo": "text",
         "marker": {
          "color": "rgb(133,20,75)"
         },
         "mode": "lines",
         "x": [
          9545.0,
          9545.0,
          9560.0,
          9560.0
         ],
         "xaxis": "x",
         "y": [
          0.0,
          0.030115337638092377,
          0.030115337638092377,
          0.024244566763577887
         ],
         "yaxis": "y",
         "type": "scatter"
        },
        {
         "hoverinfo": "text",
         "marker": {
          "color": "rgb(133,20,75)"
         },
         "mode": "lines",
         "x": [
          9530.0,
          9530.0,
          9552.5,
          9552.5
         ],
         "xaxis": "x",
         "y": [
          0.020034210685945845,
          0.05407035762447305,
          0.05407035762447305,
          0.030115337638092377
         ],
         "yaxis": "y",
         "type": "scatter"
        },
        {
         "hoverinfo": "text",
         "marker": {
          "color": "rgb(133,20,75)"
         },
         "mode": "lines",
         "x": [
          9502.5,
          9502.5,
          9541.25,
          9541.25
         ],
         "xaxis": "x",
         "y": [
          0.03745424276983597,
          0.06095032113068798,
          0.06095032113068798,
          0.05407035762447305
         ],
         "yaxis": "y",
         "type": "scatter"
        },
        {
         "hoverinfo": "text",
         "marker": {
          "color": "rgb(133,20,75)"
         },
         "mode": "lines",
         "x": [
          9480.0,
          9480.0,
          9521.875,
          9521.875
         ],
         "xaxis": "x",
         "y": [
          0.02739549947569662,
          0.06810805236499079,
          0.06810805236499079,
          0.06095032113068798
         ],
         "yaxis": "y",
         "type": "scatter"
        },
        {
         "hoverinfo": "text",
         "marker": {
          "color": "rgb(133,20,75)"
         },
         "mode": "lines",
         "x": [
          9575.0,
          9575.0,
          9585.0,
          9585.0
         ],
         "xaxis": "x",
         "y": [
          0.0,
          0.021223498042603043,
          0.021223498042603043,
          0.0
         ],
         "yaxis": "y",
         "type": "scatter"
        },
        {
         "hoverinfo": "text",
         "marker": {
          "color": "rgb(133,20,75)"
         },
         "mode": "lines",
         "x": [
          9605.0,
          9605.0,
          9615.0,
          9615.0
         ],
         "xaxis": "x",
         "y": [
          0.0,
          0.020407787643195,
          0.020407787643195,
          0.0
         ],
         "yaxis": "y",
         "type": "scatter"
        },
        {
         "hoverinfo": "text",
         "marker": {
          "color": "rgb(133,20,75)"
         },
         "mode": "lines",
         "x": [
          9595.0,
          9595.0,
          9610.0,
          9610.0
         ],
         "xaxis": "x",
         "y": [
          0.0,
          0.032702338935712214,
          0.032702338935712214,
          0.020407787643195
         ],
         "yaxis": "y",
         "type": "scatter"
        },
        {
         "hoverinfo": "text",
         "marker": {
          "color": "rgb(133,20,75)"
         },
         "mode": "lines",
         "x": [
          9580.0,
          9580.0,
          9602.5,
          9602.5
         ],
         "xaxis": "x",
         "y": [
          0.021223498042603043,
          0.03545591589088768,
          0.03545591589088768,
          0.032702338935712214
         ],
         "yaxis": "y",
         "type": "scatter"
        },
        {
         "hoverinfo": "text",
         "marker": {
          "color": "rgb(133,20,75)"
         },
         "mode": "lines",
         "x": [
          9655.0,
          9655.0,
          9665.0,
          9665.0
         ],
         "xaxis": "x",
         "y": [
          0.0,
          0.010738400359584569,
          0.010738400359584569,
          0.0
         ],
         "yaxis": "y",
         "type": "scatter"
        },
        {
         "hoverinfo": "text",
         "marker": {
          "color": "rgb(133,20,75)"
         },
         "mode": "lines",
         "x": [
          9645.0,
          9645.0,
          9660.0,
          9660.0
         ],
         "xaxis": "x",
         "y": [
          0.0,
          0.01768383461307186,
          0.01768383461307186,
          0.010738400359584569
         ],
         "yaxis": "y",
         "type": "scatter"
        },
        {
         "hoverinfo": "text",
         "marker": {
          "color": "rgb(133,20,75)"
         },
         "mode": "lines",
         "x": [
          9635.0,
          9635.0,
          9652.5,
          9652.5
         ],
         "xaxis": "x",
         "y": [
          0.0,
          0.023721229754513875,
          0.023721229754513875,
          0.01768383461307186
         ],
         "yaxis": "y",
         "type": "scatter"
        },
        {
         "hoverinfo": "text",
         "marker": {
          "color": "rgb(133,20,75)"
         },
         "mode": "lines",
         "x": [
          9625.0,
          9625.0,
          9643.75,
          9643.75
         ],
         "xaxis": "x",
         "y": [
          0.0,
          0.03330969051577753,
          0.03330969051577753,
          0.023721229754513875
         ],
         "yaxis": "y",
         "type": "scatter"
        },
        {
         "hoverinfo": "text",
         "marker": {
          "color": "rgb(133,20,75)"
         },
         "mode": "lines",
         "x": [
          9685.0,
          9685.0,
          9695.0,
          9695.0
         ],
         "xaxis": "x",
         "y": [
          0.0,
          0.01931630928961411,
          0.01931630928961411,
          0.0
         ],
         "yaxis": "y",
         "type": "scatter"
        },
        {
         "hoverinfo": "text",
         "marker": {
          "color": "rgb(133,20,75)"
         },
         "mode": "lines",
         "x": [
          9675.0,
          9675.0,
          9690.0,
          9690.0
         ],
         "xaxis": "x",
         "y": [
          0.0,
          0.03506960366630667,
          0.03506960366630667,
          0.01931630928961411
         ],
         "yaxis": "y",
         "type": "scatter"
        },
        {
         "hoverinfo": "text",
         "marker": {
          "color": "rgb(133,20,75)"
         },
         "mode": "lines",
         "x": [
          9705.0,
          9705.0,
          9715.0,
          9715.0
         ],
         "xaxis": "x",
         "y": [
          0.0,
          0.012959785883287353,
          0.012959785883287353,
          0.0
         ],
         "yaxis": "y",
         "type": "scatter"
        },
        {
         "hoverinfo": "text",
         "marker": {
          "color": "rgb(133,20,75)"
         },
         "mode": "lines",
         "x": [
          9745.0,
          9745.0,
          9755.0,
          9755.0
         ],
         "xaxis": "x",
         "y": [
          0.0,
          0.014068155274119748,
          0.014068155274119748,
          0.0
         ],
         "yaxis": "y",
         "type": "scatter"
        },
        {
         "hoverinfo": "text",
         "marker": {
          "color": "rgb(133,20,75)"
         },
         "mode": "lines",
         "x": [
          9735.0,
          9735.0,
          9750.0,
          9750.0
         ],
         "xaxis": "x",
         "y": [
          0.0,
          0.024066884470153583,
          0.024066884470153583,
          0.014068155274119748
         ],
         "yaxis": "y",
         "type": "scatter"
        },
        {
         "hoverinfo": "text",
         "marker": {
          "color": "rgb(133,20,75)"
         },
         "mode": "lines",
         "x": [
          9725.0,
          9725.0,
          9742.5,
          9742.5
         ],
         "xaxis": "x",
         "y": [
          0.0,
          0.03542709811190215,
          0.03542709811190215,
          0.024066884470153583
         ],
         "yaxis": "y",
         "type": "scatter"
        },
        {
         "hoverinfo": "text",
         "marker": {
          "color": "rgb(133,20,75)"
         },
         "mode": "lines",
         "x": [
          9710.0,
          9710.0,
          9733.75,
          9733.75
         ],
         "xaxis": "x",
         "y": [
          0.012959785883287353,
          0.04300990012575117,
          0.04300990012575117,
          0.03542709811190215
         ],
         "yaxis": "y",
         "type": "scatter"
        },
        {
         "hoverinfo": "text",
         "marker": {
          "color": "rgb(133,20,75)"
         },
         "mode": "lines",
         "x": [
          9682.5,
          9682.5,
          9721.875,
          9721.875
         ],
         "xaxis": "x",
         "y": [
          0.03506960366630667,
          0.049735546154320874,
          0.049735546154320874,
          0.04300990012575117
         ],
         "yaxis": "y",
         "type": "scatter"
        },
        {
         "hoverinfo": "text",
         "marker": {
          "color": "rgb(133,20,75)"
         },
         "mode": "lines",
         "x": [
          9634.375,
          9634.375,
          9702.1875,
          9702.1875
         ],
         "xaxis": "x",
         "y": [
          0.03330969051577753,
          0.07166776212121592,
          0.07166776212121592,
          0.049735546154320874
         ],
         "yaxis": "y",
         "type": "scatter"
        },
        {
         "hoverinfo": "text",
         "marker": {
          "color": "rgb(133,20,75)"
         },
         "mode": "lines",
         "x": [
          9591.25,
          9591.25,
          9668.28125,
          9668.28125
         ],
         "xaxis": "x",
         "y": [
          0.03545591589088768,
          0.081177914609145,
          0.081177914609145,
          0.07166776212121592
         ],
         "yaxis": "y",
         "type": "scatter"
        },
        {
         "hoverinfo": "text",
         "marker": {
          "color": "rgb(133,20,75)"
         },
         "mode": "lines",
         "x": [
          9500.9375,
          9500.9375,
          9629.765625,
          9629.765625
         ],
         "xaxis": "x",
         "y": [
          0.06810805236499079,
          0.09923447517884344,
          0.09923447517884344,
          0.081177914609145
         ],
         "yaxis": "y",
         "type": "scatter"
        },
        {
         "hoverinfo": "text",
         "marker": {
          "color": "rgb(133,20,75)"
         },
         "mode": "lines",
         "x": [
          9765.0,
          9765.0,
          9775.0,
          9775.0
         ],
         "xaxis": "x",
         "y": [
          0.0,
          0.03975293975382874,
          0.03975293975382874,
          0.0
         ],
         "yaxis": "y",
         "type": "scatter"
        },
        {
         "hoverinfo": "text",
         "marker": {
          "color": "rgb(133,20,75)"
         },
         "mode": "lines",
         "x": [
          9785.0,
          9785.0,
          9795.0,
          9795.0
         ],
         "xaxis": "x",
         "y": [
          0.0,
          0.028736119320320747,
          0.028736119320320747,
          0.0
         ],
         "yaxis": "y",
         "type": "scatter"
        },
        {
         "hoverinfo": "text",
         "marker": {
          "color": "rgb(133,20,75)"
         },
         "mode": "lines",
         "x": [
          9815.0,
          9815.0,
          9825.0,
          9825.0
         ],
         "xaxis": "x",
         "y": [
          0.0,
          0.02100373535892384,
          0.02100373535892384,
          0.0
         ],
         "yaxis": "y",
         "type": "scatter"
        },
        {
         "hoverinfo": "text",
         "marker": {
          "color": "rgb(133,20,75)"
         },
         "mode": "lines",
         "x": [
          9805.0,
          9805.0,
          9820.0,
          9820.0
         ],
         "xaxis": "x",
         "y": [
          0.0,
          0.03444311486758935,
          0.03444311486758935,
          0.02100373535892384
         ],
         "yaxis": "y",
         "type": "scatter"
        },
        {
         "hoverinfo": "text",
         "marker": {
          "color": "rgb(133,20,75)"
         },
         "mode": "lines",
         "x": [
          9790.0,
          9790.0,
          9812.5,
          9812.5
         ],
         "xaxis": "x",
         "y": [
          0.028736119320320747,
          0.04487077477790608,
          0.04487077477790608,
          0.03444311486758935
         ],
         "yaxis": "y",
         "type": "scatter"
        },
        {
         "hoverinfo": "text",
         "marker": {
          "color": "rgb(133,20,75)"
         },
         "mode": "lines",
         "x": [
          9770.0,
          9770.0,
          9801.25,
          9801.25
         ],
         "xaxis": "x",
         "y": [
          0.03975293975382874,
          0.06761059016090869,
          0.06761059016090869,
          0.04487077477790608
         ],
         "yaxis": "y",
         "type": "scatter"
        },
        {
         "hoverinfo": "text",
         "marker": {
          "color": "rgb(133,20,75)"
         },
         "mode": "lines",
         "x": [
          9835.0,
          9835.0,
          9845.0,
          9845.0
         ],
         "xaxis": "x",
         "y": [
          0.0,
          0.041678358625336476,
          0.041678358625336476,
          0.0
         ],
         "yaxis": "y",
         "type": "scatter"
        },
        {
         "hoverinfo": "text",
         "marker": {
          "color": "rgb(133,20,75)"
         },
         "mode": "lines",
         "x": [
          9865.0,
          9865.0,
          9875.0,
          9875.0
         ],
         "xaxis": "x",
         "y": [
          0.0,
          0.014777165763823832,
          0.014777165763823832,
          0.0
         ],
         "yaxis": "y",
         "type": "scatter"
        },
        {
         "hoverinfo": "text",
         "marker": {
          "color": "rgb(133,20,75)"
         },
         "mode": "lines",
         "x": [
          9855.0,
          9855.0,
          9870.0,
          9870.0
         ],
         "xaxis": "x",
         "y": [
          0.0,
          0.035774481800245915,
          0.035774481800245915,
          0.014777165763823832
         ],
         "yaxis": "y",
         "type": "scatter"
        },
        {
         "hoverinfo": "text",
         "marker": {
          "color": "rgb(133,20,75)"
         },
         "mode": "lines",
         "x": [
          9885.0,
          9885.0,
          9895.0,
          9895.0
         ],
         "xaxis": "x",
         "y": [
          0.0,
          0.05014482726155605,
          0.05014482726155605,
          0.0
         ],
         "yaxis": "y",
         "type": "scatter"
        },
        {
         "hoverinfo": "text",
         "marker": {
          "color": "rgb(133,20,75)"
         },
         "mode": "lines",
         "x": [
          9862.5,
          9862.5,
          9890.0,
          9890.0
         ],
         "xaxis": "x",
         "y": [
          0.035774481800245915,
          0.056453073057706395,
          0.056453073057706395,
          0.05014482726155605
         ],
         "yaxis": "y",
         "type": "scatter"
        },
        {
         "hoverinfo": "text",
         "marker": {
          "color": "rgb(133,20,75)"
         },
         "mode": "lines",
         "x": [
          9840.0,
          9840.0,
          9876.25,
          9876.25
         ],
         "xaxis": "x",
         "y": [
          0.041678358625336476,
          0.07648657952492942,
          0.07648657952492942,
          0.056453073057706395
         ],
         "yaxis": "y",
         "type": "scatter"
        },
        {
         "hoverinfo": "text",
         "marker": {
          "color": "rgb(133,20,75)"
         },
         "mode": "lines",
         "x": [
          9785.625,
          9785.625,
          9858.125,
          9858.125
         ],
         "xaxis": "x",
         "y": [
          0.06761059016090869,
          0.09549040576939848,
          0.09549040576939848,
          0.07648657952492942
         ],
         "yaxis": "y",
         "type": "scatter"
        },
        {
         "hoverinfo": "text",
         "marker": {
          "color": "rgb(133,20,75)"
         },
         "mode": "lines",
         "x": [
          9915.0,
          9915.0,
          9925.0,
          9925.0
         ],
         "xaxis": "x",
         "y": [
          0.0,
          0.02565603635594801,
          0.02565603635594801,
          0.0
         ],
         "yaxis": "y",
         "type": "scatter"
        },
        {
         "hoverinfo": "text",
         "marker": {
          "color": "rgb(133,20,75)"
         },
         "mode": "lines",
         "x": [
          9905.0,
          9905.0,
          9920.0,
          9920.0
         ],
         "xaxis": "x",
         "y": [
          0.0,
          0.07241230043456931,
          0.07241230043456931,
          0.02565603635594801
         ],
         "yaxis": "y",
         "type": "scatter"
        },
        {
         "hoverinfo": "text",
         "marker": {
          "color": "rgb(133,20,75)"
         },
         "mode": "lines",
         "x": [
          9945.0,
          9945.0,
          9955.0,
          9955.0
         ],
         "xaxis": "x",
         "y": [
          0.0,
          0.025451299111387046,
          0.025451299111387046,
          0.0
         ],
         "yaxis": "y",
         "type": "scatter"
        },
        {
         "hoverinfo": "text",
         "marker": {
          "color": "rgb(133,20,75)"
         },
         "mode": "lines",
         "x": [
          9935.0,
          9935.0,
          9950.0,
          9950.0
         ],
         "xaxis": "x",
         "y": [
          0.0,
          0.05283818491377996,
          0.05283818491377996,
          0.025451299111387046
         ],
         "yaxis": "y",
         "type": "scatter"
        },
        {
         "hoverinfo": "text",
         "marker": {
          "color": "rgb(133,20,75)"
         },
         "mode": "lines",
         "x": [
          9985.0,
          9985.0,
          9995.0,
          9995.0
         ],
         "xaxis": "x",
         "y": [
          0.0,
          0.030466093988614242,
          0.030466093988614242,
          0.0
         ],
         "yaxis": "y",
         "type": "scatter"
        },
        {
         "hoverinfo": "text",
         "marker": {
          "color": "rgb(133,20,75)"
         },
         "mode": "lines",
         "x": [
          9975.0,
          9975.0,
          9990.0,
          9990.0
         ],
         "xaxis": "x",
         "y": [
          0.0,
          0.038227827127753605,
          0.038227827127753605,
          0.030466093988614242
         ],
         "yaxis": "y",
         "type": "scatter"
        },
        {
         "hoverinfo": "text",
         "marker": {
          "color": "rgb(133,20,75)"
         },
         "mode": "lines",
         "x": [
          9965.0,
          9965.0,
          9982.5,
          9982.5
         ],
         "xaxis": "x",
         "y": [
          0.0,
          0.058412884240837765,
          0.058412884240837765,
          0.038227827127753605
         ],
         "yaxis": "y",
         "type": "scatter"
        },
        {
         "hoverinfo": "text",
         "marker": {
          "color": "rgb(133,20,75)"
         },
         "mode": "lines",
         "x": [
          9942.5,
          9942.5,
          9973.75,
          9973.75
         ],
         "xaxis": "x",
         "y": [
          0.05283818491377996,
          0.0863836949157126,
          0.0863836949157126,
          0.058412884240837765
         ],
         "yaxis": "y",
         "type": "scatter"
        },
        {
         "hoverinfo": "text",
         "marker": {
          "color": "rgb(133,20,75)"
         },
         "mode": "lines",
         "x": [
          9912.5,
          9912.5,
          9958.125,
          9958.125
         ],
         "xaxis": "x",
         "y": [
          0.07241230043456931,
          0.11401583163620256,
          0.11401583163620256,
          0.0863836949157126
         ],
         "yaxis": "y",
         "type": "scatter"
        },
        {
         "hoverinfo": "text",
         "marker": {
          "color": "rgb(133,20,75)"
         },
         "mode": "lines",
         "x": [
          9821.875,
          9821.875,
          9935.3125,
          9935.3125
         ],
         "xaxis": "x",
         "y": [
          0.09549040576939848,
          0.12237352652318827,
          0.12237352652318827,
          0.11401583163620256
         ],
         "yaxis": "y",
         "type": "scatter"
        },
        {
         "hoverinfo": "text",
         "marker": {
          "color": "rgb(133,20,75)"
         },
         "mode": "lines",
         "x": [
          9565.3515625,
          9565.3515625,
          9878.59375,
          9878.59375
         ],
         "xaxis": "x",
         "y": [
          0.09923447517884344,
          0.1492016042703056,
          0.1492016042703056,
          0.12237352652318827
         ],
         "yaxis": "y",
         "type": "scatter"
        },
        {
         "hoverinfo": "text",
         "marker": {
          "color": "rgb(133,20,75)"
         },
         "mode": "lines",
         "x": [
          9391.875,
          9391.875,
          9721.97265625,
          9721.97265625
         ],
         "xaxis": "x",
         "y": [
          0.1232677638472069,
          0.18543706303166252,
          0.18543706303166252,
          0.1492016042703056
         ],
         "yaxis": "y",
         "type": "scatter"
        },
        {
         "hoverinfo": "text",
         "marker": {
          "color": "rgb(133,20,75)"
         },
         "mode": "lines",
         "x": [
          8986.66015625,
          8986.66015625,
          9556.923828125,
          9556.923828125
         ],
         "xaxis": "x",
         "y": [
          0.18167289132156755,
          0.23691920430660585,
          0.23691920430660585,
          0.18543706303166252
         ],
         "yaxis": "y",
         "type": "scatter"
        },
        {
         "hoverinfo": "text",
         "marker": {
          "color": "rgb(133,20,75)"
         },
         "mode": "lines",
         "x": [
          8406.7578125,
          8406.7578125,
          9271.7919921875,
          9271.7919921875
         ],
         "xaxis": "x",
         "y": [
          0.2054560719718031,
          0.28753777522027374,
          0.28753777522027374,
          0.23691920430660585
         ],
         "yaxis": "y",
         "type": "scatter"
        },
        {
         "hoverinfo": "text",
         "marker": {
          "color": "rgb(133,20,75)"
         },
         "mode": "lines",
         "x": [
          7641.0205078125,
          7641.0205078125,
          8839.27490234375,
          8839.27490234375
         ],
         "xaxis": "x",
         "y": [
          0.28540280596375667,
          0.33788129093548946,
          0.33788129093548946,
          0.28753777522027374
         ],
         "yaxis": "y",
         "type": "scatter"
        },
        {
         "hoverinfo": "text",
         "marker": {
          "color": "rgb(133,20,75)"
         },
         "mode": "lines",
         "x": [
          6842.265625,
          6842.265625,
          8240.147705078125,
          8240.147705078125
         ],
         "xaxis": "x",
         "y": [
          0.33453556644494686,
          0.4737785987001957,
          0.4737785987001957,
          0.33788129093548946
         ],
         "yaxis": "y",
         "type": "scatter"
        },
        {
         "hoverinfo": "text",
         "marker": {
          "color": "rgb(133,20,75)"
         },
         "mode": "lines",
         "x": [
          5521.5771484375,
          5521.5771484375,
          7541.2066650390625,
          7541.2066650390625
         ],
         "xaxis": "x",
         "y": [
          0.47194138310411754,
          0.5314720416492301,
          0.5314720416492301,
          0.4737785987001957
         ],
         "yaxis": "y",
         "type": "scatter"
        },
        {
         "hoverinfo": "text",
         "marker": {
          "color": "rgb(133,20,75)"
         },
         "mode": "lines",
         "x": [
          2760.7476806640625,
          2760.7476806640625,
          6531.391906738281,
          6531.391906738281
         ],
         "xaxis": "x",
         "y": [
          0.4460362702389032,
          0.5632855760390207,
          0.5632855760390207,
          0.5314720416492301
         ],
         "yaxis": "y",
         "type": "scatter"
        },
        {
         "hoverinfo": "text",
         "marker": {
          "color": "rgb(0,116,217)"
         },
         "mode": "lines",
         "x": [
          601.14013671875,
          601.14013671875,
          4646.069793701172,
          4646.069793701172
         ],
         "xaxis": "x",
         "y": [
          0.5522461454992915,
          0.6399222930287002,
          0.6399222930287002,
          0.5632855760390207
         ],
         "yaxis": "y",
         "type": "scatter"
        },
        {
         "hoverinfo": "text",
         "marker": {
          "color": "rgb(0,116,217)"
         },
         "mode": "lines",
         "x": [
          159.0625,
          159.0625,
          2623.604965209961,
          2623.604965209961
         ],
         "xaxis": "x",
         "y": [
          0.33872411775734945,
          0.6605600438813265,
          0.6605600438813265,
          0.6399222930287002
         ],
         "yaxis": "y",
         "type": "scatter"
        },
        {
         "hoverinfo": "text",
         "marker": {
          "color": "rgb(0,116,217)"
         },
         "mode": "lines",
         "x": [
          47.34375,
          47.34375,
          1391.3337326049805,
          1391.3337326049805
         ],
         "xaxis": "x",
         "y": [
          0.29542185439691643,
          0.8233398193211282,
          0.8233398193211282,
          0.6605600438813265
         ],
         "yaxis": "y",
         "type": "scatter"
        }
       ],
       "layout": {
        "autosize": false,
        "height": 1000,
        "hovermode": "closest",
        "showlegend": false,
        "width": 1300,
        "xaxis": {
         "mirror": "allticks",
         "rangemode": "tozero",
         "showgrid": false,
         "showline": true,
         "showticklabels": true,
         "tickmode": "array",
         "ticks": "outside",
         "ticktext": [
          "315",
          "95",
          "655",
          "832",
          "844",
          "267",
          "757",
          "841",
          "751",
          "442",
          "126",
          "585",
          "448",
          "285",
          "613",
          "510",
          "769",
          "500",
          "337",
          "294",
          "678",
          "427",
          "926",
          "324",
          "715",
          "603",
          "979",
          "961",
          "883",
          "444",
          "554",
          "31",
          "709",
          "257",
          "570",
          "325",
          "773",
          "333",
          "446",
          "644",
          "279",
          "889",
          "229",
          "408",
          "679",
          "521",
          "790",
          "284",
          "726",
          "461",
          "604",
          "124",
          "82",
          "484",
          "317",
          "63",
          "467",
          "292",
          "391",
          "140",
          "167",
          "8",
          "375",
          "39",
          "439",
          "465",
          "256",
          "266",
          "96",
          "127",
          "782",
          "322",
          "523",
          "289",
          "480",
          "578",
          "354",
          "817",
          "215",
          "661",
          "194",
          "14",
          "508",
          "44",
          "314",
          "818",
          "306",
          "722",
          "74",
          "91",
          "263",
          "838",
          "86",
          "345",
          "254",
          "379",
          "647",
          "45",
          "623",
          "944",
          "351",
          "829",
          "147",
          "609",
          "55",
          "654",
          "591",
          "51",
          "542",
          "536",
          "522",
          "836",
          "468",
          "970",
          "823",
          "859",
          "76",
          "475",
          "18",
          "23",
          "350",
          "682",
          "116",
          "787",
          "192",
          "168",
          "503",
          "663",
          "71",
          "355",
          "352",
          "415",
          "953",
          "471",
          "626",
          "723",
          "335",
          "483",
          "118",
          "574",
          "710",
          "176",
          "716",
          "385",
          "117",
          "901",
          "519",
          "269",
          "776",
          "931",
          "936",
          "364",
          "607",
          "719",
          "903",
          "713",
          "994",
          "77",
          "270",
          "821",
          "90",
          "765",
          "94",
          "502",
          "894",
          "830",
          "206",
          "816",
          "463",
          "845",
          "181",
          "219",
          "807",
          "458",
          "797",
          "328",
          "740",
          "803",
          "299",
          "673",
          "362",
          "482",
          "404",
          "497",
          "155",
          "296",
          "212",
          "368",
          "273",
          "275",
          "698",
          "198",
          "534",
          "111",
          "847",
          "913",
          "99",
          "750",
          "831",
          "992",
          "372",
          "712",
          "512",
          "341",
          "910",
          "576",
          "876",
          "131",
          "999",
          "293",
          "608",
          "515",
          "800",
          "139",
          "756",
          "862",
          "54",
          "142",
          "477",
          "195",
          "525",
          "887",
          "384",
          "820",
          "366",
          "75",
          "213",
          "538",
          "528",
          "676",
          "295",
          "21",
          "627",
          "966",
          "796",
          "312",
          "357",
          "232",
          "157",
          "394",
          "381",
          "326",
          "41",
          "599",
          "711",
          "61",
          "80",
          "878",
          "918",
          "592",
          "339",
          "641",
          "264",
          "731",
          "986",
          "774",
          "331",
          "449",
          "505",
          "575",
          "420",
          "589",
          "583",
          "758",
          "871",
          "28",
          "220",
          "244",
          "496",
          "83",
          "766",
          "535",
          "202",
          "648",
          "283",
          "760",
          "772",
          "141",
          "162",
          "115",
          "453",
          "340",
          "615",
          "951",
          "779",
          "241",
          "499",
          "9",
          "899",
          "930",
          "261",
          "488",
          "612",
          "567",
          "721",
          "849",
          "248",
          "452",
          "840",
          "190",
          "590",
          "596",
          "988",
          "426",
          "989",
          "866",
          "703",
          "867",
          "489",
          "798",
          "32",
          "163",
          "941",
          "64",
          "450",
          "646",
          "62",
          "594",
          "746",
          "434",
          "748",
          "184",
          "353",
          "621",
          "981",
          "19",
          "781",
          "43",
          "309",
          "59",
          "909",
          "634",
          "965",
          "421",
          "650",
          "191",
          "233",
          "122",
          "877",
          "78",
          "320",
          "828",
          "974",
          "551",
          "791",
          "727",
          "991",
          "457",
          "920",
          "696",
          "777",
          "827",
          "144",
          "214",
          "252",
          "479",
          "411",
          "937",
          "37",
          "947",
          "30",
          "419",
          "403",
          "870",
          "27",
          "718",
          "166",
          "517",
          "553",
          "699",
          "886",
          "417",
          "472",
          "597",
          "630",
          "504",
          "290",
          "706",
          "911",
          "50",
          "53",
          "897",
          "795",
          "16",
          "524",
          "196",
          "3",
          "690",
          "692",
          "763",
          "606",
          "669",
          "209",
          "148",
          "425",
          "98",
          "745",
          "747",
          "145",
          "780",
          "103",
          "222",
          "481",
          "197",
          "265",
          "704",
          "492",
          "506",
          "239",
          "573",
          "652",
          "741",
          "104",
          "445",
          "183",
          "401",
          "346",
          "459",
          "743",
          "390",
          "128",
          "857",
          "304",
          "259",
          "513",
          "658",
          "865",
          "276",
          "660",
          "347",
          "964",
          "203",
          "406",
          "664",
          "837",
          "896",
          "549",
          "617",
          "12",
          "460",
          "684",
          "593",
          "246",
          "441",
          "323",
          "924",
          "689",
          "271",
          "619",
          "370",
          "929",
          "217",
          "995",
          "85",
          "17",
          "982",
          "268",
          "826",
          "518",
          "744",
          "764",
          "34",
          "175",
          "708",
          "5",
          "571",
          "624",
          "902",
          "932",
          "224",
          "659",
          "968",
          "976",
          "35",
          "635",
          "376",
          "922",
          "258",
          "474",
          "204",
          "470",
          "298",
          "135",
          "595",
          "665",
          "36",
          "942",
          "174",
          "811",
          "856",
          "799",
          "921",
          "120",
          "249",
          "919",
          "156",
          "598",
          "177",
          "667",
          "700",
          "138",
          "962",
          "7",
          "311",
          "810",
          "511",
          "775",
          "955",
          "566",
          "56",
          "898",
          "6",
          "749",
          "255",
          "835",
          "874",
          "993",
          "813",
          "580",
          "125",
          "637",
          "318",
          "683",
          "22",
          "636",
          "469",
          "880",
          "225",
          "277",
          "308",
          "552",
          "957",
          "185",
          "187",
          "671",
          "625",
          "146",
          "260",
          "132",
          "802",
          "526",
          "653",
          "550",
          "728",
          "97",
          "846",
          "998",
          "359",
          "493",
          "582",
          "129",
          "824",
          "454",
          "879",
          "300",
          "645",
          "863",
          "730",
          "954",
          "303",
          "651",
          "243",
          "409",
          "369",
          "771",
          "342",
          "804",
          "230",
          "329",
          "66",
          "555",
          "973",
          "356",
          "755",
          "33",
          "959",
          "349",
          "47",
          "558",
          "443",
          "494",
          "253",
          "543",
          "725",
          "569",
          "297",
          "433",
          "245",
          "568",
          "67",
          "106",
          "46",
          "228",
          "466",
          "235",
          "967",
          "611",
          "701",
          "423",
          "464",
          "462",
          "188",
          "843",
          "121",
          "321",
          "160",
          "402",
          "161",
          "193",
          "227",
          "231",
          "378",
          "851",
          "530",
          "545",
          "199",
          "783",
          "720",
          "945",
          "984",
          "262",
          "860",
          "643",
          "662",
          "852",
          "334",
          "338",
          "234",
          "537",
          "972",
          "211",
          "539",
          "20",
          "24",
          "251",
          "73",
          "714",
          "541",
          "753",
          "864",
          "451",
          "507",
          "236",
          "68",
          "373",
          "529",
          "200",
          "579",
          "882",
          "943",
          "432",
          "516",
          "15",
          "226",
          "546",
          "218",
          "785",
          "208",
          "478",
          "392",
          "498",
          "490",
          "221",
          "291",
          "388",
          "40",
          "413",
          "985",
          "436",
          "978",
          "109",
          "238",
          "486",
          "717",
          "600",
          "247",
          "861",
          "101",
          "137",
          "429",
          "854",
          "278",
          "754",
          "88",
          "768",
          "705",
          "383",
          "618",
          "686",
          "416",
          "949",
          "491",
          "834",
          "237",
          "48",
          "908",
          "430",
          "29",
          "742",
          "223",
          "332",
          "639",
          "808",
          "855",
          "10",
          "759",
          "950",
          "875",
          "912",
          "72",
          "412",
          "400",
          "789",
          "11",
          "688",
          "57",
          "586",
          "923",
          "79",
          "610",
          "509",
          "733",
          "891",
          "387",
          "697",
          "380",
          "680",
          "150",
          "948",
          "438",
          "58",
          "514",
          "656",
          "305",
          "365",
          "520",
          "761",
          "822",
          "888",
          "681",
          "990",
          "414",
          "422",
          "164",
          "707",
          "946",
          "485",
          "670",
          "171",
          "201",
          "904",
          "431",
          "695",
          "996",
          "677",
          "971",
          "572",
          "631",
          "186",
          "649",
          "814",
          "170",
          "906",
          "602",
          "531",
          "853",
          "307",
          "605",
          "969",
          "914",
          "84",
          "556",
          "892",
          "975",
          "812",
          "60",
          "123",
          "286",
          "987",
          "343",
          "588",
          "806",
          "242",
          "374",
          "70",
          "136",
          "527",
          "4",
          "52",
          "547",
          "173",
          "487",
          "788",
          "69",
          "977",
          "398",
          "770",
          "102",
          "868",
          "87",
          "809",
          "38",
          "872",
          "940",
          "881",
          "952",
          "280",
          "114",
          "153",
          "26",
          "405",
          "792",
          "687",
          "316",
          "850",
          "916",
          "418",
          "905",
          "207",
          "100",
          "562",
          "313",
          "282",
          "501",
          "440",
          "407",
          "928",
          "672",
          "778",
          "371",
          "476",
          "250",
          "638",
          "344",
          "805",
          "963",
          "108",
          "149",
          "938",
          "533",
          "675",
          "858",
          "424",
          "893",
          "240",
          "629",
          "980",
          "336",
          "563",
          "330",
          "729",
          "581",
          "685",
          "377",
          "495",
          "752",
          "801",
          "934",
          "732",
          "825",
          "178",
          "274",
          "13",
          "92",
          "165",
          "544",
          "958",
          "601",
          "559",
          "182",
          "869",
          "281",
          "428",
          "205",
          "89",
          "119",
          "739",
          "158",
          "620",
          "367",
          "632",
          "319",
          "455",
          "767",
          "885",
          "393",
          "561",
          "668",
          "735",
          "895",
          "737",
          "997",
          "0",
          "272",
          "310",
          "557",
          "666",
          "873",
          "81",
          "179",
          "890",
          "794",
          "435",
          "657",
          "786",
          "133",
          "614",
          "288",
          "410",
          "2",
          "577",
          "358",
          "560",
          "107",
          "143",
          "702",
          "842",
          "616",
          "784",
          "532",
          "762",
          "983",
          "25",
          "674",
          "189",
          "734",
          "49",
          "724",
          "105",
          "933",
          "216",
          "622",
          "361",
          "396",
          "397",
          "386",
          "540",
          "848",
          "960",
          "363",
          "640",
          "564",
          "915",
          "360",
          "587",
          "437",
          "642",
          "42",
          "925",
          "389",
          "584",
          "927",
          "169",
          "833",
          "628",
          "65",
          "112",
          "172",
          "456",
          "93",
          "210",
          "473",
          "548",
          "738",
          "130",
          "884",
          "900",
          "301",
          "1",
          "819",
          "395",
          "907",
          "691",
          "327",
          "134",
          "382",
          "152",
          "694",
          "113",
          "180",
          "956",
          "110",
          "815",
          "159",
          "633",
          "151",
          "348",
          "736",
          "302",
          "917",
          "939",
          "154",
          "839",
          "287",
          "693",
          "793",
          "565",
          "935",
          "399",
          "447"
         ],
         "tickvals": [
          5.0,
          15.0,
          25.0,
          35.0,
          45.0,
          55.0,
          65.0,
          75.0,
          85.0,
          95.0,
          105.0,
          115.0,
          125.0,
          135.0,
          145.0,
          155.0,
          165.0,
          175.0,
          185.0,
          195.0,
          205.0,
          215.0,
          225.0,
          235.0,
          245.0,
          255.0,
          265.0,
          275.0,
          285.0,
          295.0,
          305.0,
          315.0,
          325.0,
          335.0,
          345.0,
          355.0,
          365.0,
          375.0,
          385.0,
          395.0,
          405.0,
          415.0,
          425.0,
          435.0,
          445.0,
          455.0,
          465.0,
          475.0,
          485.0,
          495.0,
          505.0,
          515.0,
          525.0,
          535.0,
          545.0,
          555.0,
          565.0,
          575.0,
          585.0,
          595.0,
          605.0,
          615.0,
          625.0,
          635.0,
          645.0,
          655.0,
          665.0,
          675.0,
          685.0,
          695.0,
          705.0,
          715.0,
          725.0,
          735.0,
          745.0,
          755.0,
          765.0,
          775.0,
          785.0,
          795.0,
          805.0,
          815.0,
          825.0,
          835.0,
          845.0,
          855.0,
          865.0,
          875.0,
          885.0,
          895.0,
          905.0,
          915.0,
          925.0,
          935.0,
          945.0,
          955.0,
          965.0,
          975.0,
          985.0,
          995.0,
          1005.0,
          1015.0,
          1025.0,
          1035.0,
          1045.0,
          1055.0,
          1065.0,
          1075.0,
          1085.0,
          1095.0,
          1105.0,
          1115.0,
          1125.0,
          1135.0,
          1145.0,
          1155.0,
          1165.0,
          1175.0,
          1185.0,
          1195.0,
          1205.0,
          1215.0,
          1225.0,
          1235.0,
          1245.0,
          1255.0,
          1265.0,
          1275.0,
          1285.0,
          1295.0,
          1305.0,
          1315.0,
          1325.0,
          1335.0,
          1345.0,
          1355.0,
          1365.0,
          1375.0,
          1385.0,
          1395.0,
          1405.0,
          1415.0,
          1425.0,
          1435.0,
          1445.0,
          1455.0,
          1465.0,
          1475.0,
          1485.0,
          1495.0,
          1505.0,
          1515.0,
          1525.0,
          1535.0,
          1545.0,
          1555.0,
          1565.0,
          1575.0,
          1585.0,
          1595.0,
          1605.0,
          1615.0,
          1625.0,
          1635.0,
          1645.0,
          1655.0,
          1665.0,
          1675.0,
          1685.0,
          1695.0,
          1705.0,
          1715.0,
          1725.0,
          1735.0,
          1745.0,
          1755.0,
          1765.0,
          1775.0,
          1785.0,
          1795.0,
          1805.0,
          1815.0,
          1825.0,
          1835.0,
          1845.0,
          1855.0,
          1865.0,
          1875.0,
          1885.0,
          1895.0,
          1905.0,
          1915.0,
          1925.0,
          1935.0,
          1945.0,
          1955.0,
          1965.0,
          1975.0,
          1985.0,
          1995.0,
          2005.0,
          2015.0,
          2025.0,
          2035.0,
          2045.0,
          2055.0,
          2065.0,
          2075.0,
          2085.0,
          2095.0,
          2105.0,
          2115.0,
          2125.0,
          2135.0,
          2145.0,
          2155.0,
          2165.0,
          2175.0,
          2185.0,
          2195.0,
          2205.0,
          2215.0,
          2225.0,
          2235.0,
          2245.0,
          2255.0,
          2265.0,
          2275.0,
          2285.0,
          2295.0,
          2305.0,
          2315.0,
          2325.0,
          2335.0,
          2345.0,
          2355.0,
          2365.0,
          2375.0,
          2385.0,
          2395.0,
          2405.0,
          2415.0,
          2425.0,
          2435.0,
          2445.0,
          2455.0,
          2465.0,
          2475.0,
          2485.0,
          2495.0,
          2505.0,
          2515.0,
          2525.0,
          2535.0,
          2545.0,
          2555.0,
          2565.0,
          2575.0,
          2585.0,
          2595.0,
          2605.0,
          2615.0,
          2625.0,
          2635.0,
          2645.0,
          2655.0,
          2665.0,
          2675.0,
          2685.0,
          2695.0,
          2705.0,
          2715.0,
          2725.0,
          2735.0,
          2745.0,
          2755.0,
          2765.0,
          2775.0,
          2785.0,
          2795.0,
          2805.0,
          2815.0,
          2825.0,
          2835.0,
          2845.0,
          2855.0,
          2865.0,
          2875.0,
          2885.0,
          2895.0,
          2905.0,
          2915.0,
          2925.0,
          2935.0,
          2945.0,
          2955.0,
          2965.0,
          2975.0,
          2985.0,
          2995.0,
          3005.0,
          3015.0,
          3025.0,
          3035.0,
          3045.0,
          3055.0,
          3065.0,
          3075.0,
          3085.0,
          3095.0,
          3105.0,
          3115.0,
          3125.0,
          3135.0,
          3145.0,
          3155.0,
          3165.0,
          3175.0,
          3185.0,
          3195.0,
          3205.0,
          3215.0,
          3225.0,
          3235.0,
          3245.0,
          3255.0,
          3265.0,
          3275.0,
          3285.0,
          3295.0,
          3305.0,
          3315.0,
          3325.0,
          3335.0,
          3345.0,
          3355.0,
          3365.0,
          3375.0,
          3385.0,
          3395.0,
          3405.0,
          3415.0,
          3425.0,
          3435.0,
          3445.0,
          3455.0,
          3465.0,
          3475.0,
          3485.0,
          3495.0,
          3505.0,
          3515.0,
          3525.0,
          3535.0,
          3545.0,
          3555.0,
          3565.0,
          3575.0,
          3585.0,
          3595.0,
          3605.0,
          3615.0,
          3625.0,
          3635.0,
          3645.0,
          3655.0,
          3665.0,
          3675.0,
          3685.0,
          3695.0,
          3705.0,
          3715.0,
          3725.0,
          3735.0,
          3745.0,
          3755.0,
          3765.0,
          3775.0,
          3785.0,
          3795.0,
          3805.0,
          3815.0,
          3825.0,
          3835.0,
          3845.0,
          3855.0,
          3865.0,
          3875.0,
          3885.0,
          3895.0,
          3905.0,
          3915.0,
          3925.0,
          3935.0,
          3945.0,
          3955.0,
          3965.0,
          3975.0,
          3985.0,
          3995.0,
          4005.0,
          4015.0,
          4025.0,
          4035.0,
          4045.0,
          4055.0,
          4065.0,
          4075.0,
          4085.0,
          4095.0,
          4105.0,
          4115.0,
          4125.0,
          4135.0,
          4145.0,
          4155.0,
          4165.0,
          4175.0,
          4185.0,
          4195.0,
          4205.0,
          4215.0,
          4225.0,
          4235.0,
          4245.0,
          4255.0,
          4265.0,
          4275.0,
          4285.0,
          4295.0,
          4305.0,
          4315.0,
          4325.0,
          4335.0,
          4345.0,
          4355.0,
          4365.0,
          4375.0,
          4385.0,
          4395.0,
          4405.0,
          4415.0,
          4425.0,
          4435.0,
          4445.0,
          4455.0,
          4465.0,
          4475.0,
          4485.0,
          4495.0,
          4505.0,
          4515.0,
          4525.0,
          4535.0,
          4545.0,
          4555.0,
          4565.0,
          4575.0,
          4585.0,
          4595.0,
          4605.0,
          4615.0,
          4625.0,
          4635.0,
          4645.0,
          4655.0,
          4665.0,
          4675.0,
          4685.0,
          4695.0,
          4705.0,
          4715.0,
          4725.0,
          4735.0,
          4745.0,
          4755.0,
          4765.0,
          4775.0,
          4785.0,
          4795.0,
          4805.0,
          4815.0,
          4825.0,
          4835.0,
          4845.0,
          4855.0,
          4865.0,
          4875.0,
          4885.0,
          4895.0,
          4905.0,
          4915.0,
          4925.0,
          4935.0,
          4945.0,
          4955.0,
          4965.0,
          4975.0,
          4985.0,
          4995.0,
          5005.0,
          5015.0,
          5025.0,
          5035.0,
          5045.0,
          5055.0,
          5065.0,
          5075.0,
          5085.0,
          5095.0,
          5105.0,
          5115.0,
          5125.0,
          5135.0,
          5145.0,
          5155.0,
          5165.0,
          5175.0,
          5185.0,
          5195.0,
          5205.0,
          5215.0,
          5225.0,
          5235.0,
          5245.0,
          5255.0,
          5265.0,
          5275.0,
          5285.0,
          5295.0,
          5305.0,
          5315.0,
          5325.0,
          5335.0,
          5345.0,
          5355.0,
          5365.0,
          5375.0,
          5385.0,
          5395.0,
          5405.0,
          5415.0,
          5425.0,
          5435.0,
          5445.0,
          5455.0,
          5465.0,
          5475.0,
          5485.0,
          5495.0,
          5505.0,
          5515.0,
          5525.0,
          5535.0,
          5545.0,
          5555.0,
          5565.0,
          5575.0,
          5585.0,
          5595.0,
          5605.0,
          5615.0,
          5625.0,
          5635.0,
          5645.0,
          5655.0,
          5665.0,
          5675.0,
          5685.0,
          5695.0,
          5705.0,
          5715.0,
          5725.0,
          5735.0,
          5745.0,
          5755.0,
          5765.0,
          5775.0,
          5785.0,
          5795.0,
          5805.0,
          5815.0,
          5825.0,
          5835.0,
          5845.0,
          5855.0,
          5865.0,
          5875.0,
          5885.0,
          5895.0,
          5905.0,
          5915.0,
          5925.0,
          5935.0,
          5945.0,
          5955.0,
          5965.0,
          5975.0,
          5985.0,
          5995.0,
          6005.0,
          6015.0,
          6025.0,
          6035.0,
          6045.0,
          6055.0,
          6065.0,
          6075.0,
          6085.0,
          6095.0,
          6105.0,
          6115.0,
          6125.0,
          6135.0,
          6145.0,
          6155.0,
          6165.0,
          6175.0,
          6185.0,
          6195.0,
          6205.0,
          6215.0,
          6225.0,
          6235.0,
          6245.0,
          6255.0,
          6265.0,
          6275.0,
          6285.0,
          6295.0,
          6305.0,
          6315.0,
          6325.0,
          6335.0,
          6345.0,
          6355.0,
          6365.0,
          6375.0,
          6385.0,
          6395.0,
          6405.0,
          6415.0,
          6425.0,
          6435.0,
          6445.0,
          6455.0,
          6465.0,
          6475.0,
          6485.0,
          6495.0,
          6505.0,
          6515.0,
          6525.0,
          6535.0,
          6545.0,
          6555.0,
          6565.0,
          6575.0,
          6585.0,
          6595.0,
          6605.0,
          6615.0,
          6625.0,
          6635.0,
          6645.0,
          6655.0,
          6665.0,
          6675.0,
          6685.0,
          6695.0,
          6705.0,
          6715.0,
          6725.0,
          6735.0,
          6745.0,
          6755.0,
          6765.0,
          6775.0,
          6785.0,
          6795.0,
          6805.0,
          6815.0,
          6825.0,
          6835.0,
          6845.0,
          6855.0,
          6865.0,
          6875.0,
          6885.0,
          6895.0,
          6905.0,
          6915.0,
          6925.0,
          6935.0,
          6945.0,
          6955.0,
          6965.0,
          6975.0,
          6985.0,
          6995.0,
          7005.0,
          7015.0,
          7025.0,
          7035.0,
          7045.0,
          7055.0,
          7065.0,
          7075.0,
          7085.0,
          7095.0,
          7105.0,
          7115.0,
          7125.0,
          7135.0,
          7145.0,
          7155.0,
          7165.0,
          7175.0,
          7185.0,
          7195.0,
          7205.0,
          7215.0,
          7225.0,
          7235.0,
          7245.0,
          7255.0,
          7265.0,
          7275.0,
          7285.0,
          7295.0,
          7305.0,
          7315.0,
          7325.0,
          7335.0,
          7345.0,
          7355.0,
          7365.0,
          7375.0,
          7385.0,
          7395.0,
          7405.0,
          7415.0,
          7425.0,
          7435.0,
          7445.0,
          7455.0,
          7465.0,
          7475.0,
          7485.0,
          7495.0,
          7505.0,
          7515.0,
          7525.0,
          7535.0,
          7545.0,
          7555.0,
          7565.0,
          7575.0,
          7585.0,
          7595.0,
          7605.0,
          7615.0,
          7625.0,
          7635.0,
          7645.0,
          7655.0,
          7665.0,
          7675.0,
          7685.0,
          7695.0,
          7705.0,
          7715.0,
          7725.0,
          7735.0,
          7745.0,
          7755.0,
          7765.0,
          7775.0,
          7785.0,
          7795.0,
          7805.0,
          7815.0,
          7825.0,
          7835.0,
          7845.0,
          7855.0,
          7865.0,
          7875.0,
          7885.0,
          7895.0,
          7905.0,
          7915.0,
          7925.0,
          7935.0,
          7945.0,
          7955.0,
          7965.0,
          7975.0,
          7985.0,
          7995.0,
          8005.0,
          8015.0,
          8025.0,
          8035.0,
          8045.0,
          8055.0,
          8065.0,
          8075.0,
          8085.0,
          8095.0,
          8105.0,
          8115.0,
          8125.0,
          8135.0,
          8145.0,
          8155.0,
          8165.0,
          8175.0,
          8185.0,
          8195.0,
          8205.0,
          8215.0,
          8225.0,
          8235.0,
          8245.0,
          8255.0,
          8265.0,
          8275.0,
          8285.0,
          8295.0,
          8305.0,
          8315.0,
          8325.0,
          8335.0,
          8345.0,
          8355.0,
          8365.0,
          8375.0,
          8385.0,
          8395.0,
          8405.0,
          8415.0,
          8425.0,
          8435.0,
          8445.0,
          8455.0,
          8465.0,
          8475.0,
          8485.0,
          8495.0,
          8505.0,
          8515.0,
          8525.0,
          8535.0,
          8545.0,
          8555.0,
          8565.0,
          8575.0,
          8585.0,
          8595.0,
          8605.0,
          8615.0,
          8625.0,
          8635.0,
          8645.0,
          8655.0,
          8665.0,
          8675.0,
          8685.0,
          8695.0,
          8705.0,
          8715.0,
          8725.0,
          8735.0,
          8745.0,
          8755.0,
          8765.0,
          8775.0,
          8785.0,
          8795.0,
          8805.0,
          8815.0,
          8825.0,
          8835.0,
          8845.0,
          8855.0,
          8865.0,
          8875.0,
          8885.0,
          8895.0,
          8905.0,
          8915.0,
          8925.0,
          8935.0,
          8945.0,
          8955.0,
          8965.0,
          8975.0,
          8985.0,
          8995.0,
          9005.0,
          9015.0,
          9025.0,
          9035.0,
          9045.0,
          9055.0,
          9065.0,
          9075.0,
          9085.0,
          9095.0,
          9105.0,
          9115.0,
          9125.0,
          9135.0,
          9145.0,
          9155.0,
          9165.0,
          9175.0,
          9185.0,
          9195.0,
          9205.0,
          9215.0,
          9225.0,
          9235.0,
          9245.0,
          9255.0,
          9265.0,
          9275.0,
          9285.0,
          9295.0,
          9305.0,
          9315.0,
          9325.0,
          9335.0,
          9345.0,
          9355.0,
          9365.0,
          9375.0,
          9385.0,
          9395.0,
          9405.0,
          9415.0,
          9425.0,
          9435.0,
          9445.0,
          9455.0,
          9465.0,
          9475.0,
          9485.0,
          9495.0,
          9505.0,
          9515.0,
          9525.0,
          9535.0,
          9545.0,
          9555.0,
          9565.0,
          9575.0,
          9585.0,
          9595.0,
          9605.0,
          9615.0,
          9625.0,
          9635.0,
          9645.0,
          9655.0,
          9665.0,
          9675.0,
          9685.0,
          9695.0,
          9705.0,
          9715.0,
          9725.0,
          9735.0,
          9745.0,
          9755.0,
          9765.0,
          9775.0,
          9785.0,
          9795.0,
          9805.0,
          9815.0,
          9825.0,
          9835.0,
          9845.0,
          9855.0,
          9865.0,
          9875.0,
          9885.0,
          9895.0,
          9905.0,
          9915.0,
          9925.0,
          9935.0,
          9945.0,
          9955.0,
          9965.0,
          9975.0,
          9985.0,
          9995.0
         ],
         "type": "linear",
         "zeroline": false
        },
        "yaxis": {
         "mirror": "allticks",
         "rangemode": "tozero",
         "showgrid": false,
         "showline": true,
         "showticklabels": true,
         "ticks": "outside",
         "type": "linear",
         "zeroline": false
        },
        "template": {
         "data": {
          "histogram2dcontour": [
           {
            "type": "histogram2dcontour",
            "colorbar": {
             "outlinewidth": 0,
             "ticks": ""
            },
            "colorscale": [
             [
              0.0,
              "#0d0887"
             ],
             [
              0.1111111111111111,
              "#46039f"
             ],
             [
              0.2222222222222222,
              "#7201a8"
             ],
             [
              0.3333333333333333,
              "#9c179e"
             ],
             [
              0.4444444444444444,
              "#bd3786"
             ],
             [
              0.5555555555555556,
              "#d8576b"
             ],
             [
              0.6666666666666666,
              "#ed7953"
             ],
             [
              0.7777777777777778,
              "#fb9f3a"
             ],
             [
              0.8888888888888888,
              "#fdca26"
             ],
             [
              1.0,
              "#f0f921"
             ]
            ]
           }
          ],
          "choropleth": [
           {
            "type": "choropleth",
            "colorbar": {
             "outlinewidth": 0,
             "ticks": ""
            }
           }
          ],
          "histogram2d": [
           {
            "type": "histogram2d",
            "colorbar": {
             "outlinewidth": 0,
             "ticks": ""
            },
            "colorscale": [
             [
              0.0,
              "#0d0887"
             ],
             [
              0.1111111111111111,
              "#46039f"
             ],
             [
              0.2222222222222222,
              "#7201a8"
             ],
             [
              0.3333333333333333,
              "#9c179e"
             ],
             [
              0.4444444444444444,
              "#bd3786"
             ],
             [
              0.5555555555555556,
              "#d8576b"
             ],
             [
              0.6666666666666666,
              "#ed7953"
             ],
             [
              0.7777777777777778,
              "#fb9f3a"
             ],
             [
              0.8888888888888888,
              "#fdca26"
             ],
             [
              1.0,
              "#f0f921"
             ]
            ]
           }
          ],
          "heatmap": [
           {
            "type": "heatmap",
            "colorbar": {
             "outlinewidth": 0,
             "ticks": ""
            },
            "colorscale": [
             [
              0.0,
              "#0d0887"
             ],
             [
              0.1111111111111111,
              "#46039f"
             ],
             [
              0.2222222222222222,
              "#7201a8"
             ],
             [
              0.3333333333333333,
              "#9c179e"
             ],
             [
              0.4444444444444444,
              "#bd3786"
             ],
             [
              0.5555555555555556,
              "#d8576b"
             ],
             [
              0.6666666666666666,
              "#ed7953"
             ],
             [
              0.7777777777777778,
              "#fb9f3a"
             ],
             [
              0.8888888888888888,
              "#fdca26"
             ],
             [
              1.0,
              "#f0f921"
             ]
            ]
           }
          ],
          "heatmapgl": [
           {
            "type": "heatmapgl",
            "colorbar": {
             "outlinewidth": 0,
             "ticks": ""
            },
            "colorscale": [
             [
              0.0,
              "#0d0887"
             ],
             [
              0.1111111111111111,
              "#46039f"
             ],
             [
              0.2222222222222222,
              "#7201a8"
             ],
             [
              0.3333333333333333,
              "#9c179e"
             ],
             [
              0.4444444444444444,
              "#bd3786"
             ],
             [
              0.5555555555555556,
              "#d8576b"
             ],
             [
              0.6666666666666666,
              "#ed7953"
             ],
             [
              0.7777777777777778,
              "#fb9f3a"
             ],
             [
              0.8888888888888888,
              "#fdca26"
             ],
             [
              1.0,
              "#f0f921"
             ]
            ]
           }
          ],
          "contourcarpet": [
           {
            "type": "contourcarpet",
            "colorbar": {
             "outlinewidth": 0,
             "ticks": ""
            }
           }
          ],
          "contour": [
           {
            "type": "contour",
            "colorbar": {
             "outlinewidth": 0,
             "ticks": ""
            },
            "colorscale": [
             [
              0.0,
              "#0d0887"
             ],
             [
              0.1111111111111111,
              "#46039f"
             ],
             [
              0.2222222222222222,
              "#7201a8"
             ],
             [
              0.3333333333333333,
              "#9c179e"
             ],
             [
              0.4444444444444444,
              "#bd3786"
             ],
             [
              0.5555555555555556,
              "#d8576b"
             ],
             [
              0.6666666666666666,
              "#ed7953"
             ],
             [
              0.7777777777777778,
              "#fb9f3a"
             ],
             [
              0.8888888888888888,
              "#fdca26"
             ],
             [
              1.0,
              "#f0f921"
             ]
            ]
           }
          ],
          "surface": [
           {
            "type": "surface",
            "colorbar": {
             "outlinewidth": 0,
             "ticks": ""
            },
            "colorscale": [
             [
              0.0,
              "#0d0887"
             ],
             [
              0.1111111111111111,
              "#46039f"
             ],
             [
              0.2222222222222222,
              "#7201a8"
             ],
             [
              0.3333333333333333,
              "#9c179e"
             ],
             [
              0.4444444444444444,
              "#bd3786"
             ],
             [
              0.5555555555555556,
              "#d8576b"
             ],
             [
              0.6666666666666666,
              "#ed7953"
             ],
             [
              0.7777777777777778,
              "#fb9f3a"
             ],
             [
              0.8888888888888888,
              "#fdca26"
             ],
             [
              1.0,
              "#f0f921"
             ]
            ]
           }
          ],
          "mesh3d": [
           {
            "type": "mesh3d",
            "colorbar": {
             "outlinewidth": 0,
             "ticks": ""
            }
           }
          ],
          "scatter": [
           {
            "fillpattern": {
             "fillmode": "overlay",
             "size": 10,
             "solidity": 0.2
            },
            "type": "scatter"
           }
          ],
          "parcoords": [
           {
            "type": "parcoords",
            "line": {
             "colorbar": {
              "outlinewidth": 0,
              "ticks": ""
             }
            }
           }
          ],
          "scatterpolargl": [
           {
            "type": "scatterpolargl",
            "marker": {
             "colorbar": {
              "outlinewidth": 0,
              "ticks": ""
             }
            }
           }
          ],
          "bar": [
           {
            "error_x": {
             "color": "#2a3f5f"
            },
            "error_y": {
             "color": "#2a3f5f"
            },
            "marker": {
             "line": {
              "color": "#E5ECF6",
              "width": 0.5
             },
             "pattern": {
              "fillmode": "overlay",
              "size": 10,
              "solidity": 0.2
             }
            },
            "type": "bar"
           }
          ],
          "scattergeo": [
           {
            "type": "scattergeo",
            "marker": {
             "colorbar": {
              "outlinewidth": 0,
              "ticks": ""
             }
            }
           }
          ],
          "scatterpolar": [
           {
            "type": "scatterpolar",
            "marker": {
             "colorbar": {
              "outlinewidth": 0,
              "ticks": ""
             }
            }
           }
          ],
          "histogram": [
           {
            "marker": {
             "pattern": {
              "fillmode": "overlay",
              "size": 10,
              "solidity": 0.2
             }
            },
            "type": "histogram"
           }
          ],
          "scattergl": [
           {
            "type": "scattergl",
            "marker": {
             "colorbar": {
              "outlinewidth": 0,
              "ticks": ""
             }
            }
           }
          ],
          "scatter3d": [
           {
            "type": "scatter3d",
            "line": {
             "colorbar": {
              "outlinewidth": 0,
              "ticks": ""
             }
            },
            "marker": {
             "colorbar": {
              "outlinewidth": 0,
              "ticks": ""
             }
            }
           }
          ],
          "scattermapbox": [
           {
            "type": "scattermapbox",
            "marker": {
             "colorbar": {
              "outlinewidth": 0,
              "ticks": ""
             }
            }
           }
          ],
          "scatterternary": [
           {
            "type": "scatterternary",
            "marker": {
             "colorbar": {
              "outlinewidth": 0,
              "ticks": ""
             }
            }
           }
          ],
          "scattercarpet": [
           {
            "type": "scattercarpet",
            "marker": {
             "colorbar": {
              "outlinewidth": 0,
              "ticks": ""
             }
            }
           }
          ],
          "carpet": [
           {
            "aaxis": {
             "endlinecolor": "#2a3f5f",
             "gridcolor": "white",
             "linecolor": "white",
             "minorgridcolor": "white",
             "startlinecolor": "#2a3f5f"
            },
            "baxis": {
             "endlinecolor": "#2a3f5f",
             "gridcolor": "white",
             "linecolor": "white",
             "minorgridcolor": "white",
             "startlinecolor": "#2a3f5f"
            },
            "type": "carpet"
           }
          ],
          "table": [
           {
            "cells": {
             "fill": {
              "color": "#EBF0F8"
             },
             "line": {
              "color": "white"
             }
            },
            "header": {
             "fill": {
              "color": "#C8D4E3"
             },
             "line": {
              "color": "white"
             }
            },
            "type": "table"
           }
          ],
          "barpolar": [
           {
            "marker": {
             "line": {
              "color": "#E5ECF6",
              "width": 0.5
             },
             "pattern": {
              "fillmode": "overlay",
              "size": 10,
              "solidity": 0.2
             }
            },
            "type": "barpolar"
           }
          ],
          "pie": [
           {
            "automargin": true,
            "type": "pie"
           }
          ]
         },
         "layout": {
          "autotypenumbers": "strict",
          "colorway": [
           "#636efa",
           "#EF553B",
           "#00cc96",
           "#ab63fa",
           "#FFA15A",
           "#19d3f3",
           "#FF6692",
           "#B6E880",
           "#FF97FF",
           "#FECB52"
          ],
          "font": {
           "color": "#2a3f5f"
          },
          "hovermode": "closest",
          "hoverlabel": {
           "align": "left"
          },
          "paper_bgcolor": "white",
          "plot_bgcolor": "#E5ECF6",
          "polar": {
           "bgcolor": "#E5ECF6",
           "angularaxis": {
            "gridcolor": "white",
            "linecolor": "white",
            "ticks": ""
           },
           "radialaxis": {
            "gridcolor": "white",
            "linecolor": "white",
            "ticks": ""
           }
          },
          "ternary": {
           "bgcolor": "#E5ECF6",
           "aaxis": {
            "gridcolor": "white",
            "linecolor": "white",
            "ticks": ""
           },
           "baxis": {
            "gridcolor": "white",
            "linecolor": "white",
            "ticks": ""
           },
           "caxis": {
            "gridcolor": "white",
            "linecolor": "white",
            "ticks": ""
           }
          },
          "coloraxis": {
           "colorbar": {
            "outlinewidth": 0,
            "ticks": ""
           }
          },
          "colorscale": {
           "sequential": [
            [
             0.0,
             "#0d0887"
            ],
            [
             0.1111111111111111,
             "#46039f"
            ],
            [
             0.2222222222222222,
             "#7201a8"
            ],
            [
             0.3333333333333333,
             "#9c179e"
            ],
            [
             0.4444444444444444,
             "#bd3786"
            ],
            [
             0.5555555555555556,
             "#d8576b"
            ],
            [
             0.6666666666666666,
             "#ed7953"
            ],
            [
             0.7777777777777778,
             "#fb9f3a"
            ],
            [
             0.8888888888888888,
             "#fdca26"
            ],
            [
             1.0,
             "#f0f921"
            ]
           ],
           "sequentialminus": [
            [
             0.0,
             "#0d0887"
            ],
            [
             0.1111111111111111,
             "#46039f"
            ],
            [
             0.2222222222222222,
             "#7201a8"
            ],
            [
             0.3333333333333333,
             "#9c179e"
            ],
            [
             0.4444444444444444,
             "#bd3786"
            ],
            [
             0.5555555555555556,
             "#d8576b"
            ],
            [
             0.6666666666666666,
             "#ed7953"
            ],
            [
             0.7777777777777778,
             "#fb9f3a"
            ],
            [
             0.8888888888888888,
             "#fdca26"
            ],
            [
             1.0,
             "#f0f921"
            ]
           ],
           "diverging": [
            [
             0,
             "#8e0152"
            ],
            [
             0.1,
             "#c51b7d"
            ],
            [
             0.2,
             "#de77ae"
            ],
            [
             0.3,
             "#f1b6da"
            ],
            [
             0.4,
             "#fde0ef"
            ],
            [
             0.5,
             "#f7f7f7"
            ],
            [
             0.6,
             "#e6f5d0"
            ],
            [
             0.7,
             "#b8e186"
            ],
            [
             0.8,
             "#7fbc41"
            ],
            [
             0.9,
             "#4d9221"
            ],
            [
             1,
             "#276419"
            ]
           ]
          },
          "xaxis": {
           "gridcolor": "white",
           "linecolor": "white",
           "ticks": "",
           "title": {
            "standoff": 15
           },
           "zerolinecolor": "white",
           "automargin": true,
           "zerolinewidth": 2
          },
          "yaxis": {
           "gridcolor": "white",
           "linecolor": "white",
           "ticks": "",
           "title": {
            "standoff": 15
           },
           "zerolinecolor": "white",
           "automargin": true,
           "zerolinewidth": 2
          },
          "scene": {
           "xaxis": {
            "backgroundcolor": "#E5ECF6",
            "gridcolor": "white",
            "linecolor": "white",
            "showbackground": true,
            "ticks": "",
            "zerolinecolor": "white",
            "gridwidth": 2
           },
           "yaxis": {
            "backgroundcolor": "#E5ECF6",
            "gridcolor": "white",
            "linecolor": "white",
            "showbackground": true,
            "ticks": "",
            "zerolinecolor": "white",
            "gridwidth": 2
           },
           "zaxis": {
            "backgroundcolor": "#E5ECF6",
            "gridcolor": "white",
            "linecolor": "white",
            "showbackground": true,
            "ticks": "",
            "zerolinecolor": "white",
            "gridwidth": 2
           }
          },
          "shapedefaults": {
           "line": {
            "color": "#2a3f5f"
           }
          },
          "annotationdefaults": {
           "arrowcolor": "#2a3f5f",
           "arrowhead": 0,
           "arrowwidth": 1
          },
          "geo": {
           "bgcolor": "white",
           "landcolor": "#E5ECF6",
           "subunitcolor": "white",
           "showland": true,
           "showlakes": true,
           "lakecolor": "white"
          },
          "title": {
           "x": 0.05
          },
          "mapbox": {
           "style": "light"
          }
         }
        }
       },
       "config": {
        "plotlyServerURL": "https://plot.ly"
       }
      },
      "text/html": "<div>                            <div id=\"d5dee962-5fae-446f-b9e8-056205a67ede\" class=\"plotly-graph-div\" style=\"height:1000px; width:1300px;\"></div>            <script type=\"text/javascript\">                require([\"plotly\"], function(Plotly) {                    window.PLOTLYENV=window.PLOTLYENV || {};                                    if (document.getElementById(\"d5dee962-5fae-446f-b9e8-056205a67ede\")) {                    Plotly.newPlot(                        \"d5dee962-5fae-446f-b9e8-056205a67ede\",                        [{\"hoverinfo\":\"text\",\"marker\":{\"color\":\"rgb(61,153,112)\"},\"mode\":\"lines\",\"x\":[15.0,15.0,25.0,25.0],\"xaxis\":\"x\",\"y\":[0.0,0.07672417625887493,0.07672417625887493,0.0],\"yaxis\":\"y\",\"type\":\"scatter\"},{\"hoverinfo\":\"text\",\"marker\":{\"color\":\"rgb(61,153,112)\"},\"mode\":\"lines\",\"x\":[5.0,5.0,20.0,20.0],\"xaxis\":\"x\",\"y\":[0.0,0.11992691869606338,0.11992691869606338,0.07672417625887493],\"yaxis\":\"y\",\"type\":\"scatter\"},{\"hoverinfo\":\"text\",\"marker\":{\"color\":\"rgb(61,153,112)\"},\"mode\":\"lines\",\"x\":[35.0,35.0,45.0,45.0],\"xaxis\":\"x\",\"y\":[0.0,0.13598032516307357,0.13598032516307357,0.0],\"yaxis\":\"y\",\"type\":\"scatter\"},{\"hoverinfo\":\"text\",\"marker\":{\"color\":\"rgb(61,153,112)\"},\"mode\":\"lines\",\"x\":[12.5,12.5,40.0,40.0],\"xaxis\":\"x\",\"y\":[0.11992691869606338,0.1786003950354516,0.1786003950354516,0.13598032516307357],\"yaxis\":\"y\",\"type\":\"scatter\"},{\"hoverinfo\":\"text\",\"marker\":{\"color\":\"rgb(61,153,112)\"},\"mode\":\"lines\",\"x\":[65.0,65.0,75.0,75.0],\"xaxis\":\"x\",\"y\":[0.0,0.09326940249184486,0.09326940249184486,0.0],\"yaxis\":\"y\",\"type\":\"scatter\"},{\"hoverinfo\":\"text\",\"marker\":{\"color\":\"rgb(61,153,112)\"},\"mode\":\"lines\",\"x\":[105.0,105.0,115.0,115.0],\"xaxis\":\"x\",\"y\":[0.0,0.053859227508787993,0.053859227508787993,0.0],\"yaxis\":\"y\",\"type\":\"scatter\"},{\"hoverinfo\":\"text\",\"marker\":{\"color\":\"rgb(61,153,112)\"},\"mode\":\"lines\",\"x\":[95.0,95.0,110.0,110.0],\"xaxis\":\"x\",\"y\":[0.0,0.07583240485937998,0.07583240485937998,0.053859227508787993],\"yaxis\":\"y\",\"type\":\"scatter\"},{\"hoverinfo\":\"text\",\"marker\":{\"color\":\"rgb(61,153,112)\"},\"mode\":\"lines\",\"x\":[85.0,85.0,102.5,102.5],\"xaxis\":\"x\",\"y\":[0.0,0.12596201374895313,0.12596201374895313,0.07583240485937998],\"yaxis\":\"y\",\"type\":\"scatter\"},{\"hoverinfo\":\"text\",\"marker\":{\"color\":\"rgb(61,153,112)\"},\"mode\":\"lines\",\"x\":[70.0,70.0,93.75,93.75],\"xaxis\":\"x\",\"y\":[0.09326940249184486,0.17396412286160973,0.17396412286160973,0.12596201374895313],\"yaxis\":\"y\",\"type\":\"scatter\"},{\"hoverinfo\":\"text\",\"marker\":{\"color\":\"rgb(61,153,112)\"},\"mode\":\"lines\",\"x\":[55.0,55.0,81.875,81.875],\"xaxis\":\"x\",\"y\":[0.0,0.19275460753617038,0.19275460753617038,0.17396412286160973],\"yaxis\":\"y\",\"type\":\"scatter\"},{\"hoverinfo\":\"text\",\"marker\":{\"color\":\"rgb(61,153,112)\"},\"mode\":\"lines\",\"x\":[26.25,26.25,68.4375,68.4375],\"xaxis\":\"x\",\"y\":[0.1786003950354516,0.29542185439691643,0.29542185439691643,0.19275460753617038],\"yaxis\":\"y\",\"type\":\"scatter\"},{\"hoverinfo\":\"text\",\"marker\":{\"color\":\"rgb(255,65,54)\"},\"mode\":\"lines\",\"x\":[155.0,155.0,165.0,165.0],\"xaxis\":\"x\",\"y\":[0.0,0.0433276819310413,0.0433276819310413,0.0],\"yaxis\":\"y\",\"type\":\"scatter\"},{\"hoverinfo\":\"text\",\"marker\":{\"color\":\"rgb(255,65,54)\"},\"mode\":\"lines\",\"x\":[145.0,145.0,160.0,160.0],\"xaxis\":\"x\",\"y\":[0.0,0.11163858370556974,0.11163858370556974,0.0433276819310413],\"yaxis\":\"y\",\"type\":\"scatter\"},{\"hoverinfo\":\"text\",\"marker\":{\"color\":\"rgb(255,65,54)\"},\"mode\":\"lines\",\"x\":[135.0,135.0,152.5,152.5],\"xaxis\":\"x\",\"y\":[0.0,0.1474131325320998,0.1474131325320998,0.11163858370556974],\"yaxis\":\"y\",\"type\":\"scatter\"},{\"hoverinfo\":\"text\",\"marker\":{\"color\":\"rgb(255,65,54)\"},\"mode\":\"lines\",\"x\":[125.0,125.0,143.75,143.75],\"xaxis\":\"x\",\"y\":[0.0,0.15964272937943716,0.15964272937943716,0.1474131325320998],\"yaxis\":\"y\",\"type\":\"scatter\"},{\"hoverinfo\":\"text\",\"marker\":{\"color\":\"rgb(255,65,54)\"},\"mode\":\"lines\",\"x\":[195.0,195.0,205.0,205.0],\"xaxis\":\"x\",\"y\":[0.0,0.08560035423940217,0.08560035423940217,0.0],\"yaxis\":\"y\",\"type\":\"scatter\"},{\"hoverinfo\":\"text\",\"marker\":{\"color\":\"rgb(255,65,54)\"},\"mode\":\"lines\",\"x\":[185.0,185.0,200.0,200.0],\"xaxis\":\"x\",\"y\":[0.0,0.15132287430908992,0.15132287430908992,0.08560035423940217],\"yaxis\":\"y\",\"type\":\"scatter\"},{\"hoverinfo\":\"text\",\"marker\":{\"color\":\"rgb(255,65,54)\"},\"mode\":\"lines\",\"x\":[175.0,175.0,192.5,192.5],\"xaxis\":\"x\",\"y\":[0.0,0.19756607732016612,0.19756607732016612,0.15132287430908992],\"yaxis\":\"y\",\"type\":\"scatter\"},{\"hoverinfo\":\"text\",\"marker\":{\"color\":\"rgb(255,65,54)\"},\"mode\":\"lines\",\"x\":[134.375,134.375,183.75,183.75],\"xaxis\":\"x\",\"y\":[0.15964272937943716,0.33872411775734945,0.33872411775734945,0.19756607732016612],\"yaxis\":\"y\",\"type\":\"scatter\"},{\"hoverinfo\":\"text\",\"marker\":{\"color\":\"rgb(35,205,205)\"},\"mode\":\"lines\",\"x\":[235.0,235.0,245.0,245.0],\"xaxis\":\"x\",\"y\":[0.0,0.01638756250174031,0.01638756250174031,0.0],\"yaxis\":\"y\",\"type\":\"scatter\"},{\"hoverinfo\":\"text\",\"marker\":{\"color\":\"rgb(35,205,205)\"},\"mode\":\"lines\",\"x\":[225.0,225.0,240.0,240.0],\"xaxis\":\"x\",\"y\":[0.0,0.05219467130006164,0.05219467130006164,0.01638756250174031],\"yaxis\":\"y\",\"type\":\"scatter\"},{\"hoverinfo\":\"text\",\"marker\":{\"color\":\"rgb(35,205,205)\"},\"mode\":\"lines\",\"x\":[215.0,215.0,232.5,232.5],\"xaxis\":\"x\",\"y\":[0.0,0.10356424692881659,0.10356424692881659,0.05219467130006164],\"yaxis\":\"y\",\"type\":\"scatter\"},{\"hoverinfo\":\"text\",\"marker\":{\"color\":\"rgb(35,205,205)\"},\"mode\":\"lines\",\"x\":[255.0,255.0,265.0,265.0],\"xaxis\":\"x\",\"y\":[0.0,0.04010808110937198,0.04010808110937198,0.0],\"yaxis\":\"y\",\"type\":\"scatter\"},{\"hoverinfo\":\"text\",\"marker\":{\"color\":\"rgb(35,205,205)\"},\"mode\":\"lines\",\"x\":[295.0,295.0,305.0,305.0],\"xaxis\":\"x\",\"y\":[0.0,0.03445767827812844,0.03445767827812844,0.0],\"yaxis\":\"y\",\"type\":\"scatter\"},{\"hoverinfo\":\"text\",\"marker\":{\"color\":\"rgb(35,205,205)\"},\"mode\":\"lines\",\"x\":[285.0,285.0,300.0,300.0],\"xaxis\":\"x\",\"y\":[0.0,0.04435245946654982,0.04435245946654982,0.03445767827812844],\"yaxis\":\"y\",\"type\":\"scatter\"},{\"hoverinfo\":\"text\",\"marker\":{\"color\":\"rgb(35,205,205)\"},\"mode\":\"lines\",\"x\":[275.0,275.0,292.5,292.5],\"xaxis\":\"x\",\"y\":[0.0,0.051379049239629264,0.051379049239629264,0.04435245946654982],\"yaxis\":\"y\",\"type\":\"scatter\"},{\"hoverinfo\":\"text\",\"marker\":{\"color\":\"rgb(35,205,205)\"},\"mode\":\"lines\",\"x\":[260.0,260.0,283.75,283.75],\"xaxis\":\"x\",\"y\":[0.04010808110937198,0.05928626789246661,0.05928626789246661,0.051379049239629264],\"yaxis\":\"y\",\"type\":\"scatter\"},{\"hoverinfo\":\"text\",\"marker\":{\"color\":\"rgb(35,205,205)\"},\"mode\":\"lines\",\"x\":[315.0,315.0,325.0,325.0],\"xaxis\":\"x\",\"y\":[0.0,0.02305349632809474,0.02305349632809474,0.0],\"yaxis\":\"y\",\"type\":\"scatter\"},{\"hoverinfo\":\"text\",\"marker\":{\"color\":\"rgb(35,205,205)\"},\"mode\":\"lines\",\"x\":[335.0,335.0,345.0,345.0],\"xaxis\":\"x\",\"y\":[0.0,0.030997925941316926,0.030997925941316926,0.0],\"yaxis\":\"y\",\"type\":\"scatter\"},{\"hoverinfo\":\"text\",\"marker\":{\"color\":\"rgb(35,205,205)\"},\"mode\":\"lines\",\"x\":[320.0,320.0,340.0,340.0],\"xaxis\":\"x\",\"y\":[0.02305349632809474,0.04430791953636304,0.04430791953636304,0.030997925941316926],\"yaxis\":\"y\",\"type\":\"scatter\"},{\"hoverinfo\":\"text\",\"marker\":{\"color\":\"rgb(35,205,205)\"},\"mode\":\"lines\",\"x\":[355.0,355.0,365.0,365.0],\"xaxis\":\"x\",\"y\":[0.0,0.07957262308625651,0.07957262308625651,0.0],\"yaxis\":\"y\",\"type\":\"scatter\"},{\"hoverinfo\":\"text\",\"marker\":{\"color\":\"rgb(35,205,205)\"},\"mode\":\"lines\",\"x\":[330.0,330.0,360.0,360.0],\"xaxis\":\"x\",\"y\":[0.04430791953636304,0.09464835597827866,0.09464835597827866,0.07957262308625651],\"yaxis\":\"y\",\"type\":\"scatter\"},{\"hoverinfo\":\"text\",\"marker\":{\"color\":\"rgb(35,205,205)\"},\"mode\":\"lines\",\"x\":[271.875,271.875,345.0,345.0],\"xaxis\":\"x\",\"y\":[0.05928626789246661,0.11849814743490755,0.11849814743490755,0.09464835597827866],\"yaxis\":\"y\",\"type\":\"scatter\"},{\"hoverinfo\":\"text\",\"marker\":{\"color\":\"rgb(35,205,205)\"},\"mode\":\"lines\",\"x\":[375.0,375.0,385.0,385.0],\"xaxis\":\"x\",\"y\":[0.0,0.06449216970352757,0.06449216970352757,0.0],\"yaxis\":\"y\",\"type\":\"scatter\"},{\"hoverinfo\":\"text\",\"marker\":{\"color\":\"rgb(35,205,205)\"},\"mode\":\"lines\",\"x\":[405.0,405.0,415.0,415.0],\"xaxis\":\"x\",\"y\":[0.0,0.04838475323064951,0.04838475323064951,0.0],\"yaxis\":\"y\",\"type\":\"scatter\"},{\"hoverinfo\":\"text\",\"marker\":{\"color\":\"rgb(35,205,205)\"},\"mode\":\"lines\",\"x\":[395.0,395.0,410.0,410.0],\"xaxis\":\"x\",\"y\":[0.0,0.07461950989948471,0.07461950989948471,0.04838475323064951],\"yaxis\":\"y\",\"type\":\"scatter\"},{\"hoverinfo\":\"text\",\"marker\":{\"color\":\"rgb(35,205,205)\"},\"mode\":\"lines\",\"x\":[380.0,380.0,402.5,402.5],\"xaxis\":\"x\",\"y\":[0.06449216970352757,0.12547425684680652,0.12547425684680652,0.07461950989948471],\"yaxis\":\"y\",\"type\":\"scatter\"},{\"hoverinfo\":\"text\",\"marker\":{\"color\":\"rgb(35,205,205)\"},\"mode\":\"lines\",\"x\":[308.4375,308.4375,391.25,391.25],\"xaxis\":\"x\",\"y\":[0.11849814743490755,0.15280023625476455,0.15280023625476455,0.12547425684680652],\"yaxis\":\"y\",\"type\":\"scatter\"},{\"hoverinfo\":\"text\",\"marker\":{\"color\":\"rgb(35,205,205)\"},\"mode\":\"lines\",\"x\":[435.0,435.0,445.0,445.0],\"xaxis\":\"x\",\"y\":[0.0,0.10974102561424268,0.10974102561424268,0.0],\"yaxis\":\"y\",\"type\":\"scatter\"},{\"hoverinfo\":\"text\",\"marker\":{\"color\":\"rgb(35,205,205)\"},\"mode\":\"lines\",\"x\":[425.0,425.0,440.0,440.0],\"xaxis\":\"x\",\"y\":[0.0,0.20204069132681898,0.20204069132681898,0.10974102561424268],\"yaxis\":\"y\",\"type\":\"scatter\"},{\"hoverinfo\":\"text\",\"marker\":{\"color\":\"rgb(35,205,205)\"},\"mode\":\"lines\",\"x\":[455.0,455.0,465.0,465.0],\"xaxis\":\"x\",\"y\":[0.0,0.07981646600052826,0.07981646600052826,0.0],\"yaxis\":\"y\",\"type\":\"scatter\"},{\"hoverinfo\":\"text\",\"marker\":{\"color\":\"rgb(35,205,205)\"},\"mode\":\"lines\",\"x\":[475.0,475.0,485.0,485.0],\"xaxis\":\"x\",\"y\":[0.0,0.0884118758225893,0.0884118758225893,0.0],\"yaxis\":\"y\",\"type\":\"scatter\"},{\"hoverinfo\":\"text\",\"marker\":{\"color\":\"rgb(35,205,205)\"},\"mode\":\"lines\",\"x\":[525.0,525.0,535.0,535.0],\"xaxis\":\"x\",\"y\":[0.0,0.02834207931892073,0.02834207931892073,0.0],\"yaxis\":\"y\",\"type\":\"scatter\"},{\"hoverinfo\":\"text\",\"marker\":{\"color\":\"rgb(35,205,205)\"},\"mode\":\"lines\",\"x\":[515.0,515.0,530.0,530.0],\"xaxis\":\"x\",\"y\":[0.0,0.04094234950249601,0.04094234950249601,0.02834207931892073],\"yaxis\":\"y\",\"type\":\"scatter\"},{\"hoverinfo\":\"text\",\"marker\":{\"color\":\"rgb(35,205,205)\"},\"mode\":\"lines\",\"x\":[505.0,505.0,522.5,522.5],\"xaxis\":\"x\",\"y\":[0.0,0.059357994985597906,0.059357994985597906,0.04094234950249601],\"yaxis\":\"y\",\"type\":\"scatter\"},{\"hoverinfo\":\"text\",\"marker\":{\"color\":\"rgb(35,205,205)\"},\"mode\":\"lines\",\"x\":[495.0,495.0,513.75,513.75],\"xaxis\":\"x\",\"y\":[0.0,0.09263162061857705,0.09263162061857705,0.059357994985597906],\"yaxis\":\"y\",\"type\":\"scatter\"},{\"hoverinfo\":\"text\",\"marker\":{\"color\":\"rgb(35,205,205)\"},\"mode\":\"lines\",\"x\":[480.0,480.0,504.375,504.375],\"xaxis\":\"x\",\"y\":[0.0884118758225893,0.14008835594740449,0.14008835594740449,0.09263162061857705],\"yaxis\":\"y\",\"type\":\"scatter\"},{\"hoverinfo\":\"text\",\"marker\":{\"color\":\"rgb(35,205,205)\"},\"mode\":\"lines\",\"x\":[460.0,460.0,492.1875,492.1875],\"xaxis\":\"x\",\"y\":[0.07981646600052826,0.15873789918544678,0.15873789918544678,0.14008835594740449],\"yaxis\":\"y\",\"type\":\"scatter\"},{\"hoverinfo\":\"text\",\"marker\":{\"color\":\"rgb(35,205,205)\"},\"mode\":\"lines\",\"x\":[555.0,555.0,565.0,565.0],\"xaxis\":\"x\",\"y\":[0.0,0.04407799869745014,0.04407799869745014,0.0],\"yaxis\":\"y\",\"type\":\"scatter\"},{\"hoverinfo\":\"text\",\"marker\":{\"color\":\"rgb(35,205,205)\"},\"mode\":\"lines\",\"x\":[545.0,545.0,560.0,560.0],\"xaxis\":\"x\",\"y\":[0.0,0.06107681185117954,0.06107681185117954,0.04407799869745014],\"yaxis\":\"y\",\"type\":\"scatter\"},{\"hoverinfo\":\"text\",\"marker\":{\"color\":\"rgb(35,205,205)\"},\"mode\":\"lines\",\"x\":[575.0,575.0,585.0,585.0],\"xaxis\":\"x\",\"y\":[0.0,0.06788955602339669,0.06788955602339669,0.0],\"yaxis\":\"y\",\"type\":\"scatter\"},{\"hoverinfo\":\"text\",\"marker\":{\"color\":\"rgb(35,205,205)\"},\"mode\":\"lines\",\"x\":[552.5,552.5,580.0,580.0],\"xaxis\":\"x\",\"y\":[0.06107681185117954,0.09611600230344022,0.09611600230344022,0.06788955602339669],\"yaxis\":\"y\",\"type\":\"scatter\"},{\"hoverinfo\":\"text\",\"marker\":{\"color\":\"rgb(35,205,205)\"},\"mode\":\"lines\",\"x\":[595.0,595.0,605.0,605.0],\"xaxis\":\"x\",\"y\":[0.0,0.06350275030490027,0.06350275030490027,0.0],\"yaxis\":\"y\",\"type\":\"scatter\"},{\"hoverinfo\":\"text\",\"marker\":{\"color\":\"rgb(35,205,205)\"},\"mode\":\"lines\",\"x\":[635.0,635.0,645.0,645.0],\"xaxis\":\"x\",\"y\":[0.0,0.03288421732473454,0.03288421732473454,0.0],\"yaxis\":\"y\",\"type\":\"scatter\"},{\"hoverinfo\":\"text\",\"marker\":{\"color\":\"rgb(35,205,205)\"},\"mode\":\"lines\",\"x\":[625.0,625.0,640.0,640.0],\"xaxis\":\"x\",\"y\":[0.0,0.039428695462444346,0.039428695462444346,0.03288421732473454],\"yaxis\":\"y\",\"type\":\"scatter\"},{\"hoverinfo\":\"text\",\"marker\":{\"color\":\"rgb(35,205,205)\"},\"mode\":\"lines\",\"x\":[615.0,615.0,632.5,632.5],\"xaxis\":\"x\",\"y\":[0.0,0.05582493935535799,0.05582493935535799,0.039428695462444346],\"yaxis\":\"y\",\"type\":\"scatter\"},{\"hoverinfo\":\"text\",\"marker\":{\"color\":\"rgb(35,205,205)\"},\"mode\":\"lines\",\"x\":[665.0,665.0,675.0,675.0],\"xaxis\":\"x\",\"y\":[0.0,0.048380747717166606,0.048380747717166606,0.0],\"yaxis\":\"y\",\"type\":\"scatter\"},{\"hoverinfo\":\"text\",\"marker\":{\"color\":\"rgb(35,205,205)\"},\"mode\":\"lines\",\"x\":[655.0,655.0,670.0,670.0],\"xaxis\":\"x\",\"y\":[0.0,0.0644519413353425,0.0644519413353425,0.048380747717166606],\"yaxis\":\"y\",\"type\":\"scatter\"},{\"hoverinfo\":\"text\",\"marker\":{\"color\":\"rgb(35,205,205)\"},\"mode\":\"lines\",\"x\":[623.75,623.75,662.5,662.5],\"xaxis\":\"x\",\"y\":[0.05582493935535799,0.08585066933139347,0.08585066933139347,0.0644519413353425],\"yaxis\":\"y\",\"type\":\"scatter\"},{\"hoverinfo\":\"text\",\"marker\":{\"color\":\"rgb(35,205,205)\"},\"mode\":\"lines\",\"x\":[600.0,600.0,643.125,643.125],\"xaxis\":\"x\",\"y\":[0.06350275030490027,0.11750277449527362,0.11750277449527362,0.08585066933139347],\"yaxis\":\"y\",\"type\":\"scatter\"},{\"hoverinfo\":\"text\",\"marker\":{\"color\":\"rgb(35,205,205)\"},\"mode\":\"lines\",\"x\":[566.25,566.25,621.5625,621.5625],\"xaxis\":\"x\",\"y\":[0.09611600230344022,0.1423164291896911,0.1423164291896911,0.11750277449527362],\"yaxis\":\"y\",\"type\":\"scatter\"},{\"hoverinfo\":\"text\",\"marker\":{\"color\":\"rgb(35,205,205)\"},\"mode\":\"lines\",\"x\":[695.0,695.0,705.0,705.0],\"xaxis\":\"x\",\"y\":[0.0,0.05896540861833708,0.05896540861833708,0.0],\"yaxis\":\"y\",\"type\":\"scatter\"},{\"hoverinfo\":\"text\",\"marker\":{\"color\":\"rgb(35,205,205)\"},\"mode\":\"lines\",\"x\":[685.0,685.0,700.0,700.0],\"xaxis\":\"x\",\"y\":[0.0,0.11970302417077774,0.11970302417077774,0.05896540861833708],\"yaxis\":\"y\",\"type\":\"scatter\"},{\"hoverinfo\":\"text\",\"marker\":{\"color\":\"rgb(35,205,205)\"},\"mode\":\"lines\",\"x\":[715.0,715.0,725.0,725.0],\"xaxis\":\"x\",\"y\":[0.0,0.025114788883012027,0.025114788883012027,0.0],\"yaxis\":\"y\",\"type\":\"scatter\"},{\"hoverinfo\":\"text\",\"marker\":{\"color\":\"rgb(35,205,205)\"},\"mode\":\"lines\",\"x\":[735.0,735.0,745.0,745.0],\"xaxis\":\"x\",\"y\":[0.0,0.03136593061222077,0.03136593061222077,0.0],\"yaxis\":\"y\",\"type\":\"scatter\"},{\"hoverinfo\":\"text\",\"marker\":{\"color\":\"rgb(35,205,205)\"},\"mode\":\"lines\",\"x\":[720.0,720.0,740.0,740.0],\"xaxis\":\"x\",\"y\":[0.025114788883012027,0.054925401478761675,0.054925401478761675,0.03136593061222077],\"yaxis\":\"y\",\"type\":\"scatter\"},{\"hoverinfo\":\"text\",\"marker\":{\"color\":\"rgb(35,205,205)\"},\"mode\":\"lines\",\"x\":[765.0,765.0,775.0,775.0],\"xaxis\":\"x\",\"y\":[0.0,0.046105841578734416,0.046105841578734416,0.0],\"yaxis\":\"y\",\"type\":\"scatter\"},{\"hoverinfo\":\"text\",\"marker\":{\"color\":\"rgb(35,205,205)\"},\"mode\":\"lines\",\"x\":[755.0,755.0,770.0,770.0],\"xaxis\":\"x\",\"y\":[0.0,0.06951693995040802,0.06951693995040802,0.046105841578734416],\"yaxis\":\"y\",\"type\":\"scatter\"},{\"hoverinfo\":\"text\",\"marker\":{\"color\":\"rgb(35,205,205)\"},\"mode\":\"lines\",\"x\":[730.0,730.0,762.5,762.5],\"xaxis\":\"x\",\"y\":[0.054925401478761675,0.09002267815812193,0.09002267815812193,0.06951693995040802],\"yaxis\":\"y\",\"type\":\"scatter\"},{\"hoverinfo\":\"text\",\"marker\":{\"color\":\"rgb(35,205,205)\"},\"mode\":\"lines\",\"x\":[785.0,785.0,795.0,795.0],\"xaxis\":\"x\",\"y\":[0.0,0.05089705773165364,0.05089705773165364,0.0],\"yaxis\":\"y\",\"type\":\"scatter\"},{\"hoverinfo\":\"text\",\"marker\":{\"color\":\"rgb(35,205,205)\"},\"mode\":\"lines\",\"x\":[815.0,815.0,825.0,825.0],\"xaxis\":\"x\",\"y\":[0.0,0.05688270799581541,0.05688270799581541,0.0],\"yaxis\":\"y\",\"type\":\"scatter\"},{\"hoverinfo\":\"text\",\"marker\":{\"color\":\"rgb(35,205,205)\"},\"mode\":\"lines\",\"x\":[805.0,805.0,820.0,820.0],\"xaxis\":\"x\",\"y\":[0.0,0.08466663059098051,0.08466663059098051,0.05688270799581541],\"yaxis\":\"y\",\"type\":\"scatter\"},{\"hoverinfo\":\"text\",\"marker\":{\"color\":\"rgb(35,205,205)\"},\"mode\":\"lines\",\"x\":[790.0,790.0,812.5,812.5],\"xaxis\":\"x\",\"y\":[0.05089705773165364,0.0929846246709228,0.0929846246709228,0.08466663059098051],\"yaxis\":\"y\",\"type\":\"scatter\"},{\"hoverinfo\":\"text\",\"marker\":{\"color\":\"rgb(35,205,205)\"},\"mode\":\"lines\",\"x\":[746.25,746.25,801.25,801.25],\"xaxis\":\"x\",\"y\":[0.09002267815812193,0.12501655010912532,0.12501655010912532,0.0929846246709228],\"yaxis\":\"y\",\"type\":\"scatter\"},{\"hoverinfo\":\"text\",\"marker\":{\"color\":\"rgb(35,205,205)\"},\"mode\":\"lines\",\"x\":[692.5,692.5,773.75,773.75],\"xaxis\":\"x\",\"y\":[0.11970302417077774,0.16329097853905603,0.16329097853905603,0.12501655010912532],\"yaxis\":\"y\",\"type\":\"scatter\"},{\"hoverinfo\":\"text\",\"marker\":{\"color\":\"rgb(35,205,205)\"},\"mode\":\"lines\",\"x\":[593.90625,593.90625,733.125,733.125],\"xaxis\":\"x\",\"y\":[0.1423164291896911,0.21181481112261819,0.21181481112261819,0.16329097853905603],\"yaxis\":\"y\",\"type\":\"scatter\"},{\"hoverinfo\":\"text\",\"marker\":{\"color\":\"rgb(35,205,205)\"},\"mode\":\"lines\",\"x\":[476.09375,476.09375,663.515625,663.515625],\"xaxis\":\"x\",\"y\":[0.15873789918544678,0.2393226382049589,0.2393226382049589,0.21181481112261819],\"yaxis\":\"y\",\"type\":\"scatter\"},{\"hoverinfo\":\"text\",\"marker\":{\"color\":\"rgb(35,205,205)\"},\"mode\":\"lines\",\"x\":[432.5,432.5,569.8046875,569.8046875],\"xaxis\":\"x\",\"y\":[0.20204069132681898,0.2954073023456671,0.2954073023456671,0.2393226382049589],\"yaxis\":\"y\",\"type\":\"scatter\"},{\"hoverinfo\":\"text\",\"marker\":{\"color\":\"rgb(35,205,205)\"},\"mode\":\"lines\",\"x\":[349.84375,349.84375,501.15234375,501.15234375],\"xaxis\":\"x\",\"y\":[0.15280023625476455,0.30767037944128073,0.30767037944128073,0.2954073023456671],\"yaxis\":\"y\",\"type\":\"scatter\"},{\"hoverinfo\":\"text\",\"marker\":{\"color\":\"rgb(35,205,205)\"},\"mode\":\"lines\",\"x\":[223.75,223.75,425.498046875,425.498046875],\"xaxis\":\"x\",\"y\":[0.10356424692881659,0.36682261545040745,0.36682261545040745,0.30767037944128073],\"yaxis\":\"y\",\"type\":\"scatter\"},{\"hoverinfo\":\"text\",\"marker\":{\"color\":\"rgb(35,205,205)\"},\"mode\":\"lines\",\"x\":[865.0,865.0,875.0,875.0],\"xaxis\":\"x\",\"y\":[0.0,0.048934932219036595,0.048934932219036595,0.0],\"yaxis\":\"y\",\"type\":\"scatter\"},{\"hoverinfo\":\"text\",\"marker\":{\"color\":\"rgb(35,205,205)\"},\"mode\":\"lines\",\"x\":[855.0,855.0,870.0,870.0],\"xaxis\":\"x\",\"y\":[0.0,0.06732324664260993,0.06732324664260993,0.048934932219036595],\"yaxis\":\"y\",\"type\":\"scatter\"},{\"hoverinfo\":\"text\",\"marker\":{\"color\":\"rgb(35,205,205)\"},\"mode\":\"lines\",\"x\":[845.0,845.0,862.5,862.5],\"xaxis\":\"x\",\"y\":[0.0,0.11216735765118951,0.11216735765118951,0.06732324664260993],\"yaxis\":\"y\",\"type\":\"scatter\"},{\"hoverinfo\":\"text\",\"marker\":{\"color\":\"rgb(35,205,205)\"},\"mode\":\"lines\",\"x\":[885.0,885.0,895.0,895.0],\"xaxis\":\"x\",\"y\":[0.0,0.07274689780567982,0.07274689780567982,0.0],\"yaxis\":\"y\",\"type\":\"scatter\"},{\"hoverinfo\":\"text\",\"marker\":{\"color\":\"rgb(35,205,205)\"},\"mode\":\"lines\",\"x\":[905.0,905.0,915.0,915.0],\"xaxis\":\"x\",\"y\":[0.0,0.056282748042347494,0.056282748042347494,0.0],\"yaxis\":\"y\",\"type\":\"scatter\"},{\"hoverinfo\":\"text\",\"marker\":{\"color\":\"rgb(35,205,205)\"},\"mode\":\"lines\",\"x\":[925.0,925.0,935.0,935.0],\"xaxis\":\"x\",\"y\":[0.0,0.05716260633484025,0.05716260633484025,0.0],\"yaxis\":\"y\",\"type\":\"scatter\"},{\"hoverinfo\":\"text\",\"marker\":{\"color\":\"rgb(35,205,205)\"},\"mode\":\"lines\",\"x\":[910.0,910.0,930.0,930.0],\"xaxis\":\"x\",\"y\":[0.056282748042347494,0.09851488112322868,0.09851488112322868,0.05716260633484025],\"yaxis\":\"y\",\"type\":\"scatter\"},{\"hoverinfo\":\"text\",\"marker\":{\"color\":\"rgb(35,205,205)\"},\"mode\":\"lines\",\"x\":[890.0,890.0,920.0,920.0],\"xaxis\":\"x\",\"y\":[0.07274689780567982,0.14127075543939713,0.14127075543939713,0.09851488112322868],\"yaxis\":\"y\",\"type\":\"scatter\"},{\"hoverinfo\":\"text\",\"marker\":{\"color\":\"rgb(35,205,205)\"},\"mode\":\"lines\",\"x\":[853.75,853.75,905.0,905.0],\"xaxis\":\"x\",\"y\":[0.11216735765118951,0.1782090695584878,0.1782090695584878,0.14127075543939713],\"yaxis\":\"y\",\"type\":\"scatter\"},{\"hoverinfo\":\"text\",\"marker\":{\"color\":\"rgb(35,205,205)\"},\"mode\":\"lines\",\"x\":[945.0,945.0,955.0,955.0],\"xaxis\":\"x\",\"y\":[0.0,0.06332248828007825,0.06332248828007825,0.0],\"yaxis\":\"y\",\"type\":\"scatter\"},{\"hoverinfo\":\"text\",\"marker\":{\"color\":\"rgb(35,205,205)\"},\"mode\":\"lines\",\"x\":[975.0,975.0,985.0,985.0],\"xaxis\":\"x\",\"y\":[0.0,0.08228693496191072,0.08228693496191072,0.0],\"yaxis\":\"y\",\"type\":\"scatter\"},{\"hoverinfo\":\"text\",\"marker\":{\"color\":\"rgb(35,205,205)\"},\"mode\":\"lines\",\"x\":[965.0,965.0,980.0,980.0],\"xaxis\":\"x\",\"y\":[0.0,0.1121758925971125,0.1121758925971125,0.08228693496191072],\"yaxis\":\"y\",\"type\":\"scatter\"},{\"hoverinfo\":\"text\",\"marker\":{\"color\":\"rgb(35,205,205)\"},\"mode\":\"lines\",\"x\":[950.0,950.0,972.5,972.5],\"xaxis\":\"x\",\"y\":[0.06332248828007825,0.1840078405529206,0.1840078405529206,0.1121758925971125],\"yaxis\":\"y\",\"type\":\"scatter\"},{\"hoverinfo\":\"text\",\"marker\":{\"color\":\"rgb(35,205,205)\"},\"mode\":\"lines\",\"x\":[879.375,879.375,961.25,961.25],\"xaxis\":\"x\",\"y\":[0.1782090695584878,0.26150544675951937,0.26150544675951937,0.1840078405529206],\"yaxis\":\"y\",\"type\":\"scatter\"},{\"hoverinfo\":\"text\",\"marker\":{\"color\":\"rgb(35,205,205)\"},\"mode\":\"lines\",\"x\":[835.0,835.0,920.3125,920.3125],\"xaxis\":\"x\",\"y\":[0.0,0.3866755465326482,0.3866755465326482,0.26150544675951937],\"yaxis\":\"y\",\"type\":\"scatter\"},{\"hoverinfo\":\"text\",\"marker\":{\"color\":\"rgb(35,205,205)\"},\"mode\":\"lines\",\"x\":[324.6240234375,324.6240234375,877.65625,877.65625],\"xaxis\":\"x\",\"y\":[0.36682261545040745,0.5522461454992915,0.5522461454992915,0.3866755465326482],\"yaxis\":\"y\",\"type\":\"scatter\"},{\"hoverinfo\":\"text\",\"marker\":{\"color\":\"rgb(133,20,75)\"},\"mode\":\"lines\",\"x\":[1005.0,1005.0,1015.0,1015.0],\"xaxis\":\"x\",\"y\":[0.0,0.035561774681298494,0.035561774681298494,0.0],\"yaxis\":\"y\",\"type\":\"scatter\"},{\"hoverinfo\":\"text\",\"marker\":{\"color\":\"rgb(133,20,75)\"},\"mode\":\"lines\",\"x\":[995.0,995.0,1010.0,1010.0],\"xaxis\":\"x\",\"y\":[0.0,0.08492893056924908,0.08492893056924908,0.035561774681298494],\"yaxis\":\"y\",\"type\":\"scatter\"},{\"hoverinfo\":\"text\",\"marker\":{\"color\":\"rgb(133,20,75)\"},\"mode\":\"lines\",\"x\":[1025.0,1025.0,1035.0,1035.0],\"xaxis\":\"x\",\"y\":[0.0,0.04646414504457551,0.04646414504457551,0.0],\"yaxis\":\"y\",\"type\":\"scatter\"},{\"hoverinfo\":\"text\",\"marker\":{\"color\":\"rgb(133,20,75)\"},\"mode\":\"lines\",\"x\":[1045.0,1045.0,1055.0,1055.0],\"xaxis\":\"x\",\"y\":[0.0,0.0694702482699189,0.0694702482699189,0.0],\"yaxis\":\"y\",\"type\":\"scatter\"},{\"hoverinfo\":\"text\",\"marker\":{\"color\":\"rgb(133,20,75)\"},\"mode\":\"lines\",\"x\":[1030.0,1030.0,1050.0,1050.0],\"xaxis\":\"x\",\"y\":[0.04646414504457551,0.10091808498412468,0.10091808498412468,0.0694702482699189],\"yaxis\":\"y\",\"type\":\"scatter\"},{\"hoverinfo\":\"text\",\"marker\":{\"color\":\"rgb(133,20,75)\"},\"mode\":\"lines\",\"x\":[1002.5,1002.5,1040.0,1040.0],\"xaxis\":\"x\",\"y\":[0.08492893056924908,0.1528743597119366,0.1528743597119366,0.10091808498412468],\"yaxis\":\"y\",\"type\":\"scatter\"},{\"hoverinfo\":\"text\",\"marker\":{\"color\":\"rgb(133,20,75)\"},\"mode\":\"lines\",\"x\":[1075.0,1075.0,1085.0,1085.0],\"xaxis\":\"x\",\"y\":[0.0,0.08899607809800028,0.08899607809800028,0.0],\"yaxis\":\"y\",\"type\":\"scatter\"},{\"hoverinfo\":\"text\",\"marker\":{\"color\":\"rgb(133,20,75)\"},\"mode\":\"lines\",\"x\":[1065.0,1065.0,1080.0,1080.0],\"xaxis\":\"x\",\"y\":[0.0,0.11064634086742635,0.11064634086742635,0.08899607809800028],\"yaxis\":\"y\",\"type\":\"scatter\"},{\"hoverinfo\":\"text\",\"marker\":{\"color\":\"rgb(133,20,75)\"},\"mode\":\"lines\",\"x\":[1105.0,1105.0,1115.0,1115.0],\"xaxis\":\"x\",\"y\":[0.0,0.06312129244899176,0.06312129244899176,0.0],\"yaxis\":\"y\",\"type\":\"scatter\"},{\"hoverinfo\":\"text\",\"marker\":{\"color\":\"rgb(133,20,75)\"},\"mode\":\"lines\",\"x\":[1095.0,1095.0,1110.0,1110.0],\"xaxis\":\"x\",\"y\":[0.0,0.08539391557221186,0.08539391557221186,0.06312129244899176],\"yaxis\":\"y\",\"type\":\"scatter\"},{\"hoverinfo\":\"text\",\"marker\":{\"color\":\"rgb(133,20,75)\"},\"mode\":\"lines\",\"x\":[1125.0,1125.0,1135.0,1135.0],\"xaxis\":\"x\",\"y\":[0.0,0.03697598090930918,0.03697598090930918,0.0],\"yaxis\":\"y\",\"type\":\"scatter\"},{\"hoverinfo\":\"text\",\"marker\":{\"color\":\"rgb(133,20,75)\"},\"mode\":\"lines\",\"x\":[1145.0,1145.0,1155.0,1155.0],\"xaxis\":\"x\",\"y\":[0.0,0.019386797269748242,0.019386797269748242,0.0],\"yaxis\":\"y\",\"type\":\"scatter\"},{\"hoverinfo\":\"text\",\"marker\":{\"color\":\"rgb(133,20,75)\"},\"mode\":\"lines\",\"x\":[1165.0,1165.0,1175.0,1175.0],\"xaxis\":\"x\",\"y\":[0.0,0.032287280660020394,0.032287280660020394,0.0],\"yaxis\":\"y\",\"type\":\"scatter\"},{\"hoverinfo\":\"text\",\"marker\":{\"color\":\"rgb(133,20,75)\"},\"mode\":\"lines\",\"x\":[1150.0,1150.0,1170.0,1170.0],\"xaxis\":\"x\",\"y\":[0.019386797269748242,0.044152821604617386,0.044152821604617386,0.032287280660020394],\"yaxis\":\"y\",\"type\":\"scatter\"},{\"hoverinfo\":\"text\",\"marker\":{\"color\":\"rgb(133,20,75)\"},\"mode\":\"lines\",\"x\":[1130.0,1130.0,1160.0,1160.0],\"xaxis\":\"x\",\"y\":[0.03697598090930918,0.06433724323905744,0.06433724323905744,0.044152821604617386],\"yaxis\":\"y\",\"type\":\"scatter\"},{\"hoverinfo\":\"text\",\"marker\":{\"color\":\"rgb(133,20,75)\"},\"mode\":\"lines\",\"x\":[1195.0,1195.0,1205.0,1205.0],\"xaxis\":\"x\",\"y\":[0.0,0.05315422880001925,0.05315422880001925,0.0],\"yaxis\":\"y\",\"type\":\"scatter\"},{\"hoverinfo\":\"text\",\"marker\":{\"color\":\"rgb(133,20,75)\"},\"mode\":\"lines\",\"x\":[1185.0,1185.0,1200.0,1200.0],\"xaxis\":\"x\",\"y\":[0.0,0.07713238226544379,0.07713238226544379,0.05315422880001925],\"yaxis\":\"y\",\"type\":\"scatter\"},{\"hoverinfo\":\"text\",\"marker\":{\"color\":\"rgb(133,20,75)\"},\"mode\":\"lines\",\"x\":[1145.0,1145.0,1192.5,1192.5],\"xaxis\":\"x\",\"y\":[0.06433724323905744,0.09388192924121212,0.09388192924121212,0.07713238226544379],\"yaxis\":\"y\",\"type\":\"scatter\"},{\"hoverinfo\":\"text\",\"marker\":{\"color\":\"rgb(133,20,75)\"},\"mode\":\"lines\",\"x\":[1102.5,1102.5,1168.75,1168.75],\"xaxis\":\"x\",\"y\":[0.08539391557221186,0.13386847262072774,0.13386847262072774,0.09388192924121212],\"yaxis\":\"y\",\"type\":\"scatter\"},{\"hoverinfo\":\"text\",\"marker\":{\"color\":\"rgb(133,20,75)\"},\"mode\":\"lines\",\"x\":[1072.5,1072.5,1135.625,1135.625],\"xaxis\":\"x\",\"y\":[0.11064634086742635,0.18819679641517992,0.18819679641517992,0.13386847262072774],\"yaxis\":\"y\",\"type\":\"scatter\"},{\"hoverinfo\":\"text\",\"marker\":{\"color\":\"rgb(133,20,75)\"},\"mode\":\"lines\",\"x\":[1021.25,1021.25,1104.0625,1104.0625],\"xaxis\":\"x\",\"y\":[0.1528743597119366,0.22554993524745973,0.22554993524745973,0.18819679641517992],\"yaxis\":\"y\",\"type\":\"scatter\"},{\"hoverinfo\":\"text\",\"marker\":{\"color\":\"rgb(133,20,75)\"},\"mode\":\"lines\",\"x\":[1225.0,1225.0,1235.0,1235.0],\"xaxis\":\"x\",\"y\":[0.0,0.04483490796105635,0.04483490796105635,0.0],\"yaxis\":\"y\",\"type\":\"scatter\"},{\"hoverinfo\":\"text\",\"marker\":{\"color\":\"rgb(133,20,75)\"},\"mode\":\"lines\",\"x\":[1215.0,1215.0,1230.0,1230.0],\"xaxis\":\"x\",\"y\":[0.0,0.05225732741626854,0.05225732741626854,0.04483490796105635],\"yaxis\":\"y\",\"type\":\"scatter\"},{\"hoverinfo\":\"text\",\"marker\":{\"color\":\"rgb(133,20,75)\"},\"mode\":\"lines\",\"x\":[1255.0,1255.0,1265.0,1265.0],\"xaxis\":\"x\",\"y\":[0.0,0.039553854784885836,0.039553854784885836,0.0],\"yaxis\":\"y\",\"type\":\"scatter\"},{\"hoverinfo\":\"text\",\"marker\":{\"color\":\"rgb(133,20,75)\"},\"mode\":\"lines\",\"x\":[1245.0,1245.0,1260.0,1260.0],\"xaxis\":\"x\",\"y\":[0.0,0.056342004343044386,0.056342004343044386,0.039553854784885836],\"yaxis\":\"y\",\"type\":\"scatter\"},{\"hoverinfo\":\"text\",\"marker\":{\"color\":\"rgb(133,20,75)\"},\"mode\":\"lines\",\"x\":[1222.5,1222.5,1252.5,1252.5],\"xaxis\":\"x\",\"y\":[0.05225732741626854,0.10166115697043446,0.10166115697043446,0.056342004343044386],\"yaxis\":\"y\",\"type\":\"scatter\"},{\"hoverinfo\":\"text\",\"marker\":{\"color\":\"rgb(133,20,75)\"},\"mode\":\"lines\",\"x\":[1305.0,1305.0,1315.0,1315.0],\"xaxis\":\"x\",\"y\":[0.0,0.016019808330267418,0.016019808330267418,0.0],\"yaxis\":\"y\",\"type\":\"scatter\"},{\"hoverinfo\":\"text\",\"marker\":{\"color\":\"rgb(133,20,75)\"},\"mode\":\"lines\",\"x\":[1295.0,1295.0,1310.0,1310.0],\"xaxis\":\"x\",\"y\":[0.0,0.02773678424274321,0.02773678424274321,0.016019808330267418],\"yaxis\":\"y\",\"type\":\"scatter\"},{\"hoverinfo\":\"text\",\"marker\":{\"color\":\"rgb(133,20,75)\"},\"mode\":\"lines\",\"x\":[1285.0,1285.0,1302.5,1302.5],\"xaxis\":\"x\",\"y\":[0.0,0.05355993726486076,0.05355993726486076,0.02773678424274321],\"yaxis\":\"y\",\"type\":\"scatter\"},{\"hoverinfo\":\"text\",\"marker\":{\"color\":\"rgb(133,20,75)\"},\"mode\":\"lines\",\"x\":[1275.0,1275.0,1293.75,1293.75],\"xaxis\":\"x\",\"y\":[0.0,0.07059422055787996,0.07059422055787996,0.05355993726486076],\"yaxis\":\"y\",\"type\":\"scatter\"},{\"hoverinfo\":\"text\",\"marker\":{\"color\":\"rgb(133,20,75)\"},\"mode\":\"lines\",\"x\":[1335.0,1335.0,1345.0,1345.0],\"xaxis\":\"x\",\"y\":[0.0,0.02606364994463133,0.02606364994463133,0.0],\"yaxis\":\"y\",\"type\":\"scatter\"},{\"hoverinfo\":\"text\",\"marker\":{\"color\":\"rgb(133,20,75)\"},\"mode\":\"lines\",\"x\":[1325.0,1325.0,1340.0,1340.0],\"xaxis\":\"x\",\"y\":[0.0,0.0464282317381073,0.0464282317381073,0.02606364994463133],\"yaxis\":\"y\",\"type\":\"scatter\"},{\"hoverinfo\":\"text\",\"marker\":{\"color\":\"rgb(133,20,75)\"},\"mode\":\"lines\",\"x\":[1365.0,1365.0,1375.0,1375.0],\"xaxis\":\"x\",\"y\":[0.0,0.02366931548849709,0.02366931548849709,0.0],\"yaxis\":\"y\",\"type\":\"scatter\"},{\"hoverinfo\":\"text\",\"marker\":{\"color\":\"rgb(133,20,75)\"},\"mode\":\"lines\",\"x\":[1395.0,1395.0,1405.0,1405.0],\"xaxis\":\"x\",\"y\":[0.0,0.011002884839449686,0.011002884839449686,0.0],\"yaxis\":\"y\",\"type\":\"scatter\"},{\"hoverinfo\":\"text\",\"marker\":{\"color\":\"rgb(133,20,75)\"},\"mode\":\"lines\",\"x\":[1385.0,1385.0,1400.0,1400.0],\"xaxis\":\"x\",\"y\":[0.0,0.03544360975836191,0.03544360975836191,0.011002884839449686],\"yaxis\":\"y\",\"type\":\"scatter\"},{\"hoverinfo\":\"text\",\"marker\":{\"color\":\"rgb(133,20,75)\"},\"mode\":\"lines\",\"x\":[1370.0,1370.0,1392.5,1392.5],\"xaxis\":\"x\",\"y\":[0.02366931548849709,0.049173694908593205,0.049173694908593205,0.03544360975836191],\"yaxis\":\"y\",\"type\":\"scatter\"},{\"hoverinfo\":\"text\",\"marker\":{\"color\":\"rgb(133,20,75)\"},\"mode\":\"lines\",\"x\":[1355.0,1355.0,1381.25,1381.25],\"xaxis\":\"x\",\"y\":[0.0,0.051826984635283464,0.051826984635283464,0.049173694908593205],\"yaxis\":\"y\",\"type\":\"scatter\"},{\"hoverinfo\":\"text\",\"marker\":{\"color\":\"rgb(133,20,75)\"},\"mode\":\"lines\",\"x\":[1332.5,1332.5,1368.125,1368.125],\"xaxis\":\"x\",\"y\":[0.0464282317381073,0.07593584352552502,0.07593584352552502,0.051826984635283464],\"yaxis\":\"y\",\"type\":\"scatter\"},{\"hoverinfo\":\"text\",\"marker\":{\"color\":\"rgb(133,20,75)\"},\"mode\":\"lines\",\"x\":[1284.375,1284.375,1350.3125,1350.3125],\"xaxis\":\"x\",\"y\":[0.07059422055787996,0.10807703732372351,0.10807703732372351,0.07593584352552502],\"yaxis\":\"y\",\"type\":\"scatter\"},{\"hoverinfo\":\"text\",\"marker\":{\"color\":\"rgb(133,20,75)\"},\"mode\":\"lines\",\"x\":[1415.0,1415.0,1425.0,1425.0],\"xaxis\":\"x\",\"y\":[0.0,0.04350763186554314,0.04350763186554314,0.0],\"yaxis\":\"y\",\"type\":\"scatter\"},{\"hoverinfo\":\"text\",\"marker\":{\"color\":\"rgb(133,20,75)\"},\"mode\":\"lines\",\"x\":[1445.0,1445.0,1455.0,1455.0],\"xaxis\":\"x\",\"y\":[0.0,0.0400413354434172,0.0400413354434172,0.0],\"yaxis\":\"y\",\"type\":\"scatter\"},{\"hoverinfo\":\"text\",\"marker\":{\"color\":\"rgb(133,20,75)\"},\"mode\":\"lines\",\"x\":[1435.0,1435.0,1450.0,1450.0],\"xaxis\":\"x\",\"y\":[0.0,0.06701641508506949,0.06701641508506949,0.0400413354434172],\"yaxis\":\"y\",\"type\":\"scatter\"},{\"hoverinfo\":\"text\",\"marker\":{\"color\":\"rgb(133,20,75)\"},\"mode\":\"lines\",\"x\":[1420.0,1420.0,1442.5,1442.5],\"xaxis\":\"x\",\"y\":[0.04350763186554314,0.08865528816617971,0.08865528816617971,0.06701641508506949],\"yaxis\":\"y\",\"type\":\"scatter\"},{\"hoverinfo\":\"text\",\"marker\":{\"color\":\"rgb(133,20,75)\"},\"mode\":\"lines\",\"x\":[1475.0,1475.0,1485.0,1485.0],\"xaxis\":\"x\",\"y\":[0.0,0.039856543300074904,0.039856543300074904,0.0],\"yaxis\":\"y\",\"type\":\"scatter\"},{\"hoverinfo\":\"text\",\"marker\":{\"color\":\"rgb(133,20,75)\"},\"mode\":\"lines\",\"x\":[1465.0,1465.0,1480.0,1480.0],\"xaxis\":\"x\",\"y\":[0.0,0.06698097625569065,0.06698097625569065,0.039856543300074904],\"yaxis\":\"y\",\"type\":\"scatter\"},{\"hoverinfo\":\"text\",\"marker\":{\"color\":\"rgb(133,20,75)\"},\"mode\":\"lines\",\"x\":[1495.0,1495.0,1505.0,1505.0],\"xaxis\":\"x\",\"y\":[0.0,0.03398486060375777,0.03398486060375777,0.0],\"yaxis\":\"y\",\"type\":\"scatter\"},{\"hoverinfo\":\"text\",\"marker\":{\"color\":\"rgb(133,20,75)\"},\"mode\":\"lines\",\"x\":[1515.0,1515.0,1525.0,1525.0],\"xaxis\":\"x\",\"y\":[0.0,0.04880281673904757,0.04880281673904757,0.0],\"yaxis\":\"y\",\"type\":\"scatter\"},{\"hoverinfo\":\"text\",\"marker\":{\"color\":\"rgb(133,20,75)\"},\"mode\":\"lines\",\"x\":[1500.0,1500.0,1520.0,1520.0],\"xaxis\":\"x\",\"y\":[0.03398486060375777,0.07797216859707955,0.07797216859707955,0.04880281673904757],\"yaxis\":\"y\",\"type\":\"scatter\"},{\"hoverinfo\":\"text\",\"marker\":{\"color\":\"rgb(133,20,75)\"},\"mode\":\"lines\",\"x\":[1472.5,1472.5,1510.0,1510.0],\"xaxis\":\"x\",\"y\":[0.06698097625569065,0.11629523483960517,0.11629523483960517,0.07797216859707955],\"yaxis\":\"y\",\"type\":\"scatter\"},{\"hoverinfo\":\"text\",\"marker\":{\"color\":\"rgb(133,20,75)\"},\"mode\":\"lines\",\"x\":[1431.25,1431.25,1491.25,1491.25],\"xaxis\":\"x\",\"y\":[0.08865528816617971,0.1426903379223022,0.1426903379223022,0.11629523483960517],\"yaxis\":\"y\",\"type\":\"scatter\"},{\"hoverinfo\":\"text\",\"marker\":{\"color\":\"rgb(133,20,75)\"},\"mode\":\"lines\",\"x\":[1317.34375,1317.34375,1461.25,1461.25],\"xaxis\":\"x\",\"y\":[0.10807703732372351,0.16272359007412024,0.16272359007412024,0.1426903379223022],\"yaxis\":\"y\",\"type\":\"scatter\"},{\"hoverinfo\":\"text\",\"marker\":{\"color\":\"rgb(133,20,75)\"},\"mode\":\"lines\",\"x\":[1237.5,1237.5,1389.296875,1389.296875],\"xaxis\":\"x\",\"y\":[0.10166115697043446,0.1671262008626486,0.1671262008626486,0.16272359007412024],\"yaxis\":\"y\",\"type\":\"scatter\"},{\"hoverinfo\":\"text\",\"marker\":{\"color\":\"rgb(133,20,75)\"},\"mode\":\"lines\",\"x\":[1535.0,1535.0,1545.0,1545.0],\"xaxis\":\"x\",\"y\":[0.0,0.03544022506663203,0.03544022506663203,0.0],\"yaxis\":\"y\",\"type\":\"scatter\"},{\"hoverinfo\":\"text\",\"marker\":{\"color\":\"rgb(133,20,75)\"},\"mode\":\"lines\",\"x\":[1555.0,1555.0,1565.0,1565.0],\"xaxis\":\"x\",\"y\":[0.0,0.02404809749070122,0.02404809749070122,0.0],\"yaxis\":\"y\",\"type\":\"scatter\"},{\"hoverinfo\":\"text\",\"marker\":{\"color\":\"rgb(133,20,75)\"},\"mode\":\"lines\",\"x\":[1585.0,1585.0,1595.0,1595.0],\"xaxis\":\"x\",\"y\":[0.0,0.027012969765773425,0.027012969765773425,0.0],\"yaxis\":\"y\",\"type\":\"scatter\"},{\"hoverinfo\":\"text\",\"marker\":{\"color\":\"rgb(133,20,75)\"},\"mode\":\"lines\",\"x\":[1575.0,1575.0,1590.0,1590.0],\"xaxis\":\"x\",\"y\":[0.0,0.03008131896920426,0.03008131896920426,0.027012969765773425],\"yaxis\":\"y\",\"type\":\"scatter\"},{\"hoverinfo\":\"text\",\"marker\":{\"color\":\"rgb(133,20,75)\"},\"mode\":\"lines\",\"x\":[1560.0,1560.0,1582.5,1582.5],\"xaxis\":\"x\",\"y\":[0.02404809749070122,0.04643645161504038,0.04643645161504038,0.03008131896920426],\"yaxis\":\"y\",\"type\":\"scatter\"},{\"hoverinfo\":\"text\",\"marker\":{\"color\":\"rgb(133,20,75)\"},\"mode\":\"lines\",\"x\":[1540.0,1540.0,1571.25,1571.25],\"xaxis\":\"x\",\"y\":[0.03544022506663203,0.058542675309092476,0.058542675309092476,0.04643645161504038],\"yaxis\":\"y\",\"type\":\"scatter\"},{\"hoverinfo\":\"text\",\"marker\":{\"color\":\"rgb(133,20,75)\"},\"mode\":\"lines\",\"x\":[1605.0,1605.0,1615.0,1615.0],\"xaxis\":\"x\",\"y\":[0.0,0.03218324055311528,0.03218324055311528,0.0],\"yaxis\":\"y\",\"type\":\"scatter\"},{\"hoverinfo\":\"text\",\"marker\":{\"color\":\"rgb(133,20,75)\"},\"mode\":\"lines\",\"x\":[1625.0,1625.0,1635.0,1635.0],\"xaxis\":\"x\",\"y\":[0.0,0.03364097370799692,0.03364097370799692,0.0],\"yaxis\":\"y\",\"type\":\"scatter\"},{\"hoverinfo\":\"text\",\"marker\":{\"color\":\"rgb(133,20,75)\"},\"mode\":\"lines\",\"x\":[1610.0,1610.0,1630.0,1630.0],\"xaxis\":\"x\",\"y\":[0.03218324055311528,0.05145923943917383,0.05145923943917383,0.03364097370799692],\"yaxis\":\"y\",\"type\":\"scatter\"},{\"hoverinfo\":\"text\",\"marker\":{\"color\":\"rgb(133,20,75)\"},\"mode\":\"lines\",\"x\":[1665.0,1665.0,1675.0,1675.0],\"xaxis\":\"x\",\"y\":[0.0,0.01729633981624932,0.01729633981624932,0.0],\"yaxis\":\"y\",\"type\":\"scatter\"},{\"hoverinfo\":\"text\",\"marker\":{\"color\":\"rgb(133,20,75)\"},\"mode\":\"lines\",\"x\":[1655.0,1655.0,1670.0,1670.0],\"xaxis\":\"x\",\"y\":[0.0,0.045667552088816434,0.045667552088816434,0.01729633981624932],\"yaxis\":\"y\",\"type\":\"scatter\"},{\"hoverinfo\":\"text\",\"marker\":{\"color\":\"rgb(133,20,75)\"},\"mode\":\"lines\",\"x\":[1645.0,1645.0,1662.5,1662.5],\"xaxis\":\"x\",\"y\":[0.0,0.06251994814461011,0.06251994814461011,0.045667552088816434],\"yaxis\":\"y\",\"type\":\"scatter\"},{\"hoverinfo\":\"text\",\"marker\":{\"color\":\"rgb(133,20,75)\"},\"mode\":\"lines\",\"x\":[1620.0,1620.0,1653.75,1653.75],\"xaxis\":\"x\",\"y\":[0.05145923943917383,0.08294105311510298,0.08294105311510298,0.06251994814461011],\"yaxis\":\"y\",\"type\":\"scatter\"},{\"hoverinfo\":\"text\",\"marker\":{\"color\":\"rgb(133,20,75)\"},\"mode\":\"lines\",\"x\":[1555.625,1555.625,1636.875,1636.875],\"xaxis\":\"x\",\"y\":[0.058542675309092476,0.10966662067097678,0.10966662067097678,0.08294105311510298],\"yaxis\":\"y\",\"type\":\"scatter\"},{\"hoverinfo\":\"text\",\"marker\":{\"color\":\"rgb(133,20,75)\"},\"mode\":\"lines\",\"x\":[1685.0,1685.0,1695.0,1695.0],\"xaxis\":\"x\",\"y\":[0.0,0.027672181728474392,0.027672181728474392,0.0],\"yaxis\":\"y\",\"type\":\"scatter\"},{\"hoverinfo\":\"text\",\"marker\":{\"color\":\"rgb(133,20,75)\"},\"mode\":\"lines\",\"x\":[1715.0,1715.0,1725.0,1725.0],\"xaxis\":\"x\",\"y\":[0.0,0.008640277216794546,0.008640277216794546,0.0],\"yaxis\":\"y\",\"type\":\"scatter\"},{\"hoverinfo\":\"text\",\"marker\":{\"color\":\"rgb(133,20,75)\"},\"mode\":\"lines\",\"x\":[1705.0,1705.0,1720.0,1720.0],\"xaxis\":\"x\",\"y\":[0.0,0.020745395857556272,0.020745395857556272,0.008640277216794546],\"yaxis\":\"y\",\"type\":\"scatter\"},{\"hoverinfo\":\"text\",\"marker\":{\"color\":\"rgb(133,20,75)\"},\"mode\":\"lines\",\"x\":[1735.0,1735.0,1745.0,1745.0],\"xaxis\":\"x\",\"y\":[0.0,0.03202988298867384,0.03202988298867384,0.0],\"yaxis\":\"y\",\"type\":\"scatter\"},{\"hoverinfo\":\"text\",\"marker\":{\"color\":\"rgb(133,20,75)\"},\"mode\":\"lines\",\"x\":[1712.5,1712.5,1740.0,1740.0],\"xaxis\":\"x\",\"y\":[0.020745395857556272,0.0406612976907508,0.0406612976907508,0.03202988298867384],\"yaxis\":\"y\",\"type\":\"scatter\"},{\"hoverinfo\":\"text\",\"marker\":{\"color\":\"rgb(133,20,75)\"},\"mode\":\"lines\",\"x\":[1690.0,1690.0,1726.25,1726.25],\"xaxis\":\"x\",\"y\":[0.027672181728474392,0.0596402238411477,0.0596402238411477,0.0406612976907508],\"yaxis\":\"y\",\"type\":\"scatter\"},{\"hoverinfo\":\"text\",\"marker\":{\"color\":\"rgb(133,20,75)\"},\"mode\":\"lines\",\"x\":[1755.0,1755.0,1765.0,1765.0],\"xaxis\":\"x\",\"y\":[0.0,0.0214827112229618,0.0214827112229618,0.0],\"yaxis\":\"y\",\"type\":\"scatter\"},{\"hoverinfo\":\"text\",\"marker\":{\"color\":\"rgb(133,20,75)\"},\"mode\":\"lines\",\"x\":[1785.0,1785.0,1795.0,1795.0],\"xaxis\":\"x\",\"y\":[0.0,0.02954343270770655,0.02954343270770655,0.0],\"yaxis\":\"y\",\"type\":\"scatter\"},{\"hoverinfo\":\"text\",\"marker\":{\"color\":\"rgb(133,20,75)\"},\"mode\":\"lines\",\"x\":[1775.0,1775.0,1790.0,1790.0],\"xaxis\":\"x\",\"y\":[0.0,0.04906289082783585,0.04906289082783585,0.02954343270770655],\"yaxis\":\"y\",\"type\":\"scatter\"},{\"hoverinfo\":\"text\",\"marker\":{\"color\":\"rgb(133,20,75)\"},\"mode\":\"lines\",\"x\":[1760.0,1760.0,1782.5,1782.5],\"xaxis\":\"x\",\"y\":[0.0214827112229618,0.05017547878915383,0.05017547878915383,0.04906289082783585],\"yaxis\":\"y\",\"type\":\"scatter\"},{\"hoverinfo\":\"text\",\"marker\":{\"color\":\"rgb(133,20,75)\"},\"mode\":\"lines\",\"x\":[1805.0,1805.0,1815.0,1815.0],\"xaxis\":\"x\",\"y\":[0.0,0.0538995077818376,0.0538995077818376,0.0],\"yaxis\":\"y\",\"type\":\"scatter\"},{\"hoverinfo\":\"text\",\"marker\":{\"color\":\"rgb(133,20,75)\"},\"mode\":\"lines\",\"x\":[1771.25,1771.25,1810.0,1810.0],\"xaxis\":\"x\",\"y\":[0.05017547878915383,0.08074074645444357,0.08074074645444357,0.0538995077818376],\"yaxis\":\"y\",\"type\":\"scatter\"},{\"hoverinfo\":\"text\",\"marker\":{\"color\":\"rgb(133,20,75)\"},\"mode\":\"lines\",\"x\":[1708.125,1708.125,1790.625,1790.625],\"xaxis\":\"x\",\"y\":[0.0596402238411477,0.09157922016678284,0.09157922016678284,0.08074074645444357],\"yaxis\":\"y\",\"type\":\"scatter\"},{\"hoverinfo\":\"text\",\"marker\":{\"color\":\"rgb(133,20,75)\"},\"mode\":\"lines\",\"x\":[1825.0,1825.0,1835.0,1835.0],\"xaxis\":\"x\",\"y\":[0.0,0.035753513735530325,0.035753513735530325,0.0],\"yaxis\":\"y\",\"type\":\"scatter\"},{\"hoverinfo\":\"text\",\"marker\":{\"color\":\"rgb(133,20,75)\"},\"mode\":\"lines\",\"x\":[1845.0,1845.0,1855.0,1855.0],\"xaxis\":\"x\",\"y\":[0.0,0.029027319901967004,0.029027319901967004,0.0],\"yaxis\":\"y\",\"type\":\"scatter\"},{\"hoverinfo\":\"text\",\"marker\":{\"color\":\"rgb(133,20,75)\"},\"mode\":\"lines\",\"x\":[1865.0,1865.0,1875.0,1875.0],\"xaxis\":\"x\",\"y\":[0.0,0.04202657174719163,0.04202657174719163,0.0],\"yaxis\":\"y\",\"type\":\"scatter\"},{\"hoverinfo\":\"text\",\"marker\":{\"color\":\"rgb(133,20,75)\"},\"mode\":\"lines\",\"x\":[1850.0,1850.0,1870.0,1870.0],\"xaxis\":\"x\",\"y\":[0.029027319901967004,0.0545578116339114,0.0545578116339114,0.04202657174719163],\"yaxis\":\"y\",\"type\":\"scatter\"},{\"hoverinfo\":\"text\",\"marker\":{\"color\":\"rgb(133,20,75)\"},\"mode\":\"lines\",\"x\":[1830.0,1830.0,1860.0,1860.0],\"xaxis\":\"x\",\"y\":[0.035753513735530325,0.06862614983182326,0.06862614983182326,0.0545578116339114],\"yaxis\":\"y\",\"type\":\"scatter\"},{\"hoverinfo\":\"text\",\"marker\":{\"color\":\"rgb(133,20,75)\"},\"mode\":\"lines\",\"x\":[1885.0,1885.0,1895.0,1895.0],\"xaxis\":\"x\",\"y\":[0.0,0.03517487299036683,0.03517487299036683,0.0],\"yaxis\":\"y\",\"type\":\"scatter\"},{\"hoverinfo\":\"text\",\"marker\":{\"color\":\"rgb(133,20,75)\"},\"mode\":\"lines\",\"x\":[1915.0,1915.0,1925.0,1925.0],\"xaxis\":\"x\",\"y\":[0.0,0.02116402612584456,0.02116402612584456,0.0],\"yaxis\":\"y\",\"type\":\"scatter\"},{\"hoverinfo\":\"text\",\"marker\":{\"color\":\"rgb(133,20,75)\"},\"mode\":\"lines\",\"x\":[1905.0,1905.0,1920.0,1920.0],\"xaxis\":\"x\",\"y\":[0.0,0.042492724527310996,0.042492724527310996,0.02116402612584456],\"yaxis\":\"y\",\"type\":\"scatter\"},{\"hoverinfo\":\"text\",\"marker\":{\"color\":\"rgb(133,20,75)\"},\"mode\":\"lines\",\"x\":[1890.0,1890.0,1912.5,1912.5],\"xaxis\":\"x\",\"y\":[0.03517487299036683,0.04742115770763812,0.04742115770763812,0.042492724527310996],\"yaxis\":\"y\",\"type\":\"scatter\"},{\"hoverinfo\":\"text\",\"marker\":{\"color\":\"rgb(133,20,75)\"},\"mode\":\"lines\",\"x\":[1945.0,1945.0,1955.0,1955.0],\"xaxis\":\"x\",\"y\":[0.0,0.034725990396826036,0.034725990396826036,0.0],\"yaxis\":\"y\",\"type\":\"scatter\"},{\"hoverinfo\":\"text\",\"marker\":{\"color\":\"rgb(133,20,75)\"},\"mode\":\"lines\",\"x\":[1935.0,1935.0,1950.0,1950.0],\"xaxis\":\"x\",\"y\":[0.0,0.06295758411815464,0.06295758411815464,0.034725990396826036],\"yaxis\":\"y\",\"type\":\"scatter\"},{\"hoverinfo\":\"text\",\"marker\":{\"color\":\"rgb(133,20,75)\"},\"mode\":\"lines\",\"x\":[1901.25,1901.25,1942.5,1942.5],\"xaxis\":\"x\",\"y\":[0.04742115770763812,0.09244659836660836,0.09244659836660836,0.06295758411815464],\"yaxis\":\"y\",\"type\":\"scatter\"},{\"hoverinfo\":\"text\",\"marker\":{\"color\":\"rgb(133,20,75)\"},\"mode\":\"lines\",\"x\":[1845.0,1845.0,1921.875,1921.875],\"xaxis\":\"x\",\"y\":[0.06862614983182326,0.09945417303623778,0.09945417303623778,0.09244659836660836],\"yaxis\":\"y\",\"type\":\"scatter\"},{\"hoverinfo\":\"text\",\"marker\":{\"color\":\"rgb(133,20,75)\"},\"mode\":\"lines\",\"x\":[1749.375,1749.375,1883.4375,1883.4375],\"xaxis\":\"x\",\"y\":[0.09157922016678284,0.14020485648341155,0.14020485648341155,0.09945417303623778],\"yaxis\":\"y\",\"type\":\"scatter\"},{\"hoverinfo\":\"text\",\"marker\":{\"color\":\"rgb(133,20,75)\"},\"mode\":\"lines\",\"x\":[1596.25,1596.25,1816.40625,1816.40625],\"xaxis\":\"x\",\"y\":[0.10966662067097678,0.16109706869400378,0.16109706869400378,0.14020485648341155],\"yaxis\":\"y\",\"type\":\"scatter\"},{\"hoverinfo\":\"text\",\"marker\":{\"color\":\"rgb(133,20,75)\"},\"mode\":\"lines\",\"x\":[1975.0,1975.0,1985.0,1985.0],\"xaxis\":\"x\",\"y\":[0.0,0.025299162001727476,0.025299162001727476,0.0],\"yaxis\":\"y\",\"type\":\"scatter\"},{\"hoverinfo\":\"text\",\"marker\":{\"color\":\"rgb(133,20,75)\"},\"mode\":\"lines\",\"x\":[1965.0,1965.0,1980.0,1980.0],\"xaxis\":\"x\",\"y\":[0.0,0.04796817701604533,0.04796817701604533,0.025299162001727476],\"yaxis\":\"y\",\"type\":\"scatter\"},{\"hoverinfo\":\"text\",\"marker\":{\"color\":\"rgb(133,20,75)\"},\"mode\":\"lines\",\"x\":[2005.0,2005.0,2015.0,2015.0],\"xaxis\":\"x\",\"y\":[0.0,0.023768412030588562,0.023768412030588562,0.0],\"yaxis\":\"y\",\"type\":\"scatter\"},{\"hoverinfo\":\"text\",\"marker\":{\"color\":\"rgb(133,20,75)\"},\"mode\":\"lines\",\"x\":[1995.0,1995.0,2010.0,2010.0],\"xaxis\":\"x\",\"y\":[0.0,0.03651065272159669,0.03651065272159669,0.023768412030588562],\"yaxis\":\"y\",\"type\":\"scatter\"},{\"hoverinfo\":\"text\",\"marker\":{\"color\":\"rgb(133,20,75)\"},\"mode\":\"lines\",\"x\":[2035.0,2035.0,2045.0,2045.0],\"xaxis\":\"x\",\"y\":[0.0,0.024105440325501798,0.024105440325501798,0.0],\"yaxis\":\"y\",\"type\":\"scatter\"},{\"hoverinfo\":\"text\",\"marker\":{\"color\":\"rgb(133,20,75)\"},\"mode\":\"lines\",\"x\":[2025.0,2025.0,2040.0,2040.0],\"xaxis\":\"x\",\"y\":[0.0,0.04559713368261437,0.04559713368261437,0.024105440325501798],\"yaxis\":\"y\",\"type\":\"scatter\"},{\"hoverinfo\":\"text\",\"marker\":{\"color\":\"rgb(133,20,75)\"},\"mode\":\"lines\",\"x\":[2002.5,2002.5,2032.5,2032.5],\"xaxis\":\"x\",\"y\":[0.03651065272159669,0.060539804643536234,0.060539804643536234,0.04559713368261437],\"yaxis\":\"y\",\"type\":\"scatter\"},{\"hoverinfo\":\"text\",\"marker\":{\"color\":\"rgb(133,20,75)\"},\"mode\":\"lines\",\"x\":[1972.5,1972.5,2017.5,2017.5],\"xaxis\":\"x\",\"y\":[0.04796817701604533,0.09129493136697374,0.09129493136697374,0.060539804643536234],\"yaxis\":\"y\",\"type\":\"scatter\"},{\"hoverinfo\":\"text\",\"marker\":{\"color\":\"rgb(133,20,75)\"},\"mode\":\"lines\",\"x\":[2055.0,2055.0,2065.0,2065.0],\"xaxis\":\"x\",\"y\":[0.0,0.019195602751612754,0.019195602751612754,0.0],\"yaxis\":\"y\",\"type\":\"scatter\"},{\"hoverinfo\":\"text\",\"marker\":{\"color\":\"rgb(133,20,75)\"},\"mode\":\"lines\",\"x\":[2075.0,2075.0,2085.0,2085.0],\"xaxis\":\"x\",\"y\":[0.0,0.013005108022247754,0.013005108022247754,0.0],\"yaxis\":\"y\",\"type\":\"scatter\"},{\"hoverinfo\":\"text\",\"marker\":{\"color\":\"rgb(133,20,75)\"},\"mode\":\"lines\",\"x\":[2095.0,2095.0,2105.0,2105.0],\"xaxis\":\"x\",\"y\":[0.0,0.013196321049843435,0.013196321049843435,0.0],\"yaxis\":\"y\",\"type\":\"scatter\"},{\"hoverinfo\":\"text\",\"marker\":{\"color\":\"rgb(133,20,75)\"},\"mode\":\"lines\",\"x\":[2080.0,2080.0,2100.0,2100.0],\"xaxis\":\"x\",\"y\":[0.013005108022247754,0.02070782223177838,0.02070782223177838,0.013196321049843435],\"yaxis\":\"y\",\"type\":\"scatter\"},{\"hoverinfo\":\"text\",\"marker\":{\"color\":\"rgb(133,20,75)\"},\"mode\":\"lines\",\"x\":[2060.0,2060.0,2090.0,2090.0],\"xaxis\":\"x\",\"y\":[0.019195602751612754,0.034700846918175605,0.034700846918175605,0.02070782223177838],\"yaxis\":\"y\",\"type\":\"scatter\"},{\"hoverinfo\":\"text\",\"marker\":{\"color\":\"rgb(133,20,75)\"},\"mode\":\"lines\",\"x\":[2115.0,2115.0,2125.0,2125.0],\"xaxis\":\"x\",\"y\":[0.0,0.018271717309018543,0.018271717309018543,0.0],\"yaxis\":\"y\",\"type\":\"scatter\"},{\"hoverinfo\":\"text\",\"marker\":{\"color\":\"rgb(133,20,75)\"},\"mode\":\"lines\",\"x\":[2145.0,2145.0,2155.0,2155.0],\"xaxis\":\"x\",\"y\":[0.0,0.020064866801373604,0.020064866801373604,0.0],\"yaxis\":\"y\",\"type\":\"scatter\"},{\"hoverinfo\":\"text\",\"marker\":{\"color\":\"rgb(133,20,75)\"},\"mode\":\"lines\",\"x\":[2135.0,2135.0,2150.0,2150.0],\"xaxis\":\"x\",\"y\":[0.0,0.027229940565347128,0.027229940565347128,0.020064866801373604],\"yaxis\":\"y\",\"type\":\"scatter\"},{\"hoverinfo\":\"text\",\"marker\":{\"color\":\"rgb(133,20,75)\"},\"mode\":\"lines\",\"x\":[2120.0,2120.0,2142.5,2142.5],\"xaxis\":\"x\",\"y\":[0.018271717309018543,0.04836477362017991,0.04836477362017991,0.027229940565347128],\"yaxis\":\"y\",\"type\":\"scatter\"},{\"hoverinfo\":\"text\",\"marker\":{\"color\":\"rgb(133,20,75)\"},\"mode\":\"lines\",\"x\":[2075.0,2075.0,2131.25,2131.25],\"xaxis\":\"x\",\"y\":[0.034700846918175605,0.053890668934264925,0.053890668934264925,0.04836477362017991],\"yaxis\":\"y\",\"type\":\"scatter\"},{\"hoverinfo\":\"text\",\"marker\":{\"color\":\"rgb(133,20,75)\"},\"mode\":\"lines\",\"x\":[2175.0,2175.0,2185.0,2185.0],\"xaxis\":\"x\",\"y\":[0.0,0.04502708047771026,0.04502708047771026,0.0],\"yaxis\":\"y\",\"type\":\"scatter\"},{\"hoverinfo\":\"text\",\"marker\":{\"color\":\"rgb(133,20,75)\"},\"mode\":\"lines\",\"x\":[2165.0,2165.0,2180.0,2180.0],\"xaxis\":\"x\",\"y\":[0.0,0.058101008921068904,0.058101008921068904,0.04502708047771026],\"yaxis\":\"y\",\"type\":\"scatter\"},{\"hoverinfo\":\"text\",\"marker\":{\"color\":\"rgb(133,20,75)\"},\"mode\":\"lines\",\"x\":[2103.125,2103.125,2172.5,2172.5],\"xaxis\":\"x\",\"y\":[0.053890668934264925,0.098786415419829,0.098786415419829,0.058101008921068904],\"yaxis\":\"y\",\"type\":\"scatter\"},{\"hoverinfo\":\"text\",\"marker\":{\"color\":\"rgb(133,20,75)\"},\"mode\":\"lines\",\"x\":[1995.0,1995.0,2137.8125,2137.8125],\"xaxis\":\"x\",\"y\":[0.09129493136697374,0.1333188480882661,0.1333188480882661,0.098786415419829],\"yaxis\":\"y\",\"type\":\"scatter\"},{\"hoverinfo\":\"text\",\"marker\":{\"color\":\"rgb(133,20,75)\"},\"mode\":\"lines\",\"x\":[2195.0,2195.0,2205.0,2205.0],\"xaxis\":\"x\",\"y\":[0.0,0.046898699966399254,0.046898699966399254,0.0],\"yaxis\":\"y\",\"type\":\"scatter\"},{\"hoverinfo\":\"text\",\"marker\":{\"color\":\"rgb(133,20,75)\"},\"mode\":\"lines\",\"x\":[2225.0,2225.0,2235.0,2235.0],\"xaxis\":\"x\",\"y\":[0.0,0.01787625590520693,0.01787625590520693,0.0],\"yaxis\":\"y\",\"type\":\"scatter\"},{\"hoverinfo\":\"text\",\"marker\":{\"color\":\"rgb(133,20,75)\"},\"mode\":\"lines\",\"x\":[2215.0,2215.0,2230.0,2230.0],\"xaxis\":\"x\",\"y\":[0.0,0.03199323957186198,0.03199323957186198,0.01787625590520693],\"yaxis\":\"y\",\"type\":\"scatter\"},{\"hoverinfo\":\"text\",\"marker\":{\"color\":\"rgb(133,20,75)\"},\"mode\":\"lines\",\"x\":[2265.0,2265.0,2275.0,2275.0],\"xaxis\":\"x\",\"y\":[0.0,0.030314748734050614,0.030314748734050614,0.0],\"yaxis\":\"y\",\"type\":\"scatter\"},{\"hoverinfo\":\"text\",\"marker\":{\"color\":\"rgb(133,20,75)\"},\"mode\":\"lines\",\"x\":[2255.0,2255.0,2270.0,2270.0],\"xaxis\":\"x\",\"y\":[0.0,0.03386889425273244,0.03386889425273244,0.030314748734050614],\"yaxis\":\"y\",\"type\":\"scatter\"},{\"hoverinfo\":\"text\",\"marker\":{\"color\":\"rgb(133,20,75)\"},\"mode\":\"lines\",\"x\":[2245.0,2245.0,2262.5,2262.5],\"xaxis\":\"x\",\"y\":[0.0,0.046490821391411044,0.046490821391411044,0.03386889425273244],\"yaxis\":\"y\",\"type\":\"scatter\"},{\"hoverinfo\":\"text\",\"marker\":{\"color\":\"rgb(133,20,75)\"},\"mode\":\"lines\",\"x\":[2222.5,2222.5,2253.75,2253.75],\"xaxis\":\"x\",\"y\":[0.03199323957186198,0.058641487854644354,0.058641487854644354,0.046490821391411044],\"yaxis\":\"y\",\"type\":\"scatter\"},{\"hoverinfo\":\"text\",\"marker\":{\"color\":\"rgb(133,20,75)\"},\"mode\":\"lines\",\"x\":[2200.0,2200.0,2238.125,2238.125],\"xaxis\":\"x\",\"y\":[0.046898699966399254,0.06641577025416308,0.06641577025416308,0.058641487854644354],\"yaxis\":\"y\",\"type\":\"scatter\"},{\"hoverinfo\":\"text\",\"marker\":{\"color\":\"rgb(133,20,75)\"},\"mode\":\"lines\",\"x\":[2285.0,2285.0,2295.0,2295.0],\"xaxis\":\"x\",\"y\":[0.0,0.03293275882297875,0.03293275882297875,0.0],\"yaxis\":\"y\",\"type\":\"scatter\"},{\"hoverinfo\":\"text\",\"marker\":{\"color\":\"rgb(133,20,75)\"},\"mode\":\"lines\",\"x\":[2315.0,2315.0,2325.0,2325.0],\"xaxis\":\"x\",\"y\":[0.0,0.020155302723690878,0.020155302723690878,0.0],\"yaxis\":\"y\",\"type\":\"scatter\"},{\"hoverinfo\":\"text\",\"marker\":{\"color\":\"rgb(133,20,75)\"},\"mode\":\"lines\",\"x\":[2305.0,2305.0,2320.0,2320.0],\"xaxis\":\"x\",\"y\":[0.0,0.03310527832158159,0.03310527832158159,0.020155302723690878],\"yaxis\":\"y\",\"type\":\"scatter\"},{\"hoverinfo\":\"text\",\"marker\":{\"color\":\"rgb(133,20,75)\"},\"mode\":\"lines\",\"x\":[2290.0,2290.0,2312.5,2312.5],\"xaxis\":\"x\",\"y\":[0.03293275882297875,0.04945632515445541,0.04945632515445541,0.03310527832158159],\"yaxis\":\"y\",\"type\":\"scatter\"},{\"hoverinfo\":\"text\",\"marker\":{\"color\":\"rgb(133,20,75)\"},\"mode\":\"lines\",\"x\":[2355.0,2355.0,2365.0,2365.0],\"xaxis\":\"x\",\"y\":[0.0,0.027025892872522755,0.027025892872522755,0.0],\"yaxis\":\"y\",\"type\":\"scatter\"},{\"hoverinfo\":\"text\",\"marker\":{\"color\":\"rgb(133,20,75)\"},\"mode\":\"lines\",\"x\":[2345.0,2345.0,2360.0,2360.0],\"xaxis\":\"x\",\"y\":[0.0,0.04366310882089464,0.04366310882089464,0.027025892872522755],\"yaxis\":\"y\",\"type\":\"scatter\"},{\"hoverinfo\":\"text\",\"marker\":{\"color\":\"rgb(133,20,75)\"},\"mode\":\"lines\",\"x\":[2335.0,2335.0,2352.5,2352.5],\"xaxis\":\"x\",\"y\":[0.0,0.056516842443160756,0.056516842443160756,0.04366310882089464],\"yaxis\":\"y\",\"type\":\"scatter\"},{\"hoverinfo\":\"text\",\"marker\":{\"color\":\"rgb(133,20,75)\"},\"mode\":\"lines\",\"x\":[2385.0,2385.0,2395.0,2395.0],\"xaxis\":\"x\",\"y\":[0.0,0.02780906202189447,0.02780906202189447,0.0],\"yaxis\":\"y\",\"type\":\"scatter\"},{\"hoverinfo\":\"text\",\"marker\":{\"color\":\"rgb(133,20,75)\"},\"mode\":\"lines\",\"x\":[2375.0,2375.0,2390.0,2390.0],\"xaxis\":\"x\",\"y\":[0.0,0.03991172948514618,0.03991172948514618,0.02780906202189447],\"yaxis\":\"y\",\"type\":\"scatter\"},{\"hoverinfo\":\"text\",\"marker\":{\"color\":\"rgb(133,20,75)\"},\"mode\":\"lines\",\"x\":[2425.0,2425.0,2435.0,2435.0],\"xaxis\":\"x\",\"y\":[0.0,0.017929461261432796,0.017929461261432796,0.0],\"yaxis\":\"y\",\"type\":\"scatter\"},{\"hoverinfo\":\"text\",\"marker\":{\"color\":\"rgb(133,20,75)\"},\"mode\":\"lines\",\"x\":[2415.0,2415.0,2430.0,2430.0],\"xaxis\":\"x\",\"y\":[0.0,0.026725093803270736,0.026725093803270736,0.017929461261432796],\"yaxis\":\"y\",\"type\":\"scatter\"},{\"hoverinfo\":\"text\",\"marker\":{\"color\":\"rgb(133,20,75)\"},\"mode\":\"lines\",\"x\":[2405.0,2405.0,2422.5,2422.5],\"xaxis\":\"x\",\"y\":[0.0,0.04412014640575472,0.04412014640575472,0.026725093803270736],\"yaxis\":\"y\",\"type\":\"scatter\"},{\"hoverinfo\":\"text\",\"marker\":{\"color\":\"rgb(133,20,75)\"},\"mode\":\"lines\",\"x\":[2382.5,2382.5,2413.75,2413.75],\"xaxis\":\"x\",\"y\":[0.03991172948514618,0.06733139294907609,0.06733139294907609,0.04412014640575472],\"yaxis\":\"y\",\"type\":\"scatter\"},{\"hoverinfo\":\"text\",\"marker\":{\"color\":\"rgb(133,20,75)\"},\"mode\":\"lines\",\"x\":[2343.75,2343.75,2398.125,2398.125],\"xaxis\":\"x\",\"y\":[0.056516842443160756,0.0849359417987392,0.0849359417987392,0.06733139294907609],\"yaxis\":\"y\",\"type\":\"scatter\"},{\"hoverinfo\":\"text\",\"marker\":{\"color\":\"rgb(133,20,75)\"},\"mode\":\"lines\",\"x\":[2301.25,2301.25,2370.9375,2370.9375],\"xaxis\":\"x\",\"y\":[0.04945632515445541,0.09871530819244638,0.09871530819244638,0.0849359417987392],\"yaxis\":\"y\",\"type\":\"scatter\"},{\"hoverinfo\":\"text\",\"marker\":{\"color\":\"rgb(133,20,75)\"},\"mode\":\"lines\",\"x\":[2219.0625,2219.0625,2336.09375,2336.09375],\"xaxis\":\"x\",\"y\":[0.06641577025416308,0.10644154764401192,0.10644154764401192,0.09871530819244638],\"yaxis\":\"y\",\"type\":\"scatter\"},{\"hoverinfo\":\"text\",\"marker\":{\"color\":\"rgb(133,20,75)\"},\"mode\":\"lines\",\"x\":[2455.0,2455.0,2465.0,2465.0],\"xaxis\":\"x\",\"y\":[0.0,0.022923869901563483,0.022923869901563483,0.0],\"yaxis\":\"y\",\"type\":\"scatter\"},{\"hoverinfo\":\"text\",\"marker\":{\"color\":\"rgb(133,20,75)\"},\"mode\":\"lines\",\"x\":[2445.0,2445.0,2460.0,2460.0],\"xaxis\":\"x\",\"y\":[0.0,0.04458303339303365,0.04458303339303365,0.022923869901563483],\"yaxis\":\"y\",\"type\":\"scatter\"},{\"hoverinfo\":\"text\",\"marker\":{\"color\":\"rgb(133,20,75)\"},\"mode\":\"lines\",\"x\":[2475.0,2475.0,2485.0,2485.0],\"xaxis\":\"x\",\"y\":[0.0,0.05371129148625256,0.05371129148625256,0.0],\"yaxis\":\"y\",\"type\":\"scatter\"},{\"hoverinfo\":\"text\",\"marker\":{\"color\":\"rgb(133,20,75)\"},\"mode\":\"lines\",\"x\":[2452.5,2452.5,2480.0,2480.0],\"xaxis\":\"x\",\"y\":[0.04458303339303365,0.06819953105394744,0.06819953105394744,0.05371129148625256],\"yaxis\":\"y\",\"type\":\"scatter\"},{\"hoverinfo\":\"text\",\"marker\":{\"color\":\"rgb(133,20,75)\"},\"mode\":\"lines\",\"x\":[2505.0,2505.0,2515.0,2515.0],\"xaxis\":\"x\",\"y\":[0.0,0.02235749145776996,0.02235749145776996,0.0],\"yaxis\":\"y\",\"type\":\"scatter\"},{\"hoverinfo\":\"text\",\"marker\":{\"color\":\"rgb(133,20,75)\"},\"mode\":\"lines\",\"x\":[2495.0,2495.0,2510.0,2510.0],\"xaxis\":\"x\",\"y\":[0.0,0.04834888027207711,0.04834888027207711,0.02235749145776996],\"yaxis\":\"y\",\"type\":\"scatter\"},{\"hoverinfo\":\"text\",\"marker\":{\"color\":\"rgb(133,20,75)\"},\"mode\":\"lines\",\"x\":[2535.0,2535.0,2545.0,2545.0],\"xaxis\":\"x\",\"y\":[0.0,0.032658599288989926,0.032658599288989926,0.0],\"yaxis\":\"y\",\"type\":\"scatter\"},{\"hoverinfo\":\"text\",\"marker\":{\"color\":\"rgb(133,20,75)\"},\"mode\":\"lines\",\"x\":[2525.0,2525.0,2540.0,2540.0],\"xaxis\":\"x\",\"y\":[0.0,0.057094189965489164,0.057094189965489164,0.032658599288989926],\"yaxis\":\"y\",\"type\":\"scatter\"},{\"hoverinfo\":\"text\",\"marker\":{\"color\":\"rgb(133,20,75)\"},\"mode\":\"lines\",\"x\":[2502.5,2502.5,2532.5,2532.5],\"xaxis\":\"x\",\"y\":[0.04834888027207711,0.08300880322910573,0.08300880322910573,0.057094189965489164],\"yaxis\":\"y\",\"type\":\"scatter\"},{\"hoverinfo\":\"text\",\"marker\":{\"color\":\"rgb(133,20,75)\"},\"mode\":\"lines\",\"x\":[2466.25,2466.25,2517.5,2517.5],\"xaxis\":\"x\",\"y\":[0.06819953105394744,0.1090218644977955,0.1090218644977955,0.08300880322910573],\"yaxis\":\"y\",\"type\":\"scatter\"},{\"hoverinfo\":\"text\",\"marker\":{\"color\":\"rgb(133,20,75)\"},\"mode\":\"lines\",\"x\":[2277.578125,2277.578125,2491.875,2491.875],\"xaxis\":\"x\",\"y\":[0.10644154764401192,0.1337999020434764,0.1337999020434764,0.1090218644977955],\"yaxis\":\"y\",\"type\":\"scatter\"},{\"hoverinfo\":\"text\",\"marker\":{\"color\":\"rgb(133,20,75)\"},\"mode\":\"lines\",\"x\":[2066.40625,2066.40625,2384.7265625,2384.7265625],\"xaxis\":\"x\",\"y\":[0.1333188480882661,0.16192495172950244,0.16192495172950244,0.1337999020434764],\"yaxis\":\"y\",\"type\":\"scatter\"},{\"hoverinfo\":\"text\",\"marker\":{\"color\":\"rgb(133,20,75)\"},\"mode\":\"lines\",\"x\":[1706.328125,1706.328125,2225.56640625,2225.56640625],\"xaxis\":\"x\",\"y\":[0.16109706869400378,0.19078070934389413,0.19078070934389413,0.16192495172950244],\"yaxis\":\"y\",\"type\":\"scatter\"},{\"hoverinfo\":\"text\",\"marker\":{\"color\":\"rgb(133,20,75)\"},\"mode\":\"lines\",\"x\":[2565.0,2565.0,2575.0,2575.0],\"xaxis\":\"x\",\"y\":[0.0,0.02406712549385463,0.02406712549385463,0.0],\"yaxis\":\"y\",\"type\":\"scatter\"},{\"hoverinfo\":\"text\",\"marker\":{\"color\":\"rgb(133,20,75)\"},\"mode\":\"lines\",\"x\":[2555.0,2555.0,2570.0,2570.0],\"xaxis\":\"x\",\"y\":[0.0,0.055857215755099957,0.055857215755099957,0.02406712549385463],\"yaxis\":\"y\",\"type\":\"scatter\"},{\"hoverinfo\":\"text\",\"marker\":{\"color\":\"rgb(133,20,75)\"},\"mode\":\"lines\",\"x\":[2585.0,2585.0,2595.0,2595.0],\"xaxis\":\"x\",\"y\":[0.0,0.036157069491220634,0.036157069491220634,0.0],\"yaxis\":\"y\",\"type\":\"scatter\"},{\"hoverinfo\":\"text\",\"marker\":{\"color\":\"rgb(133,20,75)\"},\"mode\":\"lines\",\"x\":[2625.0,2625.0,2635.0,2635.0],\"xaxis\":\"x\",\"y\":[0.0,0.01929678428400643,0.01929678428400643,0.0],\"yaxis\":\"y\",\"type\":\"scatter\"},{\"hoverinfo\":\"text\",\"marker\":{\"color\":\"rgb(133,20,75)\"},\"mode\":\"lines\",\"x\":[2615.0,2615.0,2630.0,2630.0],\"xaxis\":\"x\",\"y\":[0.0,0.036747883195874784,0.036747883195874784,0.01929678428400643],\"yaxis\":\"y\",\"type\":\"scatter\"},{\"hoverinfo\":\"text\",\"marker\":{\"color\":\"rgb(133,20,75)\"},\"mode\":\"lines\",\"x\":[2605.0,2605.0,2622.5,2622.5],\"xaxis\":\"x\",\"y\":[0.0,0.051383456864044615,0.051383456864044615,0.036747883195874784],\"yaxis\":\"y\",\"type\":\"scatter\"},{\"hoverinfo\":\"text\",\"marker\":{\"color\":\"rgb(133,20,75)\"},\"mode\":\"lines\",\"x\":[2590.0,2590.0,2613.75,2613.75],\"xaxis\":\"x\",\"y\":[0.036157069491220634,0.07073439423915208,0.07073439423915208,0.051383456864044615],\"yaxis\":\"y\",\"type\":\"scatter\"},{\"hoverinfo\":\"text\",\"marker\":{\"color\":\"rgb(133,20,75)\"},\"mode\":\"lines\",\"x\":[2562.5,2562.5,2601.875,2601.875],\"xaxis\":\"x\",\"y\":[0.055857215755099957,0.07448028402185723,0.07448028402185723,0.07073439423915208],\"yaxis\":\"y\",\"type\":\"scatter\"},{\"hoverinfo\":\"text\",\"marker\":{\"color\":\"rgb(133,20,75)\"},\"mode\":\"lines\",\"x\":[2655.0,2655.0,2665.0,2665.0],\"xaxis\":\"x\",\"y\":[0.0,0.0357894436204849,0.0357894436204849,0.0],\"yaxis\":\"y\",\"type\":\"scatter\"},{\"hoverinfo\":\"text\",\"marker\":{\"color\":\"rgb(133,20,75)\"},\"mode\":\"lines\",\"x\":[2645.0,2645.0,2660.0,2660.0],\"xaxis\":\"x\",\"y\":[0.0,0.04184958997890312,0.04184958997890312,0.0357894436204849],\"yaxis\":\"y\",\"type\":\"scatter\"},{\"hoverinfo\":\"text\",\"marker\":{\"color\":\"rgb(133,20,75)\"},\"mode\":\"lines\",\"x\":[2675.0,2675.0,2685.0,2685.0],\"xaxis\":\"x\",\"y\":[0.0,0.028374000294816883,0.028374000294816883,0.0],\"yaxis\":\"y\",\"type\":\"scatter\"},{\"hoverinfo\":\"text\",\"marker\":{\"color\":\"rgb(133,20,75)\"},\"mode\":\"lines\",\"x\":[2695.0,2695.0,2705.0,2705.0],\"xaxis\":\"x\",\"y\":[0.0,0.04058867907207826,0.04058867907207826,0.0],\"yaxis\":\"y\",\"type\":\"scatter\"},{\"hoverinfo\":\"text\",\"marker\":{\"color\":\"rgb(133,20,75)\"},\"mode\":\"lines\",\"x\":[2680.0,2680.0,2700.0,2700.0],\"xaxis\":\"x\",\"y\":[0.028374000294816883,0.058129898638080824,0.058129898638080824,0.04058867907207826],\"yaxis\":\"y\",\"type\":\"scatter\"},{\"hoverinfo\":\"text\",\"marker\":{\"color\":\"rgb(133,20,75)\"},\"mode\":\"lines\",\"x\":[2725.0,2725.0,2735.0,2735.0],\"xaxis\":\"x\",\"y\":[0.0,0.016238680077755436,0.016238680077755436,0.0],\"yaxis\":\"y\",\"type\":\"scatter\"},{\"hoverinfo\":\"text\",\"marker\":{\"color\":\"rgb(133,20,75)\"},\"mode\":\"lines\",\"x\":[2715.0,2715.0,2730.0,2730.0],\"xaxis\":\"x\",\"y\":[0.0,0.036428855892480544,0.036428855892480544,0.016238680077755436],\"yaxis\":\"y\",\"type\":\"scatter\"},{\"hoverinfo\":\"text\",\"marker\":{\"color\":\"rgb(133,20,75)\"},\"mode\":\"lines\",\"x\":[2755.0,2755.0,2765.0,2765.0],\"xaxis\":\"x\",\"y\":[0.0,0.026945802574403405,0.026945802574403405,0.0],\"yaxis\":\"y\",\"type\":\"scatter\"},{\"hoverinfo\":\"text\",\"marker\":{\"color\":\"rgb(133,20,75)\"},\"mode\":\"lines\",\"x\":[2745.0,2745.0,2760.0,2760.0],\"xaxis\":\"x\",\"y\":[0.0,0.05023859598480024,0.05023859598480024,0.026945802574403405],\"yaxis\":\"y\",\"type\":\"scatter\"},{\"hoverinfo\":\"text\",\"marker\":{\"color\":\"rgb(133,20,75)\"},\"mode\":\"lines\",\"x\":[2722.5,2722.5,2752.5,2752.5],\"xaxis\":\"x\",\"y\":[0.036428855892480544,0.06699035304211733,0.06699035304211733,0.05023859598480024],\"yaxis\":\"y\",\"type\":\"scatter\"},{\"hoverinfo\":\"text\",\"marker\":{\"color\":\"rgb(133,20,75)\"},\"mode\":\"lines\",\"x\":[2690.0,2690.0,2737.5,2737.5],\"xaxis\":\"x\",\"y\":[0.058129898638080824,0.08110746056841373,0.08110746056841373,0.06699035304211733],\"yaxis\":\"y\",\"type\":\"scatter\"},{\"hoverinfo\":\"text\",\"marker\":{\"color\":\"rgb(133,20,75)\"},\"mode\":\"lines\",\"x\":[2652.5,2652.5,2713.75,2713.75],\"xaxis\":\"x\",\"y\":[0.04184958997890312,0.08482132594373218,0.08482132594373218,0.08110746056841373],\"yaxis\":\"y\",\"type\":\"scatter\"},{\"hoverinfo\":\"text\",\"marker\":{\"color\":\"rgb(133,20,75)\"},\"mode\":\"lines\",\"x\":[2775.0,2775.0,2785.0,2785.0],\"xaxis\":\"x\",\"y\":[0.0,0.044230568717681565,0.044230568717681565,0.0],\"yaxis\":\"y\",\"type\":\"scatter\"},{\"hoverinfo\":\"text\",\"marker\":{\"color\":\"rgb(133,20,75)\"},\"mode\":\"lines\",\"x\":[2795.0,2795.0,2805.0,2805.0],\"xaxis\":\"x\",\"y\":[0.0,0.04432811493077896,0.04432811493077896,0.0],\"yaxis\":\"y\",\"type\":\"scatter\"},{\"hoverinfo\":\"text\",\"marker\":{\"color\":\"rgb(133,20,75)\"},\"mode\":\"lines\",\"x\":[2780.0,2780.0,2800.0,2800.0],\"xaxis\":\"x\",\"y\":[0.044230568717681565,0.08649092879532881,0.08649092879532881,0.04432811493077896],\"yaxis\":\"y\",\"type\":\"scatter\"},{\"hoverinfo\":\"text\",\"marker\":{\"color\":\"rgb(133,20,75)\"},\"mode\":\"lines\",\"x\":[2683.125,2683.125,2790.0,2790.0],\"xaxis\":\"x\",\"y\":[0.08482132594373218,0.10633720595682143,0.10633720595682143,0.08649092879532881],\"yaxis\":\"y\",\"type\":\"scatter\"},{\"hoverinfo\":\"text\",\"marker\":{\"color\":\"rgb(133,20,75)\"},\"mode\":\"lines\",\"x\":[2582.1875,2582.1875,2736.5625,2736.5625],\"xaxis\":\"x\",\"y\":[0.07448028402185723,0.1333862176185833,0.1333862176185833,0.10633720595682143],\"yaxis\":\"y\",\"type\":\"scatter\"},{\"hoverinfo\":\"text\",\"marker\":{\"color\":\"rgb(133,20,75)\"},\"mode\":\"lines\",\"x\":[2815.0,2815.0,2825.0,2825.0],\"xaxis\":\"x\",\"y\":[0.0,0.034544440837691544,0.034544440837691544,0.0],\"yaxis\":\"y\",\"type\":\"scatter\"},{\"hoverinfo\":\"text\",\"marker\":{\"color\":\"rgb(133,20,75)\"},\"mode\":\"lines\",\"x\":[2855.0,2855.0,2865.0,2865.0],\"xaxis\":\"x\",\"y\":[0.0,0.016468041296645555,0.016468041296645555,0.0],\"yaxis\":\"y\",\"type\":\"scatter\"},{\"hoverinfo\":\"text\",\"marker\":{\"color\":\"rgb(133,20,75)\"},\"mode\":\"lines\",\"x\":[2845.0,2845.0,2860.0,2860.0],\"xaxis\":\"x\",\"y\":[0.0,0.024869505018602512,0.024869505018602512,0.016468041296645555],\"yaxis\":\"y\",\"type\":\"scatter\"},{\"hoverinfo\":\"text\",\"marker\":{\"color\":\"rgb(133,20,75)\"},\"mode\":\"lines\",\"x\":[2835.0,2835.0,2852.5,2852.5],\"xaxis\":\"x\",\"y\":[0.0,0.042851145684132445,0.042851145684132445,0.024869505018602512],\"yaxis\":\"y\",\"type\":\"scatter\"},{\"hoverinfo\":\"text\",\"marker\":{\"color\":\"rgb(133,20,75)\"},\"mode\":\"lines\",\"x\":[2820.0,2820.0,2843.75,2843.75],\"xaxis\":\"x\",\"y\":[0.034544440837691544,0.05136979175696549,0.05136979175696549,0.042851145684132445],\"yaxis\":\"y\",\"type\":\"scatter\"},{\"hoverinfo\":\"text\",\"marker\":{\"color\":\"rgb(133,20,75)\"},\"mode\":\"lines\",\"x\":[2885.0,2885.0,2895.0,2895.0],\"xaxis\":\"x\",\"y\":[0.0,0.024259040089885,0.024259040089885,0.0],\"yaxis\":\"y\",\"type\":\"scatter\"},{\"hoverinfo\":\"text\",\"marker\":{\"color\":\"rgb(133,20,75)\"},\"mode\":\"lines\",\"x\":[2915.0,2915.0,2925.0,2925.0],\"xaxis\":\"x\",\"y\":[0.0,0.026599328286370516,0.026599328286370516,0.0],\"yaxis\":\"y\",\"type\":\"scatter\"},{\"hoverinfo\":\"text\",\"marker\":{\"color\":\"rgb(133,20,75)\"},\"mode\":\"lines\",\"x\":[2905.0,2905.0,2920.0,2920.0],\"xaxis\":\"x\",\"y\":[0.0,0.03422690975742278,0.03422690975742278,0.026599328286370516],\"yaxis\":\"y\",\"type\":\"scatter\"},{\"hoverinfo\":\"text\",\"marker\":{\"color\":\"rgb(133,20,75)\"},\"mode\":\"lines\",\"x\":[2890.0,2890.0,2912.5,2912.5],\"xaxis\":\"x\",\"y\":[0.024259040089885,0.043162762986707064,0.043162762986707064,0.03422690975742278],\"yaxis\":\"y\",\"type\":\"scatter\"},{\"hoverinfo\":\"text\",\"marker\":{\"color\":\"rgb(133,20,75)\"},\"mode\":\"lines\",\"x\":[2875.0,2875.0,2901.25,2901.25],\"xaxis\":\"x\",\"y\":[0.0,0.05761509059030773,0.05761509059030773,0.043162762986707064],\"yaxis\":\"y\",\"type\":\"scatter\"},{\"hoverinfo\":\"text\",\"marker\":{\"color\":\"rgb(133,20,75)\"},\"mode\":\"lines\",\"x\":[2831.875,2831.875,2888.125,2888.125],\"xaxis\":\"x\",\"y\":[0.05136979175696549,0.08195929350481712,0.08195929350481712,0.05761509059030773],\"yaxis\":\"y\",\"type\":\"scatter\"},{\"hoverinfo\":\"text\",\"marker\":{\"color\":\"rgb(133,20,75)\"},\"mode\":\"lines\",\"x\":[2945.0,2945.0,2955.0,2955.0],\"xaxis\":\"x\",\"y\":[0.0,0.04298122700818469,0.04298122700818469,0.0],\"yaxis\":\"y\",\"type\":\"scatter\"},{\"hoverinfo\":\"text\",\"marker\":{\"color\":\"rgb(133,20,75)\"},\"mode\":\"lines\",\"x\":[2935.0,2935.0,2950.0,2950.0],\"xaxis\":\"x\",\"y\":[0.0,0.04495676565149058,0.04495676565149058,0.04298122700818469],\"yaxis\":\"y\",\"type\":\"scatter\"},{\"hoverinfo\":\"text\",\"marker\":{\"color\":\"rgb(133,20,75)\"},\"mode\":\"lines\",\"x\":[2975.0,2975.0,2985.0,2985.0],\"xaxis\":\"x\",\"y\":[0.0,0.028334153070645574,0.028334153070645574,0.0],\"yaxis\":\"y\",\"type\":\"scatter\"},{\"hoverinfo\":\"text\",\"marker\":{\"color\":\"rgb(133,20,75)\"},\"mode\":\"lines\",\"x\":[2995.0,2995.0,3005.0,3005.0],\"xaxis\":\"x\",\"y\":[0.0,0.029060455736607406,0.029060455736607406,0.0],\"yaxis\":\"y\",\"type\":\"scatter\"},{\"hoverinfo\":\"text\",\"marker\":{\"color\":\"rgb(133,20,75)\"},\"mode\":\"lines\",\"x\":[2980.0,2980.0,3000.0,3000.0],\"xaxis\":\"x\",\"y\":[0.028334153070645574,0.05360781113436121,0.05360781113436121,0.029060455736607406],\"yaxis\":\"y\",\"type\":\"scatter\"},{\"hoverinfo\":\"text\",\"marker\":{\"color\":\"rgb(133,20,75)\"},\"mode\":\"lines\",\"x\":[2965.0,2965.0,2990.0,2990.0],\"xaxis\":\"x\",\"y\":[0.0,0.06786409231129216,0.06786409231129216,0.05360781113436121],\"yaxis\":\"y\",\"type\":\"scatter\"},{\"hoverinfo\":\"text\",\"marker\":{\"color\":\"rgb(133,20,75)\"},\"mode\":\"lines\",\"x\":[2942.5,2942.5,2977.5,2977.5],\"xaxis\":\"x\",\"y\":[0.04495676565149058,0.09085908685491377,0.09085908685491377,0.06786409231129216],\"yaxis\":\"y\",\"type\":\"scatter\"},{\"hoverinfo\":\"text\",\"marker\":{\"color\":\"rgb(133,20,75)\"},\"mode\":\"lines\",\"x\":[3015.0,3015.0,3025.0,3025.0],\"xaxis\":\"x\",\"y\":[0.0,0.024032709419137904,0.024032709419137904,0.0],\"yaxis\":\"y\",\"type\":\"scatter\"},{\"hoverinfo\":\"text\",\"marker\":{\"color\":\"rgb(133,20,75)\"},\"mode\":\"lines\",\"x\":[3035.0,3035.0,3045.0,3045.0],\"xaxis\":\"x\",\"y\":[0.0,0.030941881034395817,0.030941881034395817,0.0],\"yaxis\":\"y\",\"type\":\"scatter\"},{\"hoverinfo\":\"text\",\"marker\":{\"color\":\"rgb(133,20,75)\"},\"mode\":\"lines\",\"x\":[3020.0,3020.0,3040.0,3040.0],\"xaxis\":\"x\",\"y\":[0.024032709419137904,0.05109212207253904,0.05109212207253904,0.030941881034395817],\"yaxis\":\"y\",\"type\":\"scatter\"},{\"hoverinfo\":\"text\",\"marker\":{\"color\":\"rgb(133,20,75)\"},\"mode\":\"lines\",\"x\":[3065.0,3065.0,3075.0,3075.0],\"xaxis\":\"x\",\"y\":[0.0,0.013061360354721345,0.013061360354721345,0.0],\"yaxis\":\"y\",\"type\":\"scatter\"},{\"hoverinfo\":\"text\",\"marker\":{\"color\":\"rgb(133,20,75)\"},\"mode\":\"lines\",\"x\":[3055.0,3055.0,3070.0,3070.0],\"xaxis\":\"x\",\"y\":[0.0,0.03623975919925986,0.03623975919925986,0.013061360354721345],\"yaxis\":\"y\",\"type\":\"scatter\"},{\"hoverinfo\":\"text\",\"marker\":{\"color\":\"rgb(133,20,75)\"},\"mode\":\"lines\",\"x\":[3085.0,3085.0,3095.0,3095.0],\"xaxis\":\"x\",\"y\":[0.0,0.033077410824108075,0.033077410824108075,0.0],\"yaxis\":\"y\",\"type\":\"scatter\"},{\"hoverinfo\":\"text\",\"marker\":{\"color\":\"rgb(133,20,75)\"},\"mode\":\"lines\",\"x\":[3115.0,3115.0,3125.0,3125.0],\"xaxis\":\"x\",\"y\":[0.0,0.02898247768078894,0.02898247768078894,0.0],\"yaxis\":\"y\",\"type\":\"scatter\"},{\"hoverinfo\":\"text\",\"marker\":{\"color\":\"rgb(133,20,75)\"},\"mode\":\"lines\",\"x\":[3105.0,3105.0,3120.0,3120.0],\"xaxis\":\"x\",\"y\":[0.0,0.043603781548559505,0.043603781548559505,0.02898247768078894],\"yaxis\":\"y\",\"type\":\"scatter\"},{\"hoverinfo\":\"text\",\"marker\":{\"color\":\"rgb(133,20,75)\"},\"mode\":\"lines\",\"x\":[3090.0,3090.0,3112.5,3112.5],\"xaxis\":\"x\",\"y\":[0.033077410824108075,0.058740762683174415,0.058740762683174415,0.043603781548559505],\"yaxis\":\"y\",\"type\":\"scatter\"},{\"hoverinfo\":\"text\",\"marker\":{\"color\":\"rgb(133,20,75)\"},\"mode\":\"lines\",\"x\":[3062.5,3062.5,3101.25,3101.25],\"xaxis\":\"x\",\"y\":[0.03623975919925986,0.07674750615962689,0.07674750615962689,0.058740762683174415],\"yaxis\":\"y\",\"type\":\"scatter\"},{\"hoverinfo\":\"text\",\"marker\":{\"color\":\"rgb(133,20,75)\"},\"mode\":\"lines\",\"x\":[3030.0,3030.0,3081.875,3081.875],\"xaxis\":\"x\",\"y\":[0.05109212207253904,0.10127696600516142,0.10127696600516142,0.07674750615962689],\"yaxis\":\"y\",\"type\":\"scatter\"},{\"hoverinfo\":\"text\",\"marker\":{\"color\":\"rgb(133,20,75)\"},\"mode\":\"lines\",\"x\":[2960.0,2960.0,3055.9375,3055.9375],\"xaxis\":\"x\",\"y\":[0.09085908685491377,0.10737559550425005,0.10737559550425005,0.10127696600516142],\"yaxis\":\"y\",\"type\":\"scatter\"},{\"hoverinfo\":\"text\",\"marker\":{\"color\":\"rgb(133,20,75)\"},\"mode\":\"lines\",\"x\":[2860.0,2860.0,3007.96875,3007.96875],\"xaxis\":\"x\",\"y\":[0.08195929350481712,0.13768612913507103,0.13768612913507103,0.10737559550425005],\"yaxis\":\"y\",\"type\":\"scatter\"},{\"hoverinfo\":\"text\",\"marker\":{\"color\":\"rgb(133,20,75)\"},\"mode\":\"lines\",\"x\":[2659.375,2659.375,2933.984375,2933.984375],\"xaxis\":\"x\",\"y\":[0.1333862176185833,0.1926091138823866,0.1926091138823866,0.13768612913507103],\"yaxis\":\"y\",\"type\":\"scatter\"},{\"hoverinfo\":\"text\",\"marker\":{\"color\":\"rgb(133,20,75)\"},\"mode\":\"lines\",\"x\":[1965.947265625,1965.947265625,2796.6796875,2796.6796875],\"xaxis\":\"x\",\"y\":[0.19078070934389413,0.24225209740951317,0.24225209740951317,0.1926091138823866],\"yaxis\":\"y\",\"type\":\"scatter\"},{\"hoverinfo\":\"text\",\"marker\":{\"color\":\"rgb(133,20,75)\"},\"mode\":\"lines\",\"x\":[1313.3984375,1313.3984375,2381.3134765625,2381.3134765625],\"xaxis\":\"x\",\"y\":[0.1671262008626486,0.26554255349930356,0.26554255349930356,0.24225209740951317],\"yaxis\":\"y\",\"type\":\"scatter\"},{\"hoverinfo\":\"text\",\"marker\":{\"color\":\"rgb(133,20,75)\"},\"mode\":\"lines\",\"x\":[1062.65625,1062.65625,1847.35595703125,1847.35595703125],\"xaxis\":\"x\",\"y\":[0.22554993524745973,0.3385040161446434,0.3385040161446434,0.26554255349930356],\"yaxis\":\"y\",\"type\":\"scatter\"},{\"hoverinfo\":\"text\",\"marker\":{\"color\":\"rgb(133,20,75)\"},\"mode\":\"lines\",\"x\":[3145.0,3145.0,3155.0,3155.0],\"xaxis\":\"x\",\"y\":[0.0,0.04431951098586958,0.04431951098586958,0.0],\"yaxis\":\"y\",\"type\":\"scatter\"},{\"hoverinfo\":\"text\",\"marker\":{\"color\":\"rgb(133,20,75)\"},\"mode\":\"lines\",\"x\":[3165.0,3165.0,3175.0,3175.0],\"xaxis\":\"x\",\"y\":[0.0,0.04517589388270189,0.04517589388270189,0.0],\"yaxis\":\"y\",\"type\":\"scatter\"},{\"hoverinfo\":\"text\",\"marker\":{\"color\":\"rgb(133,20,75)\"},\"mode\":\"lines\",\"x\":[3150.0,3150.0,3170.0,3170.0],\"xaxis\":\"x\",\"y\":[0.04431951098586958,0.07103678962864007,0.07103678962864007,0.04517589388270189],\"yaxis\":\"y\",\"type\":\"scatter\"},{\"hoverinfo\":\"text\",\"marker\":{\"color\":\"rgb(133,20,75)\"},\"mode\":\"lines\",\"x\":[3135.0,3135.0,3160.0,3160.0],\"xaxis\":\"x\",\"y\":[0.0,0.09517846683567922,0.09517846683567922,0.07103678962864007],\"yaxis\":\"y\",\"type\":\"scatter\"},{\"hoverinfo\":\"text\",\"marker\":{\"color\":\"rgb(133,20,75)\"},\"mode\":\"lines\",\"x\":[3195.0,3195.0,3205.0,3205.0],\"xaxis\":\"x\",\"y\":[0.0,0.026084327317477816,0.026084327317477816,0.0],\"yaxis\":\"y\",\"type\":\"scatter\"},{\"hoverinfo\":\"text\",\"marker\":{\"color\":\"rgb(133,20,75)\"},\"mode\":\"lines\",\"x\":[3185.0,3185.0,3200.0,3200.0],\"xaxis\":\"x\",\"y\":[0.0,0.04297951559565529,0.04297951559565529,0.026084327317477816],\"yaxis\":\"y\",\"type\":\"scatter\"},{\"hoverinfo\":\"text\",\"marker\":{\"color\":\"rgb(133,20,75)\"},\"mode\":\"lines\",\"x\":[3215.0,3215.0,3225.0,3225.0],\"xaxis\":\"x\",\"y\":[0.0,0.053204396358213675,0.053204396358213675,0.0],\"yaxis\":\"y\",\"type\":\"scatter\"},{\"hoverinfo\":\"text\",\"marker\":{\"color\":\"rgb(133,20,75)\"},\"mode\":\"lines\",\"x\":[3235.0,3235.0,3245.0,3245.0],\"xaxis\":\"x\",\"y\":[0.0,0.04337005864287401,0.04337005864287401,0.0],\"yaxis\":\"y\",\"type\":\"scatter\"},{\"hoverinfo\":\"text\",\"marker\":{\"color\":\"rgb(133,20,75)\"},\"mode\":\"lines\",\"x\":[3255.0,3255.0,3265.0,3265.0],\"xaxis\":\"x\",\"y\":[0.0,0.046770104790376674,0.046770104790376674,0.0],\"yaxis\":\"y\",\"type\":\"scatter\"},{\"hoverinfo\":\"text\",\"marker\":{\"color\":\"rgb(133,20,75)\"},\"mode\":\"lines\",\"x\":[3240.0,3240.0,3260.0,3260.0],\"xaxis\":\"x\",\"y\":[0.04337005864287401,0.06470944944726668,0.06470944944726668,0.046770104790376674],\"yaxis\":\"y\",\"type\":\"scatter\"},{\"hoverinfo\":\"text\",\"marker\":{\"color\":\"rgb(133,20,75)\"},\"mode\":\"lines\",\"x\":[3220.0,3220.0,3250.0,3250.0],\"xaxis\":\"x\",\"y\":[0.053204396358213675,0.08978286862413899,0.08978286862413899,0.06470944944726668],\"yaxis\":\"y\",\"type\":\"scatter\"},{\"hoverinfo\":\"text\",\"marker\":{\"color\":\"rgb(133,20,75)\"},\"mode\":\"lines\",\"x\":[3192.5,3192.5,3235.0,3235.0],\"xaxis\":\"x\",\"y\":[0.04297951559565529,0.11001388549065237,0.11001388549065237,0.08978286862413899],\"yaxis\":\"y\",\"type\":\"scatter\"},{\"hoverinfo\":\"text\",\"marker\":{\"color\":\"rgb(133,20,75)\"},\"mode\":\"lines\",\"x\":[3147.5,3147.5,3213.75,3213.75],\"xaxis\":\"x\",\"y\":[0.09517846683567922,0.1462820871710155,0.1462820871710155,0.11001388549065237],\"yaxis\":\"y\",\"type\":\"scatter\"},{\"hoverinfo\":\"text\",\"marker\":{\"color\":\"rgb(133,20,75)\"},\"mode\":\"lines\",\"x\":[3295.0,3295.0,3305.0,3305.0],\"xaxis\":\"x\",\"y\":[0.0,0.03756293233366231,0.03756293233366231,0.0],\"yaxis\":\"y\",\"type\":\"scatter\"},{\"hoverinfo\":\"text\",\"marker\":{\"color\":\"rgb(133,20,75)\"},\"mode\":\"lines\",\"x\":[3285.0,3285.0,3300.0,3300.0],\"xaxis\":\"x\",\"y\":[0.0,0.051160626233933616,0.051160626233933616,0.03756293233366231],\"yaxis\":\"y\",\"type\":\"scatter\"},{\"hoverinfo\":\"text\",\"marker\":{\"color\":\"rgb(133,20,75)\"},\"mode\":\"lines\",\"x\":[3275.0,3275.0,3292.5,3292.5],\"xaxis\":\"x\",\"y\":[0.0,0.05805377310636529,0.05805377310636529,0.051160626233933616],\"yaxis\":\"y\",\"type\":\"scatter\"},{\"hoverinfo\":\"text\",\"marker\":{\"color\":\"rgb(133,20,75)\"},\"mode\":\"lines\",\"x\":[3335.0,3335.0,3345.0,3345.0],\"xaxis\":\"x\",\"y\":[0.0,0.02499908949179196,0.02499908949179196,0.0],\"yaxis\":\"y\",\"type\":\"scatter\"},{\"hoverinfo\":\"text\",\"marker\":{\"color\":\"rgb(133,20,75)\"},\"mode\":\"lines\",\"x\":[3325.0,3325.0,3340.0,3340.0],\"xaxis\":\"x\",\"y\":[0.0,0.037761967076635726,0.037761967076635726,0.02499908949179196],\"yaxis\":\"y\",\"type\":\"scatter\"},{\"hoverinfo\":\"text\",\"marker\":{\"color\":\"rgb(133,20,75)\"},\"mode\":\"lines\",\"x\":[3315.0,3315.0,3332.5,3332.5],\"xaxis\":\"x\",\"y\":[0.0,0.04063754571178126,0.04063754571178126,0.037761967076635726],\"yaxis\":\"y\",\"type\":\"scatter\"},{\"hoverinfo\":\"text\",\"marker\":{\"color\":\"rgb(133,20,75)\"},\"mode\":\"lines\",\"x\":[3355.0,3355.0,3365.0,3365.0],\"xaxis\":\"x\",\"y\":[0.0,0.05418488593009143,0.05418488593009143,0.0],\"yaxis\":\"y\",\"type\":\"scatter\"},{\"hoverinfo\":\"text\",\"marker\":{\"color\":\"rgb(133,20,75)\"},\"mode\":\"lines\",\"x\":[3323.75,3323.75,3360.0,3360.0],\"xaxis\":\"x\",\"y\":[0.04063754571178126,0.06725365116733187,0.06725365116733187,0.05418488593009143],\"yaxis\":\"y\",\"type\":\"scatter\"},{\"hoverinfo\":\"text\",\"marker\":{\"color\":\"rgb(133,20,75)\"},\"mode\":\"lines\",\"x\":[3375.0,3375.0,3385.0,3385.0],\"xaxis\":\"x\",\"y\":[0.0,0.024895892818478274,0.024895892818478274,0.0],\"yaxis\":\"y\",\"type\":\"scatter\"},{\"hoverinfo\":\"text\",\"marker\":{\"color\":\"rgb(133,20,75)\"},\"mode\":\"lines\",\"x\":[3395.0,3395.0,3405.0,3405.0],\"xaxis\":\"x\",\"y\":[0.0,0.02984283560872167,0.02984283560872167,0.0],\"yaxis\":\"y\",\"type\":\"scatter\"},{\"hoverinfo\":\"text\",\"marker\":{\"color\":\"rgb(133,20,75)\"},\"mode\":\"lines\",\"x\":[3380.0,3380.0,3400.0,3400.0],\"xaxis\":\"x\",\"y\":[0.024895892818478274,0.047325636635536766,0.047325636635536766,0.02984283560872167],\"yaxis\":\"y\",\"type\":\"scatter\"},{\"hoverinfo\":\"text\",\"marker\":{\"color\":\"rgb(133,20,75)\"},\"mode\":\"lines\",\"x\":[3415.0,3415.0,3425.0,3425.0],\"xaxis\":\"x\",\"y\":[0.0,0.025120113077680993,0.025120113077680993,0.0],\"yaxis\":\"y\",\"type\":\"scatter\"},{\"hoverinfo\":\"text\",\"marker\":{\"color\":\"rgb(133,20,75)\"},\"mode\":\"lines\",\"x\":[3435.0,3435.0,3445.0,3445.0],\"xaxis\":\"x\",\"y\":[0.0,0.04232635679563515,0.04232635679563515,0.0],\"yaxis\":\"y\",\"type\":\"scatter\"},{\"hoverinfo\":\"text\",\"marker\":{\"color\":\"rgb(133,20,75)\"},\"mode\":\"lines\",\"x\":[3420.0,3420.0,3440.0,3440.0],\"xaxis\":\"x\",\"y\":[0.025120113077680993,0.06471247717572663,0.06471247717572663,0.04232635679563515],\"yaxis\":\"y\",\"type\":\"scatter\"},{\"hoverinfo\":\"text\",\"marker\":{\"color\":\"rgb(133,20,75)\"},\"mode\":\"lines\",\"x\":[3390.0,3390.0,3430.0,3430.0],\"xaxis\":\"x\",\"y\":[0.047325636635536766,0.08273562163961447,0.08273562163961447,0.06471247717572663],\"yaxis\":\"y\",\"type\":\"scatter\"},{\"hoverinfo\":\"text\",\"marker\":{\"color\":\"rgb(133,20,75)\"},\"mode\":\"lines\",\"x\":[3341.875,3341.875,3410.0,3410.0],\"xaxis\":\"x\",\"y\":[0.06725365116733187,0.09026652746661837,0.09026652746661837,0.08273562163961447],\"yaxis\":\"y\",\"type\":\"scatter\"},{\"hoverinfo\":\"text\",\"marker\":{\"color\":\"rgb(133,20,75)\"},\"mode\":\"lines\",\"x\":[3283.75,3283.75,3375.9375,3375.9375],\"xaxis\":\"x\",\"y\":[0.05805377310636529,0.12350486481111385,0.12350486481111385,0.09026652746661837],\"yaxis\":\"y\",\"type\":\"scatter\"},{\"hoverinfo\":\"text\",\"marker\":{\"color\":\"rgb(133,20,75)\"},\"mode\":\"lines\",\"x\":[3475.0,3475.0,3485.0,3485.0],\"xaxis\":\"x\",\"y\":[0.0,0.04625861417513959,0.04625861417513959,0.0],\"yaxis\":\"y\",\"type\":\"scatter\"},{\"hoverinfo\":\"text\",\"marker\":{\"color\":\"rgb(133,20,75)\"},\"mode\":\"lines\",\"x\":[3465.0,3465.0,3480.0,3480.0],\"xaxis\":\"x\",\"y\":[0.0,0.050877253347742006,0.050877253347742006,0.04625861417513959],\"yaxis\":\"y\",\"type\":\"scatter\"},{\"hoverinfo\":\"text\",\"marker\":{\"color\":\"rgb(133,20,75)\"},\"mode\":\"lines\",\"x\":[3455.0,3455.0,3472.5,3472.5],\"xaxis\":\"x\",\"y\":[0.0,0.08131989096590324,0.08131989096590324,0.050877253347742006],\"yaxis\":\"y\",\"type\":\"scatter\"},{\"hoverinfo\":\"text\",\"marker\":{\"color\":\"rgb(133,20,75)\"},\"mode\":\"lines\",\"x\":[3505.0,3505.0,3515.0,3515.0],\"xaxis\":\"x\",\"y\":[0.0,0.026642615984801506,0.026642615984801506,0.0],\"yaxis\":\"y\",\"type\":\"scatter\"},{\"hoverinfo\":\"text\",\"marker\":{\"color\":\"rgb(133,20,75)\"},\"mode\":\"lines\",\"x\":[3495.0,3495.0,3510.0,3510.0],\"xaxis\":\"x\",\"y\":[0.0,0.04450348132759616,0.04450348132759616,0.026642615984801506],\"yaxis\":\"y\",\"type\":\"scatter\"},{\"hoverinfo\":\"text\",\"marker\":{\"color\":\"rgb(133,20,75)\"},\"mode\":\"lines\",\"x\":[3525.0,3525.0,3535.0,3535.0],\"xaxis\":\"x\",\"y\":[0.0,0.06972165168182443,0.06972165168182443,0.0],\"yaxis\":\"y\",\"type\":\"scatter\"},{\"hoverinfo\":\"text\",\"marker\":{\"color\":\"rgb(133,20,75)\"},\"mode\":\"lines\",\"x\":[3502.5,3502.5,3530.0,3530.0],\"xaxis\":\"x\",\"y\":[0.04450348132759616,0.07475238058362738,0.07475238058362738,0.06972165168182443],\"yaxis\":\"y\",\"type\":\"scatter\"},{\"hoverinfo\":\"text\",\"marker\":{\"color\":\"rgb(133,20,75)\"},\"mode\":\"lines\",\"x\":[3545.0,3545.0,3555.0,3555.0],\"xaxis\":\"x\",\"y\":[0.0,0.03171602170789482,0.03171602170789482,0.0],\"yaxis\":\"y\",\"type\":\"scatter\"},{\"hoverinfo\":\"text\",\"marker\":{\"color\":\"rgb(133,20,75)\"},\"mode\":\"lines\",\"x\":[3565.0,3565.0,3575.0,3575.0],\"xaxis\":\"x\",\"y\":[0.0,0.057191787601493016,0.057191787601493016,0.0],\"yaxis\":\"y\",\"type\":\"scatter\"},{\"hoverinfo\":\"text\",\"marker\":{\"color\":\"rgb(133,20,75)\"},\"mode\":\"lines\",\"x\":[3550.0,3550.0,3570.0,3570.0],\"xaxis\":\"x\",\"y\":[0.03171602170789482,0.07599317443843487,0.07599317443843487,0.057191787601493016],\"yaxis\":\"y\",\"type\":\"scatter\"},{\"hoverinfo\":\"text\",\"marker\":{\"color\":\"rgb(133,20,75)\"},\"mode\":\"lines\",\"x\":[3516.25,3516.25,3560.0,3560.0],\"xaxis\":\"x\",\"y\":[0.07475238058362738,0.11053849865600374,0.11053849865600374,0.07599317443843487],\"yaxis\":\"y\",\"type\":\"scatter\"},{\"hoverinfo\":\"text\",\"marker\":{\"color\":\"rgb(133,20,75)\"},\"mode\":\"lines\",\"x\":[3463.75,3463.75,3538.125,3538.125],\"xaxis\":\"x\",\"y\":[0.08131989096590324,0.13296979187659286,0.13296979187659286,0.11053849865600374],\"yaxis\":\"y\",\"type\":\"scatter\"},{\"hoverinfo\":\"text\",\"marker\":{\"color\":\"rgb(133,20,75)\"},\"mode\":\"lines\",\"x\":[3329.84375,3329.84375,3500.9375,3500.9375],\"xaxis\":\"x\",\"y\":[0.12350486481111385,0.15670265914221848,0.15670265914221848,0.13296979187659286],\"yaxis\":\"y\",\"type\":\"scatter\"},{\"hoverinfo\":\"text\",\"marker\":{\"color\":\"rgb(133,20,75)\"},\"mode\":\"lines\",\"x\":[3180.625,3180.625,3415.390625,3415.390625],\"xaxis\":\"x\",\"y\":[0.1462820871710155,0.1759767621117148,0.1759767621117148,0.15670265914221848],\"yaxis\":\"y\",\"type\":\"scatter\"},{\"hoverinfo\":\"text\",\"marker\":{\"color\":\"rgb(133,20,75)\"},\"mode\":\"lines\",\"x\":[3585.0,3585.0,3595.0,3595.0],\"xaxis\":\"x\",\"y\":[0.0,0.04028856475470823,0.04028856475470823,0.0],\"yaxis\":\"y\",\"type\":\"scatter\"},{\"hoverinfo\":\"text\",\"marker\":{\"color\":\"rgb(133,20,75)\"},\"mode\":\"lines\",\"x\":[3605.0,3605.0,3615.0,3615.0],\"xaxis\":\"x\",\"y\":[0.0,0.05444427306776434,0.05444427306776434,0.0],\"yaxis\":\"y\",\"type\":\"scatter\"},{\"hoverinfo\":\"text\",\"marker\":{\"color\":\"rgb(133,20,75)\"},\"mode\":\"lines\",\"x\":[3590.0,3590.0,3610.0,3610.0],\"xaxis\":\"x\",\"y\":[0.04028856475470823,0.08663643591004873,0.08663643591004873,0.05444427306776434],\"yaxis\":\"y\",\"type\":\"scatter\"},{\"hoverinfo\":\"text\",\"marker\":{\"color\":\"rgb(133,20,75)\"},\"mode\":\"lines\",\"x\":[3625.0,3625.0,3635.0,3635.0],\"xaxis\":\"x\",\"y\":[0.0,0.022809015329036685,0.022809015329036685,0.0],\"yaxis\":\"y\",\"type\":\"scatter\"},{\"hoverinfo\":\"text\",\"marker\":{\"color\":\"rgb(133,20,75)\"},\"mode\":\"lines\",\"x\":[3645.0,3645.0,3655.0,3655.0],\"xaxis\":\"x\",\"y\":[0.0,0.051746531159907315,0.051746531159907315,0.0],\"yaxis\":\"y\",\"type\":\"scatter\"},{\"hoverinfo\":\"text\",\"marker\":{\"color\":\"rgb(133,20,75)\"},\"mode\":\"lines\",\"x\":[3630.0,3630.0,3650.0,3650.0],\"xaxis\":\"x\",\"y\":[0.022809015329036685,0.08985101560125225,0.08985101560125225,0.051746531159907315],\"yaxis\":\"y\",\"type\":\"scatter\"},{\"hoverinfo\":\"text\",\"marker\":{\"color\":\"rgb(133,20,75)\"},\"mode\":\"lines\",\"x\":[3600.0,3600.0,3640.0,3640.0],\"xaxis\":\"x\",\"y\":[0.08663643591004873,0.11841582518633911,0.11841582518633911,0.08985101560125225],\"yaxis\":\"y\",\"type\":\"scatter\"},{\"hoverinfo\":\"text\",\"marker\":{\"color\":\"rgb(133,20,75)\"},\"mode\":\"lines\",\"x\":[3675.0,3675.0,3685.0,3685.0],\"xaxis\":\"x\",\"y\":[0.0,0.05288621515344356,0.05288621515344356,0.0],\"yaxis\":\"y\",\"type\":\"scatter\"},{\"hoverinfo\":\"text\",\"marker\":{\"color\":\"rgb(133,20,75)\"},\"mode\":\"lines\",\"x\":[3665.0,3665.0,3680.0,3680.0],\"xaxis\":\"x\",\"y\":[0.0,0.07679693266297626,0.07679693266297626,0.05288621515344356],\"yaxis\":\"y\",\"type\":\"scatter\"},{\"hoverinfo\":\"text\",\"marker\":{\"color\":\"rgb(133,20,75)\"},\"mode\":\"lines\",\"x\":[3695.0,3695.0,3705.0,3705.0],\"xaxis\":\"x\",\"y\":[0.0,0.04030292335237414,0.04030292335237414,0.0],\"yaxis\":\"y\",\"type\":\"scatter\"},{\"hoverinfo\":\"text\",\"marker\":{\"color\":\"rgb(133,20,75)\"},\"mode\":\"lines\",\"x\":[3715.0,3715.0,3725.0,3725.0],\"xaxis\":\"x\",\"y\":[0.0,0.05111451435646057,0.05111451435646057,0.0],\"yaxis\":\"y\",\"type\":\"scatter\"},{\"hoverinfo\":\"text\",\"marker\":{\"color\":\"rgb(133,20,75)\"},\"mode\":\"lines\",\"x\":[3700.0,3700.0,3720.0,3720.0],\"xaxis\":\"x\",\"y\":[0.04030292335237414,0.07453041082970699,0.07453041082970699,0.05111451435646057],\"yaxis\":\"y\",\"type\":\"scatter\"},{\"hoverinfo\":\"text\",\"marker\":{\"color\":\"rgb(133,20,75)\"},\"mode\":\"lines\",\"x\":[3735.0,3735.0,3745.0,3745.0],\"xaxis\":\"x\",\"y\":[0.0,0.054863072637747375,0.054863072637747375,0.0],\"yaxis\":\"y\",\"type\":\"scatter\"},{\"hoverinfo\":\"text\",\"marker\":{\"color\":\"rgb(133,20,75)\"},\"mode\":\"lines\",\"x\":[3765.0,3765.0,3775.0,3775.0],\"xaxis\":\"x\",\"y\":[0.0,0.036434987020590184,0.036434987020590184,0.0],\"yaxis\":\"y\",\"type\":\"scatter\"},{\"hoverinfo\":\"text\",\"marker\":{\"color\":\"rgb(133,20,75)\"},\"mode\":\"lines\",\"x\":[3755.0,3755.0,3770.0,3770.0],\"xaxis\":\"x\",\"y\":[0.0,0.060307290093085275,0.060307290093085275,0.036434987020590184],\"yaxis\":\"y\",\"type\":\"scatter\"},{\"hoverinfo\":\"text\",\"marker\":{\"color\":\"rgb(133,20,75)\"},\"mode\":\"lines\",\"x\":[3740.0,3740.0,3762.5,3762.5],\"xaxis\":\"x\",\"y\":[0.054863072637747375,0.09325304575606243,0.09325304575606243,0.060307290093085275],\"yaxis\":\"y\",\"type\":\"scatter\"},{\"hoverinfo\":\"text\",\"marker\":{\"color\":\"rgb(133,20,75)\"},\"mode\":\"lines\",\"x\":[3710.0,3710.0,3751.25,3751.25],\"xaxis\":\"x\",\"y\":[0.07453041082970699,0.11427498419237428,0.11427498419237428,0.09325304575606243],\"yaxis\":\"y\",\"type\":\"scatter\"},{\"hoverinfo\":\"text\",\"marker\":{\"color\":\"rgb(133,20,75)\"},\"mode\":\"lines\",\"x\":[3672.5,3672.5,3730.625,3730.625],\"xaxis\":\"x\",\"y\":[0.07679693266297626,0.1553166182822459,0.1553166182822459,0.11427498419237428],\"yaxis\":\"y\",\"type\":\"scatter\"},{\"hoverinfo\":\"text\",\"marker\":{\"color\":\"rgb(133,20,75)\"},\"mode\":\"lines\",\"x\":[3620.0,3620.0,3701.5625,3701.5625],\"xaxis\":\"x\",\"y\":[0.11841582518633911,0.2010630981473478,0.2010630981473478,0.1553166182822459],\"yaxis\":\"y\",\"type\":\"scatter\"},{\"hoverinfo\":\"text\",\"marker\":{\"color\":\"rgb(133,20,75)\"},\"mode\":\"lines\",\"x\":[3298.0078125,3298.0078125,3660.78125,3660.78125],\"xaxis\":\"x\",\"y\":[0.1759767621117148,0.23968867566004215,0.23968867566004215,0.2010630981473478],\"yaxis\":\"y\",\"type\":\"scatter\"},{\"hoverinfo\":\"text\",\"marker\":{\"color\":\"rgb(133,20,75)\"},\"mode\":\"lines\",\"x\":[3805.0,3805.0,3815.0,3815.0],\"xaxis\":\"x\",\"y\":[0.0,0.06924481061567177,0.06924481061567177,0.0],\"yaxis\":\"y\",\"type\":\"scatter\"},{\"hoverinfo\":\"text\",\"marker\":{\"color\":\"rgb(133,20,75)\"},\"mode\":\"lines\",\"x\":[3795.0,3795.0,3810.0,3810.0],\"xaxis\":\"x\",\"y\":[0.0,0.0986052195018458,0.0986052195018458,0.06924481061567177],\"yaxis\":\"y\",\"type\":\"scatter\"},{\"hoverinfo\":\"text\",\"marker\":{\"color\":\"rgb(133,20,75)\"},\"mode\":\"lines\",\"x\":[3785.0,3785.0,3802.5,3802.5],\"xaxis\":\"x\",\"y\":[0.0,0.10189226328087103,0.10189226328087103,0.0986052195018458],\"yaxis\":\"y\",\"type\":\"scatter\"},{\"hoverinfo\":\"text\",\"marker\":{\"color\":\"rgb(133,20,75)\"},\"mode\":\"lines\",\"x\":[3835.0,3835.0,3845.0,3845.0],\"xaxis\":\"x\",\"y\":[0.0,0.024642291698602322,0.024642291698602322,0.0],\"yaxis\":\"y\",\"type\":\"scatter\"},{\"hoverinfo\":\"text\",\"marker\":{\"color\":\"rgb(133,20,75)\"},\"mode\":\"lines\",\"x\":[3825.0,3825.0,3840.0,3840.0],\"xaxis\":\"x\",\"y\":[0.0,0.0490981824971884,0.0490981824971884,0.024642291698602322],\"yaxis\":\"y\",\"type\":\"scatter\"},{\"hoverinfo\":\"text\",\"marker\":{\"color\":\"rgb(133,20,75)\"},\"mode\":\"lines\",\"x\":[3865.0,3865.0,3875.0,3875.0],\"xaxis\":\"x\",\"y\":[0.0,0.029738031498513496,0.029738031498513496,0.0],\"yaxis\":\"y\",\"type\":\"scatter\"},{\"hoverinfo\":\"text\",\"marker\":{\"color\":\"rgb(133,20,75)\"},\"mode\":\"lines\",\"x\":[3855.0,3855.0,3870.0,3870.0],\"xaxis\":\"x\",\"y\":[0.0,0.05355908711171857,0.05355908711171857,0.029738031498513496],\"yaxis\":\"y\",\"type\":\"scatter\"},{\"hoverinfo\":\"text\",\"marker\":{\"color\":\"rgb(133,20,75)\"},\"mode\":\"lines\",\"x\":[3832.5,3832.5,3862.5,3862.5],\"xaxis\":\"x\",\"y\":[0.0490981824971884,0.10966698339277224,0.10966698339277224,0.05355908711171857],\"yaxis\":\"y\",\"type\":\"scatter\"},{\"hoverinfo\":\"text\",\"marker\":{\"color\":\"rgb(133,20,75)\"},\"mode\":\"lines\",\"x\":[3793.75,3793.75,3847.5,3847.5],\"xaxis\":\"x\",\"y\":[0.10189226328087103,0.16480259327330785,0.16480259327330785,0.10966698339277224],\"yaxis\":\"y\",\"type\":\"scatter\"},{\"hoverinfo\":\"text\",\"marker\":{\"color\":\"rgb(133,20,75)\"},\"mode\":\"lines\",\"x\":[3885.0,3885.0,3895.0,3895.0],\"xaxis\":\"x\",\"y\":[0.0,0.05522966771213958,0.05522966771213958,0.0],\"yaxis\":\"y\",\"type\":\"scatter\"},{\"hoverinfo\":\"text\",\"marker\":{\"color\":\"rgb(133,20,75)\"},\"mode\":\"lines\",\"x\":[3905.0,3905.0,3915.0,3915.0],\"xaxis\":\"x\",\"y\":[0.0,0.06615907371390951,0.06615907371390951,0.0],\"yaxis\":\"y\",\"type\":\"scatter\"},{\"hoverinfo\":\"text\",\"marker\":{\"color\":\"rgb(133,20,75)\"},\"mode\":\"lines\",\"x\":[3935.0,3935.0,3945.0,3945.0],\"xaxis\":\"x\",\"y\":[0.0,0.0496900096640047,0.0496900096640047,0.0],\"yaxis\":\"y\",\"type\":\"scatter\"},{\"hoverinfo\":\"text\",\"marker\":{\"color\":\"rgb(133,20,75)\"},\"mode\":\"lines\",\"x\":[3925.0,3925.0,3940.0,3940.0],\"xaxis\":\"x\",\"y\":[0.0,0.07848686854874082,0.07848686854874082,0.0496900096640047],\"yaxis\":\"y\",\"type\":\"scatter\"},{\"hoverinfo\":\"text\",\"marker\":{\"color\":\"rgb(133,20,75)\"},\"mode\":\"lines\",\"x\":[3910.0,3910.0,3932.5,3932.5],\"xaxis\":\"x\",\"y\":[0.06615907371390951,0.0886511189441191,0.0886511189441191,0.07848686854874082],\"yaxis\":\"y\",\"type\":\"scatter\"},{\"hoverinfo\":\"text\",\"marker\":{\"color\":\"rgb(133,20,75)\"},\"mode\":\"lines\",\"x\":[3890.0,3890.0,3921.25,3921.25],\"xaxis\":\"x\",\"y\":[0.05522966771213958,0.11089058883272615,0.11089058883272615,0.0886511189441191],\"yaxis\":\"y\",\"type\":\"scatter\"},{\"hoverinfo\":\"text\",\"marker\":{\"color\":\"rgb(133,20,75)\"},\"mode\":\"lines\",\"x\":[3955.0,3955.0,3965.0,3965.0],\"xaxis\":\"x\",\"y\":[0.0,0.06487019704472424,0.06487019704472424,0.0],\"yaxis\":\"y\",\"type\":\"scatter\"},{\"hoverinfo\":\"text\",\"marker\":{\"color\":\"rgb(133,20,75)\"},\"mode\":\"lines\",\"x\":[3985.0,3985.0,3995.0,3995.0],\"xaxis\":\"x\",\"y\":[0.0,0.03377321160081952,0.03377321160081952,0.0],\"yaxis\":\"y\",\"type\":\"scatter\"},{\"hoverinfo\":\"text\",\"marker\":{\"color\":\"rgb(133,20,75)\"},\"mode\":\"lines\",\"x\":[3975.0,3975.0,3990.0,3990.0],\"xaxis\":\"x\",\"y\":[0.0,0.06710849664585444,0.06710849664585444,0.03377321160081952],\"yaxis\":\"y\",\"type\":\"scatter\"},{\"hoverinfo\":\"text\",\"marker\":{\"color\":\"rgb(133,20,75)\"},\"mode\":\"lines\",\"x\":[3960.0,3960.0,3982.5,3982.5],\"xaxis\":\"x\",\"y\":[0.06487019704472424,0.09149372362144827,0.09149372362144827,0.06710849664585444],\"yaxis\":\"y\",\"type\":\"scatter\"},{\"hoverinfo\":\"text\",\"marker\":{\"color\":\"rgb(133,20,75)\"},\"mode\":\"lines\",\"x\":[4005.0,4005.0,4015.0,4015.0],\"xaxis\":\"x\",\"y\":[0.0,0.02791852976303928,0.02791852976303928,0.0],\"yaxis\":\"y\",\"type\":\"scatter\"},{\"hoverinfo\":\"text\",\"marker\":{\"color\":\"rgb(133,20,75)\"},\"mode\":\"lines\",\"x\":[4035.0,4035.0,4045.0,4045.0],\"xaxis\":\"x\",\"y\":[0.0,0.017954745687900644,0.017954745687900644,0.0],\"yaxis\":\"y\",\"type\":\"scatter\"},{\"hoverinfo\":\"text\",\"marker\":{\"color\":\"rgb(133,20,75)\"},\"mode\":\"lines\",\"x\":[4025.0,4025.0,4040.0,4040.0],\"xaxis\":\"x\",\"y\":[0.0,0.04167009708780413,0.04167009708780413,0.017954745687900644],\"yaxis\":\"y\",\"type\":\"scatter\"},{\"hoverinfo\":\"text\",\"marker\":{\"color\":\"rgb(133,20,75)\"},\"mode\":\"lines\",\"x\":[4010.0,4010.0,4032.5,4032.5],\"xaxis\":\"x\",\"y\":[0.02791852976303928,0.04900430892782929,0.04900430892782929,0.04167009708780413],\"yaxis\":\"y\",\"type\":\"scatter\"},{\"hoverinfo\":\"text\",\"marker\":{\"color\":\"rgb(133,20,75)\"},\"mode\":\"lines\",\"x\":[4065.0,4065.0,4075.0,4075.0],\"xaxis\":\"x\",\"y\":[0.0,0.04100671584478586,0.04100671584478586,0.0],\"yaxis\":\"y\",\"type\":\"scatter\"},{\"hoverinfo\":\"text\",\"marker\":{\"color\":\"rgb(133,20,75)\"},\"mode\":\"lines\",\"x\":[4055.0,4055.0,4070.0,4070.0],\"xaxis\":\"x\",\"y\":[0.0,0.06343389366616793,0.06343389366616793,0.04100671584478586],\"yaxis\":\"y\",\"type\":\"scatter\"},{\"hoverinfo\":\"text\",\"marker\":{\"color\":\"rgb(133,20,75)\"},\"mode\":\"lines\",\"x\":[4021.25,4021.25,4062.5,4062.5],\"xaxis\":\"x\",\"y\":[0.04900430892782929,0.09681811165940374,0.09681811165940374,0.06343389366616793],\"yaxis\":\"y\",\"type\":\"scatter\"},{\"hoverinfo\":\"text\",\"marker\":{\"color\":\"rgb(133,20,75)\"},\"mode\":\"lines\",\"x\":[3971.25,3971.25,4041.875,4041.875],\"xaxis\":\"x\",\"y\":[0.09149372362144827,0.1486474997223408,0.1486474997223408,0.09681811165940374],\"yaxis\":\"y\",\"type\":\"scatter\"},{\"hoverinfo\":\"text\",\"marker\":{\"color\":\"rgb(133,20,75)\"},\"mode\":\"lines\",\"x\":[3905.625,3905.625,4006.5625,4006.5625],\"xaxis\":\"x\",\"y\":[0.11089058883272615,0.1690309455457857,0.1690309455457857,0.1486474997223408],\"yaxis\":\"y\",\"type\":\"scatter\"},{\"hoverinfo\":\"text\",\"marker\":{\"color\":\"rgb(133,20,75)\"},\"mode\":\"lines\",\"x\":[4095.0,4095.0,4105.0,4105.0],\"xaxis\":\"x\",\"y\":[0.0,0.034507847923718284,0.034507847923718284,0.0],\"yaxis\":\"y\",\"type\":\"scatter\"},{\"hoverinfo\":\"text\",\"marker\":{\"color\":\"rgb(133,20,75)\"},\"mode\":\"lines\",\"x\":[4085.0,4085.0,4100.0,4100.0],\"xaxis\":\"x\",\"y\":[0.0,0.05147844399442472,0.05147844399442472,0.034507847923718284],\"yaxis\":\"y\",\"type\":\"scatter\"},{\"hoverinfo\":\"text\",\"marker\":{\"color\":\"rgb(133,20,75)\"},\"mode\":\"lines\",\"x\":[4125.0,4125.0,4135.0,4135.0],\"xaxis\":\"x\",\"y\":[0.0,0.03905829823340096,0.03905829823340096,0.0],\"yaxis\":\"y\",\"type\":\"scatter\"},{\"hoverinfo\":\"text\",\"marker\":{\"color\":\"rgb(133,20,75)\"},\"mode\":\"lines\",\"x\":[4115.0,4115.0,4130.0,4130.0],\"xaxis\":\"x\",\"y\":[0.0,0.05351193484063017,0.05351193484063017,0.03905829823340096],\"yaxis\":\"y\",\"type\":\"scatter\"},{\"hoverinfo\":\"text\",\"marker\":{\"color\":\"rgb(133,20,75)\"},\"mode\":\"lines\",\"x\":[4092.5,4092.5,4122.5,4122.5],\"xaxis\":\"x\",\"y\":[0.05147844399442472,0.0930730131896616,0.0930730131896616,0.05351193484063017],\"yaxis\":\"y\",\"type\":\"scatter\"},{\"hoverinfo\":\"text\",\"marker\":{\"color\":\"rgb(133,20,75)\"},\"mode\":\"lines\",\"x\":[4145.0,4145.0,4155.0,4155.0],\"xaxis\":\"x\",\"y\":[0.0,0.04216167725671791,0.04216167725671791,0.0],\"yaxis\":\"y\",\"type\":\"scatter\"},{\"hoverinfo\":\"text\",\"marker\":{\"color\":\"rgb(133,20,75)\"},\"mode\":\"lines\",\"x\":[4165.0,4165.0,4175.0,4175.0],\"xaxis\":\"x\",\"y\":[0.0,0.03052513156779177,0.03052513156779177,0.0],\"yaxis\":\"y\",\"type\":\"scatter\"},{\"hoverinfo\":\"text\",\"marker\":{\"color\":\"rgb(133,20,75)\"},\"mode\":\"lines\",\"x\":[4205.0,4205.0,4215.0,4215.0],\"xaxis\":\"x\",\"y\":[0.0,0.023837535524869703,0.023837535524869703,0.0],\"yaxis\":\"y\",\"type\":\"scatter\"},{\"hoverinfo\":\"text\",\"marker\":{\"color\":\"rgb(133,20,75)\"},\"mode\":\"lines\",\"x\":[4195.0,4195.0,4210.0,4210.0],\"xaxis\":\"x\",\"y\":[0.0,0.043084385191546545,0.043084385191546545,0.023837535524869703],\"yaxis\":\"y\",\"type\":\"scatter\"},{\"hoverinfo\":\"text\",\"marker\":{\"color\":\"rgb(133,20,75)\"},\"mode\":\"lines\",\"x\":[4185.0,4185.0,4202.5,4202.5],\"xaxis\":\"x\",\"y\":[0.0,0.06579502029181684,0.06579502029181684,0.043084385191546545],\"yaxis\":\"y\",\"type\":\"scatter\"},{\"hoverinfo\":\"text\",\"marker\":{\"color\":\"rgb(133,20,75)\"},\"mode\":\"lines\",\"x\":[4170.0,4170.0,4193.75,4193.75],\"xaxis\":\"x\",\"y\":[0.03052513156779177,0.07818791089156135,0.07818791089156135,0.06579502029181684],\"yaxis\":\"y\",\"type\":\"scatter\"},{\"hoverinfo\":\"text\",\"marker\":{\"color\":\"rgb(133,20,75)\"},\"mode\":\"lines\",\"x\":[4150.0,4150.0,4181.875,4181.875],\"xaxis\":\"x\",\"y\":[0.04216167725671791,0.10523057179048619,0.10523057179048619,0.07818791089156135],\"yaxis\":\"y\",\"type\":\"scatter\"},{\"hoverinfo\":\"text\",\"marker\":{\"color\":\"rgb(133,20,75)\"},\"mode\":\"lines\",\"x\":[4107.5,4107.5,4165.9375,4165.9375],\"xaxis\":\"x\",\"y\":[0.0930730131896616,0.12715528318999378,0.12715528318999378,0.10523057179048619],\"yaxis\":\"y\",\"type\":\"scatter\"},{\"hoverinfo\":\"text\",\"marker\":{\"color\":\"rgb(133,20,75)\"},\"mode\":\"lines\",\"x\":[4235.0,4235.0,4245.0,4245.0],\"xaxis\":\"x\",\"y\":[0.0,0.05539760853915678,0.05539760853915678,0.0],\"yaxis\":\"y\",\"type\":\"scatter\"},{\"hoverinfo\":\"text\",\"marker\":{\"color\":\"rgb(133,20,75)\"},\"mode\":\"lines\",\"x\":[4225.0,4225.0,4240.0,4240.0],\"xaxis\":\"x\",\"y\":[0.0,0.07777243241567373,0.07777243241567373,0.05539760853915678],\"yaxis\":\"y\",\"type\":\"scatter\"},{\"hoverinfo\":\"text\",\"marker\":{\"color\":\"rgb(133,20,75)\"},\"mode\":\"lines\",\"x\":[4255.0,4255.0,4265.0,4265.0],\"xaxis\":\"x\",\"y\":[0.0,0.05426064602905877,0.05426064602905877,0.0],\"yaxis\":\"y\",\"type\":\"scatter\"},{\"hoverinfo\":\"text\",\"marker\":{\"color\":\"rgb(133,20,75)\"},\"mode\":\"lines\",\"x\":[4295.0,4295.0,4305.0,4305.0],\"xaxis\":\"x\",\"y\":[0.0,0.04991260283904663,0.04991260283904663,0.0],\"yaxis\":\"y\",\"type\":\"scatter\"},{\"hoverinfo\":\"text\",\"marker\":{\"color\":\"rgb(133,20,75)\"},\"mode\":\"lines\",\"x\":[4285.0,4285.0,4300.0,4300.0],\"xaxis\":\"x\",\"y\":[0.0,0.058612431159297526,0.058612431159297526,0.04991260283904663],\"yaxis\":\"y\",\"type\":\"scatter\"},{\"hoverinfo\":\"text\",\"marker\":{\"color\":\"rgb(133,20,75)\"},\"mode\":\"lines\",\"x\":[4275.0,4275.0,4292.5,4292.5],\"xaxis\":\"x\",\"y\":[0.0,0.06563336487066555,0.06563336487066555,0.058612431159297526],\"yaxis\":\"y\",\"type\":\"scatter\"},{\"hoverinfo\":\"text\",\"marker\":{\"color\":\"rgb(133,20,75)\"},\"mode\":\"lines\",\"x\":[4260.0,4260.0,4283.75,4283.75],\"xaxis\":\"x\",\"y\":[0.05426064602905877,0.08828168346538073,0.08828168346538073,0.06563336487066555],\"yaxis\":\"y\",\"type\":\"scatter\"},{\"hoverinfo\":\"text\",\"marker\":{\"color\":\"rgb(133,20,75)\"},\"mode\":\"lines\",\"x\":[4232.5,4232.5,4271.875,4271.875],\"xaxis\":\"x\",\"y\":[0.07777243241567373,0.13391797695443888,0.13391797695443888,0.08828168346538073],\"yaxis\":\"y\",\"type\":\"scatter\"},{\"hoverinfo\":\"text\",\"marker\":{\"color\":\"rgb(133,20,75)\"},\"mode\":\"lines\",\"x\":[4136.71875,4136.71875,4252.1875,4252.1875],\"xaxis\":\"x\",\"y\":[0.12715528318999378,0.1933001387980728,0.1933001387980728,0.13391797695443888],\"yaxis\":\"y\",\"type\":\"scatter\"},{\"hoverinfo\":\"text\",\"marker\":{\"color\":\"rgb(133,20,75)\"},\"mode\":\"lines\",\"x\":[3956.09375,3956.09375,4194.453125,4194.453125],\"xaxis\":\"x\",\"y\":[0.1690309455457857,0.2628172825816437,0.2628172825816437,0.1933001387980728],\"yaxis\":\"y\",\"type\":\"scatter\"},{\"hoverinfo\":\"text\",\"marker\":{\"color\":\"rgb(133,20,75)\"},\"mode\":\"lines\",\"x\":[3820.625,3820.625,4075.2734375,4075.2734375],\"xaxis\":\"x\",\"y\":[0.16480259327330785,0.2779424786146083,0.2779424786146083,0.2628172825816437],\"yaxis\":\"y\",\"type\":\"scatter\"},{\"hoverinfo\":\"text\",\"marker\":{\"color\":\"rgb(133,20,75)\"},\"mode\":\"lines\",\"x\":[3479.39453125,3479.39453125,3947.94921875,3947.94921875],\"xaxis\":\"x\",\"y\":[0.23968867566004215,0.29382403464906126,0.29382403464906126,0.2779424786146083],\"yaxis\":\"y\",\"type\":\"scatter\"},{\"hoverinfo\":\"text\",\"marker\":{\"color\":\"rgb(133,20,75)\"},\"mode\":\"lines\",\"x\":[4325.0,4325.0,4335.0,4335.0],\"xaxis\":\"x\",\"y\":[0.0,0.04039112404277814,0.04039112404277814,0.0],\"yaxis\":\"y\",\"type\":\"scatter\"},{\"hoverinfo\":\"text\",\"marker\":{\"color\":\"rgb(133,20,75)\"},\"mode\":\"lines\",\"x\":[4345.0,4345.0,4355.0,4355.0],\"xaxis\":\"x\",\"y\":[0.0,0.04743606423282445,0.04743606423282445,0.0],\"yaxis\":\"y\",\"type\":\"scatter\"},{\"hoverinfo\":\"text\",\"marker\":{\"color\":\"rgb(133,20,75)\"},\"mode\":\"lines\",\"x\":[4330.0,4330.0,4350.0,4350.0],\"xaxis\":\"x\",\"y\":[0.04039112404277814,0.09268774835926628,0.09268774835926628,0.04743606423282445],\"yaxis\":\"y\",\"type\":\"scatter\"},{\"hoverinfo\":\"text\",\"marker\":{\"color\":\"rgb(133,20,75)\"},\"mode\":\"lines\",\"x\":[4385.0,4385.0,4395.0,4395.0],\"xaxis\":\"x\",\"y\":[0.0,0.042736196664054094,0.042736196664054094,0.0],\"yaxis\":\"y\",\"type\":\"scatter\"},{\"hoverinfo\":\"text\",\"marker\":{\"color\":\"rgb(133,20,75)\"},\"mode\":\"lines\",\"x\":[4375.0,4375.0,4390.0,4390.0],\"xaxis\":\"x\",\"y\":[0.0,0.06893349143301887,0.06893349143301887,0.042736196664054094],\"yaxis\":\"y\",\"type\":\"scatter\"},{\"hoverinfo\":\"text\",\"marker\":{\"color\":\"rgb(133,20,75)\"},\"mode\":\"lines\",\"x\":[4365.0,4365.0,4382.5,4382.5],\"xaxis\":\"x\",\"y\":[0.0,0.11289891679073771,0.11289891679073771,0.06893349143301887],\"yaxis\":\"y\",\"type\":\"scatter\"},{\"hoverinfo\":\"text\",\"marker\":{\"color\":\"rgb(133,20,75)\"},\"mode\":\"lines\",\"x\":[4340.0,4340.0,4373.75,4373.75],\"xaxis\":\"x\",\"y\":[0.09268774835926628,0.15954485279971825,0.15954485279971825,0.11289891679073771],\"yaxis\":\"y\",\"type\":\"scatter\"},{\"hoverinfo\":\"text\",\"marker\":{\"color\":\"rgb(133,20,75)\"},\"mode\":\"lines\",\"x\":[4315.0,4315.0,4356.875,4356.875],\"xaxis\":\"x\",\"y\":[0.0,0.2270169206109126,0.2270169206109126,0.15954485279971825],\"yaxis\":\"y\",\"type\":\"scatter\"},{\"hoverinfo\":\"text\",\"marker\":{\"color\":\"rgb(133,20,75)\"},\"mode\":\"lines\",\"x\":[4425.0,4425.0,4435.0,4435.0],\"xaxis\":\"x\",\"y\":[0.0,0.02543527962276616,0.02543527962276616,0.0],\"yaxis\":\"y\",\"type\":\"scatter\"},{\"hoverinfo\":\"text\",\"marker\":{\"color\":\"rgb(133,20,75)\"},\"mode\":\"lines\",\"x\":[4415.0,4415.0,4430.0,4430.0],\"xaxis\":\"x\",\"y\":[0.0,0.050189175741264455,0.050189175741264455,0.02543527962276616],\"yaxis\":\"y\",\"type\":\"scatter\"},{\"hoverinfo\":\"text\",\"marker\":{\"color\":\"rgb(133,20,75)\"},\"mode\":\"lines\",\"x\":[4445.0,4445.0,4455.0,4455.0],\"xaxis\":\"x\",\"y\":[0.0,0.07916045100788717,0.07916045100788717,0.0],\"yaxis\":\"y\",\"type\":\"scatter\"},{\"hoverinfo\":\"text\",\"marker\":{\"color\":\"rgb(133,20,75)\"},\"mode\":\"lines\",\"x\":[4422.5,4422.5,4450.0,4450.0],\"xaxis\":\"x\",\"y\":[0.050189175741264455,0.11345708234762764,0.11345708234762764,0.07916045100788717],\"yaxis\":\"y\",\"type\":\"scatter\"},{\"hoverinfo\":\"text\",\"marker\":{\"color\":\"rgb(133,20,75)\"},\"mode\":\"lines\",\"x\":[4405.0,4405.0,4436.25,4436.25],\"xaxis\":\"x\",\"y\":[0.0,0.18634540683996298,0.18634540683996298,0.11345708234762764],\"yaxis\":\"y\",\"type\":\"scatter\"},{\"hoverinfo\":\"text\",\"marker\":{\"color\":\"rgb(133,20,75)\"},\"mode\":\"lines\",\"x\":[4475.0,4475.0,4485.0,4485.0],\"xaxis\":\"x\",\"y\":[0.0,0.024531314215313262,0.024531314215313262,0.0],\"yaxis\":\"y\",\"type\":\"scatter\"},{\"hoverinfo\":\"text\",\"marker\":{\"color\":\"rgb(133,20,75)\"},\"mode\":\"lines\",\"x\":[4465.0,4465.0,4480.0,4480.0],\"xaxis\":\"x\",\"y\":[0.0,0.04212276341355457,0.04212276341355457,0.024531314215313262],\"yaxis\":\"y\",\"type\":\"scatter\"},{\"hoverinfo\":\"text\",\"marker\":{\"color\":\"rgb(133,20,75)\"},\"mode\":\"lines\",\"x\":[4495.0,4495.0,4505.0,4505.0],\"xaxis\":\"x\",\"y\":[0.0,0.04242100857710571,0.04242100857710571,0.0],\"yaxis\":\"y\",\"type\":\"scatter\"},{\"hoverinfo\":\"text\",\"marker\":{\"color\":\"rgb(133,20,75)\"},\"mode\":\"lines\",\"x\":[4472.5,4472.5,4500.0,4500.0],\"xaxis\":\"x\",\"y\":[0.04212276341355457,0.06507965390289751,0.06507965390289751,0.04242100857710571],\"yaxis\":\"y\",\"type\":\"scatter\"},{\"hoverinfo\":\"text\",\"marker\":{\"color\":\"rgb(133,20,75)\"},\"mode\":\"lines\",\"x\":[4515.0,4515.0,4525.0,4525.0],\"xaxis\":\"x\",\"y\":[0.0,0.07079788778314218,0.07079788778314218,0.0],\"yaxis\":\"y\",\"type\":\"scatter\"},{\"hoverinfo\":\"text\",\"marker\":{\"color\":\"rgb(133,20,75)\"},\"mode\":\"lines\",\"x\":[4486.25,4486.25,4520.0,4520.0],\"xaxis\":\"x\",\"y\":[0.06507965390289751,0.09513685348734562,0.09513685348734562,0.07079788778314218],\"yaxis\":\"y\",\"type\":\"scatter\"},{\"hoverinfo\":\"text\",\"marker\":{\"color\":\"rgb(133,20,75)\"},\"mode\":\"lines\",\"x\":[4545.0,4545.0,4555.0,4555.0],\"xaxis\":\"x\",\"y\":[0.0,0.055054532710688026,0.055054532710688026,0.0],\"yaxis\":\"y\",\"type\":\"scatter\"},{\"hoverinfo\":\"text\",\"marker\":{\"color\":\"rgb(133,20,75)\"},\"mode\":\"lines\",\"x\":[4535.0,4535.0,4550.0,4550.0],\"xaxis\":\"x\",\"y\":[0.0,0.12313617577656494,0.12313617577656494,0.055054532710688026],\"yaxis\":\"y\",\"type\":\"scatter\"},{\"hoverinfo\":\"text\",\"marker\":{\"color\":\"rgb(133,20,75)\"},\"mode\":\"lines\",\"x\":[4503.125,4503.125,4542.5,4542.5],\"xaxis\":\"x\",\"y\":[0.09513685348734562,0.14968478624083242,0.14968478624083242,0.12313617577656494],\"yaxis\":\"y\",\"type\":\"scatter\"},{\"hoverinfo\":\"text\",\"marker\":{\"color\":\"rgb(133,20,75)\"},\"mode\":\"lines\",\"x\":[4565.0,4565.0,4575.0,4575.0],\"xaxis\":\"x\",\"y\":[0.0,0.044467098571295036,0.044467098571295036,0.0],\"yaxis\":\"y\",\"type\":\"scatter\"},{\"hoverinfo\":\"text\",\"marker\":{\"color\":\"rgb(133,20,75)\"},\"mode\":\"lines\",\"x\":[4585.0,4585.0,4595.0,4595.0],\"xaxis\":\"x\",\"y\":[0.0,0.056721193785370744,0.056721193785370744,0.0],\"yaxis\":\"y\",\"type\":\"scatter\"},{\"hoverinfo\":\"text\",\"marker\":{\"color\":\"rgb(133,20,75)\"},\"mode\":\"lines\",\"x\":[4570.0,4570.0,4590.0,4590.0],\"xaxis\":\"x\",\"y\":[0.044467098571295036,0.08724083740739068,0.08724083740739068,0.056721193785370744],\"yaxis\":\"y\",\"type\":\"scatter\"},{\"hoverinfo\":\"text\",\"marker\":{\"color\":\"rgb(133,20,75)\"},\"mode\":\"lines\",\"x\":[4615.0,4615.0,4625.0,4625.0],\"xaxis\":\"x\",\"y\":[0.0,0.052623599274949466,0.052623599274949466,0.0],\"yaxis\":\"y\",\"type\":\"scatter\"},{\"hoverinfo\":\"text\",\"marker\":{\"color\":\"rgb(133,20,75)\"},\"mode\":\"lines\",\"x\":[4655.0,4655.0,4665.0,4665.0],\"xaxis\":\"x\",\"y\":[0.0,0.034432278404977736,0.034432278404977736,0.0],\"yaxis\":\"y\",\"type\":\"scatter\"},{\"hoverinfo\":\"text\",\"marker\":{\"color\":\"rgb(133,20,75)\"},\"mode\":\"lines\",\"x\":[4645.0,4645.0,4660.0,4660.0],\"xaxis\":\"x\",\"y\":[0.0,0.051741286384588275,0.051741286384588275,0.034432278404977736],\"yaxis\":\"y\",\"type\":\"scatter\"},{\"hoverinfo\":\"text\",\"marker\":{\"color\":\"rgb(133,20,75)\"},\"mode\":\"lines\",\"x\":[4635.0,4635.0,4652.5,4652.5],\"xaxis\":\"x\",\"y\":[0.0,0.058701106173582235,0.058701106173582235,0.051741286384588275],\"yaxis\":\"y\",\"type\":\"scatter\"},{\"hoverinfo\":\"text\",\"marker\":{\"color\":\"rgb(133,20,75)\"},\"mode\":\"lines\",\"x\":[4620.0,4620.0,4643.75,4643.75],\"xaxis\":\"x\",\"y\":[0.052623599274949466,0.07572949496086097,0.07572949496086097,0.058701106173582235],\"yaxis\":\"y\",\"type\":\"scatter\"},{\"hoverinfo\":\"text\",\"marker\":{\"color\":\"rgb(133,20,75)\"},\"mode\":\"lines\",\"x\":[4605.0,4605.0,4631.875,4631.875],\"xaxis\":\"x\",\"y\":[0.0,0.10581041362635389,0.10581041362635389,0.07572949496086097],\"yaxis\":\"y\",\"type\":\"scatter\"},{\"hoverinfo\":\"text\",\"marker\":{\"color\":\"rgb(133,20,75)\"},\"mode\":\"lines\",\"x\":[4580.0,4580.0,4618.4375,4618.4375],\"xaxis\":\"x\",\"y\":[0.08724083740739068,0.13310903959375361,0.13310903959375361,0.10581041362635389],\"yaxis\":\"y\",\"type\":\"scatter\"},{\"hoverinfo\":\"text\",\"marker\":{\"color\":\"rgb(133,20,75)\"},\"mode\":\"lines\",\"x\":[4675.0,4675.0,4685.0,4685.0],\"xaxis\":\"x\",\"y\":[0.0,0.04778280895941214,0.04778280895941214,0.0],\"yaxis\":\"y\",\"type\":\"scatter\"},{\"hoverinfo\":\"text\",\"marker\":{\"color\":\"rgb(133,20,75)\"},\"mode\":\"lines\",\"x\":[4705.0,4705.0,4715.0,4715.0],\"xaxis\":\"x\",\"y\":[0.0,0.03542673412462689,0.03542673412462689,0.0],\"yaxis\":\"y\",\"type\":\"scatter\"},{\"hoverinfo\":\"text\",\"marker\":{\"color\":\"rgb(133,20,75)\"},\"mode\":\"lines\",\"x\":[4735.0,4735.0,4745.0,4745.0],\"xaxis\":\"x\",\"y\":[0.0,0.030102170462417397,0.030102170462417397,0.0],\"yaxis\":\"y\",\"type\":\"scatter\"},{\"hoverinfo\":\"text\",\"marker\":{\"color\":\"rgb(133,20,75)\"},\"mode\":\"lines\",\"x\":[4725.0,4725.0,4740.0,4740.0],\"xaxis\":\"x\",\"y\":[0.0,0.04140236808245863,0.04140236808245863,0.030102170462417397],\"yaxis\":\"y\",\"type\":\"scatter\"},{\"hoverinfo\":\"text\",\"marker\":{\"color\":\"rgb(133,20,75)\"},\"mode\":\"lines\",\"x\":[4710.0,4710.0,4732.5,4732.5],\"xaxis\":\"x\",\"y\":[0.03542673412462689,0.0746415647029822,0.0746415647029822,0.04140236808245863],\"yaxis\":\"y\",\"type\":\"scatter\"},{\"hoverinfo\":\"text\",\"marker\":{\"color\":\"rgb(133,20,75)\"},\"mode\":\"lines\",\"x\":[4695.0,4695.0,4721.25,4721.25],\"xaxis\":\"x\",\"y\":[0.0,0.10403355536861769,0.10403355536861769,0.0746415647029822],\"yaxis\":\"y\",\"type\":\"scatter\"},{\"hoverinfo\":\"text\",\"marker\":{\"color\":\"rgb(133,20,75)\"},\"mode\":\"lines\",\"x\":[4680.0,4680.0,4708.125,4708.125],\"xaxis\":\"x\",\"y\":[0.04778280895941214,0.13312730348983906,0.13312730348983906,0.10403355536861769],\"yaxis\":\"y\",\"type\":\"scatter\"},{\"hoverinfo\":\"text\",\"marker\":{\"color\":\"rgb(133,20,75)\"},\"mode\":\"lines\",\"x\":[4599.21875,4599.21875,4694.0625,4694.0625],\"xaxis\":\"x\",\"y\":[0.13310903959375361,0.1702528239021675,0.1702528239021675,0.13312730348983906],\"yaxis\":\"y\",\"type\":\"scatter\"},{\"hoverinfo\":\"text\",\"marker\":{\"color\":\"rgb(133,20,75)\"},\"mode\":\"lines\",\"x\":[4522.8125,4522.8125,4646.640625,4646.640625],\"xaxis\":\"x\",\"y\":[0.14968478624083242,0.22351460382559896,0.22351460382559896,0.1702528239021675],\"yaxis\":\"y\",\"type\":\"scatter\"},{\"hoverinfo\":\"text\",\"marker\":{\"color\":\"rgb(133,20,75)\"},\"mode\":\"lines\",\"x\":[4420.625,4420.625,4584.7265625,4584.7265625],\"xaxis\":\"x\",\"y\":[0.18634540683996298,0.2429716628984343,0.2429716628984343,0.22351460382559896],\"yaxis\":\"y\",\"type\":\"scatter\"},{\"hoverinfo\":\"text\",\"marker\":{\"color\":\"rgb(133,20,75)\"},\"mode\":\"lines\",\"x\":[4335.9375,4335.9375,4502.67578125,4502.67578125],\"xaxis\":\"x\",\"y\":[0.2270169206109126,0.31991133561742824,0.31991133561742824,0.2429716628984343],\"yaxis\":\"y\",\"type\":\"scatter\"},{\"hoverinfo\":\"text\",\"marker\":{\"color\":\"rgb(133,20,75)\"},\"mode\":\"lines\",\"x\":[3713.671875,3713.671875,4419.306640625,4419.306640625],\"xaxis\":\"x\",\"y\":[0.29382403464906126,0.3809812075108759,0.3809812075108759,0.31991133561742824],\"yaxis\":\"y\",\"type\":\"scatter\"},{\"hoverinfo\":\"text\",\"marker\":{\"color\":\"rgb(133,20,75)\"},\"mode\":\"lines\",\"x\":[1455.006103515625,1455.006103515625,4066.4892578125,4066.4892578125],\"xaxis\":\"x\",\"y\":[0.3385040161446434,0.4460362702389032,0.4460362702389032,0.3809812075108759],\"yaxis\":\"y\",\"type\":\"scatter\"},{\"hoverinfo\":\"text\",\"marker\":{\"color\":\"rgb(133,20,75)\"},\"mode\":\"lines\",\"x\":[4755.0,4755.0,4765.0,4765.0],\"xaxis\":\"x\",\"y\":[0.0,0.10513103987509075,0.10513103987509075,0.0],\"yaxis\":\"y\",\"type\":\"scatter\"},{\"hoverinfo\":\"text\",\"marker\":{\"color\":\"rgb(133,20,75)\"},\"mode\":\"lines\",\"x\":[4775.0,4775.0,4785.0,4785.0],\"xaxis\":\"x\",\"y\":[0.0,0.048972456796412045,0.048972456796412045,0.0],\"yaxis\":\"y\",\"type\":\"scatter\"},{\"hoverinfo\":\"text\",\"marker\":{\"color\":\"rgb(133,20,75)\"},\"mode\":\"lines\",\"x\":[4795.0,4795.0,4805.0,4805.0],\"xaxis\":\"x\",\"y\":[0.0,0.04937483804739133,0.04937483804739133,0.0],\"yaxis\":\"y\",\"type\":\"scatter\"},{\"hoverinfo\":\"text\",\"marker\":{\"color\":\"rgb(133,20,75)\"},\"mode\":\"lines\",\"x\":[4780.0,4780.0,4800.0,4800.0],\"xaxis\":\"x\",\"y\":[0.048972456796412045,0.07345819440522275,0.07345819440522275,0.04937483804739133],\"yaxis\":\"y\",\"type\":\"scatter\"},{\"hoverinfo\":\"text\",\"marker\":{\"color\":\"rgb(133,20,75)\"},\"mode\":\"lines\",\"x\":[4825.0,4825.0,4835.0,4835.0],\"xaxis\":\"x\",\"y\":[0.0,0.019479272163827745,0.019479272163827745,0.0],\"yaxis\":\"y\",\"type\":\"scatter\"},{\"hoverinfo\":\"text\",\"marker\":{\"color\":\"rgb(133,20,75)\"},\"mode\":\"lines\",\"x\":[4815.0,4815.0,4830.0,4830.0],\"xaxis\":\"x\",\"y\":[0.0,0.05350494576240056,0.05350494576240056,0.019479272163827745],\"yaxis\":\"y\",\"type\":\"scatter\"},{\"hoverinfo\":\"text\",\"marker\":{\"color\":\"rgb(133,20,75)\"},\"mode\":\"lines\",\"x\":[4855.0,4855.0,4865.0,4865.0],\"xaxis\":\"x\",\"y\":[0.0,0.027075078545989523,0.027075078545989523,0.0],\"yaxis\":\"y\",\"type\":\"scatter\"},{\"hoverinfo\":\"text\",\"marker\":{\"color\":\"rgb(133,20,75)\"},\"mode\":\"lines\",\"x\":[4845.0,4845.0,4860.0,4860.0],\"xaxis\":\"x\",\"y\":[0.0,0.06929529322150577,0.06929529322150577,0.027075078545989523],\"yaxis\":\"y\",\"type\":\"scatter\"},{\"hoverinfo\":\"text\",\"marker\":{\"color\":\"rgb(133,20,75)\"},\"mode\":\"lines\",\"x\":[4822.5,4822.5,4852.5,4852.5],\"xaxis\":\"x\",\"y\":[0.05350494576240056,0.08436431057576958,0.08436431057576958,0.06929529322150577],\"yaxis\":\"y\",\"type\":\"scatter\"},{\"hoverinfo\":\"text\",\"marker\":{\"color\":\"rgb(133,20,75)\"},\"mode\":\"lines\",\"x\":[4790.0,4790.0,4837.5,4837.5],\"xaxis\":\"x\",\"y\":[0.07345819440522275,0.12314039433991439,0.12314039433991439,0.08436431057576958],\"yaxis\":\"y\",\"type\":\"scatter\"},{\"hoverinfo\":\"text\",\"marker\":{\"color\":\"rgb(133,20,75)\"},\"mode\":\"lines\",\"x\":[4875.0,4875.0,4885.0,4885.0],\"xaxis\":\"x\",\"y\":[0.0,0.0588024312139251,0.0588024312139251,0.0],\"yaxis\":\"y\",\"type\":\"scatter\"},{\"hoverinfo\":\"text\",\"marker\":{\"color\":\"rgb(133,20,75)\"},\"mode\":\"lines\",\"x\":[4905.0,4905.0,4915.0,4915.0],\"xaxis\":\"x\",\"y\":[0.0,0.025866935716078954,0.025866935716078954,0.0],\"yaxis\":\"y\",\"type\":\"scatter\"},{\"hoverinfo\":\"text\",\"marker\":{\"color\":\"rgb(133,20,75)\"},\"mode\":\"lines\",\"x\":[4925.0,4925.0,4935.0,4935.0],\"xaxis\":\"x\",\"y\":[0.0,0.03621193383337414,0.03621193383337414,0.0],\"yaxis\":\"y\",\"type\":\"scatter\"},{\"hoverinfo\":\"text\",\"marker\":{\"color\":\"rgb(133,20,75)\"},\"mode\":\"lines\",\"x\":[4910.0,4910.0,4930.0,4930.0],\"xaxis\":\"x\",\"y\":[0.025866935716078954,0.0535196209946214,0.0535196209946214,0.03621193383337414],\"yaxis\":\"y\",\"type\":\"scatter\"},{\"hoverinfo\":\"text\",\"marker\":{\"color\":\"rgb(133,20,75)\"},\"mode\":\"lines\",\"x\":[4895.0,4895.0,4920.0,4920.0],\"xaxis\":\"x\",\"y\":[0.0,0.07402950144103465,0.07402950144103465,0.0535196209946214],\"yaxis\":\"y\",\"type\":\"scatter\"},{\"hoverinfo\":\"text\",\"marker\":{\"color\":\"rgb(133,20,75)\"},\"mode\":\"lines\",\"x\":[4880.0,4880.0,4907.5,4907.5],\"xaxis\":\"x\",\"y\":[0.0588024312139251,0.08294196349832912,0.08294196349832912,0.07402950144103465],\"yaxis\":\"y\",\"type\":\"scatter\"},{\"hoverinfo\":\"text\",\"marker\":{\"color\":\"rgb(133,20,75)\"},\"mode\":\"lines\",\"x\":[4955.0,4955.0,4965.0,4965.0],\"xaxis\":\"x\",\"y\":[0.0,0.050940574896532864,0.050940574896532864,0.0],\"yaxis\":\"y\",\"type\":\"scatter\"},{\"hoverinfo\":\"text\",\"marker\":{\"color\":\"rgb(133,20,75)\"},\"mode\":\"lines\",\"x\":[4945.0,4945.0,4960.0,4960.0],\"xaxis\":\"x\",\"y\":[0.0,0.09804131750286027,0.09804131750286027,0.050940574896532864],\"yaxis\":\"y\",\"type\":\"scatter\"},{\"hoverinfo\":\"text\",\"marker\":{\"color\":\"rgb(133,20,75)\"},\"mode\":\"lines\",\"x\":[4893.75,4893.75,4952.5,4952.5],\"xaxis\":\"x\",\"y\":[0.08294196349832912,0.12649078458061758,0.12649078458061758,0.09804131750286027],\"yaxis\":\"y\",\"type\":\"scatter\"},{\"hoverinfo\":\"text\",\"marker\":{\"color\":\"rgb(133,20,75)\"},\"mode\":\"lines\",\"x\":[4813.75,4813.75,4923.125,4923.125],\"xaxis\":\"x\",\"y\":[0.12314039433991439,0.16359841706978295,0.16359841706978295,0.12649078458061758],\"yaxis\":\"y\",\"type\":\"scatter\"},{\"hoverinfo\":\"text\",\"marker\":{\"color\":\"rgb(133,20,75)\"},\"mode\":\"lines\",\"x\":[4760.0,4760.0,4868.4375,4868.4375],\"xaxis\":\"x\",\"y\":[0.10513103987509075,0.22945553094149787,0.22945553094149787,0.16359841706978295],\"yaxis\":\"y\",\"type\":\"scatter\"},{\"hoverinfo\":\"text\",\"marker\":{\"color\":\"rgb(133,20,75)\"},\"mode\":\"lines\",\"x\":[4975.0,4975.0,4985.0,4985.0],\"xaxis\":\"x\",\"y\":[0.0,0.04469010410257991,0.04469010410257991,0.0],\"yaxis\":\"y\",\"type\":\"scatter\"},{\"hoverinfo\":\"text\",\"marker\":{\"color\":\"rgb(133,20,75)\"},\"mode\":\"lines\",\"x\":[5005.0,5005.0,5015.0,5015.0],\"xaxis\":\"x\",\"y\":[0.0,0.025993195591046292,0.025993195591046292,0.0],\"yaxis\":\"y\",\"type\":\"scatter\"},{\"hoverinfo\":\"text\",\"marker\":{\"color\":\"rgb(133,20,75)\"},\"mode\":\"lines\",\"x\":[4995.0,4995.0,5010.0,5010.0],\"xaxis\":\"x\",\"y\":[0.0,0.046492684062191765,0.046492684062191765,0.025993195591046292],\"yaxis\":\"y\",\"type\":\"scatter\"},{\"hoverinfo\":\"text\",\"marker\":{\"color\":\"rgb(133,20,75)\"},\"mode\":\"lines\",\"x\":[4980.0,4980.0,5002.5,5002.5],\"xaxis\":\"x\",\"y\":[0.04469010410257991,0.07234105028415115,0.07234105028415115,0.046492684062191765],\"yaxis\":\"y\",\"type\":\"scatter\"},{\"hoverinfo\":\"text\",\"marker\":{\"color\":\"rgb(133,20,75)\"},\"mode\":\"lines\",\"x\":[5035.0,5035.0,5045.0,5045.0],\"xaxis\":\"x\",\"y\":[0.0,0.03518135376200034,0.03518135376200034,0.0],\"yaxis\":\"y\",\"type\":\"scatter\"},{\"hoverinfo\":\"text\",\"marker\":{\"color\":\"rgb(133,20,75)\"},\"mode\":\"lines\",\"x\":[5025.0,5025.0,5040.0,5040.0],\"xaxis\":\"x\",\"y\":[0.0,0.05950934243094012,0.05950934243094012,0.03518135376200034],\"yaxis\":\"y\",\"type\":\"scatter\"},{\"hoverinfo\":\"text\",\"marker\":{\"color\":\"rgb(133,20,75)\"},\"mode\":\"lines\",\"x\":[5065.0,5065.0,5075.0,5075.0],\"xaxis\":\"x\",\"y\":[0.0,0.03481363361738689,0.03481363361738689,0.0],\"yaxis\":\"y\",\"type\":\"scatter\"},{\"hoverinfo\":\"text\",\"marker\":{\"color\":\"rgb(133,20,75)\"},\"mode\":\"lines\",\"x\":[5055.0,5055.0,5070.0,5070.0],\"xaxis\":\"x\",\"y\":[0.0,0.05623197251814546,0.05623197251814546,0.03481363361738689],\"yaxis\":\"y\",\"type\":\"scatter\"},{\"hoverinfo\":\"text\",\"marker\":{\"color\":\"rgb(133,20,75)\"},\"mode\":\"lines\",\"x\":[5095.0,5095.0,5105.0,5105.0],\"xaxis\":\"x\",\"y\":[0.0,0.05429983840615783,0.05429983840615783,0.0],\"yaxis\":\"y\",\"type\":\"scatter\"},{\"hoverinfo\":\"text\",\"marker\":{\"color\":\"rgb(133,20,75)\"},\"mode\":\"lines\",\"x\":[5085.0,5085.0,5100.0,5100.0],\"xaxis\":\"x\",\"y\":[0.0,0.07161828325760805,0.07161828325760805,0.05429983840615783],\"yaxis\":\"y\",\"type\":\"scatter\"},{\"hoverinfo\":\"text\",\"marker\":{\"color\":\"rgb(133,20,75)\"},\"mode\":\"lines\",\"x\":[5062.5,5062.5,5092.5,5092.5],\"xaxis\":\"x\",\"y\":[0.05623197251814546,0.0935176281136181,0.0935176281136181,0.07161828325760805],\"yaxis\":\"y\",\"type\":\"scatter\"},{\"hoverinfo\":\"text\",\"marker\":{\"color\":\"rgb(133,20,75)\"},\"mode\":\"lines\",\"x\":[5032.5,5032.5,5077.5,5077.5],\"xaxis\":\"x\",\"y\":[0.05950934243094012,0.11045690968701513,0.11045690968701513,0.0935176281136181],\"yaxis\":\"y\",\"type\":\"scatter\"},{\"hoverinfo\":\"text\",\"marker\":{\"color\":\"rgb(133,20,75)\"},\"mode\":\"lines\",\"x\":[4991.25,4991.25,5055.0,5055.0],\"xaxis\":\"x\",\"y\":[0.07234105028415115,0.11746159207216937,0.11746159207216937,0.11045690968701513],\"yaxis\":\"y\",\"type\":\"scatter\"},{\"hoverinfo\":\"text\",\"marker\":{\"color\":\"rgb(133,20,75)\"},\"mode\":\"lines\",\"x\":[5115.0,5115.0,5125.0,5125.0],\"xaxis\":\"x\",\"y\":[0.0,0.058161034504212734,0.058161034504212734,0.0],\"yaxis\":\"y\",\"type\":\"scatter\"},{\"hoverinfo\":\"text\",\"marker\":{\"color\":\"rgb(133,20,75)\"},\"mode\":\"lines\",\"x\":[5135.0,5135.0,5145.0,5145.0],\"xaxis\":\"x\",\"y\":[0.0,0.08547942388173593,0.08547942388173593,0.0],\"yaxis\":\"y\",\"type\":\"scatter\"},{\"hoverinfo\":\"text\",\"marker\":{\"color\":\"rgb(133,20,75)\"},\"mode\":\"lines\",\"x\":[5120.0,5120.0,5140.0,5140.0],\"xaxis\":\"x\",\"y\":[0.058161034504212734,0.10409827694441354,0.10409827694441354,0.08547942388173593],\"yaxis\":\"y\",\"type\":\"scatter\"},{\"hoverinfo\":\"text\",\"marker\":{\"color\":\"rgb(133,20,75)\"},\"mode\":\"lines\",\"x\":[5155.0,5155.0,5165.0,5165.0],\"xaxis\":\"x\",\"y\":[0.0,0.08560500694336748,0.08560500694336748,0.0],\"yaxis\":\"y\",\"type\":\"scatter\"},{\"hoverinfo\":\"text\",\"marker\":{\"color\":\"rgb(133,20,75)\"},\"mode\":\"lines\",\"x\":[5195.0,5195.0,5205.0,5205.0],\"xaxis\":\"x\",\"y\":[0.0,0.03292251557378208,0.03292251557378208,0.0],\"yaxis\":\"y\",\"type\":\"scatter\"},{\"hoverinfo\":\"text\",\"marker\":{\"color\":\"rgb(133,20,75)\"},\"mode\":\"lines\",\"x\":[5185.0,5185.0,5200.0,5200.0],\"xaxis\":\"x\",\"y\":[0.0,0.04574471197079866,0.04574471197079866,0.03292251557378208],\"yaxis\":\"y\",\"type\":\"scatter\"},{\"hoverinfo\":\"text\",\"marker\":{\"color\":\"rgb(133,20,75)\"},\"mode\":\"lines\",\"x\":[5215.0,5215.0,5225.0,5225.0],\"xaxis\":\"x\",\"y\":[0.0,0.047422407128669485,0.047422407128669485,0.0],\"yaxis\":\"y\",\"type\":\"scatter\"},{\"hoverinfo\":\"text\",\"marker\":{\"color\":\"rgb(133,20,75)\"},\"mode\":\"lines\",\"x\":[5192.5,5192.5,5220.0,5220.0],\"xaxis\":\"x\",\"y\":[0.04574471197079866,0.07465257230545333,0.07465257230545333,0.047422407128669485],\"yaxis\":\"y\",\"type\":\"scatter\"},{\"hoverinfo\":\"text\",\"marker\":{\"color\":\"rgb(133,20,75)\"},\"mode\":\"lines\",\"x\":[5175.0,5175.0,5206.25,5206.25],\"xaxis\":\"x\",\"y\":[0.0,0.11683836784338511,0.11683836784338511,0.07465257230545333],\"yaxis\":\"y\",\"type\":\"scatter\"},{\"hoverinfo\":\"text\",\"marker\":{\"color\":\"rgb(133,20,75)\"},\"mode\":\"lines\",\"x\":[5160.0,5160.0,5190.625,5190.625],\"xaxis\":\"x\",\"y\":[0.08560500694336748,0.13732820085119424,0.13732820085119424,0.11683836784338511],\"yaxis\":\"y\",\"type\":\"scatter\"},{\"hoverinfo\":\"text\",\"marker\":{\"color\":\"rgb(133,20,75)\"},\"mode\":\"lines\",\"x\":[5130.0,5130.0,5175.3125,5175.3125],\"xaxis\":\"x\",\"y\":[0.10409827694441354,0.1824620215755418,0.1824620215755418,0.13732820085119424],\"yaxis\":\"y\",\"type\":\"scatter\"},{\"hoverinfo\":\"text\",\"marker\":{\"color\":\"rgb(133,20,75)\"},\"mode\":\"lines\",\"x\":[5023.125,5023.125,5152.65625,5152.65625],\"xaxis\":\"x\",\"y\":[0.11746159207216937,0.1990315037572265,0.1990315037572265,0.1824620215755418],\"yaxis\":\"y\",\"type\":\"scatter\"},{\"hoverinfo\":\"text\",\"marker\":{\"color\":\"rgb(133,20,75)\"},\"mode\":\"lines\",\"x\":[5255.0,5255.0,5265.0,5265.0],\"xaxis\":\"x\",\"y\":[0.0,0.037580899399713374,0.037580899399713374,0.0],\"yaxis\":\"y\",\"type\":\"scatter\"},{\"hoverinfo\":\"text\",\"marker\":{\"color\":\"rgb(133,20,75)\"},\"mode\":\"lines\",\"x\":[5245.0,5245.0,5260.0,5260.0],\"xaxis\":\"x\",\"y\":[0.0,0.09979880256142484,0.09979880256142484,0.037580899399713374],\"yaxis\":\"y\",\"type\":\"scatter\"},{\"hoverinfo\":\"text\",\"marker\":{\"color\":\"rgb(133,20,75)\"},\"mode\":\"lines\",\"x\":[5235.0,5235.0,5252.5,5252.5],\"xaxis\":\"x\",\"y\":[0.0,0.1322280233404168,0.1322280233404168,0.09979880256142484],\"yaxis\":\"y\",\"type\":\"scatter\"},{\"hoverinfo\":\"text\",\"marker\":{\"color\":\"rgb(133,20,75)\"},\"mode\":\"lines\",\"x\":[5285.0,5285.0,5295.0,5295.0],\"xaxis\":\"x\",\"y\":[0.0,0.03835917307102057,0.03835917307102057,0.0],\"yaxis\":\"y\",\"type\":\"scatter\"},{\"hoverinfo\":\"text\",\"marker\":{\"color\":\"rgb(133,20,75)\"},\"mode\":\"lines\",\"x\":[5275.0,5275.0,5290.0,5290.0],\"xaxis\":\"x\",\"y\":[0.0,0.09232507082447683,0.09232507082447683,0.03835917307102057],\"yaxis\":\"y\",\"type\":\"scatter\"},{\"hoverinfo\":\"text\",\"marker\":{\"color\":\"rgb(133,20,75)\"},\"mode\":\"lines\",\"x\":[5305.0,5305.0,5315.0,5315.0],\"xaxis\":\"x\",\"y\":[0.0,0.09241389296264385,0.09241389296264385,0.0],\"yaxis\":\"y\",\"type\":\"scatter\"},{\"hoverinfo\":\"text\",\"marker\":{\"color\":\"rgb(133,20,75)\"},\"mode\":\"lines\",\"x\":[5282.5,5282.5,5310.0,5310.0],\"xaxis\":\"x\",\"y\":[0.09232507082447683,0.14884185511066012,0.14884185511066012,0.09241389296264385],\"yaxis\":\"y\",\"type\":\"scatter\"},{\"hoverinfo\":\"text\",\"marker\":{\"color\":\"rgb(133,20,75)\"},\"mode\":\"lines\",\"x\":[5243.75,5243.75,5296.25,5296.25],\"xaxis\":\"x\",\"y\":[0.1322280233404168,0.23546608024543217,0.23546608024543217,0.14884185511066012],\"yaxis\":\"y\",\"type\":\"scatter\"},{\"hoverinfo\":\"text\",\"marker\":{\"color\":\"rgb(133,20,75)\"},\"mode\":\"lines\",\"x\":[5087.890625,5087.890625,5270.0,5270.0],\"xaxis\":\"x\",\"y\":[0.1990315037572265,0.2934993851453256,0.2934993851453256,0.23546608024543217],\"yaxis\":\"y\",\"type\":\"scatter\"},{\"hoverinfo\":\"text\",\"marker\":{\"color\":\"rgb(133,20,75)\"},\"mode\":\"lines\",\"x\":[4814.21875,4814.21875,5178.9453125,5178.9453125],\"xaxis\":\"x\",\"y\":[0.22945553094149787,0.32002401760709026,0.32002401760709026,0.2934993851453256],\"yaxis\":\"y\",\"type\":\"scatter\"},{\"hoverinfo\":\"text\",\"marker\":{\"color\":\"rgb(133,20,75)\"},\"mode\":\"lines\",\"x\":[5335.0,5335.0,5345.0,5345.0],\"xaxis\":\"x\",\"y\":[0.0,0.04636504343742105,0.04636504343742105,0.0],\"yaxis\":\"y\",\"type\":\"scatter\"},{\"hoverinfo\":\"text\",\"marker\":{\"color\":\"rgb(133,20,75)\"},\"mode\":\"lines\",\"x\":[5325.0,5325.0,5340.0,5340.0],\"xaxis\":\"x\",\"y\":[0.0,0.05575483840481121,0.05575483840481121,0.04636504343742105],\"yaxis\":\"y\",\"type\":\"scatter\"},{\"hoverinfo\":\"text\",\"marker\":{\"color\":\"rgb(133,20,75)\"},\"mode\":\"lines\",\"x\":[5365.0,5365.0,5375.0,5375.0],\"xaxis\":\"x\",\"y\":[0.0,0.0420290530922459,0.0420290530922459,0.0],\"yaxis\":\"y\",\"type\":\"scatter\"},{\"hoverinfo\":\"text\",\"marker\":{\"color\":\"rgb(133,20,75)\"},\"mode\":\"lines\",\"x\":[5355.0,5355.0,5370.0,5370.0],\"xaxis\":\"x\",\"y\":[0.0,0.07472411893082216,0.07472411893082216,0.0420290530922459],\"yaxis\":\"y\",\"type\":\"scatter\"},{\"hoverinfo\":\"text\",\"marker\":{\"color\":\"rgb(133,20,75)\"},\"mode\":\"lines\",\"x\":[5405.0,5405.0,5415.0,5415.0],\"xaxis\":\"x\",\"y\":[0.0,0.04928891132850521,0.04928891132850521,0.0],\"yaxis\":\"y\",\"type\":\"scatter\"},{\"hoverinfo\":\"text\",\"marker\":{\"color\":\"rgb(133,20,75)\"},\"mode\":\"lines\",\"x\":[5395.0,5395.0,5410.0,5410.0],\"xaxis\":\"x\",\"y\":[0.0,0.05409249009343312,0.05409249009343312,0.04928891132850521],\"yaxis\":\"y\",\"type\":\"scatter\"},{\"hoverinfo\":\"text\",\"marker\":{\"color\":\"rgb(133,20,75)\"},\"mode\":\"lines\",\"x\":[5385.0,5385.0,5402.5,5402.5],\"xaxis\":\"x\",\"y\":[0.0,0.09150474314687074,0.09150474314687074,0.05409249009343312],\"yaxis\":\"y\",\"type\":\"scatter\"},{\"hoverinfo\":\"text\",\"marker\":{\"color\":\"rgb(133,20,75)\"},\"mode\":\"lines\",\"x\":[5362.5,5362.5,5393.75,5393.75],\"xaxis\":\"x\",\"y\":[0.07472411893082216,0.11250277003047415,0.11250277003047415,0.09150474314687074],\"yaxis\":\"y\",\"type\":\"scatter\"},{\"hoverinfo\":\"text\",\"marker\":{\"color\":\"rgb(133,20,75)\"},\"mode\":\"lines\",\"x\":[5332.5,5332.5,5378.125,5378.125],\"xaxis\":\"x\",\"y\":[0.05575483840481121,0.13389187907852923,0.13389187907852923,0.11250277003047415],\"yaxis\":\"y\",\"type\":\"scatter\"},{\"hoverinfo\":\"text\",\"marker\":{\"color\":\"rgb(133,20,75)\"},\"mode\":\"lines\",\"x\":[5445.0,5445.0,5455.0,5455.0],\"xaxis\":\"x\",\"y\":[0.0,0.03768864529542353,0.03768864529542353,0.0],\"yaxis\":\"y\",\"type\":\"scatter\"},{\"hoverinfo\":\"text\",\"marker\":{\"color\":\"rgb(133,20,75)\"},\"mode\":\"lines\",\"x\":[5435.0,5435.0,5450.0,5450.0],\"xaxis\":\"x\",\"y\":[0.0,0.0498823803800244,0.0498823803800244,0.03768864529542353],\"yaxis\":\"y\",\"type\":\"scatter\"},{\"hoverinfo\":\"text\",\"marker\":{\"color\":\"rgb(133,20,75)\"},\"mode\":\"lines\",\"x\":[5425.0,5425.0,5442.5,5442.5],\"xaxis\":\"x\",\"y\":[0.0,0.06144884734664066,0.06144884734664066,0.0498823803800244],\"yaxis\":\"y\",\"type\":\"scatter\"},{\"hoverinfo\":\"text\",\"marker\":{\"color\":\"rgb(133,20,75)\"},\"mode\":\"lines\",\"x\":[5485.0,5485.0,5495.0,5495.0],\"xaxis\":\"x\",\"y\":[0.0,0.041231207214466624,0.041231207214466624,0.0],\"yaxis\":\"y\",\"type\":\"scatter\"},{\"hoverinfo\":\"text\",\"marker\":{\"color\":\"rgb(133,20,75)\"},\"mode\":\"lines\",\"x\":[5475.0,5475.0,5490.0,5490.0],\"xaxis\":\"x\",\"y\":[0.0,0.06330254702417061,0.06330254702417061,0.041231207214466624],\"yaxis\":\"y\",\"type\":\"scatter\"},{\"hoverinfo\":\"text\",\"marker\":{\"color\":\"rgb(133,20,75)\"},\"mode\":\"lines\",\"x\":[5465.0,5465.0,5482.5,5482.5],\"xaxis\":\"x\",\"y\":[0.0,0.076884281981261,0.076884281981261,0.06330254702417061],\"yaxis\":\"y\",\"type\":\"scatter\"},{\"hoverinfo\":\"text\",\"marker\":{\"color\":\"rgb(133,20,75)\"},\"mode\":\"lines\",\"x\":[5433.75,5433.75,5473.75,5473.75],\"xaxis\":\"x\",\"y\":[0.06144884734664066,0.10481580178944429,0.10481580178944429,0.076884281981261],\"yaxis\":\"y\",\"type\":\"scatter\"},{\"hoverinfo\":\"text\",\"marker\":{\"color\":\"rgb(133,20,75)\"},\"mode\":\"lines\",\"x\":[5505.0,5505.0,5515.0,5515.0],\"xaxis\":\"x\",\"y\":[0.0,0.03470179573554812,0.03470179573554812,0.0],\"yaxis\":\"y\",\"type\":\"scatter\"},{\"hoverinfo\":\"text\",\"marker\":{\"color\":\"rgb(133,20,75)\"},\"mode\":\"lines\",\"x\":[5525.0,5525.0,5535.0,5535.0],\"xaxis\":\"x\",\"y\":[0.0,0.03955492290912382,0.03955492290912382,0.0],\"yaxis\":\"y\",\"type\":\"scatter\"},{\"hoverinfo\":\"text\",\"marker\":{\"color\":\"rgb(133,20,75)\"},\"mode\":\"lines\",\"x\":[5510.0,5510.0,5530.0,5530.0],\"xaxis\":\"x\",\"y\":[0.03470179573554812,0.06544603646309308,0.06544603646309308,0.03955492290912382],\"yaxis\":\"y\",\"type\":\"scatter\"},{\"hoverinfo\":\"text\",\"marker\":{\"color\":\"rgb(133,20,75)\"},\"mode\":\"lines\",\"x\":[5545.0,5545.0,5555.0,5555.0],\"xaxis\":\"x\",\"y\":[0.0,0.0433239355821394,0.0433239355821394,0.0],\"yaxis\":\"y\",\"type\":\"scatter\"},{\"hoverinfo\":\"text\",\"marker\":{\"color\":\"rgb(133,20,75)\"},\"mode\":\"lines\",\"x\":[5575.0,5575.0,5585.0,5585.0],\"xaxis\":\"x\",\"y\":[0.0,0.01738840677262245,0.01738840677262245,0.0],\"yaxis\":\"y\",\"type\":\"scatter\"},{\"hoverinfo\":\"text\",\"marker\":{\"color\":\"rgb(133,20,75)\"},\"mode\":\"lines\",\"x\":[5565.0,5565.0,5580.0,5580.0],\"xaxis\":\"x\",\"y\":[0.0,0.05434222453096868,0.05434222453096868,0.01738840677262245],\"yaxis\":\"y\",\"type\":\"scatter\"},{\"hoverinfo\":\"text\",\"marker\":{\"color\":\"rgb(133,20,75)\"},\"mode\":\"lines\",\"x\":[5550.0,5550.0,5572.5,5572.5],\"xaxis\":\"x\",\"y\":[0.0433239355821394,0.0669190169939152,0.0669190169939152,0.05434222453096868],\"yaxis\":\"y\",\"type\":\"scatter\"},{\"hoverinfo\":\"text\",\"marker\":{\"color\":\"rgb(133,20,75)\"},\"mode\":\"lines\",\"x\":[5520.0,5520.0,5561.25,5561.25],\"xaxis\":\"x\",\"y\":[0.06544603646309308,0.12568717588573763,0.12568717588573763,0.0669190169939152],\"yaxis\":\"y\",\"type\":\"scatter\"},{\"hoverinfo\":\"text\",\"marker\":{\"color\":\"rgb(133,20,75)\"},\"mode\":\"lines\",\"x\":[5453.75,5453.75,5540.625,5540.625],\"xaxis\":\"x\",\"y\":[0.10481580178944429,0.1394924959743769,0.1394924959743769,0.12568717588573763],\"yaxis\":\"y\",\"type\":\"scatter\"},{\"hoverinfo\":\"text\",\"marker\":{\"color\":\"rgb(133,20,75)\"},\"mode\":\"lines\",\"x\":[5355.3125,5355.3125,5497.1875,5497.1875],\"xaxis\":\"x\",\"y\":[0.13389187907852923,0.22786203162155746,0.22786203162155746,0.1394924959743769],\"yaxis\":\"y\",\"type\":\"scatter\"},{\"hoverinfo\":\"text\",\"marker\":{\"color\":\"rgb(133,20,75)\"},\"mode\":\"lines\",\"x\":[5595.0,5595.0,5605.0,5605.0],\"xaxis\":\"x\",\"y\":[0.0,0.03784764691349181,0.03784764691349181,0.0],\"yaxis\":\"y\",\"type\":\"scatter\"},{\"hoverinfo\":\"text\",\"marker\":{\"color\":\"rgb(133,20,75)\"},\"mode\":\"lines\",\"x\":[5635.0,5635.0,5645.0,5645.0],\"xaxis\":\"x\",\"y\":[0.0,0.02573798781315375,0.02573798781315375,0.0],\"yaxis\":\"y\",\"type\":\"scatter\"},{\"hoverinfo\":\"text\",\"marker\":{\"color\":\"rgb(133,20,75)\"},\"mode\":\"lines\",\"x\":[5625.0,5625.0,5640.0,5640.0],\"xaxis\":\"x\",\"y\":[0.0,0.04778172748559854,0.04778172748559854,0.02573798781315375],\"yaxis\":\"y\",\"type\":\"scatter\"},{\"hoverinfo\":\"text\",\"marker\":{\"color\":\"rgb(133,20,75)\"},\"mode\":\"lines\",\"x\":[5615.0,5615.0,5632.5,5632.5],\"xaxis\":\"x\",\"y\":[0.0,0.07424942711396271,0.07424942711396271,0.04778172748559854],\"yaxis\":\"y\",\"type\":\"scatter\"},{\"hoverinfo\":\"text\",\"marker\":{\"color\":\"rgb(133,20,75)\"},\"mode\":\"lines\",\"x\":[5600.0,5600.0,5623.75,5623.75],\"xaxis\":\"x\",\"y\":[0.03784764691349181,0.08774595549857245,0.08774595549857245,0.07424942711396271],\"yaxis\":\"y\",\"type\":\"scatter\"},{\"hoverinfo\":\"text\",\"marker\":{\"color\":\"rgb(133,20,75)\"},\"mode\":\"lines\",\"x\":[5655.0,5655.0,5665.0,5665.0],\"xaxis\":\"x\",\"y\":[0.0,0.029619330406377927,0.029619330406377927,0.0],\"yaxis\":\"y\",\"type\":\"scatter\"},{\"hoverinfo\":\"text\",\"marker\":{\"color\":\"rgb(133,20,75)\"},\"mode\":\"lines\",\"x\":[5675.0,5675.0,5685.0,5685.0],\"xaxis\":\"x\",\"y\":[0.0,0.03716377570852823,0.03716377570852823,0.0],\"yaxis\":\"y\",\"type\":\"scatter\"},{\"hoverinfo\":\"text\",\"marker\":{\"color\":\"rgb(133,20,75)\"},\"mode\":\"lines\",\"x\":[5660.0,5660.0,5680.0,5680.0],\"xaxis\":\"x\",\"y\":[0.029619330406377927,0.060489573328313645,0.060489573328313645,0.03716377570852823],\"yaxis\":\"y\",\"type\":\"scatter\"},{\"hoverinfo\":\"text\",\"marker\":{\"color\":\"rgb(133,20,75)\"},\"mode\":\"lines\",\"x\":[5705.0,5705.0,5715.0,5715.0],\"xaxis\":\"x\",\"y\":[0.0,0.03387636352316738,0.03387636352316738,0.0],\"yaxis\":\"y\",\"type\":\"scatter\"},{\"hoverinfo\":\"text\",\"marker\":{\"color\":\"rgb(133,20,75)\"},\"mode\":\"lines\",\"x\":[5695.0,5695.0,5710.0,5710.0],\"xaxis\":\"x\",\"y\":[0.0,0.0400689286499926,0.0400689286499926,0.03387636352316738],\"yaxis\":\"y\",\"type\":\"scatter\"},{\"hoverinfo\":\"text\",\"marker\":{\"color\":\"rgb(133,20,75)\"},\"mode\":\"lines\",\"x\":[5745.0,5745.0,5755.0,5755.0],\"xaxis\":\"x\",\"y\":[0.0,0.029539990254004424,0.029539990254004424,0.0],\"yaxis\":\"y\",\"type\":\"scatter\"},{\"hoverinfo\":\"text\",\"marker\":{\"color\":\"rgb(133,20,75)\"},\"mode\":\"lines\",\"x\":[5735.0,5735.0,5750.0,5750.0],\"xaxis\":\"x\",\"y\":[0.0,0.03927699378217868,0.03927699378217868,0.029539990254004424],\"yaxis\":\"y\",\"type\":\"scatter\"},{\"hoverinfo\":\"text\",\"marker\":{\"color\":\"rgb(133,20,75)\"},\"mode\":\"lines\",\"x\":[5725.0,5725.0,5742.5,5742.5],\"xaxis\":\"x\",\"y\":[0.0,0.046693250466786,0.046693250466786,0.03927699378217868],\"yaxis\":\"y\",\"type\":\"scatter\"},{\"hoverinfo\":\"text\",\"marker\":{\"color\":\"rgb(133,20,75)\"},\"mode\":\"lines\",\"x\":[5702.5,5702.5,5733.75,5733.75],\"xaxis\":\"x\",\"y\":[0.0400689286499926,0.0742695045698228,0.0742695045698228,0.046693250466786],\"yaxis\":\"y\",\"type\":\"scatter\"},{\"hoverinfo\":\"text\",\"marker\":{\"color\":\"rgb(133,20,75)\"},\"mode\":\"lines\",\"x\":[5670.0,5670.0,5718.125,5718.125],\"xaxis\":\"x\",\"y\":[0.060489573328313645,0.09033158155168784,0.09033158155168784,0.0742695045698228],\"yaxis\":\"y\",\"type\":\"scatter\"},{\"hoverinfo\":\"text\",\"marker\":{\"color\":\"rgb(133,20,75)\"},\"mode\":\"lines\",\"x\":[5611.875,5611.875,5694.0625,5694.0625],\"xaxis\":\"x\",\"y\":[0.08774595549857245,0.1058403009651608,0.1058403009651608,0.09033158155168784],\"yaxis\":\"y\",\"type\":\"scatter\"},{\"hoverinfo\":\"text\",\"marker\":{\"color\":\"rgb(133,20,75)\"},\"mode\":\"lines\",\"x\":[5775.0,5775.0,5785.0,5785.0],\"xaxis\":\"x\",\"y\":[0.0,0.03406178272249591,0.03406178272249591,0.0],\"yaxis\":\"y\",\"type\":\"scatter\"},{\"hoverinfo\":\"text\",\"marker\":{\"color\":\"rgb(133,20,75)\"},\"mode\":\"lines\",\"x\":[5795.0,5795.0,5805.0,5805.0],\"xaxis\":\"x\",\"y\":[0.0,0.037860235095195,0.037860235095195,0.0],\"yaxis\":\"y\",\"type\":\"scatter\"},{\"hoverinfo\":\"text\",\"marker\":{\"color\":\"rgb(133,20,75)\"},\"mode\":\"lines\",\"x\":[5780.0,5780.0,5800.0,5800.0],\"xaxis\":\"x\",\"y\":[0.03406178272249591,0.05978510164538397,0.05978510164538397,0.037860235095195],\"yaxis\":\"y\",\"type\":\"scatter\"},{\"hoverinfo\":\"text\",\"marker\":{\"color\":\"rgb(133,20,75)\"},\"mode\":\"lines\",\"x\":[5765.0,5765.0,5790.0,5790.0],\"xaxis\":\"x\",\"y\":[0.0,0.07965473039112249,0.07965473039112249,0.05978510164538397],\"yaxis\":\"y\",\"type\":\"scatter\"},{\"hoverinfo\":\"text\",\"marker\":{\"color\":\"rgb(133,20,75)\"},\"mode\":\"lines\",\"x\":[5815.0,5815.0,5825.0,5825.0],\"xaxis\":\"x\",\"y\":[0.0,0.051574062085616414,0.051574062085616414,0.0],\"yaxis\":\"y\",\"type\":\"scatter\"},{\"hoverinfo\":\"text\",\"marker\":{\"color\":\"rgb(133,20,75)\"},\"mode\":\"lines\",\"x\":[5855.0,5855.0,5865.0,5865.0],\"xaxis\":\"x\",\"y\":[0.0,0.02688477836597151,0.02688477836597151,0.0],\"yaxis\":\"y\",\"type\":\"scatter\"},{\"hoverinfo\":\"text\",\"marker\":{\"color\":\"rgb(133,20,75)\"},\"mode\":\"lines\",\"x\":[5845.0,5845.0,5860.0,5860.0],\"xaxis\":\"x\",\"y\":[0.0,0.04181711914973713,0.04181711914973713,0.02688477836597151],\"yaxis\":\"y\",\"type\":\"scatter\"},{\"hoverinfo\":\"text\",\"marker\":{\"color\":\"rgb(133,20,75)\"},\"mode\":\"lines\",\"x\":[5835.0,5835.0,5852.5,5852.5],\"xaxis\":\"x\",\"y\":[0.0,0.0691490912539393,0.0691490912539393,0.04181711914973713],\"yaxis\":\"y\",\"type\":\"scatter\"},{\"hoverinfo\":\"text\",\"marker\":{\"color\":\"rgb(133,20,75)\"},\"mode\":\"lines\",\"x\":[5820.0,5820.0,5843.75,5843.75],\"xaxis\":\"x\",\"y\":[0.051574062085616414,0.08231784212963243,0.08231784212963243,0.0691490912539393],\"yaxis\":\"y\",\"type\":\"scatter\"},{\"hoverinfo\":\"text\",\"marker\":{\"color\":\"rgb(133,20,75)\"},\"mode\":\"lines\",\"x\":[5875.0,5875.0,5885.0,5885.0],\"xaxis\":\"x\",\"y\":[0.0,0.02811127866713976,0.02811127866713976,0.0],\"yaxis\":\"y\",\"type\":\"scatter\"},{\"hoverinfo\":\"text\",\"marker\":{\"color\":\"rgb(133,20,75)\"},\"mode\":\"lines\",\"x\":[5895.0,5895.0,5905.0,5905.0],\"xaxis\":\"x\",\"y\":[0.0,0.038038726060495825,0.038038726060495825,0.0],\"yaxis\":\"y\",\"type\":\"scatter\"},{\"hoverinfo\":\"text\",\"marker\":{\"color\":\"rgb(133,20,75)\"},\"mode\":\"lines\",\"x\":[5880.0,5880.0,5900.0,5900.0],\"xaxis\":\"x\",\"y\":[0.02811127866713976,0.05707961939516894,0.05707961939516894,0.038038726060495825],\"yaxis\":\"y\",\"type\":\"scatter\"},{\"hoverinfo\":\"text\",\"marker\":{\"color\":\"rgb(133,20,75)\"},\"mode\":\"lines\",\"x\":[5915.0,5915.0,5925.0,5925.0],\"xaxis\":\"x\",\"y\":[0.0,0.02462439943480422,0.02462439943480422,0.0],\"yaxis\":\"y\",\"type\":\"scatter\"},{\"hoverinfo\":\"text\",\"marker\":{\"color\":\"rgb(133,20,75)\"},\"mode\":\"lines\",\"x\":[5945.0,5945.0,5955.0,5955.0],\"xaxis\":\"x\",\"y\":[0.0,0.027659719477077807,0.027659719477077807,0.0],\"yaxis\":\"y\",\"type\":\"scatter\"},{\"hoverinfo\":\"text\",\"marker\":{\"color\":\"rgb(133,20,75)\"},\"mode\":\"lines\",\"x\":[5935.0,5935.0,5950.0,5950.0],\"xaxis\":\"x\",\"y\":[0.0,0.03603068529590724,0.03603068529590724,0.027659719477077807],\"yaxis\":\"y\",\"type\":\"scatter\"},{\"hoverinfo\":\"text\",\"marker\":{\"color\":\"rgb(133,20,75)\"},\"mode\":\"lines\",\"x\":[5920.0,5920.0,5942.5,5942.5],\"xaxis\":\"x\",\"y\":[0.02462439943480422,0.05736881408015995,0.05736881408015995,0.03603068529590724],\"yaxis\":\"y\",\"type\":\"scatter\"},{\"hoverinfo\":\"text\",\"marker\":{\"color\":\"rgb(133,20,75)\"},\"mode\":\"lines\",\"x\":[5890.0,5890.0,5931.25,5931.25],\"xaxis\":\"x\",\"y\":[0.05707961939516894,0.08463698339591502,0.08463698339591502,0.05736881408015995],\"yaxis\":\"y\",\"type\":\"scatter\"},{\"hoverinfo\":\"text\",\"marker\":{\"color\":\"rgb(133,20,75)\"},\"mode\":\"lines\",\"x\":[5831.875,5831.875,5910.625,5910.625],\"xaxis\":\"x\",\"y\":[0.08231784212963243,0.10490470109042667,0.10490470109042667,0.08463698339591502],\"yaxis\":\"y\",\"type\":\"scatter\"},{\"hoverinfo\":\"text\",\"marker\":{\"color\":\"rgb(133,20,75)\"},\"mode\":\"lines\",\"x\":[5777.5,5777.5,5871.25,5871.25],\"xaxis\":\"x\",\"y\":[0.07965473039112249,0.12480127305206742,0.12480127305206742,0.10490470109042667],\"yaxis\":\"y\",\"type\":\"scatter\"},{\"hoverinfo\":\"text\",\"marker\":{\"color\":\"rgb(133,20,75)\"},\"mode\":\"lines\",\"x\":[5652.96875,5652.96875,5824.375,5824.375],\"xaxis\":\"x\",\"y\":[0.1058403009651608,0.18230483536802689,0.18230483536802689,0.12480127305206742],\"yaxis\":\"y\",\"type\":\"scatter\"},{\"hoverinfo\":\"text\",\"marker\":{\"color\":\"rgb(133,20,75)\"},\"mode\":\"lines\",\"x\":[5965.0,5965.0,5975.0,5975.0],\"xaxis\":\"x\",\"y\":[0.0,0.05139871274357689,0.05139871274357689,0.0],\"yaxis\":\"y\",\"type\":\"scatter\"},{\"hoverinfo\":\"text\",\"marker\":{\"color\":\"rgb(133,20,75)\"},\"mode\":\"lines\",\"x\":[5985.0,5985.0,5995.0,5995.0],\"xaxis\":\"x\",\"y\":[0.0,0.0702846785472726,0.0702846785472726,0.0],\"yaxis\":\"y\",\"type\":\"scatter\"},{\"hoverinfo\":\"text\",\"marker\":{\"color\":\"rgb(133,20,75)\"},\"mode\":\"lines\",\"x\":[5970.0,5970.0,5990.0,5990.0],\"xaxis\":\"x\",\"y\":[0.05139871274357689,0.09467035883049131,0.09467035883049131,0.0702846785472726],\"yaxis\":\"y\",\"type\":\"scatter\"},{\"hoverinfo\":\"text\",\"marker\":{\"color\":\"rgb(133,20,75)\"},\"mode\":\"lines\",\"x\":[6015.0,6015.0,6025.0,6025.0],\"xaxis\":\"x\",\"y\":[0.0,0.041115322123065276,0.041115322123065276,0.0],\"yaxis\":\"y\",\"type\":\"scatter\"},{\"hoverinfo\":\"text\",\"marker\":{\"color\":\"rgb(133,20,75)\"},\"mode\":\"lines\",\"x\":[6035.0,6035.0,6045.0,6045.0],\"xaxis\":\"x\",\"y\":[0.0,0.02690199459814671,0.02690199459814671,0.0],\"yaxis\":\"y\",\"type\":\"scatter\"},{\"hoverinfo\":\"text\",\"marker\":{\"color\":\"rgb(133,20,75)\"},\"mode\":\"lines\",\"x\":[6055.0,6055.0,6065.0,6065.0],\"xaxis\":\"x\",\"y\":[0.0,0.04269711728855385,0.04269711728855385,0.0],\"yaxis\":\"y\",\"type\":\"scatter\"},{\"hoverinfo\":\"text\",\"marker\":{\"color\":\"rgb(133,20,75)\"},\"mode\":\"lines\",\"x\":[6040.0,6040.0,6060.0,6060.0],\"xaxis\":\"x\",\"y\":[0.02690199459814671,0.057901618025322454,0.057901618025322454,0.04269711728855385],\"yaxis\":\"y\",\"type\":\"scatter\"},{\"hoverinfo\":\"text\",\"marker\":{\"color\":\"rgb(133,20,75)\"},\"mode\":\"lines\",\"x\":[6020.0,6020.0,6050.0,6050.0],\"xaxis\":\"x\",\"y\":[0.041115322123065276,0.08792473029221644,0.08792473029221644,0.057901618025322454],\"yaxis\":\"y\",\"type\":\"scatter\"},{\"hoverinfo\":\"text\",\"marker\":{\"color\":\"rgb(133,20,75)\"},\"mode\":\"lines\",\"x\":[6005.0,6005.0,6035.0,6035.0],\"xaxis\":\"x\",\"y\":[0.0,0.1126644098539801,0.1126644098539801,0.08792473029221644],\"yaxis\":\"y\",\"type\":\"scatter\"},{\"hoverinfo\":\"text\",\"marker\":{\"color\":\"rgb(133,20,75)\"},\"mode\":\"lines\",\"x\":[5980.0,5980.0,6020.0,6020.0],\"xaxis\":\"x\",\"y\":[0.09467035883049131,0.14429909264079094,0.14429909264079094,0.1126644098539801],\"yaxis\":\"y\",\"type\":\"scatter\"},{\"hoverinfo\":\"text\",\"marker\":{\"color\":\"rgb(133,20,75)\"},\"mode\":\"lines\",\"x\":[6085.0,6085.0,6095.0,6095.0],\"xaxis\":\"x\",\"y\":[0.0,0.053337446093669326,0.053337446093669326,0.0],\"yaxis\":\"y\",\"type\":\"scatter\"},{\"hoverinfo\":\"text\",\"marker\":{\"color\":\"rgb(133,20,75)\"},\"mode\":\"lines\",\"x\":[6075.0,6075.0,6090.0,6090.0],\"xaxis\":\"x\",\"y\":[0.0,0.07261699025863005,0.07261699025863005,0.053337446093669326],\"yaxis\":\"y\",\"type\":\"scatter\"},{\"hoverinfo\":\"text\",\"marker\":{\"color\":\"rgb(133,20,75)\"},\"mode\":\"lines\",\"x\":[6115.0,6115.0,6125.0,6125.0],\"xaxis\":\"x\",\"y\":[0.0,0.05830005650631393,0.05830005650631393,0.0],\"yaxis\":\"y\",\"type\":\"scatter\"},{\"hoverinfo\":\"text\",\"marker\":{\"color\":\"rgb(133,20,75)\"},\"mode\":\"lines\",\"x\":[6105.0,6105.0,6120.0,6120.0],\"xaxis\":\"x\",\"y\":[0.0,0.07867844281176943,0.07867844281176943,0.05830005650631393],\"yaxis\":\"y\",\"type\":\"scatter\"},{\"hoverinfo\":\"text\",\"marker\":{\"color\":\"rgb(133,20,75)\"},\"mode\":\"lines\",\"x\":[6082.5,6082.5,6112.5,6112.5],\"xaxis\":\"x\",\"y\":[0.07261699025863005,0.15942177044183248,0.15942177044183248,0.07867844281176943],\"yaxis\":\"y\",\"type\":\"scatter\"},{\"hoverinfo\":\"text\",\"marker\":{\"color\":\"rgb(133,20,75)\"},\"mode\":\"lines\",\"x\":[6000.0,6000.0,6097.5,6097.5],\"xaxis\":\"x\",\"y\":[0.14429909264079094,0.1899279171362838,0.1899279171362838,0.15942177044183248],\"yaxis\":\"y\",\"type\":\"scatter\"},{\"hoverinfo\":\"text\",\"marker\":{\"color\":\"rgb(133,20,75)\"},\"mode\":\"lines\",\"x\":[5738.671875,5738.671875,6048.75,6048.75],\"xaxis\":\"x\",\"y\":[0.18230483536802689,0.2327151062993942,0.2327151062993942,0.1899279171362838],\"yaxis\":\"y\",\"type\":\"scatter\"},{\"hoverinfo\":\"text\",\"marker\":{\"color\":\"rgb(133,20,75)\"},\"mode\":\"lines\",\"x\":[5426.25,5426.25,5893.7109375,5893.7109375],\"xaxis\":\"x\",\"y\":[0.22786203162155746,0.2854886163630816,0.2854886163630816,0.2327151062993942],\"yaxis\":\"y\",\"type\":\"scatter\"},{\"hoverinfo\":\"text\",\"marker\":{\"color\":\"rgb(133,20,75)\"},\"mode\":\"lines\",\"x\":[6135.0,6135.0,6145.0,6145.0],\"xaxis\":\"x\",\"y\":[0.0,0.10629227469675251,0.10629227469675251,0.0],\"yaxis\":\"y\",\"type\":\"scatter\"},{\"hoverinfo\":\"text\",\"marker\":{\"color\":\"rgb(133,20,75)\"},\"mode\":\"lines\",\"x\":[6155.0,6155.0,6165.0,6165.0],\"xaxis\":\"x\",\"y\":[0.0,0.05219328428474951,0.05219328428474951,0.0],\"yaxis\":\"y\",\"type\":\"scatter\"},{\"hoverinfo\":\"text\",\"marker\":{\"color\":\"rgb(133,20,75)\"},\"mode\":\"lines\",\"x\":[6175.0,6175.0,6185.0,6185.0],\"xaxis\":\"x\",\"y\":[0.0,0.04543942885226186,0.04543942885226186,0.0],\"yaxis\":\"y\",\"type\":\"scatter\"},{\"hoverinfo\":\"text\",\"marker\":{\"color\":\"rgb(133,20,75)\"},\"mode\":\"lines\",\"x\":[6205.0,6205.0,6215.0,6215.0],\"xaxis\":\"x\",\"y\":[0.0,0.03256029567318221,0.03256029567318221,0.0],\"yaxis\":\"y\",\"type\":\"scatter\"},{\"hoverinfo\":\"text\",\"marker\":{\"color\":\"rgb(133,20,75)\"},\"mode\":\"lines\",\"x\":[6195.0,6195.0,6210.0,6210.0],\"xaxis\":\"x\",\"y\":[0.0,0.05274959800281737,0.05274959800281737,0.03256029567318221],\"yaxis\":\"y\",\"type\":\"scatter\"},{\"hoverinfo\":\"text\",\"marker\":{\"color\":\"rgb(133,20,75)\"},\"mode\":\"lines\",\"x\":[6180.0,6180.0,6202.5,6202.5],\"xaxis\":\"x\",\"y\":[0.04543942885226186,0.08458810650222454,0.08458810650222454,0.05274959800281737],\"yaxis\":\"y\",\"type\":\"scatter\"},{\"hoverinfo\":\"text\",\"marker\":{\"color\":\"rgb(133,20,75)\"},\"mode\":\"lines\",\"x\":[6160.0,6160.0,6191.25,6191.25],\"xaxis\":\"x\",\"y\":[0.05219328428474951,0.11134233155636025,0.11134233155636025,0.08458810650222454],\"yaxis\":\"y\",\"type\":\"scatter\"},{\"hoverinfo\":\"text\",\"marker\":{\"color\":\"rgb(133,20,75)\"},\"mode\":\"lines\",\"x\":[6235.0,6235.0,6245.0,6245.0],\"xaxis\":\"x\",\"y\":[0.0,0.04544228332993926,0.04544228332993926,0.0],\"yaxis\":\"y\",\"type\":\"scatter\"},{\"hoverinfo\":\"text\",\"marker\":{\"color\":\"rgb(133,20,75)\"},\"mode\":\"lines\",\"x\":[6225.0,6225.0,6240.0,6240.0],\"xaxis\":\"x\",\"y\":[0.0,0.06918931339845617,0.06918931339845617,0.04544228332993926],\"yaxis\":\"y\",\"type\":\"scatter\"},{\"hoverinfo\":\"text\",\"marker\":{\"color\":\"rgb(133,20,75)\"},\"mode\":\"lines\",\"x\":[6255.0,6255.0,6265.0,6265.0],\"xaxis\":\"x\",\"y\":[0.0,0.06250845716559832,0.06250845716559832,0.0],\"yaxis\":\"y\",\"type\":\"scatter\"},{\"hoverinfo\":\"text\",\"marker\":{\"color\":\"rgb(133,20,75)\"},\"mode\":\"lines\",\"x\":[6275.0,6275.0,6285.0,6285.0],\"xaxis\":\"x\",\"y\":[0.0,0.03232859226091154,0.03232859226091154,0.0],\"yaxis\":\"y\",\"type\":\"scatter\"},{\"hoverinfo\":\"text\",\"marker\":{\"color\":\"rgb(133,20,75)\"},\"mode\":\"lines\",\"x\":[6305.0,6305.0,6315.0,6315.0],\"xaxis\":\"x\",\"y\":[0.0,0.02665001505552441,0.02665001505552441,0.0],\"yaxis\":\"y\",\"type\":\"scatter\"},{\"hoverinfo\":\"text\",\"marker\":{\"color\":\"rgb(133,20,75)\"},\"mode\":\"lines\",\"x\":[6295.0,6295.0,6310.0,6310.0],\"xaxis\":\"x\",\"y\":[0.0,0.044580147384310286,0.044580147384310286,0.02665001505552441],\"yaxis\":\"y\",\"type\":\"scatter\"},{\"hoverinfo\":\"text\",\"marker\":{\"color\":\"rgb(133,20,75)\"},\"mode\":\"lines\",\"x\":[6280.0,6280.0,6302.5,6302.5],\"xaxis\":\"x\",\"y\":[0.03232859226091154,0.0665114268376216,0.0665114268376216,0.044580147384310286],\"yaxis\":\"y\",\"type\":\"scatter\"},{\"hoverinfo\":\"text\",\"marker\":{\"color\":\"rgb(133,20,75)\"},\"mode\":\"lines\",\"x\":[6260.0,6260.0,6291.25,6291.25],\"xaxis\":\"x\",\"y\":[0.06250845716559832,0.10511483294958225,0.10511483294958225,0.0665114268376216],\"yaxis\":\"y\",\"type\":\"scatter\"},{\"hoverinfo\":\"text\",\"marker\":{\"color\":\"rgb(133,20,75)\"},\"mode\":\"lines\",\"x\":[6232.5,6232.5,6275.625,6275.625],\"xaxis\":\"x\",\"y\":[0.06918931339845617,0.12281118475863903,0.12281118475863903,0.10511483294958225],\"yaxis\":\"y\",\"type\":\"scatter\"},{\"hoverinfo\":\"text\",\"marker\":{\"color\":\"rgb(133,20,75)\"},\"mode\":\"lines\",\"x\":[6175.625,6175.625,6254.0625,6254.0625],\"xaxis\":\"x\",\"y\":[0.11134233155636025,0.15790538763375275,0.15790538763375275,0.12281118475863903],\"yaxis\":\"y\",\"type\":\"scatter\"},{\"hoverinfo\":\"text\",\"marker\":{\"color\":\"rgb(133,20,75)\"},\"mode\":\"lines\",\"x\":[6140.0,6140.0,6214.84375,6214.84375],\"xaxis\":\"x\",\"y\":[0.10629227469675251,0.20430623047748134,0.20430623047748134,0.15790538763375275],\"yaxis\":\"y\",\"type\":\"scatter\"},{\"hoverinfo\":\"text\",\"marker\":{\"color\":\"rgb(133,20,75)\"},\"mode\":\"lines\",\"x\":[6325.0,6325.0,6335.0,6335.0],\"xaxis\":\"x\",\"y\":[0.0,0.09183844822571703,0.09183844822571703,0.0],\"yaxis\":\"y\",\"type\":\"scatter\"},{\"hoverinfo\":\"text\",\"marker\":{\"color\":\"rgb(133,20,75)\"},\"mode\":\"lines\",\"x\":[6385.0,6385.0,6395.0,6395.0],\"xaxis\":\"x\",\"y\":[0.0,0.025092133533812445,0.025092133533812445,0.0],\"yaxis\":\"y\",\"type\":\"scatter\"},{\"hoverinfo\":\"text\",\"marker\":{\"color\":\"rgb(133,20,75)\"},\"mode\":\"lines\",\"x\":[6375.0,6375.0,6390.0,6390.0],\"xaxis\":\"x\",\"y\":[0.0,0.05092085394746064,0.05092085394746064,0.025092133533812445],\"yaxis\":\"y\",\"type\":\"scatter\"},{\"hoverinfo\":\"text\",\"marker\":{\"color\":\"rgb(133,20,75)\"},\"mode\":\"lines\",\"x\":[6365.0,6365.0,6382.5,6382.5],\"xaxis\":\"x\",\"y\":[0.0,0.05198940723848005,0.05198940723848005,0.05092085394746064],\"yaxis\":\"y\",\"type\":\"scatter\"},{\"hoverinfo\":\"text\",\"marker\":{\"color\":\"rgb(133,20,75)\"},\"mode\":\"lines\",\"x\":[6355.0,6355.0,6373.75,6373.75],\"xaxis\":\"x\",\"y\":[0.0,0.07059586720824829,0.07059586720824829,0.05198940723848005],\"yaxis\":\"y\",\"type\":\"scatter\"},{\"hoverinfo\":\"text\",\"marker\":{\"color\":\"rgb(133,20,75)\"},\"mode\":\"lines\",\"x\":[6345.0,6345.0,6364.375,6364.375],\"xaxis\":\"x\",\"y\":[0.0,0.09761900900713232,0.09761900900713232,0.07059586720824829],\"yaxis\":\"y\",\"type\":\"scatter\"},{\"hoverinfo\":\"text\",\"marker\":{\"color\":\"rgb(133,20,75)\"},\"mode\":\"lines\",\"x\":[6330.0,6330.0,6354.6875,6354.6875],\"xaxis\":\"x\",\"y\":[0.09183844822571703,0.16059324195993116,0.16059324195993116,0.09761900900713232],\"yaxis\":\"y\",\"type\":\"scatter\"},{\"hoverinfo\":\"text\",\"marker\":{\"color\":\"rgb(133,20,75)\"},\"mode\":\"lines\",\"x\":[6405.0,6405.0,6415.0,6415.0],\"xaxis\":\"x\",\"y\":[0.0,0.04632798266609277,0.04632798266609277,0.0],\"yaxis\":\"y\",\"type\":\"scatter\"},{\"hoverinfo\":\"text\",\"marker\":{\"color\":\"rgb(133,20,75)\"},\"mode\":\"lines\",\"x\":[6435.0,6435.0,6445.0,6445.0],\"xaxis\":\"x\",\"y\":[0.0,0.06485946378591698,0.06485946378591698,0.0],\"yaxis\":\"y\",\"type\":\"scatter\"},{\"hoverinfo\":\"text\",\"marker\":{\"color\":\"rgb(133,20,75)\"},\"mode\":\"lines\",\"x\":[6425.0,6425.0,6440.0,6440.0],\"xaxis\":\"x\",\"y\":[0.0,0.08778182635915335,0.08778182635915335,0.06485946378591698],\"yaxis\":\"y\",\"type\":\"scatter\"},{\"hoverinfo\":\"text\",\"marker\":{\"color\":\"rgb(133,20,75)\"},\"mode\":\"lines\",\"x\":[6410.0,6410.0,6432.5,6432.5],\"xaxis\":\"x\",\"y\":[0.04632798266609277,0.09688398737906051,0.09688398737906051,0.08778182635915335],\"yaxis\":\"y\",\"type\":\"scatter\"},{\"hoverinfo\":\"text\",\"marker\":{\"color\":\"rgb(133,20,75)\"},\"mode\":\"lines\",\"x\":[6475.0,6475.0,6485.0,6485.0],\"xaxis\":\"x\",\"y\":[0.0,0.05454199462462004,0.05454199462462004,0.0],\"yaxis\":\"y\",\"type\":\"scatter\"},{\"hoverinfo\":\"text\",\"marker\":{\"color\":\"rgb(133,20,75)\"},\"mode\":\"lines\",\"x\":[6465.0,6465.0,6480.0,6480.0],\"xaxis\":\"x\",\"y\":[0.0,0.0752712014417961,0.0752712014417961,0.05454199462462004],\"yaxis\":\"y\",\"type\":\"scatter\"},{\"hoverinfo\":\"text\",\"marker\":{\"color\":\"rgb(133,20,75)\"},\"mode\":\"lines\",\"x\":[6505.0,6505.0,6515.0,6515.0],\"xaxis\":\"x\",\"y\":[0.0,0.05577298640377585,0.05577298640377585,0.0],\"yaxis\":\"y\",\"type\":\"scatter\"},{\"hoverinfo\":\"text\",\"marker\":{\"color\":\"rgb(133,20,75)\"},\"mode\":\"lines\",\"x\":[6495.0,6495.0,6510.0,6510.0],\"xaxis\":\"x\",\"y\":[0.0,0.08673526467360829,0.08673526467360829,0.05577298640377585],\"yaxis\":\"y\",\"type\":\"scatter\"},{\"hoverinfo\":\"text\",\"marker\":{\"color\":\"rgb(133,20,75)\"},\"mode\":\"lines\",\"x\":[6472.5,6472.5,6502.5,6502.5],\"xaxis\":\"x\",\"y\":[0.0752712014417961,0.13406031223418402,0.13406031223418402,0.08673526467360829],\"yaxis\":\"y\",\"type\":\"scatter\"},{\"hoverinfo\":\"text\",\"marker\":{\"color\":\"rgb(133,20,75)\"},\"mode\":\"lines\",\"x\":[6455.0,6455.0,6487.5,6487.5],\"xaxis\":\"x\",\"y\":[0.0,0.14670668913124635,0.14670668913124635,0.13406031223418402],\"yaxis\":\"y\",\"type\":\"scatter\"},{\"hoverinfo\":\"text\",\"marker\":{\"color\":\"rgb(133,20,75)\"},\"mode\":\"lines\",\"x\":[6421.25,6421.25,6471.25,6471.25],\"xaxis\":\"x\",\"y\":[0.09688398737906051,0.18785453108197087,0.18785453108197087,0.14670668913124635],\"yaxis\":\"y\",\"type\":\"scatter\"},{\"hoverinfo\":\"text\",\"marker\":{\"color\":\"rgb(133,20,75)\"},\"mode\":\"lines\",\"x\":[6342.34375,6342.34375,6446.25,6446.25],\"xaxis\":\"x\",\"y\":[0.16059324195993116,0.22029946487532467,0.22029946487532467,0.18785453108197087],\"yaxis\":\"y\",\"type\":\"scatter\"},{\"hoverinfo\":\"text\",\"marker\":{\"color\":\"rgb(133,20,75)\"},\"mode\":\"lines\",\"x\":[6177.421875,6177.421875,6394.296875,6394.296875],\"xaxis\":\"x\",\"y\":[0.20430623047748134,0.2552301716861515,0.2552301716861515,0.22029946487532467],\"yaxis\":\"y\",\"type\":\"scatter\"},{\"hoverinfo\":\"text\",\"marker\":{\"color\":\"rgb(133,20,75)\"},\"mode\":\"lines\",\"x\":[6525.0,6525.0,6535.0,6535.0],\"xaxis\":\"x\",\"y\":[0.0,0.14269610698621688,0.14269610698621688,0.0],\"yaxis\":\"y\",\"type\":\"scatter\"},{\"hoverinfo\":\"text\",\"marker\":{\"color\":\"rgb(133,20,75)\"},\"mode\":\"lines\",\"x\":[6555.0,6555.0,6565.0,6565.0],\"xaxis\":\"x\",\"y\":[0.0,0.04703853949532594,0.04703853949532594,0.0],\"yaxis\":\"y\",\"type\":\"scatter\"},{\"hoverinfo\":\"text\",\"marker\":{\"color\":\"rgb(133,20,75)\"},\"mode\":\"lines\",\"x\":[6545.0,6545.0,6560.0,6560.0],\"xaxis\":\"x\",\"y\":[0.0,0.06900030995939331,0.06900030995939331,0.04703853949532594],\"yaxis\":\"y\",\"type\":\"scatter\"},{\"hoverinfo\":\"text\",\"marker\":{\"color\":\"rgb(133,20,75)\"},\"mode\":\"lines\",\"x\":[6595.0,6595.0,6605.0,6605.0],\"xaxis\":\"x\",\"y\":[0.0,0.03840425393602896,0.03840425393602896,0.0],\"yaxis\":\"y\",\"type\":\"scatter\"},{\"hoverinfo\":\"text\",\"marker\":{\"color\":\"rgb(133,20,75)\"},\"mode\":\"lines\",\"x\":[6585.0,6585.0,6600.0,6600.0],\"xaxis\":\"x\",\"y\":[0.0,0.04430560510928503,0.04430560510928503,0.03840425393602896],\"yaxis\":\"y\",\"type\":\"scatter\"},{\"hoverinfo\":\"text\",\"marker\":{\"color\":\"rgb(133,20,75)\"},\"mode\":\"lines\",\"x\":[6575.0,6575.0,6592.5,6592.5],\"xaxis\":\"x\",\"y\":[0.0,0.06372816341583992,0.06372816341583992,0.04430560510928503],\"yaxis\":\"y\",\"type\":\"scatter\"},{\"hoverinfo\":\"text\",\"marker\":{\"color\":\"rgb(133,20,75)\"},\"mode\":\"lines\",\"x\":[6635.0,6635.0,6645.0,6645.0],\"xaxis\":\"x\",\"y\":[0.0,0.03186917868742627,0.03186917868742627,0.0],\"yaxis\":\"y\",\"type\":\"scatter\"},{\"hoverinfo\":\"text\",\"marker\":{\"color\":\"rgb(133,20,75)\"},\"mode\":\"lines\",\"x\":[6625.0,6625.0,6640.0,6640.0],\"xaxis\":\"x\",\"y\":[0.0,0.05080145555024062,0.05080145555024062,0.03186917868742627],\"yaxis\":\"y\",\"type\":\"scatter\"},{\"hoverinfo\":\"text\",\"marker\":{\"color\":\"rgb(133,20,75)\"},\"mode\":\"lines\",\"x\":[6615.0,6615.0,6632.5,6632.5],\"xaxis\":\"x\",\"y\":[0.0,0.0722712600703384,0.0722712600703384,0.05080145555024062],\"yaxis\":\"y\",\"type\":\"scatter\"},{\"hoverinfo\":\"text\",\"marker\":{\"color\":\"rgb(133,20,75)\"},\"mode\":\"lines\",\"x\":[6583.75,6583.75,6623.75,6623.75],\"xaxis\":\"x\",\"y\":[0.06372816341583992,0.08942838033263058,0.08942838033263058,0.0722712600703384],\"yaxis\":\"y\",\"type\":\"scatter\"},{\"hoverinfo\":\"text\",\"marker\":{\"color\":\"rgb(133,20,75)\"},\"mode\":\"lines\",\"x\":[6552.5,6552.5,6603.75,6603.75],\"xaxis\":\"x\",\"y\":[0.06900030995939331,0.1294710023964535,0.1294710023964535,0.08942838033263058],\"yaxis\":\"y\",\"type\":\"scatter\"},{\"hoverinfo\":\"text\",\"marker\":{\"color\":\"rgb(133,20,75)\"},\"mode\":\"lines\",\"x\":[6665.0,6665.0,6675.0,6675.0],\"xaxis\":\"x\",\"y\":[0.0,0.03331883187389795,0.03331883187389795,0.0],\"yaxis\":\"y\",\"type\":\"scatter\"},{\"hoverinfo\":\"text\",\"marker\":{\"color\":\"rgb(133,20,75)\"},\"mode\":\"lines\",\"x\":[6655.0,6655.0,6670.0,6670.0],\"xaxis\":\"x\",\"y\":[0.0,0.08707909691323083,0.08707909691323083,0.03331883187389795],\"yaxis\":\"y\",\"type\":\"scatter\"},{\"hoverinfo\":\"text\",\"marker\":{\"color\":\"rgb(133,20,75)\"},\"mode\":\"lines\",\"x\":[6685.0,6685.0,6695.0,6695.0],\"xaxis\":\"x\",\"y\":[0.0,0.06502726233811837,0.06502726233811837,0.0],\"yaxis\":\"y\",\"type\":\"scatter\"},{\"hoverinfo\":\"text\",\"marker\":{\"color\":\"rgb(133,20,75)\"},\"mode\":\"lines\",\"x\":[6705.0,6705.0,6715.0,6715.0],\"xaxis\":\"x\",\"y\":[0.0,0.023287374830824013,0.023287374830824013,0.0],\"yaxis\":\"y\",\"type\":\"scatter\"},{\"hoverinfo\":\"text\",\"marker\":{\"color\":\"rgb(133,20,75)\"},\"mode\":\"lines\",\"x\":[6725.0,6725.0,6735.0,6735.0],\"xaxis\":\"x\",\"y\":[0.0,0.03997386440826058,0.03997386440826058,0.0],\"yaxis\":\"y\",\"type\":\"scatter\"},{\"hoverinfo\":\"text\",\"marker\":{\"color\":\"rgb(133,20,75)\"},\"mode\":\"lines\",\"x\":[6710.0,6710.0,6730.0,6730.0],\"xaxis\":\"x\",\"y\":[0.023287374830824013,0.0757980752718071,0.0757980752718071,0.03997386440826058],\"yaxis\":\"y\",\"type\":\"scatter\"},{\"hoverinfo\":\"text\",\"marker\":{\"color\":\"rgb(133,20,75)\"},\"mode\":\"lines\",\"x\":[6690.0,6690.0,6720.0,6720.0],\"xaxis\":\"x\",\"y\":[0.06502726233811837,0.10766794471644836,0.10766794471644836,0.0757980752718071],\"yaxis\":\"y\",\"type\":\"scatter\"},{\"hoverinfo\":\"text\",\"marker\":{\"color\":\"rgb(133,20,75)\"},\"mode\":\"lines\",\"x\":[6662.5,6662.5,6705.0,6705.0],\"xaxis\":\"x\",\"y\":[0.08707909691323083,0.14328428391436332,0.14328428391436332,0.10766794471644836],\"yaxis\":\"y\",\"type\":\"scatter\"},{\"hoverinfo\":\"text\",\"marker\":{\"color\":\"rgb(133,20,75)\"},\"mode\":\"lines\",\"x\":[6578.125,6578.125,6683.75,6683.75],\"xaxis\":\"x\",\"y\":[0.1294710023964535,0.20955802931027143,0.20955802931027143,0.14328428391436332],\"yaxis\":\"y\",\"type\":\"scatter\"},{\"hoverinfo\":\"text\",\"marker\":{\"color\":\"rgb(133,20,75)\"},\"mode\":\"lines\",\"x\":[6530.0,6530.0,6630.9375,6630.9375],\"xaxis\":\"x\",\"y\":[0.14269610698621688,0.2975380319051827,0.2975380319051827,0.20955802931027143],\"yaxis\":\"y\",\"type\":\"scatter\"},{\"hoverinfo\":\"text\",\"marker\":{\"color\":\"rgb(133,20,75)\"},\"mode\":\"lines\",\"x\":[6285.859375,6285.859375,6580.46875,6580.46875],\"xaxis\":\"x\",\"y\":[0.2552301716861515,0.33541024643309786,0.33541024643309786,0.2975380319051827],\"yaxis\":\"y\",\"type\":\"scatter\"},{\"hoverinfo\":\"text\",\"marker\":{\"color\":\"rgb(133,20,75)\"},\"mode\":\"lines\",\"x\":[5659.98046875,5659.98046875,6433.1640625,6433.1640625],\"xaxis\":\"x\",\"y\":[0.2854886163630816,0.4241720060833323,0.4241720060833323,0.33541024643309786],\"yaxis\":\"y\",\"type\":\"scatter\"},{\"hoverinfo\":\"text\",\"marker\":{\"color\":\"rgb(133,20,75)\"},\"mode\":\"lines\",\"x\":[4996.58203125,4996.58203125,6046.572265625,6046.572265625],\"xaxis\":\"x\",\"y\":[0.32002401760709026,0.47194138310411754,0.47194138310411754,0.4241720060833323],\"yaxis\":\"y\",\"type\":\"scatter\"},{\"hoverinfo\":\"text\",\"marker\":{\"color\":\"rgb(133,20,75)\"},\"mode\":\"lines\",\"x\":[6755.0,6755.0,6765.0,6765.0],\"xaxis\":\"x\",\"y\":[0.0,0.08727380325969591,0.08727380325969591,0.0],\"yaxis\":\"y\",\"type\":\"scatter\"},{\"hoverinfo\":\"text\",\"marker\":{\"color\":\"rgb(133,20,75)\"},\"mode\":\"lines\",\"x\":[6745.0,6745.0,6760.0,6760.0],\"xaxis\":\"x\",\"y\":[0.0,0.09596302600513462,0.09596302600513462,0.08727380325969591],\"yaxis\":\"y\",\"type\":\"scatter\"},{\"hoverinfo\":\"text\",\"marker\":{\"color\":\"rgb(133,20,75)\"},\"mode\":\"lines\",\"x\":[6775.0,6775.0,6785.0,6785.0],\"xaxis\":\"x\",\"y\":[0.0,0.12762184199876211,0.12762184199876211,0.0],\"yaxis\":\"y\",\"type\":\"scatter\"},{\"hoverinfo\":\"text\",\"marker\":{\"color\":\"rgb(133,20,75)\"},\"mode\":\"lines\",\"x\":[6795.0,6795.0,6805.0,6805.0],\"xaxis\":\"x\",\"y\":[0.0,0.057205248615401445,0.057205248615401445,0.0],\"yaxis\":\"y\",\"type\":\"scatter\"},{\"hoverinfo\":\"text\",\"marker\":{\"color\":\"rgb(133,20,75)\"},\"mode\":\"lines\",\"x\":[6815.0,6815.0,6825.0,6825.0],\"xaxis\":\"x\",\"y\":[0.0,0.09363214663423625,0.09363214663423625,0.0],\"yaxis\":\"y\",\"type\":\"scatter\"},{\"hoverinfo\":\"text\",\"marker\":{\"color\":\"rgb(133,20,75)\"},\"mode\":\"lines\",\"x\":[6800.0,6800.0,6820.0,6820.0],\"xaxis\":\"x\",\"y\":[0.057205248615401445,0.1097472487259645,0.1097472487259645,0.09363214663423625],\"yaxis\":\"y\",\"type\":\"scatter\"},{\"hoverinfo\":\"text\",\"marker\":{\"color\":\"rgb(133,20,75)\"},\"mode\":\"lines\",\"x\":[6835.0,6835.0,6845.0,6845.0],\"xaxis\":\"x\",\"y\":[0.0,0.08438228941370315,0.08438228941370315,0.0],\"yaxis\":\"y\",\"type\":\"scatter\"},{\"hoverinfo\":\"text\",\"marker\":{\"color\":\"rgb(133,20,75)\"},\"mode\":\"lines\",\"x\":[6865.0,6865.0,6875.0,6875.0],\"xaxis\":\"x\",\"y\":[0.0,0.0690256357386213,0.0690256357386213,0.0],\"yaxis\":\"y\",\"type\":\"scatter\"},{\"hoverinfo\":\"text\",\"marker\":{\"color\":\"rgb(133,20,75)\"},\"mode\":\"lines\",\"x\":[6855.0,6855.0,6870.0,6870.0],\"xaxis\":\"x\",\"y\":[0.0,0.10462584411555541,0.10462584411555541,0.0690256357386213],\"yaxis\":\"y\",\"type\":\"scatter\"},{\"hoverinfo\":\"text\",\"marker\":{\"color\":\"rgb(133,20,75)\"},\"mode\":\"lines\",\"x\":[6840.0,6840.0,6862.5,6862.5],\"xaxis\":\"x\",\"y\":[0.08438228941370315,0.12637778832861302,0.12637778832861302,0.10462584411555541],\"yaxis\":\"y\",\"type\":\"scatter\"},{\"hoverinfo\":\"text\",\"marker\":{\"color\":\"rgb(133,20,75)\"},\"mode\":\"lines\",\"x\":[6810.0,6810.0,6851.25,6851.25],\"xaxis\":\"x\",\"y\":[0.1097472487259645,0.18542282314852146,0.18542282314852146,0.12637778832861302],\"yaxis\":\"y\",\"type\":\"scatter\"},{\"hoverinfo\":\"text\",\"marker\":{\"color\":\"rgb(133,20,75)\"},\"mode\":\"lines\",\"x\":[6780.0,6780.0,6830.625,6830.625],\"xaxis\":\"x\",\"y\":[0.12762184199876211,0.20541444186560534,0.20541444186560534,0.18542282314852146],\"yaxis\":\"y\",\"type\":\"scatter\"},{\"hoverinfo\":\"text\",\"marker\":{\"color\":\"rgb(133,20,75)\"},\"mode\":\"lines\",\"x\":[6752.5,6752.5,6805.3125,6805.3125],\"xaxis\":\"x\",\"y\":[0.09596302600513462,0.23328287132454997,0.23328287132454997,0.20541444186560534],\"yaxis\":\"y\",\"type\":\"scatter\"},{\"hoverinfo\":\"text\",\"marker\":{\"color\":\"rgb(133,20,75)\"},\"mode\":\"lines\",\"x\":[6895.0,6895.0,6905.0,6905.0],\"xaxis\":\"x\",\"y\":[0.0,0.0856382402277149,0.0856382402277149,0.0],\"yaxis\":\"y\",\"type\":\"scatter\"},{\"hoverinfo\":\"text\",\"marker\":{\"color\":\"rgb(133,20,75)\"},\"mode\":\"lines\",\"x\":[6915.0,6915.0,6925.0,6925.0],\"xaxis\":\"x\",\"y\":[0.0,0.09548550719043711,0.09548550719043711,0.0],\"yaxis\":\"y\",\"type\":\"scatter\"},{\"hoverinfo\":\"text\",\"marker\":{\"color\":\"rgb(133,20,75)\"},\"mode\":\"lines\",\"x\":[6900.0,6900.0,6920.0,6920.0],\"xaxis\":\"x\",\"y\":[0.0856382402277149,0.14063195009870522,0.14063195009870522,0.09548550719043711],\"yaxis\":\"y\",\"type\":\"scatter\"},{\"hoverinfo\":\"text\",\"marker\":{\"color\":\"rgb(133,20,75)\"},\"mode\":\"lines\",\"x\":[6945.0,6945.0,6955.0,6955.0],\"xaxis\":\"x\",\"y\":[0.0,0.08411209404201776,0.08411209404201776,0.0],\"yaxis\":\"y\",\"type\":\"scatter\"},{\"hoverinfo\":\"text\",\"marker\":{\"color\":\"rgb(133,20,75)\"},\"mode\":\"lines\",\"x\":[6935.0,6935.0,6950.0,6950.0],\"xaxis\":\"x\",\"y\":[0.0,0.15031379883832757,0.15031379883832757,0.08411209404201776],\"yaxis\":\"y\",\"type\":\"scatter\"},{\"hoverinfo\":\"text\",\"marker\":{\"color\":\"rgb(133,20,75)\"},\"mode\":\"lines\",\"x\":[6910.0,6910.0,6942.5,6942.5],\"xaxis\":\"x\",\"y\":[0.14063195009870522,0.20767706953128576,0.20767706953128576,0.15031379883832757],\"yaxis\":\"y\",\"type\":\"scatter\"},{\"hoverinfo\":\"text\",\"marker\":{\"color\":\"rgb(133,20,75)\"},\"mode\":\"lines\",\"x\":[6885.0,6885.0,6926.25,6926.25],\"xaxis\":\"x\",\"y\":[0.0,0.2585929594824229,0.2585929594824229,0.20767706953128576],\"yaxis\":\"y\",\"type\":\"scatter\"},{\"hoverinfo\":\"text\",\"marker\":{\"color\":\"rgb(133,20,75)\"},\"mode\":\"lines\",\"x\":[6778.90625,6778.90625,6905.625,6905.625],\"xaxis\":\"x\",\"y\":[0.23328287132454997,0.33453556644494686,0.33453556644494686,0.2585929594824229],\"yaxis\":\"y\",\"type\":\"scatter\"},{\"hoverinfo\":\"text\",\"marker\":{\"color\":\"rgb(133,20,75)\"},\"mode\":\"lines\",\"x\":[6975.0,6975.0,6985.0,6985.0],\"xaxis\":\"x\",\"y\":[0.0,0.04142339536968152,0.04142339536968152,0.0],\"yaxis\":\"y\",\"type\":\"scatter\"},{\"hoverinfo\":\"text\",\"marker\":{\"color\":\"rgb(133,20,75)\"},\"mode\":\"lines\",\"x\":[6965.0,6965.0,6980.0,6980.0],\"xaxis\":\"x\",\"y\":[0.0,0.056820534656433185,0.056820534656433185,0.04142339536968152],\"yaxis\":\"y\",\"type\":\"scatter\"},{\"hoverinfo\":\"text\",\"marker\":{\"color\":\"rgb(133,20,75)\"},\"mode\":\"lines\",\"x\":[7005.0,7005.0,7015.0,7015.0],\"xaxis\":\"x\",\"y\":[0.0,0.01935536477935799,0.01935536477935799,0.0],\"yaxis\":\"y\",\"type\":\"scatter\"},{\"hoverinfo\":\"text\",\"marker\":{\"color\":\"rgb(133,20,75)\"},\"mode\":\"lines\",\"x\":[6995.0,6995.0,7010.0,7010.0],\"xaxis\":\"x\",\"y\":[0.0,0.05588143668475025,0.05588143668475025,0.01935536477935799],\"yaxis\":\"y\",\"type\":\"scatter\"},{\"hoverinfo\":\"text\",\"marker\":{\"color\":\"rgb(133,20,75)\"},\"mode\":\"lines\",\"x\":[7025.0,7025.0,7035.0,7035.0],\"xaxis\":\"x\",\"y\":[0.0,0.059118688545379036,0.059118688545379036,0.0],\"yaxis\":\"y\",\"type\":\"scatter\"},{\"hoverinfo\":\"text\",\"marker\":{\"color\":\"rgb(133,20,75)\"},\"mode\":\"lines\",\"x\":[7002.5,7002.5,7030.0,7030.0],\"xaxis\":\"x\",\"y\":[0.05588143668475025,0.08882960781606652,0.08882960781606652,0.059118688545379036],\"yaxis\":\"y\",\"type\":\"scatter\"},{\"hoverinfo\":\"text\",\"marker\":{\"color\":\"rgb(133,20,75)\"},\"mode\":\"lines\",\"x\":[6972.5,6972.5,7016.25,7016.25],\"xaxis\":\"x\",\"y\":[0.056820534656433185,0.11718542629790364,0.11718542629790364,0.08882960781606652],\"yaxis\":\"y\",\"type\":\"scatter\"},{\"hoverinfo\":\"text\",\"marker\":{\"color\":\"rgb(133,20,75)\"},\"mode\":\"lines\",\"x\":[7055.0,7055.0,7065.0,7065.0],\"xaxis\":\"x\",\"y\":[0.0,0.03517352660410945,0.03517352660410945,0.0],\"yaxis\":\"y\",\"type\":\"scatter\"},{\"hoverinfo\":\"text\",\"marker\":{\"color\":\"rgb(133,20,75)\"},\"mode\":\"lines\",\"x\":[7045.0,7045.0,7060.0,7060.0],\"xaxis\":\"x\",\"y\":[0.0,0.047231823057831815,0.047231823057831815,0.03517352660410945],\"yaxis\":\"y\",\"type\":\"scatter\"},{\"hoverinfo\":\"text\",\"marker\":{\"color\":\"rgb(133,20,75)\"},\"mode\":\"lines\",\"x\":[7075.0,7075.0,7085.0,7085.0],\"xaxis\":\"x\",\"y\":[0.0,0.03997506020649344,0.03997506020649344,0.0],\"yaxis\":\"y\",\"type\":\"scatter\"},{\"hoverinfo\":\"text\",\"marker\":{\"color\":\"rgb(133,20,75)\"},\"mode\":\"lines\",\"x\":[7095.0,7095.0,7105.0,7105.0],\"xaxis\":\"x\",\"y\":[0.0,0.022894664831506605,0.022894664831506605,0.0],\"yaxis\":\"y\",\"type\":\"scatter\"},{\"hoverinfo\":\"text\",\"marker\":{\"color\":\"rgb(133,20,75)\"},\"mode\":\"lines\",\"x\":[7115.0,7115.0,7125.0,7125.0],\"xaxis\":\"x\",\"y\":[0.0,0.025301173426181912,0.025301173426181912,0.0],\"yaxis\":\"y\",\"type\":\"scatter\"},{\"hoverinfo\":\"text\",\"marker\":{\"color\":\"rgb(133,20,75)\"},\"mode\":\"lines\",\"x\":[7100.0,7100.0,7120.0,7120.0],\"xaxis\":\"x\",\"y\":[0.022894664831506605,0.04680027861797822,0.04680027861797822,0.025301173426181912],\"yaxis\":\"y\",\"type\":\"scatter\"},{\"hoverinfo\":\"text\",\"marker\":{\"color\":\"rgb(133,20,75)\"},\"mode\":\"lines\",\"x\":[7080.0,7080.0,7110.0,7110.0],\"xaxis\":\"x\",\"y\":[0.03997506020649344,0.06758464659195115,0.06758464659195115,0.04680027861797822],\"yaxis\":\"y\",\"type\":\"scatter\"},{\"hoverinfo\":\"text\",\"marker\":{\"color\":\"rgb(133,20,75)\"},\"mode\":\"lines\",\"x\":[7052.5,7052.5,7095.0,7095.0],\"xaxis\":\"x\",\"y\":[0.047231823057831815,0.09570956999680848,0.09570956999680848,0.06758464659195115],\"yaxis\":\"y\",\"type\":\"scatter\"},{\"hoverinfo\":\"text\",\"marker\":{\"color\":\"rgb(133,20,75)\"},\"mode\":\"lines\",\"x\":[7135.0,7135.0,7145.0,7145.0],\"xaxis\":\"x\",\"y\":[0.0,0.03835045285457828,0.03835045285457828,0.0],\"yaxis\":\"y\",\"type\":\"scatter\"},{\"hoverinfo\":\"text\",\"marker\":{\"color\":\"rgb(133,20,75)\"},\"mode\":\"lines\",\"x\":[7165.0,7165.0,7175.0,7175.0],\"xaxis\":\"x\",\"y\":[0.0,0.024766006780250236,0.024766006780250236,0.0],\"yaxis\":\"y\",\"type\":\"scatter\"},{\"hoverinfo\":\"text\",\"marker\":{\"color\":\"rgb(133,20,75)\"},\"mode\":\"lines\",\"x\":[7155.0,7155.0,7170.0,7170.0],\"xaxis\":\"x\",\"y\":[0.0,0.04722111680261379,0.04722111680261379,0.024766006780250236],\"yaxis\":\"y\",\"type\":\"scatter\"},{\"hoverinfo\":\"text\",\"marker\":{\"color\":\"rgb(133,20,75)\"},\"mode\":\"lines\",\"x\":[7140.0,7140.0,7162.5,7162.5],\"xaxis\":\"x\",\"y\":[0.03835045285457828,0.06485564617568923,0.06485564617568923,0.04722111680261379],\"yaxis\":\"y\",\"type\":\"scatter\"},{\"hoverinfo\":\"text\",\"marker\":{\"color\":\"rgb(133,20,75)\"},\"mode\":\"lines\",\"x\":[7185.0,7185.0,7195.0,7195.0],\"xaxis\":\"x\",\"y\":[0.0,0.07021317247908027,0.07021317247908027,0.0],\"yaxis\":\"y\",\"type\":\"scatter\"},{\"hoverinfo\":\"text\",\"marker\":{\"color\":\"rgb(133,20,75)\"},\"mode\":\"lines\",\"x\":[7151.25,7151.25,7190.0,7190.0],\"xaxis\":\"x\",\"y\":[0.06485564617568923,0.10119555658377176,0.10119555658377176,0.07021317247908027],\"yaxis\":\"y\",\"type\":\"scatter\"},{\"hoverinfo\":\"text\",\"marker\":{\"color\":\"rgb(133,20,75)\"},\"mode\":\"lines\",\"x\":[7073.75,7073.75,7170.625,7170.625],\"xaxis\":\"x\",\"y\":[0.09570956999680848,0.13198611559371212,0.13198611559371212,0.10119555658377176],\"yaxis\":\"y\",\"type\":\"scatter\"},{\"hoverinfo\":\"text\",\"marker\":{\"color\":\"rgb(133,20,75)\"},\"mode\":\"lines\",\"x\":[6994.375,6994.375,7122.1875,7122.1875],\"xaxis\":\"x\",\"y\":[0.11718542629790364,0.160733738350864,0.160733738350864,0.13198611559371212],\"yaxis\":\"y\",\"type\":\"scatter\"},{\"hoverinfo\":\"text\",\"marker\":{\"color\":\"rgb(133,20,75)\"},\"mode\":\"lines\",\"x\":[7215.0,7215.0,7225.0,7225.0],\"xaxis\":\"x\",\"y\":[0.0,0.01601978263449176,0.01601978263449176,0.0],\"yaxis\":\"y\",\"type\":\"scatter\"},{\"hoverinfo\":\"text\",\"marker\":{\"color\":\"rgb(133,20,75)\"},\"mode\":\"lines\",\"x\":[7205.0,7205.0,7220.0,7220.0],\"xaxis\":\"x\",\"y\":[0.0,0.0472809115821386,0.0472809115821386,0.01601978263449176],\"yaxis\":\"y\",\"type\":\"scatter\"},{\"hoverinfo\":\"text\",\"marker\":{\"color\":\"rgb(133,20,75)\"},\"mode\":\"lines\",\"x\":[7255.0,7255.0,7265.0,7265.0],\"xaxis\":\"x\",\"y\":[0.0,0.010582021185262303,0.010582021185262303,0.0],\"yaxis\":\"y\",\"type\":\"scatter\"},{\"hoverinfo\":\"text\",\"marker\":{\"color\":\"rgb(133,20,75)\"},\"mode\":\"lines\",\"x\":[7245.0,7245.0,7260.0,7260.0],\"xaxis\":\"x\",\"y\":[0.0,0.029439881353429093,0.029439881353429093,0.010582021185262303],\"yaxis\":\"y\",\"type\":\"scatter\"},{\"hoverinfo\":\"text\",\"marker\":{\"color\":\"rgb(133,20,75)\"},\"mode\":\"lines\",\"x\":[7275.0,7275.0,7285.0,7285.0],\"xaxis\":\"x\",\"y\":[0.0,0.04120533723301949,0.04120533723301949,0.0],\"yaxis\":\"y\",\"type\":\"scatter\"},{\"hoverinfo\":\"text\",\"marker\":{\"color\":\"rgb(133,20,75)\"},\"mode\":\"lines\",\"x\":[7252.5,7252.5,7280.0,7280.0],\"xaxis\":\"x\",\"y\":[0.029439881353429093,0.04262296885562854,0.04262296885562854,0.04120533723301949],\"yaxis\":\"y\",\"type\":\"scatter\"},{\"hoverinfo\":\"text\",\"marker\":{\"color\":\"rgb(133,20,75)\"},\"mode\":\"lines\",\"x\":[7235.0,7235.0,7266.25,7266.25],\"xaxis\":\"x\",\"y\":[0.0,0.05857001466163956,0.05857001466163956,0.04262296885562854],\"yaxis\":\"y\",\"type\":\"scatter\"},{\"hoverinfo\":\"text\",\"marker\":{\"color\":\"rgb(133,20,75)\"},\"mode\":\"lines\",\"x\":[7212.5,7212.5,7250.625,7250.625],\"xaxis\":\"x\",\"y\":[0.0472809115821386,0.07826079811882793,0.07826079811882793,0.05857001466163956],\"yaxis\":\"y\",\"type\":\"scatter\"},{\"hoverinfo\":\"text\",\"marker\":{\"color\":\"rgb(133,20,75)\"},\"mode\":\"lines\",\"x\":[7315.0,7315.0,7325.0,7325.0],\"xaxis\":\"x\",\"y\":[0.0,0.028292606331547718,0.028292606331547718,0.0],\"yaxis\":\"y\",\"type\":\"scatter\"},{\"hoverinfo\":\"text\",\"marker\":{\"color\":\"rgb(133,20,75)\"},\"mode\":\"lines\",\"x\":[7305.0,7305.0,7320.0,7320.0],\"xaxis\":\"x\",\"y\":[0.0,0.03349233935487091,0.03349233935487091,0.028292606331547718],\"yaxis\":\"y\",\"type\":\"scatter\"},{\"hoverinfo\":\"text\",\"marker\":{\"color\":\"rgb(133,20,75)\"},\"mode\":\"lines\",\"x\":[7295.0,7295.0,7312.5,7312.5],\"xaxis\":\"x\",\"y\":[0.0,0.06287678694971076,0.06287678694971076,0.03349233935487091],\"yaxis\":\"y\",\"type\":\"scatter\"},{\"hoverinfo\":\"text\",\"marker\":{\"color\":\"rgb(133,20,75)\"},\"mode\":\"lines\",\"x\":[7345.0,7345.0,7355.0,7355.0],\"xaxis\":\"x\",\"y\":[0.0,0.02205244183944299,0.02205244183944299,0.0],\"yaxis\":\"y\",\"type\":\"scatter\"},{\"hoverinfo\":\"text\",\"marker\":{\"color\":\"rgb(133,20,75)\"},\"mode\":\"lines\",\"x\":[7335.0,7335.0,7350.0,7350.0],\"xaxis\":\"x\",\"y\":[0.0,0.03402671457547211,0.03402671457547211,0.02205244183944299],\"yaxis\":\"y\",\"type\":\"scatter\"},{\"hoverinfo\":\"text\",\"marker\":{\"color\":\"rgb(133,20,75)\"},\"mode\":\"lines\",\"x\":[7365.0,7365.0,7375.0,7375.0],\"xaxis\":\"x\",\"y\":[0.0,0.03849268675824511,0.03849268675824511,0.0],\"yaxis\":\"y\",\"type\":\"scatter\"},{\"hoverinfo\":\"text\",\"marker\":{\"color\":\"rgb(133,20,75)\"},\"mode\":\"lines\",\"x\":[7342.5,7342.5,7370.0,7370.0],\"xaxis\":\"x\",\"y\":[0.03402671457547211,0.06683329580566341,0.06683329580566341,0.03849268675824511],\"yaxis\":\"y\",\"type\":\"scatter\"},{\"hoverinfo\":\"text\",\"marker\":{\"color\":\"rgb(133,20,75)\"},\"mode\":\"lines\",\"x\":[7303.75,7303.75,7356.25,7356.25],\"xaxis\":\"x\",\"y\":[0.06287678694971076,0.09458742108920692,0.09458742108920692,0.06683329580566341],\"yaxis\":\"y\",\"type\":\"scatter\"},{\"hoverinfo\":\"text\",\"marker\":{\"color\":\"rgb(133,20,75)\"},\"mode\":\"lines\",\"x\":[7395.0,7395.0,7405.0,7405.0],\"xaxis\":\"x\",\"y\":[0.0,0.019112834103817047,0.019112834103817047,0.0],\"yaxis\":\"y\",\"type\":\"scatter\"},{\"hoverinfo\":\"text\",\"marker\":{\"color\":\"rgb(133,20,75)\"},\"mode\":\"lines\",\"x\":[7385.0,7385.0,7400.0,7400.0],\"xaxis\":\"x\",\"y\":[0.0,0.04035815163246044,0.04035815163246044,0.019112834103817047],\"yaxis\":\"y\",\"type\":\"scatter\"},{\"hoverinfo\":\"text\",\"marker\":{\"color\":\"rgb(133,20,75)\"},\"mode\":\"lines\",\"x\":[7415.0,7415.0,7425.0,7425.0],\"xaxis\":\"x\",\"y\":[0.0,0.01639225696502083,0.01639225696502083,0.0],\"yaxis\":\"y\",\"type\":\"scatter\"},{\"hoverinfo\":\"text\",\"marker\":{\"color\":\"rgb(133,20,75)\"},\"mode\":\"lines\",\"x\":[7435.0,7435.0,7445.0,7445.0],\"xaxis\":\"x\",\"y\":[0.0,0.016931571385494015,0.016931571385494015,0.0],\"yaxis\":\"y\",\"type\":\"scatter\"},{\"hoverinfo\":\"text\",\"marker\":{\"color\":\"rgb(133,20,75)\"},\"mode\":\"lines\",\"x\":[7420.0,7420.0,7440.0,7440.0],\"xaxis\":\"x\",\"y\":[0.01639225696502083,0.03881877450256271,0.03881877450256271,0.016931571385494015],\"yaxis\":\"y\",\"type\":\"scatter\"},{\"hoverinfo\":\"text\",\"marker\":{\"color\":\"rgb(133,20,75)\"},\"mode\":\"lines\",\"x\":[7465.0,7465.0,7475.0,7475.0],\"xaxis\":\"x\",\"y\":[0.0,0.03327452773315352,0.03327452773315352,0.0],\"yaxis\":\"y\",\"type\":\"scatter\"},{\"hoverinfo\":\"text\",\"marker\":{\"color\":\"rgb(133,20,75)\"},\"mode\":\"lines\",\"x\":[7455.0,7455.0,7470.0,7470.0],\"xaxis\":\"x\",\"y\":[0.0,0.05033479905412794,0.05033479905412794,0.03327452773315352],\"yaxis\":\"y\",\"type\":\"scatter\"},{\"hoverinfo\":\"text\",\"marker\":{\"color\":\"rgb(133,20,75)\"},\"mode\":\"lines\",\"x\":[7430.0,7430.0,7462.5,7462.5],\"xaxis\":\"x\",\"y\":[0.03881877450256271,0.05935617135444162,0.05935617135444162,0.05033479905412794],\"yaxis\":\"y\",\"type\":\"scatter\"},{\"hoverinfo\":\"text\",\"marker\":{\"color\":\"rgb(133,20,75)\"},\"mode\":\"lines\",\"x\":[7392.5,7392.5,7446.25,7446.25],\"xaxis\":\"x\",\"y\":[0.04035815163246044,0.09678133748033581,0.09678133748033581,0.05935617135444162],\"yaxis\":\"y\",\"type\":\"scatter\"},{\"hoverinfo\":\"text\",\"marker\":{\"color\":\"rgb(133,20,75)\"},\"mode\":\"lines\",\"x\":[7330.0,7330.0,7419.375,7419.375],\"xaxis\":\"x\",\"y\":[0.09458742108920692,0.11188941010673824,0.11188941010673824,0.09678133748033581],\"yaxis\":\"y\",\"type\":\"scatter\"},{\"hoverinfo\":\"text\",\"marker\":{\"color\":\"rgb(133,20,75)\"},\"mode\":\"lines\",\"x\":[7231.5625,7231.5625,7374.6875,7374.6875],\"xaxis\":\"x\",\"y\":[0.07826079811882793,0.13299772771582022,0.13299772771582022,0.11188941010673824],\"yaxis\":\"y\",\"type\":\"scatter\"},{\"hoverinfo\":\"text\",\"marker\":{\"color\":\"rgb(133,20,75)\"},\"mode\":\"lines\",\"x\":[7485.0,7485.0,7495.0,7495.0],\"xaxis\":\"x\",\"y\":[0.0,0.04765988880581852,0.04765988880581852,0.0],\"yaxis\":\"y\",\"type\":\"scatter\"},{\"hoverinfo\":\"text\",\"marker\":{\"color\":\"rgb(133,20,75)\"},\"mode\":\"lines\",\"x\":[7515.0,7515.0,7525.0,7525.0],\"xaxis\":\"x\",\"y\":[0.0,0.00941149075442628,0.00941149075442628,0.0],\"yaxis\":\"y\",\"type\":\"scatter\"},{\"hoverinfo\":\"text\",\"marker\":{\"color\":\"rgb(133,20,75)\"},\"mode\":\"lines\",\"x\":[7505.0,7505.0,7520.0,7520.0],\"xaxis\":\"x\",\"y\":[0.0,0.023465171762109126,0.023465171762109126,0.00941149075442628],\"yaxis\":\"y\",\"type\":\"scatter\"},{\"hoverinfo\":\"text\",\"marker\":{\"color\":\"rgb(133,20,75)\"},\"mode\":\"lines\",\"x\":[7545.0,7545.0,7555.0,7555.0],\"xaxis\":\"x\",\"y\":[0.0,0.01800966919790458,0.01800966919790458,0.0],\"yaxis\":\"y\",\"type\":\"scatter\"},{\"hoverinfo\":\"text\",\"marker\":{\"color\":\"rgb(133,20,75)\"},\"mode\":\"lines\",\"x\":[7535.0,7535.0,7550.0,7550.0],\"xaxis\":\"x\",\"y\":[0.0,0.028820906456622865,0.028820906456622865,0.01800966919790458],\"yaxis\":\"y\",\"type\":\"scatter\"},{\"hoverinfo\":\"text\",\"marker\":{\"color\":\"rgb(133,20,75)\"},\"mode\":\"lines\",\"x\":[7512.5,7512.5,7542.5,7542.5],\"xaxis\":\"x\",\"y\":[0.023465171762109126,0.05211256679303334,0.05211256679303334,0.028820906456622865],\"yaxis\":\"y\",\"type\":\"scatter\"},{\"hoverinfo\":\"text\",\"marker\":{\"color\":\"rgb(133,20,75)\"},\"mode\":\"lines\",\"x\":[7490.0,7490.0,7527.5,7527.5],\"xaxis\":\"x\",\"y\":[0.04765988880581852,0.08188147928142767,0.08188147928142767,0.05211256679303334],\"yaxis\":\"y\",\"type\":\"scatter\"},{\"hoverinfo\":\"text\",\"marker\":{\"color\":\"rgb(133,20,75)\"},\"mode\":\"lines\",\"x\":[7565.0,7565.0,7575.0,7575.0],\"xaxis\":\"x\",\"y\":[0.0,0.0306599154812825,0.0306599154812825,0.0],\"yaxis\":\"y\",\"type\":\"scatter\"},{\"hoverinfo\":\"text\",\"marker\":{\"color\":\"rgb(133,20,75)\"},\"mode\":\"lines\",\"x\":[7595.0,7595.0,7605.0,7605.0],\"xaxis\":\"x\",\"y\":[0.0,0.03348915487133211,0.03348915487133211,0.0],\"yaxis\":\"y\",\"type\":\"scatter\"},{\"hoverinfo\":\"text\",\"marker\":{\"color\":\"rgb(133,20,75)\"},\"mode\":\"lines\",\"x\":[7585.0,7585.0,7600.0,7600.0],\"xaxis\":\"x\",\"y\":[0.0,0.04476504485911221,0.04476504485911221,0.03348915487133211],\"yaxis\":\"y\",\"type\":\"scatter\"},{\"hoverinfo\":\"text\",\"marker\":{\"color\":\"rgb(133,20,75)\"},\"mode\":\"lines\",\"x\":[7570.0,7570.0,7592.5,7592.5],\"xaxis\":\"x\",\"y\":[0.0306599154812825,0.05464004467096721,0.05464004467096721,0.04476504485911221],\"yaxis\":\"y\",\"type\":\"scatter\"},{\"hoverinfo\":\"text\",\"marker\":{\"color\":\"rgb(133,20,75)\"},\"mode\":\"lines\",\"x\":[7615.0,7615.0,7625.0,7625.0],\"xaxis\":\"x\",\"y\":[0.0,0.02347440097727709,0.02347440097727709,0.0],\"yaxis\":\"y\",\"type\":\"scatter\"},{\"hoverinfo\":\"text\",\"marker\":{\"color\":\"rgb(133,20,75)\"},\"mode\":\"lines\",\"x\":[7645.0,7645.0,7655.0,7655.0],\"xaxis\":\"x\",\"y\":[0.0,0.02437164482468046,0.02437164482468046,0.0],\"yaxis\":\"y\",\"type\":\"scatter\"},{\"hoverinfo\":\"text\",\"marker\":{\"color\":\"rgb(133,20,75)\"},\"mode\":\"lines\",\"x\":[7635.0,7635.0,7650.0,7650.0],\"xaxis\":\"x\",\"y\":[0.0,0.026171342270598613,0.026171342270598613,0.02437164482468046],\"yaxis\":\"y\",\"type\":\"scatter\"},{\"hoverinfo\":\"text\",\"marker\":{\"color\":\"rgb(133,20,75)\"},\"mode\":\"lines\",\"x\":[7620.0,7620.0,7642.5,7642.5],\"xaxis\":\"x\",\"y\":[0.02347440097727709,0.03970807271937946,0.03970807271937946,0.026171342270598613],\"yaxis\":\"y\",\"type\":\"scatter\"},{\"hoverinfo\":\"text\",\"marker\":{\"color\":\"rgb(133,20,75)\"},\"mode\":\"lines\",\"x\":[7675.0,7675.0,7685.0,7685.0],\"xaxis\":\"x\",\"y\":[0.0,0.017508005947785208,0.017508005947785208,0.0],\"yaxis\":\"y\",\"type\":\"scatter\"},{\"hoverinfo\":\"text\",\"marker\":{\"color\":\"rgb(133,20,75)\"},\"mode\":\"lines\",\"x\":[7665.0,7665.0,7680.0,7680.0],\"xaxis\":\"x\",\"y\":[0.0,0.024840320685992148,0.024840320685992148,0.017508005947785208],\"yaxis\":\"y\",\"type\":\"scatter\"},{\"hoverinfo\":\"text\",\"marker\":{\"color\":\"rgb(133,20,75)\"},\"mode\":\"lines\",\"x\":[7705.0,7705.0,7715.0,7715.0],\"xaxis\":\"x\",\"y\":[0.0,0.025763454958107463,0.025763454958107463,0.0],\"yaxis\":\"y\",\"type\":\"scatter\"},{\"hoverinfo\":\"text\",\"marker\":{\"color\":\"rgb(133,20,75)\"},\"mode\":\"lines\",\"x\":[7695.0,7695.0,7710.0,7710.0],\"xaxis\":\"x\",\"y\":[0.0,0.03940667054388198,0.03940667054388198,0.025763454958107463],\"yaxis\":\"y\",\"type\":\"scatter\"},{\"hoverinfo\":\"text\",\"marker\":{\"color\":\"rgb(133,20,75)\"},\"mode\":\"lines\",\"x\":[7672.5,7672.5,7702.5,7702.5],\"xaxis\":\"x\",\"y\":[0.024840320685992148,0.054102080048369715,0.054102080048369715,0.03940667054388198],\"yaxis\":\"y\",\"type\":\"scatter\"},{\"hoverinfo\":\"text\",\"marker\":{\"color\":\"rgb(133,20,75)\"},\"mode\":\"lines\",\"x\":[7631.25,7631.25,7687.5,7687.5],\"xaxis\":\"x\",\"y\":[0.03970807271937946,0.07240908007577787,0.07240908007577787,0.054102080048369715],\"yaxis\":\"y\",\"type\":\"scatter\"},{\"hoverinfo\":\"text\",\"marker\":{\"color\":\"rgb(133,20,75)\"},\"mode\":\"lines\",\"x\":[7581.25,7581.25,7659.375,7659.375],\"xaxis\":\"x\",\"y\":[0.05464004467096721,0.09039539753874538,0.09039539753874538,0.07240908007577787],\"yaxis\":\"y\",\"type\":\"scatter\"},{\"hoverinfo\":\"text\",\"marker\":{\"color\":\"rgb(133,20,75)\"},\"mode\":\"lines\",\"x\":[7508.75,7508.75,7620.3125,7620.3125],\"xaxis\":\"x\",\"y\":[0.08188147928142767,0.09745140174080728,0.09745140174080728,0.09039539753874538],\"yaxis\":\"y\",\"type\":\"scatter\"},{\"hoverinfo\":\"text\",\"marker\":{\"color\":\"rgb(133,20,75)\"},\"mode\":\"lines\",\"x\":[7725.0,7725.0,7735.0,7735.0],\"xaxis\":\"x\",\"y\":[0.0,0.0249749293143883,0.0249749293143883,0.0],\"yaxis\":\"y\",\"type\":\"scatter\"},{\"hoverinfo\":\"text\",\"marker\":{\"color\":\"rgb(133,20,75)\"},\"mode\":\"lines\",\"x\":[7755.0,7755.0,7765.0,7765.0],\"xaxis\":\"x\",\"y\":[0.0,0.019810524178214522,0.019810524178214522,0.0],\"yaxis\":\"y\",\"type\":\"scatter\"},{\"hoverinfo\":\"text\",\"marker\":{\"color\":\"rgb(133,20,75)\"},\"mode\":\"lines\",\"x\":[7745.0,7745.0,7760.0,7760.0],\"xaxis\":\"x\",\"y\":[0.0,0.049443386450391945,0.049443386450391945,0.019810524178214522],\"yaxis\":\"y\",\"type\":\"scatter\"},{\"hoverinfo\":\"text\",\"marker\":{\"color\":\"rgb(133,20,75)\"},\"mode\":\"lines\",\"x\":[7730.0,7730.0,7752.5,7752.5],\"xaxis\":\"x\",\"y\":[0.0249749293143883,0.06898489141691407,0.06898489141691407,0.049443386450391945],\"yaxis\":\"y\",\"type\":\"scatter\"},{\"hoverinfo\":\"text\",\"marker\":{\"color\":\"rgb(133,20,75)\"},\"mode\":\"lines\",\"x\":[7775.0,7775.0,7785.0,7785.0],\"xaxis\":\"x\",\"y\":[0.0,0.04264706650863801,0.04264706650863801,0.0],\"yaxis\":\"y\",\"type\":\"scatter\"},{\"hoverinfo\":\"text\",\"marker\":{\"color\":\"rgb(133,20,75)\"},\"mode\":\"lines\",\"x\":[7805.0,7805.0,7815.0,7815.0],\"xaxis\":\"x\",\"y\":[0.0,0.022700944518074005,0.022700944518074005,0.0],\"yaxis\":\"y\",\"type\":\"scatter\"},{\"hoverinfo\":\"text\",\"marker\":{\"color\":\"rgb(133,20,75)\"},\"mode\":\"lines\",\"x\":[7795.0,7795.0,7810.0,7810.0],\"xaxis\":\"x\",\"y\":[0.0,0.052153083529045435,0.052153083529045435,0.022700944518074005],\"yaxis\":\"y\",\"type\":\"scatter\"},{\"hoverinfo\":\"text\",\"marker\":{\"color\":\"rgb(133,20,75)\"},\"mode\":\"lines\",\"x\":[7780.0,7780.0,7802.5,7802.5],\"xaxis\":\"x\",\"y\":[0.04264706650863801,0.07976679122704779,0.07976679122704779,0.052153083529045435],\"yaxis\":\"y\",\"type\":\"scatter\"},{\"hoverinfo\":\"text\",\"marker\":{\"color\":\"rgb(133,20,75)\"},\"mode\":\"lines\",\"x\":[7741.25,7741.25,7791.25,7791.25],\"xaxis\":\"x\",\"y\":[0.06898489141691407,0.09985198961917266,0.09985198961917266,0.07976679122704779],\"yaxis\":\"y\",\"type\":\"scatter\"},{\"hoverinfo\":\"text\",\"marker\":{\"color\":\"rgb(133,20,75)\"},\"mode\":\"lines\",\"x\":[7564.53125,7564.53125,7766.25,7766.25],\"xaxis\":\"x\",\"y\":[0.09745140174080728,0.15843632691041776,0.15843632691041776,0.09985198961917266],\"yaxis\":\"y\",\"type\":\"scatter\"},{\"hoverinfo\":\"text\",\"marker\":{\"color\":\"rgb(133,20,75)\"},\"mode\":\"lines\",\"x\":[7303.125,7303.125,7665.390625,7665.390625],\"xaxis\":\"x\",\"y\":[0.13299772771582022,0.1908014001317677,0.1908014001317677,0.15843632691041776],\"yaxis\":\"y\",\"type\":\"scatter\"},{\"hoverinfo\":\"text\",\"marker\":{\"color\":\"rgb(133,20,75)\"},\"mode\":\"lines\",\"x\":[7058.28125,7058.28125,7484.2578125,7484.2578125],\"xaxis\":\"x\",\"y\":[0.160733738350864,0.22447603413462783,0.22447603413462783,0.1908014001317677],\"yaxis\":\"y\",\"type\":\"scatter\"},{\"hoverinfo\":\"text\",\"marker\":{\"color\":\"rgb(133,20,75)\"},\"mode\":\"lines\",\"x\":[7825.0,7825.0,7835.0,7835.0],\"xaxis\":\"x\",\"y\":[0.0,0.03473927409007552,0.03473927409007552,0.0],\"yaxis\":\"y\",\"type\":\"scatter\"},{\"hoverinfo\":\"text\",\"marker\":{\"color\":\"rgb(133,20,75)\"},\"mode\":\"lines\",\"x\":[7855.0,7855.0,7865.0,7865.0],\"xaxis\":\"x\",\"y\":[0.0,0.03785259628925675,0.03785259628925675,0.0],\"yaxis\":\"y\",\"type\":\"scatter\"},{\"hoverinfo\":\"text\",\"marker\":{\"color\":\"rgb(133,20,75)\"},\"mode\":\"lines\",\"x\":[7845.0,7845.0,7860.0,7860.0],\"xaxis\":\"x\",\"y\":[0.0,0.04256083596211739,0.04256083596211739,0.03785259628925675],\"yaxis\":\"y\",\"type\":\"scatter\"},{\"hoverinfo\":\"text\",\"marker\":{\"color\":\"rgb(133,20,75)\"},\"mode\":\"lines\",\"x\":[7830.0,7830.0,7852.5,7852.5],\"xaxis\":\"x\",\"y\":[0.03473927409007552,0.08760708852171009,0.08760708852171009,0.04256083596211739],\"yaxis\":\"y\",\"type\":\"scatter\"},{\"hoverinfo\":\"text\",\"marker\":{\"color\":\"rgb(133,20,75)\"},\"mode\":\"lines\",\"x\":[7875.0,7875.0,7885.0,7885.0],\"xaxis\":\"x\",\"y\":[0.0,0.06283649666018962,0.06283649666018962,0.0],\"yaxis\":\"y\",\"type\":\"scatter\"},{\"hoverinfo\":\"text\",\"marker\":{\"color\":\"rgb(133,20,75)\"},\"mode\":\"lines\",\"x\":[7915.0,7915.0,7925.0,7925.0],\"xaxis\":\"x\",\"y\":[0.0,0.024560098878661504,0.024560098878661504,0.0],\"yaxis\":\"y\",\"type\":\"scatter\"},{\"hoverinfo\":\"text\",\"marker\":{\"color\":\"rgb(133,20,75)\"},\"mode\":\"lines\",\"x\":[7905.0,7905.0,7920.0,7920.0],\"xaxis\":\"x\",\"y\":[0.0,0.054011283055510985,0.054011283055510985,0.024560098878661504],\"yaxis\":\"y\",\"type\":\"scatter\"},{\"hoverinfo\":\"text\",\"marker\":{\"color\":\"rgb(133,20,75)\"},\"mode\":\"lines\",\"x\":[7895.0,7895.0,7912.5,7912.5],\"xaxis\":\"x\",\"y\":[0.0,0.09581497136735219,0.09581497136735219,0.054011283055510985],\"yaxis\":\"y\",\"type\":\"scatter\"},{\"hoverinfo\":\"text\",\"marker\":{\"color\":\"rgb(133,20,75)\"},\"mode\":\"lines\",\"x\":[7955.0,7955.0,7965.0,7965.0],\"xaxis\":\"x\",\"y\":[0.0,0.04142108772475294,0.04142108772475294,0.0],\"yaxis\":\"y\",\"type\":\"scatter\"},{\"hoverinfo\":\"text\",\"marker\":{\"color\":\"rgb(133,20,75)\"},\"mode\":\"lines\",\"x\":[7945.0,7945.0,7960.0,7960.0],\"xaxis\":\"x\",\"y\":[0.0,0.06272142346674114,0.06272142346674114,0.04142108772475294],\"yaxis\":\"y\",\"type\":\"scatter\"},{\"hoverinfo\":\"text\",\"marker\":{\"color\":\"rgb(133,20,75)\"},\"mode\":\"lines\",\"x\":[7935.0,7935.0,7952.5,7952.5],\"xaxis\":\"x\",\"y\":[0.0,0.08296529471861859,0.08296529471861859,0.06272142346674114],\"yaxis\":\"y\",\"type\":\"scatter\"},{\"hoverinfo\":\"text\",\"marker\":{\"color\":\"rgb(133,20,75)\"},\"mode\":\"lines\",\"x\":[7975.0,7975.0,7985.0,7985.0],\"xaxis\":\"x\",\"y\":[0.0,0.016264658844564968,0.016264658844564968,0.0],\"yaxis\":\"y\",\"type\":\"scatter\"},{\"hoverinfo\":\"text\",\"marker\":{\"color\":\"rgb(133,20,75)\"},\"mode\":\"lines\",\"x\":[7995.0,7995.0,8005.0,8005.0],\"xaxis\":\"x\",\"y\":[0.0,0.030367990998101835,0.030367990998101835,0.0],\"yaxis\":\"y\",\"type\":\"scatter\"},{\"hoverinfo\":\"text\",\"marker\":{\"color\":\"rgb(133,20,75)\"},\"mode\":\"lines\",\"x\":[7980.0,7980.0,8000.0,8000.0],\"xaxis\":\"x\",\"y\":[0.016264658844564968,0.044555596191533396,0.044555596191533396,0.030367990998101835],\"yaxis\":\"y\",\"type\":\"scatter\"},{\"hoverinfo\":\"text\",\"marker\":{\"color\":\"rgb(133,20,75)\"},\"mode\":\"lines\",\"x\":[8025.0,8025.0,8035.0,8035.0],\"xaxis\":\"x\",\"y\":[0.0,0.029761470484351297,0.029761470484351297,0.0],\"yaxis\":\"y\",\"type\":\"scatter\"},{\"hoverinfo\":\"text\",\"marker\":{\"color\":\"rgb(133,20,75)\"},\"mode\":\"lines\",\"x\":[8045.0,8045.0,8055.0,8055.0],\"xaxis\":\"x\",\"y\":[0.0,0.033457394262553286,0.033457394262553286,0.0],\"yaxis\":\"y\",\"type\":\"scatter\"},{\"hoverinfo\":\"text\",\"marker\":{\"color\":\"rgb(133,20,75)\"},\"mode\":\"lines\",\"x\":[8030.0,8030.0,8050.0,8050.0],\"xaxis\":\"x\",\"y\":[0.029761470484351297,0.03926930443441322,0.03926930443441322,0.033457394262553286],\"yaxis\":\"y\",\"type\":\"scatter\"},{\"hoverinfo\":\"text\",\"marker\":{\"color\":\"rgb(133,20,75)\"},\"mode\":\"lines\",\"x\":[8015.0,8015.0,8040.0,8040.0],\"xaxis\":\"x\",\"y\":[0.0,0.06214902804455525,0.06214902804455525,0.03926930443441322],\"yaxis\":\"y\",\"type\":\"scatter\"},{\"hoverinfo\":\"text\",\"marker\":{\"color\":\"rgb(133,20,75)\"},\"mode\":\"lines\",\"x\":[7990.0,7990.0,8027.5,8027.5],\"xaxis\":\"x\",\"y\":[0.044555596191533396,0.06675116437929161,0.06675116437929161,0.06214902804455525],\"yaxis\":\"y\",\"type\":\"scatter\"},{\"hoverinfo\":\"text\",\"marker\":{\"color\":\"rgb(133,20,75)\"},\"mode\":\"lines\",\"x\":[8075.0,8075.0,8085.0,8085.0],\"xaxis\":\"x\",\"y\":[0.0,0.020901734963260827,0.020901734963260827,0.0],\"yaxis\":\"y\",\"type\":\"scatter\"},{\"hoverinfo\":\"text\",\"marker\":{\"color\":\"rgb(133,20,75)\"},\"mode\":\"lines\",\"x\":[8105.0,8105.0,8115.0,8115.0],\"xaxis\":\"x\",\"y\":[0.0,0.02424777859389546,0.02424777859389546,0.0],\"yaxis\":\"y\",\"type\":\"scatter\"},{\"hoverinfo\":\"text\",\"marker\":{\"color\":\"rgb(133,20,75)\"},\"mode\":\"lines\",\"x\":[8095.0,8095.0,8110.0,8110.0],\"xaxis\":\"x\",\"y\":[0.0,0.05002723052916527,0.05002723052916527,0.02424777859389546],\"yaxis\":\"y\",\"type\":\"scatter\"},{\"hoverinfo\":\"text\",\"marker\":{\"color\":\"rgb(133,20,75)\"},\"mode\":\"lines\",\"x\":[8080.0,8080.0,8102.5,8102.5],\"xaxis\":\"x\",\"y\":[0.020901734963260827,0.05270619064922704,0.05270619064922704,0.05002723052916527],\"yaxis\":\"y\",\"type\":\"scatter\"},{\"hoverinfo\":\"text\",\"marker\":{\"color\":\"rgb(133,20,75)\"},\"mode\":\"lines\",\"x\":[8065.0,8065.0,8091.25,8091.25],\"xaxis\":\"x\",\"y\":[0.0,0.0815671346689442,0.0815671346689442,0.05270619064922704],\"yaxis\":\"y\",\"type\":\"scatter\"},{\"hoverinfo\":\"text\",\"marker\":{\"color\":\"rgb(133,20,75)\"},\"mode\":\"lines\",\"x\":[8008.75,8008.75,8078.125,8078.125],\"xaxis\":\"x\",\"y\":[0.06675116437929161,0.11224861120789878,0.11224861120789878,0.0815671346689442],\"yaxis\":\"y\",\"type\":\"scatter\"},{\"hoverinfo\":\"text\",\"marker\":{\"color\":\"rgb(133,20,75)\"},\"mode\":\"lines\",\"x\":[7943.75,7943.75,8043.4375,8043.4375],\"xaxis\":\"x\",\"y\":[0.08296529471861859,0.12674373510347026,0.12674373510347026,0.11224861120789878],\"yaxis\":\"y\",\"type\":\"scatter\"},{\"hoverinfo\":\"text\",\"marker\":{\"color\":\"rgb(133,20,75)\"},\"mode\":\"lines\",\"x\":[7903.75,7903.75,7993.59375,7993.59375],\"xaxis\":\"x\",\"y\":[0.09581497136735219,0.13966432929832984,0.13966432929832984,0.12674373510347026],\"yaxis\":\"y\",\"type\":\"scatter\"},{\"hoverinfo\":\"text\",\"marker\":{\"color\":\"rgb(133,20,75)\"},\"mode\":\"lines\",\"x\":[7880.0,7880.0,7948.671875,7948.671875],\"xaxis\":\"x\",\"y\":[0.06283649666018962,0.15503361267327606,0.15503361267327606,0.13966432929832984],\"yaxis\":\"y\",\"type\":\"scatter\"},{\"hoverinfo\":\"text\",\"marker\":{\"color\":\"rgb(133,20,75)\"},\"mode\":\"lines\",\"x\":[7841.25,7841.25,7914.3359375,7914.3359375],\"xaxis\":\"x\",\"y\":[0.08760708852171009,0.19349988827815837,0.19349988827815837,0.15503361267327606],\"yaxis\":\"y\",\"type\":\"scatter\"},{\"hoverinfo\":\"text\",\"marker\":{\"color\":\"rgb(133,20,75)\"},\"mode\":\"lines\",\"x\":[8135.0,8135.0,8145.0,8145.0],\"xaxis\":\"x\",\"y\":[0.0,0.07330659806131314,0.07330659806131314,0.0],\"yaxis\":\"y\",\"type\":\"scatter\"},{\"hoverinfo\":\"text\",\"marker\":{\"color\":\"rgb(133,20,75)\"},\"mode\":\"lines\",\"x\":[8165.0,8165.0,8175.0,8175.0],\"xaxis\":\"x\",\"y\":[0.0,0.026321082584516545,0.026321082584516545,0.0],\"yaxis\":\"y\",\"type\":\"scatter\"},{\"hoverinfo\":\"text\",\"marker\":{\"color\":\"rgb(133,20,75)\"},\"mode\":\"lines\",\"x\":[8155.0,8155.0,8170.0,8170.0],\"xaxis\":\"x\",\"y\":[0.0,0.05959424457728386,0.05959424457728386,0.026321082584516545],\"yaxis\":\"y\",\"type\":\"scatter\"},{\"hoverinfo\":\"text\",\"marker\":{\"color\":\"rgb(133,20,75)\"},\"mode\":\"lines\",\"x\":[8195.0,8195.0,8205.0,8205.0],\"xaxis\":\"x\",\"y\":[0.0,0.027399281237581872,0.027399281237581872,0.0],\"yaxis\":\"y\",\"type\":\"scatter\"},{\"hoverinfo\":\"text\",\"marker\":{\"color\":\"rgb(133,20,75)\"},\"mode\":\"lines\",\"x\":[8185.0,8185.0,8200.0,8200.0],\"xaxis\":\"x\",\"y\":[0.0,0.03637384192977273,0.03637384192977273,0.027399281237581872],\"yaxis\":\"y\",\"type\":\"scatter\"},{\"hoverinfo\":\"text\",\"marker\":{\"color\":\"rgb(133,20,75)\"},\"mode\":\"lines\",\"x\":[8225.0,8225.0,8235.0,8235.0],\"xaxis\":\"x\",\"y\":[0.0,0.027782645889641442,0.027782645889641442,0.0],\"yaxis\":\"y\",\"type\":\"scatter\"},{\"hoverinfo\":\"text\",\"marker\":{\"color\":\"rgb(133,20,75)\"},\"mode\":\"lines\",\"x\":[8215.0,8215.0,8230.0,8230.0],\"xaxis\":\"x\",\"y\":[0.0,0.048378745522158234,0.048378745522158234,0.027782645889641442],\"yaxis\":\"y\",\"type\":\"scatter\"},{\"hoverinfo\":\"text\",\"marker\":{\"color\":\"rgb(133,20,75)\"},\"mode\":\"lines\",\"x\":[8192.5,8192.5,8222.5,8222.5],\"xaxis\":\"x\",\"y\":[0.03637384192977273,0.07457154808330949,0.07457154808330949,0.048378745522158234],\"yaxis\":\"y\",\"type\":\"scatter\"},{\"hoverinfo\":\"text\",\"marker\":{\"color\":\"rgb(133,20,75)\"},\"mode\":\"lines\",\"x\":[8162.5,8162.5,8207.5,8207.5],\"xaxis\":\"x\",\"y\":[0.05959424457728386,0.09565018755613602,0.09565018755613602,0.07457154808330949],\"yaxis\":\"y\",\"type\":\"scatter\"},{\"hoverinfo\":\"text\",\"marker\":{\"color\":\"rgb(133,20,75)\"},\"mode\":\"lines\",\"x\":[8140.0,8140.0,8185.0,8185.0],\"xaxis\":\"x\",\"y\":[0.07330659806131314,0.12645144429220526,0.12645144429220526,0.09565018755613602],\"yaxis\":\"y\",\"type\":\"scatter\"},{\"hoverinfo\":\"text\",\"marker\":{\"color\":\"rgb(133,20,75)\"},\"mode\":\"lines\",\"x\":[8125.0,8125.0,8162.5,8162.5],\"xaxis\":\"x\",\"y\":[0.0,0.193954713368914,0.193954713368914,0.12645144429220526],\"yaxis\":\"y\",\"type\":\"scatter\"},{\"hoverinfo\":\"text\",\"marker\":{\"color\":\"rgb(133,20,75)\"},\"mode\":\"lines\",\"x\":[7877.79296875,7877.79296875,8143.75,8143.75],\"xaxis\":\"x\",\"y\":[0.19349988827815837,0.22914620163959798,0.22914620163959798,0.193954713368914],\"yaxis\":\"y\",\"type\":\"scatter\"},{\"hoverinfo\":\"text\",\"marker\":{\"color\":\"rgb(133,20,75)\"},\"mode\":\"lines\",\"x\":[7271.26953125,7271.26953125,8010.771484375,8010.771484375],\"xaxis\":\"x\",\"y\":[0.22447603413462783,0.28540280596375667,0.28540280596375667,0.22914620163959798],\"yaxis\":\"y\",\"type\":\"scatter\"},{\"hoverinfo\":\"text\",\"marker\":{\"color\":\"rgb(133,20,75)\"},\"mode\":\"lines\",\"x\":[8255.0,8255.0,8265.0,8265.0],\"xaxis\":\"x\",\"y\":[0.0,0.05511076420982714,0.05511076420982714,0.0],\"yaxis\":\"y\",\"type\":\"scatter\"},{\"hoverinfo\":\"text\",\"marker\":{\"color\":\"rgb(133,20,75)\"},\"mode\":\"lines\",\"x\":[8245.0,8245.0,8260.0,8260.0],\"xaxis\":\"x\",\"y\":[0.0,0.08977583622192825,0.08977583622192825,0.05511076420982714],\"yaxis\":\"y\",\"type\":\"scatter\"},{\"hoverinfo\":\"text\",\"marker\":{\"color\":\"rgb(133,20,75)\"},\"mode\":\"lines\",\"x\":[8275.0,8275.0,8285.0,8285.0],\"xaxis\":\"x\",\"y\":[0.0,0.04670456301299933,0.04670456301299933,0.0],\"yaxis\":\"y\",\"type\":\"scatter\"},{\"hoverinfo\":\"text\",\"marker\":{\"color\":\"rgb(133,20,75)\"},\"mode\":\"lines\",\"x\":[8295.0,8295.0,8305.0,8305.0],\"xaxis\":\"x\",\"y\":[0.0,0.03351312737077685,0.03351312737077685,0.0],\"yaxis\":\"y\",\"type\":\"scatter\"},{\"hoverinfo\":\"text\",\"marker\":{\"color\":\"rgb(133,20,75)\"},\"mode\":\"lines\",\"x\":[8315.0,8315.0,8325.0,8325.0],\"xaxis\":\"x\",\"y\":[0.0,0.04197278047989868,0.04197278047989868,0.0],\"yaxis\":\"y\",\"type\":\"scatter\"},{\"hoverinfo\":\"text\",\"marker\":{\"color\":\"rgb(133,20,75)\"},\"mode\":\"lines\",\"x\":[8300.0,8300.0,8320.0,8320.0],\"xaxis\":\"x\",\"y\":[0.03351312737077685,0.0697744496549748,0.0697744496549748,0.04197278047989868],\"yaxis\":\"y\",\"type\":\"scatter\"},{\"hoverinfo\":\"text\",\"marker\":{\"color\":\"rgb(133,20,75)\"},\"mode\":\"lines\",\"x\":[8280.0,8280.0,8310.0,8310.0],\"xaxis\":\"x\",\"y\":[0.04670456301299933,0.07711661120693022,0.07711661120693022,0.0697744496549748],\"yaxis\":\"y\",\"type\":\"scatter\"},{\"hoverinfo\":\"text\",\"marker\":{\"color\":\"rgb(133,20,75)\"},\"mode\":\"lines\",\"x\":[8345.0,8345.0,8355.0,8355.0],\"xaxis\":\"x\",\"y\":[0.0,0.04060191014922041,0.04060191014922041,0.0],\"yaxis\":\"y\",\"type\":\"scatter\"},{\"hoverinfo\":\"text\",\"marker\":{\"color\":\"rgb(133,20,75)\"},\"mode\":\"lines\",\"x\":[8335.0,8335.0,8350.0,8350.0],\"xaxis\":\"x\",\"y\":[0.0,0.0542816539506426,0.0542816539506426,0.04060191014922041],\"yaxis\":\"y\",\"type\":\"scatter\"},{\"hoverinfo\":\"text\",\"marker\":{\"color\":\"rgb(133,20,75)\"},\"mode\":\"lines\",\"x\":[8365.0,8365.0,8375.0,8375.0],\"xaxis\":\"x\",\"y\":[0.0,0.027877921752604666,0.027877921752604666,0.0],\"yaxis\":\"y\",\"type\":\"scatter\"},{\"hoverinfo\":\"text\",\"marker\":{\"color\":\"rgb(133,20,75)\"},\"mode\":\"lines\",\"x\":[8395.0,8395.0,8405.0,8405.0],\"xaxis\":\"x\",\"y\":[0.0,0.017928310435030383,0.017928310435030383,0.0],\"yaxis\":\"y\",\"type\":\"scatter\"},{\"hoverinfo\":\"text\",\"marker\":{\"color\":\"rgb(133,20,75)\"},\"mode\":\"lines\",\"x\":[8385.0,8385.0,8400.0,8400.0],\"xaxis\":\"x\",\"y\":[0.0,0.030417194100323255,0.030417194100323255,0.017928310435030383],\"yaxis\":\"y\",\"type\":\"scatter\"},{\"hoverinfo\":\"text\",\"marker\":{\"color\":\"rgb(133,20,75)\"},\"mode\":\"lines\",\"x\":[8370.0,8370.0,8392.5,8392.5],\"xaxis\":\"x\",\"y\":[0.027877921752604666,0.03673841405548058,0.03673841405548058,0.030417194100323255],\"yaxis\":\"y\",\"type\":\"scatter\"},{\"hoverinfo\":\"text\",\"marker\":{\"color\":\"rgb(133,20,75)\"},\"mode\":\"lines\",\"x\":[8425.0,8425.0,8435.0,8435.0],\"xaxis\":\"x\",\"y\":[0.0,0.025030148445982885,0.025030148445982885,0.0],\"yaxis\":\"y\",\"type\":\"scatter\"},{\"hoverinfo\":\"text\",\"marker\":{\"color\":\"rgb(133,20,75)\"},\"mode\":\"lines\",\"x\":[8415.0,8415.0,8430.0,8430.0],\"xaxis\":\"x\",\"y\":[0.0,0.04819193052057567,0.04819193052057567,0.025030148445982885],\"yaxis\":\"y\",\"type\":\"scatter\"},{\"hoverinfo\":\"text\",\"marker\":{\"color\":\"rgb(133,20,75)\"},\"mode\":\"lines\",\"x\":[8381.25,8381.25,8422.5,8422.5],\"xaxis\":\"x\",\"y\":[0.03673841405548058,0.0589896968289868,0.0589896968289868,0.04819193052057567],\"yaxis\":\"y\",\"type\":\"scatter\"},{\"hoverinfo\":\"text\",\"marker\":{\"color\":\"rgb(133,20,75)\"},\"mode\":\"lines\",\"x\":[8342.5,8342.5,8401.875,8401.875],\"xaxis\":\"x\",\"y\":[0.0542816539506426,0.10094248893961086,0.10094248893961086,0.0589896968289868],\"yaxis\":\"y\",\"type\":\"scatter\"},{\"hoverinfo\":\"text\",\"marker\":{\"color\":\"rgb(133,20,75)\"},\"mode\":\"lines\",\"x\":[8295.0,8295.0,8372.1875,8372.1875],\"xaxis\":\"x\",\"y\":[0.07711661120693022,0.1354593540506247,0.1354593540506247,0.10094248893961086],\"yaxis\":\"y\",\"type\":\"scatter\"},{\"hoverinfo\":\"text\",\"marker\":{\"color\":\"rgb(133,20,75)\"},\"mode\":\"lines\",\"x\":[8252.5,8252.5,8333.59375,8333.59375],\"xaxis\":\"x\",\"y\":[0.08977583622192825,0.1465287647021828,0.1465287647021828,0.1354593540506247],\"yaxis\":\"y\",\"type\":\"scatter\"},{\"hoverinfo\":\"text\",\"marker\":{\"color\":\"rgb(133,20,75)\"},\"mode\":\"lines\",\"x\":[8455.0,8455.0,8465.0,8465.0],\"xaxis\":\"x\",\"y\":[0.0,0.04163498890071682,0.04163498890071682,0.0],\"yaxis\":\"y\",\"type\":\"scatter\"},{\"hoverinfo\":\"text\",\"marker\":{\"color\":\"rgb(133,20,75)\"},\"mode\":\"lines\",\"x\":[8445.0,8445.0,8460.0,8460.0],\"xaxis\":\"x\",\"y\":[0.0,0.0490101706433508,0.0490101706433508,0.04163498890071682],\"yaxis\":\"y\",\"type\":\"scatter\"},{\"hoverinfo\":\"text\",\"marker\":{\"color\":\"rgb(133,20,75)\"},\"mode\":\"lines\",\"x\":[8495.0,8495.0,8505.0,8505.0],\"xaxis\":\"x\",\"y\":[0.0,0.04967321969075695,0.04967321969075695,0.0],\"yaxis\":\"y\",\"type\":\"scatter\"},{\"hoverinfo\":\"text\",\"marker\":{\"color\":\"rgb(133,20,75)\"},\"mode\":\"lines\",\"x\":[8485.0,8485.0,8500.0,8500.0],\"xaxis\":\"x\",\"y\":[0.0,0.05778383434109361,0.05778383434109361,0.04967321969075695],\"yaxis\":\"y\",\"type\":\"scatter\"},{\"hoverinfo\":\"text\",\"marker\":{\"color\":\"rgb(133,20,75)\"},\"mode\":\"lines\",\"x\":[8475.0,8475.0,8492.5,8492.5],\"xaxis\":\"x\",\"y\":[0.0,0.09362002703183091,0.09362002703183091,0.05778383434109361],\"yaxis\":\"y\",\"type\":\"scatter\"},{\"hoverinfo\":\"text\",\"marker\":{\"color\":\"rgb(133,20,75)\"},\"mode\":\"lines\",\"x\":[8452.5,8452.5,8483.75,8483.75],\"xaxis\":\"x\",\"y\":[0.0490101706433508,0.1213680962098177,0.1213680962098177,0.09362002703183091],\"yaxis\":\"y\",\"type\":\"scatter\"},{\"hoverinfo\":\"text\",\"marker\":{\"color\":\"rgb(133,20,75)\"},\"mode\":\"lines\",\"x\":[8515.0,8515.0,8525.0,8525.0],\"xaxis\":\"x\",\"y\":[0.0,0.04396697066999357,0.04396697066999357,0.0],\"yaxis\":\"y\",\"type\":\"scatter\"},{\"hoverinfo\":\"text\",\"marker\":{\"color\":\"rgb(133,20,75)\"},\"mode\":\"lines\",\"x\":[8555.0,8555.0,8565.0,8565.0],\"xaxis\":\"x\",\"y\":[0.0,0.04735502795607899,0.04735502795607899,0.0],\"yaxis\":\"y\",\"type\":\"scatter\"},{\"hoverinfo\":\"text\",\"marker\":{\"color\":\"rgb(133,20,75)\"},\"mode\":\"lines\",\"x\":[8545.0,8545.0,8560.0,8560.0],\"xaxis\":\"x\",\"y\":[0.0,0.06231666969522365,0.06231666969522365,0.04735502795607899],\"yaxis\":\"y\",\"type\":\"scatter\"},{\"hoverinfo\":\"text\",\"marker\":{\"color\":\"rgb(133,20,75)\"},\"mode\":\"lines\",\"x\":[8535.0,8535.0,8552.5,8552.5],\"xaxis\":\"x\",\"y\":[0.0,0.09108721787980428,0.09108721787980428,0.06231666969522365],\"yaxis\":\"y\",\"type\":\"scatter\"},{\"hoverinfo\":\"text\",\"marker\":{\"color\":\"rgb(133,20,75)\"},\"mode\":\"lines\",\"x\":[8520.0,8520.0,8543.75,8543.75],\"xaxis\":\"x\",\"y\":[0.04396697066999357,0.1028040503967632,0.1028040503967632,0.09108721787980428],\"yaxis\":\"y\",\"type\":\"scatter\"},{\"hoverinfo\":\"text\",\"marker\":{\"color\":\"rgb(133,20,75)\"},\"mode\":\"lines\",\"x\":[8585.0,8585.0,8595.0,8595.0],\"xaxis\":\"x\",\"y\":[0.0,0.024430954653020587,0.024430954653020587,0.0],\"yaxis\":\"y\",\"type\":\"scatter\"},{\"hoverinfo\":\"text\",\"marker\":{\"color\":\"rgb(133,20,75)\"},\"mode\":\"lines\",\"x\":[8605.0,8605.0,8615.0,8615.0],\"xaxis\":\"x\",\"y\":[0.0,0.035095207555889324,0.035095207555889324,0.0],\"yaxis\":\"y\",\"type\":\"scatter\"},{\"hoverinfo\":\"text\",\"marker\":{\"color\":\"rgb(133,20,75)\"},\"mode\":\"lines\",\"x\":[8590.0,8590.0,8610.0,8610.0],\"xaxis\":\"x\",\"y\":[0.024430954653020587,0.04966572925843397,0.04966572925843397,0.035095207555889324],\"yaxis\":\"y\",\"type\":\"scatter\"},{\"hoverinfo\":\"text\",\"marker\":{\"color\":\"rgb(133,20,75)\"},\"mode\":\"lines\",\"x\":[8575.0,8575.0,8600.0,8600.0],\"xaxis\":\"x\",\"y\":[0.0,0.06194212052825672,0.06194212052825672,0.04966572925843397],\"yaxis\":\"y\",\"type\":\"scatter\"},{\"hoverinfo\":\"text\",\"marker\":{\"color\":\"rgb(133,20,75)\"},\"mode\":\"lines\",\"x\":[8625.0,8625.0,8635.0,8635.0],\"xaxis\":\"x\",\"y\":[0.0,0.03879420976819777,0.03879420976819777,0.0],\"yaxis\":\"y\",\"type\":\"scatter\"},{\"hoverinfo\":\"text\",\"marker\":{\"color\":\"rgb(133,20,75)\"},\"mode\":\"lines\",\"x\":[8645.0,8645.0,8655.0,8655.0],\"xaxis\":\"x\",\"y\":[0.0,0.04209006709205136,0.04209006709205136,0.0],\"yaxis\":\"y\",\"type\":\"scatter\"},{\"hoverinfo\":\"text\",\"marker\":{\"color\":\"rgb(133,20,75)\"},\"mode\":\"lines\",\"x\":[8630.0,8630.0,8650.0,8650.0],\"xaxis\":\"x\",\"y\":[0.03879420976819777,0.07050817361899701,0.07050817361899701,0.04209006709205136],\"yaxis\":\"y\",\"type\":\"scatter\"},{\"hoverinfo\":\"text\",\"marker\":{\"color\":\"rgb(133,20,75)\"},\"mode\":\"lines\",\"x\":[8587.5,8587.5,8640.0,8640.0],\"xaxis\":\"x\",\"y\":[0.06194212052825672,0.10291676188762172,0.10291676188762172,0.07050817361899701],\"yaxis\":\"y\",\"type\":\"scatter\"},{\"hoverinfo\":\"text\",\"marker\":{\"color\":\"rgb(133,20,75)\"},\"mode\":\"lines\",\"x\":[8531.875,8531.875,8613.75,8613.75],\"xaxis\":\"x\",\"y\":[0.1028040503967632,0.1599746757501113,0.1599746757501113,0.10291676188762172],\"yaxis\":\"y\",\"type\":\"scatter\"},{\"hoverinfo\":\"text\",\"marker\":{\"color\":\"rgb(133,20,75)\"},\"mode\":\"lines\",\"x\":[8468.125,8468.125,8572.8125,8572.8125],\"xaxis\":\"x\",\"y\":[0.1213680962098177,0.19012100058407064,0.19012100058407064,0.1599746757501113],\"yaxis\":\"y\",\"type\":\"scatter\"},{\"hoverinfo\":\"text\",\"marker\":{\"color\":\"rgb(133,20,75)\"},\"mode\":\"lines\",\"x\":[8293.046875,8293.046875,8520.46875,8520.46875],\"xaxis\":\"x\",\"y\":[0.1465287647021828,0.2054560719718031,0.2054560719718031,0.19012100058407064],\"yaxis\":\"y\",\"type\":\"scatter\"},{\"hoverinfo\":\"text\",\"marker\":{\"color\":\"rgb(133,20,75)\"},\"mode\":\"lines\",\"x\":[8695.0,8695.0,8705.0,8705.0],\"xaxis\":\"x\",\"y\":[0.0,0.0220796164048498,0.0220796164048498,0.0],\"yaxis\":\"y\",\"type\":\"scatter\"},{\"hoverinfo\":\"text\",\"marker\":{\"color\":\"rgb(133,20,75)\"},\"mode\":\"lines\",\"x\":[8685.0,8685.0,8700.0,8700.0],\"xaxis\":\"x\",\"y\":[0.0,0.02374689495206667,0.02374689495206667,0.0220796164048498],\"yaxis\":\"y\",\"type\":\"scatter\"},{\"hoverinfo\":\"text\",\"marker\":{\"color\":\"rgb(133,20,75)\"},\"mode\":\"lines\",\"x\":[8675.0,8675.0,8692.5,8692.5],\"xaxis\":\"x\",\"y\":[0.0,0.04452495186087804,0.04452495186087804,0.02374689495206667],\"yaxis\":\"y\",\"type\":\"scatter\"},{\"hoverinfo\":\"text\",\"marker\":{\"color\":\"rgb(133,20,75)\"},\"mode\":\"lines\",\"x\":[8665.0,8665.0,8683.75,8683.75],\"xaxis\":\"x\",\"y\":[0.0,0.05217529050577154,0.05217529050577154,0.04452495186087804],\"yaxis\":\"y\",\"type\":\"scatter\"},{\"hoverinfo\":\"text\",\"marker\":{\"color\":\"rgb(133,20,75)\"},\"mode\":\"lines\",\"x\":[8715.0,8715.0,8725.0,8725.0],\"xaxis\":\"x\",\"y\":[0.0,0.03330811309183194,0.03330811309183194,0.0],\"yaxis\":\"y\",\"type\":\"scatter\"},{\"hoverinfo\":\"text\",\"marker\":{\"color\":\"rgb(133,20,75)\"},\"mode\":\"lines\",\"x\":[8755.0,8755.0,8765.0,8765.0],\"xaxis\":\"x\",\"y\":[0.0,0.026903163852164624,0.026903163852164624,0.0],\"yaxis\":\"y\",\"type\":\"scatter\"},{\"hoverinfo\":\"text\",\"marker\":{\"color\":\"rgb(133,20,75)\"},\"mode\":\"lines\",\"x\":[8745.0,8745.0,8760.0,8760.0],\"xaxis\":\"x\",\"y\":[0.0,0.03614688549883619,0.03614688549883619,0.026903163852164624],\"yaxis\":\"y\",\"type\":\"scatter\"},{\"hoverinfo\":\"text\",\"marker\":{\"color\":\"rgb(133,20,75)\"},\"mode\":\"lines\",\"x\":[8735.0,8735.0,8752.5,8752.5],\"xaxis\":\"x\",\"y\":[0.0,0.05178330927948462,0.05178330927948462,0.03614688549883619],\"yaxis\":\"y\",\"type\":\"scatter\"},{\"hoverinfo\":\"text\",\"marker\":{\"color\":\"rgb(133,20,75)\"},\"mode\":\"lines\",\"x\":[8720.0,8720.0,8743.75,8743.75],\"xaxis\":\"x\",\"y\":[0.03330811309183194,0.06379038643747502,0.06379038643747502,0.05178330927948462],\"yaxis\":\"y\",\"type\":\"scatter\"},{\"hoverinfo\":\"text\",\"marker\":{\"color\":\"rgb(133,20,75)\"},\"mode\":\"lines\",\"x\":[8674.375,8674.375,8731.875,8731.875],\"xaxis\":\"x\",\"y\":[0.05217529050577154,0.06959379318140473,0.06959379318140473,0.06379038643747502],\"yaxis\":\"y\",\"type\":\"scatter\"},{\"hoverinfo\":\"text\",\"marker\":{\"color\":\"rgb(133,20,75)\"},\"mode\":\"lines\",\"x\":[8775.0,8775.0,8785.0,8785.0],\"xaxis\":\"x\",\"y\":[0.0,0.02410412395758461,0.02410412395758461,0.0],\"yaxis\":\"y\",\"type\":\"scatter\"},{\"hoverinfo\":\"text\",\"marker\":{\"color\":\"rgb(133,20,75)\"},\"mode\":\"lines\",\"x\":[8795.0,8795.0,8805.0,8805.0],\"xaxis\":\"x\",\"y\":[0.0,0.016622810460796555,0.016622810460796555,0.0],\"yaxis\":\"y\",\"type\":\"scatter\"},{\"hoverinfo\":\"text\",\"marker\":{\"color\":\"rgb(133,20,75)\"},\"mode\":\"lines\",\"x\":[8815.0,8815.0,8825.0,8825.0],\"xaxis\":\"x\",\"y\":[0.0,0.027684021129594078,0.027684021129594078,0.0],\"yaxis\":\"y\",\"type\":\"scatter\"},{\"hoverinfo\":\"text\",\"marker\":{\"color\":\"rgb(133,20,75)\"},\"mode\":\"lines\",\"x\":[8800.0,8800.0,8820.0,8820.0],\"xaxis\":\"x\",\"y\":[0.016622810460796555,0.044142452665961986,0.044142452665961986,0.027684021129594078],\"yaxis\":\"y\",\"type\":\"scatter\"},{\"hoverinfo\":\"text\",\"marker\":{\"color\":\"rgb(133,20,75)\"},\"mode\":\"lines\",\"x\":[8780.0,8780.0,8810.0,8810.0],\"xaxis\":\"x\",\"y\":[0.02410412395758461,0.05750093268889234,0.05750093268889234,0.044142452665961986],\"yaxis\":\"y\",\"type\":\"scatter\"},{\"hoverinfo\":\"text\",\"marker\":{\"color\":\"rgb(133,20,75)\"},\"mode\":\"lines\",\"x\":[8835.0,8835.0,8845.0,8845.0],\"xaxis\":\"x\",\"y\":[0.0,0.023334892902109283,0.023334892902109283,0.0],\"yaxis\":\"y\",\"type\":\"scatter\"},{\"hoverinfo\":\"text\",\"marker\":{\"color\":\"rgb(133,20,75)\"},\"mode\":\"lines\",\"x\":[8855.0,8855.0,8865.0,8865.0],\"xaxis\":\"x\",\"y\":[0.0,0.011864514820600141,0.011864514820600141,0.0],\"yaxis\":\"y\",\"type\":\"scatter\"},{\"hoverinfo\":\"text\",\"marker\":{\"color\":\"rgb(133,20,75)\"},\"mode\":\"lines\",\"x\":[8875.0,8875.0,8885.0,8885.0],\"xaxis\":\"x\",\"y\":[0.0,0.026852379818709415,0.026852379818709415,0.0],\"yaxis\":\"y\",\"type\":\"scatter\"},{\"hoverinfo\":\"text\",\"marker\":{\"color\":\"rgb(133,20,75)\"},\"mode\":\"lines\",\"x\":[8860.0,8860.0,8880.0,8880.0],\"xaxis\":\"x\",\"y\":[0.011864514820600141,0.030636660504434157,0.030636660504434157,0.026852379818709415],\"yaxis\":\"y\",\"type\":\"scatter\"},{\"hoverinfo\":\"text\",\"marker\":{\"color\":\"rgb(133,20,75)\"},\"mode\":\"lines\",\"x\":[8905.0,8905.0,8915.0,8915.0],\"xaxis\":\"x\",\"y\":[0.0,0.01853974594985143,0.01853974594985143,0.0],\"yaxis\":\"y\",\"type\":\"scatter\"},{\"hoverinfo\":\"text\",\"marker\":{\"color\":\"rgb(133,20,75)\"},\"mode\":\"lines\",\"x\":[8895.0,8895.0,8910.0,8910.0],\"xaxis\":\"x\",\"y\":[0.0,0.022304983952241335,0.022304983952241335,0.01853974594985143],\"yaxis\":\"y\",\"type\":\"scatter\"},{\"hoverinfo\":\"text\",\"marker\":{\"color\":\"rgb(133,20,75)\"},\"mode\":\"lines\",\"x\":[8925.0,8925.0,8935.0,8935.0],\"xaxis\":\"x\",\"y\":[0.0,0.022783045440592786,0.022783045440592786,0.0],\"yaxis\":\"y\",\"type\":\"scatter\"},{\"hoverinfo\":\"text\",\"marker\":{\"color\":\"rgb(133,20,75)\"},\"mode\":\"lines\",\"x\":[8902.5,8902.5,8930.0,8930.0],\"xaxis\":\"x\",\"y\":[0.022304983952241335,0.038240043197291684,0.038240043197291684,0.022783045440592786],\"yaxis\":\"y\",\"type\":\"scatter\"},{\"hoverinfo\":\"text\",\"marker\":{\"color\":\"rgb(133,20,75)\"},\"mode\":\"lines\",\"x\":[8870.0,8870.0,8916.25,8916.25],\"xaxis\":\"x\",\"y\":[0.030636660504434157,0.05344238872213493,0.05344238872213493,0.038240043197291684],\"yaxis\":\"y\",\"type\":\"scatter\"},{\"hoverinfo\":\"text\",\"marker\":{\"color\":\"rgb(133,20,75)\"},\"mode\":\"lines\",\"x\":[8945.0,8945.0,8955.0,8955.0],\"xaxis\":\"x\",\"y\":[0.0,0.021485443014773217,0.021485443014773217,0.0],\"yaxis\":\"y\",\"type\":\"scatter\"},{\"hoverinfo\":\"text\",\"marker\":{\"color\":\"rgb(133,20,75)\"},\"mode\":\"lines\",\"x\":[8965.0,8965.0,8975.0,8975.0],\"xaxis\":\"x\",\"y\":[0.0,0.014786792922793376,0.014786792922793376,0.0],\"yaxis\":\"y\",\"type\":\"scatter\"},{\"hoverinfo\":\"text\",\"marker\":{\"color\":\"rgb(133,20,75)\"},\"mode\":\"lines\",\"x\":[8995.0,8995.0,9005.0,9005.0],\"xaxis\":\"x\",\"y\":[0.0,0.01715276132669189,0.01715276132669189,0.0],\"yaxis\":\"y\",\"type\":\"scatter\"},{\"hoverinfo\":\"text\",\"marker\":{\"color\":\"rgb(133,20,75)\"},\"mode\":\"lines\",\"x\":[8985.0,8985.0,9000.0,9000.0],\"xaxis\":\"x\",\"y\":[0.0,0.02685953068132702,0.02685953068132702,0.01715276132669189],\"yaxis\":\"y\",\"type\":\"scatter\"},{\"hoverinfo\":\"text\",\"marker\":{\"color\":\"rgb(133,20,75)\"},\"mode\":\"lines\",\"x\":[8970.0,8970.0,8992.5,8992.5],\"xaxis\":\"x\",\"y\":[0.014786792922793376,0.029467871456065556,0.029467871456065556,0.02685953068132702],\"yaxis\":\"y\",\"type\":\"scatter\"},{\"hoverinfo\":\"text\",\"marker\":{\"color\":\"rgb(133,20,75)\"},\"mode\":\"lines\",\"x\":[8950.0,8950.0,8981.25,8981.25],\"xaxis\":\"x\",\"y\":[0.021485443014773217,0.04007089258479691,0.04007089258479691,0.029467871456065556],\"yaxis\":\"y\",\"type\":\"scatter\"},{\"hoverinfo\":\"text\",\"marker\":{\"color\":\"rgb(133,20,75)\"},\"mode\":\"lines\",\"x\":[9025.0,9025.0,9035.0,9035.0],\"xaxis\":\"x\",\"y\":[0.0,0.024140228439763406,0.024140228439763406,0.0],\"yaxis\":\"y\",\"type\":\"scatter\"},{\"hoverinfo\":\"text\",\"marker\":{\"color\":\"rgb(133,20,75)\"},\"mode\":\"lines\",\"x\":[9015.0,9015.0,9030.0,9030.0],\"xaxis\":\"x\",\"y\":[0.0,0.030026909157515963,0.030026909157515963,0.024140228439763406],\"yaxis\":\"y\",\"type\":\"scatter\"},{\"hoverinfo\":\"text\",\"marker\":{\"color\":\"rgb(133,20,75)\"},\"mode\":\"lines\",\"x\":[9055.0,9055.0,9065.0,9065.0],\"xaxis\":\"x\",\"y\":[0.0,0.01502780408511395,0.01502780408511395,0.0],\"yaxis\":\"y\",\"type\":\"scatter\"},{\"hoverinfo\":\"text\",\"marker\":{\"color\":\"rgb(133,20,75)\"},\"mode\":\"lines\",\"x\":[9045.0,9045.0,9060.0,9060.0],\"xaxis\":\"x\",\"y\":[0.0,0.02144539451634041,0.02144539451634041,0.01502780408511395],\"yaxis\":\"y\",\"type\":\"scatter\"},{\"hoverinfo\":\"text\",\"marker\":{\"color\":\"rgb(133,20,75)\"},\"mode\":\"lines\",\"x\":[9075.0,9075.0,9085.0,9085.0],\"xaxis\":\"x\",\"y\":[0.0,0.026385942155671027,0.026385942155671027,0.0],\"yaxis\":\"y\",\"type\":\"scatter\"},{\"hoverinfo\":\"text\",\"marker\":{\"color\":\"rgb(133,20,75)\"},\"mode\":\"lines\",\"x\":[9052.5,9052.5,9080.0,9080.0],\"xaxis\":\"x\",\"y\":[0.02144539451634041,0.04182745073645812,0.04182745073645812,0.026385942155671027],\"yaxis\":\"y\",\"type\":\"scatter\"},{\"hoverinfo\":\"text\",\"marker\":{\"color\":\"rgb(133,20,75)\"},\"mode\":\"lines\",\"x\":[9022.5,9022.5,9066.25,9066.25],\"xaxis\":\"x\",\"y\":[0.030026909157515963,0.04888401712897197,0.04888401712897197,0.04182745073645812],\"yaxis\":\"y\",\"type\":\"scatter\"},{\"hoverinfo\":\"text\",\"marker\":{\"color\":\"rgb(133,20,75)\"},\"mode\":\"lines\",\"x\":[8965.625,8965.625,9044.375,9044.375],\"xaxis\":\"x\",\"y\":[0.04007089258479691,0.06494720832472588,0.06494720832472588,0.04888401712897197],\"yaxis\":\"y\",\"type\":\"scatter\"},{\"hoverinfo\":\"text\",\"marker\":{\"color\":\"rgb(133,20,75)\"},\"mode\":\"lines\",\"x\":[8893.125,8893.125,9005.0,9005.0],\"xaxis\":\"x\",\"y\":[0.05344238872213493,0.07354097867688633,0.07354097867688633,0.06494720832472588],\"yaxis\":\"y\",\"type\":\"scatter\"},{\"hoverinfo\":\"text\",\"marker\":{\"color\":\"rgb(133,20,75)\"},\"mode\":\"lines\",\"x\":[8840.0,8840.0,8949.0625,8949.0625],\"xaxis\":\"x\",\"y\":[0.023334892902109283,0.07603300469928707,0.07603300469928707,0.07354097867688633],\"yaxis\":\"y\",\"type\":\"scatter\"},{\"hoverinfo\":\"text\",\"marker\":{\"color\":\"rgb(133,20,75)\"},\"mode\":\"lines\",\"x\":[8795.0,8795.0,8894.53125,8894.53125],\"xaxis\":\"x\",\"y\":[0.05750093268889234,0.08780737564974084,0.08780737564974084,0.07603300469928707],\"yaxis\":\"y\",\"type\":\"scatter\"},{\"hoverinfo\":\"text\",\"marker\":{\"color\":\"rgb(133,20,75)\"},\"mode\":\"lines\",\"x\":[8703.125,8703.125,8844.765625,8844.765625],\"xaxis\":\"x\",\"y\":[0.06959379318140473,0.13445283584617557,0.13445283584617557,0.08780737564974084],\"yaxis\":\"y\",\"type\":\"scatter\"},{\"hoverinfo\":\"text\",\"marker\":{\"color\":\"rgb(133,20,75)\"},\"mode\":\"lines\",\"x\":[9095.0,9095.0,9105.0,9105.0],\"xaxis\":\"x\",\"y\":[0.0,0.027055907840554366,0.027055907840554366,0.0],\"yaxis\":\"y\",\"type\":\"scatter\"},{\"hoverinfo\":\"text\",\"marker\":{\"color\":\"rgb(133,20,75)\"},\"mode\":\"lines\",\"x\":[9115.0,9115.0,9125.0,9125.0],\"xaxis\":\"x\",\"y\":[0.0,0.02941975273797909,0.02941975273797909,0.0],\"yaxis\":\"y\",\"type\":\"scatter\"},{\"hoverinfo\":\"text\",\"marker\":{\"color\":\"rgb(133,20,75)\"},\"mode\":\"lines\",\"x\":[9100.0,9100.0,9120.0,9120.0],\"xaxis\":\"x\",\"y\":[0.027055907840554366,0.04851186258286777,0.04851186258286777,0.02941975273797909],\"yaxis\":\"y\",\"type\":\"scatter\"},{\"hoverinfo\":\"text\",\"marker\":{\"color\":\"rgb(133,20,75)\"},\"mode\":\"lines\",\"x\":[9155.0,9155.0,9165.0,9165.0],\"xaxis\":\"x\",\"y\":[0.0,0.024603193411465538,0.024603193411465538,0.0],\"yaxis\":\"y\",\"type\":\"scatter\"},{\"hoverinfo\":\"text\",\"marker\":{\"color\":\"rgb(133,20,75)\"},\"mode\":\"lines\",\"x\":[9145.0,9145.0,9160.0,9160.0],\"xaxis\":\"x\",\"y\":[0.0,0.04157313225897736,0.04157313225897736,0.024603193411465538],\"yaxis\":\"y\",\"type\":\"scatter\"},{\"hoverinfo\":\"text\",\"marker\":{\"color\":\"rgb(133,20,75)\"},\"mode\":\"lines\",\"x\":[9135.0,9135.0,9152.5,9152.5],\"xaxis\":\"x\",\"y\":[0.0,0.053794349499939796,0.053794349499939796,0.04157313225897736],\"yaxis\":\"y\",\"type\":\"scatter\"},{\"hoverinfo\":\"text\",\"marker\":{\"color\":\"rgb(133,20,75)\"},\"mode\":\"lines\",\"x\":[9195.0,9195.0,9205.0,9205.0],\"xaxis\":\"x\",\"y\":[0.0,0.017637386654294727,0.017637386654294727,0.0],\"yaxis\":\"y\",\"type\":\"scatter\"},{\"hoverinfo\":\"text\",\"marker\":{\"color\":\"rgb(133,20,75)\"},\"mode\":\"lines\",\"x\":[9185.0,9185.0,9200.0,9200.0],\"xaxis\":\"x\",\"y\":[0.0,0.04085748751821955,0.04085748751821955,0.017637386654294727],\"yaxis\":\"y\",\"type\":\"scatter\"},{\"hoverinfo\":\"text\",\"marker\":{\"color\":\"rgb(133,20,75)\"},\"mode\":\"lines\",\"x\":[9175.0,9175.0,9192.5,9192.5],\"xaxis\":\"x\",\"y\":[0.0,0.05921986614803623,0.05921986614803623,0.04085748751821955],\"yaxis\":\"y\",\"type\":\"scatter\"},{\"hoverinfo\":\"text\",\"marker\":{\"color\":\"rgb(133,20,75)\"},\"mode\":\"lines\",\"x\":[9143.75,9143.75,9183.75,9183.75],\"xaxis\":\"x\",\"y\":[0.053794349499939796,0.09396784513552639,0.09396784513552639,0.05921986614803623],\"yaxis\":\"y\",\"type\":\"scatter\"},{\"hoverinfo\":\"text\",\"marker\":{\"color\":\"rgb(133,20,75)\"},\"mode\":\"lines\",\"x\":[9110.0,9110.0,9163.75,9163.75],\"xaxis\":\"x\",\"y\":[0.04851186258286777,0.0979338668384723,0.0979338668384723,0.09396784513552639],\"yaxis\":\"y\",\"type\":\"scatter\"},{\"hoverinfo\":\"text\",\"marker\":{\"color\":\"rgb(133,20,75)\"},\"mode\":\"lines\",\"x\":[9225.0,9225.0,9235.0,9235.0],\"xaxis\":\"x\",\"y\":[0.0,0.026423563306175443,0.026423563306175443,0.0],\"yaxis\":\"y\",\"type\":\"scatter\"},{\"hoverinfo\":\"text\",\"marker\":{\"color\":\"rgb(133,20,75)\"},\"mode\":\"lines\",\"x\":[9215.0,9215.0,9230.0,9230.0],\"xaxis\":\"x\",\"y\":[0.0,0.03429739337795289,0.03429739337795289,0.026423563306175443],\"yaxis\":\"y\",\"type\":\"scatter\"},{\"hoverinfo\":\"text\",\"marker\":{\"color\":\"rgb(133,20,75)\"},\"mode\":\"lines\",\"x\":[9245.0,9245.0,9255.0,9255.0],\"xaxis\":\"x\",\"y\":[0.0,0.05255742424414285,0.05255742424414285,0.0],\"yaxis\":\"y\",\"type\":\"scatter\"},{\"hoverinfo\":\"text\",\"marker\":{\"color\":\"rgb(133,20,75)\"},\"mode\":\"lines\",\"x\":[9222.5,9222.5,9250.0,9250.0],\"xaxis\":\"x\",\"y\":[0.03429739337795289,0.08166326219704903,0.08166326219704903,0.05255742424414285],\"yaxis\":\"y\",\"type\":\"scatter\"},{\"hoverinfo\":\"text\",\"marker\":{\"color\":\"rgb(133,20,75)\"},\"mode\":\"lines\",\"x\":[9265.0,9265.0,9275.0,9275.0],\"xaxis\":\"x\",\"y\":[0.0,0.03720815772618688,0.03720815772618688,0.0],\"yaxis\":\"y\",\"type\":\"scatter\"},{\"hoverinfo\":\"text\",\"marker\":{\"color\":\"rgb(133,20,75)\"},\"mode\":\"lines\",\"x\":[9285.0,9285.0,9295.0,9295.0],\"xaxis\":\"x\",\"y\":[0.0,0.03070543680984386,0.03070543680984386,0.0],\"yaxis\":\"y\",\"type\":\"scatter\"},{\"hoverinfo\":\"text\",\"marker\":{\"color\":\"rgb(133,20,75)\"},\"mode\":\"lines\",\"x\":[9305.0,9305.0,9315.0,9315.0],\"xaxis\":\"x\",\"y\":[0.0,0.019585855599208123,0.019585855599208123,0.0],\"yaxis\":\"y\",\"type\":\"scatter\"},{\"hoverinfo\":\"text\",\"marker\":{\"color\":\"rgb(133,20,75)\"},\"mode\":\"lines\",\"x\":[9325.0,9325.0,9335.0,9335.0],\"xaxis\":\"x\",\"y\":[0.0,0.04346819882576171,0.04346819882576171,0.0],\"yaxis\":\"y\",\"type\":\"scatter\"},{\"hoverinfo\":\"text\",\"marker\":{\"color\":\"rgb(133,20,75)\"},\"mode\":\"lines\",\"x\":[9310.0,9310.0,9330.0,9330.0],\"xaxis\":\"x\",\"y\":[0.019585855599208123,0.04658064896031322,0.04658064896031322,0.04346819882576171],\"yaxis\":\"y\",\"type\":\"scatter\"},{\"hoverinfo\":\"text\",\"marker\":{\"color\":\"rgb(133,20,75)\"},\"mode\":\"lines\",\"x\":[9290.0,9290.0,9320.0,9320.0],\"xaxis\":\"x\",\"y\":[0.03070543680984386,0.06457095052086508,0.06457095052086508,0.04658064896031322],\"yaxis\":\"y\",\"type\":\"scatter\"},{\"hoverinfo\":\"text\",\"marker\":{\"color\":\"rgb(133,20,75)\"},\"mode\":\"lines\",\"x\":[9270.0,9270.0,9305.0,9305.0],\"xaxis\":\"x\",\"y\":[0.03720815772618688,0.08766454203578822,0.08766454203578822,0.06457095052086508],\"yaxis\":\"y\",\"type\":\"scatter\"},{\"hoverinfo\":\"text\",\"marker\":{\"color\":\"rgb(133,20,75)\"},\"mode\":\"lines\",\"x\":[9236.25,9236.25,9287.5,9287.5],\"xaxis\":\"x\",\"y\":[0.08166326219704903,0.11894031522832518,0.11894031522832518,0.08766454203578822],\"yaxis\":\"y\",\"type\":\"scatter\"},{\"hoverinfo\":\"text\",\"marker\":{\"color\":\"rgb(133,20,75)\"},\"mode\":\"lines\",\"x\":[9136.875,9136.875,9261.875,9261.875],\"xaxis\":\"x\",\"y\":[0.0979338668384723,0.1497304865289994,0.1497304865289994,0.11894031522832518],\"yaxis\":\"y\",\"type\":\"scatter\"},{\"hoverinfo\":\"text\",\"marker\":{\"color\":\"rgb(133,20,75)\"},\"mode\":\"lines\",\"x\":[8773.9453125,8773.9453125,9199.375,9199.375],\"xaxis\":\"x\",\"y\":[0.13445283584617557,0.18167289132156755,0.18167289132156755,0.1497304865289994],\"yaxis\":\"y\",\"type\":\"scatter\"},{\"hoverinfo\":\"text\",\"marker\":{\"color\":\"rgb(133,20,75)\"},\"mode\":\"lines\",\"x\":[9355.0,9355.0,9365.0,9365.0],\"xaxis\":\"x\",\"y\":[0.0,0.027944587126500723,0.027944587126500723,0.0],\"yaxis\":\"y\",\"type\":\"scatter\"},{\"hoverinfo\":\"text\",\"marker\":{\"color\":\"rgb(133,20,75)\"},\"mode\":\"lines\",\"x\":[9345.0,9345.0,9360.0,9360.0],\"xaxis\":\"x\",\"y\":[0.0,0.04837030240339327,0.04837030240339327,0.027944587126500723],\"yaxis\":\"y\",\"type\":\"scatter\"},{\"hoverinfo\":\"text\",\"marker\":{\"color\":\"rgb(133,20,75)\"},\"mode\":\"lines\",\"x\":[9375.0,9375.0,9385.0,9385.0],\"xaxis\":\"x\",\"y\":[0.0,0.05043377878373612,0.05043377878373612,0.0],\"yaxis\":\"y\",\"type\":\"scatter\"},{\"hoverinfo\":\"text\",\"marker\":{\"color\":\"rgb(133,20,75)\"},\"mode\":\"lines\",\"x\":[9352.5,9352.5,9380.0,9380.0],\"xaxis\":\"x\",\"y\":[0.04837030240339327,0.07335476722304332,0.07335476722304332,0.05043377878373612],\"yaxis\":\"y\",\"type\":\"scatter\"},{\"hoverinfo\":\"text\",\"marker\":{\"color\":\"rgb(133,20,75)\"},\"mode\":\"lines\",\"x\":[9395.0,9395.0,9405.0,9405.0],\"xaxis\":\"x\",\"y\":[0.0,0.048770178785123894,0.048770178785123894,0.0],\"yaxis\":\"y\",\"type\":\"scatter\"},{\"hoverinfo\":\"text\",\"marker\":{\"color\":\"rgb(133,20,75)\"},\"mode\":\"lines\",\"x\":[9415.0,9415.0,9425.0,9425.0],\"xaxis\":\"x\",\"y\":[0.0,0.03761584736573041,0.03761584736573041,0.0],\"yaxis\":\"y\",\"type\":\"scatter\"},{\"hoverinfo\":\"text\",\"marker\":{\"color\":\"rgb(133,20,75)\"},\"mode\":\"lines\",\"x\":[9435.0,9435.0,9445.0,9445.0],\"xaxis\":\"x\",\"y\":[0.0,0.019970323513956903,0.019970323513956903,0.0],\"yaxis\":\"y\",\"type\":\"scatter\"},{\"hoverinfo\":\"text\",\"marker\":{\"color\":\"rgb(133,20,75)\"},\"mode\":\"lines\",\"x\":[9455.0,9455.0,9465.0,9465.0],\"xaxis\":\"x\",\"y\":[0.0,0.028787696590373408,0.028787696590373408,0.0],\"yaxis\":\"y\",\"type\":\"scatter\"},{\"hoverinfo\":\"text\",\"marker\":{\"color\":\"rgb(133,20,75)\"},\"mode\":\"lines\",\"x\":[9440.0,9440.0,9460.0,9460.0],\"xaxis\":\"x\",\"y\":[0.019970323513956903,0.042474830674695756,0.042474830674695756,0.028787696590373408],\"yaxis\":\"y\",\"type\":\"scatter\"},{\"hoverinfo\":\"text\",\"marker\":{\"color\":\"rgb(133,20,75)\"},\"mode\":\"lines\",\"x\":[9420.0,9420.0,9450.0,9450.0],\"xaxis\":\"x\",\"y\":[0.03761584736573041,0.050108925510148845,0.050108925510148845,0.042474830674695756],\"yaxis\":\"y\",\"type\":\"scatter\"},{\"hoverinfo\":\"text\",\"marker\":{\"color\":\"rgb(133,20,75)\"},\"mode\":\"lines\",\"x\":[9400.0,9400.0,9435.0,9435.0],\"xaxis\":\"x\",\"y\":[0.048770178785123894,0.07617418140156769,0.07617418140156769,0.050108925510148845],\"yaxis\":\"y\",\"type\":\"scatter\"},{\"hoverinfo\":\"text\",\"marker\":{\"color\":\"rgb(133,20,75)\"},\"mode\":\"lines\",\"x\":[9366.25,9366.25,9417.5,9417.5],\"xaxis\":\"x\",\"y\":[0.07335476722304332,0.1232677638472069,0.1232677638472069,0.07617418140156769],\"yaxis\":\"y\",\"type\":\"scatter\"},{\"hoverinfo\":\"text\",\"marker\":{\"color\":\"rgb(133,20,75)\"},\"mode\":\"lines\",\"x\":[9475.0,9475.0,9485.0,9485.0],\"xaxis\":\"x\",\"y\":[0.0,0.02739549947569662,0.02739549947569662,0.0],\"yaxis\":\"y\",\"type\":\"scatter\"},{\"hoverinfo\":\"text\",\"marker\":{\"color\":\"rgb(133,20,75)\"},\"mode\":\"lines\",\"x\":[9505.0,9505.0,9515.0,9515.0],\"xaxis\":\"x\",\"y\":[0.0,0.013491568041131264,0.013491568041131264,0.0],\"yaxis\":\"y\",\"type\":\"scatter\"},{\"hoverinfo\":\"text\",\"marker\":{\"color\":\"rgb(133,20,75)\"},\"mode\":\"lines\",\"x\":[9495.0,9495.0,9510.0,9510.0],\"xaxis\":\"x\",\"y\":[0.0,0.03745424276983597,0.03745424276983597,0.013491568041131264],\"yaxis\":\"y\",\"type\":\"scatter\"},{\"hoverinfo\":\"text\",\"marker\":{\"color\":\"rgb(133,20,75)\"},\"mode\":\"lines\",\"x\":[9525.0,9525.0,9535.0,9535.0],\"xaxis\":\"x\",\"y\":[0.0,0.020034210685945845,0.020034210685945845,0.0],\"yaxis\":\"y\",\"type\":\"scatter\"},{\"hoverinfo\":\"text\",\"marker\":{\"color\":\"rgb(133,20,75)\"},\"mode\":\"lines\",\"x\":[9555.0,9555.0,9565.0,9565.0],\"xaxis\":\"x\",\"y\":[0.0,0.024244566763577887,0.024244566763577887,0.0],\"yaxis\":\"y\",\"type\":\"scatter\"},{\"hoverinfo\":\"text\",\"marker\":{\"color\":\"rgb(133,20,75)\"},\"mode\":\"lines\",\"x\":[9545.0,9545.0,9560.0,9560.0],\"xaxis\":\"x\",\"y\":[0.0,0.030115337638092377,0.030115337638092377,0.024244566763577887],\"yaxis\":\"y\",\"type\":\"scatter\"},{\"hoverinfo\":\"text\",\"marker\":{\"color\":\"rgb(133,20,75)\"},\"mode\":\"lines\",\"x\":[9530.0,9530.0,9552.5,9552.5],\"xaxis\":\"x\",\"y\":[0.020034210685945845,0.05407035762447305,0.05407035762447305,0.030115337638092377],\"yaxis\":\"y\",\"type\":\"scatter\"},{\"hoverinfo\":\"text\",\"marker\":{\"color\":\"rgb(133,20,75)\"},\"mode\":\"lines\",\"x\":[9502.5,9502.5,9541.25,9541.25],\"xaxis\":\"x\",\"y\":[0.03745424276983597,0.06095032113068798,0.06095032113068798,0.05407035762447305],\"yaxis\":\"y\",\"type\":\"scatter\"},{\"hoverinfo\":\"text\",\"marker\":{\"color\":\"rgb(133,20,75)\"},\"mode\":\"lines\",\"x\":[9480.0,9480.0,9521.875,9521.875],\"xaxis\":\"x\",\"y\":[0.02739549947569662,0.06810805236499079,0.06810805236499079,0.06095032113068798],\"yaxis\":\"y\",\"type\":\"scatter\"},{\"hoverinfo\":\"text\",\"marker\":{\"color\":\"rgb(133,20,75)\"},\"mode\":\"lines\",\"x\":[9575.0,9575.0,9585.0,9585.0],\"xaxis\":\"x\",\"y\":[0.0,0.021223498042603043,0.021223498042603043,0.0],\"yaxis\":\"y\",\"type\":\"scatter\"},{\"hoverinfo\":\"text\",\"marker\":{\"color\":\"rgb(133,20,75)\"},\"mode\":\"lines\",\"x\":[9605.0,9605.0,9615.0,9615.0],\"xaxis\":\"x\",\"y\":[0.0,0.020407787643195,0.020407787643195,0.0],\"yaxis\":\"y\",\"type\":\"scatter\"},{\"hoverinfo\":\"text\",\"marker\":{\"color\":\"rgb(133,20,75)\"},\"mode\":\"lines\",\"x\":[9595.0,9595.0,9610.0,9610.0],\"xaxis\":\"x\",\"y\":[0.0,0.032702338935712214,0.032702338935712214,0.020407787643195],\"yaxis\":\"y\",\"type\":\"scatter\"},{\"hoverinfo\":\"text\",\"marker\":{\"color\":\"rgb(133,20,75)\"},\"mode\":\"lines\",\"x\":[9580.0,9580.0,9602.5,9602.5],\"xaxis\":\"x\",\"y\":[0.021223498042603043,0.03545591589088768,0.03545591589088768,0.032702338935712214],\"yaxis\":\"y\",\"type\":\"scatter\"},{\"hoverinfo\":\"text\",\"marker\":{\"color\":\"rgb(133,20,75)\"},\"mode\":\"lines\",\"x\":[9655.0,9655.0,9665.0,9665.0],\"xaxis\":\"x\",\"y\":[0.0,0.010738400359584569,0.010738400359584569,0.0],\"yaxis\":\"y\",\"type\":\"scatter\"},{\"hoverinfo\":\"text\",\"marker\":{\"color\":\"rgb(133,20,75)\"},\"mode\":\"lines\",\"x\":[9645.0,9645.0,9660.0,9660.0],\"xaxis\":\"x\",\"y\":[0.0,0.01768383461307186,0.01768383461307186,0.010738400359584569],\"yaxis\":\"y\",\"type\":\"scatter\"},{\"hoverinfo\":\"text\",\"marker\":{\"color\":\"rgb(133,20,75)\"},\"mode\":\"lines\",\"x\":[9635.0,9635.0,9652.5,9652.5],\"xaxis\":\"x\",\"y\":[0.0,0.023721229754513875,0.023721229754513875,0.01768383461307186],\"yaxis\":\"y\",\"type\":\"scatter\"},{\"hoverinfo\":\"text\",\"marker\":{\"color\":\"rgb(133,20,75)\"},\"mode\":\"lines\",\"x\":[9625.0,9625.0,9643.75,9643.75],\"xaxis\":\"x\",\"y\":[0.0,0.03330969051577753,0.03330969051577753,0.023721229754513875],\"yaxis\":\"y\",\"type\":\"scatter\"},{\"hoverinfo\":\"text\",\"marker\":{\"color\":\"rgb(133,20,75)\"},\"mode\":\"lines\",\"x\":[9685.0,9685.0,9695.0,9695.0],\"xaxis\":\"x\",\"y\":[0.0,0.01931630928961411,0.01931630928961411,0.0],\"yaxis\":\"y\",\"type\":\"scatter\"},{\"hoverinfo\":\"text\",\"marker\":{\"color\":\"rgb(133,20,75)\"},\"mode\":\"lines\",\"x\":[9675.0,9675.0,9690.0,9690.0],\"xaxis\":\"x\",\"y\":[0.0,0.03506960366630667,0.03506960366630667,0.01931630928961411],\"yaxis\":\"y\",\"type\":\"scatter\"},{\"hoverinfo\":\"text\",\"marker\":{\"color\":\"rgb(133,20,75)\"},\"mode\":\"lines\",\"x\":[9705.0,9705.0,9715.0,9715.0],\"xaxis\":\"x\",\"y\":[0.0,0.012959785883287353,0.012959785883287353,0.0],\"yaxis\":\"y\",\"type\":\"scatter\"},{\"hoverinfo\":\"text\",\"marker\":{\"color\":\"rgb(133,20,75)\"},\"mode\":\"lines\",\"x\":[9745.0,9745.0,9755.0,9755.0],\"xaxis\":\"x\",\"y\":[0.0,0.014068155274119748,0.014068155274119748,0.0],\"yaxis\":\"y\",\"type\":\"scatter\"},{\"hoverinfo\":\"text\",\"marker\":{\"color\":\"rgb(133,20,75)\"},\"mode\":\"lines\",\"x\":[9735.0,9735.0,9750.0,9750.0],\"xaxis\":\"x\",\"y\":[0.0,0.024066884470153583,0.024066884470153583,0.014068155274119748],\"yaxis\":\"y\",\"type\":\"scatter\"},{\"hoverinfo\":\"text\",\"marker\":{\"color\":\"rgb(133,20,75)\"},\"mode\":\"lines\",\"x\":[9725.0,9725.0,9742.5,9742.5],\"xaxis\":\"x\",\"y\":[0.0,0.03542709811190215,0.03542709811190215,0.024066884470153583],\"yaxis\":\"y\",\"type\":\"scatter\"},{\"hoverinfo\":\"text\",\"marker\":{\"color\":\"rgb(133,20,75)\"},\"mode\":\"lines\",\"x\":[9710.0,9710.0,9733.75,9733.75],\"xaxis\":\"x\",\"y\":[0.012959785883287353,0.04300990012575117,0.04300990012575117,0.03542709811190215],\"yaxis\":\"y\",\"type\":\"scatter\"},{\"hoverinfo\":\"text\",\"marker\":{\"color\":\"rgb(133,20,75)\"},\"mode\":\"lines\",\"x\":[9682.5,9682.5,9721.875,9721.875],\"xaxis\":\"x\",\"y\":[0.03506960366630667,0.049735546154320874,0.049735546154320874,0.04300990012575117],\"yaxis\":\"y\",\"type\":\"scatter\"},{\"hoverinfo\":\"text\",\"marker\":{\"color\":\"rgb(133,20,75)\"},\"mode\":\"lines\",\"x\":[9634.375,9634.375,9702.1875,9702.1875],\"xaxis\":\"x\",\"y\":[0.03330969051577753,0.07166776212121592,0.07166776212121592,0.049735546154320874],\"yaxis\":\"y\",\"type\":\"scatter\"},{\"hoverinfo\":\"text\",\"marker\":{\"color\":\"rgb(133,20,75)\"},\"mode\":\"lines\",\"x\":[9591.25,9591.25,9668.28125,9668.28125],\"xaxis\":\"x\",\"y\":[0.03545591589088768,0.081177914609145,0.081177914609145,0.07166776212121592],\"yaxis\":\"y\",\"type\":\"scatter\"},{\"hoverinfo\":\"text\",\"marker\":{\"color\":\"rgb(133,20,75)\"},\"mode\":\"lines\",\"x\":[9500.9375,9500.9375,9629.765625,9629.765625],\"xaxis\":\"x\",\"y\":[0.06810805236499079,0.09923447517884344,0.09923447517884344,0.081177914609145],\"yaxis\":\"y\",\"type\":\"scatter\"},{\"hoverinfo\":\"text\",\"marker\":{\"color\":\"rgb(133,20,75)\"},\"mode\":\"lines\",\"x\":[9765.0,9765.0,9775.0,9775.0],\"xaxis\":\"x\",\"y\":[0.0,0.03975293975382874,0.03975293975382874,0.0],\"yaxis\":\"y\",\"type\":\"scatter\"},{\"hoverinfo\":\"text\",\"marker\":{\"color\":\"rgb(133,20,75)\"},\"mode\":\"lines\",\"x\":[9785.0,9785.0,9795.0,9795.0],\"xaxis\":\"x\",\"y\":[0.0,0.028736119320320747,0.028736119320320747,0.0],\"yaxis\":\"y\",\"type\":\"scatter\"},{\"hoverinfo\":\"text\",\"marker\":{\"color\":\"rgb(133,20,75)\"},\"mode\":\"lines\",\"x\":[9815.0,9815.0,9825.0,9825.0],\"xaxis\":\"x\",\"y\":[0.0,0.02100373535892384,0.02100373535892384,0.0],\"yaxis\":\"y\",\"type\":\"scatter\"},{\"hoverinfo\":\"text\",\"marker\":{\"color\":\"rgb(133,20,75)\"},\"mode\":\"lines\",\"x\":[9805.0,9805.0,9820.0,9820.0],\"xaxis\":\"x\",\"y\":[0.0,0.03444311486758935,0.03444311486758935,0.02100373535892384],\"yaxis\":\"y\",\"type\":\"scatter\"},{\"hoverinfo\":\"text\",\"marker\":{\"color\":\"rgb(133,20,75)\"},\"mode\":\"lines\",\"x\":[9790.0,9790.0,9812.5,9812.5],\"xaxis\":\"x\",\"y\":[0.028736119320320747,0.04487077477790608,0.04487077477790608,0.03444311486758935],\"yaxis\":\"y\",\"type\":\"scatter\"},{\"hoverinfo\":\"text\",\"marker\":{\"color\":\"rgb(133,20,75)\"},\"mode\":\"lines\",\"x\":[9770.0,9770.0,9801.25,9801.25],\"xaxis\":\"x\",\"y\":[0.03975293975382874,0.06761059016090869,0.06761059016090869,0.04487077477790608],\"yaxis\":\"y\",\"type\":\"scatter\"},{\"hoverinfo\":\"text\",\"marker\":{\"color\":\"rgb(133,20,75)\"},\"mode\":\"lines\",\"x\":[9835.0,9835.0,9845.0,9845.0],\"xaxis\":\"x\",\"y\":[0.0,0.041678358625336476,0.041678358625336476,0.0],\"yaxis\":\"y\",\"type\":\"scatter\"},{\"hoverinfo\":\"text\",\"marker\":{\"color\":\"rgb(133,20,75)\"},\"mode\":\"lines\",\"x\":[9865.0,9865.0,9875.0,9875.0],\"xaxis\":\"x\",\"y\":[0.0,0.014777165763823832,0.014777165763823832,0.0],\"yaxis\":\"y\",\"type\":\"scatter\"},{\"hoverinfo\":\"text\",\"marker\":{\"color\":\"rgb(133,20,75)\"},\"mode\":\"lines\",\"x\":[9855.0,9855.0,9870.0,9870.0],\"xaxis\":\"x\",\"y\":[0.0,0.035774481800245915,0.035774481800245915,0.014777165763823832],\"yaxis\":\"y\",\"type\":\"scatter\"},{\"hoverinfo\":\"text\",\"marker\":{\"color\":\"rgb(133,20,75)\"},\"mode\":\"lines\",\"x\":[9885.0,9885.0,9895.0,9895.0],\"xaxis\":\"x\",\"y\":[0.0,0.05014482726155605,0.05014482726155605,0.0],\"yaxis\":\"y\",\"type\":\"scatter\"},{\"hoverinfo\":\"text\",\"marker\":{\"color\":\"rgb(133,20,75)\"},\"mode\":\"lines\",\"x\":[9862.5,9862.5,9890.0,9890.0],\"xaxis\":\"x\",\"y\":[0.035774481800245915,0.056453073057706395,0.056453073057706395,0.05014482726155605],\"yaxis\":\"y\",\"type\":\"scatter\"},{\"hoverinfo\":\"text\",\"marker\":{\"color\":\"rgb(133,20,75)\"},\"mode\":\"lines\",\"x\":[9840.0,9840.0,9876.25,9876.25],\"xaxis\":\"x\",\"y\":[0.041678358625336476,0.07648657952492942,0.07648657952492942,0.056453073057706395],\"yaxis\":\"y\",\"type\":\"scatter\"},{\"hoverinfo\":\"text\",\"marker\":{\"color\":\"rgb(133,20,75)\"},\"mode\":\"lines\",\"x\":[9785.625,9785.625,9858.125,9858.125],\"xaxis\":\"x\",\"y\":[0.06761059016090869,0.09549040576939848,0.09549040576939848,0.07648657952492942],\"yaxis\":\"y\",\"type\":\"scatter\"},{\"hoverinfo\":\"text\",\"marker\":{\"color\":\"rgb(133,20,75)\"},\"mode\":\"lines\",\"x\":[9915.0,9915.0,9925.0,9925.0],\"xaxis\":\"x\",\"y\":[0.0,0.02565603635594801,0.02565603635594801,0.0],\"yaxis\":\"y\",\"type\":\"scatter\"},{\"hoverinfo\":\"text\",\"marker\":{\"color\":\"rgb(133,20,75)\"},\"mode\":\"lines\",\"x\":[9905.0,9905.0,9920.0,9920.0],\"xaxis\":\"x\",\"y\":[0.0,0.07241230043456931,0.07241230043456931,0.02565603635594801],\"yaxis\":\"y\",\"type\":\"scatter\"},{\"hoverinfo\":\"text\",\"marker\":{\"color\":\"rgb(133,20,75)\"},\"mode\":\"lines\",\"x\":[9945.0,9945.0,9955.0,9955.0],\"xaxis\":\"x\",\"y\":[0.0,0.025451299111387046,0.025451299111387046,0.0],\"yaxis\":\"y\",\"type\":\"scatter\"},{\"hoverinfo\":\"text\",\"marker\":{\"color\":\"rgb(133,20,75)\"},\"mode\":\"lines\",\"x\":[9935.0,9935.0,9950.0,9950.0],\"xaxis\":\"x\",\"y\":[0.0,0.05283818491377996,0.05283818491377996,0.025451299111387046],\"yaxis\":\"y\",\"type\":\"scatter\"},{\"hoverinfo\":\"text\",\"marker\":{\"color\":\"rgb(133,20,75)\"},\"mode\":\"lines\",\"x\":[9985.0,9985.0,9995.0,9995.0],\"xaxis\":\"x\",\"y\":[0.0,0.030466093988614242,0.030466093988614242,0.0],\"yaxis\":\"y\",\"type\":\"scatter\"},{\"hoverinfo\":\"text\",\"marker\":{\"color\":\"rgb(133,20,75)\"},\"mode\":\"lines\",\"x\":[9975.0,9975.0,9990.0,9990.0],\"xaxis\":\"x\",\"y\":[0.0,0.038227827127753605,0.038227827127753605,0.030466093988614242],\"yaxis\":\"y\",\"type\":\"scatter\"},{\"hoverinfo\":\"text\",\"marker\":{\"color\":\"rgb(133,20,75)\"},\"mode\":\"lines\",\"x\":[9965.0,9965.0,9982.5,9982.5],\"xaxis\":\"x\",\"y\":[0.0,0.058412884240837765,0.058412884240837765,0.038227827127753605],\"yaxis\":\"y\",\"type\":\"scatter\"},{\"hoverinfo\":\"text\",\"marker\":{\"color\":\"rgb(133,20,75)\"},\"mode\":\"lines\",\"x\":[9942.5,9942.5,9973.75,9973.75],\"xaxis\":\"x\",\"y\":[0.05283818491377996,0.0863836949157126,0.0863836949157126,0.058412884240837765],\"yaxis\":\"y\",\"type\":\"scatter\"},{\"hoverinfo\":\"text\",\"marker\":{\"color\":\"rgb(133,20,75)\"},\"mode\":\"lines\",\"x\":[9912.5,9912.5,9958.125,9958.125],\"xaxis\":\"x\",\"y\":[0.07241230043456931,0.11401583163620256,0.11401583163620256,0.0863836949157126],\"yaxis\":\"y\",\"type\":\"scatter\"},{\"hoverinfo\":\"text\",\"marker\":{\"color\":\"rgb(133,20,75)\"},\"mode\":\"lines\",\"x\":[9821.875,9821.875,9935.3125,9935.3125],\"xaxis\":\"x\",\"y\":[0.09549040576939848,0.12237352652318827,0.12237352652318827,0.11401583163620256],\"yaxis\":\"y\",\"type\":\"scatter\"},{\"hoverinfo\":\"text\",\"marker\":{\"color\":\"rgb(133,20,75)\"},\"mode\":\"lines\",\"x\":[9565.3515625,9565.3515625,9878.59375,9878.59375],\"xaxis\":\"x\",\"y\":[0.09923447517884344,0.1492016042703056,0.1492016042703056,0.12237352652318827],\"yaxis\":\"y\",\"type\":\"scatter\"},{\"hoverinfo\":\"text\",\"marker\":{\"color\":\"rgb(133,20,75)\"},\"mode\":\"lines\",\"x\":[9391.875,9391.875,9721.97265625,9721.97265625],\"xaxis\":\"x\",\"y\":[0.1232677638472069,0.18543706303166252,0.18543706303166252,0.1492016042703056],\"yaxis\":\"y\",\"type\":\"scatter\"},{\"hoverinfo\":\"text\",\"marker\":{\"color\":\"rgb(133,20,75)\"},\"mode\":\"lines\",\"x\":[8986.66015625,8986.66015625,9556.923828125,9556.923828125],\"xaxis\":\"x\",\"y\":[0.18167289132156755,0.23691920430660585,0.23691920430660585,0.18543706303166252],\"yaxis\":\"y\",\"type\":\"scatter\"},{\"hoverinfo\":\"text\",\"marker\":{\"color\":\"rgb(133,20,75)\"},\"mode\":\"lines\",\"x\":[8406.7578125,8406.7578125,9271.7919921875,9271.7919921875],\"xaxis\":\"x\",\"y\":[0.2054560719718031,0.28753777522027374,0.28753777522027374,0.23691920430660585],\"yaxis\":\"y\",\"type\":\"scatter\"},{\"hoverinfo\":\"text\",\"marker\":{\"color\":\"rgb(133,20,75)\"},\"mode\":\"lines\",\"x\":[7641.0205078125,7641.0205078125,8839.27490234375,8839.27490234375],\"xaxis\":\"x\",\"y\":[0.28540280596375667,0.33788129093548946,0.33788129093548946,0.28753777522027374],\"yaxis\":\"y\",\"type\":\"scatter\"},{\"hoverinfo\":\"text\",\"marker\":{\"color\":\"rgb(133,20,75)\"},\"mode\":\"lines\",\"x\":[6842.265625,6842.265625,8240.147705078125,8240.147705078125],\"xaxis\":\"x\",\"y\":[0.33453556644494686,0.4737785987001957,0.4737785987001957,0.33788129093548946],\"yaxis\":\"y\",\"type\":\"scatter\"},{\"hoverinfo\":\"text\",\"marker\":{\"color\":\"rgb(133,20,75)\"},\"mode\":\"lines\",\"x\":[5521.5771484375,5521.5771484375,7541.2066650390625,7541.2066650390625],\"xaxis\":\"x\",\"y\":[0.47194138310411754,0.5314720416492301,0.5314720416492301,0.4737785987001957],\"yaxis\":\"y\",\"type\":\"scatter\"},{\"hoverinfo\":\"text\",\"marker\":{\"color\":\"rgb(133,20,75)\"},\"mode\":\"lines\",\"x\":[2760.7476806640625,2760.7476806640625,6531.391906738281,6531.391906738281],\"xaxis\":\"x\",\"y\":[0.4460362702389032,0.5632855760390207,0.5632855760390207,0.5314720416492301],\"yaxis\":\"y\",\"type\":\"scatter\"},{\"hoverinfo\":\"text\",\"marker\":{\"color\":\"rgb(0,116,217)\"},\"mode\":\"lines\",\"x\":[601.14013671875,601.14013671875,4646.069793701172,4646.069793701172],\"xaxis\":\"x\",\"y\":[0.5522461454992915,0.6399222930287002,0.6399222930287002,0.5632855760390207],\"yaxis\":\"y\",\"type\":\"scatter\"},{\"hoverinfo\":\"text\",\"marker\":{\"color\":\"rgb(0,116,217)\"},\"mode\":\"lines\",\"x\":[159.0625,159.0625,2623.604965209961,2623.604965209961],\"xaxis\":\"x\",\"y\":[0.33872411775734945,0.6605600438813265,0.6605600438813265,0.6399222930287002],\"yaxis\":\"y\",\"type\":\"scatter\"},{\"hoverinfo\":\"text\",\"marker\":{\"color\":\"rgb(0,116,217)\"},\"mode\":\"lines\",\"x\":[47.34375,47.34375,1391.3337326049805,1391.3337326049805],\"xaxis\":\"x\",\"y\":[0.29542185439691643,0.8233398193211282,0.8233398193211282,0.6605600438813265],\"yaxis\":\"y\",\"type\":\"scatter\"}],                        {\"autosize\":false,\"height\":1000,\"hovermode\":\"closest\",\"showlegend\":false,\"width\":1300,\"xaxis\":{\"mirror\":\"allticks\",\"rangemode\":\"tozero\",\"showgrid\":false,\"showline\":true,\"showticklabels\":true,\"tickmode\":\"array\",\"ticks\":\"outside\",\"ticktext\":[\"315\",\"95\",\"655\",\"832\",\"844\",\"267\",\"757\",\"841\",\"751\",\"442\",\"126\",\"585\",\"448\",\"285\",\"613\",\"510\",\"769\",\"500\",\"337\",\"294\",\"678\",\"427\",\"926\",\"324\",\"715\",\"603\",\"979\",\"961\",\"883\",\"444\",\"554\",\"31\",\"709\",\"257\",\"570\",\"325\",\"773\",\"333\",\"446\",\"644\",\"279\",\"889\",\"229\",\"408\",\"679\",\"521\",\"790\",\"284\",\"726\",\"461\",\"604\",\"124\",\"82\",\"484\",\"317\",\"63\",\"467\",\"292\",\"391\",\"140\",\"167\",\"8\",\"375\",\"39\",\"439\",\"465\",\"256\",\"266\",\"96\",\"127\",\"782\",\"322\",\"523\",\"289\",\"480\",\"578\",\"354\",\"817\",\"215\",\"661\",\"194\",\"14\",\"508\",\"44\",\"314\",\"818\",\"306\",\"722\",\"74\",\"91\",\"263\",\"838\",\"86\",\"345\",\"254\",\"379\",\"647\",\"45\",\"623\",\"944\",\"351\",\"829\",\"147\",\"609\",\"55\",\"654\",\"591\",\"51\",\"542\",\"536\",\"522\",\"836\",\"468\",\"970\",\"823\",\"859\",\"76\",\"475\",\"18\",\"23\",\"350\",\"682\",\"116\",\"787\",\"192\",\"168\",\"503\",\"663\",\"71\",\"355\",\"352\",\"415\",\"953\",\"471\",\"626\",\"723\",\"335\",\"483\",\"118\",\"574\",\"710\",\"176\",\"716\",\"385\",\"117\",\"901\",\"519\",\"269\",\"776\",\"931\",\"936\",\"364\",\"607\",\"719\",\"903\",\"713\",\"994\",\"77\",\"270\",\"821\",\"90\",\"765\",\"94\",\"502\",\"894\",\"830\",\"206\",\"816\",\"463\",\"845\",\"181\",\"219\",\"807\",\"458\",\"797\",\"328\",\"740\",\"803\",\"299\",\"673\",\"362\",\"482\",\"404\",\"497\",\"155\",\"296\",\"212\",\"368\",\"273\",\"275\",\"698\",\"198\",\"534\",\"111\",\"847\",\"913\",\"99\",\"750\",\"831\",\"992\",\"372\",\"712\",\"512\",\"341\",\"910\",\"576\",\"876\",\"131\",\"999\",\"293\",\"608\",\"515\",\"800\",\"139\",\"756\",\"862\",\"54\",\"142\",\"477\",\"195\",\"525\",\"887\",\"384\",\"820\",\"366\",\"75\",\"213\",\"538\",\"528\",\"676\",\"295\",\"21\",\"627\",\"966\",\"796\",\"312\",\"357\",\"232\",\"157\",\"394\",\"381\",\"326\",\"41\",\"599\",\"711\",\"61\",\"80\",\"878\",\"918\",\"592\",\"339\",\"641\",\"264\",\"731\",\"986\",\"774\",\"331\",\"449\",\"505\",\"575\",\"420\",\"589\",\"583\",\"758\",\"871\",\"28\",\"220\",\"244\",\"496\",\"83\",\"766\",\"535\",\"202\",\"648\",\"283\",\"760\",\"772\",\"141\",\"162\",\"115\",\"453\",\"340\",\"615\",\"951\",\"779\",\"241\",\"499\",\"9\",\"899\",\"930\",\"261\",\"488\",\"612\",\"567\",\"721\",\"849\",\"248\",\"452\",\"840\",\"190\",\"590\",\"596\",\"988\",\"426\",\"989\",\"866\",\"703\",\"867\",\"489\",\"798\",\"32\",\"163\",\"941\",\"64\",\"450\",\"646\",\"62\",\"594\",\"746\",\"434\",\"748\",\"184\",\"353\",\"621\",\"981\",\"19\",\"781\",\"43\",\"309\",\"59\",\"909\",\"634\",\"965\",\"421\",\"650\",\"191\",\"233\",\"122\",\"877\",\"78\",\"320\",\"828\",\"974\",\"551\",\"791\",\"727\",\"991\",\"457\",\"920\",\"696\",\"777\",\"827\",\"144\",\"214\",\"252\",\"479\",\"411\",\"937\",\"37\",\"947\",\"30\",\"419\",\"403\",\"870\",\"27\",\"718\",\"166\",\"517\",\"553\",\"699\",\"886\",\"417\",\"472\",\"597\",\"630\",\"504\",\"290\",\"706\",\"911\",\"50\",\"53\",\"897\",\"795\",\"16\",\"524\",\"196\",\"3\",\"690\",\"692\",\"763\",\"606\",\"669\",\"209\",\"148\",\"425\",\"98\",\"745\",\"747\",\"145\",\"780\",\"103\",\"222\",\"481\",\"197\",\"265\",\"704\",\"492\",\"506\",\"239\",\"573\",\"652\",\"741\",\"104\",\"445\",\"183\",\"401\",\"346\",\"459\",\"743\",\"390\",\"128\",\"857\",\"304\",\"259\",\"513\",\"658\",\"865\",\"276\",\"660\",\"347\",\"964\",\"203\",\"406\",\"664\",\"837\",\"896\",\"549\",\"617\",\"12\",\"460\",\"684\",\"593\",\"246\",\"441\",\"323\",\"924\",\"689\",\"271\",\"619\",\"370\",\"929\",\"217\",\"995\",\"85\",\"17\",\"982\",\"268\",\"826\",\"518\",\"744\",\"764\",\"34\",\"175\",\"708\",\"5\",\"571\",\"624\",\"902\",\"932\",\"224\",\"659\",\"968\",\"976\",\"35\",\"635\",\"376\",\"922\",\"258\",\"474\",\"204\",\"470\",\"298\",\"135\",\"595\",\"665\",\"36\",\"942\",\"174\",\"811\",\"856\",\"799\",\"921\",\"120\",\"249\",\"919\",\"156\",\"598\",\"177\",\"667\",\"700\",\"138\",\"962\",\"7\",\"311\",\"810\",\"511\",\"775\",\"955\",\"566\",\"56\",\"898\",\"6\",\"749\",\"255\",\"835\",\"874\",\"993\",\"813\",\"580\",\"125\",\"637\",\"318\",\"683\",\"22\",\"636\",\"469\",\"880\",\"225\",\"277\",\"308\",\"552\",\"957\",\"185\",\"187\",\"671\",\"625\",\"146\",\"260\",\"132\",\"802\",\"526\",\"653\",\"550\",\"728\",\"97\",\"846\",\"998\",\"359\",\"493\",\"582\",\"129\",\"824\",\"454\",\"879\",\"300\",\"645\",\"863\",\"730\",\"954\",\"303\",\"651\",\"243\",\"409\",\"369\",\"771\",\"342\",\"804\",\"230\",\"329\",\"66\",\"555\",\"973\",\"356\",\"755\",\"33\",\"959\",\"349\",\"47\",\"558\",\"443\",\"494\",\"253\",\"543\",\"725\",\"569\",\"297\",\"433\",\"245\",\"568\",\"67\",\"106\",\"46\",\"228\",\"466\",\"235\",\"967\",\"611\",\"701\",\"423\",\"464\",\"462\",\"188\",\"843\",\"121\",\"321\",\"160\",\"402\",\"161\",\"193\",\"227\",\"231\",\"378\",\"851\",\"530\",\"545\",\"199\",\"783\",\"720\",\"945\",\"984\",\"262\",\"860\",\"643\",\"662\",\"852\",\"334\",\"338\",\"234\",\"537\",\"972\",\"211\",\"539\",\"20\",\"24\",\"251\",\"73\",\"714\",\"541\",\"753\",\"864\",\"451\",\"507\",\"236\",\"68\",\"373\",\"529\",\"200\",\"579\",\"882\",\"943\",\"432\",\"516\",\"15\",\"226\",\"546\",\"218\",\"785\",\"208\",\"478\",\"392\",\"498\",\"490\",\"221\",\"291\",\"388\",\"40\",\"413\",\"985\",\"436\",\"978\",\"109\",\"238\",\"486\",\"717\",\"600\",\"247\",\"861\",\"101\",\"137\",\"429\",\"854\",\"278\",\"754\",\"88\",\"768\",\"705\",\"383\",\"618\",\"686\",\"416\",\"949\",\"491\",\"834\",\"237\",\"48\",\"908\",\"430\",\"29\",\"742\",\"223\",\"332\",\"639\",\"808\",\"855\",\"10\",\"759\",\"950\",\"875\",\"912\",\"72\",\"412\",\"400\",\"789\",\"11\",\"688\",\"57\",\"586\",\"923\",\"79\",\"610\",\"509\",\"733\",\"891\",\"387\",\"697\",\"380\",\"680\",\"150\",\"948\",\"438\",\"58\",\"514\",\"656\",\"305\",\"365\",\"520\",\"761\",\"822\",\"888\",\"681\",\"990\",\"414\",\"422\",\"164\",\"707\",\"946\",\"485\",\"670\",\"171\",\"201\",\"904\",\"431\",\"695\",\"996\",\"677\",\"971\",\"572\",\"631\",\"186\",\"649\",\"814\",\"170\",\"906\",\"602\",\"531\",\"853\",\"307\",\"605\",\"969\",\"914\",\"84\",\"556\",\"892\",\"975\",\"812\",\"60\",\"123\",\"286\",\"987\",\"343\",\"588\",\"806\",\"242\",\"374\",\"70\",\"136\",\"527\",\"4\",\"52\",\"547\",\"173\",\"487\",\"788\",\"69\",\"977\",\"398\",\"770\",\"102\",\"868\",\"87\",\"809\",\"38\",\"872\",\"940\",\"881\",\"952\",\"280\",\"114\",\"153\",\"26\",\"405\",\"792\",\"687\",\"316\",\"850\",\"916\",\"418\",\"905\",\"207\",\"100\",\"562\",\"313\",\"282\",\"501\",\"440\",\"407\",\"928\",\"672\",\"778\",\"371\",\"476\",\"250\",\"638\",\"344\",\"805\",\"963\",\"108\",\"149\",\"938\",\"533\",\"675\",\"858\",\"424\",\"893\",\"240\",\"629\",\"980\",\"336\",\"563\",\"330\",\"729\",\"581\",\"685\",\"377\",\"495\",\"752\",\"801\",\"934\",\"732\",\"825\",\"178\",\"274\",\"13\",\"92\",\"165\",\"544\",\"958\",\"601\",\"559\",\"182\",\"869\",\"281\",\"428\",\"205\",\"89\",\"119\",\"739\",\"158\",\"620\",\"367\",\"632\",\"319\",\"455\",\"767\",\"885\",\"393\",\"561\",\"668\",\"735\",\"895\",\"737\",\"997\",\"0\",\"272\",\"310\",\"557\",\"666\",\"873\",\"81\",\"179\",\"890\",\"794\",\"435\",\"657\",\"786\",\"133\",\"614\",\"288\",\"410\",\"2\",\"577\",\"358\",\"560\",\"107\",\"143\",\"702\",\"842\",\"616\",\"784\",\"532\",\"762\",\"983\",\"25\",\"674\",\"189\",\"734\",\"49\",\"724\",\"105\",\"933\",\"216\",\"622\",\"361\",\"396\",\"397\",\"386\",\"540\",\"848\",\"960\",\"363\",\"640\",\"564\",\"915\",\"360\",\"587\",\"437\",\"642\",\"42\",\"925\",\"389\",\"584\",\"927\",\"169\",\"833\",\"628\",\"65\",\"112\",\"172\",\"456\",\"93\",\"210\",\"473\",\"548\",\"738\",\"130\",\"884\",\"900\",\"301\",\"1\",\"819\",\"395\",\"907\",\"691\",\"327\",\"134\",\"382\",\"152\",\"694\",\"113\",\"180\",\"956\",\"110\",\"815\",\"159\",\"633\",\"151\",\"348\",\"736\",\"302\",\"917\",\"939\",\"154\",\"839\",\"287\",\"693\",\"793\",\"565\",\"935\",\"399\",\"447\"],\"tickvals\":[5.0,15.0,25.0,35.0,45.0,55.0,65.0,75.0,85.0,95.0,105.0,115.0,125.0,135.0,145.0,155.0,165.0,175.0,185.0,195.0,205.0,215.0,225.0,235.0,245.0,255.0,265.0,275.0,285.0,295.0,305.0,315.0,325.0,335.0,345.0,355.0,365.0,375.0,385.0,395.0,405.0,415.0,425.0,435.0,445.0,455.0,465.0,475.0,485.0,495.0,505.0,515.0,525.0,535.0,545.0,555.0,565.0,575.0,585.0,595.0,605.0,615.0,625.0,635.0,645.0,655.0,665.0,675.0,685.0,695.0,705.0,715.0,725.0,735.0,745.0,755.0,765.0,775.0,785.0,795.0,805.0,815.0,825.0,835.0,845.0,855.0,865.0,875.0,885.0,895.0,905.0,915.0,925.0,935.0,945.0,955.0,965.0,975.0,985.0,995.0,1005.0,1015.0,1025.0,1035.0,1045.0,1055.0,1065.0,1075.0,1085.0,1095.0,1105.0,1115.0,1125.0,1135.0,1145.0,1155.0,1165.0,1175.0,1185.0,1195.0,1205.0,1215.0,1225.0,1235.0,1245.0,1255.0,1265.0,1275.0,1285.0,1295.0,1305.0,1315.0,1325.0,1335.0,1345.0,1355.0,1365.0,1375.0,1385.0,1395.0,1405.0,1415.0,1425.0,1435.0,1445.0,1455.0,1465.0,1475.0,1485.0,1495.0,1505.0,1515.0,1525.0,1535.0,1545.0,1555.0,1565.0,1575.0,1585.0,1595.0,1605.0,1615.0,1625.0,1635.0,1645.0,1655.0,1665.0,1675.0,1685.0,1695.0,1705.0,1715.0,1725.0,1735.0,1745.0,1755.0,1765.0,1775.0,1785.0,1795.0,1805.0,1815.0,1825.0,1835.0,1845.0,1855.0,1865.0,1875.0,1885.0,1895.0,1905.0,1915.0,1925.0,1935.0,1945.0,1955.0,1965.0,1975.0,1985.0,1995.0,2005.0,2015.0,2025.0,2035.0,2045.0,2055.0,2065.0,2075.0,2085.0,2095.0,2105.0,2115.0,2125.0,2135.0,2145.0,2155.0,2165.0,2175.0,2185.0,2195.0,2205.0,2215.0,2225.0,2235.0,2245.0,2255.0,2265.0,2275.0,2285.0,2295.0,2305.0,2315.0,2325.0,2335.0,2345.0,2355.0,2365.0,2375.0,2385.0,2395.0,2405.0,2415.0,2425.0,2435.0,2445.0,2455.0,2465.0,2475.0,2485.0,2495.0,2505.0,2515.0,2525.0,2535.0,2545.0,2555.0,2565.0,2575.0,2585.0,2595.0,2605.0,2615.0,2625.0,2635.0,2645.0,2655.0,2665.0,2675.0,2685.0,2695.0,2705.0,2715.0,2725.0,2735.0,2745.0,2755.0,2765.0,2775.0,2785.0,2795.0,2805.0,2815.0,2825.0,2835.0,2845.0,2855.0,2865.0,2875.0,2885.0,2895.0,2905.0,2915.0,2925.0,2935.0,2945.0,2955.0,2965.0,2975.0,2985.0,2995.0,3005.0,3015.0,3025.0,3035.0,3045.0,3055.0,3065.0,3075.0,3085.0,3095.0,3105.0,3115.0,3125.0,3135.0,3145.0,3155.0,3165.0,3175.0,3185.0,3195.0,3205.0,3215.0,3225.0,3235.0,3245.0,3255.0,3265.0,3275.0,3285.0,3295.0,3305.0,3315.0,3325.0,3335.0,3345.0,3355.0,3365.0,3375.0,3385.0,3395.0,3405.0,3415.0,3425.0,3435.0,3445.0,3455.0,3465.0,3475.0,3485.0,3495.0,3505.0,3515.0,3525.0,3535.0,3545.0,3555.0,3565.0,3575.0,3585.0,3595.0,3605.0,3615.0,3625.0,3635.0,3645.0,3655.0,3665.0,3675.0,3685.0,3695.0,3705.0,3715.0,3725.0,3735.0,3745.0,3755.0,3765.0,3775.0,3785.0,3795.0,3805.0,3815.0,3825.0,3835.0,3845.0,3855.0,3865.0,3875.0,3885.0,3895.0,3905.0,3915.0,3925.0,3935.0,3945.0,3955.0,3965.0,3975.0,3985.0,3995.0,4005.0,4015.0,4025.0,4035.0,4045.0,4055.0,4065.0,4075.0,4085.0,4095.0,4105.0,4115.0,4125.0,4135.0,4145.0,4155.0,4165.0,4175.0,4185.0,4195.0,4205.0,4215.0,4225.0,4235.0,4245.0,4255.0,4265.0,4275.0,4285.0,4295.0,4305.0,4315.0,4325.0,4335.0,4345.0,4355.0,4365.0,4375.0,4385.0,4395.0,4405.0,4415.0,4425.0,4435.0,4445.0,4455.0,4465.0,4475.0,4485.0,4495.0,4505.0,4515.0,4525.0,4535.0,4545.0,4555.0,4565.0,4575.0,4585.0,4595.0,4605.0,4615.0,4625.0,4635.0,4645.0,4655.0,4665.0,4675.0,4685.0,4695.0,4705.0,4715.0,4725.0,4735.0,4745.0,4755.0,4765.0,4775.0,4785.0,4795.0,4805.0,4815.0,4825.0,4835.0,4845.0,4855.0,4865.0,4875.0,4885.0,4895.0,4905.0,4915.0,4925.0,4935.0,4945.0,4955.0,4965.0,4975.0,4985.0,4995.0,5005.0,5015.0,5025.0,5035.0,5045.0,5055.0,5065.0,5075.0,5085.0,5095.0,5105.0,5115.0,5125.0,5135.0,5145.0,5155.0,5165.0,5175.0,5185.0,5195.0,5205.0,5215.0,5225.0,5235.0,5245.0,5255.0,5265.0,5275.0,5285.0,5295.0,5305.0,5315.0,5325.0,5335.0,5345.0,5355.0,5365.0,5375.0,5385.0,5395.0,5405.0,5415.0,5425.0,5435.0,5445.0,5455.0,5465.0,5475.0,5485.0,5495.0,5505.0,5515.0,5525.0,5535.0,5545.0,5555.0,5565.0,5575.0,5585.0,5595.0,5605.0,5615.0,5625.0,5635.0,5645.0,5655.0,5665.0,5675.0,5685.0,5695.0,5705.0,5715.0,5725.0,5735.0,5745.0,5755.0,5765.0,5775.0,5785.0,5795.0,5805.0,5815.0,5825.0,5835.0,5845.0,5855.0,5865.0,5875.0,5885.0,5895.0,5905.0,5915.0,5925.0,5935.0,5945.0,5955.0,5965.0,5975.0,5985.0,5995.0,6005.0,6015.0,6025.0,6035.0,6045.0,6055.0,6065.0,6075.0,6085.0,6095.0,6105.0,6115.0,6125.0,6135.0,6145.0,6155.0,6165.0,6175.0,6185.0,6195.0,6205.0,6215.0,6225.0,6235.0,6245.0,6255.0,6265.0,6275.0,6285.0,6295.0,6305.0,6315.0,6325.0,6335.0,6345.0,6355.0,6365.0,6375.0,6385.0,6395.0,6405.0,6415.0,6425.0,6435.0,6445.0,6455.0,6465.0,6475.0,6485.0,6495.0,6505.0,6515.0,6525.0,6535.0,6545.0,6555.0,6565.0,6575.0,6585.0,6595.0,6605.0,6615.0,6625.0,6635.0,6645.0,6655.0,6665.0,6675.0,6685.0,6695.0,6705.0,6715.0,6725.0,6735.0,6745.0,6755.0,6765.0,6775.0,6785.0,6795.0,6805.0,6815.0,6825.0,6835.0,6845.0,6855.0,6865.0,6875.0,6885.0,6895.0,6905.0,6915.0,6925.0,6935.0,6945.0,6955.0,6965.0,6975.0,6985.0,6995.0,7005.0,7015.0,7025.0,7035.0,7045.0,7055.0,7065.0,7075.0,7085.0,7095.0,7105.0,7115.0,7125.0,7135.0,7145.0,7155.0,7165.0,7175.0,7185.0,7195.0,7205.0,7215.0,7225.0,7235.0,7245.0,7255.0,7265.0,7275.0,7285.0,7295.0,7305.0,7315.0,7325.0,7335.0,7345.0,7355.0,7365.0,7375.0,7385.0,7395.0,7405.0,7415.0,7425.0,7435.0,7445.0,7455.0,7465.0,7475.0,7485.0,7495.0,7505.0,7515.0,7525.0,7535.0,7545.0,7555.0,7565.0,7575.0,7585.0,7595.0,7605.0,7615.0,7625.0,7635.0,7645.0,7655.0,7665.0,7675.0,7685.0,7695.0,7705.0,7715.0,7725.0,7735.0,7745.0,7755.0,7765.0,7775.0,7785.0,7795.0,7805.0,7815.0,7825.0,7835.0,7845.0,7855.0,7865.0,7875.0,7885.0,7895.0,7905.0,7915.0,7925.0,7935.0,7945.0,7955.0,7965.0,7975.0,7985.0,7995.0,8005.0,8015.0,8025.0,8035.0,8045.0,8055.0,8065.0,8075.0,8085.0,8095.0,8105.0,8115.0,8125.0,8135.0,8145.0,8155.0,8165.0,8175.0,8185.0,8195.0,8205.0,8215.0,8225.0,8235.0,8245.0,8255.0,8265.0,8275.0,8285.0,8295.0,8305.0,8315.0,8325.0,8335.0,8345.0,8355.0,8365.0,8375.0,8385.0,8395.0,8405.0,8415.0,8425.0,8435.0,8445.0,8455.0,8465.0,8475.0,8485.0,8495.0,8505.0,8515.0,8525.0,8535.0,8545.0,8555.0,8565.0,8575.0,8585.0,8595.0,8605.0,8615.0,8625.0,8635.0,8645.0,8655.0,8665.0,8675.0,8685.0,8695.0,8705.0,8715.0,8725.0,8735.0,8745.0,8755.0,8765.0,8775.0,8785.0,8795.0,8805.0,8815.0,8825.0,8835.0,8845.0,8855.0,8865.0,8875.0,8885.0,8895.0,8905.0,8915.0,8925.0,8935.0,8945.0,8955.0,8965.0,8975.0,8985.0,8995.0,9005.0,9015.0,9025.0,9035.0,9045.0,9055.0,9065.0,9075.0,9085.0,9095.0,9105.0,9115.0,9125.0,9135.0,9145.0,9155.0,9165.0,9175.0,9185.0,9195.0,9205.0,9215.0,9225.0,9235.0,9245.0,9255.0,9265.0,9275.0,9285.0,9295.0,9305.0,9315.0,9325.0,9335.0,9345.0,9355.0,9365.0,9375.0,9385.0,9395.0,9405.0,9415.0,9425.0,9435.0,9445.0,9455.0,9465.0,9475.0,9485.0,9495.0,9505.0,9515.0,9525.0,9535.0,9545.0,9555.0,9565.0,9575.0,9585.0,9595.0,9605.0,9615.0,9625.0,9635.0,9645.0,9655.0,9665.0,9675.0,9685.0,9695.0,9705.0,9715.0,9725.0,9735.0,9745.0,9755.0,9765.0,9775.0,9785.0,9795.0,9805.0,9815.0,9825.0,9835.0,9845.0,9855.0,9865.0,9875.0,9885.0,9895.0,9905.0,9915.0,9925.0,9935.0,9945.0,9955.0,9965.0,9975.0,9985.0,9995.0],\"type\":\"linear\",\"zeroline\":false},\"yaxis\":{\"mirror\":\"allticks\",\"rangemode\":\"tozero\",\"showgrid\":false,\"showline\":true,\"showticklabels\":true,\"ticks\":\"outside\",\"type\":\"linear\",\"zeroline\":false},\"template\":{\"data\":{\"histogram2dcontour\":[{\"type\":\"histogram2dcontour\",\"colorbar\":{\"outlinewidth\":0,\"ticks\":\"\"},\"colorscale\":[[0.0,\"#0d0887\"],[0.1111111111111111,\"#46039f\"],[0.2222222222222222,\"#7201a8\"],[0.3333333333333333,\"#9c179e\"],[0.4444444444444444,\"#bd3786\"],[0.5555555555555556,\"#d8576b\"],[0.6666666666666666,\"#ed7953\"],[0.7777777777777778,\"#fb9f3a\"],[0.8888888888888888,\"#fdca26\"],[1.0,\"#f0f921\"]]}],\"choropleth\":[{\"type\":\"choropleth\",\"colorbar\":{\"outlinewidth\":0,\"ticks\":\"\"}}],\"histogram2d\":[{\"type\":\"histogram2d\",\"colorbar\":{\"outlinewidth\":0,\"ticks\":\"\"},\"colorscale\":[[0.0,\"#0d0887\"],[0.1111111111111111,\"#46039f\"],[0.2222222222222222,\"#7201a8\"],[0.3333333333333333,\"#9c179e\"],[0.4444444444444444,\"#bd3786\"],[0.5555555555555556,\"#d8576b\"],[0.6666666666666666,\"#ed7953\"],[0.7777777777777778,\"#fb9f3a\"],[0.8888888888888888,\"#fdca26\"],[1.0,\"#f0f921\"]]}],\"heatmap\":[{\"type\":\"heatmap\",\"colorbar\":{\"outlinewidth\":0,\"ticks\":\"\"},\"colorscale\":[[0.0,\"#0d0887\"],[0.1111111111111111,\"#46039f\"],[0.2222222222222222,\"#7201a8\"],[0.3333333333333333,\"#9c179e\"],[0.4444444444444444,\"#bd3786\"],[0.5555555555555556,\"#d8576b\"],[0.6666666666666666,\"#ed7953\"],[0.7777777777777778,\"#fb9f3a\"],[0.8888888888888888,\"#fdca26\"],[1.0,\"#f0f921\"]]}],\"heatmapgl\":[{\"type\":\"heatmapgl\",\"colorbar\":{\"outlinewidth\":0,\"ticks\":\"\"},\"colorscale\":[[0.0,\"#0d0887\"],[0.1111111111111111,\"#46039f\"],[0.2222222222222222,\"#7201a8\"],[0.3333333333333333,\"#9c179e\"],[0.4444444444444444,\"#bd3786\"],[0.5555555555555556,\"#d8576b\"],[0.6666666666666666,\"#ed7953\"],[0.7777777777777778,\"#fb9f3a\"],[0.8888888888888888,\"#fdca26\"],[1.0,\"#f0f921\"]]}],\"contourcarpet\":[{\"type\":\"contourcarpet\",\"colorbar\":{\"outlinewidth\":0,\"ticks\":\"\"}}],\"contour\":[{\"type\":\"contour\",\"colorbar\":{\"outlinewidth\":0,\"ticks\":\"\"},\"colorscale\":[[0.0,\"#0d0887\"],[0.1111111111111111,\"#46039f\"],[0.2222222222222222,\"#7201a8\"],[0.3333333333333333,\"#9c179e\"],[0.4444444444444444,\"#bd3786\"],[0.5555555555555556,\"#d8576b\"],[0.6666666666666666,\"#ed7953\"],[0.7777777777777778,\"#fb9f3a\"],[0.8888888888888888,\"#fdca26\"],[1.0,\"#f0f921\"]]}],\"surface\":[{\"type\":\"surface\",\"colorbar\":{\"outlinewidth\":0,\"ticks\":\"\"},\"colorscale\":[[0.0,\"#0d0887\"],[0.1111111111111111,\"#46039f\"],[0.2222222222222222,\"#7201a8\"],[0.3333333333333333,\"#9c179e\"],[0.4444444444444444,\"#bd3786\"],[0.5555555555555556,\"#d8576b\"],[0.6666666666666666,\"#ed7953\"],[0.7777777777777778,\"#fb9f3a\"],[0.8888888888888888,\"#fdca26\"],[1.0,\"#f0f921\"]]}],\"mesh3d\":[{\"type\":\"mesh3d\",\"colorbar\":{\"outlinewidth\":0,\"ticks\":\"\"}}],\"scatter\":[{\"fillpattern\":{\"fillmode\":\"overlay\",\"size\":10,\"solidity\":0.2},\"type\":\"scatter\"}],\"parcoords\":[{\"type\":\"parcoords\",\"line\":{\"colorbar\":{\"outlinewidth\":0,\"ticks\":\"\"}}}],\"scatterpolargl\":[{\"type\":\"scatterpolargl\",\"marker\":{\"colorbar\":{\"outlinewidth\":0,\"ticks\":\"\"}}}],\"bar\":[{\"error_x\":{\"color\":\"#2a3f5f\"},\"error_y\":{\"color\":\"#2a3f5f\"},\"marker\":{\"line\":{\"color\":\"#E5ECF6\",\"width\":0.5},\"pattern\":{\"fillmode\":\"overlay\",\"size\":10,\"solidity\":0.2}},\"type\":\"bar\"}],\"scattergeo\":[{\"type\":\"scattergeo\",\"marker\":{\"colorbar\":{\"outlinewidth\":0,\"ticks\":\"\"}}}],\"scatterpolar\":[{\"type\":\"scatterpolar\",\"marker\":{\"colorbar\":{\"outlinewidth\":0,\"ticks\":\"\"}}}],\"histogram\":[{\"marker\":{\"pattern\":{\"fillmode\":\"overlay\",\"size\":10,\"solidity\":0.2}},\"type\":\"histogram\"}],\"scattergl\":[{\"type\":\"scattergl\",\"marker\":{\"colorbar\":{\"outlinewidth\":0,\"ticks\":\"\"}}}],\"scatter3d\":[{\"type\":\"scatter3d\",\"line\":{\"colorbar\":{\"outlinewidth\":0,\"ticks\":\"\"}},\"marker\":{\"colorbar\":{\"outlinewidth\":0,\"ticks\":\"\"}}}],\"scattermapbox\":[{\"type\":\"scattermapbox\",\"marker\":{\"colorbar\":{\"outlinewidth\":0,\"ticks\":\"\"}}}],\"scatterternary\":[{\"type\":\"scatterternary\",\"marker\":{\"colorbar\":{\"outlinewidth\":0,\"ticks\":\"\"}}}],\"scattercarpet\":[{\"type\":\"scattercarpet\",\"marker\":{\"colorbar\":{\"outlinewidth\":0,\"ticks\":\"\"}}}],\"carpet\":[{\"aaxis\":{\"endlinecolor\":\"#2a3f5f\",\"gridcolor\":\"white\",\"linecolor\":\"white\",\"minorgridcolor\":\"white\",\"startlinecolor\":\"#2a3f5f\"},\"baxis\":{\"endlinecolor\":\"#2a3f5f\",\"gridcolor\":\"white\",\"linecolor\":\"white\",\"minorgridcolor\":\"white\",\"startlinecolor\":\"#2a3f5f\"},\"type\":\"carpet\"}],\"table\":[{\"cells\":{\"fill\":{\"color\":\"#EBF0F8\"},\"line\":{\"color\":\"white\"}},\"header\":{\"fill\":{\"color\":\"#C8D4E3\"},\"line\":{\"color\":\"white\"}},\"type\":\"table\"}],\"barpolar\":[{\"marker\":{\"line\":{\"color\":\"#E5ECF6\",\"width\":0.5},\"pattern\":{\"fillmode\":\"overlay\",\"size\":10,\"solidity\":0.2}},\"type\":\"barpolar\"}],\"pie\":[{\"automargin\":true,\"type\":\"pie\"}]},\"layout\":{\"autotypenumbers\":\"strict\",\"colorway\":[\"#636efa\",\"#EF553B\",\"#00cc96\",\"#ab63fa\",\"#FFA15A\",\"#19d3f3\",\"#FF6692\",\"#B6E880\",\"#FF97FF\",\"#FECB52\"],\"font\":{\"color\":\"#2a3f5f\"},\"hovermode\":\"closest\",\"hoverlabel\":{\"align\":\"left\"},\"paper_bgcolor\":\"white\",\"plot_bgcolor\":\"#E5ECF6\",\"polar\":{\"bgcolor\":\"#E5ECF6\",\"angularaxis\":{\"gridcolor\":\"white\",\"linecolor\":\"white\",\"ticks\":\"\"},\"radialaxis\":{\"gridcolor\":\"white\",\"linecolor\":\"white\",\"ticks\":\"\"}},\"ternary\":{\"bgcolor\":\"#E5ECF6\",\"aaxis\":{\"gridcolor\":\"white\",\"linecolor\":\"white\",\"ticks\":\"\"},\"baxis\":{\"gridcolor\":\"white\",\"linecolor\":\"white\",\"ticks\":\"\"},\"caxis\":{\"gridcolor\":\"white\",\"linecolor\":\"white\",\"ticks\":\"\"}},\"coloraxis\":{\"colorbar\":{\"outlinewidth\":0,\"ticks\":\"\"}},\"colorscale\":{\"sequential\":[[0.0,\"#0d0887\"],[0.1111111111111111,\"#46039f\"],[0.2222222222222222,\"#7201a8\"],[0.3333333333333333,\"#9c179e\"],[0.4444444444444444,\"#bd3786\"],[0.5555555555555556,\"#d8576b\"],[0.6666666666666666,\"#ed7953\"],[0.7777777777777778,\"#fb9f3a\"],[0.8888888888888888,\"#fdca26\"],[1.0,\"#f0f921\"]],\"sequentialminus\":[[0.0,\"#0d0887\"],[0.1111111111111111,\"#46039f\"],[0.2222222222222222,\"#7201a8\"],[0.3333333333333333,\"#9c179e\"],[0.4444444444444444,\"#bd3786\"],[0.5555555555555556,\"#d8576b\"],[0.6666666666666666,\"#ed7953\"],[0.7777777777777778,\"#fb9f3a\"],[0.8888888888888888,\"#fdca26\"],[1.0,\"#f0f921\"]],\"diverging\":[[0,\"#8e0152\"],[0.1,\"#c51b7d\"],[0.2,\"#de77ae\"],[0.3,\"#f1b6da\"],[0.4,\"#fde0ef\"],[0.5,\"#f7f7f7\"],[0.6,\"#e6f5d0\"],[0.7,\"#b8e186\"],[0.8,\"#7fbc41\"],[0.9,\"#4d9221\"],[1,\"#276419\"]]},\"xaxis\":{\"gridcolor\":\"white\",\"linecolor\":\"white\",\"ticks\":\"\",\"title\":{\"standoff\":15},\"zerolinecolor\":\"white\",\"automargin\":true,\"zerolinewidth\":2},\"yaxis\":{\"gridcolor\":\"white\",\"linecolor\":\"white\",\"ticks\":\"\",\"title\":{\"standoff\":15},\"zerolinecolor\":\"white\",\"automargin\":true,\"zerolinewidth\":2},\"scene\":{\"xaxis\":{\"backgroundcolor\":\"#E5ECF6\",\"gridcolor\":\"white\",\"linecolor\":\"white\",\"showbackground\":true,\"ticks\":\"\",\"zerolinecolor\":\"white\",\"gridwidth\":2},\"yaxis\":{\"backgroundcolor\":\"#E5ECF6\",\"gridcolor\":\"white\",\"linecolor\":\"white\",\"showbackground\":true,\"ticks\":\"\",\"zerolinecolor\":\"white\",\"gridwidth\":2},\"zaxis\":{\"backgroundcolor\":\"#E5ECF6\",\"gridcolor\":\"white\",\"linecolor\":\"white\",\"showbackground\":true,\"ticks\":\"\",\"zerolinecolor\":\"white\",\"gridwidth\":2}},\"shapedefaults\":{\"line\":{\"color\":\"#2a3f5f\"}},\"annotationdefaults\":{\"arrowcolor\":\"#2a3f5f\",\"arrowhead\":0,\"arrowwidth\":1},\"geo\":{\"bgcolor\":\"white\",\"landcolor\":\"#E5ECF6\",\"subunitcolor\":\"white\",\"showland\":true,\"showlakes\":true,\"lakecolor\":\"white\"},\"title\":{\"x\":0.05},\"mapbox\":{\"style\":\"light\"}}}},                        {\"responsive\": true}                    ).then(function(){\n                            \nvar gd = document.getElementById('d5dee962-5fae-446f-b9e8-056205a67ede');\nvar x = new MutationObserver(function (mutations, observer) {{\n        var display = window.getComputedStyle(gd).display;\n        if (!display || display === 'none') {{\n            console.log([gd, 'removed!']);\n            Plotly.purge(gd);\n            observer.disconnect();\n        }}\n}});\n\n// Listen for the removal of the full notebook cells\nvar notebookContainer = gd.closest('#notebook-container');\nif (notebookContainer) {{\n    x.observe(notebookContainer, {childList: true});\n}}\n\n// Listen for the clearing of the current output cell\nvar outputEl = gd.closest('.output');\nif (outputEl) {{\n    x.observe(outputEl, {childList: true});\n}}\n\n                        })                };                });            </script>        </div>"
     },
     "metadata": {},
     "output_type": "display_data"
    }
   ],
   "source": [
    "import plotly.figure_factory as ff\n",
    "import numpy as np\n",
    "\n",
    "fig = ff.create_dendrogram(X)\n",
    "fig.update_layout(width=1300, height=1000)\n",
    "fig.show()"
   ],
   "metadata": {
    "collapsed": false
   }
  },
  {
   "cell_type": "code",
   "execution_count": 46,
   "outputs": [],
   "source": [],
   "metadata": {
    "collapsed": false,
    "pycharm": {
     "name": "#%%\n"
    }
   }
  }
 ],
 "metadata": {
  "kernelspec": {
   "display_name": "Python 3",
   "language": "python",
   "name": "python3"
  },
  "language_info": {
   "codemirror_mode": {
    "name": "ipython",
    "version": 2
   },
   "file_extension": ".py",
   "mimetype": "text/x-python",
   "name": "python",
   "nbconvert_exporter": "python",
   "pygments_lexer": "ipython2",
   "version": "2.7.6"
  }
 },
 "nbformat": 4,
 "nbformat_minor": 0
}