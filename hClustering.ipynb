{
 "cells": [
  {
   "cell_type": "code",
   "execution_count": 1,
   "outputs": [],
   "source": [
    "import numpy as np\n",
    "import pandas as pd\n",
    "import os\n",
    "import json\n",
    "import matplotlib as mpl\n",
    "import matplotlib.pyplot as plt\n",
    "import seaborn as sns\n",
    "import missingno as msno\n",
    "from sklearn.decomposition import PCA\n",
    "from sklearn.cluster import KMeans\n",
    "\n",
    "inline_rc = dict(mpl.rcParams)"
   ],
   "metadata": {
    "collapsed": false
   }
  },
  {
   "cell_type": "markdown",
   "source": [
    "CARGAMOS LOS DATOS DE yelp_academic_dataset_review.json"
   ],
   "metadata": {
    "collapsed": false
   }
  },
  {
   "cell_type": "code",
   "execution_count": 2,
   "outputs": [
    {
     "name": "stdout",
     "output_type": "stream",
     "text": [
      "              business_id  cool                 date  funny  \\\n",
      "0  XQfwVwDr-v0ZS3_CbbE5Xw     0  2018-07-07 22:09:11      0   \n",
      "1  7ATYjTIgM3jUlt4UM3IypQ     1  2012-01-03 15:28:18      0   \n",
      "2  YjUWPpI6HXG530lwP-fb2A     0  2014-02-05 20:30:30      0   \n",
      "3  kxX2SOes4o-D3ZQBkiMRfA     1  2015-01-04 00:01:03      0   \n",
      "4  e4Vwtrqf-wpJfwesgvdgxQ     1  2017-01-14 20:54:15      0   \n",
      "\n",
      "                review_id  stars  \\\n",
      "0  KU_O5udG6zpxOg-VcAEodg    3.0   \n",
      "1  BiTunyQ73aT9WBnpR9DZGw    5.0   \n",
      "2  saUsX_uimxRlCVr67Z4Jig    3.0   \n",
      "3  AqPFMleE6RsU23_auESxiA    5.0   \n",
      "4  Sx8TMOWLNuJBWer-0pcmoA    4.0   \n",
      "\n",
      "                                                text  useful  \\\n",
      "0  If you decide to eat here, just be aware it is...       0   \n",
      "1  I've taken a lot of spin classes over the year...       1   \n",
      "2  Family diner. Had the buffet. Eclectic assortm...       0   \n",
      "3  Wow!  Yummy, different,  delicious.   Our favo...       1   \n",
      "4  Cute interior and owner (?) gave us tour of up...       1   \n",
      "\n",
      "                  user_id  \n",
      "0  mh_-eMZ6K5RLWhZyISBhwA  \n",
      "1  OyoGAe7OKpv6SyGZT5g77Q  \n",
      "2  8g_iMtfSiwikVnbP2etR0A  \n",
      "3  _7bHUi9Uuf5__HHc_Q8guQ  \n",
      "4  bcjbaE6dDog4jkNY91ncLQ  \n"
     ]
    }
   ],
   "source": [
    "reviews = []\n",
    "with open('data/yelp_academic_dataset_review.json') as fl:\n",
    "    for i, line in enumerate(fl):\n",
    "        reviews.append(json.loads(line))\n",
    "        if i + 1 >= 200000:\n",
    "            break\n",
    "\n",
    "df_review = pd.DataFrame(reviews)\n",
    "print(df_review.head())"
   ],
   "metadata": {
    "collapsed": false
   }
  },
  {
   "cell_type": "markdown",
   "source": [
    "CARGAMOS LOS DATOS DE yelp_academic_dataset_business.json"
   ],
   "metadata": {
    "collapsed": false
   }
  },
  {
   "cell_type": "code",
   "execution_count": 3,
   "outputs": [
    {
     "name": "stdout",
     "output_type": "stream",
     "text": [
      "                           address  \\\n",
      "0           1616 Chapala St, Ste 2   \n",
      "1  87 Grasso Plaza Shopping Center   \n",
      "2             5255 E Broadway Blvd   \n",
      "3                      935 Race St   \n",
      "4                    101 Walnut St   \n",
      "\n",
      "                                          attributes             business_id  \\\n",
      "0                      {'ByAppointmentOnly': 'True'}  Pns2l4eNsfO8kk83dixA6A   \n",
      "1             {'BusinessAcceptsCreditCards': 'True'}  mpf3x-BjTdTEA3yCZrAYPw   \n",
      "2  {'BikeParking': 'True', 'BusinessAcceptsCredit...  tUFrWirKiKi_TAnsVWINQQ   \n",
      "3  {'RestaurantsDelivery': 'False', 'OutdoorSeati...  MTSW4McQd7CbVtyjqoe9mw   \n",
      "4  {'BusinessAcceptsCreditCards': 'True', 'Wheelc...  mWMc6_wTdE0EUBKIGXDVfA   \n",
      "\n",
      "                                          categories           city  \\\n",
      "0  Doctors, Traditional Chinese Medicine, Naturop...  Santa Barbara   \n",
      "1  Shipping Centers, Local Services, Notaries, Ma...         Affton   \n",
      "2  Department Stores, Shopping, Fashion, Home & G...         Tucson   \n",
      "3  Restaurants, Food, Bubble Tea, Coffee & Tea, B...   Philadelphia   \n",
      "4                          Brewpubs, Breweries, Food     Green Lane   \n",
      "\n",
      "                                               hours  is_open   latitude  \\\n",
      "0                                               None        0  34.426679   \n",
      "1  {'Monday': '0:0-0:0', 'Tuesday': '8:0-18:30', ...        1  38.551126   \n",
      "2  {'Monday': '8:0-22:0', 'Tuesday': '8:0-22:0', ...        0  32.223236   \n",
      "3  {'Monday': '7:0-20:0', 'Tuesday': '7:0-20:0', ...        1  39.955505   \n",
      "4  {'Wednesday': '14:0-22:0', 'Thursday': '16:0-2...        1  40.338183   \n",
      "\n",
      "    longitude                      name postal_code  review_count  stars state  \n",
      "0 -119.711197  Abby Rappoport, LAC, CMQ       93101             7    5.0    CA  \n",
      "1  -90.335695             The UPS Store       63123            15    3.0    MO  \n",
      "2 -110.880452                    Target       85711            22    3.5    AZ  \n",
      "3  -75.155564        St Honore Pastries       19107            80    4.0    PA  \n",
      "4  -75.471659  Perkiomen Valley Brewery       18054            13    4.5    PA  \n"
     ]
    }
   ],
   "source": [
    "business = []\n",
    "with open('data/yelp_academic_dataset_business.json') as fl:\n",
    "    for i, line in enumerate(fl):\n",
    "        business.append(json.loads(line))\n",
    "\n",
    "df_business = pd.DataFrame(business)\n",
    "print(df_business.head())"
   ],
   "metadata": {
    "collapsed": false
   }
  },
  {
   "cell_type": "markdown",
   "source": [
    "ELIMINAMOS LAS COLUMNAS INNECESARIAS"
   ],
   "metadata": {
    "collapsed": false
   }
  },
  {
   "cell_type": "code",
   "execution_count": 4,
   "outputs": [],
   "source": [
    "df_review = df_review.drop([\"review_id\", \"user_id\", \"useful\", \"funny\", \"cool\", \"date\"], axis=1)\n",
    "df_business = df_business.drop([\"name\", \"address\", \"city\", \"state\", \"postal_code\", \"latitude\", \"longitude\", \"stars\", \"review_count\", \"is_open\", \"attributes\", \"hours\"], axis=1)"
   ],
   "metadata": {
    "collapsed": false
   }
  },
  {
   "cell_type": "markdown",
   "source": [
    "COMPROBAMOS"
   ],
   "metadata": {
    "collapsed": false
   }
  },
  {
   "cell_type": "code",
   "execution_count": 5,
   "outputs": [
    {
     "name": "stdout",
     "output_type": "stream",
     "text": [
      "              business_id  stars  \\\n",
      "0  XQfwVwDr-v0ZS3_CbbE5Xw    3.0   \n",
      "1  7ATYjTIgM3jUlt4UM3IypQ    5.0   \n",
      "2  YjUWPpI6HXG530lwP-fb2A    3.0   \n",
      "3  kxX2SOes4o-D3ZQBkiMRfA    5.0   \n",
      "4  e4Vwtrqf-wpJfwesgvdgxQ    4.0   \n",
      "\n",
      "                                                text  \n",
      "0  If you decide to eat here, just be aware it is...  \n",
      "1  I've taken a lot of spin classes over the year...  \n",
      "2  Family diner. Had the buffet. Eclectic assortm...  \n",
      "3  Wow!  Yummy, different,  delicious.   Our favo...  \n",
      "4  Cute interior and owner (?) gave us tour of up...  \n",
      "              business_id                                         categories\n",
      "0  Pns2l4eNsfO8kk83dixA6A  Doctors, Traditional Chinese Medicine, Naturop...\n",
      "1  mpf3x-BjTdTEA3yCZrAYPw  Shipping Centers, Local Services, Notaries, Ma...\n",
      "2  tUFrWirKiKi_TAnsVWINQQ  Department Stores, Shopping, Fashion, Home & G...\n",
      "3  MTSW4McQd7CbVtyjqoe9mw  Restaurants, Food, Bubble Tea, Coffee & Tea, B...\n",
      "4  mWMc6_wTdE0EUBKIGXDVfA                          Brewpubs, Breweries, Food\n"
     ]
    }
   ],
   "source": [
    "print(df_review.head())\n",
    "print(df_business.head())"
   ],
   "metadata": {
    "collapsed": false
   }
  },
  {
   "cell_type": "code",
   "execution_count": null,
   "outputs": [],
   "source": [],
   "metadata": {
    "collapsed": false
   }
  }
 ],
 "metadata": {
  "kernelspec": {
   "display_name": "Python 3",
   "language": "python",
   "name": "python3"
  },
  "language_info": {
   "codemirror_mode": {
    "name": "ipython",
    "version": 2
   },
   "file_extension": ".py",
   "mimetype": "text/x-python",
   "name": "python",
   "nbconvert_exporter": "python",
   "pygments_lexer": "ipython2",
   "version": "2.7.6"
  }
 },
 "nbformat": 4,
 "nbformat_minor": 0
}
